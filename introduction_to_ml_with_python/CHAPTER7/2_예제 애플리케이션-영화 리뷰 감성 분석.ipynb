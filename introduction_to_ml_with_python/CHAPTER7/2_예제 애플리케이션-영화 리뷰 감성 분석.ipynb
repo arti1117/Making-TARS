{
 "cells": [
  {
   "cell_type": "code",
   "execution_count": 1,
   "id": "0d14d462",
   "metadata": {},
   "outputs": [
    {
     "name": "stdout",
     "output_type": "stream",
     "text": [
      "--2021-08-19 06:21:48--  http://ai.stanford.edu/~amaas/data/sentiment/aclImdb_v1.tar.gz\n",
      "Resolving ai.stanford.edu (ai.stanford.edu)... 171.64.68.10\n",
      "Connecting to ai.stanford.edu (ai.stanford.edu)|171.64.68.10|:80... connected.\n",
      "HTTP request sent, awaiting response... 200 OK\n",
      "Length: 84125825 (80M) [application/x-gzip]\n",
      "Saving to: ‘Downloads/aclImdb_v1.tar.gz’\n",
      "\n",
      "aclImdb_v1.tar.gz   100%[===================>]  80.23M  2.47MB/s    in 40s     \n",
      "\n",
      "2021-08-19 06:22:29 (1.99 MB/s) - ‘Downloads/aclImdb_v1.tar.gz’ saved [84125825/84125825]\n",
      "\n"
     ]
    }
   ],
   "source": [
    "!wget -nc http://ai.stanford.edu/~amaas/data/sentiment/aclImdb_v1.tar.gz -P data\n",
    "!tar xzf data/aclImdb_v1.tar.gz --skip-old-files -C data"
   ]
  },
  {
   "cell_type": "code",
   "execution_count": 2,
   "id": "ad1dd580",
   "metadata": {},
   "outputs": [
    {
     "name": "stdout",
     "output_type": "stream",
     "text": [
      "/bin/bash: tree: command not found\r\n"
     ]
    }
   ],
   "source": [
    "!tree -dL 2 data/aclImdb"
   ]
  },
  {
   "cell_type": "code",
   "execution_count": 3,
   "id": "0b42e9e8",
   "metadata": {},
   "outputs": [
    {
     "name": "stdout",
     "output_type": "stream",
     "text": [
      "./data\n",
      "./data/aclImdb\n",
      "./data/aclImdb/train\n",
      "./data/aclImdb/train/unsup\n",
      "./data/aclImdb/train/neg\n",
      "./data/aclImdb/train/pos\n",
      "./data/aclImdb/test\n",
      "./data/aclImdb/test/neg\n",
      "./data/aclImdb/test/pos\n"
     ]
    }
   ],
   "source": [
    "!find ./data -type d"
   ]
  },
  {
   "cell_type": "code",
   "execution_count": 4,
   "id": "a3646d03",
   "metadata": {},
   "outputs": [],
   "source": [
    "!rm -r data/aclImdb/train/unsup"
   ]
  },
  {
   "cell_type": "code",
   "execution_count": 5,
   "id": "3f50a272",
   "metadata": {},
   "outputs": [
    {
     "name": "stdout",
     "output_type": "stream",
     "text": [
      "\u001b[01;34mdata/aclImdb\u001b[00m\r\n",
      "├── \u001b[01;34mtest\u001b[00m\r\n",
      "│   ├── \u001b[01;34mneg\u001b[00m\r\n",
      "│   └── \u001b[01;34mpos\u001b[00m\r\n",
      "└── \u001b[01;34mtrain\u001b[00m\r\n",
      "    ├── \u001b[01;34mneg\u001b[00m\r\n",
      "    └── \u001b[01;34mpos\u001b[00m\r\n",
      "\r\n",
      "6 directories\r\n"
     ]
    }
   ],
   "source": [
    "!tree -dL 2 data/aclImdb"
   ]
  },
  {
   "cell_type": "code",
   "execution_count": 6,
   "id": "60412caa",
   "metadata": {},
   "outputs": [
    {
     "name": "stdout",
     "output_type": "stream",
     "text": [
      "<class 'list'>\n",
      "25000\n",
      "b'There are a lot of highly talented filmmakers/actors in Germany now. None of them are associated with this \"movie\".<br /><br />Why in the world do producers actually invest money in something like this this? You could have made 10 good films with the budget of this garbage! It\\'s not entertaining to have seven grown men running around as dwarfs, pretending to be funny. What IS funny though is that the film\\'s producer (who happens to be the oldest guy of the bunch) is playing the YOUNGEST dwarf.<br /><br />The film is filled with moments that scream for captions saying \"You\\'re supposed to laugh now!\". It\\'s hard to believe that this crap\\'s supposed to be a comedy.<br /><br />Many people actually stood up and left the cinema 30 minutes into the movie. I should have done the same instead of wasting my time...<br /><br />Pain!'\n"
     ]
    }
   ],
   "source": [
    "from sklearn.datasets import load_files\n",
    "\n",
    "reviews_train = load_files('data/aclImdb/train')\n",
    "\n",
    "text_train, y_train = reviews_train.data, reviews_train.target\n",
    "\n",
    "print(type(text_train))\n",
    "print(len(text_train))\n",
    "print(text_train[3])"
   ]
  },
  {
   "cell_type": "code",
   "execution_count": 7,
   "id": "6082252c",
   "metadata": {},
   "outputs": [],
   "source": [
    "text_train = [doc.replace(b\"<br />\", b\"\") for doc in text_train]"
   ]
  },
  {
   "cell_type": "code",
   "execution_count": 8,
   "id": "e641a77b",
   "metadata": {},
   "outputs": [
    {
     "name": "stdout",
     "output_type": "stream",
     "text": [
      "b'There are a lot of highly talented filmmakers/actors in Germany now. None of them are associated with this \"movie\".Why in the world do producers actually invest money in something like this this? You could have made 10 good films with the budget of this garbage! It\\'s not entertaining to have seven grown men running around as dwarfs, pretending to be funny. What IS funny though is that the film\\'s producer (who happens to be the oldest guy of the bunch) is playing the YOUNGEST dwarf.The film is filled with moments that scream for captions saying \"You\\'re supposed to laugh now!\". It\\'s hard to believe that this crap\\'s supposed to be a comedy.Many people actually stood up and left the cinema 30 minutes into the movie. I should have done the same instead of wasting my time...Pain!'\n"
     ]
    }
   ],
   "source": [
    "print(text_train[3])"
   ]
  },
  {
   "cell_type": "code",
   "execution_count": 9,
   "id": "6c369610",
   "metadata": {},
   "outputs": [
    {
     "name": "stdout",
     "output_type": "stream",
     "text": [
      "<class 'bytes'>\n"
     ]
    }
   ],
   "source": [
    "print(type(text_train[0]))"
   ]
  },
  {
   "cell_type": "code",
   "execution_count": 10,
   "id": "767e8e55",
   "metadata": {},
   "outputs": [
    {
     "ename": "NameError",
     "evalue": "name 'np' is not defined",
     "output_type": "error",
     "traceback": [
      "\u001b[0;31m---------------------------------------------------------------------------\u001b[0m",
      "\u001b[0;31mNameError\u001b[0m                                 Traceback (most recent call last)",
      "\u001b[0;32m/tmp/ipykernel_6260/4224361294.py\u001b[0m in \u001b[0;36m<module>\u001b[0;34m\u001b[0m\n\u001b[0;32m----> 1\u001b[0;31m \u001b[0mprint\u001b[0m\u001b[0;34m(\u001b[0m\u001b[0mnp\u001b[0m\u001b[0;34m.\u001b[0m\u001b[0mbincount\u001b[0m\u001b[0;34m(\u001b[0m\u001b[0my_train\u001b[0m\u001b[0;34m)\u001b[0m\u001b[0;34m)\u001b[0m\u001b[0;34m\u001b[0m\u001b[0;34m\u001b[0m\u001b[0m\n\u001b[0m",
      "\u001b[0;31mNameError\u001b[0m: name 'np' is not defined"
     ]
    }
   ],
   "source": [
    "print(np.bincount(y_train))"
   ]
  },
  {
   "cell_type": "code",
   "execution_count": 11,
   "id": "6f4d0d72",
   "metadata": {},
   "outputs": [],
   "source": [
    "import numpy as np\n",
    "import pandas as pd\n",
    "import mglearn as mg\n",
    "import matplotlib.pyplot as plt\n",
    "from IPython.display import display"
   ]
  },
  {
   "cell_type": "code",
   "execution_count": 12,
   "id": "83b2e796",
   "metadata": {},
   "outputs": [
    {
     "name": "stdout",
     "output_type": "stream",
     "text": [
      "[12500 12500]\n"
     ]
    }
   ],
   "source": [
    "print(np.bincount(y_train))"
   ]
  },
  {
   "cell_type": "code",
   "execution_count": 13,
   "id": "82a10bf0",
   "metadata": {},
   "outputs": [
    {
     "name": "stdout",
     "output_type": "stream",
     "text": [
      "25000\n",
      "[12500 12500]\n"
     ]
    }
   ],
   "source": [
    "reviews_test = load_files('data/aclImdb/test')\n",
    "text_test, y_test = reviews_test.data, reviews_test.target\n",
    "\n",
    "print(len(text_test))\n",
    "print(np.bincount(y_test))\n",
    "\n",
    "text_test = [doc.replace(b'<br />', b'') for doc in text_test]"
   ]
  },
  {
   "cell_type": "code",
   "execution_count": null,
   "id": "bad32630",
   "metadata": {},
   "outputs": [],
   "source": []
  }
 ],
 "metadata": {
  "kernelspec": {
   "display_name": "Python 3",
   "language": "python",
   "name": "python3"
  },
  "language_info": {
   "codemirror_mode": {
    "name": "ipython",
    "version": 3
   },
   "file_extension": ".py",
   "mimetype": "text/x-python",
   "name": "python",
   "nbconvert_exporter": "python",
   "pygments_lexer": "ipython3",
   "version": "3.8.2"
  }
 },
 "nbformat": 4,
 "nbformat_minor": 5
}
