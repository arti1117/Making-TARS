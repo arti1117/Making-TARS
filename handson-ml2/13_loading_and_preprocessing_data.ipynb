{
  "nbformat": 4,
  "nbformat_minor": 0,
  "metadata": {
    "colab": {
      "provenance": [],
      "collapsed_sections": [],
      "authorship_tag": "ABX9TyNaNq47IwIjRP7O/NfwyjUU"
    },
    "kernelspec": {
      "name": "python3",
      "display_name": "Python 3"
    },
    "language_info": {
      "name": "python"
    }
  },
  "cells": [
    {
      "cell_type": "code",
      "execution_count": 1,
      "metadata": {
        "colab": {
          "base_uri": "https://localhost:8080/"
        },
        "id": "ZptMz_QwRM_6",
        "outputId": "9aed51ef-cb93-4440-dba3-a2d9f86bef71"
      },
      "outputs": [
        {
          "output_type": "stream",
          "name": "stdout",
          "text": [
            "Colab only includes TensorFlow 2.x; %tensorflow_version has no effect.\n",
            "\u001b[K     |████████████████████████████████| 2.5 MB 5.3 MB/s \n",
            "\u001b[K     |████████████████████████████████| 1.8 MB 39.7 MB/s \n",
            "\u001b[K     |████████████████████████████████| 511.7 MB 5.5 kB/s \n",
            "\u001b[K     |████████████████████████████████| 2.2 MB 45.0 MB/s \n",
            "\u001b[K     |████████████████████████████████| 19.2 MB 9.1 MB/s \n",
            "\u001b[K     |████████████████████████████████| 135 kB 14.6 MB/s \n",
            "\u001b[K     |████████████████████████████████| 206 kB 40.9 MB/s \n",
            "\u001b[K     |████████████████████████████████| 40 kB 4.3 MB/s \n",
            "\u001b[K     |████████████████████████████████| 10.9 MB 28.6 MB/s \n",
            "\u001b[K     |████████████████████████████████| 636 kB 9.8 MB/s \n",
            "\u001b[K     |████████████████████████████████| 436 kB 47.4 MB/s \n",
            "\u001b[K     |████████████████████████████████| 49 kB 4.6 MB/s \n",
            "\u001b[K     |████████████████████████████████| 135 kB 45.0 MB/s \n",
            "\u001b[K     |████████████████████████████████| 1.7 MB 45.6 MB/s \n",
            "\u001b[K     |████████████████████████████████| 1.5 MB 11.3 MB/s \n",
            "\u001b[K     |████████████████████████████████| 23.6 MB 4.0 MB/s \n",
            "\u001b[K     |████████████████████████████████| 6.6 MB 28.0 MB/s \n",
            "\u001b[K     |████████████████████████████████| 147 kB 58.0 MB/s \n",
            "\u001b[K     |████████████████████████████████| 1.3 MB 43.6 MB/s \n",
            "\u001b[K     |████████████████████████████████| 47 kB 2.6 MB/s \n",
            "\u001b[K     |████████████████████████████████| 62 kB 1.3 MB/s \n",
            "\u001b[K     |████████████████████████████████| 508 kB 41.3 MB/s \n",
            "\u001b[K     |████████████████████████████████| 151 kB 45.4 MB/s \n",
            "\u001b[K     |████████████████████████████████| 2.4 MB 47.1 MB/s \n",
            "\u001b[K     |████████████████████████████████| 270 kB 49.9 MB/s \n",
            "\u001b[K     |████████████████████████████████| 255 kB 75.4 MB/s \n",
            "\u001b[K     |████████████████████████████████| 235 kB 61.6 MB/s \n",
            "\u001b[K     |████████████████████████████████| 83 kB 1.8 MB/s \n",
            "\u001b[K     |████████████████████████████████| 180 kB 15.1 MB/s \n",
            "\u001b[K     |████████████████████████████████| 183 kB 9.5 MB/s \n",
            "\u001b[K     |████████████████████████████████| 435 kB 57.8 MB/s \n",
            "\u001b[K     |████████████████████████████████| 267 kB 62.8 MB/s \n",
            "\u001b[K     |████████████████████████████████| 119 kB 52.1 MB/s \n",
            "\u001b[K     |████████████████████████████████| 148 kB 59.2 MB/s \n",
            "\u001b[K     |████████████████████████████████| 173 kB 58.4 MB/s \n",
            "\u001b[K     |████████████████████████████████| 267 kB 56.5 MB/s \n",
            "\u001b[K     |████████████████████████████████| 54 kB 3.1 MB/s \n",
            "\u001b[K     |████████████████████████████████| 106 kB 46.4 MB/s \n",
            "\u001b[K     |████████████████████████████████| 1.0 MB 14.8 MB/s \n",
            "\u001b[K     |████████████████████████████████| 114 kB 44.6 MB/s \n",
            "\u001b[K     |████████████████████████████████| 231 kB 50.3 MB/s \n",
            "\u001b[K     |████████████████████████████████| 114 kB 49.3 MB/s \n",
            "\u001b[K     |████████████████████████████████| 114 kB 41.4 MB/s \n",
            "\u001b[K     |████████████████████████████████| 93 kB 1.9 MB/s \n",
            "\u001b[K     |████████████████████████████████| 76 kB 4.4 MB/s \n",
            "\u001b[K     |████████████████████████████████| 106 kB 42.7 MB/s \n",
            "\u001b[K     |████████████████████████████████| 107 kB 27.2 MB/s \n",
            "\u001b[K     |████████████████████████████████| 107 kB 51.6 MB/s \n",
            "\u001b[K     |████████████████████████████████| 1.6 MB 56.0 MB/s \n",
            "\u001b[K     |████████████████████████████████| 1.1 MB 46.5 MB/s \n",
            "\u001b[K     |████████████████████████████████| 5.8 MB 37.0 MB/s \n",
            "\u001b[K     |████████████████████████████████| 438 kB 79.6 MB/s \n",
            "\u001b[K     |████████████████████████████████| 51 kB 5.6 MB/s \n",
            "\u001b[K     |████████████████████████████████| 99 kB 7.9 MB/s \n",
            "\u001b[K     |████████████████████████████████| 294 kB 55.9 MB/s \n",
            "\u001b[K     |████████████████████████████████| 1.6 MB 59.6 MB/s \n",
            "\u001b[?25h  Building wheel for dill (setup.py) ... \u001b[?25l\u001b[?25hdone\n",
            "  Building wheel for google-apitools (setup.py) ... \u001b[?25l\u001b[?25hdone\n",
            "  Building wheel for pyfarmhash (setup.py) ... \u001b[?25l\u001b[?25hdone\n",
            "  Building wheel for docopt (setup.py) ... \u001b[?25l\u001b[?25hdone\n",
            "\u001b[31mERROR: pip's dependency resolver does not currently take into account all the packages that are installed. This behaviour is the source of the following dependency conflicts.\n",
            "pandas-gbq 0.13.3 requires google-cloud-bigquery[bqstorage,pandas]<2.0.0dev,>=1.11.1, but you have google-cloud-bigquery 2.34.4 which is incompatible.\u001b[0m\n",
            "패키지 호환 에러는 무시해도 괜찮습니다.\n"
          ]
        }
      ],
      "source": [
        "# 파이썬 ≥3.5 필수\n",
        "import sys\n",
        "assert sys.version_info >= (3, 5)\n",
        "\n",
        "# 사이킷런 ≥0.20 필수\n",
        "import sklearn\n",
        "assert sklearn.__version__ >= \"0.20\"\n",
        "\n",
        "try:\n",
        "    # %tensorflow_version은 코랩 명령입니다.\n",
        "    %tensorflow_version 2.x\n",
        "    %pip install -q -U tfx\n",
        "    print(\"패키지 호환 에러는 무시해도 괜찮습니다.\")\n",
        "except Exception:\n",
        "    pass\n",
        "\n",
        "# 텐서플로 ≥2.0 필수\n",
        "import tensorflow as tf\n",
        "from tensorflow import keras\n",
        "assert tf.__version__ >= \"2.0\"\n",
        "\n",
        "# 공통 모듈 임포트\n",
        "import numpy as np\n",
        "import os\n",
        "\n",
        "# 노트북 실행 결과를 동일하게 유지하기 위해\n",
        "np.random.seed(42)\n",
        "\n",
        "# 깔끔한 그래프 출력을 위해\n",
        "%matplotlib inline\n",
        "import matplotlib as mpl\n",
        "import matplotlib.pyplot as plt\n",
        "mpl.rc('axes', labelsize=14)\n",
        "mpl.rc('xtick', labelsize=12)\n",
        "mpl.rc('ytick', labelsize=12)\n",
        "\n",
        "# 그림을 저장할 위치\n",
        "PROJECT_ROOT_DIR = \".\"\n",
        "CHAPTER_ID = \"data\"\n",
        "IMAGES_PATH = os.path.join(PROJECT_ROOT_DIR, \"images\", CHAPTER_ID)\n",
        "os.makedirs(IMAGES_PATH, exist_ok=True)\n",
        "\n",
        "def save_fig(fig_id, tight_layout=True, fig_extension=\"png\", resolution=300):\n",
        "    path = os.path.join(IMAGES_PATH, fig_id + \".\" + fig_extension)\n",
        "    print(\"그림 저장:\", fig_id)\n",
        "    if tight_layout:\n",
        "        plt.tight_layout()\n",
        "    plt.savefig(path, format=fig_extension, dpi=resolution)"
      ]
    },
    {
      "cell_type": "code",
      "source": [
        "X = tf.range(10)\n",
        "dataset = tf.data.Dataset.from_tensor_slices(X)\n",
        "dataset"
      ],
      "metadata": {
        "colab": {
          "base_uri": "https://localhost:8080/"
        },
        "id": "IYolN12RR31Q",
        "outputId": "4ee4e253-bbfd-4e21-afa7-18f89e154db7"
      },
      "execution_count": 39,
      "outputs": [
        {
          "output_type": "execute_result",
          "data": {
            "text/plain": [
              "<TensorSliceDataset element_spec=TensorSpec(shape=(), dtype=tf.int32, name=None)>"
            ]
          },
          "metadata": {},
          "execution_count": 39
        }
      ]
    },
    {
      "cell_type": "code",
      "source": [
        "for item in dataset:\n",
        "  print(item)"
      ],
      "metadata": {
        "colab": {
          "base_uri": "https://localhost:8080/"
        },
        "id": "HWZSGissSEY8",
        "outputId": "b01fbca6-afd8-47bb-d832-e5f99c9d2fc8"
      },
      "execution_count": 40,
      "outputs": [
        {
          "output_type": "stream",
          "name": "stdout",
          "text": [
            "tf.Tensor(0, shape=(), dtype=int32)\n",
            "tf.Tensor(1, shape=(), dtype=int32)\n",
            "tf.Tensor(2, shape=(), dtype=int32)\n",
            "tf.Tensor(3, shape=(), dtype=int32)\n",
            "tf.Tensor(4, shape=(), dtype=int32)\n",
            "tf.Tensor(5, shape=(), dtype=int32)\n",
            "tf.Tensor(6, shape=(), dtype=int32)\n",
            "tf.Tensor(7, shape=(), dtype=int32)\n",
            "tf.Tensor(8, shape=(), dtype=int32)\n",
            "tf.Tensor(9, shape=(), dtype=int32)\n"
          ]
        }
      ]
    },
    {
      "cell_type": "code",
      "source": [
        "dataset = tf.data.Dataset.range(10)"
      ],
      "metadata": {
        "id": "KxVQvjzKR8ln"
      },
      "execution_count": 41,
      "outputs": []
    },
    {
      "cell_type": "code",
      "source": [
        "for item in dataset:\n",
        "  print(item)"
      ],
      "metadata": {
        "colab": {
          "base_uri": "https://localhost:8080/"
        },
        "id": "U5t8I7T0R-_2",
        "outputId": "55ec6dad-31b8-45a3-a332-1b05be37be67"
      },
      "execution_count": 42,
      "outputs": [
        {
          "output_type": "stream",
          "name": "stdout",
          "text": [
            "tf.Tensor(0, shape=(), dtype=int64)\n",
            "tf.Tensor(1, shape=(), dtype=int64)\n",
            "tf.Tensor(2, shape=(), dtype=int64)\n",
            "tf.Tensor(3, shape=(), dtype=int64)\n",
            "tf.Tensor(4, shape=(), dtype=int64)\n",
            "tf.Tensor(5, shape=(), dtype=int64)\n",
            "tf.Tensor(6, shape=(), dtype=int64)\n",
            "tf.Tensor(7, shape=(), dtype=int64)\n",
            "tf.Tensor(8, shape=(), dtype=int64)\n",
            "tf.Tensor(9, shape=(), dtype=int64)\n"
          ]
        }
      ]
    },
    {
      "cell_type": "code",
      "source": [
        "# 10개짜리 데이터셋을 3번 반복하며, 7개 데이터셋으로 만듦\n",
        "dataset = dataset.repeat(3).batch(7)\n",
        "for item in dataset:\n",
        "  print(item)"
      ],
      "metadata": {
        "colab": {
          "base_uri": "https://localhost:8080/"
        },
        "id": "U74bgWbTSBAN",
        "outputId": "34cc70cf-db2b-4e3b-c2a4-1d0014e44809"
      },
      "execution_count": 43,
      "outputs": [
        {
          "output_type": "stream",
          "name": "stdout",
          "text": [
            "tf.Tensor([0 1 2 3 4 5 6], shape=(7,), dtype=int64)\n",
            "tf.Tensor([7 8 9 0 1 2 3], shape=(7,), dtype=int64)\n",
            "tf.Tensor([4 5 6 7 8 9 0], shape=(7,), dtype=int64)\n",
            "tf.Tensor([1 2 3 4 5 6 7], shape=(7,), dtype=int64)\n",
            "tf.Tensor([8 9], shape=(2,), dtype=int64)\n"
          ]
        }
      ]
    },
    {
      "cell_type": "code",
      "source": [
        "dataset = dataset.map(lambda x: x * 2)\n",
        "for item in dataset:\n",
        "  print(item)"
      ],
      "metadata": {
        "colab": {
          "base_uri": "https://localhost:8080/"
        },
        "id": "BXs-fBS-Slov",
        "outputId": "fd1f3e1d-94d4-4d9f-98eb-3825d258a377"
      },
      "execution_count": 44,
      "outputs": [
        {
          "output_type": "stream",
          "name": "stdout",
          "text": [
            "tf.Tensor([ 0  2  4  6  8 10 12], shape=(7,), dtype=int64)\n",
            "tf.Tensor([14 16 18  0  2  4  6], shape=(7,), dtype=int64)\n",
            "tf.Tensor([ 8 10 12 14 16 18  0], shape=(7,), dtype=int64)\n",
            "tf.Tensor([ 2  4  6  8 10 12 14], shape=(7,), dtype=int64)\n",
            "tf.Tensor([16 18], shape=(2,), dtype=int64)\n"
          ]
        }
      ]
    },
    {
      "cell_type": "code",
      "source": [
        "tf.random.set_seed(42)"
      ],
      "metadata": {
        "id": "5bfMcG9CWDnX"
      },
      "execution_count": 45,
      "outputs": []
    },
    {
      "cell_type": "code",
      "source": [
        "dataset = dataset.unbatch()"
      ],
      "metadata": {
        "id": "TSsgBFGpT8fl"
      },
      "execution_count": 49,
      "outputs": []
    },
    {
      "cell_type": "code",
      "source": [
        "dataset = dataset.filter(lambda x: x < 10)\n",
        "for itme in dataset.take(2):\n",
        "  print(item)"
      ],
      "metadata": {
        "colab": {
          "base_uri": "https://localhost:8080/"
        },
        "id": "AxRHDpKNU2XW",
        "outputId": "488ff329-1be8-442d-9c84-1c883198ec98"
      },
      "execution_count": 50,
      "outputs": [
        {
          "output_type": "stream",
          "name": "stdout",
          "text": [
            "tf.Tensor([16 18], shape=(2,), dtype=int64)\n",
            "tf.Tensor([16 18], shape=(2,), dtype=int64)\n"
          ]
        }
      ]
    },
    {
      "cell_type": "code",
      "source": [
        "tf.random.set_seed(42)\n",
        "\n",
        "dataset = tf.data.Dataset.range(10).repeat(3)\n",
        "dataset = dataset.shuffle(buffer_size=3, seed=42).batch(7)\n",
        "for item in dataset:\n",
        "  print(item)"
      ],
      "metadata": {
        "colab": {
          "base_uri": "https://localhost:8080/"
        },
        "id": "ZdTS9SPrUHhC",
        "outputId": "b1b518ad-6e70-4487-cfc0-b887207588e3"
      },
      "execution_count": 51,
      "outputs": [
        {
          "output_type": "stream",
          "name": "stdout",
          "text": [
            "tf.Tensor([1 3 0 4 2 5 6], shape=(7,), dtype=int64)\n",
            "tf.Tensor([8 7 1 0 3 2 5], shape=(7,), dtype=int64)\n",
            "tf.Tensor([4 6 9 8 9 7 0], shape=(7,), dtype=int64)\n",
            "tf.Tensor([3 1 4 5 2 8 7], shape=(7,), dtype=int64)\n",
            "tf.Tensor([6 9], shape=(2,), dtype=int64)\n"
          ]
        }
      ]
    },
    {
      "cell_type": "code",
      "source": [],
      "metadata": {
        "id": "J2hrHbaoUmzy"
      },
      "execution_count": null,
      "outputs": []
    }
  ]
}