{
  "cells": [
    {
      "cell_type": "code",
      "execution_count": 96,
      "metadata": {
        "id": "fmsvySyq8KZa",
        "colab": {
          "base_uri": "https://localhost:8080/"
        },
        "outputId": "25656a0b-c314-48a3-a1f4-4e07a7026976"
      },
      "outputs": [
        {
          "output_type": "stream",
          "name": "stdout",
          "text": [
            "The tensorboard extension is already loaded. To reload it, use:\n",
            "  %reload_ext tensorboard\n"
          ]
        }
      ],
      "source": [
        "# 파이썬 ≥3.5 필수\n",
        "import sys\n",
        "assert sys.version_info >= (3, 5)\n",
        "\n",
        "# 사이킷런 ≥0.20 필수\n",
        "import sklearn\n",
        "assert sklearn.__version__ >= \"0.20\"\n",
        "\n",
        "# 텐서플로 ≥2.0 필수\n",
        "import tensorflow as tf\n",
        "from tensorflow import keras\n",
        "assert tf.__version__ >= \"2.0\"\n",
        "\n",
        "%load_ext tensorboard\n",
        "\n",
        "# 공통 모듈 임포트\n",
        "import numpy as np\n",
        "import os\n",
        "\n",
        "# 노트북 실행 결과를 동일하게 유지하기 위해\n",
        "np.random.seed(42)\n",
        "tf.random.set_seed(42)\n",
        "\n",
        "# 깔끔한 그래프 출력을 위해\n",
        "%matplotlib inline\n",
        "import matplotlib as mpl\n",
        "import matplotlib.pyplot as plt\n",
        "mpl.rc('axes', labelsize=14)\n",
        "mpl.rc('xtick', labelsize=12)\n",
        "mpl.rc('ytick', labelsize=12)\n",
        "\n",
        "# 그림을 저장할 위치\n",
        "PROJECT_ROOT_DIR = \".\"\n",
        "CHAPTER_ID = \"deep\"\n",
        "IMAGES_PATH = os.path.join(PROJECT_ROOT_DIR, \"images\", CHAPTER_ID)\n",
        "os.makedirs(IMAGES_PATH, exist_ok=True)\n",
        "\n",
        "def save_fig(fig_id, tight_layout=True, fig_extension=\"png\", resolution=300):\n",
        "    path = os.path.join(IMAGES_PATH, fig_id + \".\" + fig_extension)\n",
        "    print(\"그림 저장:\", fig_id)\n",
        "    if tight_layout:\n",
        "        plt.tight_layout()\n",
        "    plt.savefig(path, format=fig_extension, dpi=resolution)"
      ]
    },
    {
      "cell_type": "code",
      "execution_count": 97,
      "metadata": {
        "id": "FfewInWD8YNO"
      },
      "outputs": [],
      "source": [
        "def logit(z):\n",
        "  return 1 / (1 + np.exp(-z))"
      ]
    },
    {
      "cell_type": "code",
      "execution_count": 98,
      "metadata": {
        "colab": {
          "base_uri": "https://localhost:8080/",
          "height": 315
        },
        "id": "SyIMV0159M5m",
        "outputId": "85dbdfb3-a757-4a18-d2a4-1e5ab3715a99"
      },
      "outputs": [
        {
          "output_type": "stream",
          "name": "stdout",
          "text": [
            "그림 저장: sigmoid_saturation_plot\n"
          ]
        },
        {
          "output_type": "display_data",
          "data": {
            "text/plain": [
              "<Figure size 432x288 with 1 Axes>"
            ],
            "image/png": "[encoded data removed]"
          },
          "metadata": {
            "needs_background": "light"
          }
        }
      ],
      "source": [
        "z = np.linspace(-5, 5, 200)\n",
        "\n",
        "plt.plot([-5, 5], [0, 0], 'k-')\n",
        "plt.plot([-5, 5], [1, 1], 'k--')\n",
        "plt.plot([0, 0], [-0.2, 1.2], 'k-')\n",
        "plt.plot([-5, 5], [-3/4, 7/4], 'g--')\n",
        "plt.plot(z, logit(z), 'b-', linewidth=2)\n",
        "props = dict(facecolor='black', shrink=0.1)\n",
        "plt.annotate('Saturating', xytext=(3.5, 0.7), xy=(5, 1), arrowprops=props, fontsize=14, ha=\"center\")\n",
        "plt.annotate('Saturating', xytext=(-3.5, 0.3), xy=(-5, 0), arrowprops=props, fontsize=14, ha=\"center\")\n",
        "plt.annotate('Linear', xytext=(2, 0.2), xy=(0, 0.5), arrowprops=props, fontsize=14, ha=\"center\")\n",
        "plt.grid(True)\n",
        "plt.title(\"Sigmoid activation function\", fontsize=14)\n",
        "plt.axis([-5, 5, -0.2, 1.2])\n",
        "\n",
        "save_fig(\"sigmoid_saturation_plot\")\n",
        "plt.show()"
      ]
    },
    {
      "cell_type": "code",
      "execution_count": 99,
      "metadata": {
        "colab": {
          "base_uri": "https://localhost:8080/"
        },
        "id": "rGxAruQI9vC5",
        "outputId": "f594edb0-5132-481a-ac26-d07ec99d0994"
      },
      "outputs": [
        {
          "output_type": "execute_result",
          "data": {
            "text/plain": [
              "['Constant',\n",
              " 'GlorotNormal',\n",
              " 'GlorotUniform',\n",
              " 'HeNormal',\n",
              " 'HeUniform',\n",
              " 'Identity',\n",
              " 'Initializer',\n",
              " 'LecunNormal',\n",
              " 'LecunUniform',\n",
              " 'Ones',\n",
              " 'Orthogonal',\n",
              " 'RandomNormal',\n",
              " 'RandomUniform',\n",
              " 'TruncatedNormal',\n",
              " 'VarianceScaling',\n",
              " 'Zeros',\n",
              " 'constant',\n",
              " 'deserialize',\n",
              " 'get',\n",
              " 'glorot_normal',\n",
              " 'glorot_uniform',\n",
              " 'he_normal',\n",
              " 'he_uniform',\n",
              " 'identity',\n",
              " 'lecun_normal',\n",
              " 'lecun_uniform',\n",
              " 'ones',\n",
              " 'orthogonal',\n",
              " 'random_normal',\n",
              " 'random_uniform',\n",
              " 'serialize',\n",
              " 'truncated_normal',\n",
              " 'variance_scaling',\n",
              " 'zeros']"
            ]
          },
          "metadata": {},
          "execution_count": 99
        }
      ],
      "source": [
        "[name for name in dir(keras.initializers) if not name.startswith(\"_\")]"
      ]
    },
    {
      "cell_type": "code",
      "execution_count": 100,
      "metadata": {
        "colab": {
          "base_uri": "https://localhost:8080/"
        },
        "id": "iV35HLhF92AQ",
        "outputId": "bb370494-2c81-41f9-c373-98b9427e0d62"
      },
      "outputs": [
        {
          "output_type": "execute_result",
          "data": {
            "text/plain": [
              "<keras.layers.core.dense.Dense at 0x7fbcdf921bd0>"
            ]
          },
          "metadata": {},
          "execution_count": 100
        }
      ],
      "source": [
        "keras.layers.Dense(10, activation=\"relu\", kernel_initializer=\"he_normal\")"
      ]
    },
    {
      "cell_type": "code",
      "execution_count": 101,
      "metadata": {
        "colab": {
          "base_uri": "https://localhost:8080/"
        },
        "id": "Fn2OVyTf-D4N",
        "outputId": "99aceeac-44c1-402b-ded7-0ae01a25193b"
      },
      "outputs": [
        {
          "output_type": "execute_result",
          "data": {
            "text/plain": [
              "<keras.layers.core.dense.Dense at 0x7fbcdf921890>"
            ]
          },
          "metadata": {},
          "execution_count": 101
        }
      ],
      "source": [
        "init = keras.initializers.VarianceScaling(scale=2, mode='fan_avg',\n",
        "                                          distribution='uniform')\n",
        "keras.layers.Dense(10, activation='relu', kernel_initializer=init)"
      ]
    },
    {
      "cell_type": "code",
      "execution_count": 102,
      "metadata": {
        "id": "MEqK-_i7-QwN"
      },
      "outputs": [],
      "source": [
        "def leaky_relu(z, alpha=0.01):\n",
        "  return np.maximum(alpha*z, z)"
      ]
    },
    {
      "cell_type": "code",
      "execution_count": 103,
      "metadata": {
        "colab": {
          "base_uri": "https://localhost:8080/",
          "height": 315
        },
        "id": "EDQH6MV4-Ye9",
        "outputId": "58f7e383-cada-4b93-e1c8-3c75d0cd4655"
      },
      "outputs": [
        {
          "output_type": "stream",
          "name": "stdout",
          "text": [
            "그림 저장: leaky_relu_plot\n"
          ]
        },
        {
          "output_type": "display_data",
          "data": {
            "text/plain": [
              "<Figure size 432x288 with 1 Axes>"
            ],
            "image/png": "[encoded data removed]"
          },
          "metadata": {
            "needs_background": "light"
          }
        }
      ],
      "source": [
        "plt.plot(z, leaky_relu(z, 0.05), \"b-\", linewidth=2)\n",
        "plt.plot([-5, 5], [0, 0], 'k-')\n",
        "plt.plot([0, 0], [-0.5, 4.2], 'k-')\n",
        "plt.grid(True)\n",
        "props = dict(facecolor='black', shrink=0.1)\n",
        "plt.annotate('Leak', xytext=(-3.5, 0.5), xy=(-5, -0.2), arrowprops=props, fontsize=14, ha=\"center\")\n",
        "plt.title(\"Leaky ReLU activation function\", fontsize=14)\n",
        "plt.axis([-5, 5, -0.5, 4.2])\n",
        "\n",
        "save_fig(\"leaky_relu_plot\")\n",
        "plt.show()"
      ]
    },
    {
      "cell_type": "code",
      "execution_count": 104,
      "metadata": {
        "colab": {
          "base_uri": "https://localhost:8080/"
        },
        "id": "2P9ZbptY-Z3E",
        "outputId": "12f0e7e7-70e3-4871-db97-d0e813b3d0e1"
      },
      "outputs": [
        {
          "output_type": "execute_result",
          "data": {
            "text/plain": [
              "['deserialize',\n",
              " 'elu',\n",
              " 'exponential',\n",
              " 'gelu',\n",
              " 'get',\n",
              " 'hard_sigmoid',\n",
              " 'linear',\n",
              " 'relu',\n",
              " 'selu',\n",
              " 'serialize',\n",
              " 'sigmoid',\n",
              " 'softmax',\n",
              " 'softplus',\n",
              " 'softsign',\n",
              " 'swish',\n",
              " 'tanh']"
            ]
          },
          "metadata": {},
          "execution_count": 104
        }
      ],
      "source": [
        "[m for m in dir(keras.activations) if not m.startswith(\"_\")]"
      ]
    },
    {
      "cell_type": "code",
      "execution_count": 105,
      "metadata": {
        "colab": {
          "base_uri": "https://localhost:8080/"
        },
        "id": "X281flSw-kZk",
        "outputId": "4863aa78-8f5e-42d7-9694-13ecd2ee8a4d"
      },
      "outputs": [
        {
          "output_type": "execute_result",
          "data": {
            "text/plain": [
              "['LeakyReLU', 'PReLU', 'ReLU', 'ThresholdedReLU']"
            ]
          },
          "metadata": {},
          "execution_count": 105
        }
      ],
      "source": [
        "[m for m in dir(keras.layers) if \"relu\" in m.lower()]"
      ]
    },
    {
      "cell_type": "code",
      "execution_count": 106,
      "metadata": {
        "id": "3rNSDjyq-uKs"
      },
      "outputs": [],
      "source": [
        "(X_train_full, y_train_full), (X_test, y_test) = keras.datasets.fashion_mnist.load_data()\n",
        "X_train_full = X_train_full / 255.\n",
        "X_test = X_test / 255.\n",
        "X_valid, X_train = X_train_full[:5000], X_train_full[5000:]\n",
        "y_valid, y_train = y_train_full[:5000], y_train_full[5000:]"
      ]
    },
    {
      "cell_type": "code",
      "execution_count": 107,
      "metadata": {
        "id": "iKPnlxBk_DSU"
      },
      "outputs": [],
      "source": [
        "model = keras.models.Sequential([\n",
        "    keras.layers.Flatten(input_shape=[28, 28]),\n",
        "    keras.layers.Dense(300, kernel_initializer=\"he_normal\"),\n",
        "    keras.layers.LeakyReLU(),\n",
        "    keras.layers.Dense(100, kernel_initializer=\"he_normal\"),\n",
        "    keras.layers.LeakyReLU(),\n",
        "    keras.layers.Dense(10, activation=\"softmax\"),\n",
        "])"
      ]
    },
    {
      "cell_type": "code",
      "execution_count": 108,
      "metadata": {
        "id": "4U72V6Ma_gxG"
      },
      "outputs": [],
      "source": [
        "model.compile(loss=\"sparse_categorical_crossentropy\",\n",
        "              optimizer=keras.optimizers.SGD(learning_rate=1e-3),\n",
        "              metrics=[\"accuracy\"])"
      ]
    },
    {
      "cell_type": "code",
      "execution_count": 109,
      "metadata": {
        "colab": {
          "base_uri": "https://localhost:8080/"
        },
        "id": "06SVt7h__qzs",
        "outputId": "c93c372d-2ae8-4087-b7d9-d48345335fbe"
      },
      "outputs": [
        {
          "output_type": "stream",
          "name": "stdout",
          "text": [
            "Epoch 1/10\n",
            "1719/1719 [==============================] - 10s 6ms/step - loss: 1.2819 - accuracy: 0.6229 - val_loss: 0.8886 - val_accuracy: 0.7160\n",
            "Epoch 2/10\n",
            "1719/1719 [==============================] - 10s 6ms/step - loss: 0.7955 - accuracy: 0.7361 - val_loss: 0.7130 - val_accuracy: 0.7656\n",
            "Epoch 3/10\n",
            "1719/1719 [==============================] - 8s 5ms/step - loss: 0.6816 - accuracy: 0.7721 - val_loss: 0.6427 - val_accuracy: 0.7900\n",
            "Epoch 4/10\n",
            "1719/1719 [==============================] - 10s 6ms/step - loss: 0.6217 - accuracy: 0.7944 - val_loss: 0.5900 - val_accuracy: 0.8064\n",
            "Epoch 5/10\n",
            "1719/1719 [==============================] - 9s 5ms/step - loss: 0.5832 - accuracy: 0.8074 - val_loss: 0.5582 - val_accuracy: 0.8200\n",
            "Epoch 6/10\n",
            "1719/1719 [==============================] - 12s 7ms/step - loss: 0.5553 - accuracy: 0.8156 - val_loss: 0.5350 - val_accuracy: 0.8238\n",
            "Epoch 7/10\n",
            "1719/1719 [==============================] - 9s 5ms/step - loss: 0.5339 - accuracy: 0.8223 - val_loss: 0.5156 - val_accuracy: 0.8302\n",
            "Epoch 8/10\n",
            "1719/1719 [==============================] - 9s 5ms/step - loss: 0.5173 - accuracy: 0.8272 - val_loss: 0.5079 - val_accuracy: 0.8284\n",
            "Epoch 9/10\n",
            "1719/1719 [==============================] - 10s 6ms/step - loss: 0.5040 - accuracy: 0.8290 - val_loss: 0.4895 - val_accuracy: 0.8386\n",
            "Epoch 10/10\n",
            "1719/1719 [==============================] - 9s 5ms/step - loss: 0.4924 - accuracy: 0.8319 - val_loss: 0.4817 - val_accuracy: 0.8396\n"
          ]
        }
      ],
      "source": [
        "history = model.fit(X_train, y_train, epochs=10,\n",
        "                    validation_data=(X_valid, y_valid))"
      ]
    },
    {
      "cell_type": "code",
      "execution_count": 110,
      "metadata": {
        "colab": {
          "base_uri": "https://localhost:8080/"
        },
        "id": "rxCyHRN6_wMb",
        "outputId": "486cfadc-99c7-42d1-fbd2-da4ac4e53ce5"
      },
      "outputs": [
        {
          "output_type": "stream",
          "name": "stdout",
          "text": [
            "Epoch 1/10\n",
            "1719/1719 [==============================] - 10s 5ms/step - loss: 1.3337 - accuracy: 0.6140 - val_loss: 0.8951 - val_accuracy: 0.7192\n",
            "Epoch 2/10\n",
            "1719/1719 [==============================] - 10s 6ms/step - loss: 0.8048 - accuracy: 0.7413 - val_loss: 0.7103 - val_accuracy: 0.7742\n",
            "Epoch 3/10\n",
            "1719/1719 [==============================] - 10s 6ms/step - loss: 0.6849 - accuracy: 0.7771 - val_loss: 0.6405 - val_accuracy: 0.7962\n",
            "Epoch 4/10\n",
            "1719/1719 [==============================] - 11s 6ms/step - loss: 0.6237 - accuracy: 0.7942 - val_loss: 0.5859 - val_accuracy: 0.8122\n",
            "Epoch 5/10\n",
            "1719/1719 [==============================] - 9s 5ms/step - loss: 0.5846 - accuracy: 0.8073 - val_loss: 0.5542 - val_accuracy: 0.8192\n",
            "Epoch 6/10\n",
            "1719/1719 [==============================] - 9s 5ms/step - loss: 0.5567 - accuracy: 0.8146 - val_loss: 0.5315 - val_accuracy: 0.8246\n",
            "Epoch 7/10\n",
            "1719/1719 [==============================] - 9s 5ms/step - loss: 0.5352 - accuracy: 0.8205 - val_loss: 0.5121 - val_accuracy: 0.8316\n",
            "Epoch 8/10\n",
            "1719/1719 [==============================] - 8s 5ms/step - loss: 0.5185 - accuracy: 0.8246 - val_loss: 0.5043 - val_accuracy: 0.8352\n",
            "Epoch 9/10\n",
            "1719/1719 [==============================] - 10s 6ms/step - loss: 0.5051 - accuracy: 0.8282 - val_loss: 0.4869 - val_accuracy: 0.8394\n",
            "Epoch 10/10\n",
            "1719/1719 [==============================] - 9s 5ms/step - loss: 0.4934 - accuracy: 0.8314 - val_loss: 0.4791 - val_accuracy: 0.8414\n"
          ]
        }
      ],
      "source": [
        "model = keras.models.Sequential([\n",
        "    keras.layers.Flatten(input_shape=[28, 28]),\n",
        "    keras.layers.Dense(300, kernel_initializer=\"he_normal\"),\n",
        "    keras.layers.PReLU(),\n",
        "    keras.layers.Dense(100, kernel_initializer=\"he_normal\"),\n",
        "    keras.layers.PReLU(),\n",
        "    keras.layers.Dense(10, activation=\"softmax\")\n",
        "])\n",
        "\n",
        "model.compile(loss=\"sparse_categorical_crossentropy\",\n",
        "              optimizer=keras.optimizers.SGD(learning_rate=1e-3),\n",
        "              metrics=[\"accuracy\"])\n",
        "\n",
        "history = model.fit(X_train, y_train, epochs=10,\n",
        "                    validation_data=(X_valid, y_valid))"
      ]
    },
    {
      "cell_type": "code",
      "execution_count": 111,
      "metadata": {
        "id": "rf6mc8yo_7GE"
      },
      "outputs": [],
      "source": [
        "def elu(z, alpha=1):\n",
        "  return np.where(z < 0, alpha * (np.exp(z) - 1), z)"
      ]
    },
    {
      "cell_type": "code",
      "execution_count": 112,
      "metadata": {
        "id": "owwdsN-OAE78",
        "colab": {
          "base_uri": "https://localhost:8080/",
          "height": 315
        },
        "outputId": "14daf52b-b803-4815-84ba-b8b6970bf977"
      },
      "outputs": [
        {
          "output_type": "stream",
          "name": "stdout",
          "text": [
            "그림 저장: elu_plot\n"
          ]
        },
        {
          "output_type": "display_data",
          "data": {
            "text/plain": [
              "<Figure size 432x288 with 1 Axes>"
            ],
            "image/png": "[encoded data removed]"
          },
          "metadata": {
            "needs_background": "light"
          }
        }
      ],
      "source": [
        "plt.plot(z, elu(z), \"b-\", linewidth=2)\n",
        "plt.plot([-5, 5], [0, 0], 'k-')\n",
        "plt.plot([-5, 5], [-1, -1], 'k--')\n",
        "plt.plot([0, 0], [-2.2, 3.2], 'k-')\n",
        "plt.grid(True)\n",
        "plt.title(r\"ELU activation function ($\\alpha=1$)\", fontsize=14)\n",
        "plt.axis([-5, 5, -2.2, 3.2])\n",
        "\n",
        "save_fig(\"elu_plot\")\n",
        "plt.show()"
      ]
    },
    {
      "cell_type": "code",
      "execution_count": 113,
      "metadata": {
        "colab": {
          "base_uri": "https://localhost:8080/"
        },
        "id": "DjeGeG_ZAJM8",
        "outputId": "eec929da-b312-4c64-96e5-23d887e0aeaf"
      },
      "outputs": [
        {
          "output_type": "execute_result",
          "data": {
            "text/plain": [
              "<keras.layers.core.dense.Dense at 0x7fbcdf96ed90>"
            ]
          },
          "metadata": {},
          "execution_count": 113
        }
      ],
      "source": [
        "keras.layers.Dense(10, activation=\"elu\")"
      ]
    },
    {
      "cell_type": "code",
      "execution_count": 114,
      "metadata": {
        "id": "8U4TcJr4ATzd"
      },
      "outputs": [],
      "source": [
        "from scipy.special import erfc\n",
        "\n",
        "alpha_0_1 = -np.sqrt(2 / np.pi) / (erfc(1/np.sqrt(2)) * np.exp(1/2) - 1)\n",
        "scale_0_1 = (1 - erfc(1 / np.sqrt(2)) * np.sqrt(np.e)) * np.sqrt(2 * np.pi) * (2 * erfc(np.sqrt(2))*np.e**2 + np.pi*erfc(1/np.sqrt(2))**2*np.e - 2*(2+np.pi)*erfc(1/np.sqrt(2))*np.sqrt(np.e)+np.pi+2)**(-1/2)"
      ]
    },
    {
      "cell_type": "code",
      "execution_count": 115,
      "metadata": {
        "id": "C2R-HTEoBPc2"
      },
      "outputs": [],
      "source": [
        "def selu(z, scale=scale_0_1, alpha=alpha_0_1):\n",
        "  return scale * elu(z, alpha)"
      ]
    },
    {
      "cell_type": "code",
      "execution_count": 116,
      "metadata": {
        "colab": {
          "base_uri": "https://localhost:8080/",
          "height": 315
        },
        "id": "NDtHEnloBWbH",
        "outputId": "08d75018-d77f-4e68-ca47-baaf86cbe822"
      },
      "outputs": [
        {
          "output_type": "stream",
          "name": "stdout",
          "text": [
            "그림 저장: selu_plot\n"
          ]
        },
        {
          "output_type": "display_data",
          "data": {
            "text/plain": [
              "<Figure size 432x288 with 1 Axes>"
            ],
            "image/png": "[encoded data removed]"
          },
          "metadata": {
            "needs_background": "light"
          }
        }
      ],
      "source": [
        "plt.plot(z, selu(z), \"b-\", linewidth=2)\n",
        "plt.plot([-5, 5], [0, 0], 'k-')\n",
        "plt.plot([-5, 5], [-1.758, -1.758], 'k--')\n",
        "plt.plot([0, 0], [-2.2, 3.2], 'k-')\n",
        "plt.grid(True)\n",
        "plt.title(\"SELU activation function\", fontsize=14)\n",
        "plt.axis([-5, 5, -2.2, 3.2])\n",
        "\n",
        "save_fig(\"selu_plot\")\n",
        "plt.show()"
      ]
    },
    {
      "cell_type": "code",
      "execution_count": 117,
      "metadata": {
        "colab": {
          "base_uri": "https://localhost:8080/"
        },
        "id": "05AXTDS8BY10",
        "outputId": "ed9dc704-b560-4d9a-f630-45129d263608"
      },
      "outputs": [
        {
          "output_type": "stream",
          "name": "stdout",
          "text": [
            "Layer 0: mean -0.00, std deviation 1.00\n",
            "Layer 100: mean 0.02, std deviation 0.96\n",
            "Layer 200: mean 0.01, std deviation 0.90\n",
            "Layer 300: mean -0.02, std deviation 0.92\n",
            "Layer 400: mean 0.05, std deviation 0.89\n",
            "Layer 500: mean 0.01, std deviation 0.93\n",
            "Layer 600: mean 0.02, std deviation 0.92\n",
            "Layer 700: mean -0.02, std deviation 0.90\n",
            "Layer 800: mean 0.05, std deviation 0.83\n",
            "Layer 900: mean 0.02, std deviation 1.00\n"
          ]
        }
      ],
      "source": [
        "Z = np.random.normal(size=(500, 100))\n",
        "for layer in range(1000):\n",
        "  W = np.random.normal(size=(100, 100), scale=np.sqrt(1/100))\n",
        "  Z = selu(np.dot(Z, W))\n",
        "  means = np.mean(Z, axis=0).mean()\n",
        "  stds = np.std(Z, axis=0).mean()\n",
        "  if layer % 100 == 0:\n",
        "    print(\"Layer {}: mean {:.2f}, std deviation {:.2f}\".format(layer, means, stds))"
      ]
    },
    {
      "cell_type": "code",
      "execution_count": 118,
      "metadata": {
        "colab": {
          "base_uri": "https://localhost:8080/"
        },
        "id": "i21yOzEjCc-n",
        "outputId": "a8dd03a6-ae42-47b6-94d9-bc9a6a71497f"
      },
      "outputs": [
        {
          "output_type": "execute_result",
          "data": {
            "text/plain": [
              "<keras.layers.core.dense.Dense at 0x7fbcdf0e5550>"
            ]
          },
          "metadata": {},
          "execution_count": 118
        }
      ],
      "source": [
        "keras.layers.Dense(10, activation=\"selu\",\n",
        "                   kernel_initializer=\"lecun_normal\")"
      ]
    },
    {
      "cell_type": "code",
      "execution_count": 119,
      "metadata": {
        "id": "UVMOzMhuClE8"
      },
      "outputs": [],
      "source": [
        "model = keras.models.Sequential()\n",
        "model.add(keras.layers.Flatten(input_shape=[28, 28]))\n",
        "model.add(keras.layers.Dense(300, activation=\"selu\",\n",
        "                             kernel_initializer=\"lecun_normal\"))\n",
        "for layer in range(99):\n",
        "  model.add(keras.layers.Dense(100, activation=\"selu\",\n",
        "                               kernel_initializer=\"lecun_normal\"))\n",
        "model.add(keras.layers.Dense(10, activation=\"softmax\"))"
      ]
    },
    {
      "cell_type": "code",
      "execution_count": 120,
      "metadata": {
        "id": "gnByj4BOC-tr"
      },
      "outputs": [],
      "source": [
        "model.compile(loss=\"sparse_categorical_crossentropy\",\n",
        "              optimizer=keras.optimizers.SGD(learning_rate=1e-3),\n",
        "              metrics=[\"accuracy\"])"
      ]
    },
    {
      "cell_type": "code",
      "execution_count": 121,
      "metadata": {
        "id": "fqpdikt-DLfq"
      },
      "outputs": [],
      "source": [
        "pixel_means = X_train.mean(axis=0, keepdims=True)\n",
        "pixel_stds = X_train.std(axis=0, keepdims=True)\n",
        "X_train_scaled = (X_train - pixel_means) / pixel_stds\n",
        "X_valid_scaled = (X_valid - pixel_means) / pixel_stds\n",
        "X_test_scaled = (X_test - pixel_means) / pixel_stds"
      ]
    },
    {
      "cell_type": "code",
      "execution_count": 122,
      "metadata": {
        "colab": {
          "base_uri": "https://localhost:8080/"
        },
        "id": "a5ohmcEJDiAc",
        "outputId": "63124bab-10db-4473-d822-6aec81770747"
      },
      "outputs": [
        {
          "output_type": "stream",
          "name": "stdout",
          "text": [
            "Epoch 1/5\n",
            "1719/1719 [==============================] - 42s 22ms/step - loss: 1.4834 - accuracy: 0.4106 - val_loss: 1.0700 - val_accuracy: 0.6034\n",
            "Epoch 2/5\n",
            "1719/1719 [==============================] - 39s 23ms/step - loss: 0.9046 - accuracy: 0.6517 - val_loss: 0.9159 - val_accuracy: 0.6582\n",
            "Epoch 3/5\n",
            "1719/1719 [==============================] - 41s 24ms/step - loss: 0.7595 - accuracy: 0.7126 - val_loss: 0.6877 - val_accuracy: 0.7454\n",
            "Epoch 4/5\n",
            "1719/1719 [==============================] - 37s 22ms/step - loss: 0.6406 - accuracy: 0.7610 - val_loss: 0.5900 - val_accuracy: 0.7856\n",
            "Epoch 5/5\n",
            "1719/1719 [==============================] - 44s 25ms/step - loss: 0.5779 - accuracy: 0.7853 - val_loss: 0.5423 - val_accuracy: 0.8046\n"
          ]
        }
      ],
      "source": [
        "history = model.fit(X_train_scaled, y_train, epochs=5,\n",
        "                    validation_data=(X_valid_scaled, y_valid))"
      ]
    },
    {
      "cell_type": "code",
      "execution_count": 123,
      "metadata": {
        "id": "Pv6A3ioCDppV",
        "colab": {
          "base_uri": "https://localhost:8080/"
        },
        "outputId": "d86cf89c-ec45-4bef-fb5d-79a601a3b716"
      },
      "outputs": [
        {
          "output_type": "stream",
          "name": "stdout",
          "text": [
            "Epoch 1/5\n",
            "1719/1719 [==============================] - 43s 22ms/step - loss: 1.9087 - accuracy: 0.2213 - val_loss: 1.5282 - val_accuracy: 0.3556\n",
            "Epoch 2/5\n",
            "1719/1719 [==============================] - 38s 22ms/step - loss: 1.2132 - accuracy: 0.4781 - val_loss: 1.0156 - val_accuracy: 0.5554\n",
            "Epoch 3/5\n",
            "1719/1719 [==============================] - 41s 24ms/step - loss: 0.9750 - accuracy: 0.5957 - val_loss: 0.8222 - val_accuracy: 0.6802\n",
            "Epoch 4/5\n",
            "1719/1719 [==============================] - 43s 25ms/step - loss: 0.9157 - accuracy: 0.6347 - val_loss: 0.8800 - val_accuracy: 0.6682\n",
            "Epoch 5/5\n",
            "1719/1719 [==============================] - 40s 23ms/step - loss: 0.8998 - accuracy: 0.6363 - val_loss: 1.6367 - val_accuracy: 0.2634\n"
          ]
        }
      ],
      "source": [
        "model = keras.models.Sequential()\n",
        "model.add(keras.layers.Flatten(input_shape=[28, 28]))\n",
        "model.add(keras.layers.Dense(300, activation=\"relu\", kernel_initializer=\"he_normal\"))\n",
        "for layer in range(99):\n",
        "    model.add(keras.layers.Dense(100, activation=\"relu\", kernel_initializer=\"he_normal\"))\n",
        "model.add(keras.layers.Dense(10, activation=\"softmax\"))\n",
        "\n",
        "model.compile(loss=\"sparse_categorical_crossentropy\",\n",
        "              optimizer=keras.optimizers.SGD(learning_rate=1e-3),\n",
        "              metrics=[\"accuracy\"])\n",
        "\n",
        "history = model.fit(X_train_scaled, y_train, epochs=5,\n",
        "                    validation_data=(X_valid_scaled, y_valid))"
      ]
    },
    {
      "cell_type": "code",
      "execution_count": 124,
      "metadata": {
        "id": "cnLE3WG4DxFr",
        "colab": {
          "base_uri": "https://localhost:8080/"
        },
        "outputId": "a2c41a68-38a3-48ce-b56c-16ec30446856"
      },
      "outputs": [
        {
          "output_type": "stream",
          "name": "stdout",
          "text": [
            "Model: \"sequential_21\"\n",
            "_________________________________________________________________\n",
            " Layer (type)                Output Shape              Param #   \n",
            "=================================================================\n",
            " flatten_19 (Flatten)        (None, 784)               0         \n",
            "                                                                 \n",
            " batch_normalization_6 (Batc  (None, 784)              3136      \n",
            " hNormalization)                                                 \n",
            "                                                                 \n",
            " dense_465 (Dense)           (None, 300)               235500    \n",
            "                                                                 \n",
            " batch_normalization_7 (Batc  (None, 300)              1200      \n",
            " hNormalization)                                                 \n",
            "                                                                 \n",
            " dense_466 (Dense)           (None, 100)               30100     \n",
            "                                                                 \n",
            " batch_normalization_8 (Batc  (None, 100)              400       \n",
            " hNormalization)                                                 \n",
            "                                                                 \n",
            " dense_467 (Dense)           (None, 10)                1010      \n",
            "                                                                 \n",
            "=================================================================\n",
            "Total params: 271,346\n",
            "Trainable params: 268,978\n",
            "Non-trainable params: 2,368\n",
            "_________________________________________________________________\n"
          ]
        }
      ],
      "source": [
        "model = keras.models.Sequential([\n",
        "    keras.layers.Flatten(input_shape=[28, 28]),\n",
        "    keras.layers.BatchNormalization(),\n",
        "    keras.layers.Dense(300, activation=\"relu\"),\n",
        "    keras.layers.BatchNormalization(),\n",
        "    keras.layers.Dense(100, activation=\"relu\"),\n",
        "    keras.layers.BatchNormalization(),\n",
        "    keras.layers.Dense(10, activation=\"softmax\")\n",
        "])\n",
        "\n",
        "model.summary()"
      ]
    },
    {
      "cell_type": "code",
      "execution_count": 125,
      "metadata": {
        "id": "mp9OO6ZQEh1C",
        "colab": {
          "base_uri": "https://localhost:8080/"
        },
        "outputId": "176aef1d-b561-4edf-a3f9-301d462b0d2e"
      },
      "outputs": [
        {
          "output_type": "execute_result",
          "data": {
            "text/plain": [
              "[('batch_normalization_6/gamma:0', True),\n",
              " ('batch_normalization_6/beta:0', True),\n",
              " ('batch_normalization_6/moving_mean:0', False),\n",
              " ('batch_normalization_6/moving_variance:0', False)]"
            ]
          },
          "metadata": {},
          "execution_count": 125
        }
      ],
      "source": [
        "bn1 = model.layers[1]\n",
        "[(var.name, var.trainable) for var in bn1.variables]"
      ]
    },
    {
      "cell_type": "code",
      "execution_count": 126,
      "metadata": {
        "id": "z49GEZCMEjTa",
        "colab": {
          "base_uri": "https://localhost:8080/"
        },
        "outputId": "9ae2fe14-2de3-455a-d49a-072970f53236"
      },
      "outputs": [
        {
          "output_type": "stream",
          "name": "stdout",
          "text": [
            "Epoch 1/10\n",
            "1719/1719 [==============================] - 14s 7ms/step - loss: 0.8510 - accuracy: 0.7133 - val_loss: 0.5542 - val_accuracy: 0.8122\n",
            "Epoch 2/10\n",
            "1719/1719 [==============================] - 12s 7ms/step - loss: 0.5725 - accuracy: 0.8023 - val_loss: 0.4771 - val_accuracy: 0.8328\n",
            "Epoch 3/10\n",
            "1719/1719 [==============================] - 12s 7ms/step - loss: 0.5174 - accuracy: 0.8202 - val_loss: 0.4434 - val_accuracy: 0.8398\n",
            "Epoch 4/10\n",
            "1719/1719 [==============================] - 12s 7ms/step - loss: 0.4796 - accuracy: 0.8315 - val_loss: 0.4201 - val_accuracy: 0.8476\n",
            "Epoch 5/10\n",
            "1719/1719 [==============================] - 12s 7ms/step - loss: 0.4561 - accuracy: 0.8394 - val_loss: 0.4040 - val_accuracy: 0.8552\n",
            "Epoch 6/10\n",
            "1719/1719 [==============================] - 13s 7ms/step - loss: 0.4386 - accuracy: 0.8451 - val_loss: 0.3922 - val_accuracy: 0.8614\n",
            "Epoch 7/10\n",
            "1719/1719 [==============================] - 13s 8ms/step - loss: 0.4256 - accuracy: 0.8497 - val_loss: 0.3799 - val_accuracy: 0.8662\n",
            "Epoch 8/10\n",
            "1719/1719 [==============================] - 15s 9ms/step - loss: 0.4133 - accuracy: 0.8545 - val_loss: 0.3759 - val_accuracy: 0.8692\n",
            "Epoch 9/10\n",
            "1719/1719 [==============================] - 15s 9ms/step - loss: 0.4022 - accuracy: 0.8580 - val_loss: 0.3676 - val_accuracy: 0.8700\n",
            "Epoch 10/10\n",
            "1719/1719 [==============================] - 14s 8ms/step - loss: 0.3903 - accuracy: 0.8614 - val_loss: 0.3623 - val_accuracy: 0.8714\n"
          ]
        }
      ],
      "source": [
        "model.compile(loss=\"sparse_categorical_crossentropy\",\n",
        "              optimizer=keras.optimizers.SGD(learning_rate=1e-3),\n",
        "              metrics=[\"accuracy\"])\n",
        "\n",
        "history = model.fit(X_train, y_train, epochs=10,\n",
        "                    validation_data=(X_valid, y_valid))"
      ]
    },
    {
      "cell_type": "code",
      "execution_count": 127,
      "metadata": {
        "colab": {
          "base_uri": "https://localhost:8080/"
        },
        "id": "nIPMBXAcEmyb",
        "outputId": "c8fecb85-5266-4697-bf86-21437cf3e51c"
      },
      "outputs": [
        {
          "output_type": "stream",
          "name": "stdout",
          "text": [
            "Epoch 1/10\n",
            "1719/1719 [==============================] - 15s 8ms/step - loss: 1.0374 - accuracy: 0.6818 - val_loss: 0.6785 - val_accuracy: 0.7936\n",
            "Epoch 2/10\n",
            "1719/1719 [==============================] - 13s 8ms/step - loss: 0.6760 - accuracy: 0.7811 - val_loss: 0.5537 - val_accuracy: 0.8226\n",
            "Epoch 3/10\n",
            "1719/1719 [==============================] - 14s 8ms/step - loss: 0.5919 - accuracy: 0.8043 - val_loss: 0.4991 - val_accuracy: 0.8358\n",
            "Epoch 4/10\n",
            "1719/1719 [==============================] - 12s 7ms/step - loss: 0.5417 - accuracy: 0.8186 - val_loss: 0.4659 - val_accuracy: 0.8440\n",
            "Epoch 5/10\n",
            "1719/1719 [==============================] - 13s 7ms/step - loss: 0.5086 - accuracy: 0.8277 - val_loss: 0.4440 - val_accuracy: 0.8520\n",
            "Epoch 6/10\n",
            "1719/1719 [==============================] - 13s 7ms/step - loss: 0.4884 - accuracy: 0.8335 - val_loss: 0.4259 - val_accuracy: 0.8554\n",
            "Epoch 7/10\n",
            "1719/1719 [==============================] - 13s 8ms/step - loss: 0.4703 - accuracy: 0.8401 - val_loss: 0.4131 - val_accuracy: 0.8596\n",
            "Epoch 8/10\n",
            "1719/1719 [==============================] - 13s 7ms/step - loss: 0.4554 - accuracy: 0.8424 - val_loss: 0.4031 - val_accuracy: 0.8618\n",
            "Epoch 9/10\n",
            "1719/1719 [==============================] - 14s 8ms/step - loss: 0.4430 - accuracy: 0.8471 - val_loss: 0.3944 - val_accuracy: 0.8638\n",
            "Epoch 10/10\n",
            "1719/1719 [==============================] - 13s 7ms/step - loss: 0.4312 - accuracy: 0.8504 - val_loss: 0.3874 - val_accuracy: 0.8662\n"
          ]
        }
      ],
      "source": [
        "model = keras.models.Sequential([\n",
        "    keras.layers.Flatten(input_shape=[28, 28]),\n",
        "    keras.layers.BatchNormalization(),\n",
        "    keras.layers.Dense(300, use_bias=False),\n",
        "    keras.layers.BatchNormalization(),\n",
        "    keras.layers.Activation(\"relu\"),\n",
        "    keras.layers.Dense(100, use_bias=False),\n",
        "    keras.layers.BatchNormalization(),\n",
        "    keras.layers.Activation(\"relu\"),\n",
        "    keras.layers.Dense(10, activation=\"softmax\")\n",
        "])\n",
        "\n",
        "model.compile(loss=\"sparse_categorical_crossentropy\",\n",
        "              optimizer=keras.optimizers.SGD(learning_rate=1e-3),\n",
        "              metrics=[\"accuracy\"])\n",
        "\n",
        "history = model.fit(X_train, y_train, epochs=10,\n",
        "                    validation_data=(X_valid, y_valid))"
      ]
    },
    {
      "cell_type": "code",
      "execution_count": 128,
      "metadata": {
        "id": "BSSJVlh9Eri7"
      },
      "outputs": [],
      "source": [
        "optimizer_value = keras.optimizers.SGD(clipvalue=1.0)\n",
        "optimizer_norm = keras.optimizers.SGD(clipnorm=1.0)"
      ]
    },
    {
      "cell_type": "code",
      "execution_count": 129,
      "metadata": {
        "id": "Qg3ddJbqL_aR"
      },
      "outputs": [],
      "source": [
        "def split_dataset(X, y):\n",
        "  y_5_or_6 = (y == 5) | (y == 6)\n",
        "  y_A = y[~y_5_or_6]\n",
        "  y_A[y_A > 6] -= 2\n",
        "  y_B = (y[y_5_or_6] == 6).astype(np.float32)\n",
        "  return ((X[~y_5_or_6], y_A),\n",
        "          (X[y_5_or_6], y_B))\n",
        "  \n",
        "(X_train_A, y_train_A), (X_train_B, y_train_B) = split_dataset(X_train, y_train)\n",
        "(X_valid_A, y_valid_A), (X_valid_B, y_valid_B) = split_dataset(X_valid, y_valid)\n",
        "(X_test_A, y_test_A), (X_test_B, y_test_B) = split_dataset(X_test, y_test)\n",
        "X_train_B = X_train_B[:200]\n",
        "y_train_B = y_train_B[:200]"
      ]
    },
    {
      "cell_type": "code",
      "execution_count": 130,
      "metadata": {
        "colab": {
          "base_uri": "https://localhost:8080/"
        },
        "id": "A1jgGH40M_TL",
        "outputId": "e7f6317e-ed55-495c-9d68-5dc9645dedf2"
      },
      "outputs": [
        {
          "output_type": "execute_result",
          "data": {
            "text/plain": [
              "(43986, 28, 28)"
            ]
          },
          "metadata": {},
          "execution_count": 130
        }
      ],
      "source": [
        "X_train_A.shape"
      ]
    },
    {
      "cell_type": "code",
      "execution_count": 131,
      "metadata": {
        "colab": {
          "base_uri": "https://localhost:8080/"
        },
        "id": "ymi3OeTmNA63",
        "outputId": "9f2a726b-4967-466b-e0dc-5e333566b303"
      },
      "outputs": [
        {
          "output_type": "execute_result",
          "data": {
            "text/plain": [
              "(200, 28, 28)"
            ]
          },
          "metadata": {},
          "execution_count": 131
        }
      ],
      "source": [
        "X_train_B.shape"
      ]
    },
    {
      "cell_type": "code",
      "execution_count": 132,
      "metadata": {
        "colab": {
          "base_uri": "https://localhost:8080/"
        },
        "id": "mXVNr1fGNCGW",
        "outputId": "7e251b86-58af-48d9-9b70-cb1b1ae3dca0"
      },
      "outputs": [
        {
          "output_type": "execute_result",
          "data": {
            "text/plain": [
              "array([4, 0, 5, 7, 7, 7, 4, 4, 3, 4, 0, 1, 6, 3, 4, 3, 2, 6, 5, 3, 4, 5,\n",
              "       1, 3, 4, 2, 0, 6, 7, 1], dtype=uint8)"
            ]
          },
          "metadata": {},
          "execution_count": 132
        }
      ],
      "source": [
        "y_train_A[:30]"
      ]
    },
    {
      "cell_type": "code",
      "execution_count": 133,
      "metadata": {
        "colab": {
          "base_uri": "https://localhost:8080/"
        },
        "id": "fssczstiNF7h",
        "outputId": "25ee678d-2d86-46f9-932b-0d8258a90b86"
      },
      "outputs": [
        {
          "output_type": "execute_result",
          "data": {
            "text/plain": [
              "array([1., 1., 0., 0., 0., 0., 1., 1., 1., 0., 0., 1., 1., 0., 0., 0., 0.,\n",
              "       0., 0., 1., 1., 0., 0., 1., 1., 0., 1., 1., 1., 1.], dtype=float32)"
            ]
          },
          "metadata": {},
          "execution_count": 133
        }
      ],
      "source": [
        "y_train_B[:30]"
      ]
    },
    {
      "cell_type": "code",
      "execution_count": 134,
      "metadata": {
        "id": "UxV4QBR8Jvbg"
      },
      "outputs": [],
      "source": [
        "tf.random.set_seed(42)\n",
        "np.random.seed(42)"
      ]
    },
    {
      "cell_type": "code",
      "execution_count": 135,
      "metadata": {
        "id": "YL84QfiHKGJ-"
      },
      "outputs": [],
      "source": [
        "model_A = keras.models.Sequential()\n",
        "model_A.add(keras.layers.Flatten(input_shape=[28, 28]))\n",
        "for n_hidden in (300, 100, 50, 50, 50):\n",
        "  model_A.add(keras.layers.Dense(n_hidden, activation=\"selu\"))\n",
        "model_A.add(keras.layers.Dense(8, activation=\"softmax\"))"
      ]
    },
    {
      "cell_type": "code",
      "execution_count": 136,
      "metadata": {
        "id": "I7uE7DtLKe5E"
      },
      "outputs": [],
      "source": [
        "model_A.compile(loss=\"sparse_categorical_crossentropy\",\n",
        "                optimizer=keras.optimizers.SGD(learning_rate=1e-3),\n",
        "                metrics=[\"accuracy\"])"
      ]
    },
    {
      "cell_type": "code",
      "execution_count": 137,
      "metadata": {
        "id": "tMjMDSJ4KpTW",
        "colab": {
          "base_uri": "https://localhost:8080/"
        },
        "outputId": "257929fa-2661-4636-cd58-a18a051b7ff1"
      },
      "outputs": [
        {
          "output_type": "stream",
          "name": "stdout",
          "text": [
            "Epoch 1/20\n",
            "1375/1375 [==============================] - 8s 6ms/step - loss: 0.5927 - accuracy: 0.8104 - val_loss: 0.3896 - val_accuracy: 0.8667\n",
            "Epoch 2/20\n",
            "1375/1375 [==============================] - 7s 5ms/step - loss: 0.3523 - accuracy: 0.8786 - val_loss: 0.3289 - val_accuracy: 0.8824\n",
            "Epoch 3/20\n",
            "1375/1375 [==============================] - 7s 5ms/step - loss: 0.3170 - accuracy: 0.8896 - val_loss: 0.3014 - val_accuracy: 0.8989\n",
            "Epoch 4/20\n",
            "1375/1375 [==============================] - 7s 5ms/step - loss: 0.2973 - accuracy: 0.8975 - val_loss: 0.2894 - val_accuracy: 0.9021\n",
            "Epoch 5/20\n",
            "1375/1375 [==============================] - 6s 5ms/step - loss: 0.2835 - accuracy: 0.9022 - val_loss: 0.2776 - val_accuracy: 0.9066\n",
            "Epoch 6/20\n",
            "1375/1375 [==============================] - 6s 4ms/step - loss: 0.2729 - accuracy: 0.9061 - val_loss: 0.2735 - val_accuracy: 0.9071\n",
            "Epoch 7/20\n",
            "1375/1375 [==============================] - 7s 5ms/step - loss: 0.2641 - accuracy: 0.9093 - val_loss: 0.2720 - val_accuracy: 0.9086\n",
            "Epoch 8/20\n",
            "1375/1375 [==============================] - 7s 5ms/step - loss: 0.2573 - accuracy: 0.9126 - val_loss: 0.2588 - val_accuracy: 0.9145\n",
            "Epoch 9/20\n",
            "1375/1375 [==============================] - 7s 5ms/step - loss: 0.2518 - accuracy: 0.9136 - val_loss: 0.2562 - val_accuracy: 0.9143\n",
            "Epoch 10/20\n",
            "1375/1375 [==============================] - 6s 5ms/step - loss: 0.2469 - accuracy: 0.9154 - val_loss: 0.2541 - val_accuracy: 0.9160\n",
            "Epoch 11/20\n",
            "1375/1375 [==============================] - 7s 5ms/step - loss: 0.2423 - accuracy: 0.9177 - val_loss: 0.2496 - val_accuracy: 0.9153\n",
            "Epoch 12/20\n",
            "1375/1375 [==============================] - 7s 5ms/step - loss: 0.2382 - accuracy: 0.9189 - val_loss: 0.2514 - val_accuracy: 0.9126\n",
            "Epoch 13/20\n",
            "1375/1375 [==============================] - 8s 6ms/step - loss: 0.2351 - accuracy: 0.9198 - val_loss: 0.2446 - val_accuracy: 0.9165\n",
            "Epoch 14/20\n",
            "1375/1375 [==============================] - 8s 6ms/step - loss: 0.2316 - accuracy: 0.9214 - val_loss: 0.2416 - val_accuracy: 0.9175\n",
            "Epoch 15/20\n",
            "1375/1375 [==============================] - 9s 6ms/step - loss: 0.2288 - accuracy: 0.9212 - val_loss: 0.2447 - val_accuracy: 0.9188\n",
            "Epoch 16/20\n",
            "1375/1375 [==============================] - 8s 6ms/step - loss: 0.2255 - accuracy: 0.9225 - val_loss: 0.2386 - val_accuracy: 0.9203\n",
            "Epoch 17/20\n",
            "1375/1375 [==============================] - 9s 7ms/step - loss: 0.2231 - accuracy: 0.9233 - val_loss: 0.2410 - val_accuracy: 0.9180\n",
            "Epoch 18/20\n",
            "1375/1375 [==============================] - 9s 7ms/step - loss: 0.2201 - accuracy: 0.9245 - val_loss: 0.2427 - val_accuracy: 0.9153\n",
            "Epoch 19/20\n",
            "1375/1375 [==============================] - 9s 7ms/step - loss: 0.2178 - accuracy: 0.9252 - val_loss: 0.2330 - val_accuracy: 0.9203\n",
            "Epoch 20/20\n",
            "1375/1375 [==============================] - 7s 5ms/step - loss: 0.2156 - accuracy: 0.9261 - val_loss: 0.2333 - val_accuracy: 0.9203\n"
          ]
        }
      ],
      "source": [
        "history = model_A.fit(X_train_A, y_train_A, epochs=20,\n",
        "                      validation_data=(X_valid_A, y_valid_A))"
      ]
    },
    {
      "cell_type": "code",
      "execution_count": 138,
      "metadata": {
        "id": "hkPLUcK5KwPk"
      },
      "outputs": [],
      "source": [
        "model_A.save(\"my_model_A.h5\")"
      ]
    },
    {
      "cell_type": "code",
      "execution_count": 139,
      "metadata": {
        "id": "FNdT9KD5Ky4-"
      },
      "outputs": [],
      "source": [
        "model_B = keras.models.Sequential()\n",
        "model_B.add(keras.layers.Flatten(input_shape=[28, 28]))\n",
        "for n_hidden in (300, 100, 50, 50, 50):\n",
        "  model_B.add(keras.layers.Dense(n_hidden, activation=\"selu\"))\n",
        "model_B.add(keras.layers.Dense(1, activation=\"sigmoid\"))"
      ]
    },
    {
      "cell_type": "code",
      "execution_count": 140,
      "metadata": {
        "id": "N-VC4MgoO0hT"
      },
      "outputs": [],
      "source": [
        "model_B.compile(loss=\"binary_crossentropy\",\n",
        "                optimizer=keras.optimizers.SGD(learning_rate=1e-3),\n",
        "                metrics=[\"accuracy\"])"
      ]
    },
    {
      "cell_type": "code",
      "execution_count": 141,
      "metadata": {
        "id": "s0ZkS7kSLO5s",
        "colab": {
          "base_uri": "https://localhost:8080/"
        },
        "outputId": "ad6dbd3c-dbf3-4b27-c256-9f2e5e8971ff"
      },
      "outputs": [
        {
          "output_type": "stream",
          "name": "stdout",
          "text": [
            "Epoch 1/20\n",
            "7/7 [==============================] - 1s 62ms/step - loss: 0.9573 - accuracy: 0.4650 - val_loss: 0.6314 - val_accuracy: 0.6004\n",
            "Epoch 2/20\n",
            "7/7 [==============================] - 0s 22ms/step - loss: 0.5692 - accuracy: 0.7450 - val_loss: 0.4784 - val_accuracy: 0.8529\n",
            "Epoch 3/20\n",
            "7/7 [==============================] - 0s 33ms/step - loss: 0.4503 - accuracy: 0.8650 - val_loss: 0.4102 - val_accuracy: 0.8945\n",
            "Epoch 4/20\n",
            "7/7 [==============================] - 0s 23ms/step - loss: 0.3879 - accuracy: 0.8950 - val_loss: 0.3647 - val_accuracy: 0.9178\n",
            "Epoch 5/20\n",
            "7/7 [==============================] - 0s 20ms/step - loss: 0.3435 - accuracy: 0.9250 - val_loss: 0.3300 - val_accuracy: 0.9320\n",
            "Epoch 6/20\n",
            "7/7 [==============================] - 0s 34ms/step - loss: 0.3081 - accuracy: 0.9300 - val_loss: 0.3019 - val_accuracy: 0.9402\n",
            "Epoch 7/20\n",
            "7/7 [==============================] - 0s 33ms/step - loss: 0.2800 - accuracy: 0.9350 - val_loss: 0.2804 - val_accuracy: 0.9422\n",
            "Epoch 8/20\n",
            "7/7 [==============================] - 0s 32ms/step - loss: 0.2564 - accuracy: 0.9450 - val_loss: 0.2606 - val_accuracy: 0.9473\n",
            "Epoch 9/20\n",
            "7/7 [==============================] - 0s 33ms/step - loss: 0.2362 - accuracy: 0.9550 - val_loss: 0.2428 - val_accuracy: 0.9523\n",
            "Epoch 10/20\n",
            "7/7 [==============================] - 0s 32ms/step - loss: 0.2188 - accuracy: 0.9600 - val_loss: 0.2281 - val_accuracy: 0.9544\n",
            "Epoch 11/20\n",
            "7/7 [==============================] - 0s 32ms/step - loss: 0.2036 - accuracy: 0.9700 - val_loss: 0.2150 - val_accuracy: 0.9584\n",
            "Epoch 12/20\n",
            "7/7 [==============================] - 0s 34ms/step - loss: 0.1898 - accuracy: 0.9700 - val_loss: 0.2036 - val_accuracy: 0.9584\n",
            "Epoch 13/20\n",
            "7/7 [==============================] - 0s 37ms/step - loss: 0.1773 - accuracy: 0.9750 - val_loss: 0.1931 - val_accuracy: 0.9615\n",
            "Epoch 14/20\n",
            "7/7 [==============================] - 0s 42ms/step - loss: 0.1668 - accuracy: 0.9800 - val_loss: 0.1838 - val_accuracy: 0.9635\n",
            "Epoch 15/20\n",
            "7/7 [==============================] - 0s 37ms/step - loss: 0.1570 - accuracy: 0.9900 - val_loss: 0.1746 - val_accuracy: 0.9686\n",
            "Epoch 16/20\n",
            "7/7 [==============================] - 0s 37ms/step - loss: 0.1481 - accuracy: 0.9900 - val_loss: 0.1674 - val_accuracy: 0.9686\n",
            "Epoch 17/20\n",
            "7/7 [==============================] - 0s 40ms/step - loss: 0.1406 - accuracy: 0.9900 - val_loss: 0.1604 - val_accuracy: 0.9706\n",
            "Epoch 18/20\n",
            "7/7 [==============================] - 0s 40ms/step - loss: 0.1334 - accuracy: 0.9900 - val_loss: 0.1539 - val_accuracy: 0.9706\n",
            "Epoch 19/20\n",
            "7/7 [==============================] - 0s 21ms/step - loss: 0.1268 - accuracy: 0.9900 - val_loss: 0.1482 - val_accuracy: 0.9716\n",
            "Epoch 20/20\n",
            "7/7 [==============================] - 0s 33ms/step - loss: 0.1208 - accuracy: 0.9900 - val_loss: 0.1431 - val_accuracy: 0.9716\n"
          ]
        }
      ],
      "source": [
        "history = model_B.fit(X_train_B, y_train_B, epochs=20,\n",
        "                      validation_data=(X_valid_B, y_valid_B))"
      ]
    },
    {
      "cell_type": "code",
      "execution_count": 142,
      "metadata": {
        "id": "tIGu4jqpLUYc",
        "colab": {
          "base_uri": "https://localhost:8080/"
        },
        "outputId": "6179399c-7b12-4e0a-e32b-7d902a0bf8d2"
      },
      "outputs": [
        {
          "output_type": "stream",
          "name": "stdout",
          "text": [
            "Model: \"sequential_24\"\n",
            "_________________________________________________________________\n",
            " Layer (type)                Output Shape              Param #   \n",
            "=================================================================\n",
            " flatten_22 (Flatten)        (None, 784)               0         \n",
            "                                                                 \n",
            " dense_477 (Dense)           (None, 300)               235500    \n",
            "                                                                 \n",
            " dense_478 (Dense)           (None, 100)               30100     \n",
            "                                                                 \n",
            " dense_479 (Dense)           (None, 50)                5050      \n",
            "                                                                 \n",
            " dense_480 (Dense)           (None, 50)                2550      \n",
            "                                                                 \n",
            " dense_481 (Dense)           (None, 50)                2550      \n",
            "                                                                 \n",
            " dense_482 (Dense)           (None, 1)                 51        \n",
            "                                                                 \n",
            "=================================================================\n",
            "Total params: 275,801\n",
            "Trainable params: 275,801\n",
            "Non-trainable params: 0\n",
            "_________________________________________________________________\n"
          ]
        }
      ],
      "source": [
        "model_B.summary()"
      ]
    },
    {
      "cell_type": "code",
      "execution_count": 143,
      "metadata": {
        "id": "Bmxsl0wZMNJ0"
      },
      "outputs": [],
      "source": [
        "model_A = keras.models.load_model(\"my_model_A.h5\")\n",
        "model_B_on_A = keras.models.Sequential(model_A.layers[:-1])\n",
        "model_B_on_A.add(keras.layers.Dense(1, activation=\"sigmoid\"))"
      ]
    },
    {
      "cell_type": "code",
      "execution_count": 144,
      "metadata": {
        "id": "L356LdnjMZzj"
      },
      "outputs": [],
      "source": [
        "model_A_clone = keras.models.clone_model(model_A)\n",
        "model_A_clone.set_weights(model_A.get_weights())\n",
        "model_B_on_A = keras.models.Sequential(model_A_clone.layers[:-1])\n",
        "model_B_on_A.add(keras.layers.Dense(1, activation=\"sigmoid\"))"
      ]
    },
    {
      "cell_type": "code",
      "execution_count": 145,
      "metadata": {
        "id": "eVYkoijUMrOr"
      },
      "outputs": [],
      "source": [
        "for layer in model_B_on_A.layers[:-1]:\n",
        "  layer.trainable = False\n",
        "model_B_on_A.compile(loss=\"binary_crossentropy\",\n",
        "                     optimizer=keras.optimizers.SGD(learning_rate=1e-3),\n",
        "                     metrics=[\"accuracy\"])"
      ]
    },
    {
      "cell_type": "code",
      "execution_count": 146,
      "metadata": {
        "id": "nzkQoJp0M4RL",
        "colab": {
          "base_uri": "https://localhost:8080/"
        },
        "outputId": "e3b327c0-7820-4371-c19e-d47c66af89c6"
      },
      "outputs": [
        {
          "output_type": "stream",
          "name": "stdout",
          "text": [
            "Epoch 1/4\n",
            "7/7 [==============================] - 1s 56ms/step - loss: 0.2632 - accuracy: 0.9400 - val_loss: 0.2779 - val_accuracy: 0.9270\n",
            "Epoch 2/4\n",
            "7/7 [==============================] - 0s 32ms/step - loss: 0.2536 - accuracy: 0.9400 - val_loss: 0.2685 - val_accuracy: 0.9300\n",
            "Epoch 3/4\n",
            "7/7 [==============================] - 0s 35ms/step - loss: 0.2444 - accuracy: 0.9400 - val_loss: 0.2599 - val_accuracy: 0.9351\n",
            "Epoch 4/4\n",
            "7/7 [==============================] - 0s 34ms/step - loss: 0.2360 - accuracy: 0.9400 - val_loss: 0.2518 - val_accuracy: 0.9381\n",
            "Epoch 1/16\n",
            "7/7 [==============================] - 1s 77ms/step - loss: 0.2113 - accuracy: 0.9450 - val_loss: 0.2040 - val_accuracy: 0.9635\n",
            "Epoch 2/16\n",
            "7/7 [==============================] - 0s 25ms/step - loss: 0.1691 - accuracy: 0.9550 - val_loss: 0.1719 - val_accuracy: 0.9716\n",
            "Epoch 3/16\n",
            "7/7 [==============================] - 0s 35ms/step - loss: 0.1404 - accuracy: 0.9700 - val_loss: 0.1492 - val_accuracy: 0.9807\n",
            "Epoch 4/16\n",
            "7/7 [==============================] - 0s 35ms/step - loss: 0.1195 - accuracy: 0.9800 - val_loss: 0.1326 - val_accuracy: 0.9817\n",
            "Epoch 5/16\n",
            "7/7 [==============================] - 0s 33ms/step - loss: 0.1045 - accuracy: 0.9900 - val_loss: 0.1202 - val_accuracy: 0.9848\n",
            "Epoch 6/16\n",
            "7/7 [==============================] - 0s 23ms/step - loss: 0.0928 - accuracy: 0.9950 - val_loss: 0.1104 - val_accuracy: 0.9858\n",
            "Epoch 7/16\n",
            "7/7 [==============================] - 0s 33ms/step - loss: 0.0837 - accuracy: 0.9950 - val_loss: 0.1023 - val_accuracy: 0.9858\n",
            "Epoch 8/16\n",
            "7/7 [==============================] - 0s 33ms/step - loss: 0.0763 - accuracy: 0.9950 - val_loss: 0.0955 - val_accuracy: 0.9868\n",
            "Epoch 9/16\n",
            "7/7 [==============================] - 0s 47ms/step - loss: 0.0699 - accuracy: 0.9950 - val_loss: 0.0894 - val_accuracy: 0.9868\n",
            "Epoch 10/16\n",
            "7/7 [==============================] - 0s 36ms/step - loss: 0.0642 - accuracy: 0.9950 - val_loss: 0.0846 - val_accuracy: 0.9888\n",
            "Epoch 11/16\n",
            "7/7 [==============================] - 0s 34ms/step - loss: 0.0597 - accuracy: 0.9950 - val_loss: 0.0802 - val_accuracy: 0.9888\n",
            "Epoch 12/16\n",
            "7/7 [==============================] - 0s 31ms/step - loss: 0.0555 - accuracy: 1.0000 - val_loss: 0.0764 - val_accuracy: 0.9888\n",
            "Epoch 13/16\n",
            "7/7 [==============================] - 0s 35ms/step - loss: 0.0518 - accuracy: 1.0000 - val_loss: 0.0731 - val_accuracy: 0.9878\n",
            "Epoch 14/16\n",
            "7/7 [==============================] - 0s 42ms/step - loss: 0.0486 - accuracy: 1.0000 - val_loss: 0.0702 - val_accuracy: 0.9878\n",
            "Epoch 15/16\n",
            "7/7 [==============================] - 0s 36ms/step - loss: 0.0460 - accuracy: 1.0000 - val_loss: 0.0677 - val_accuracy: 0.9878\n",
            "Epoch 16/16\n",
            "7/7 [==============================] - 0s 36ms/step - loss: 0.0436 - accuracy: 1.0000 - val_loss: 0.0654 - val_accuracy: 0.9878\n"
          ]
        }
      ],
      "source": [
        "history = model_B_on_A.fit(X_train_B, y_train_B, epochs=4,\n",
        "                           validation_data=(X_valid_B, y_valid_B))\n",
        "\n",
        "for layer in model_B_on_A.layers[:-1]:\n",
        "  layer.trainable = True\n",
        "model_B_on_A.compile(loss=\"binary_crossentropy\",\n",
        "                     optimizer=keras.optimizers.SGD(learning_rate=1e-3),\n",
        "                     metrics=[\"accuracy\"])\n",
        "history = model_B_on_A.fit(X_train_B, y_train_B, epochs=16,\n",
        "                           validation_data=(X_valid_B, y_valid_B))"
      ]
    },
    {
      "cell_type": "code",
      "execution_count": 147,
      "metadata": {
        "id": "Lk3p_PTMNWXb",
        "colab": {
          "base_uri": "https://localhost:8080/"
        },
        "outputId": "03ba012e-720d-499b-c37e-734f107f457e"
      },
      "outputs": [
        {
          "output_type": "stream",
          "name": "stdout",
          "text": [
            "63/63 [==============================] - 0s 5ms/step - loss: 0.1408 - accuracy: 0.9705\n"
          ]
        },
        {
          "output_type": "execute_result",
          "data": {
            "text/plain": [
              "[0.1408407837152481, 0.9704999923706055]"
            ]
          },
          "metadata": {},
          "execution_count": 147
        }
      ],
      "source": [
        "model_B.evaluate(X_test_B, y_test_B)"
      ]
    },
    {
      "cell_type": "code",
      "execution_count": 148,
      "metadata": {
        "id": "R7PnAWd7NcmM",
        "colab": {
          "base_uri": "https://localhost:8080/"
        },
        "outputId": "4948bbcb-268c-4676-f9ad-48662be472ea"
      },
      "outputs": [
        {
          "output_type": "stream",
          "name": "stdout",
          "text": [
            "63/63 [==============================] - 0s 4ms/step - loss: 0.0564 - accuracy: 0.9940\n"
          ]
        },
        {
          "output_type": "execute_result",
          "data": {
            "text/plain": [
              "[0.056372594088315964, 0.9940000176429749]"
            ]
          },
          "metadata": {},
          "execution_count": 148
        }
      ],
      "source": [
        "model_B_on_A.evaluate(X_test_B, y_test_B)"
      ]
    },
    {
      "cell_type": "code",
      "execution_count": 149,
      "metadata": {
        "id": "hYqmGtjHNgDC",
        "colab": {
          "base_uri": "https://localhost:8080/"
        },
        "outputId": "bc68b99b-8e88-4341-ed90-a19b5a35babe"
      },
      "outputs": [
        {
          "output_type": "execute_result",
          "data": {
            "text/plain": [
              "4.916666666666718"
            ]
          },
          "metadata": {},
          "execution_count": 149
        }
      ],
      "source": [
        "(100 - 97.05) / (100 - 99.40)"
      ]
    },
    {
      "cell_type": "code",
      "source": [
        "optimizer = keras.optimizers.SGD(learning_rate=0.001, momentum=0.9)"
      ],
      "metadata": {
        "id": "linK7usSUIlY"
      },
      "execution_count": 150,
      "outputs": []
    },
    {
      "cell_type": "code",
      "source": [
        "optimizer = keras.optimizers.SGD(learning_rate=0.001, momentum=0.9, nesterov=True)"
      ],
      "metadata": {
        "id": "5zHghZcVUkg8"
      },
      "execution_count": 151,
      "outputs": []
    },
    {
      "cell_type": "code",
      "source": [
        "optimizer = keras.optimizers.Adagrad(learning_rate=0.001)"
      ],
      "metadata": {
        "id": "YFqqsjtIUmpw"
      },
      "execution_count": 152,
      "outputs": []
    },
    {
      "cell_type": "code",
      "source": [
        "optimizer = keras.optimizers.RMSprop(learning_rate=0.001, rho=0.9)"
      ],
      "metadata": {
        "id": "yKm65uJZUox6"
      },
      "execution_count": 153,
      "outputs": []
    },
    {
      "cell_type": "code",
      "source": [
        "optimizer = keras.optimizers.Adam(learning_rate=0.001, beta_1=0.9, beta_2=0.999)"
      ],
      "metadata": {
        "id": "QFUXV_j2UqnR"
      },
      "execution_count": 154,
      "outputs": []
    },
    {
      "cell_type": "code",
      "source": [
        "optimizer = keras.optimizers.Adamax(learning_rate=0.001, beta_1=0.9, beta_2=0.999)"
      ],
      "metadata": {
        "id": "f-PcdpoPUtuq"
      },
      "execution_count": 155,
      "outputs": []
    },
    {
      "cell_type": "code",
      "source": [
        "optimizer = keras.optimizers.Nadam(learning_rate=0.001, beta_1=0.9, beta_2=0.999)"
      ],
      "metadata": {
        "id": "nIRsvuzxUvjh"
      },
      "execution_count": 156,
      "outputs": []
    },
    {
      "cell_type": "code",
      "source": [
        "optimizer = keras.optimizers.SGD(learning_rate=0.01, decay=1e-4)"
      ],
      "metadata": {
        "id": "TkPvrCXdUx0L"
      },
      "execution_count": 157,
      "outputs": []
    },
    {
      "cell_type": "code",
      "source": [
        "model = keras.models.Sequential([\n",
        "    keras.layers.Flatten(input_shape=[28, 28]),\n",
        "    keras.layers.Dense(300, activation=\"selu\", kernel_initializer=\"lecun_normal\"),\n",
        "    keras.layers.Dense(100, activation=\"selu\", kernel_initializer=\"lecun_normal\"),\n",
        "    keras.layers.Dense(10, activation=\"softmax\"),\n",
        "])\n",
        "model.compile(loss=\"sparse_categorical_crossentropy\", optimizer=optimizer, metrics=[\"accuracy\"])"
      ],
      "metadata": {
        "id": "3AicWLcQVzzU"
      },
      "execution_count": 158,
      "outputs": []
    },
    {
      "cell_type": "code",
      "source": [
        "n_epochs = 25\n",
        "history = model.fit(X_train_scaled, y_train, epochs=n_epochs,\n",
        "                    validation_data=(X_valid_scaled, y_valid))"
      ],
      "metadata": {
        "colab": {
          "base_uri": "https://localhost:8080/"
        },
        "id": "rlDbed-sWOp0",
        "outputId": "dc406676-f737-493a-db94-15341a32de68"
      },
      "execution_count": 159,
      "outputs": [
        {
          "output_type": "stream",
          "name": "stdout",
          "text": [
            "Epoch 1/25\n",
            "1719/1719 [==============================] - 9s 5ms/step - loss: 0.4898 - accuracy: 0.8265 - val_loss: 0.4063 - val_accuracy: 0.8608\n",
            "Epoch 2/25\n",
            "1719/1719 [==============================] - 8s 5ms/step - loss: 0.3792 - accuracy: 0.8655 - val_loss: 0.3729 - val_accuracy: 0.8718\n",
            "Epoch 3/25\n",
            "1719/1719 [==============================] - 8s 5ms/step - loss: 0.3467 - accuracy: 0.8774 - val_loss: 0.3747 - val_accuracy: 0.8720\n",
            "Epoch 4/25\n",
            "1719/1719 [==============================] - 7s 4ms/step - loss: 0.3259 - accuracy: 0.8845 - val_loss: 0.3512 - val_accuracy: 0.8780\n",
            "Epoch 5/25\n",
            "1719/1719 [==============================] - 8s 5ms/step - loss: 0.3107 - accuracy: 0.8897 - val_loss: 0.3449 - val_accuracy: 0.8788\n",
            "Epoch 6/25\n",
            "1719/1719 [==============================] - 8s 5ms/step - loss: 0.2972 - accuracy: 0.8940 - val_loss: 0.3419 - val_accuracy: 0.8844\n",
            "Epoch 7/25\n",
            "1719/1719 [==============================] - 9s 5ms/step - loss: 0.2871 - accuracy: 0.8981 - val_loss: 0.3379 - val_accuracy: 0.8824\n",
            "Epoch 8/25\n",
            "1719/1719 [==============================] - 9s 5ms/step - loss: 0.2779 - accuracy: 0.9014 - val_loss: 0.3423 - val_accuracy: 0.8796\n",
            "Epoch 9/25\n",
            "1719/1719 [==============================] - 8s 5ms/step - loss: 0.2698 - accuracy: 0.9030 - val_loss: 0.3290 - val_accuracy: 0.8852\n",
            "Epoch 10/25\n",
            "1719/1719 [==============================] - 8s 5ms/step - loss: 0.2625 - accuracy: 0.9058 - val_loss: 0.3284 - val_accuracy: 0.8860\n",
            "Epoch 11/25\n",
            "1719/1719 [==============================] - 8s 5ms/step - loss: 0.2565 - accuracy: 0.9091 - val_loss: 0.3266 - val_accuracy: 0.8884\n",
            "Epoch 12/25\n",
            "1719/1719 [==============================] - 9s 5ms/step - loss: 0.2505 - accuracy: 0.9111 - val_loss: 0.3338 - val_accuracy: 0.8800\n",
            "Epoch 13/25\n",
            "1719/1719 [==============================] - 7s 4ms/step - loss: 0.2449 - accuracy: 0.9132 - val_loss: 0.3247 - val_accuracy: 0.8906\n",
            "Epoch 14/25\n",
            "1719/1719 [==============================] - 8s 5ms/step - loss: 0.2408 - accuracy: 0.9144 - val_loss: 0.3288 - val_accuracy: 0.8866\n",
            "Epoch 15/25\n",
            "1719/1719 [==============================] - 8s 5ms/step - loss: 0.2355 - accuracy: 0.9164 - val_loss: 0.3230 - val_accuracy: 0.8884\n",
            "Epoch 16/25\n",
            "1719/1719 [==============================] - 7s 4ms/step - loss: 0.2316 - accuracy: 0.9185 - val_loss: 0.3208 - val_accuracy: 0.8906\n",
            "Epoch 17/25\n",
            "1719/1719 [==============================] - 8s 5ms/step - loss: 0.2277 - accuracy: 0.9187 - val_loss: 0.3245 - val_accuracy: 0.8902\n",
            "Epoch 18/25\n",
            "1719/1719 [==============================] - 8s 5ms/step - loss: 0.2236 - accuracy: 0.9214 - val_loss: 0.3195 - val_accuracy: 0.8916\n",
            "Epoch 19/25\n",
            "1719/1719 [==============================] - 8s 5ms/step - loss: 0.2203 - accuracy: 0.9225 - val_loss: 0.3230 - val_accuracy: 0.8892\n",
            "Epoch 20/25\n",
            "1719/1719 [==============================] - 9s 5ms/step - loss: 0.2170 - accuracy: 0.9237 - val_loss: 0.3206 - val_accuracy: 0.8906\n",
            "Epoch 21/25\n",
            "1719/1719 [==============================] - 8s 5ms/step - loss: 0.2134 - accuracy: 0.9253 - val_loss: 0.3205 - val_accuracy: 0.8890\n",
            "Epoch 22/25\n",
            "1719/1719 [==============================] - 8s 5ms/step - loss: 0.2109 - accuracy: 0.9267 - val_loss: 0.3186 - val_accuracy: 0.8900\n",
            "Epoch 23/25\n",
            "1719/1719 [==============================] - 7s 4ms/step - loss: 0.2080 - accuracy: 0.9274 - val_loss: 0.3207 - val_accuracy: 0.8914\n",
            "Epoch 24/25\n",
            "1719/1719 [==============================] - 8s 5ms/step - loss: 0.2051 - accuracy: 0.9289 - val_loss: 0.3207 - val_accuracy: 0.8896\n",
            "Epoch 25/25\n",
            "1719/1719 [==============================] - 8s 5ms/step - loss: 0.2029 - accuracy: 0.9291 - val_loss: 0.3202 - val_accuracy: 0.8892\n"
          ]
        }
      ]
    },
    {
      "cell_type": "code",
      "source": [
        "import math\n",
        "\n",
        "learning_rate = 0.01\n",
        "decay = 1e-4\n",
        "batch_size = 32\n",
        "n_steps_per_epoch = math.ceil(len(X_train) / batch_size)\n",
        "epochs = np.arange(n_epochs)\n",
        "lrs = learning_rate / (1 + decay * epochs * n_steps_per_epoch)"
      ],
      "metadata": {
        "id": "vBaAoAMqWc5p"
      },
      "execution_count": 160,
      "outputs": []
    },
    {
      "cell_type": "code",
      "source": [
        "plt.plot(epochs, lrs, \"o-\")\n",
        "plt.axis([0, n_epochs -1, 0, 0.01])\n",
        "plt.xlabel(\"Epoch\")\n",
        "plt.ylabel(\"Learning Rate\")\n",
        "plt.title(\"Power Scheduling\", fontsize=14)\n",
        "plt.grid(True)\n",
        "plt.show()"
      ],
      "metadata": {
        "colab": {
          "base_uri": "https://localhost:8080/",
          "height": 303
        },
        "id": "V2e2sM2SWtot",
        "outputId": "3f80d533-17b2-4ec9-bfce-f81b0b7605b9"
      },
      "execution_count": 161,
      "outputs": [
        {
          "output_type": "display_data",
          "data": {
            "text/plain": [
              "<Figure size 432x288 with 1 Axes>"
            ],
            "image/png": "[encoded data removed]"
          },
          "metadata": {
            "needs_background": "light"
          }
        }
      ]
    },
    {
      "cell_type": "code",
      "source": [
        "def exponential_decay_fn(epoch):\n",
        "  return 0.01 * 0.1 ** (epoch / 20)"
      ],
      "metadata": {
        "id": "nmUK3WfRW7HR"
      },
      "execution_count": 162,
      "outputs": []
    },
    {
      "cell_type": "code",
      "source": [
        "def exponential_decay(lr0, s):\n",
        "  def exponential_decay_fn(epoch):\n",
        "    return lr0 * 0.1 ** (epoch / s)\n",
        "  return exponential_decay_fn\n",
        "\n",
        "exponential_decay_fn = exponential_decay(lr0=0.01, s=20)"
      ],
      "metadata": {
        "id": "M891u8H_XCea"
      },
      "execution_count": 163,
      "outputs": []
    },
    {
      "cell_type": "code",
      "source": [
        "model = keras.models.Sequential([\n",
        "    keras.layers.Flatten(input_shape=[28, 28]),\n",
        "    keras.layers.Dense(300, activation=\"selu\", kernel_initializer=\"lecun_normal\"),\n",
        "    keras.layers.Dense(100, activation=\"selu\", kernel_initializer=\"lecun_normal\"),\n",
        "    keras.layers.Dense(10, activation=\"softmax\")\n",
        "])\n",
        "model.compile(loss=\"sparse_categorical_crossentropy\", optimizer=\"nadam\", metrics=[\"accuracy\"])\n",
        "\n",
        "lr_scheduler = keras.callbacks.LearningRateScheduler(exponential_decay_fn)\n",
        "history = model.fit(X_train_scaled, y_train, epochs=n_epochs,\n",
        "                    validation_data=(X_valid_scaled, y_valid),\n",
        "                    callbacks=[lr_scheduler])"
      ],
      "metadata": {
        "colab": {
          "base_uri": "https://localhost:8080/"
        },
        "id": "lrVQHF7PXTOZ",
        "outputId": "681f7dd5-1ce2-4237-9ca2-74817d9a24f9"
      },
      "execution_count": 164,
      "outputs": [
        {
          "output_type": "stream",
          "name": "stdout",
          "text": [
            "Epoch 1/25\n",
            "1719/1719 [==============================] - 15s 8ms/step - loss: 0.8566 - accuracy: 0.7552 - val_loss: 0.8053 - val_accuracy: 0.7670 - lr: 0.0100\n",
            "Epoch 2/25\n",
            "1719/1719 [==============================] - 15s 9ms/step - loss: 0.7229 - accuracy: 0.7798 - val_loss: 0.7611 - val_accuracy: 0.7492 - lr: 0.0089\n",
            "Epoch 3/25\n",
            "1719/1719 [==============================] - 15s 9ms/step - loss: 0.5840 - accuracy: 0.8172 - val_loss: 0.7166 - val_accuracy: 0.7696 - lr: 0.0079\n",
            "Epoch 4/25\n",
            "1719/1719 [==============================] - 16s 9ms/step - loss: 0.5428 - accuracy: 0.8329 - val_loss: 0.5661 - val_accuracy: 0.8382 - lr: 0.0071\n",
            "Epoch 5/25\n",
            "1719/1719 [==============================] - 16s 9ms/step - loss: 0.4897 - accuracy: 0.8467 - val_loss: 0.7592 - val_accuracy: 0.7672 - lr: 0.0063\n",
            "Epoch 6/25\n",
            "1719/1719 [==============================] - 16s 10ms/step - loss: 0.4553 - accuracy: 0.8578 - val_loss: 0.4661 - val_accuracy: 0.8608 - lr: 0.0056\n",
            "Epoch 7/25\n",
            "1719/1719 [==============================] - 16s 10ms/step - loss: 0.4128 - accuracy: 0.8673 - val_loss: 0.4703 - val_accuracy: 0.8572 - lr: 0.0050\n",
            "Epoch 8/25\n",
            "1719/1719 [==============================] - 14s 8ms/step - loss: 0.3863 - accuracy: 0.8744 - val_loss: 0.4907 - val_accuracy: 0.8514 - lr: 0.0045\n",
            "Epoch 9/25\n",
            "1719/1719 [==============================] - 15s 9ms/step - loss: 0.3557 - accuracy: 0.8834 - val_loss: 0.4388 - val_accuracy: 0.8464 - lr: 0.0040\n",
            "Epoch 10/25\n",
            "1719/1719 [==============================] - 17s 10ms/step - loss: 0.3160 - accuracy: 0.8920 - val_loss: 0.4379 - val_accuracy: 0.8786 - lr: 0.0035\n",
            "Epoch 11/25\n",
            "1719/1719 [==============================] - 14s 8ms/step - loss: 0.3063 - accuracy: 0.8958 - val_loss: 0.4564 - val_accuracy: 0.8704 - lr: 0.0032\n",
            "Epoch 12/25\n",
            "1719/1719 [==============================] - 15s 9ms/step - loss: 0.2825 - accuracy: 0.9024 - val_loss: 0.4155 - val_accuracy: 0.8768 - lr: 0.0028\n",
            "Epoch 13/25\n",
            "1719/1719 [==============================] - 16s 9ms/step - loss: 0.2653 - accuracy: 0.9097 - val_loss: 0.4651 - val_accuracy: 0.8764 - lr: 0.0025\n",
            "Epoch 14/25\n",
            "1719/1719 [==============================] - 17s 10ms/step - loss: 0.2458 - accuracy: 0.9161 - val_loss: 0.4479 - val_accuracy: 0.8718 - lr: 0.0022\n",
            "Epoch 15/25\n",
            "1719/1719 [==============================] - 17s 10ms/step - loss: 0.2290 - accuracy: 0.9210 - val_loss: 0.4426 - val_accuracy: 0.8806 - lr: 0.0020\n",
            "Epoch 16/25\n",
            "1719/1719 [==============================] - 14s 8ms/step - loss: 0.2095 - accuracy: 0.9273 - val_loss: 0.4369 - val_accuracy: 0.8862 - lr: 0.0018\n",
            "Epoch 17/25\n",
            "1719/1719 [==============================] - 14s 8ms/step - loss: 0.1984 - accuracy: 0.9307 - val_loss: 0.4770 - val_accuracy: 0.8836 - lr: 0.0016\n",
            "Epoch 18/25\n",
            "1719/1719 [==============================] - 14s 8ms/step - loss: 0.1841 - accuracy: 0.9369 - val_loss: 0.4695 - val_accuracy: 0.8856 - lr: 0.0014\n",
            "Epoch 19/25\n",
            "1719/1719 [==============================] - 14s 8ms/step - loss: 0.1704 - accuracy: 0.9411 - val_loss: 0.4928 - val_accuracy: 0.8932 - lr: 0.0013\n",
            "Epoch 20/25\n",
            "1719/1719 [==============================] - 15s 9ms/step - loss: 0.1597 - accuracy: 0.9451 - val_loss: 0.4844 - val_accuracy: 0.8858 - lr: 0.0011\n",
            "Epoch 21/25\n",
            "1719/1719 [==============================] - 16s 9ms/step - loss: 0.1487 - accuracy: 0.9490 - val_loss: 0.5315 - val_accuracy: 0.8880 - lr: 0.0010\n",
            "Epoch 22/25\n",
            "1719/1719 [==============================] - 15s 9ms/step - loss: 0.1389 - accuracy: 0.9531 - val_loss: 0.5520 - val_accuracy: 0.8894 - lr: 8.9125e-04\n",
            "Epoch 23/25\n",
            "1719/1719 [==============================] - 14s 8ms/step - loss: 0.1321 - accuracy: 0.9571 - val_loss: 0.5454 - val_accuracy: 0.8886 - lr: 7.9433e-04\n",
            "Epoch 24/25\n",
            "1719/1719 [==============================] - 13s 7ms/step - loss: 0.1211 - accuracy: 0.9593 - val_loss: 0.6148 - val_accuracy: 0.8922 - lr: 7.0795e-04\n",
            "Epoch 25/25\n",
            "1719/1719 [==============================] - 15s 8ms/step - loss: 0.1149 - accuracy: 0.9615 - val_loss: 0.6273 - val_accuracy: 0.8894 - lr: 6.3096e-04\n"
          ]
        }
      ]
    },
    {
      "cell_type": "code",
      "source": [
        "plt.plot(history.epoch, history.history[\"lr\"], \"o-\")\n",
        "plt.axis([0, n_epochs - 1, 0, 0.011])\n",
        "plt.xlabel(\"Epoch\")\n",
        "plt.ylabel(\"Learning Rate\")\n",
        "plt.title(\"Exponential Scheduling\", fontsize=14)\n",
        "plt.grid(True)\n",
        "plt.show()"
      ],
      "metadata": {
        "colab": {
          "base_uri": "https://localhost:8080/",
          "height": 303
        },
        "id": "jtbKgIg2YfBB",
        "outputId": "555a365d-8d8e-4943-808d-45315183fe1f"
      },
      "execution_count": 165,
      "outputs": [
        {
          "output_type": "display_data",
          "data": {
            "text/plain": [
              "<Figure size 432x288 with 1 Axes>"
            ],
            "image/png": "[encoded data removed]"
          },
          "metadata": {
            "needs_background": "light"
          }
        }
      ]
    },
    {
      "cell_type": "code",
      "source": [
        "def exponential_decay_fn(epoch, lr):\n",
        "    return lr * 0.1**(1 / 20)"
      ],
      "metadata": {
        "id": "04_UBLzhYgjp"
      },
      "execution_count": 166,
      "outputs": []
    },
    {
      "cell_type": "code",
      "source": [
        "K = keras.backend\n",
        "\n",
        "class ExponentialDecay(keras.callbacks.Callback):\n",
        "    def __init__(self, s=40000):\n",
        "        super().__init__()\n",
        "        self.s = s\n",
        "\n",
        "    def on_batch_begin(self, batch, logs=None):\n",
        "        # 노트: 에포크마다 `batch` 매개변수가 재설정됩니다\n",
        "        lr = K.get_value(self.model.optimizer.lr)\n",
        "        K.set_value(self.model.optimizer.lr, lr * 0.1**(1 / self.s))\n",
        "\n",
        "    def on_epoch_end(self, epoch, logs=None):\n",
        "        logs = logs or {}\n",
        "        logs['lr'] = K.get_value(self.model.optimizer.lr)\n",
        "\n",
        "model = keras.models.Sequential([\n",
        "    keras.layers.Flatten(input_shape=[28, 28]),\n",
        "    keras.layers.Dense(300, activation=\"selu\", kernel_initializer=\"lecun_normal\"),\n",
        "    keras.layers.Dense(100, activation=\"selu\", kernel_initializer=\"lecun_normal\"),\n",
        "    keras.layers.Dense(10, activation=\"softmax\")\n",
        "])\n",
        "lr0 = 0.01\n",
        "optimizer = keras.optimizers.Nadam(learning_rate=lr0)\n",
        "model.compile(loss=\"sparse_categorical_crossentropy\", optimizer=optimizer, metrics=[\"accuracy\"])\n",
        "n_epochs = 25\n",
        "\n",
        "s = 20 * len(X_train) // 32 # 20 에포크 동안 스텝 횟수 (배치 크기 = 32)\n",
        "exp_decay = ExponentialDecay(s)\n",
        "history = model.fit(X_train_scaled, y_train, epochs=n_epochs,\n",
        "                    validation_data=(X_valid_scaled, y_valid),\n",
        "                    callbacks=[exp_decay])"
      ],
      "metadata": {
        "colab": {
          "base_uri": "https://localhost:8080/"
        },
        "id": "ONf82g34YkgY",
        "outputId": "20122a62-b6ce-427c-93ef-744b0c4500d6"
      },
      "execution_count": 167,
      "outputs": [
        {
          "output_type": "stream",
          "name": "stdout",
          "text": [
            "Epoch 1/25\n",
            "1719/1719 [==============================] - 15s 8ms/step - loss: 0.8082 - accuracy: 0.7620 - val_loss: 0.9582 - val_accuracy: 0.7690 - lr: 0.0089\n",
            "Epoch 2/25\n",
            "1719/1719 [==============================] - 16s 10ms/step - loss: 0.6669 - accuracy: 0.7979 - val_loss: 0.5285 - val_accuracy: 0.8336 - lr: 0.0079\n",
            "Epoch 3/25\n",
            "1719/1719 [==============================] - 15s 9ms/step - loss: 0.6080 - accuracy: 0.8151 - val_loss: 0.8994 - val_accuracy: 0.7156 - lr: 0.0071\n",
            "Epoch 4/25\n",
            "1719/1719 [==============================] - 13s 8ms/step - loss: 0.5005 - accuracy: 0.8413 - val_loss: 0.4545 - val_accuracy: 0.8598 - lr: 0.0063\n",
            "Epoch 5/25\n",
            "1719/1719 [==============================] - 15s 8ms/step - loss: 0.4673 - accuracy: 0.8531 - val_loss: 0.4943 - val_accuracy: 0.8620 - lr: 0.0056\n",
            "Epoch 6/25\n",
            "1719/1719 [==============================] - 14s 8ms/step - loss: 0.4218 - accuracy: 0.8659 - val_loss: 0.4853 - val_accuracy: 0.8660 - lr: 0.0050\n",
            "Epoch 7/25\n",
            "1719/1719 [==============================] - 15s 9ms/step - loss: 0.3927 - accuracy: 0.8731 - val_loss: 0.4795 - val_accuracy: 0.8658 - lr: 0.0045\n",
            "Epoch 8/25\n",
            "1719/1719 [==============================] - 15s 9ms/step - loss: 0.3556 - accuracy: 0.8813 - val_loss: 0.4809 - val_accuracy: 0.8552 - lr: 0.0040\n",
            "Epoch 9/25\n",
            "1719/1719 [==============================] - 15s 9ms/step - loss: 0.3396 - accuracy: 0.8872 - val_loss: 0.4737 - val_accuracy: 0.8636 - lr: 0.0035\n",
            "Epoch 10/25\n",
            "1719/1719 [==============================] - 14s 8ms/step - loss: 0.3177 - accuracy: 0.8937 - val_loss: 0.5084 - val_accuracy: 0.8804 - lr: 0.0032\n",
            "Epoch 11/25\n",
            "1719/1719 [==============================] - 15s 9ms/step - loss: 0.2909 - accuracy: 0.9021 - val_loss: 0.4180 - val_accuracy: 0.8690 - lr: 0.0028\n",
            "Epoch 12/25\n",
            "1719/1719 [==============================] - 15s 9ms/step - loss: 0.2677 - accuracy: 0.9078 - val_loss: 0.4496 - val_accuracy: 0.8792 - lr: 0.0025\n",
            "Epoch 13/25\n",
            "1719/1719 [==============================] - 16s 9ms/step - loss: 0.2489 - accuracy: 0.9145 - val_loss: 0.4498 - val_accuracy: 0.8816 - lr: 0.0022\n",
            "Epoch 14/25\n",
            "1719/1719 [==============================] - 15s 8ms/step - loss: 0.2378 - accuracy: 0.9199 - val_loss: 0.4655 - val_accuracy: 0.8744 - lr: 0.0020\n",
            "Epoch 15/25\n",
            "1719/1719 [==============================] - 15s 9ms/step - loss: 0.2168 - accuracy: 0.9249 - val_loss: 0.4530 - val_accuracy: 0.8858 - lr: 0.0018\n",
            "Epoch 16/25\n",
            "1719/1719 [==============================] - 15s 9ms/step - loss: 0.1993 - accuracy: 0.9317 - val_loss: 0.4563 - val_accuracy: 0.8914 - lr: 0.0016\n",
            "Epoch 17/25\n",
            "1719/1719 [==============================] - 14s 8ms/step - loss: 0.1857 - accuracy: 0.9359 - val_loss: 0.4958 - val_accuracy: 0.8870 - lr: 0.0014\n",
            "Epoch 18/25\n",
            "1719/1719 [==============================] - 14s 8ms/step - loss: 0.1732 - accuracy: 0.9403 - val_loss: 0.4914 - val_accuracy: 0.8864 - lr: 0.0013\n",
            "Epoch 19/25\n",
            "1719/1719 [==============================] - 15s 9ms/step - loss: 0.1618 - accuracy: 0.9455 - val_loss: 0.4814 - val_accuracy: 0.8912 - lr: 0.0011\n",
            "Epoch 20/25\n",
            "1719/1719 [==============================] - 15s 9ms/step - loss: 0.1485 - accuracy: 0.9501 - val_loss: 0.5208 - val_accuracy: 0.8912 - lr: 9.9967e-04\n",
            "Epoch 21/25\n",
            "1719/1719 [==============================] - 16s 9ms/step - loss: 0.1409 - accuracy: 0.9526 - val_loss: 0.5572 - val_accuracy: 0.8866 - lr: 8.9094e-04\n",
            "Epoch 22/25\n",
            "1719/1719 [==============================] - 14s 8ms/step - loss: 0.1288 - accuracy: 0.9578 - val_loss: 0.5700 - val_accuracy: 0.8946 - lr: 7.9404e-04\n",
            "Epoch 23/25\n",
            "1719/1719 [==============================] - 14s 8ms/step - loss: 0.1213 - accuracy: 0.9603 - val_loss: 0.5984 - val_accuracy: 0.8928 - lr: 7.0767e-04\n",
            "Epoch 24/25\n",
            "1719/1719 [==============================] - 14s 8ms/step - loss: 0.1158 - accuracy: 0.9625 - val_loss: 0.5955 - val_accuracy: 0.8890 - lr: 6.3071e-04\n",
            "Epoch 25/25\n",
            "1719/1719 [==============================] - 15s 9ms/step - loss: 0.1084 - accuracy: 0.9649 - val_loss: 0.6212 - val_accuracy: 0.8922 - lr: 5.6211e-04\n"
          ]
        }
      ]
    },
    {
      "cell_type": "code",
      "source": [
        "n_steps = n_epochs * len(X_train) // 32\n",
        "steps = np.arange(n_steps)\n",
        "lrs = lr0 * 0.1**(steps / s)"
      ],
      "metadata": {
        "id": "eVvFq7HCYsry"
      },
      "execution_count": 168,
      "outputs": []
    },
    {
      "cell_type": "code",
      "source": [
        "plt.plot(steps, lrs, \"-\", linewidth=2)\n",
        "plt.axis([0, n_steps - 1, 0, lr0 * 1.1])\n",
        "plt.xlabel(\"Batch\")\n",
        "plt.ylabel(\"Learning Rate\")\n",
        "plt.title(\"Exponential Scheduling (per batch)\", fontsize=14)\n",
        "plt.grid(True)\n",
        "plt.show()"
      ],
      "metadata": {
        "colab": {
          "base_uri": "https://localhost:8080/",
          "height": 303
        },
        "id": "a5xe9afwYvNB",
        "outputId": "7d1c2617-1392-4199-f514-0e2e638fce82"
      },
      "execution_count": 169,
      "outputs": [
        {
          "output_type": "display_data",
          "data": {
            "text/plain": [
              "<Figure size 432x288 with 1 Axes>"
            ],
            "image/png": "[encoded data removed]"
          },
          "metadata": {
            "needs_background": "light"
          }
        }
      ]
    },
    {
      "cell_type": "code",
      "source": [
        "def piecewise_constant_fn(epoch):\n",
        "    if epoch < 5:\n",
        "        return 0.01\n",
        "    elif epoch < 15:\n",
        "        return 0.005\n",
        "    else:\n",
        "        return 0.001"
      ],
      "metadata": {
        "id": "B_cCt6SHYwWp"
      },
      "execution_count": 170,
      "outputs": []
    },
    {
      "cell_type": "code",
      "source": [
        "def piecewise_constant(boundaries, values):\n",
        "    boundaries = np.array([0] + boundaries)\n",
        "    values = np.array(values)\n",
        "    def piecewise_constant_fn(epoch):\n",
        "        return values[np.argmax(boundaries > epoch) - 1]\n",
        "    return piecewise_constant_fn\n",
        "\n",
        "piecewise_constant_fn = piecewise_constant([5, 15], [0.01, 0.005, 0.001])"
      ],
      "metadata": {
        "id": "ySdWytPcYxyI"
      },
      "execution_count": 171,
      "outputs": []
    },
    {
      "cell_type": "code",
      "source": [
        "lr_scheduler = keras.callbacks.LearningRateScheduler(piecewise_constant_fn)\n",
        "\n",
        "model = keras.models.Sequential([\n",
        "    keras.layers.Flatten(input_shape=[28, 28]),\n",
        "    keras.layers.Dense(300, activation=\"selu\", kernel_initializer=\"lecun_normal\"),\n",
        "    keras.layers.Dense(100, activation=\"selu\", kernel_initializer=\"lecun_normal\"),\n",
        "    keras.layers.Dense(10, activation=\"softmax\")\n",
        "])\n",
        "model.compile(loss=\"sparse_categorical_crossentropy\", optimizer=\"nadam\", metrics=[\"accuracy\"])\n",
        "n_epochs = 25\n",
        "history = model.fit(X_train_scaled, y_train, epochs=n_epochs,\n",
        "                    validation_data=(X_valid_scaled, y_valid),\n",
        "                    callbacks=[lr_scheduler])"
      ],
      "metadata": {
        "colab": {
          "base_uri": "https://localhost:8080/"
        },
        "id": "U3GawtaoY09V",
        "outputId": "0e9e56f3-f8ed-4fef-f0c2-f1f50a87bb45"
      },
      "execution_count": 172,
      "outputs": [
        {
          "output_type": "stream",
          "name": "stdout",
          "text": [
            "Epoch 1/25\n",
            "1719/1719 [==============================] - 14s 8ms/step - loss: 0.8369 - accuracy: 0.7566 - val_loss: 0.8026 - val_accuracy: 0.7464 - lr: 0.0100\n",
            "Epoch 2/25\n",
            "1719/1719 [==============================] - 13s 8ms/step - loss: 0.8054 - accuracy: 0.7678 - val_loss: 0.8051 - val_accuracy: 0.7840 - lr: 0.0100\n",
            "Epoch 3/25\n",
            "1719/1719 [==============================] - 13s 7ms/step - loss: 0.9554 - accuracy: 0.7198 - val_loss: 1.5560 - val_accuracy: 0.5516 - lr: 0.0100\n",
            "Epoch 4/25\n",
            "1719/1719 [==============================] - 13s 7ms/step - loss: 1.0785 - accuracy: 0.6704 - val_loss: 0.9651 - val_accuracy: 0.6364 - lr: 0.0100\n",
            "Epoch 5/25\n",
            "1719/1719 [==============================] - 13s 8ms/step - loss: 1.0249 - accuracy: 0.6683 - val_loss: 1.1693 - val_accuracy: 0.6470 - lr: 0.0100\n",
            "Epoch 6/25\n",
            "1719/1719 [==============================] - 13s 8ms/step - loss: 0.7260 - accuracy: 0.7377 - val_loss: 0.6760 - val_accuracy: 0.7602 - lr: 0.0050\n",
            "Epoch 7/25\n",
            "1719/1719 [==============================] - 13s 8ms/step - loss: 0.6759 - accuracy: 0.7547 - val_loss: 0.7919 - val_accuracy: 0.7348 - lr: 0.0050\n",
            "Epoch 8/25\n",
            "1719/1719 [==============================] - 14s 8ms/step - loss: 0.6591 - accuracy: 0.7598 - val_loss: 0.7932 - val_accuracy: 0.7426 - lr: 0.0050\n",
            "Epoch 9/25\n",
            "1719/1719 [==============================] - 14s 8ms/step - loss: 0.6508 - accuracy: 0.7623 - val_loss: 0.8040 - val_accuracy: 0.7738 - lr: 0.0050\n",
            "Epoch 10/25\n",
            "1719/1719 [==============================] - 14s 8ms/step - loss: 0.6249 - accuracy: 0.7701 - val_loss: 0.7005 - val_accuracy: 0.7832 - lr: 0.0050\n",
            "Epoch 11/25\n",
            "1719/1719 [==============================] - 13s 8ms/step - loss: 0.6169 - accuracy: 0.7708 - val_loss: 0.7999 - val_accuracy: 0.7420 - lr: 0.0050\n",
            "Epoch 12/25\n",
            "1719/1719 [==============================] - 13s 8ms/step - loss: 0.6068 - accuracy: 0.7766 - val_loss: 0.8125 - val_accuracy: 0.7330 - lr: 0.0050\n",
            "Epoch 13/25\n",
            "1719/1719 [==============================] - 14s 8ms/step - loss: 0.5948 - accuracy: 0.7785 - val_loss: 0.7808 - val_accuracy: 0.7702 - lr: 0.0050\n",
            "Epoch 14/25\n",
            "1719/1719 [==============================] - 12s 7ms/step - loss: 0.6039 - accuracy: 0.7783 - val_loss: 0.7645 - val_accuracy: 0.8054 - lr: 0.0050\n",
            "Epoch 15/25\n",
            "1719/1719 [==============================] - 14s 8ms/step - loss: 0.5524 - accuracy: 0.8448 - val_loss: 0.6663 - val_accuracy: 0.8422 - lr: 0.0050\n",
            "Epoch 16/25\n",
            "1719/1719 [==============================] - 14s 8ms/step - loss: 0.3705 - accuracy: 0.8878 - val_loss: 0.5084 - val_accuracy: 0.8626 - lr: 0.0010\n",
            "Epoch 17/25\n",
            "1719/1719 [==============================] - 13s 8ms/step - loss: 0.3398 - accuracy: 0.8954 - val_loss: 0.5206 - val_accuracy: 0.8678 - lr: 0.0010\n",
            "Epoch 18/25\n",
            "1719/1719 [==============================] - 14s 8ms/step - loss: 0.3239 - accuracy: 0.9009 - val_loss: 0.4839 - val_accuracy: 0.8712 - lr: 0.0010\n",
            "Epoch 19/25\n",
            "1719/1719 [==============================] - 15s 9ms/step - loss: 0.3098 - accuracy: 0.9047 - val_loss: 0.4932 - val_accuracy: 0.8740 - lr: 0.0010\n",
            "Epoch 20/25\n",
            "1719/1719 [==============================] - 16s 9ms/step - loss: 0.2985 - accuracy: 0.9073 - val_loss: 0.4959 - val_accuracy: 0.8716 - lr: 0.0010\n",
            "Epoch 21/25\n",
            "1719/1719 [==============================] - 18s 10ms/step - loss: 0.2862 - accuracy: 0.9106 - val_loss: 0.5227 - val_accuracy: 0.8722 - lr: 0.0010\n",
            "Epoch 22/25\n",
            "1719/1719 [==============================] - 16s 9ms/step - loss: 0.2751 - accuracy: 0.9150 - val_loss: 0.5181 - val_accuracy: 0.8776 - lr: 0.0010\n",
            "Epoch 23/25\n",
            "1719/1719 [==============================] - 16s 9ms/step - loss: 0.2655 - accuracy: 0.9169 - val_loss: 0.5308 - val_accuracy: 0.8768 - lr: 0.0010\n",
            "Epoch 24/25\n",
            "1719/1719 [==============================] - 17s 10ms/step - loss: 0.2555 - accuracy: 0.9210 - val_loss: 0.5729 - val_accuracy: 0.8778 - lr: 0.0010\n",
            "Epoch 25/25\n",
            "1719/1719 [==============================] - 14s 8ms/step - loss: 0.2500 - accuracy: 0.9214 - val_loss: 0.5543 - val_accuracy: 0.8750 - lr: 0.0010\n"
          ]
        }
      ]
    },
    {
      "cell_type": "code",
      "source": [
        "plt.plot(history.epoch, [piecewise_constant_fn(epoch) for epoch in history.epoch], \"o-\")\n",
        "plt.axis([0, n_epochs - 1, 0, 0.011])\n",
        "plt.xlabel(\"Epoch\")\n",
        "plt.ylabel(\"Learning Rate\")\n",
        "plt.title(\"Piecewise Constant Scheduling\", fontsize=14)\n",
        "plt.grid(True)\n",
        "plt.show()"
      ],
      "metadata": {
        "colab": {
          "base_uri": "https://localhost:8080/",
          "height": 303
        },
        "id": "ToacNETFZJio",
        "outputId": "0a12d43f-e86a-4d56-c7c3-147ef4f13359"
      },
      "execution_count": 173,
      "outputs": [
        {
          "output_type": "display_data",
          "data": {
            "text/plain": [
              "<Figure size 432x288 with 1 Axes>"
            ],
            "image/png": "[encoded data removed]"
          },
          "metadata": {
            "needs_background": "light"
          }
        }
      ]
    },
    {
      "cell_type": "code",
      "source": [
        "lr_scheduler = keras.callbacks.ReduceLROnPlateau(factor=0.5, patience=5)\n",
        "\n",
        "model = keras.models.Sequential([\n",
        "    keras.layers.Flatten(input_shape=[28, 28]),\n",
        "    keras.layers.Dense(300, activation=\"selu\", kernel_initializer=\"lecun_normal\"),\n",
        "    keras.layers.Dense(100, activation=\"selu\", kernel_initializer=\"lecun_normal\"),\n",
        "    keras.layers.Dense(10, activation=\"softmax\")\n",
        "])\n",
        "optimizer = keras.optimizers.SGD(learning_rate=0.02, momentum=0.9)\n",
        "model.compile(loss=\"sparse_categorical_crossentropy\", optimizer=optimizer, metrics=[\"accuracy\"])\n",
        "n_epochs = 25\n",
        "history = model.fit(X_train_scaled, y_train, epochs=n_epochs,\n",
        "                    validation_data=(X_valid_scaled, y_valid),\n",
        "                    callbacks=[lr_scheduler])"
      ],
      "metadata": {
        "colab": {
          "base_uri": "https://localhost:8080/"
        },
        "id": "4_HPCa80ZLVJ",
        "outputId": "9feb75aa-8e54-4990-8916-b06db4c7a81e"
      },
      "execution_count": 174,
      "outputs": [
        {
          "output_type": "stream",
          "name": "stdout",
          "text": [
            "Epoch 1/25\n",
            "1719/1719 [==============================] - 10s 6ms/step - loss: 0.5847 - accuracy: 0.8063 - val_loss: 0.4836 - val_accuracy: 0.8554 - lr: 0.0200\n",
            "Epoch 2/25\n",
            "1719/1719 [==============================] - 8s 5ms/step - loss: 0.4845 - accuracy: 0.8426 - val_loss: 0.5464 - val_accuracy: 0.8384 - lr: 0.0200\n",
            "Epoch 3/25\n",
            "1719/1719 [==============================] - 8s 5ms/step - loss: 0.5061 - accuracy: 0.8433 - val_loss: 0.4986 - val_accuracy: 0.8588 - lr: 0.0200\n",
            "Epoch 4/25\n",
            "1719/1719 [==============================] - 8s 5ms/step - loss: 0.5076 - accuracy: 0.8465 - val_loss: 0.5224 - val_accuracy: 0.8294 - lr: 0.0200\n",
            "Epoch 5/25\n",
            "1719/1719 [==============================] - 8s 5ms/step - loss: 0.5189 - accuracy: 0.8471 - val_loss: 0.4931 - val_accuracy: 0.8520 - lr: 0.0200\n",
            "Epoch 6/25\n",
            "1719/1719 [==============================] - 8s 4ms/step - loss: 0.5049 - accuracy: 0.8533 - val_loss: 0.5794 - val_accuracy: 0.8496 - lr: 0.0200\n",
            "Epoch 7/25\n",
            "1719/1719 [==============================] - 8s 5ms/step - loss: 0.3021 - accuracy: 0.8935 - val_loss: 0.3891 - val_accuracy: 0.8760 - lr: 0.0100\n",
            "Epoch 8/25\n",
            "1719/1719 [==============================] - 8s 5ms/step - loss: 0.2536 - accuracy: 0.9072 - val_loss: 0.3884 - val_accuracy: 0.8760 - lr: 0.0100\n",
            "Epoch 9/25\n",
            "1719/1719 [==============================] - 8s 4ms/step - loss: 0.2331 - accuracy: 0.9138 - val_loss: 0.3863 - val_accuracy: 0.8892 - lr: 0.0100\n",
            "Epoch 10/25\n",
            "1719/1719 [==============================] - 7s 4ms/step - loss: 0.2161 - accuracy: 0.9196 - val_loss: 0.4154 - val_accuracy: 0.8842 - lr: 0.0100\n",
            "Epoch 11/25\n",
            "1719/1719 [==============================] - 8s 5ms/step - loss: 0.2076 - accuracy: 0.9230 - val_loss: 0.4273 - val_accuracy: 0.8870 - lr: 0.0100\n",
            "Epoch 12/25\n",
            "1719/1719 [==============================] - 8s 5ms/step - loss: 0.1936 - accuracy: 0.9269 - val_loss: 0.4930 - val_accuracy: 0.8664 - lr: 0.0100\n",
            "Epoch 13/25\n",
            "1719/1719 [==============================] - 8s 5ms/step - loss: 0.1860 - accuracy: 0.9315 - val_loss: 0.4735 - val_accuracy: 0.8892 - lr: 0.0100\n",
            "Epoch 14/25\n",
            "1719/1719 [==============================] - 7s 4ms/step - loss: 0.1801 - accuracy: 0.9321 - val_loss: 0.4938 - val_accuracy: 0.8752 - lr: 0.0100\n",
            "Epoch 15/25\n",
            "1719/1719 [==============================] - 8s 4ms/step - loss: 0.1200 - accuracy: 0.9535 - val_loss: 0.4409 - val_accuracy: 0.8924 - lr: 0.0050\n",
            "Epoch 16/25\n",
            "1719/1719 [==============================] - 7s 4ms/step - loss: 0.1039 - accuracy: 0.9592 - val_loss: 0.4502 - val_accuracy: 0.8960 - lr: 0.0050\n",
            "Epoch 17/25\n",
            "1719/1719 [==============================] - 8s 4ms/step - loss: 0.0967 - accuracy: 0.9631 - val_loss: 0.4747 - val_accuracy: 0.8924 - lr: 0.0050\n",
            "Epoch 18/25\n",
            "1719/1719 [==============================] - 7s 4ms/step - loss: 0.0876 - accuracy: 0.9657 - val_loss: 0.5028 - val_accuracy: 0.8916 - lr: 0.0050\n",
            "Epoch 19/25\n",
            "1719/1719 [==============================] - 7s 4ms/step - loss: 0.0831 - accuracy: 0.9687 - val_loss: 0.5166 - val_accuracy: 0.8944 - lr: 0.0050\n",
            "Epoch 20/25\n",
            "1719/1719 [==============================] - 8s 5ms/step - loss: 0.0618 - accuracy: 0.9780 - val_loss: 0.5178 - val_accuracy: 0.8936 - lr: 0.0025\n",
            "Epoch 21/25\n",
            "1719/1719 [==============================] - 8s 5ms/step - loss: 0.0552 - accuracy: 0.9803 - val_loss: 0.5328 - val_accuracy: 0.8956 - lr: 0.0025\n",
            "Epoch 22/25\n",
            "1719/1719 [==============================] - 9s 5ms/step - loss: 0.0515 - accuracy: 0.9826 - val_loss: 0.5475 - val_accuracy: 0.8972 - lr: 0.0025\n",
            "Epoch 23/25\n",
            "1719/1719 [==============================] - 10s 6ms/step - loss: 0.0486 - accuracy: 0.9832 - val_loss: 0.5527 - val_accuracy: 0.8960 - lr: 0.0025\n",
            "Epoch 24/25\n",
            "1719/1719 [==============================] - 9s 5ms/step - loss: 0.0452 - accuracy: 0.9849 - val_loss: 0.5799 - val_accuracy: 0.8916 - lr: 0.0025\n",
            "Epoch 25/25\n",
            "1719/1719 [==============================] - 10s 6ms/step - loss: 0.0379 - accuracy: 0.9885 - val_loss: 0.5787 - val_accuracy: 0.8948 - lr: 0.0012\n"
          ]
        }
      ]
    },
    {
      "cell_type": "code",
      "source": [
        "plt.plot(history.epoch, history.history[\"lr\"], \"bo-\")\n",
        "plt.xlabel(\"Epoch\")\n",
        "plt.ylabel(\"Learning Rate\", color='b')\n",
        "plt.tick_params('y', colors='b')\n",
        "plt.gca().set_xlim(0, n_epochs - 1)\n",
        "plt.grid(True)\n",
        "\n",
        "ax2 = plt.gca().twinx()\n",
        "ax2.plot(history.epoch, history.history[\"val_loss\"], \"r^-\")\n",
        "ax2.set_ylabel('Validation Loss', color='r')\n",
        "ax2.tick_params('y', colors='r')\n",
        "\n",
        "plt.title(\"Reduce LR on Plateau\", fontsize=14)\n",
        "plt.show()"
      ],
      "metadata": {
        "id": "aKYtRLd1ZM0g",
        "colab": {
          "base_uri": "https://localhost:8080/",
          "height": 303
        },
        "outputId": "7b230df5-d55d-4117-915f-972da8e1f433"
      },
      "execution_count": 175,
      "outputs": [
        {
          "output_type": "display_data",
          "data": {
            "text/plain": [
              "<Figure size 432x288 with 2 Axes>"
            ],
            "image/png": "[encoded data removed]"
          },
          "metadata": {
            "needs_background": "light"
          }
        }
      ]
    },
    {
      "cell_type": "code",
      "source": [
        "model = keras.models.Sequential([\n",
        "    keras.layers.Flatten(input_shape=[28, 28]),\n",
        "    keras.layers.Dense(300, activation=\"selu\", kernel_initializer=\"lecun_normal\"),\n",
        "    keras.layers.Dense(100, activation=\"selu\", kernel_initializer=\"lecun_normal\"),\n",
        "    keras.layers.Dense(10, activation=\"softmax\")\n",
        "])\n",
        "s = 20 * len(X_train) // 32 # number of steps in 20 epochs (batch size = 32)\n",
        "learning_rate = keras.optimizers.schedules.ExponentialDecay(0.01, s, 0.1)\n",
        "optimizer = keras.optimizers.SGD(learning_rate)\n",
        "model.compile(loss=\"sparse_categorical_crossentropy\", optimizer=optimizer, metrics=[\"accuracy\"])\n",
        "n_epochs = 25\n",
        "history = model.fit(X_train_scaled, y_train, epochs=n_epochs,\n",
        "                    validation_data=(X_valid_scaled, y_valid))"
      ],
      "metadata": {
        "id": "oXCl3TNRZQg4",
        "colab": {
          "base_uri": "https://localhost:8080/"
        },
        "outputId": "7ccb0f34-8c54-4d4e-d76c-4cc55ca951c5"
      },
      "execution_count": 176,
      "outputs": [
        {
          "output_type": "stream",
          "name": "stdout",
          "text": [
            "Epoch 1/25\n",
            "1719/1719 [==============================] - 10s 6ms/step - loss: 0.4880 - accuracy: 0.8290 - val_loss: 0.4023 - val_accuracy: 0.8598\n",
            "Epoch 2/25\n",
            "1719/1719 [==============================] - 8s 5ms/step - loss: 0.3799 - accuracy: 0.8660 - val_loss: 0.3697 - val_accuracy: 0.8686\n",
            "Epoch 3/25\n",
            "1719/1719 [==============================] - 9s 5ms/step - loss: 0.3459 - accuracy: 0.8770 - val_loss: 0.3684 - val_accuracy: 0.8686\n",
            "Epoch 4/25\n",
            "1719/1719 [==============================] - 7s 4ms/step - loss: 0.3239 - accuracy: 0.8847 - val_loss: 0.3463 - val_accuracy: 0.8750\n",
            "Epoch 5/25\n",
            "1719/1719 [==============================] - 7s 4ms/step - loss: 0.3079 - accuracy: 0.8903 - val_loss: 0.3412 - val_accuracy: 0.8754\n",
            "Epoch 6/25\n",
            "1719/1719 [==============================] - 7s 4ms/step - loss: 0.2936 - accuracy: 0.8950 - val_loss: 0.3390 - val_accuracy: 0.8780\n",
            "Epoch 7/25\n",
            "1719/1719 [==============================] - 7s 4ms/step - loss: 0.2831 - accuracy: 0.8999 - val_loss: 0.3333 - val_accuracy: 0.8822\n",
            "Epoch 8/25\n",
            "1719/1719 [==============================] - 7s 4ms/step - loss: 0.2739 - accuracy: 0.9029 - val_loss: 0.3352 - val_accuracy: 0.8808\n",
            "Epoch 9/25\n",
            "1719/1719 [==============================] - 7s 4ms/step - loss: 0.2657 - accuracy: 0.9052 - val_loss: 0.3258 - val_accuracy: 0.8822\n",
            "Epoch 10/25\n",
            "1719/1719 [==============================] - 7s 4ms/step - loss: 0.2588 - accuracy: 0.9084 - val_loss: 0.3253 - val_accuracy: 0.8832\n",
            "Epoch 11/25\n",
            "1719/1719 [==============================] - 7s 4ms/step - loss: 0.2534 - accuracy: 0.9087 - val_loss: 0.3239 - val_accuracy: 0.8846\n",
            "Epoch 12/25\n",
            "1719/1719 [==============================] - 8s 5ms/step - loss: 0.2481 - accuracy: 0.9121 - val_loss: 0.3317 - val_accuracy: 0.8804\n",
            "Epoch 13/25\n",
            "1719/1719 [==============================] - 8s 4ms/step - loss: 0.2435 - accuracy: 0.9141 - val_loss: 0.3229 - val_accuracy: 0.8866\n",
            "Epoch 14/25\n",
            "1719/1719 [==============================] - 9s 5ms/step - loss: 0.2401 - accuracy: 0.9155 - val_loss: 0.3233 - val_accuracy: 0.8872\n",
            "Epoch 15/25\n",
            "1719/1719 [==============================] - 7s 4ms/step - loss: 0.2363 - accuracy: 0.9167 - val_loss: 0.3216 - val_accuracy: 0.8856\n",
            "Epoch 16/25\n",
            "1719/1719 [==============================] - 7s 4ms/step - loss: 0.2331 - accuracy: 0.9184 - val_loss: 0.3206 - val_accuracy: 0.8882\n",
            "Epoch 17/25\n",
            "1719/1719 [==============================] - 7s 4ms/step - loss: 0.2305 - accuracy: 0.9188 - val_loss: 0.3213 - val_accuracy: 0.8858\n",
            "Epoch 18/25\n",
            "1719/1719 [==============================] - 7s 4ms/step - loss: 0.2279 - accuracy: 0.9203 - val_loss: 0.3188 - val_accuracy: 0.8874\n",
            "Epoch 19/25\n",
            "1719/1719 [==============================] - 7s 4ms/step - loss: 0.2259 - accuracy: 0.9209 - val_loss: 0.3213 - val_accuracy: 0.8876\n",
            "Epoch 20/25\n",
            "1719/1719 [==============================] - 7s 4ms/step - loss: 0.2239 - accuracy: 0.9221 - val_loss: 0.3190 - val_accuracy: 0.8850\n",
            "Epoch 21/25\n",
            "1719/1719 [==============================] - 7s 4ms/step - loss: 0.2220 - accuracy: 0.9230 - val_loss: 0.3202 - val_accuracy: 0.8876\n",
            "Epoch 22/25\n",
            "1719/1719 [==============================] - 7s 4ms/step - loss: 0.2206 - accuracy: 0.9233 - val_loss: 0.3185 - val_accuracy: 0.8872\n",
            "Epoch 23/25\n",
            "1719/1719 [==============================] - 7s 4ms/step - loss: 0.2192 - accuracy: 0.9236 - val_loss: 0.3191 - val_accuracy: 0.8870\n",
            "Epoch 24/25\n",
            "1719/1719 [==============================] - 7s 4ms/step - loss: 0.2180 - accuracy: 0.9243 - val_loss: 0.3193 - val_accuracy: 0.8870\n",
            "Epoch 25/25\n",
            "1719/1719 [==============================] - 7s 4ms/step - loss: 0.2171 - accuracy: 0.9248 - val_loss: 0.3190 - val_accuracy: 0.8882\n"
          ]
        }
      ]
    },
    {
      "cell_type": "code",
      "source": [
        "learning_rate = keras.optimizers.schedules.PiecewiseConstantDecay(\n",
        "    boundaries=[5. * n_steps_per_epoch, 15. * n_steps_per_epoch],\n",
        "    values=[0.01, 0.005, 0.001])"
      ],
      "metadata": {
        "id": "MGabhTO1ZSGQ"
      },
      "execution_count": 177,
      "outputs": []
    },
    {
      "cell_type": "code",
      "source": [
        "K = keras.backend\n",
        "\n",
        "class ExponentialLearningRate(keras.callbacks.Callback):\n",
        "    def __init__(self, factor):\n",
        "        self.factor = factor\n",
        "        self.rates = []\n",
        "        self.losses = []\n",
        "    def on_epoch_begin(self, epoch, logs=None):\n",
        "        self.prev_loss = 0\n",
        "    def on_batch_end(self, batch, logs):\n",
        "        batch_loss = logs[\"loss\"] * (batch + 1) - self.prev_loss * batch\n",
        "        self.prev_loss = logs[\"loss\"]\n",
        "        self.rates.append(K.get_value(self.model.optimizer.lr))\n",
        "        self.losses.append(batch_loss)\n",
        "        K.set_value(self.model.optimizer.lr, self.model.optimizer.lr * self.factor)\n",
        "\n",
        "def find_learning_rate(model, X, y, epochs=1, batch_size=32, min_rate=10**-5, max_rate=10):\n",
        "    init_weights = model.get_weights()\n",
        "    iterations = math.ceil(len(X) / batch_size) * epochs\n",
        "    factor = np.exp(np.log(max_rate / min_rate) / iterations)\n",
        "    init_lr = K.get_value(model.optimizer.lr)\n",
        "    K.set_value(model.optimizer.lr, min_rate)\n",
        "    exp_lr = ExponentialLearningRate(factor)\n",
        "    history = model.fit(X, y, epochs=epochs, batch_size=batch_size,\n",
        "                        callbacks=[exp_lr])\n",
        "    K.set_value(model.optimizer.lr, init_lr)\n",
        "    model.set_weights(init_weights)\n",
        "    return exp_lr.rates, exp_lr.losses\n",
        "\n",
        "def plot_lr_vs_loss(rates, losses):\n",
        "    plt.plot(rates, losses)\n",
        "    plt.gca().set_xscale('log')\n",
        "    plt.hlines(min(losses), min(rates), max(rates))\n",
        "    plt.axis([min(rates), max(rates), min(losses), (losses[0] + min(losses)) / 2])\n",
        "    plt.xlabel(\"Learning rate\")\n",
        "    plt.ylabel(\"Loss\")"
      ],
      "metadata": {
        "id": "9VCFkxXDZT54"
      },
      "execution_count": 178,
      "outputs": []
    },
    {
      "cell_type": "code",
      "source": [
        "model = keras.models.Sequential([\n",
        "    keras.layers.Flatten(input_shape=[28, 28]),\n",
        "    keras.layers.Dense(300, activation=\"selu\", kernel_initializer=\"lecun_normal\"),\n",
        "    keras.layers.Dense(100, activation=\"selu\", kernel_initializer=\"lecun_normal\"),\n",
        "    keras.layers.Dense(10, activation=\"softmax\")\n",
        "])\n",
        "model.compile(loss=\"sparse_categorical_crossentropy\",\n",
        "              optimizer=keras.optimizers.SGD(learning_rate=1e-3),\n",
        "              metrics=[\"accuracy\"])"
      ],
      "metadata": {
        "id": "omtUibPkZVbj"
      },
      "execution_count": 179,
      "outputs": []
    },
    {
      "cell_type": "code",
      "source": [
        "batch_size = 128\n",
        "rates, losses = find_learning_rate(model, X_train_scaled, y_train, epochs=1, batch_size=batch_size)\n",
        "plot_lr_vs_loss(rates, losses)"
      ],
      "metadata": {
        "colab": {
          "base_uri": "https://localhost:8080/",
          "height": 308
        },
        "id": "DB5w1xywaAXR",
        "outputId": "4ce99999-0f8b-4a60-ae29-c99f903c28d6"
      },
      "execution_count": 180,
      "outputs": [
        {
          "output_type": "stream",
          "name": "stdout",
          "text": [
            "430/430 [==============================] - 4s 8ms/step - loss: nan - accuracy: 0.3871\n"
          ]
        },
        {
          "output_type": "display_data",
          "data": {
            "text/plain": [
              "<Figure size 432x288 with 1 Axes>"
            ],
            "image/png": "[encoded data removed]"
          },
          "metadata": {
            "needs_background": "light"
          }
        }
      ]
    },
    {
      "cell_type": "code",
      "source": [
        "class OneCycleScheduler(keras.callbacks.Callback):\n",
        "    def __init__(self, iterations, max_rate, start_rate=None,\n",
        "                 last_iterations=None, last_rate=None):\n",
        "        self.iterations = iterations\n",
        "        self.max_rate = max_rate\n",
        "        self.start_rate = start_rate or max_rate / 10\n",
        "        self.last_iterations = last_iterations or iterations // 10 + 1\n",
        "        self.half_iteration = (iterations - self.last_iterations) // 2\n",
        "        self.last_rate = last_rate or self.start_rate / 1000\n",
        "        self.iteration = 0\n",
        "    def _interpolate(self, iter1, iter2, rate1, rate2):\n",
        "        return ((rate2 - rate1) * (self.iteration - iter1)\n",
        "                / (iter2 - iter1) + rate1)\n",
        "    def on_batch_begin(self, batch, logs):\n",
        "        if self.iteration < self.half_iteration:\n",
        "            rate = self._interpolate(0, self.half_iteration, self.start_rate, self.max_rate)\n",
        "        elif self.iteration < 2 * self.half_iteration:\n",
        "            rate = self._interpolate(self.half_iteration, 2 * self.half_iteration,\n",
        "                                     self.max_rate, self.start_rate)\n",
        "        else:\n",
        "            rate = self._interpolate(2 * self.half_iteration, self.iterations,\n",
        "                                     self.start_rate, self.last_rate)\n",
        "        self.iteration += 1\n",
        "        K.set_value(self.model.optimizer.lr, rate)"
      ],
      "metadata": {
        "id": "PbBwIjGNaBap"
      },
      "execution_count": 181,
      "outputs": []
    },
    {
      "cell_type": "code",
      "source": [
        "n_epochs = 25\n",
        "onecycle = OneCycleScheduler(math.ceil(len(X_train) / batch_size) * n_epochs, max_rate=0.05)\n",
        "history = model.fit(X_train_scaled, y_train, epochs=n_epochs, batch_size=batch_size,\n",
        "                    validation_data=(X_valid_scaled, y_valid),\n",
        "                    callbacks=[onecycle])"
      ],
      "metadata": {
        "colab": {
          "base_uri": "https://localhost:8080/"
        },
        "id": "5NJTLx3ZaC35",
        "outputId": "a600dbea-c1cc-4184-856e-6fbf32944359"
      },
      "execution_count": 182,
      "outputs": [
        {
          "output_type": "stream",
          "name": "stdout",
          "text": [
            "Epoch 1/25\n",
            "430/430 [==============================] - 4s 9ms/step - loss: 0.6504 - accuracy: 0.7764 - val_loss: 0.4928 - val_accuracy: 0.8370\n",
            "Epoch 2/25\n",
            "430/430 [==============================] - 4s 9ms/step - loss: 0.4573 - accuracy: 0.8409 - val_loss: 0.4324 - val_accuracy: 0.8538\n",
            "Epoch 3/25\n",
            "430/430 [==============================] - 4s 9ms/step - loss: 0.4113 - accuracy: 0.8562 - val_loss: 0.4119 - val_accuracy: 0.8588\n",
            "Epoch 4/25\n",
            "430/430 [==============================] - 4s 8ms/step - loss: 0.3822 - accuracy: 0.8651 - val_loss: 0.3838 - val_accuracy: 0.8650\n",
            "Epoch 5/25\n",
            "430/430 [==============================] - 3s 8ms/step - loss: 0.3625 - accuracy: 0.8725 - val_loss: 0.3744 - val_accuracy: 0.8638\n",
            "Epoch 6/25\n",
            "430/430 [==============================] - 4s 10ms/step - loss: 0.3440 - accuracy: 0.8785 - val_loss: 0.3703 - val_accuracy: 0.8754\n",
            "Epoch 7/25\n",
            "430/430 [==============================] - 4s 9ms/step - loss: 0.3311 - accuracy: 0.8813 - val_loss: 0.3593 - val_accuracy: 0.8778\n",
            "Epoch 8/25\n",
            "430/430 [==============================] - 4s 9ms/step - loss: 0.3162 - accuracy: 0.8869 - val_loss: 0.3972 - val_accuracy: 0.8588\n",
            "Epoch 9/25\n",
            "430/430 [==============================] - 4s 10ms/step - loss: 0.3053 - accuracy: 0.8896 - val_loss: 0.3534 - val_accuracy: 0.8750\n",
            "Epoch 10/25\n",
            "430/430 [==============================] - 4s 10ms/step - loss: 0.2941 - accuracy: 0.8935 - val_loss: 0.3419 - val_accuracy: 0.8792\n",
            "Epoch 11/25\n",
            "430/430 [==============================] - 4s 9ms/step - loss: 0.2831 - accuracy: 0.8966 - val_loss: 0.3466 - val_accuracy: 0.8798\n",
            "Epoch 12/25\n",
            "430/430 [==============================] - 4s 9ms/step - loss: 0.2701 - accuracy: 0.9035 - val_loss: 0.3731 - val_accuracy: 0.8666\n",
            "Epoch 13/25\n",
            "430/430 [==============================] - 4s 8ms/step - loss: 0.2535 - accuracy: 0.9079 - val_loss: 0.3327 - val_accuracy: 0.8874\n",
            "Epoch 14/25\n",
            "430/430 [==============================] - 3s 8ms/step - loss: 0.2396 - accuracy: 0.9121 - val_loss: 0.3400 - val_accuracy: 0.8824\n",
            "Epoch 15/25\n",
            "430/430 [==============================] - 4s 8ms/step - loss: 0.2274 - accuracy: 0.9180 - val_loss: 0.3299 - val_accuracy: 0.8846\n",
            "Epoch 16/25\n",
            "430/430 [==============================] - 4s 9ms/step - loss: 0.2157 - accuracy: 0.9227 - val_loss: 0.3280 - val_accuracy: 0.8848\n",
            "Epoch 17/25\n",
            "430/430 [==============================] - 4s 9ms/step - loss: 0.2057 - accuracy: 0.9261 - val_loss: 0.3355 - val_accuracy: 0.8860\n",
            "Epoch 18/25\n",
            "430/430 [==============================] - 4s 9ms/step - loss: 0.1972 - accuracy: 0.9301 - val_loss: 0.3224 - val_accuracy: 0.8906\n",
            "Epoch 19/25\n",
            "430/430 [==============================] - 4s 9ms/step - loss: 0.1885 - accuracy: 0.9338 - val_loss: 0.3244 - val_accuracy: 0.8862\n",
            "Epoch 20/25\n",
            "430/430 [==============================] - 4s 9ms/step - loss: 0.1817 - accuracy: 0.9379 - val_loss: 0.3196 - val_accuracy: 0.8894\n",
            "Epoch 21/25\n",
            "430/430 [==============================] - 4s 9ms/step - loss: 0.1745 - accuracy: 0.9394 - val_loss: 0.3204 - val_accuracy: 0.8900\n",
            "Epoch 22/25\n",
            "430/430 [==============================] - 4s 9ms/step - loss: 0.1694 - accuracy: 0.9428 - val_loss: 0.3166 - val_accuracy: 0.8904\n",
            "Epoch 23/25\n",
            "430/430 [==============================] - 4s 9ms/step - loss: 0.1647 - accuracy: 0.9445 - val_loss: 0.3178 - val_accuracy: 0.8898\n",
            "Epoch 24/25\n",
            "430/430 [==============================] - 4s 9ms/step - loss: 0.1618 - accuracy: 0.9459 - val_loss: 0.3172 - val_accuracy: 0.8910\n",
            "Epoch 25/25\n",
            "430/430 [==============================] - 4s 8ms/step - loss: 0.1601 - accuracy: 0.9465 - val_loss: 0.3160 - val_accuracy: 0.8918\n"
          ]
        }
      ]
    },
    {
      "cell_type": "code",
      "source": [
        "rates, losses = find_learning_rate(model, X_train_scaled, y_train, epochs=1, batch_size=batch_size)\n",
        "plot_lr_vs_loss(rates, losses)"
      ],
      "metadata": {
        "id": "q2lgrTpolLJF",
        "colab": {
          "base_uri": "https://localhost:8080/",
          "height": 309
        },
        "outputId": "65736a2f-a07f-4f66-81c8-003acfec2997"
      },
      "execution_count": 183,
      "outputs": [
        {
          "output_type": "stream",
          "name": "stdout",
          "text": [
            "430/430 [==============================] - 7s 16ms/step - loss: nan - accuracy: 0.7190\n"
          ]
        },
        {
          "output_type": "display_data",
          "data": {
            "text/plain": [
              "<Figure size 432x288 with 1 Axes>"
            ],
            "image/png": "[encoded data removed]"
          },
          "metadata": {
            "needs_background": "light"
          }
        }
      ]
    },
    {
      "cell_type": "code",
      "source": [
        ""
      ],
      "metadata": {
        "id": "_G3zsO8NxoI8"
      },
      "execution_count": null,
      "outputs": []
    }
  ],
  "metadata": {
    "colab": {
      "collapsed_sections": [],
      "name": "11_training_deep_neural_networks.ipynb",
      "provenance": [],
      "authorship_tag": "ABX9TyMwcXJIeKp5nVRR+D9Je15v"
    },
    "kernelspec": {
      "display_name": "Python 3",
      "name": "python3"
    },
    "language_info": {
      "name": "python"
    }
  },
  "nbformat": 4,
  "nbformat_minor": 0
}