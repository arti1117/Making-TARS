{
  "nbformat": 4,
  "nbformat_minor": 0,
  "metadata": {
    "colab": {
      "name": "math_linear_algebra.ipynb",
      "provenance": [],
      "collapsed_sections": [],
      "authorship_tag": "ABX9TyOTp2AAaK6PgphtNVXPKn3x"
    },
    "kernelspec": {
      "name": "python3",
      "display_name": "Python 3"
    },
    "language_info": {
      "name": "python"
    }
  },
  "cells": [
    {
      "cell_type": "code",
      "execution_count": 1,
      "metadata": {
        "colab": {
          "base_uri": "https://localhost:8080/"
        },
        "id": "2u8-bIlYZZqw",
        "outputId": "5b3e9f59-5982-44c8-bf84-ea2667003aa6"
      },
      "outputs": [
        {
          "output_type": "execute_result",
          "data": {
            "text/plain": [
              "[10.5, 5.2, 3.25, 7.0]"
            ]
          },
          "metadata": {},
          "execution_count": 1
        }
      ],
      "source": [
        "[10.5, 5.2, 3.25, 7.0]"
      ]
    },
    {
      "cell_type": "code",
      "source": [
        "import numpy as np\n",
        "\n",
        "video = np.array([10.5, 5.2, 3.25, 7.0])\n",
        "video"
      ],
      "metadata": {
        "colab": {
          "base_uri": "https://localhost:8080/"
        },
        "id": "j2EBoYGha1T2",
        "outputId": "fb55c367-730f-4d78-9b67-97248df965ac"
      },
      "execution_count": 2,
      "outputs": [
        {
          "output_type": "execute_result",
          "data": {
            "text/plain": [
              "array([10.5 ,  5.2 ,  3.25,  7.  ])"
            ]
          },
          "metadata": {},
          "execution_count": 2
        }
      ]
    },
    {
      "cell_type": "code",
      "source": [
        "video.size"
      ],
      "metadata": {
        "colab": {
          "base_uri": "https://localhost:8080/"
        },
        "id": "LuGaEk2da-ZP",
        "outputId": "7385faf0-bd43-4dff-a522-060bdaa65c83"
      },
      "execution_count": 3,
      "outputs": [
        {
          "output_type": "execute_result",
          "data": {
            "text/plain": [
              "4"
            ]
          },
          "metadata": {},
          "execution_count": 3
        }
      ]
    },
    {
      "cell_type": "code",
      "source": [
        "video[2] # 3rd element"
      ],
      "metadata": {
        "colab": {
          "base_uri": "https://localhost:8080/"
        },
        "id": "ug6Meot6bAaN",
        "outputId": "65f473a4-6e54-44bc-cf3d-c9139803b622"
      },
      "execution_count": 4,
      "outputs": [
        {
          "output_type": "execute_result",
          "data": {
            "text/plain": [
              "3.25"
            ]
          },
          "metadata": {},
          "execution_count": 4
        }
      ]
    },
    {
      "cell_type": "code",
      "source": [
        "%matplotlib inline\n",
        "import matplotlib.pyplot as plt"
      ],
      "metadata": {
        "id": "V6mrk6ENbKxk"
      },
      "execution_count": 5,
      "outputs": []
    },
    {
      "cell_type": "code",
      "source": [
        "u = np.array([2, 5])\n",
        "v = np.array([3, 1])"
      ],
      "metadata": {
        "id": "Yj7f8-SncAB9"
      },
      "execution_count": 6,
      "outputs": []
    },
    {
      "cell_type": "code",
      "source": [
        "x_coords, y_coords = zip(u, v)\n",
        "plt.scatter(x_coords, y_coords, color=['r', 'b'])\n",
        "plt.axis([0, 9, 0, 6])\n",
        "plt.grid()\n",
        "plt.show()"
      ],
      "metadata": {
        "colab": {
          "base_uri": "https://localhost:8080/",
          "height": 269
        },
        "id": "yPYI77CecEVc",
        "outputId": "c39e71cc-c3fe-4ac7-ea9b-5f3be304c303"
      },
      "execution_count": 7,
      "outputs": [
        {
          "output_type": "display_data",
          "data": {
            "text/plain": [
              "<Figure size 432x288 with 1 Axes>"
            ],
            "image/png": "[encoded data removed]"
          },
          "metadata": {
            "needs_background": "light"
          }
        }
      ]
    },
    {
      "cell_type": "code",
      "source": [
        "def plot_vector2d(vector2d, origin=[0, 0], **options):\n",
        "  return plt.arrow(origin[0], origin[1], vector2d[0], vector2d[1],\n",
        "                   head_width=0.2, head_length=0.3, length_includes_head=True,\n",
        "                   **options)"
      ],
      "metadata": {
        "id": "3mFvCUXScQxn"
      },
      "execution_count": 8,
      "outputs": []
    },
    {
      "cell_type": "code",
      "source": [
        "plot_vector2d(u, color='r')\n",
        "plot_vector2d(v, color='b')\n",
        "plt.axis([0, 9, 0, 6])\n",
        "plt.grid()\n",
        "plt.show()"
      ],
      "metadata": {
        "colab": {
          "base_uri": "https://localhost:8080/",
          "height": 269
        },
        "id": "Yj0IrbP8cmrn",
        "outputId": "f1848b8b-3dcc-40f5-c786-0d55bfa38449"
      },
      "execution_count": 9,
      "outputs": [
        {
          "output_type": "display_data",
          "data": {
            "text/plain": [
              "<Figure size 432x288 with 1 Axes>"
            ],
            "image/png": "[encoded data removed]"
          },
          "metadata": {
            "needs_background": "light"
          }
        }
      ]
    },
    {
      "cell_type": "code",
      "source": [
        "a = np.array([1, 2, 8])\n",
        "b = np.array([5, 6, 3])"
      ],
      "metadata": {
        "id": "kRZ5FcyYcwK8"
      },
      "execution_count": 10,
      "outputs": []
    },
    {
      "cell_type": "code",
      "source": [
        "from mpl_toolkits.mplot3d import Axes3D\n",
        "\n",
        "subplot3d = plt.subplot(111, projection='3d')\n",
        "x_coords, y_coords, z_coords = zip(a, b)\n",
        "subplot3d.scatter(x_coords, y_coords, z_coords)\n",
        "subplot3d.set_zlim3d([0, 9])\n",
        "plt.show()"
      ],
      "metadata": {
        "colab": {
          "base_uri": "https://localhost:8080/",
          "height": 248
        },
        "id": "O7JrWNO5dFK9",
        "outputId": "173759a9-fcd8-4bef-e672-8cc37203e320"
      },
      "execution_count": 11,
      "outputs": [
        {
          "output_type": "display_data",
          "data": {
            "text/plain": [
              "<Figure size 432x288 with 1 Axes>"
            ],
            "image/png": "[encoded data removed]"
          },
          "metadata": {
            "needs_background": "light"
          }
        }
      ]
    },
    {
      "cell_type": "code",
      "source": [
        "x_coords"
      ],
      "metadata": {
        "colab": {
          "base_uri": "https://localhost:8080/"
        },
        "id": "tbIQkeCzdXGu",
        "outputId": "aad46c3c-7d9e-4924-c2c7-00b151777b67"
      },
      "execution_count": 12,
      "outputs": [
        {
          "output_type": "execute_result",
          "data": {
            "text/plain": [
              "(1, 5)"
            ]
          },
          "metadata": {},
          "execution_count": 12
        }
      ]
    },
    {
      "cell_type": "code",
      "source": [
        "def plot_vectors3d(ax, vectors3d, z0, **options):\n",
        "  for v in vectors3d:\n",
        "    x, y, z = v\n",
        "    ax.plot([x,x], [y,y], [z0,z], color='gray', linestyle='dotted', marker='.')\n",
        "  x_coords, y_coords, z_coords = zip(*vectors3d)\n",
        "  ax.scatter(x_coords, y_coords, z_coords, **options)"
      ],
      "metadata": {
        "id": "h8N-w-FpdZC9"
      },
      "execution_count": 13,
      "outputs": []
    },
    {
      "cell_type": "code",
      "source": [
        "subplot3d = plt.subplot(111, projection='3d')\n",
        "subplot3d.set_zlim([0, 9])\n",
        "plot_vectors3d(subplot3d, [a,b], 0, color=('r', 'b'))\n",
        "plt.show()"
      ],
      "metadata": {
        "colab": {
          "base_uri": "https://localhost:8080/",
          "height": 248
        },
        "id": "bAzH5ljFeNld",
        "outputId": "002cf4c4-b691-40c9-c0a4-164237e2ae5a"
      },
      "execution_count": 14,
      "outputs": [
        {
          "output_type": "display_data",
          "data": {
            "text/plain": [
              "<Figure size 432x288 with 1 Axes>"
            ],
            "image/png": "[encoded data removed]"
          },
          "metadata": {
            "needs_background": "light"
          }
        }
      ]
    },
    {
      "cell_type": "code",
      "source": [
        "def vector_norm(vector):\n",
        "  squares = [element ** 2 for element in vector]\n",
        "  return sum(squares) ** 0.5"
      ],
      "metadata": {
        "id": "RBTa-wyCebgw"
      },
      "execution_count": 15,
      "outputs": []
    },
    {
      "cell_type": "code",
      "source": [
        "print(\"||\", u, \"|| = \")\n",
        "vector_norm(u)"
      ],
      "metadata": {
        "colab": {
          "base_uri": "https://localhost:8080/"
        },
        "id": "8dV0fOFicqZZ",
        "outputId": "f2f02c7f-81a2-4c23-c4e7-f5f7fb519543"
      },
      "execution_count": 16,
      "outputs": [
        {
          "output_type": "stream",
          "name": "stdout",
          "text": [
            "|| [2 5] || = \n"
          ]
        },
        {
          "output_type": "execute_result",
          "data": {
            "text/plain": [
              "5.385164807134504"
            ]
          },
          "metadata": {},
          "execution_count": 16
        }
      ]
    },
    {
      "cell_type": "code",
      "source": [
        "import numpy.linalg as LA\n",
        "\n",
        "LA.norm(u)"
      ],
      "metadata": {
        "colab": {
          "base_uri": "https://localhost:8080/"
        },
        "id": "1QGnQ7Owcw_v",
        "outputId": "8bb3356f-53e8-48f7-862a-03ebe6cbffb0"
      },
      "execution_count": 17,
      "outputs": [
        {
          "output_type": "execute_result",
          "data": {
            "text/plain": [
              "5.385164807134504"
            ]
          },
          "metadata": {},
          "execution_count": 17
        }
      ]
    },
    {
      "cell_type": "code",
      "source": [
        "radius = LA.norm(u)\n",
        "plt.gca().add_artist(plt.Circle((0,0), radius, color=\"#DDDDDD\"))\n",
        "plot_vector2d(u, color=\"red\")\n",
        "plt.axis([0, 8.7, 0, 6])\n",
        "plt.grid()\n",
        "plt.show()"
      ],
      "metadata": {
        "colab": {
          "base_uri": "https://localhost:8080/",
          "height": 269
        },
        "id": "oOqgipV_c6h4",
        "outputId": "530608c6-7b56-4844-8636-48246b20e18d"
      },
      "execution_count": 18,
      "outputs": [
        {
          "output_type": "display_data",
          "data": {
            "text/plain": [
              "<Figure size 432x288 with 1 Axes>"
            ],
            "image/png": "[encoded data removed]"
          },
          "metadata": {
            "needs_background": "light"
          }
        }
      ]
    },
    {
      "cell_type": "code",
      "source": [
        "print(\" \", u)\n",
        "print(\"+\", v)\n",
        "print(\"-\"*10)\n",
        "u + v"
      ],
      "metadata": {
        "colab": {
          "base_uri": "https://localhost:8080/"
        },
        "id": "GfEJzLrEdJqT",
        "outputId": "dce50ee1-3d2f-4be1-ec7f-52d9ca0df4bb"
      },
      "execution_count": 19,
      "outputs": [
        {
          "output_type": "stream",
          "name": "stdout",
          "text": [
            "  [2 5]\n",
            "+ [3 1]\n",
            "----------\n"
          ]
        },
        {
          "output_type": "execute_result",
          "data": {
            "text/plain": [
              "array([5, 6])"
            ]
          },
          "metadata": {},
          "execution_count": 19
        }
      ]
    },
    {
      "cell_type": "code",
      "source": [
        "plot_vector2d(u, color='r')\n",
        "plot_vector2d(v, color='b')\n",
        "plot_vector2d(v, origin=u, color='b', linestyle='dotted')\n",
        "plot_vector2d(u, origin=v, color='r', linestyle='dotted')\n",
        "plot_vector2d(u+v, color='g')\n",
        "plt.axis([0, 9, 0, 7])\n",
        "plt.text(0.7, 3, 'u', color='r', fontsize=18)\n",
        "plt.text(4, 3, 'u', color='r', fontsize=18)\n",
        "plt.text(1.8, 0.2, 'v', color='b', fontsize=18)\n",
        "plt.text(3.1, 5.6, 'v', color='b', fontsize=18)\n",
        "plt.text(2.4, 2.5, 'u+v', color='g', fontsize=18)\n",
        "plt.grid()\n",
        "plt.show()"
      ],
      "metadata": {
        "colab": {
          "base_uri": "https://localhost:8080/",
          "height": 269
        },
        "id": "bWM2BrP9dRnn",
        "outputId": "d7aabd9a-b543-46b3-e99c-f6348c48e564"
      },
      "execution_count": 20,
      "outputs": [
        {
          "output_type": "display_data",
          "data": {
            "text/plain": [
              "<Figure size 432x288 with 1 Axes>"
            ],
            "image/png": "[encoded data removed]"
          },
          "metadata": {
            "needs_background": "light"
          }
        }
      ]
    },
    {
      "cell_type": "code",
      "source": [
        "t1 = np.array([2, 0.25])\n",
        "t2 = np.array([2.5, 3.5])\n",
        "t3 = np.array([1, 2])\n",
        "\n",
        "x_coords, y_coords = zip(t1, t2, t3, t1)\n",
        "plt.plot(x_coords, y_coords, 'c--', x_coords, y_coords, 'co')\n",
        "\n",
        "plot_vector2d(v, t1, color='r', linestyle=':')\n",
        "plot_vector2d(v, t2, color='r', linestyle=':')\n",
        "plot_vector2d(v, t3, color='r', linestyle=':')\n",
        "\n",
        "t1b = t1 + v\n",
        "t2b = t2 + v\n",
        "t3b = t3 + v\n",
        "\n",
        "x_coords_b, y_coords_b = zip(t1b, t2b, t3b, t1b)\n",
        "plt.plot(x_coords_b, y_coords_b, 'b-', x_coords_b, y_coords_b, 'bo')\n",
        "\n",
        "plt.text(4, 4.2, 'v', color='r', fontsize=18)\n",
        "plt.text(3, 2.3, 'v', color='r', fontsize=18)\n",
        "plt.text(3.5, 0.4, 'v', color='r', fontsize=18)\n",
        "\n",
        "plt.axis([0, 6, 0, 5])\n",
        "plt.grid()\n",
        "plt.show()"
      ],
      "metadata": {
        "colab": {
          "base_uri": "https://localhost:8080/",
          "height": 269
        },
        "id": "gFio4l6njUjb",
        "outputId": "285ece18-561d-4ec5-e302-a0dc3cdbfdf0"
      },
      "execution_count": 21,
      "outputs": [
        {
          "output_type": "display_data",
          "data": {
            "text/plain": [
              "<Figure size 432x288 with 1 Axes>"
            ],
            "image/png": "[encoded data removed]"
          },
          "metadata": {
            "needs_background": "light"
          }
        }
      ]
    },
    {
      "cell_type": "code",
      "source": [
        "print(\"1.5 *\", u, \"=\")\n",
        "1.5 * u "
      ],
      "metadata": {
        "id": "20Zlg09ak208",
        "colab": {
          "base_uri": "https://localhost:8080/"
        },
        "outputId": "e346326f-eeaf-48a4-c74a-062c7e15d63d"
      },
      "execution_count": 22,
      "outputs": [
        {
          "output_type": "stream",
          "name": "stdout",
          "text": [
            "1.5 * [2 5] =\n"
          ]
        },
        {
          "output_type": "execute_result",
          "data": {
            "text/plain": [
              "array([3. , 7.5])"
            ]
          },
          "metadata": {},
          "execution_count": 22
        }
      ]
    },
    {
      "cell_type": "code",
      "source": [
        "k = 2.5\n",
        "t1c = k * t1\n",
        "t2c = k * t2\n",
        "t3c = k * t3\n",
        "\n",
        "plt.plot(x_coords, y_coords, 'c--', x_coords, y_coords, 'co')\n",
        "\n",
        "plot_vector2d(t1, color='r')\n",
        "plot_vector2d(t2, color='r')\n",
        "plot_vector2d(t3, color='r')\n",
        "\n",
        "x_coords_c, y_coords_c = zip(t1c, t2c, t3c, t1c)\n",
        "plt.plot(x_coords_c, y_coords_c, 'b-', x_coords_c, y_coords_c, 'bo')\n",
        "\n",
        "plot_vector2d(t1c, color='b', linestyle=':')\n",
        "plot_vector2d(t2c, color='b', linestyle=':')\n",
        "plot_vector2d(t3c, color='b', linestyle=':')\n",
        "\n",
        "plt.axis([0, 9, 0, 9])\n",
        "plt.grid()\n",
        "plt.show()"
      ],
      "metadata": {
        "colab": {
          "base_uri": "https://localhost:8080/",
          "height": 269
        },
        "id": "e0s4NQ5_cFVR",
        "outputId": "2e4b28dd-1859-4832-9195-067bf00df7d7"
      },
      "execution_count": 23,
      "outputs": [
        {
          "output_type": "display_data",
          "data": {
            "text/plain": [
              "<Figure size 432x288 with 1 Axes>"
            ],
            "image/png": "[encoded data removed]"
          },
          "metadata": {
            "needs_background": "light"
          }
        }
      ]
    },
    {
      "cell_type": "code",
      "source": [
        "plt.gca().add_artist(plt.Circle((0, 0), 1, color='c'))\n",
        "plt.plot(0, 0, 'ko')\n",
        "plot_vector2d(v / LA.norm(v), color='k')\n",
        "plot_vector2d(v, color='b', linestyle=':')\n",
        "plt.text(0.3, 0.3, \"$\\hat{u}$\", color='k', fontsize=18)\n",
        "plt.text(1.5, 0.7, \"$u$\", color='b', fontsize=18)\n",
        "plt.axis([-1.5, 5.5, -1.5, 3.5])\n",
        "plt.grid()\n",
        "plt.show()"
      ],
      "metadata": {
        "colab": {
          "base_uri": "https://localhost:8080/",
          "height": 265
        },
        "id": "GXVlv2_Bc4mx",
        "outputId": "5ee0c9bc-83e2-484d-9e50-438663f7aa2f"
      },
      "execution_count": 24,
      "outputs": [
        {
          "output_type": "display_data",
          "data": {
            "text/plain": [
              "<Figure size 432x288 with 1 Axes>"
            ],
            "image/png": "[encoded data removed]"
          },
          "metadata": {
            "needs_background": "light"
          }
        }
      ]
    },
    {
      "cell_type": "code",
      "source": [
        "def dot_product(v1, v2):\n",
        "  return sum(v1i * v2i for v1i, v2i in zip(v1, v2))\n",
        "\n",
        "dot_product(u, v)"
      ],
      "metadata": {
        "colab": {
          "base_uri": "https://localhost:8080/"
        },
        "id": "GbQPyNNkd4gx",
        "outputId": "8f73346e-e909-4d62-9cec-db8d1ea056b1"
      },
      "execution_count": 25,
      "outputs": [
        {
          "output_type": "execute_result",
          "data": {
            "text/plain": [
              "11"
            ]
          },
          "metadata": {},
          "execution_count": 25
        }
      ]
    },
    {
      "cell_type": "code",
      "source": [
        "np.dot(u, v)"
      ],
      "metadata": {
        "colab": {
          "base_uri": "https://localhost:8080/"
        },
        "id": "w-p9gQa5eqDA",
        "outputId": "c79efbae-a662-4856-c3e0-d66d58ee5773"
      },
      "execution_count": 26,
      "outputs": [
        {
          "output_type": "execute_result",
          "data": {
            "text/plain": [
              "11"
            ]
          },
          "metadata": {},
          "execution_count": 26
        }
      ]
    },
    {
      "cell_type": "code",
      "source": [
        "u.dot(v)"
      ],
      "metadata": {
        "colab": {
          "base_uri": "https://localhost:8080/"
        },
        "id": "AG93QmU1erK_",
        "outputId": "ef6bca50-b9f2-45d1-f22c-e998a7168398"
      },
      "execution_count": 27,
      "outputs": [
        {
          "output_type": "execute_result",
          "data": {
            "text/plain": [
              "11"
            ]
          },
          "metadata": {},
          "execution_count": 27
        }
      ]
    },
    {
      "cell_type": "code",
      "source": [
        "v.dot(u)"
      ],
      "metadata": {
        "colab": {
          "base_uri": "https://localhost:8080/"
        },
        "id": "-Aztnj45etm_",
        "outputId": "5f8079bb-b014-45bd-d6d8-a4462960c176"
      },
      "execution_count": 28,
      "outputs": [
        {
          "output_type": "execute_result",
          "data": {
            "text/plain": [
              "11"
            ]
          },
          "metadata": {},
          "execution_count": 28
        }
      ]
    },
    {
      "cell_type": "code",
      "source": [
        "print(\"  \", u)\n",
        "print(\"* \", v, \"(NOT a dot product)\")\n",
        "print(\"-\" * 10)\n",
        "\n",
        "u * v"
      ],
      "metadata": {
        "colab": {
          "base_uri": "https://localhost:8080/"
        },
        "id": "ScudBe1QeuUe",
        "outputId": "d30b7daf-1726-41aa-97f4-a902359fa326"
      },
      "execution_count": 29,
      "outputs": [
        {
          "output_type": "stream",
          "name": "stdout",
          "text": [
            "   [2 5]\n",
            "*  [3 1] (NOT a dot product)\n",
            "----------\n"
          ]
        },
        {
          "output_type": "execute_result",
          "data": {
            "text/plain": [
              "array([6, 5])"
            ]
          },
          "metadata": {},
          "execution_count": 29
        }
      ]
    },
    {
      "cell_type": "code",
      "source": [
        "def vector_angle(u, v):\n",
        "  cos_theta = np.dot(u, v) / LA.norm(u) / LA.norm(v)\n",
        "  return np.arccos(np.clip(cos_theta, -1, 1))"
      ],
      "metadata": {
        "id": "54yx2SOae88i"
      },
      "execution_count": 30,
      "outputs": []
    },
    {
      "cell_type": "code",
      "source": [
        "theta = vector_angle(u, v)\n",
        "print(\"Angle =\", theta, \"radians\")\n",
        "print(\"      =\", theta * 180 / np.pi, \"degrees\")"
      ],
      "metadata": {
        "colab": {
          "base_uri": "https://localhost:8080/"
        },
        "id": "v6TfYlkqgMqH",
        "outputId": "fb58cfc7-c52d-461d-ba6a-a9c77190353b"
      },
      "execution_count": 31,
      "outputs": [
        {
          "output_type": "stream",
          "name": "stdout",
          "text": [
            "Angle = 0.8685393952858895 radians\n",
            "      = 49.76364169072618 degrees\n"
          ]
        }
      ]
    },
    {
      "cell_type": "code",
      "source": [
        "u_normalized = u / LA.norm(u)\n",
        "proj = np.dot(v, u_normalized) * u_normalized\n",
        "\n",
        "plot_vector2d(u, color='r')\n",
        "plot_vector2d(v, color='b')\n",
        "\n",
        "plot_vector2d(proj, color='k', linestyle=':')\n",
        "plt.plot(proj[0], proj[1], 'ko')\n",
        "\n",
        "plt.plot([proj[0], v[0]], [proj[1], v[1]], 'b:')\n",
        "\n",
        "plt.text(1, 2, '$proj_u$', color='k', fontsize=18)\n",
        "plt.text(1.8, 0.2, '$v$', color='b', fontsize=18)\n",
        "plt.text(0.8, 3, '$u$', color='r', fontsize=18)\n",
        "\n",
        "plt.axis([0, 8, 0, 5.5])\n",
        "plt.grid()\n",
        "plt.show()"
      ],
      "metadata": {
        "colab": {
          "base_uri": "https://localhost:8080/",
          "height": 265
        },
        "id": "-8e4zPpAgVzg",
        "outputId": "f76a6273-c478-4469-ddfc-aeaf4c72272b"
      },
      "execution_count": 32,
      "outputs": [
        {
          "output_type": "display_data",
          "data": {
            "text/plain": [
              "<Figure size 432x288 with 1 Axes>"
            ],
            "image/png": "[encoded data removed]"
          },
          "metadata": {
            "needs_background": "light"
          }
        }
      ]
    },
    {
      "cell_type": "code",
      "source": [
        "[\n",
        " [10, 20, 30],\n",
        " [40, 50, 60]\n",
        "]"
      ],
      "metadata": {
        "colab": {
          "base_uri": "https://localhost:8080/"
        },
        "id": "Ij5slBDHinOh",
        "outputId": "8867717e-f7e4-4f74-def0-5d1fadba6b6a"
      },
      "execution_count": 33,
      "outputs": [
        {
          "output_type": "execute_result",
          "data": {
            "text/plain": [
              "[[10, 20, 30], [40, 50, 60]]"
            ]
          },
          "metadata": {},
          "execution_count": 33
        }
      ]
    },
    {
      "cell_type": "code",
      "source": [
        "A = np.array([\n",
        "    [10,20,30],\n",
        "    [40,50,60]\n",
        "])\n",
        "A"
      ],
      "metadata": {
        "colab": {
          "base_uri": "https://localhost:8080/"
        },
        "id": "Q7B8dxJSjjEx",
        "outputId": "ee9073ce-edce-403e-e784-4321a52b8978"
      },
      "execution_count": 34,
      "outputs": [
        {
          "output_type": "execute_result",
          "data": {
            "text/plain": [
              "array([[10, 20, 30],\n",
              "       [40, 50, 60]])"
            ]
          },
          "metadata": {},
          "execution_count": 34
        }
      ]
    },
    {
      "cell_type": "code",
      "source": [
        "type(A)"
      ],
      "metadata": {
        "colab": {
          "base_uri": "https://localhost:8080/"
        },
        "id": "I-ZzUgnqjpz_",
        "outputId": "c4f5ba0b-f935-4770-f649-4206dbd61f72"
      },
      "execution_count": 35,
      "outputs": [
        {
          "output_type": "execute_result",
          "data": {
            "text/plain": [
              "numpy.ndarray"
            ]
          },
          "metadata": {},
          "execution_count": 35
        }
      ]
    },
    {
      "cell_type": "code",
      "source": [
        "A.shape"
      ],
      "metadata": {
        "colab": {
          "base_uri": "https://localhost:8080/"
        },
        "id": "BjFo9y-PjvrG",
        "outputId": "68546110-2848-4236-de08-6990d54e3255"
      },
      "execution_count": 36,
      "outputs": [
        {
          "output_type": "execute_result",
          "data": {
            "text/plain": [
              "(2, 3)"
            ]
          },
          "metadata": {},
          "execution_count": 36
        }
      ]
    },
    {
      "cell_type": "code",
      "source": [
        "A.size"
      ],
      "metadata": {
        "colab": {
          "base_uri": "https://localhost:8080/"
        },
        "id": "CnmF5Zxxj0t3",
        "outputId": "7d32afa3-a829-4c5c-bfd8-b5d954f95294"
      },
      "execution_count": 37,
      "outputs": [
        {
          "output_type": "execute_result",
          "data": {
            "text/plain": [
              "6"
            ]
          },
          "metadata": {},
          "execution_count": 37
        }
      ]
    },
    {
      "cell_type": "code",
      "source": [
        "A[1,2]"
      ],
      "metadata": {
        "id": "S9sxGHkhj16A",
        "colab": {
          "base_uri": "https://localhost:8080/"
        },
        "outputId": "416ae161-8a55-40d0-aed3-48bdcb1470bd"
      },
      "execution_count": 38,
      "outputs": [
        {
          "output_type": "execute_result",
          "data": {
            "text/plain": [
              "60"
            ]
          },
          "metadata": {},
          "execution_count": 38
        }
      ]
    },
    {
      "cell_type": "code",
      "source": [
        "A[1][2]"
      ],
      "metadata": {
        "colab": {
          "base_uri": "https://localhost:8080/"
        },
        "id": "2Pe1PL7vt7QM",
        "outputId": "22e16763-5126-4c9b-cc4f-f0f2a076b6c1"
      },
      "execution_count": 39,
      "outputs": [
        {
          "output_type": "execute_result",
          "data": {
            "text/plain": [
              "60"
            ]
          },
          "metadata": {},
          "execution_count": 39
        }
      ]
    },
    {
      "cell_type": "code",
      "source": [
        "A[1, :]"
      ],
      "metadata": {
        "colab": {
          "base_uri": "https://localhost:8080/"
        },
        "id": "Ne_g4z80t8CC",
        "outputId": "22924a4d-b496-42d4-ebd3-5d2a7fe00c8e"
      },
      "execution_count": 40,
      "outputs": [
        {
          "output_type": "execute_result",
          "data": {
            "text/plain": [
              "array([40, 50, 60])"
            ]
          },
          "metadata": {},
          "execution_count": 40
        }
      ]
    },
    {
      "cell_type": "code",
      "source": [
        "A[0, :]"
      ],
      "metadata": {
        "colab": {
          "base_uri": "https://localhost:8080/"
        },
        "id": "BAw0zdhzuHUT",
        "outputId": "135092c7-6597-4d51-e7bb-d34ed9126c8f"
      },
      "execution_count": 41,
      "outputs": [
        {
          "output_type": "execute_result",
          "data": {
            "text/plain": [
              "array([10, 20, 30])"
            ]
          },
          "metadata": {},
          "execution_count": 41
        }
      ]
    },
    {
      "cell_type": "code",
      "source": [
        "A[:, 2]"
      ],
      "metadata": {
        "colab": {
          "base_uri": "https://localhost:8080/"
        },
        "id": "2tH3Av13uJcj",
        "outputId": "b0656505-edff-4a7c-a7ab-4139bfca47a8"
      },
      "execution_count": 42,
      "outputs": [
        {
          "output_type": "execute_result",
          "data": {
            "text/plain": [
              "array([30, 60])"
            ]
          },
          "metadata": {},
          "execution_count": 42
        }
      ]
    },
    {
      "cell_type": "code",
      "source": [
        "A[1:2, :]"
      ],
      "metadata": {
        "colab": {
          "base_uri": "https://localhost:8080/"
        },
        "id": "Tj110DsuuLnr",
        "outputId": "a11c09ba-c991-4665-d537-9f99d17aef75"
      },
      "execution_count": 43,
      "outputs": [
        {
          "output_type": "execute_result",
          "data": {
            "text/plain": [
              "array([[40, 50, 60]])"
            ]
          },
          "metadata": {},
          "execution_count": 43
        }
      ]
    },
    {
      "cell_type": "code",
      "source": [
        "A[:, 2:3]"
      ],
      "metadata": {
        "colab": {
          "base_uri": "https://localhost:8080/"
        },
        "id": "ue73F4lpuV-M",
        "outputId": "c3843b60-4139-4fdb-a1ec-93069ab3402b"
      },
      "execution_count": 44,
      "outputs": [
        {
          "output_type": "execute_result",
          "data": {
            "text/plain": [
              "array([[30],\n",
              "       [60]])"
            ]
          },
          "metadata": {},
          "execution_count": 44
        }
      ]
    },
    {
      "cell_type": "code",
      "source": [
        "np.diag([4, 5, 6])"
      ],
      "metadata": {
        "colab": {
          "base_uri": "https://localhost:8080/"
        },
        "id": "-uYFsS_OuaDr",
        "outputId": "5a39c719-e6fc-4d55-91d5-b13cac18544e"
      },
      "execution_count": 45,
      "outputs": [
        {
          "output_type": "execute_result",
          "data": {
            "text/plain": [
              "array([[4, 0, 0],\n",
              "       [0, 5, 0],\n",
              "       [0, 0, 6]])"
            ]
          },
          "metadata": {},
          "execution_count": 45
        }
      ]
    },
    {
      "cell_type": "code",
      "source": [
        "D = np.array([\n",
        "    [1, 2, 3],\n",
        "    [4, 5, 6],\n",
        "    [7, 8, 9],\n",
        "])\n",
        "D"
      ],
      "metadata": {
        "colab": {
          "base_uri": "https://localhost:8080/"
        },
        "id": "8IbD6cGyvMcD",
        "outputId": "aa01b641-e978-4e8a-c5a0-8e9e5d88ea28"
      },
      "execution_count": 46,
      "outputs": [
        {
          "output_type": "execute_result",
          "data": {
            "text/plain": [
              "array([[1, 2, 3],\n",
              "       [4, 5, 6],\n",
              "       [7, 8, 9]])"
            ]
          },
          "metadata": {},
          "execution_count": 46
        }
      ]
    },
    {
      "cell_type": "code",
      "source": [
        "np.diag(D)"
      ],
      "metadata": {
        "colab": {
          "base_uri": "https://localhost:8080/"
        },
        "id": "q9Y-6AIavToK",
        "outputId": "288e7a8d-8615-4358-8165-eb8aabee8d54"
      },
      "execution_count": 47,
      "outputs": [
        {
          "output_type": "execute_result",
          "data": {
            "text/plain": [
              "array([1, 5, 9])"
            ]
          },
          "metadata": {},
          "execution_count": 47
        }
      ]
    },
    {
      "cell_type": "code",
      "source": [
        "np.eye(3)"
      ],
      "metadata": {
        "colab": {
          "base_uri": "https://localhost:8080/"
        },
        "id": "2A4vvCU5vUV7",
        "outputId": "8636366d-e1c1-498d-ee65-2367cf551d22"
      },
      "execution_count": 48,
      "outputs": [
        {
          "output_type": "execute_result",
          "data": {
            "text/plain": [
              "array([[1., 0., 0.],\n",
              "       [0., 1., 0.],\n",
              "       [0., 0., 1.]])"
            ]
          },
          "metadata": {},
          "execution_count": 48
        }
      ]
    },
    {
      "cell_type": "code",
      "source": [
        "B = np.array([[1,2,3],[4,5,6]])\n",
        "B"
      ],
      "metadata": {
        "colab": {
          "base_uri": "https://localhost:8080/"
        },
        "id": "b4vt8ol3vXqj",
        "outputId": "09c7e68a-153c-40e0-c8dd-228e9b19ae21"
      },
      "execution_count": 49,
      "outputs": [
        {
          "output_type": "execute_result",
          "data": {
            "text/plain": [
              "array([[1, 2, 3],\n",
              "       [4, 5, 6]])"
            ]
          },
          "metadata": {},
          "execution_count": 49
        }
      ]
    },
    {
      "cell_type": "code",
      "source": [
        "A"
      ],
      "metadata": {
        "colab": {
          "base_uri": "https://localhost:8080/"
        },
        "id": "ySSKcZJHwYd6",
        "outputId": "4981b988-50a4-40af-ed2d-00fdbf890ca7"
      },
      "execution_count": 50,
      "outputs": [
        {
          "output_type": "execute_result",
          "data": {
            "text/plain": [
              "array([[10, 20, 30],\n",
              "       [40, 50, 60]])"
            ]
          },
          "metadata": {},
          "execution_count": 50
        }
      ]
    },
    {
      "cell_type": "code",
      "source": [
        "A + B"
      ],
      "metadata": {
        "colab": {
          "base_uri": "https://localhost:8080/"
        },
        "id": "Vz0mkwCGwaSz",
        "outputId": "94939921-6749-45b6-f57e-69fc0ae2c749"
      },
      "execution_count": 51,
      "outputs": [
        {
          "output_type": "execute_result",
          "data": {
            "text/plain": [
              "array([[11, 22, 33],\n",
              "       [44, 55, 66]])"
            ]
          },
          "metadata": {},
          "execution_count": 51
        }
      ]
    },
    {
      "cell_type": "code",
      "source": [
        "B + A"
      ],
      "metadata": {
        "colab": {
          "base_uri": "https://localhost:8080/"
        },
        "id": "Ia6jp7aswbar",
        "outputId": "1b110727-be2e-4994-96a2-9dea187ba97b"
      },
      "execution_count": 52,
      "outputs": [
        {
          "output_type": "execute_result",
          "data": {
            "text/plain": [
              "array([[11, 22, 33],\n",
              "       [44, 55, 66]])"
            ]
          },
          "metadata": {},
          "execution_count": 52
        }
      ]
    },
    {
      "cell_type": "code",
      "source": [
        "C = np.array([[100, 200, 300], [400, 500, 600]])\n",
        "C"
      ],
      "metadata": {
        "colab": {
          "base_uri": "https://localhost:8080/"
        },
        "id": "KPBSgWkwwb1j",
        "outputId": "7a91fc6b-90d8-4368-925f-f01e1f6afa60"
      },
      "execution_count": 53,
      "outputs": [
        {
          "output_type": "execute_result",
          "data": {
            "text/plain": [
              "array([[100, 200, 300],\n",
              "       [400, 500, 600]])"
            ]
          },
          "metadata": {},
          "execution_count": 53
        }
      ]
    },
    {
      "cell_type": "code",
      "source": [
        "(A+B)+C"
      ],
      "metadata": {
        "colab": {
          "base_uri": "https://localhost:8080/"
        },
        "id": "_jBmlq5cwg4z",
        "outputId": "483a342b-e88d-4d87-f5f6-2468ed8a854f"
      },
      "execution_count": 54,
      "outputs": [
        {
          "output_type": "execute_result",
          "data": {
            "text/plain": [
              "array([[111, 222, 333],\n",
              "       [444, 555, 666]])"
            ]
          },
          "metadata": {},
          "execution_count": 54
        }
      ]
    },
    {
      "cell_type": "code",
      "source": [
        "A+(B+C)"
      ],
      "metadata": {
        "colab": {
          "base_uri": "https://localhost:8080/"
        },
        "id": "3s9v6BRgwi-T",
        "outputId": "84fe214d-f665-4a1c-f180-5c48164995ec"
      },
      "execution_count": 55,
      "outputs": [
        {
          "output_type": "execute_result",
          "data": {
            "text/plain": [
              "array([[111, 222, 333],\n",
              "       [444, 555, 666]])"
            ]
          },
          "metadata": {},
          "execution_count": 55
        }
      ]
    },
    {
      "cell_type": "code",
      "source": [
        "2 * A"
      ],
      "metadata": {
        "colab": {
          "base_uri": "https://localhost:8080/"
        },
        "id": "XpYWJw4HwlpS",
        "outputId": "f2407908-f1fc-49e7-b71c-29e85b3aaa3d"
      },
      "execution_count": 56,
      "outputs": [
        {
          "output_type": "execute_result",
          "data": {
            "text/plain": [
              "array([[ 20,  40,  60],\n",
              "       [ 80, 100, 120]])"
            ]
          },
          "metadata": {},
          "execution_count": 56
        }
      ]
    },
    {
      "cell_type": "code",
      "source": [
        "A * 2"
      ],
      "metadata": {
        "colab": {
          "base_uri": "https://localhost:8080/"
        },
        "id": "NSC3GtcRw6Cb",
        "outputId": "8f86defb-4a91-4f1f-e9b9-bd420447b846"
      },
      "execution_count": 57,
      "outputs": [
        {
          "output_type": "execute_result",
          "data": {
            "text/plain": [
              "array([[ 20,  40,  60],\n",
              "       [ 80, 100, 120]])"
            ]
          },
          "metadata": {},
          "execution_count": 57
        }
      ]
    },
    {
      "cell_type": "code",
      "source": [
        "2 * (3 * A)"
      ],
      "metadata": {
        "colab": {
          "base_uri": "https://localhost:8080/"
        },
        "id": "_g1m0cgcw6h6",
        "outputId": "32057f97-a59d-4ca3-cfc2-54702d7a2202"
      },
      "execution_count": 58,
      "outputs": [
        {
          "output_type": "execute_result",
          "data": {
            "text/plain": [
              "array([[ 60, 120, 180],\n",
              "       [240, 300, 360]])"
            ]
          },
          "metadata": {},
          "execution_count": 58
        }
      ]
    },
    {
      "cell_type": "code",
      "source": [
        "(2 * 3) * A"
      ],
      "metadata": {
        "colab": {
          "base_uri": "https://localhost:8080/"
        },
        "id": "OCn_ftVIw80q",
        "outputId": "ad9e8444-785f-4029-ca7f-00b6c7c0de43"
      },
      "execution_count": 59,
      "outputs": [
        {
          "output_type": "execute_result",
          "data": {
            "text/plain": [
              "array([[ 60, 120, 180],\n",
              "       [240, 300, 360]])"
            ]
          },
          "metadata": {},
          "execution_count": 59
        }
      ]
    },
    {
      "cell_type": "code",
      "source": [
        "2 * (A + B)"
      ],
      "metadata": {
        "colab": {
          "base_uri": "https://localhost:8080/"
        },
        "id": "KRJgGIzlw-W6",
        "outputId": "39a02767-b680-453a-9664-2a9b11f24947"
      },
      "execution_count": 60,
      "outputs": [
        {
          "output_type": "execute_result",
          "data": {
            "text/plain": [
              "array([[ 22,  44,  66],\n",
              "       [ 88, 110, 132]])"
            ]
          },
          "metadata": {},
          "execution_count": 60
        }
      ]
    },
    {
      "cell_type": "code",
      "source": [
        "2 * A + 2 * B"
      ],
      "metadata": {
        "colab": {
          "base_uri": "https://localhost:8080/"
        },
        "id": "Mop0forFxBNz",
        "outputId": "ad4125c8-be83-4d6c-eabf-488772ae344a"
      },
      "execution_count": 61,
      "outputs": [
        {
          "output_type": "execute_result",
          "data": {
            "text/plain": [
              "array([[ 22,  44,  66],\n",
              "       [ 88, 110, 132]])"
            ]
          },
          "metadata": {},
          "execution_count": 61
        }
      ]
    },
    {
      "cell_type": "code",
      "source": [
        "D = np.array([\n",
        "    [2, 3, 5, 7],\n",
        "    [11, 13, 17, 19],\n",
        "    [23, 29, 31, 37]\n",
        "])\n",
        "\n",
        "E = A.dot(D)\n",
        "E"
      ],
      "metadata": {
        "id": "u_fguNMUxCqy",
        "colab": {
          "base_uri": "https://localhost:8080/"
        },
        "outputId": "95360db8-24ec-4ea8-90a0-73f568574213"
      },
      "execution_count": 62,
      "outputs": [
        {
          "output_type": "execute_result",
          "data": {
            "text/plain": [
              "array([[ 930, 1160, 1320, 1560],\n",
              "       [2010, 2510, 2910, 3450]])"
            ]
          },
          "metadata": {},
          "execution_count": 62
        }
      ]
    },
    {
      "cell_type": "code",
      "source": [
        "A"
      ],
      "metadata": {
        "colab": {
          "base_uri": "https://localhost:8080/"
        },
        "id": "Y3nAeq3Y06eu",
        "outputId": "5c6fc6a3-d1e4-4ac5-ed61-d9ade0f43aa8"
      },
      "execution_count": 63,
      "outputs": [
        {
          "output_type": "execute_result",
          "data": {
            "text/plain": [
              "array([[10, 20, 30],\n",
              "       [40, 50, 60]])"
            ]
          },
          "metadata": {},
          "execution_count": 63
        }
      ]
    },
    {
      "cell_type": "code",
      "source": [
        "D"
      ],
      "metadata": {
        "colab": {
          "base_uri": "https://localhost:8080/"
        },
        "id": "ebMd7EEU0-49",
        "outputId": "2ce9433a-5ee9-4d34-9961-aabb5ecde1c2"
      },
      "execution_count": 64,
      "outputs": [
        {
          "output_type": "execute_result",
          "data": {
            "text/plain": [
              "array([[ 2,  3,  5,  7],\n",
              "       [11, 13, 17, 19],\n",
              "       [23, 29, 31, 37]])"
            ]
          },
          "metadata": {},
          "execution_count": 64
        }
      ]
    },
    {
      "cell_type": "code",
      "source": [
        "E[1,2]"
      ],
      "metadata": {
        "colab": {
          "base_uri": "https://localhost:8080/"
        },
        "id": "YmtU3oQl0_rl",
        "outputId": "361ab007-9566-473c-c19e-22198b9b8633"
      },
      "execution_count": 65,
      "outputs": [
        {
          "output_type": "execute_result",
          "data": {
            "text/plain": [
              "2910"
            ]
          },
          "metadata": {},
          "execution_count": 65
        }
      ]
    },
    {
      "cell_type": "code",
      "source": [
        "40 * 5 + 50 * 17 + 60 * 31"
      ],
      "metadata": {
        "colab": {
          "base_uri": "https://localhost:8080/"
        },
        "id": "V2cULVM11CYm",
        "outputId": "11d5513e-1d5c-4000-fff7-98d60d57dce8"
      },
      "execution_count": 66,
      "outputs": [
        {
          "output_type": "execute_result",
          "data": {
            "text/plain": [
              "2910"
            ]
          },
          "metadata": {},
          "execution_count": 66
        }
      ]
    },
    {
      "cell_type": "code",
      "source": [
        "try:\n",
        "  D.dot(A)\n",
        "except ValueError as e:\n",
        "  print(\"Value Error:\", e)\n"
      ],
      "metadata": {
        "colab": {
          "base_uri": "https://localhost:8080/"
        },
        "id": "VVn_e5CN1NoG",
        "outputId": "95cab596-9e03-41ef-bd97-4cf83d0f5a7e"
      },
      "execution_count": 67,
      "outputs": [
        {
          "output_type": "stream",
          "name": "stdout",
          "text": [
            "Value Error: shapes (3,4) and (2,3) not aligned: 4 (dim 1) != 2 (dim 0)\n"
          ]
        }
      ]
    },
    {
      "cell_type": "code",
      "source": [
        "F = np.array([\n",
        "    [5, 2],\n",
        "    [4, 1],\n",
        "    [9, 3]\n",
        "])\n",
        "F.shape"
      ],
      "metadata": {
        "colab": {
          "base_uri": "https://localhost:8080/"
        },
        "id": "3Rv1KaqI2DJO",
        "outputId": "c3819393-5ed6-4b28-b681-106762b067f7"
      },
      "execution_count": 68,
      "outputs": [
        {
          "output_type": "execute_result",
          "data": {
            "text/plain": [
              "(3, 2)"
            ]
          },
          "metadata": {},
          "execution_count": 68
        }
      ]
    },
    {
      "cell_type": "code",
      "source": [
        "A.shape"
      ],
      "metadata": {
        "colab": {
          "base_uri": "https://localhost:8080/"
        },
        "id": "GqpeqFOT2SuP",
        "outputId": "0533ce4a-0648-4be8-ba6e-62e0d65c4f58"
      },
      "execution_count": 69,
      "outputs": [
        {
          "output_type": "execute_result",
          "data": {
            "text/plain": [
              "(2, 3)"
            ]
          },
          "metadata": {},
          "execution_count": 69
        }
      ]
    },
    {
      "cell_type": "code",
      "source": [
        "F.dot(A)"
      ],
      "metadata": {
        "colab": {
          "base_uri": "https://localhost:8080/"
        },
        "id": "P838sVns2UK-",
        "outputId": "099d89ea-0068-4344-ccb6-aeb6dcd4b224"
      },
      "execution_count": 70,
      "outputs": [
        {
          "output_type": "execute_result",
          "data": {
            "text/plain": [
              "array([[130, 200, 270],\n",
              "       [ 80, 130, 180],\n",
              "       [210, 330, 450]])"
            ]
          },
          "metadata": {},
          "execution_count": 70
        }
      ]
    },
    {
      "cell_type": "code",
      "source": [
        "A.dot(F)"
      ],
      "metadata": {
        "colab": {
          "base_uri": "https://localhost:8080/"
        },
        "id": "te26y4Xe2VS9",
        "outputId": "8fbfbee3-198f-42f0-a4be-84d08ac8122f"
      },
      "execution_count": 71,
      "outputs": [
        {
          "output_type": "execute_result",
          "data": {
            "text/plain": [
              "array([[400, 130],\n",
              "       [940, 310]])"
            ]
          },
          "metadata": {},
          "execution_count": 71
        }
      ]
    },
    {
      "cell_type": "code",
      "source": [
        "G = np.array([\n",
        "    [8, 7, 4, 2, 5],\n",
        "    [2, 5, 1, 0, 5],\n",
        "    [9, 11, 17, 21, 0],\n",
        "    [0, 1, 0, 1, 2]\n",
        "])\n",
        "G.shape"
      ],
      "metadata": {
        "colab": {
          "base_uri": "https://localhost:8080/"
        },
        "id": "Wnst8Qcg2V_-",
        "outputId": "abfb44fb-eaad-4ce3-c6d8-a450a7ffcd61"
      },
      "execution_count": 72,
      "outputs": [
        {
          "output_type": "execute_result",
          "data": {
            "text/plain": [
              "(4, 5)"
            ]
          },
          "metadata": {},
          "execution_count": 72
        }
      ]
    },
    {
      "cell_type": "code",
      "source": [
        "A.dot(D.dot(G))"
      ],
      "metadata": {
        "colab": {
          "base_uri": "https://localhost:8080/"
        },
        "id": "rMDoVEjY2itn",
        "outputId": "2486f81a-c1be-4c7a-a822-becf7cd24538"
      },
      "execution_count": 73,
      "outputs": [
        {
          "output_type": "execute_result",
          "data": {
            "text/plain": [
              "array([[21640, 28390, 27320, 31140, 13570],\n",
              "       [47290, 62080, 60020, 68580, 29500]])"
            ]
          },
          "metadata": {},
          "execution_count": 73
        }
      ]
    },
    {
      "cell_type": "code",
      "source": [
        "D.shape"
      ],
      "metadata": {
        "colab": {
          "base_uri": "https://localhost:8080/"
        },
        "id": "aaU09lPg2kz3",
        "outputId": "45fb793f-97be-4d6a-cfb4-5c3d5c93da72"
      },
      "execution_count": 74,
      "outputs": [
        {
          "output_type": "execute_result",
          "data": {
            "text/plain": [
              "(3, 4)"
            ]
          },
          "metadata": {},
          "execution_count": 74
        }
      ]
    },
    {
      "cell_type": "code",
      "source": [
        "A.dot(D).dot(G)"
      ],
      "metadata": {
        "colab": {
          "base_uri": "https://localhost:8080/"
        },
        "id": "aAF044qq2oY3",
        "outputId": "02242d5f-83b3-4876-9d01-bf21fec4b7b0"
      },
      "execution_count": 75,
      "outputs": [
        {
          "output_type": "execute_result",
          "data": {
            "text/plain": [
              "array([[21640, 28390, 27320, 31140, 13570],\n",
              "       [47290, 62080, 60020, 68580, 29500]])"
            ]
          },
          "metadata": {},
          "execution_count": 75
        }
      ]
    },
    {
      "cell_type": "code",
      "source": [
        "(A + B).dot(D)"
      ],
      "metadata": {
        "colab": {
          "base_uri": "https://localhost:8080/"
        },
        "id": "CGmseTjs2r23",
        "outputId": "c7a2225a-1b65-43dc-8e30-84255961963e"
      },
      "execution_count": 76,
      "outputs": [
        {
          "output_type": "execute_result",
          "data": {
            "text/plain": [
              "array([[1023, 1276, 1452, 1716],\n",
              "       [2211, 2761, 3201, 3795]])"
            ]
          },
          "metadata": {},
          "execution_count": 76
        }
      ]
    },
    {
      "cell_type": "code",
      "source": [
        "A.dot(D) + B.dot(D)"
      ],
      "metadata": {
        "colab": {
          "base_uri": "https://localhost:8080/"
        },
        "id": "KQdlsd6h2u8-",
        "outputId": "cee914a4-de68-44f1-d3ae-70209de5fd0d"
      },
      "execution_count": 77,
      "outputs": [
        {
          "output_type": "execute_result",
          "data": {
            "text/plain": [
              "array([[1023, 1276, 1452, 1716],\n",
              "       [2211, 2761, 3201, 3795]])"
            ]
          },
          "metadata": {},
          "execution_count": 77
        }
      ]
    },
    {
      "cell_type": "code",
      "source": [
        "A.dot(np.eye(3))"
      ],
      "metadata": {
        "colab": {
          "base_uri": "https://localhost:8080/"
        },
        "id": "gcSg5KEW2wbv",
        "outputId": "8fbefe8c-acf5-4fb8-f52c-829fa6d27d3f"
      },
      "execution_count": 78,
      "outputs": [
        {
          "output_type": "execute_result",
          "data": {
            "text/plain": [
              "array([[10., 20., 30.],\n",
              "       [40., 50., 60.]])"
            ]
          },
          "metadata": {},
          "execution_count": 78
        }
      ]
    },
    {
      "cell_type": "code",
      "source": [
        "np.eye(2).dot(A)"
      ],
      "metadata": {
        "colab": {
          "base_uri": "https://localhost:8080/"
        },
        "id": "kKFZQ5Fs3Clm",
        "outputId": "eecfa388-d42c-4489-909a-429dac64d654"
      },
      "execution_count": 79,
      "outputs": [
        {
          "output_type": "execute_result",
          "data": {
            "text/plain": [
              "array([[10., 20., 30.],\n",
              "       [40., 50., 60.]])"
            ]
          },
          "metadata": {},
          "execution_count": 79
        }
      ]
    },
    {
      "cell_type": "code",
      "source": [
        "A * B"
      ],
      "metadata": {
        "colab": {
          "base_uri": "https://localhost:8080/"
        },
        "id": "bLii2fGL3EgH",
        "outputId": "ce070fd4-07d1-448a-924d-bc437feebf73"
      },
      "execution_count": 80,
      "outputs": [
        {
          "output_type": "execute_result",
          "data": {
            "text/plain": [
              "array([[ 10,  40,  90],\n",
              "       [160, 250, 360]])"
            ]
          },
          "metadata": {},
          "execution_count": 80
        }
      ]
    },
    {
      "cell_type": "code",
      "source": [
        "A"
      ],
      "metadata": {
        "colab": {
          "base_uri": "https://localhost:8080/"
        },
        "id": "p4SOcBrk3GLe",
        "outputId": "92830911-d422-46df-c85b-9d5ee76188ea"
      },
      "execution_count": 81,
      "outputs": [
        {
          "output_type": "execute_result",
          "data": {
            "text/plain": [
              "array([[10, 20, 30],\n",
              "       [40, 50, 60]])"
            ]
          },
          "metadata": {},
          "execution_count": 81
        }
      ]
    },
    {
      "cell_type": "code",
      "source": [
        "B"
      ],
      "metadata": {
        "colab": {
          "base_uri": "https://localhost:8080/"
        },
        "id": "gNucqDEf3IfP",
        "outputId": "d6f963d8-06d4-43b4-9570-62cf17150ba1"
      },
      "execution_count": 82,
      "outputs": [
        {
          "output_type": "execute_result",
          "data": {
            "text/plain": [
              "array([[1, 2, 3],\n",
              "       [4, 5, 6]])"
            ]
          },
          "metadata": {},
          "execution_count": 82
        }
      ]
    },
    {
      "cell_type": "code",
      "source": [
        "import sys\n",
        "print(\"Python version: {}, {}, {}\".format(*sys.version_info))\n",
        "print(f\"Numpy version: {np.version.version}\")"
      ],
      "metadata": {
        "colab": {
          "base_uri": "https://localhost:8080/"
        },
        "id": "iPNN8Wxa3IrG",
        "outputId": "37422138-66bb-49fd-e7cb-b35e29391b0b"
      },
      "execution_count": 83,
      "outputs": [
        {
          "output_type": "stream",
          "name": "stdout",
          "text": [
            "Python version: 3, 7, 13\n",
            "Numpy version: 1.21.6\n"
          ]
        }
      ]
    },
    {
      "cell_type": "code",
      "source": [
        "A @ D"
      ],
      "metadata": {
        "colab": {
          "base_uri": "https://localhost:8080/"
        },
        "id": "WDkoUDOu3kHH",
        "outputId": "af645331-e784-400b-9989-90712d79c92b"
      },
      "execution_count": 84,
      "outputs": [
        {
          "output_type": "execute_result",
          "data": {
            "text/plain": [
              "array([[ 930, 1160, 1320, 1560],\n",
              "       [2010, 2510, 2910, 3450]])"
            ]
          },
          "metadata": {},
          "execution_count": 84
        }
      ]
    },
    {
      "cell_type": "code",
      "source": [
        "A.dot(D)"
      ],
      "metadata": {
        "colab": {
          "base_uri": "https://localhost:8080/"
        },
        "id": "FbtccnDt3p8X",
        "outputId": "3d0e12cd-68da-425a-d843-1110f876be0e"
      },
      "execution_count": 85,
      "outputs": [
        {
          "output_type": "execute_result",
          "data": {
            "text/plain": [
              "array([[ 930, 1160, 1320, 1560],\n",
              "       [2010, 2510, 2910, 3450]])"
            ]
          },
          "metadata": {},
          "execution_count": 85
        }
      ]
    },
    {
      "cell_type": "code",
      "source": [
        "A.dot(3)"
      ],
      "metadata": {
        "colab": {
          "base_uri": "https://localhost:8080/"
        },
        "id": "cO_yDcVA3ruH",
        "outputId": "1c3aec91-83b4-48d6-ea8f-d0df68daefb7"
      },
      "execution_count": 86,
      "outputs": [
        {
          "output_type": "execute_result",
          "data": {
            "text/plain": [
              "array([[ 30,  60,  90],\n",
              "       [120, 150, 180]])"
            ]
          },
          "metadata": {},
          "execution_count": 86
        }
      ]
    },
    {
      "cell_type": "code",
      "source": [
        "try:\n",
        "  A @ 3\n",
        "except ValueError:\n",
        "  print(\"Oops\")"
      ],
      "metadata": {
        "colab": {
          "base_uri": "https://localhost:8080/"
        },
        "id": "mCoaNnhy3yNm",
        "outputId": "e0e39faf-a6e2-4c50-a7a2-e2dbf4764f93"
      },
      "execution_count": 92,
      "outputs": [
        {
          "output_type": "stream",
          "name": "stdout",
          "text": [
            "Oops\n"
          ]
        }
      ]
    },
    {
      "cell_type": "code",
      "source": [
        "A * 3"
      ],
      "metadata": {
        "colab": {
          "base_uri": "https://localhost:8080/"
        },
        "id": "szK647QE32Tu",
        "outputId": "6e84026c-5c9f-44b5-da21-2bfcfcd6c754"
      },
      "execution_count": 88,
      "outputs": [
        {
          "output_type": "execute_result",
          "data": {
            "text/plain": [
              "array([[ 30,  60,  90],\n",
              "       [120, 150, 180]])"
            ]
          },
          "metadata": {},
          "execution_count": 88
        }
      ]
    },
    {
      "cell_type": "code",
      "source": [
        "A"
      ],
      "metadata": {
        "colab": {
          "base_uri": "https://localhost:8080/"
        },
        "id": "OPriUBnJ33RP",
        "outputId": "9a1a3c1d-fb2d-4664-cbfc-115ca0efb334"
      },
      "execution_count": 89,
      "outputs": [
        {
          "output_type": "execute_result",
          "data": {
            "text/plain": [
              "array([[10, 20, 30],\n",
              "       [40, 50, 60]])"
            ]
          },
          "metadata": {},
          "execution_count": 89
        }
      ]
    },
    {
      "cell_type": "code",
      "source": [
        "A.T"
      ],
      "metadata": {
        "colab": {
          "base_uri": "https://localhost:8080/"
        },
        "id": "8bEHQ3k44DDX",
        "outputId": "2ad6d7ac-f31c-4fce-87ff-b0f11c55a9e7"
      },
      "execution_count": 90,
      "outputs": [
        {
          "output_type": "execute_result",
          "data": {
            "text/plain": [
              "array([[10, 40],\n",
              "       [20, 50],\n",
              "       [30, 60]])"
            ]
          },
          "metadata": {},
          "execution_count": 90
        }
      ]
    },
    {
      "cell_type": "code",
      "source": [
        "A.T.T"
      ],
      "metadata": {
        "colab": {
          "base_uri": "https://localhost:8080/"
        },
        "id": "sLlSJDLk4DYg",
        "outputId": "eb08653a-2088-46d9-f848-db12853d8f9e"
      },
      "execution_count": 91,
      "outputs": [
        {
          "output_type": "execute_result",
          "data": {
            "text/plain": [
              "array([[10, 20, 30],\n",
              "       [40, 50, 60]])"
            ]
          },
          "metadata": {},
          "execution_count": 91
        }
      ]
    },
    {
      "cell_type": "code",
      "source": [
        "(A + B).T"
      ],
      "metadata": {
        "colab": {
          "base_uri": "https://localhost:8080/"
        },
        "id": "YltPF-ND4Eu_",
        "outputId": "0c96a8a2-0308-4410-e30c-9061f5789069"
      },
      "execution_count": 93,
      "outputs": [
        {
          "output_type": "execute_result",
          "data": {
            "text/plain": [
              "array([[11, 44],\n",
              "       [22, 55],\n",
              "       [33, 66]])"
            ]
          },
          "metadata": {},
          "execution_count": 93
        }
      ]
    },
    {
      "cell_type": "code",
      "source": [
        "A.T + B.T"
      ],
      "metadata": {
        "colab": {
          "base_uri": "https://localhost:8080/"
        },
        "id": "9Vhrktp84jGI",
        "outputId": "3e45cfcb-268e-4ec5-c077-3dcf0ea0f073"
      },
      "execution_count": 94,
      "outputs": [
        {
          "output_type": "execute_result",
          "data": {
            "text/plain": [
              "array([[11, 44],\n",
              "       [22, 55],\n",
              "       [33, 66]])"
            ]
          },
          "metadata": {},
          "execution_count": 94
        }
      ]
    },
    {
      "cell_type": "code",
      "source": [
        "(A.dot(D)).T"
      ],
      "metadata": {
        "colab": {
          "base_uri": "https://localhost:8080/"
        },
        "id": "vdGZ0P4A4ln3",
        "outputId": "9acd3041-9732-47f1-bff7-dbc57a28564c"
      },
      "execution_count": 95,
      "outputs": [
        {
          "output_type": "execute_result",
          "data": {
            "text/plain": [
              "array([[ 930, 2010],\n",
              "       [1160, 2510],\n",
              "       [1320, 2910],\n",
              "       [1560, 3450]])"
            ]
          },
          "metadata": {},
          "execution_count": 95
        }
      ]
    },
    {
      "cell_type": "code",
      "source": [
        "D.T.dot(A.T)"
      ],
      "metadata": {
        "colab": {
          "base_uri": "https://localhost:8080/"
        },
        "id": "hCwTymEG4oGh",
        "outputId": "8b4b9812-96fb-48c3-f9a0-59c7b423311d"
      },
      "execution_count": 96,
      "outputs": [
        {
          "output_type": "execute_result",
          "data": {
            "text/plain": [
              "array([[ 930, 2010],\n",
              "       [1160, 2510],\n",
              "       [1320, 2910],\n",
              "       [1560, 3450]])"
            ]
          },
          "metadata": {},
          "execution_count": 96
        }
      ]
    },
    {
      "cell_type": "code",
      "source": [
        "A.shape"
      ],
      "metadata": {
        "colab": {
          "base_uri": "https://localhost:8080/"
        },
        "id": "RBLGyRZi4pO4",
        "outputId": "f1da0363-0198-4b4e-e848-13ed8a241c24"
      },
      "execution_count": 97,
      "outputs": [
        {
          "output_type": "execute_result",
          "data": {
            "text/plain": [
              "(2, 3)"
            ]
          },
          "metadata": {},
          "execution_count": 97
        }
      ]
    },
    {
      "cell_type": "code",
      "source": [
        "D.shape"
      ],
      "metadata": {
        "colab": {
          "base_uri": "https://localhost:8080/"
        },
        "id": "ygN3VOqk4qHX",
        "outputId": "13c22a55-6f62-40b5-e284-0fb7151c33a4"
      },
      "execution_count": 98,
      "outputs": [
        {
          "output_type": "execute_result",
          "data": {
            "text/plain": [
              "(3, 4)"
            ]
          },
          "metadata": {},
          "execution_count": 98
        }
      ]
    },
    {
      "cell_type": "code",
      "source": [
        "DdotT = D.dot(D.T)\n",
        "DdotT"
      ],
      "metadata": {
        "colab": {
          "base_uri": "https://localhost:8080/"
        },
        "id": "ufLG5Uxo4qxQ",
        "outputId": "8a807062-a20b-47dc-c4bb-4d9d032beeab"
      },
      "execution_count": 99,
      "outputs": [
        {
          "output_type": "execute_result",
          "data": {
            "text/plain": [
              "array([[  87,  279,  547],\n",
              "       [ 279,  940, 1860],\n",
              "       [ 547, 1860, 3700]])"
            ]
          },
          "metadata": {},
          "execution_count": 99
        }
      ]
    },
    {
      "cell_type": "code",
      "source": [
        "DdotT.shape"
      ],
      "metadata": {
        "colab": {
          "base_uri": "https://localhost:8080/"
        },
        "id": "g3KtpvoF46bH",
        "outputId": "e20e22e2-1783-4182-fcd0-5ce5fa0aede9"
      },
      "execution_count": 100,
      "outputs": [
        {
          "output_type": "execute_result",
          "data": {
            "text/plain": [
              "(3, 3)"
            ]
          },
          "metadata": {},
          "execution_count": 100
        }
      ]
    },
    {
      "cell_type": "code",
      "source": [
        "u"
      ],
      "metadata": {
        "colab": {
          "base_uri": "https://localhost:8080/"
        },
        "id": "Rtdw2t7dUQfg",
        "outputId": "f04e5cfb-eb42-4308-a167-1acbf7b72308"
      },
      "execution_count": 101,
      "outputs": [
        {
          "output_type": "execute_result",
          "data": {
            "text/plain": [
              "array([2, 5])"
            ]
          },
          "metadata": {},
          "execution_count": 101
        }
      ]
    },
    {
      "cell_type": "code",
      "source": [
        "u.T"
      ],
      "metadata": {
        "colab": {
          "base_uri": "https://localhost:8080/"
        },
        "id": "7byz6S0OW0C4",
        "outputId": "dba19614-0faf-4cba-8f50-1eee93bea9e5"
      },
      "execution_count": 102,
      "outputs": [
        {
          "output_type": "execute_result",
          "data": {
            "text/plain": [
              "array([2, 5])"
            ]
          },
          "metadata": {},
          "execution_count": 102
        }
      ]
    },
    {
      "cell_type": "code",
      "source": [
        "u_row = np.array([u])\n",
        "u_row"
      ],
      "metadata": {
        "colab": {
          "base_uri": "https://localhost:8080/"
        },
        "id": "qeuJ136kW1HP",
        "outputId": "cc1bc68f-51fd-44e1-ab40-eea65096f1db"
      },
      "execution_count": 103,
      "outputs": [
        {
          "output_type": "execute_result",
          "data": {
            "text/plain": [
              "array([[2, 5]])"
            ]
          },
          "metadata": {},
          "execution_count": 103
        }
      ]
    },
    {
      "cell_type": "code",
      "source": [
        "u[np.newaxis, :]"
      ],
      "metadata": {
        "colab": {
          "base_uri": "https://localhost:8080/"
        },
        "id": "tjZ2vvPgW3-v",
        "outputId": "ac63d84d-e6f1-4159-e49b-9e4d647ef0ce"
      },
      "execution_count": 104,
      "outputs": [
        {
          "output_type": "execute_result",
          "data": {
            "text/plain": [
              "array([[2, 5]])"
            ]
          },
          "metadata": {},
          "execution_count": 104
        }
      ]
    },
    {
      "cell_type": "code",
      "source": [
        "u[None]"
      ],
      "metadata": {
        "colab": {
          "base_uri": "https://localhost:8080/"
        },
        "id": "FMzEeM6cW-Xw",
        "outputId": "7f030c95-a517-461f-f87f-33a14f77f475"
      },
      "execution_count": 105,
      "outputs": [
        {
          "output_type": "execute_result",
          "data": {
            "text/plain": [
              "array([[2, 5]])"
            ]
          },
          "metadata": {},
          "execution_count": 105
        }
      ]
    },
    {
      "cell_type": "code",
      "source": [
        "u_row.T"
      ],
      "metadata": {
        "colab": {
          "base_uri": "https://localhost:8080/"
        },
        "id": "aK_VlcZkXAeL",
        "outputId": "54bc1582-7043-4002-81b5-0b65c986dc8a"
      },
      "execution_count": 107,
      "outputs": [
        {
          "output_type": "execute_result",
          "data": {
            "text/plain": [
              "array([[2],\n",
              "       [5]])"
            ]
          },
          "metadata": {},
          "execution_count": 107
        }
      ]
    },
    {
      "cell_type": "code",
      "source": [
        "u[:, np.newaxis]"
      ],
      "metadata": {
        "colab": {
          "base_uri": "https://localhost:8080/"
        },
        "id": "Np66TWHqXBzH",
        "outputId": "4ea78b70-4226-4cfd-eb49-c8a1c18c2c5e"
      },
      "execution_count": 108,
      "outputs": [
        {
          "output_type": "execute_result",
          "data": {
            "text/plain": [
              "array([[2],\n",
              "       [5]])"
            ]
          },
          "metadata": {},
          "execution_count": 108
        }
      ]
    },
    {
      "cell_type": "code",
      "source": [
        "P = np.array([\n",
        "    [3., 4., 1., 4.6],\n",
        "    [.2, 3.5, 2., .5]  \n",
        "])\n",
        "x_coords_P, y_coords_P = P\n",
        "plt.scatter(x_coords_P, y_coords_P)\n",
        "plt.axis([0, 5, 0, 4])\n",
        "plt.show()"
      ],
      "metadata": {
        "colab": {
          "base_uri": "https://localhost:8080/",
          "height": 269
        },
        "id": "VMXqQsVHXVwm",
        "outputId": "73aab6ca-96e5-4d50-a6da-ce7d8ada2ee9"
      },
      "execution_count": 109,
      "outputs": [
        {
          "output_type": "display_data",
          "data": {
            "text/plain": [
              "<Figure size 432x288 with 1 Axes>"
            ],
            "image/png": "[encoded data removed]"
          },
          "metadata": {
            "needs_background": "light"
          }
        }
      ]
    },
    {
      "cell_type": "code",
      "source": [
        "plt.plot(x_coords_P, y_coords_P, \"bo\")\n",
        "plt.plot(x_coords_P, y_coords_P, \"b--\")\n",
        "plt.axis([0, 5, 0, 4])\n",
        "plt.grid()\n",
        "plt.show()"
      ],
      "metadata": {
        "colab": {
          "base_uri": "https://localhost:8080/",
          "height": 269
        },
        "id": "pgWQ4RdbX5-g",
        "outputId": "41505db4-2511-4751-cbbc-40ad040d4e7a"
      },
      "execution_count": 110,
      "outputs": [
        {
          "output_type": "display_data",
          "data": {
            "text/plain": [
              "<Figure size 432x288 with 1 Axes>"
            ],
            "image/png": "[encoded data removed]"
          },
          "metadata": {
            "needs_background": "light"
          }
        }
      ]
    },
    {
      "cell_type": "code",
      "source": [
        "from matplotlib.patches import Polygon\n",
        "plt.gca().add_artist(Polygon(P.T))\n",
        "plt.axis([0, 5, 0, 4])\n",
        "plt.grid()\n",
        "plt.show()"
      ],
      "metadata": {
        "colab": {
          "base_uri": "https://localhost:8080/",
          "height": 269
        },
        "id": "iGGr4NZLYLge",
        "outputId": "7ac61f85-1318-43b6-cd35-87bd0806ffdd"
      },
      "execution_count": 111,
      "outputs": [
        {
          "output_type": "display_data",
          "data": {
            "text/plain": [
              "<Figure size 432x288 with 1 Axes>"
            ],
            "image/png": "[encoded data removed]"
          },
          "metadata": {
            "needs_background": "light"
          }
        }
      ]
    },
    {
      "cell_type": "code",
      "source": [
        "H = np.array([\n",
        "    [.5, -.2, .2, -.1],\n",
        "    [.4, .4, 1.5, .6]\n",
        "])\n",
        "P_moved = P + H\n",
        "\n",
        "plt.gca().add_artist(Polygon(P.T, alpha=0.2))\n",
        "plt.gca().add_artist(Polygon(P_moved.T, alpha=0.3, color='r'))\n",
        "\n",
        "for vector, origin in zip(H.T, P.T):\n",
        "  plot_vector2d(vector, origin=origin)\n",
        "\n",
        "plt.text(2.2, 1.8, \"$P$\", color=\"b\", fontsize=18)\n",
        "plt.text(2.0, 3.2, \"$P+H$\", color='r', fontsize=18)\n",
        "plt.text(2.5, 0.5, \"$H_{*,1}$\", color='k', fontsize=18)\n",
        "plt.text(4.1, 3.5, \"$H_{*,2}$\", color='k', fontsize=18)\n",
        "plt.text(0.4, 2.6, \"$H_{*,3}$\", color='k', fontsize=18)\n",
        "plt.text(4.4, 0.2, \"$H_{*,4}$\", color='k', fontsize=18)\n",
        "\n",
        "plt.axis([0, 5, 0, 4])\n",
        "plt.grid()\n",
        "plt.show()"
      ],
      "metadata": {
        "colab": {
          "base_uri": "https://localhost:8080/",
          "height": 269
        },
        "id": "pPcT0MzMYuDv",
        "outputId": "d3c3f9c9-5f7f-41f3-8a2f-98597e84b256"
      },
      "execution_count": 112,
      "outputs": [
        {
          "output_type": "display_data",
          "data": {
            "text/plain": [
              "<Figure size 432x288 with 1 Axes>"
            ],
            "image/png": "[encoded data removed]"
          },
          "metadata": {
            "needs_background": "light"
          }
        }
      ]
    },
    {
      "cell_type": "code",
      "source": [
        "H2 = np.array([\n",
        "    [-.5, -.5, -.5, -.5],\n",
        "    [.4, .4, .4, .4]\n",
        "])\n",
        "P_translated = P + H2\n",
        "\n",
        "plt.gca().add_artist(Polygon(P.T, alpha=0.2))\n",
        "plt.gca().add_artist(Polygon(P_translated.T, alpha=0.3, color='r'))\n",
        "\n",
        "for vector, origin in zip(H2.T, P.T):\n",
        "  plot_vector2d(vector, origin=origin)\n",
        "\n",
        "plt.axis([0, 5, 0, 4])\n",
        "plt.grid()\n",
        "plt.show()"
      ],
      "metadata": {
        "colab": {
          "base_uri": "https://localhost:8080/",
          "height": 269
        },
        "id": "b_EhFRMObbfu",
        "outputId": "38a6991c-a54b-4369-a0e5-e8a2d2f4b47c"
      },
      "execution_count": 113,
      "outputs": [
        {
          "output_type": "display_data",
          "data": {
            "text/plain": [
              "<Figure size 432x288 with 1 Axes>"
            ],
            "image/png": "[encoded data removed]"
          },
          "metadata": {
            "needs_background": "light"
          }
        }
      ]
    },
    {
      "cell_type": "code",
      "source": [
        "P"
      ],
      "metadata": {
        "colab": {
          "base_uri": "https://localhost:8080/"
        },
        "id": "DW0SAfyjcFHW",
        "outputId": "1cb1f01d-1b40-4f99-8209-98b0bade9a16"
      },
      "execution_count": 114,
      "outputs": [
        {
          "output_type": "execute_result",
          "data": {
            "text/plain": [
              "array([[3. , 4. , 1. , 4.6],\n",
              "       [0.2, 3.5, 2. , 0.5]])"
            ]
          },
          "metadata": {},
          "execution_count": 114
        }
      ]
    },
    {
      "cell_type": "code",
      "source": [
        "P + [\n",
        "  [-.5],\n",
        "  [.4]\n",
        "]"
      ],
      "metadata": {
        "colab": {
          "base_uri": "https://localhost:8080/"
        },
        "id": "2wZyepU1cLm9",
        "outputId": "040db240-7a04-46eb-87e7-3849a171f029"
      },
      "execution_count": 116,
      "outputs": [
        {
          "output_type": "execute_result",
          "data": {
            "text/plain": [
              "array([[2.5, 3.5, 0.5, 4.1],\n",
              "       [0.6, 3.9, 2.4, 0.9]])"
            ]
          },
          "metadata": {},
          "execution_count": 116
        }
      ]
    },
    {
      "cell_type": "code",
      "source": [
        "def plot_transformation(P_before, P_after, text_before, text_after, axis=[0,5,0,4], arrows=False):\n",
        "  if arrows:\n",
        "    for vector_before, vector_after in zip(P_before.T, P_after.T):\n",
        "      plot_vector2d(vector_before, color='blue', linestyle='--')\n",
        "      plot_vector2d(vector_after, color='red', linestyle='-')\n",
        "  plt.gca().add_artist(Polygon(P_before.T, alpha=0.2))\n",
        "  plt.gca().add_artist(Polygon(P_after.T, alpha=0.3, color='r'))\n",
        "  plt.text(P_before[0].mean(), P_before[1].mean(), text_before, fontsize=18, color='blue')\n",
        "  plt.text(P_after[0].mean(), P_after[1].mean(), text_after, fontsize=18, color='red')\n",
        "  plt.axis(axis)\n",
        "  plt.grid()\n",
        "\n",
        "P_rescaled = .6 * P\n",
        "plot_transformation(P, P_rescaled, \"$P$\", \"$0.6 P$\", arrows=True)\n",
        "plt.show()"
      ],
      "metadata": {
        "colab": {
          "base_uri": "https://localhost:8080/",
          "height": 269
        },
        "id": "J2OWqAiocNhu",
        "outputId": "d033d5cd-85e7-4e27-f041-b58cb069f71a"
      },
      "execution_count": 117,
      "outputs": [
        {
          "output_type": "display_data",
          "data": {
            "text/plain": [
              "<Figure size 432x288 with 1 Axes>"
            ],
            "image/png": "[encoded data removed]"
          },
          "metadata": {
            "needs_background": "light"
          }
        }
      ]
    },
    {
      "cell_type": "code",
      "source": [
        ""
      ],
      "metadata": {
        "id": "NONBBezbkMWD"
      },
      "execution_count": null,
      "outputs": []
    }
  ]
}