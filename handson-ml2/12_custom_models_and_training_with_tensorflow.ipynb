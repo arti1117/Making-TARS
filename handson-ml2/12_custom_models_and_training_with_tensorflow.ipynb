{
  "nbformat": 4,
  "nbformat_minor": 0,
  "metadata": {
    "colab": {
      "name": "12_custom_models_and_training_with_tensorflow.ipynb",
      "provenance": [],
      "authorship_tag": "ABX9TyOghRE6jMLuw/SdWioFjVsd"
    },
    "kernelspec": {
      "name": "python3",
      "display_name": "Python 3"
    },
    "language_info": {
      "name": "python"
    }
  },
  "cells": [
    {
      "cell_type": "code",
      "execution_count": null,
      "metadata": {
        "id": "B1uCMcJTuABl"
      },
      "outputs": [],
      "source": [
        ""
      ]
    }
  ]
}