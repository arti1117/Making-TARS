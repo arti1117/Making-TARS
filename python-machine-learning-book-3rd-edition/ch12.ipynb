{
  "nbformat": 4,
  "nbformat_minor": 0,
  "metadata": {
    "colab": {
      "provenance": [],
      "authorship_tag": "ABX9TyN0tmDBjX9L/WHhmKrpcV3O"
    },
    "kernelspec": {
      "name": "python3",
      "display_name": "Python 3"
    },
    "language_info": {
      "name": "python"
    }
  },
  "cells": [
    {
      "cell_type": "code",
      "execution_count": 1,
      "metadata": {
        "id": "AwU76zX8IVPg"
      },
      "outputs": [],
      "source": [
        "from IPython.display import Image"
      ]
    },
    {
      "cell_type": "code",
      "source": [
        "Image(url='https://git.io/JLdrS', width=600) "
      ],
      "metadata": {
        "colab": {
          "base_uri": "https://localhost:8080/",
          "height": 302
        },
        "id": "W8SS_Ug6IZ4h",
        "outputId": "f32d7f89-75ce-42c7-c7a4-56da02e20a49"
      },
      "execution_count": 2,
      "outputs": [
        {
          "output_type": "execute_result",
          "data": {
            "text/html": [
              "<img src=\"https://git.io/JLdrS\" width=\"600\"/>"
            ],
            "text/plain": [
              "<IPython.core.display.Image object>"
            ]
          },
          "metadata": {},
          "execution_count": 2
        }
      ]
    },
    {
      "cell_type": "code",
      "source": [
        "Image(url='https://git.io/JLdrx', width=600)"
      ],
      "metadata": {
        "colab": {
          "base_uri": "https://localhost:8080/",
          "height": 366
        },
        "id": "uNbyJRNDIfUZ",
        "outputId": "9a15b103-4333-4e93-a040-4dc19dd02a4e"
      },
      "execution_count": 3,
      "outputs": [
        {
          "output_type": "execute_result",
          "data": {
            "text/html": [
              "<img src=\"https://git.io/JLdrx\" width=\"600\"/>"
            ],
            "text/plain": [
              "<IPython.core.display.Image object>"
            ]
          },
          "metadata": {},
          "execution_count": 3
        }
      ]
    },
    {
      "cell_type": "code",
      "source": [
        "Image(url='https://git.io/JLdrp', width=500) "
      ],
      "metadata": {
        "colab": {
          "base_uri": "https://localhost:8080/",
          "height": 364
        },
        "id": "kPqnrMiVIgaR",
        "outputId": "71157b1b-d00c-4654-c65e-de6cbadee328"
      },
      "execution_count": 4,
      "outputs": [
        {
          "output_type": "execute_result",
          "data": {
            "text/html": [
              "<img src=\"https://git.io/JLdrp\" width=\"500\"/>"
            ],
            "text/plain": [
              "<IPython.core.display.Image object>"
            ]
          },
          "metadata": {},
          "execution_count": 4
        }
      ]
    },
    {
      "cell_type": "code",
      "source": [
        "Image(url='https://git.io/JLdoe', width=500) "
      ],
      "metadata": {
        "colab": {
          "base_uri": "https://localhost:8080/",
          "height": 354
        },
        "id": "INpVgCHhIwF0",
        "outputId": "6fd13309-19c7-496e-aed5-5bc598557c37"
      },
      "execution_count": 5,
      "outputs": [
        {
          "output_type": "execute_result",
          "data": {
            "text/html": [
              "<img src=\"https://git.io/JLdoe\" width=\"500\"/>"
            ],
            "text/plain": [
              "<IPython.core.display.Image object>"
            ]
          },
          "metadata": {},
          "execution_count": 5
        }
      ]
    },
    {
      "cell_type": "code",
      "source": [
        "\"\"\"\n",
        "from sklearn.datasets import fetch_openml\n",
        "from sklearn.model_selection import train_test_split\n",
        "\n",
        "\n",
        "X, y = fetch_openml('mnist_784', version=1, return_X_y=True)\n",
        "y = y.astype(int)\n",
        "X = ((X / 255.) - .5) * 2\n",
        "X_train, X_test, y_train, y_test = train_test_split(\n",
        "    X, y, test_size=10000, random_state=123, stratify=y)\n",
        "\"\"\""
      ],
      "metadata": {
        "colab": {
          "base_uri": "https://localhost:8080/",
          "height": 72
        },
        "id": "VN3LUWiCI_Zu",
        "outputId": "5960843a-154b-4440-b19b-574954110392"
      },
      "execution_count": 6,
      "outputs": [
        {
          "output_type": "execute_result",
          "data": {
            "text/plain": [
              "\"\\nfrom sklearn.datasets import fetch_openml\\nfrom sklearn.model_selection import train_test_split\\n\\n\\nX, y = fetch_openml('mnist_784', version=1, return_X_y=True)\\ny = y.astype(int)\\nX = ((X / 255.) - .5) * 2\\nX_train, X_test, y_train, y_test = train_test_split(\\n    X, y, test_size=10000, random_state=123, stratify=y)\\n\""
            ],
            "application/vnd.google.colaboratory.intrinsic+json": {
              "type": "string"
            }
          },
          "metadata": {},
          "execution_count": 6
        }
      ]
    },
    {
      "cell_type": "code",
      "source": [
        "# 코랩을 사용할 때는 다음 코드를 실행하세요.\n",
        "!wget https://github.com/rickiepark/python-machine-learning-book-3rd-edition/raw/master/ch12/train-images-idx3-ubyte.gz\n",
        "!wget https://github.com/rickiepark/python-machine-learning-book-3rd-edition/raw/master/ch12/train-labels-idx1-ubyte.gz\n",
        "!wget https://github.com/rickiepark/python-machine-learning-book-3rd-edition/raw/master/ch12/t10k-images-idx3-ubyte.gz\n",
        "!wget https://github.com/rickiepark/python-machine-learning-book-3rd-edition/raw/master/ch12/t10k-labels-idx1-ubyte.gz"
      ],
      "metadata": {
        "colab": {
          "base_uri": "https://localhost:8080/"
        },
        "id": "iCOOCTcuJCZP",
        "outputId": "9094c449-8b6c-425c-d1fa-60a4cc0f5f27"
      },
      "execution_count": 7,
      "outputs": [
        {
          "output_type": "stream",
          "name": "stdout",
          "text": [
            "--2023-02-13 23:37:57--  https://github.com/rickiepark/python-machine-learning-book-3rd-edition/raw/master/ch12/train-images-idx3-ubyte.gz\n",
            "Resolving github.com (github.com)... 140.82.112.4\n",
            "Connecting to github.com (github.com)|140.82.112.4|:443... connected.\n",
            "HTTP request sent, awaiting response... 302 Found\n",
            "Location: https://raw.githubusercontent.com/rickiepark/python-machine-learning-book-3rd-edition/master/ch12/train-images-idx3-ubyte.gz [following]\n",
            "--2023-02-13 23:37:57--  https://raw.githubusercontent.com/rickiepark/python-machine-learning-book-3rd-edition/master/ch12/train-images-idx3-ubyte.gz\n",
            "Resolving raw.githubusercontent.com (raw.githubusercontent.com)... 185.199.110.133, 185.199.111.133, 185.199.109.133, ...\n",
            "Connecting to raw.githubusercontent.com (raw.githubusercontent.com)|185.199.110.133|:443... connected.\n",
            "HTTP request sent, awaiting response... 200 OK\n",
            "Length: 9912422 (9.5M) [application/octet-stream]\n",
            "Saving to: ‘train-images-idx3-ubyte.gz’\n",
            "\n",
            "train-images-idx3-u 100%[===================>]   9.45M  --.-KB/s    in 0.09s   \n",
            "\n",
            "2023-02-13 23:37:57 (104 MB/s) - ‘train-images-idx3-ubyte.gz’ saved [9912422/9912422]\n",
            "\n",
            "--2023-02-13 23:37:58--  https://github.com/rickiepark/python-machine-learning-book-3rd-edition/raw/master/ch12/train-labels-idx1-ubyte.gz\n",
            "Resolving github.com (github.com)... 140.82.112.4\n",
            "Connecting to github.com (github.com)|140.82.112.4|:443... connected.\n",
            "HTTP request sent, awaiting response... 302 Found\n",
            "Location: https://raw.githubusercontent.com/rickiepark/python-machine-learning-book-3rd-edition/master/ch12/train-labels-idx1-ubyte.gz [following]\n",
            "--2023-02-13 23:37:58--  https://raw.githubusercontent.com/rickiepark/python-machine-learning-book-3rd-edition/master/ch12/train-labels-idx1-ubyte.gz\n",
            "Resolving raw.githubusercontent.com (raw.githubusercontent.com)... 185.199.108.133, 185.199.109.133, 185.199.110.133, ...\n",
            "Connecting to raw.githubusercontent.com (raw.githubusercontent.com)|185.199.108.133|:443... connected.\n",
            "HTTP request sent, awaiting response... 200 OK\n",
            "Length: 28881 (28K) [application/octet-stream]\n",
            "Saving to: ‘train-labels-idx1-ubyte.gz’\n",
            "\n",
            "train-labels-idx1-u 100%[===================>]  28.20K  --.-KB/s    in 0.002s  \n",
            "\n",
            "2023-02-13 23:37:58 (13.8 MB/s) - ‘train-labels-idx1-ubyte.gz’ saved [28881/28881]\n",
            "\n",
            "--2023-02-13 23:37:58--  https://github.com/rickiepark/python-machine-learning-book-3rd-edition/raw/master/ch12/t10k-images-idx3-ubyte.gz\n",
            "Resolving github.com (github.com)... 140.82.112.4\n",
            "Connecting to github.com (github.com)|140.82.112.4|:443... connected.\n",
            "HTTP request sent, awaiting response... 302 Found\n",
            "Location: https://raw.githubusercontent.com/rickiepark/python-machine-learning-book-3rd-edition/master/ch12/t10k-images-idx3-ubyte.gz [following]\n",
            "--2023-02-13 23:37:58--  https://raw.githubusercontent.com/rickiepark/python-machine-learning-book-3rd-edition/master/ch12/t10k-images-idx3-ubyte.gz\n",
            "Resolving raw.githubusercontent.com (raw.githubusercontent.com)... 185.199.110.133, 185.199.111.133, 185.199.108.133, ...\n",
            "Connecting to raw.githubusercontent.com (raw.githubusercontent.com)|185.199.110.133|:443... connected.\n",
            "HTTP request sent, awaiting response... 200 OK\n",
            "Length: 1648877 (1.6M) [application/octet-stream]\n",
            "Saving to: ‘t10k-images-idx3-ubyte.gz’\n",
            "\n",
            "t10k-images-idx3-ub 100%[===================>]   1.57M  --.-KB/s    in 0.06s   \n",
            "\n",
            "2023-02-13 23:37:58 (28.1 MB/s) - ‘t10k-images-idx3-ubyte.gz’ saved [1648877/1648877]\n",
            "\n",
            "--2023-02-13 23:37:58--  https://github.com/rickiepark/python-machine-learning-book-3rd-edition/raw/master/ch12/t10k-labels-idx1-ubyte.gz\n",
            "Resolving github.com (github.com)... 140.82.112.4\n",
            "Connecting to github.com (github.com)|140.82.112.4|:443... connected.\n",
            "HTTP request sent, awaiting response... 302 Found\n",
            "Location: https://raw.githubusercontent.com/rickiepark/python-machine-learning-book-3rd-edition/master/ch12/t10k-labels-idx1-ubyte.gz [following]\n",
            "--2023-02-13 23:37:59--  https://raw.githubusercontent.com/rickiepark/python-machine-learning-book-3rd-edition/master/ch12/t10k-labels-idx1-ubyte.gz\n",
            "Resolving raw.githubusercontent.com (raw.githubusercontent.com)... 185.199.108.133, 185.199.109.133, 185.199.110.133, ...\n",
            "Connecting to raw.githubusercontent.com (raw.githubusercontent.com)|185.199.108.133|:443... connected.\n",
            "HTTP request sent, awaiting response... 200 OK\n",
            "Length: 4542 (4.4K) [application/octet-stream]\n",
            "Saving to: ‘t10k-labels-idx1-ubyte.gz’\n",
            "\n",
            "t10k-labels-idx1-ub 100%[===================>]   4.44K  --.-KB/s    in 0s      \n",
            "\n",
            "2023-02-13 23:37:59 (36.1 MB/s) - ‘t10k-labels-idx1-ubyte.gz’ saved [4542/4542]\n",
            "\n"
          ]
        }
      ]
    },
    {
      "cell_type": "code",
      "source": [
        "# MNIST 데이터 압축을 푸는 코드\n",
        "\n",
        "import sys\n",
        "import gzip\n",
        "import shutil\n",
        "import os\n",
        "\n",
        "if (sys.version_info > (3, 0)):\n",
        "  writemode = 'wb'\n",
        "else:\n",
        "  writemode = 'w'\n",
        "\n",
        "zipped_mnist = [f for f in os.listdir() if f.endswith('ubyte.gz')]\n",
        "for z in zipped_mnist:\n",
        "  with gzip.GzipFile(z, mode='rb') as decompressed, open(z[:-3], writemode) as outfile:\n",
        "    outfile.write(decompressed.read())"
      ],
      "metadata": {
        "id": "_Ac2DPtFJGrv"
      },
      "execution_count": 8,
      "outputs": []
    },
    {
      "cell_type": "code",
      "source": [
        "import os\n",
        "import struct\n",
        "import numpy as np\n",
        "\n",
        "def load_mnist(path, kind='train'):\n",
        "  \"\"\"'path'에서 MNIST 데이터 불러오기\"\"\"\n",
        "  labels_path = os.path.join(path,\n",
        "                             f'{kind}-labels-idx1-ubyte')\n",
        "  images_path = os.path.join(path,\n",
        "                             f'{kind}-images-idx3-ubyte')\n",
        "  \n",
        "  with open(labels_path, 'rb') as lbpath:\n",
        "    magic, n = struct.unpack('>II', lbpath.read(8))\n",
        "    labels = np.fromfile(lbpath,\n",
        "                         dtype=np.uint8)\n",
        "    \n",
        "  with open(images_path, 'rb') as imgpath:\n",
        "    magic, num, rows, cols = struct.unpack('>IIII',\n",
        "                                           imgpath.read(16))\n",
        "    images = np.fromfile(imgpath,\n",
        "                         dtype=np.uint8).reshape(len(labels), 784)\n",
        "    images = ((images / 255.) - .5) * 2\n",
        "\n",
        "  return images, labels                         "
      ],
      "metadata": {
        "id": "Pozgr2xhJhTr"
      },
      "execution_count": 9,
      "outputs": []
    },
    {
      "cell_type": "code",
      "source": [
        "!ls"
      ],
      "metadata": {
        "colab": {
          "base_uri": "https://localhost:8080/"
        },
        "id": "a3sXJh2gKqB_",
        "outputId": "0a1d310f-ec7d-41f3-9b65-95e0be76f8b3"
      },
      "execution_count": 10,
      "outputs": [
        {
          "output_type": "stream",
          "name": "stdout",
          "text": [
            "sample_data\t\t   train-images-idx3-ubyte\n",
            "t10k-images-idx3-ubyte\t   train-images-idx3-ubyte.gz\n",
            "t10k-images-idx3-ubyte.gz  train-labels-idx1-ubyte\n",
            "t10k-labels-idx1-ubyte\t   train-labels-idx1-ubyte.gz\n",
            "t10k-labels-idx1-ubyte.gz\n"
          ]
        }
      ]
    },
    {
      "cell_type": "code",
      "source": [
        "X_train, y_train = load_mnist('', kind='train')\n",
        "print(f'Rows: {X_train.shape[0]:d}, Columns: {X_train.shape[1]:d}')"
      ],
      "metadata": {
        "colab": {
          "base_uri": "https://localhost:8080/"
        },
        "id": "1lqdjREYKqmn",
        "outputId": "b56cf0bc-e894-4621-ea38-8e508c3e5ec3"
      },
      "execution_count": 11,
      "outputs": [
        {
          "output_type": "stream",
          "name": "stdout",
          "text": [
            "Rows: 60000, Columns: 784\n"
          ]
        }
      ]
    },
    {
      "cell_type": "code",
      "source": [
        "X_test, y_test = load_mnist('', kind='t10k')\n",
        "print(f'Rows: {X_test.shape[0]:d}, Columns: {X_test.shape[1]:d}')"
      ],
      "metadata": {
        "colab": {
          "base_uri": "https://localhost:8080/"
        },
        "id": "sBuxd6OAK3mo",
        "outputId": "398d6aca-415a-4145-e5d2-c4ab5b2f70e7"
      },
      "execution_count": 12,
      "outputs": [
        {
          "output_type": "stream",
          "name": "stdout",
          "text": [
            "Rows: 10000, Columns: 784\n"
          ]
        }
      ]
    },
    {
      "cell_type": "code",
      "source": [
        "import matplotlib.pyplot as plt\n",
        "\n",
        "fig, ax = plt.subplots(nrows=2, ncols=5, sharex=True, sharey=True)\n",
        "ax = ax.flatten()\n",
        "for i in range(10):\n",
        "  img = X_train[y_train == i][0].reshape(28, 28)\n",
        "  ax[i].imshow(img, cmap='Greys')\n",
        "\n",
        "ax[0].set_xticks([])\n",
        "ax[0].set_yticks([])\n",
        "plt.tight_layout()\n",
        "plt.show()"
      ],
      "metadata": {
        "colab": {
          "base_uri": "https://localhost:8080/",
          "height": 224
        },
        "id": "mb14wIvFLCLT",
        "outputId": "1f3f9f40-1341-4b21-cfac-641ca423322f"
      },
      "execution_count": 13,
      "outputs": [
        {
          "output_type": "display_data",
          "data": {
            "text/plain": [
              "<Figure size 432x288 with 10 Axes>"
            ],
            "image/png": "[encoded data removed]"
          },
          "metadata": {}
        }
      ]
    },
    {
      "cell_type": "code",
      "source": [
        "fig, ax = plt.subplots(nrows=5, ncols=5, sharex=True, sharey=True)\n",
        "ax = ax.flatten()\n",
        "for i in range(25):\n",
        "  img = X_train[y_train == 9][i].reshape(28, 28)\n",
        "  ax[i].imshow(img, cmap='Reds')\n",
        "\n",
        "ax[0].set_xticks([])\n",
        "ax[0].set_yticks([])\n",
        "plt.tight_layout()\n",
        "plt.show()"
      ],
      "metadata": {
        "colab": {
          "base_uri": "https://localhost:8080/",
          "height": 297
        },
        "id": "QBUCb0KOLcYH",
        "outputId": "52ef6fb7-0fea-4469-e02e-99aa1ad7dbab"
      },
      "execution_count": 14,
      "outputs": [
        {
          "output_type": "display_data",
          "data": {
            "text/plain": [
              "<Figure size 432x288 with 25 Axes>"
            ],
            "image/png": "[encoded data removed]"
          },
          "metadata": {}
        }
      ]
    },
    {
      "cell_type": "code",
      "source": [
        "import numpy as np\n",
        "\n",
        "np.savez_compressed('mnist_scaled.npz',\n",
        "                    X_train=X_train,\n",
        "                    y_train=y_train,\n",
        "                    X_test=X_test,\n",
        "                    y_test=y_test)"
      ],
      "metadata": {
        "id": "dRpU9cJSLxBJ"
      },
      "execution_count": 15,
      "outputs": []
    },
    {
      "cell_type": "code",
      "source": [
        "mnist = np.load('mnist_scaled.npz')\n",
        "mnist.files"
      ],
      "metadata": {
        "colab": {
          "base_uri": "https://localhost:8080/"
        },
        "id": "f9WNhHNgMEek",
        "outputId": "16c9eedf-0717-4b9a-a453-210151e12b87"
      },
      "execution_count": 16,
      "outputs": [
        {
          "output_type": "execute_result",
          "data": {
            "text/plain": [
              "['X_train', 'y_train', 'X_test', 'y_test']"
            ]
          },
          "metadata": {},
          "execution_count": 16
        }
      ]
    },
    {
      "cell_type": "code",
      "source": [
        "X_train, y_train, X_test, y_test = [mnist[f] for f in ['X_train', 'y_train', 'X_test', 'y_test']]"
      ],
      "metadata": {
        "id": "ceG6okGyMILU"
      },
      "execution_count": 17,
      "outputs": []
    },
    {
      "cell_type": "code",
      "source": [
        "del mnist"
      ],
      "metadata": {
        "id": "9GUdZsWIMR4P"
      },
      "execution_count": 18,
      "outputs": []
    },
    {
      "cell_type": "code",
      "source": [
        "X_train.shape"
      ],
      "metadata": {
        "colab": {
          "base_uri": "https://localhost:8080/"
        },
        "id": "qMf1RMLtMSbl",
        "outputId": "5898311d-5ba0-4991-bb6d-da4d8492cc3d"
      },
      "execution_count": 19,
      "outputs": [
        {
          "output_type": "execute_result",
          "data": {
            "text/plain": [
              "(60000, 784)"
            ]
          },
          "metadata": {},
          "execution_count": 19
        }
      ]
    },
    {
      "cell_type": "code",
      "source": [
        "import numpy as np\n",
        "import sys"
      ],
      "metadata": {
        "id": "k0Ub6Px3MTXd"
      },
      "execution_count": 20,
      "outputs": []
    },
    {
      "cell_type": "code",
      "source": [
        "class NeuralNetMLP(object):\n",
        "  \"\"\"피드포워드 신경망 / 다층 퍼셉트론 분류기\n",
        "  \n",
        "  매개변수\n",
        "  __________\n",
        "  n_hidden : int (기본값: 30)\n",
        "    은닉 유닛 갯수\n",
        "  l2 : float (기본값: 0.)\n",
        "    L2 규제의 람다 값\n",
        "    l2 = 0이면 규제 없음. (기본값)\n",
        "  epochs : int (기본값: 100)\n",
        "    훈련 세트를 반복할 횟수\n",
        "  eta : float (기본값: 0.001)\n",
        "    학습률\n",
        "  shuffle : bool (기본값: True)\n",
        "    에포크마다 훈련 세트를 섞을지 여부\n",
        "    True이면 데이터를 섞어 순서를 바꿉니다\n",
        "  minibatch_size : int (기본값: 1)\n",
        "    미니 배치의 훈련 샘플 갯수\n",
        "  seed : int (기본값: None)\n",
        "    가중치와 데이터 셔플링을 위한 난수 초깃값\n",
        "\n",
        "  속성\n",
        "  __________\n",
        "  eval_ : dict\n",
        "    훈련 에포크마다 비용, 훈련 정확도, 검증 정확도를 수집하기 위한 딕셔너리\n",
        "\n",
        "  \"\"\"\n",
        "  def __init__(self, n_hidden=30,\n",
        "               l2=0, epochs=100, eta=0.001,\n",
        "               shuffle=True, minibatch_size=1, seed=None):\n",
        "    \n",
        "    self.random = np.random.RandomState(seed)\n",
        "    self.n_hidden = n_hidden\n",
        "    self.l2 = l2\n",
        "    self.epochs = epochs\n",
        "    self.eta = eta\n",
        "    self.shuffle = shuffle\n",
        "    self.minibatch_size = minibatch_size\n",
        "\n",
        "  def _onehot(self, y, n_classes):\n",
        "    \"\"\"레이블을 원-핫 방식으로 인코딩합니다\n",
        "\n",
        "    매개변수\n",
        "    __________\n",
        "    y : 배열, 크기 = [n_samples]\n",
        "      타깃 값\n",
        "    n_classes : int\n",
        "      클래스 갯수\n",
        "\n",
        "    반환값\n",
        "    __________\n",
        "    onehot : 배열, 크기 = (n_samples, n_labels)\n",
        "\n",
        "    \"\"\"\n",
        "    onehot = np.zeros((n_classes, y.shape[0]))\n",
        "    for idx, val in enumerate(y.astype(int)):\n",
        "      onehot[val, idx] = 1\n",
        "    return onehot.T\n",
        "\n",
        "  def _sigmoid(self, z):\n",
        "    \"\"\"로지스틱 함수(시그모이드)를 계산합니다\"\"\"\n",
        "    return 1./(1. + np.exp(-np.clip(z, -250, 250)))\n",
        "\n",
        "  def _forward(self, X):\n",
        "    \"\"\"정방향 계산을 수행합니다\"\"\"\n",
        "    \n",
        "    # 단계 1: 은닉층의 최종 입력\n",
        "    # [n_samples, n_features] dot [n_features, n_hidden]\n",
        "    # -> [n_samples, n_hidden]\n",
        "    z_h = np.dot(X, self.w_h) * self.b_h\n",
        "\n",
        "    # 단계 2: 은닉층의 활성화 출력\n",
        "    a_h = self._sigmoid(z_h)\n",
        "\n",
        "    # 단계 3: 출력층의 최종 입력\n",
        "    # [n_samples, n_hidden] dot [n_hidden, n_classlabels]\n",
        "    # -> [n_samples, n_classlabels]\n",
        "    z_out = np.dot(a_h, self.w_out) + self.b_out\n",
        "\n",
        "    # 단계 4: 출력층의 활성화 출력\n",
        "    a_out = self._sigmoid(z_out)\n",
        "\n",
        "\n",
        "    return z_h, a_h, z_out, a_out\n",
        "\n",
        "  def _compute_cost(self, y_enc, output):\n",
        "    \"\"\"비용 합수를 계산합니다\n",
        "\n",
        "    매개변수\n",
        "    __________\n",
        "    y_enc : 배열, 크기 = (n_samples, n_labels)\n",
        "      원-핫 인코딩된 클래스 레이블\n",
        "    output : 배열, 크기 = [n_samples, n_output_units]\n",
        "      출력층의 활성화 출력 (정방향 계산)\n",
        "\n",
        "    반환값\n",
        "    __________\n",
        "    cost : float\n",
        "      규제가 포함된 비용\n",
        "\n",
        "    \"\"\"\n",
        "    L2_term = (self.l2 * \n",
        "               (np.sum(self.w_h ** 2.) + \n",
        "                np.sum(self.w_out ** 2.)))\n",
        "    term1 = -y_enc * (np.log(output + 1e-5))\n",
        "    term2 = (1. - y_enc) * np.log(1. - output + 1e-5)\n",
        "    cost = np.sum(term1 - term2) + L2_term\n",
        "\n",
        "    # 다른 데이터셋에서는 극단적인 (0 또는 1에 가까운) 활성화 값이 나올 수 있습니다\n",
        "    # 파이썬과 넘파이의 수치 연산이 불안정하기 때문에 \"ZeroDivisionError\"가 발생할 수 있습니다.\n",
        "    # 즉, log(0)을 평가하는 경우입니다.\n",
        "    # 이 문제를 해결하기 위해 로그 함수에 전달되는 활성화 값에 작은 상수를 더합니다.\n",
        "    #\n",
        "    # 예를 들어:\n",
        "    #\n",
        "    # term1 = -y_enc * (np.log(output + 1e-5))\n",
        "    # term2 = (1. - y_enc) * np.log(1. - output + 1e-5)\n",
        "\n",
        "    return cost\n",
        "\n",
        "  def predict(self, X):\n",
        "    \"\"\"클래스 레이블을 예측합니다\n",
        "\n",
        "    매개변수\n",
        "    __________\n",
        "    X : 배열, 크기 = [n_samples, n_features]\n",
        "      원본 특성의 입력층\n",
        "\n",
        "    반환값:\n",
        "    __________\n",
        "    y_pred : 배열, 크기 = [n_samples]\n",
        "      예측된 클래스 레이블\n",
        "\n",
        "    \"\"\"\n",
        "    z_h, a_h, z_out, a_out = self._forward(X)\n",
        "    y_pred = np.argmax(z_out, axis=1)\n",
        "    return y_pred\n",
        "\n",
        "  def fit(self, X_train, y_train, X_valid, y_valid):\n",
        "    \"\"\"훈련 데이터에서 가중치를 학습합니다\n",
        "    \n",
        "    매개변수\n",
        "    __________\n",
        "    X_train : 배열, 크기 = [n_samples, n_features]\n",
        "      원본 특성의 입력층\n",
        "    y_train : 배열, 크기 = [n_samples]\n",
        "      타깃 클래스 레이블\n",
        "    X_valid : 배열, 크기 = [n_samples, n_features]\n",
        "      훈련하는 동안 검증에 사용할 샘플 특성\n",
        "    y_valid : 배열, 크기 = [n_samples]\n",
        "      훈련하는 동안 검증에 사용할 샘플 레이블\n",
        "\n",
        "    반환값:\n",
        "    __________\n",
        "    self\n",
        "\n",
        "    \"\"\"\n",
        "    n_output = np.unique(y_train).shape[0] # number of class labels\n",
        "    n_features = X_train.shape[1]\n",
        "\n",
        "    ####################\n",
        "    # 가중치 초기화\n",
        "    ####################\n",
        "\n",
        "    # 입력층 -> 은닉층 사이의 가중치\n",
        "    self.b_h = np.zeros(self.n_hidden)\n",
        "    self.w_h = self.random.normal(loc=0.0, scale=0.1,\n",
        "                                  size=(n_features, self.n_hidden))\n",
        "    \n",
        "    # 은닉층 -> 출력층 사이의 가중치\n",
        "    self.b_out = np.zeros(n_output)\n",
        "    self.w_out = self.random.normal(loc=0.0, scale=0.1,\n",
        "                                    size=(self.n_hidden, n_output))\n",
        "    \n",
        "    epoch_strlen = len(str(self.epochs)) # 출력 포맷을 위해\n",
        "    self.eval_ = {'cost': [], 'train_acc': [], 'valid_acc': []}\n",
        "\n",
        "    y_train_enc = self._onehot(y_train, n_output)\n",
        "\n",
        "    # 훈련 에포크를 반복합니다\n",
        "    for i in range(self.epochs):\n",
        "\n",
        "      # 미니 배치로 반복합니다\n",
        "      indices = np.arange(X_train.shape[0])\n",
        "\n",
        "      if self.shuffle:\n",
        "        self.random.shuffle(indices)\n",
        "      \n",
        "      for start_idx in range(0, indices.shape[0] - self.minibatch_size +\n",
        "                             1, self.minibatch_size):\n",
        "        batch_idx = indices[start_idx:start_idx + self.minibatch_size]\n",
        "\n",
        "        # 정방향 계산\n",
        "        z_h, a_h, z_out, a_out = self._forward(X_train[batch_idx])\n",
        "\n",
        "        ####################\n",
        "        # 역전파\n",
        "        ####################\n",
        "\n",
        "        # [n_examples, n_classlabels]\n",
        "        delta_out = a_out - y_train_enc[batch_idx]\n",
        "\n",
        "        # [n_examples, n_hidden]\n",
        "        sigmoid_derivative_h = a_h * (1. - a_h)\n",
        "\n",
        "        # [n_examples, n_classlabels] dot [n_classlabels, n_hidden]\n",
        "        # -> [n_features, n_hidden]\n",
        "        delta_h = (np.dot(delta_out, self.w_out.T) *\n",
        "                   sigmoid_derivative_h)\n",
        "        \n",
        "        # [n_features, n_examples] dot [n_examples, n_hidden]\n",
        "        # -> [n_features, n_hidden]\n",
        "        grad_w_h = np.dot(X_train[batch_idx].T, delta_h)\n",
        "        grad_b_h = np.sum(delta_h, axis=0)\n",
        "\n",
        "        # [n_hidden, n_examples] dot [n_examples, n_classlabels]\n",
        "        # -> [n_hidden, n_classlabels]\n",
        "        grad_w_out = np.dot(a_h.T, delta_out)\n",
        "        grad_b_out = np.sum(delta_out, axis=0)\n",
        "\n",
        "        # 규제와 가중치 업데이트\n",
        "        delta_w_h = (grad_w_h + self.l2*self.w_h)\n",
        "        delta_b_h = grad_b_h # 편향은 규제하지 않습니다\n",
        "        self.w_h -= self.eta * delta_w_h\n",
        "        self.b_h -= self.eta * delta_b_h\n",
        "        \n",
        "        delta_w_out = (grad_w_out + self.l2*self.w_out)\n",
        "        delta_b_out = grad_b_out # 편향은 규제하지 않습니다\n",
        "        self.w_out -= self.eta * delta_w_out\n",
        "        self.b_out -= self.eta * delta_b_out\n",
        "      \n",
        "      ####################\n",
        "      # 평가\n",
        "      ####################\n",
        "\n",
        "      # 훈련하는 동안 에포크마다 평가합니다\n",
        "      z_h, a_h, z_out, a_out = self._forward(X_train)\n",
        "\n",
        "      cost = self._compute_cost(y_enc=y_train_enc,\n",
        "                                output=a_out)\n",
        "      \n",
        "      y_train_pred = self.predict(X_train)\n",
        "      y_valid_pred = self.predict(X_valid)\n",
        "\n",
        "      train_acc = ((np.sum(y_train == y_train_pred)).astype(float)/\n",
        "                   X_train.shape[0])\n",
        "      valid_acc = ((np.sum(y_valid == y_valid_pred)).astype(float)/\n",
        "                   X_valid.shape[0])\n",
        "      \n",
        "      sys.stderr.write(f\"\\r{epoch_strlen:0}{i+1:d}/{self.epochs} | Cost: {cost:.2f} \" +\n",
        "                       f\"| Train/Valid Acc: {train_acc*100:.2f}%/{valid_acc*100:.2f}%\")\n",
        "      \n",
        "      # sys.stderr.write('\\r%0*d/%d | 비용: %.2f '\n",
        "      #                             '| 훈련/검증 정확도: %.2f%%/%.2f%% ' %\n",
        "      #                                              (epoch_strlen, i+1, self.epochs, cost,\n",
        "      #                                               train_acc*100, valid_acc*100))\n",
        "      sys.stderr.flush()\n",
        "\n",
        "      self.eval_['cost'].append(cost)\n",
        "      self.eval_['train_acc'].append(train_acc)\n",
        "      self.eval_['valid_acc'].append(valid_acc)\n",
        "\n",
        "    return self"
      ],
      "metadata": {
        "id": "QTVvUepXMimx"
      },
      "execution_count": 36,
      "outputs": []
    },
    {
      "cell_type": "code",
      "source": [
        "n_epochs = 200"
      ],
      "metadata": {
        "id": "ClPm0E9vNxyt"
      },
      "execution_count": 33,
      "outputs": []
    },
    {
      "cell_type": "code",
      "source": [
        "nn = NeuralNetMLP(n_hidden=100, \n",
        "                  l2=0.01, \n",
        "                  epochs=n_epochs, \n",
        "                  eta=0.0005,\n",
        "                  minibatch_size=100, \n",
        "                  shuffle=True,\n",
        "                  seed=1)\n",
        "\n",
        "nn.fit(X_train=X_train[:55000], \n",
        "       y_train=y_train[:55000],\n",
        "       X_valid=X_train[55000:],\n",
        "       y_valid=y_train[55000:])"
      ],
      "metadata": {
        "colab": {
          "base_uri": "https://localhost:8080/"
        },
        "id": "tpekIIExZVez",
        "outputId": "c360c853-9114-4dd2-d7c0-4ed26bad0fc1"
      },
      "execution_count": 37,
      "outputs": [
        {
          "output_type": "stream",
          "name": "stderr",
          "text": [
            "200/200 | 비용: 17620.57 | 훈련/검증 정확도: 95.56%/96.14% "
          ]
        },
        {
          "output_type": "execute_result",
          "data": {
            "text/plain": [
              "<__main__.NeuralNetMLP at 0x7f512bcbf910>"
            ]
          },
          "metadata": {},
          "execution_count": 37
        }
      ]
    },
    {
      "cell_type": "code",
      "source": [
        "import matplotlib.pyplot as plt\n",
        "\n",
        "plt.plot(range(nn.epochs), nn.eval_['cost'])\n",
        "plt.ylabel('Cost')\n",
        "plt.xlabel('Epochs')\n",
        "# plt.savefig('images/12_07.png', dpi=300)\n",
        "plt.show()"
      ],
      "metadata": {
        "colab": {
          "base_uri": "https://localhost:8080/",
          "height": 279
        },
        "id": "xmP4Q8VoZW5L",
        "outputId": "eccf93ce-66df-45a0-cd46-3d0c1a6e2476"
      },
      "execution_count": 38,
      "outputs": [
        {
          "output_type": "display_data",
          "data": {
            "text/plain": [
              "<Figure size 432x288 with 1 Axes>"
            ],
            "image/png": "[encoded data removed]"
          },
          "metadata": {
            "needs_background": "light"
          }
        }
      ]
    },
    {
      "cell_type": "code",
      "source": [
        "plt.plot(range(nn.epochs), nn.eval_['train_acc'], \n",
        "         label='Training')\n",
        "plt.plot(range(nn.epochs), nn.eval_['valid_acc'], \n",
        "         label='Validation', linestyle='--')\n",
        "plt.ylabel('Accuracy')\n",
        "plt.xlabel('Epochs')\n",
        "plt.legend(loc='lower right')\n",
        "# plt.savefig('images/12_08.png', dpi=300)\n",
        "plt.show()"
      ],
      "metadata": {
        "colab": {
          "base_uri": "https://localhost:8080/",
          "height": 282
        },
        "id": "6KQ6PW8tjMKs",
        "outputId": "b5c0e160-ccc9-414d-bc1e-8150ad7254cb"
      },
      "execution_count": 39,
      "outputs": [
        {
          "output_type": "display_data",
          "data": {
            "text/plain": [
              "<Figure size 432x288 with 1 Axes>"
            ],
            "image/png": "[encoded data removed]"
          },
          "metadata": {
            "needs_background": "light"
          }
        }
      ]
    },
    {
      "cell_type": "code",
      "source": [
        "y_test_pred = nn.predict(X_test)\n",
        "acc = (np.sum(y_test == y_test_pred)\n",
        "       .astype(float) / X_test.shape[0])\n",
        "\n",
        "print('테스트 정확도: %.2f%%' % (acc * 100))"
      ],
      "metadata": {
        "colab": {
          "base_uri": "https://localhost:8080/"
        },
        "id": "88H01ItLjNb6",
        "outputId": "a8bc5846-3ccb-4a0d-bac5-8bf390bb9e62"
      },
      "execution_count": 40,
      "outputs": [
        {
          "output_type": "stream",
          "name": "stdout",
          "text": [
            "테스트 정확도: 95.06%\n"
          ]
        },
        {
          "output_type": "stream",
          "name": "stderr",
          "text": [
            "<ipython-input-40-d7764dc73a9c>:3: DeprecationWarning: `np.float` is a deprecated alias for the builtin `float`. To silence this warning, use `float` by itself. Doing this will not modify any behavior and is safe. If you specifically wanted the numpy scalar type, use `np.float64` here.\n",
            "Deprecated in NumPy 1.20; for more details and guidance: https://numpy.org/devdocs/release/1.20.0-notes.html#deprecations\n",
            "  .astype(np.float) / X_test.shape[0])\n"
          ]
        }
      ]
    },
    {
      "cell_type": "code",
      "source": [
        "miscl_img = X_test[y_test != y_test_pred][:25]\n",
        "correct_lab = y_test[y_test != y_test_pred][:25]\n",
        "miscl_lab = y_test_pred[y_test != y_test_pred][:25]\n",
        "\n",
        "fig, ax = plt.subplots(nrows=5, ncols=5, sharex=True, sharey=True)\n",
        "ax = ax.flatten()\n",
        "for i in range(25):\n",
        "    img = miscl_img[i].reshape(28, 28)\n",
        "    ax[i].imshow(img, cmap='Greys', interpolation='nearest')\n",
        "    ax[i].set_title('%d) t: %d p: %d' % (i+1, correct_lab[i], miscl_lab[i]))\n",
        "\n",
        "ax[0].set_xticks([])\n",
        "ax[0].set_yticks([])\n",
        "plt.tight_layout()\n",
        "# plt.savefig('images/12_09.png', dpi=300)\n",
        "plt.show()"
      ],
      "metadata": {
        "colab": {
          "base_uri": "https://localhost:8080/",
          "height": 297
        },
        "id": "97DEn5vfjTwl",
        "outputId": "a71f85bd-48f6-4a26-ef12-7b505bec2096"
      },
      "execution_count": 41,
      "outputs": [
        {
          "output_type": "display_data",
          "data": {
            "text/plain": [
              "<Figure size 432x288 with 25 Axes>"
            ],
            "image/png": "[encoded data removed]"
          },
          "metadata": {}
        }
      ]
    },
    {
      "cell_type": "code",
      "source": [
        "Image(url='https://git.io/JLdov', width=300) "
      ],
      "metadata": {
        "colab": {
          "base_uri": "https://localhost:8080/",
          "height": 311
        },
        "id": "NiOueDhYjUvz",
        "outputId": "45d8667e-7d02-4327-efd3-fba17592865c"
      },
      "execution_count": 42,
      "outputs": [
        {
          "output_type": "execute_result",
          "data": {
            "text/html": [
              "<img src=\"https://git.io/JLdov\" width=\"300\"/>"
            ],
            "text/plain": [
              "<IPython.core.display.Image object>"
            ]
          },
          "metadata": {},
          "execution_count": 42
        }
      ]
    },
    {
      "cell_type": "code",
      "source": [
        "Image(url='https://git.io/JLdoa', width=400) "
      ],
      "metadata": {
        "colab": {
          "base_uri": "https://localhost:8080/",
          "height": 235
        },
        "id": "u1oRTqlwjYbs",
        "outputId": "16bf076a-5898-4c69-8e6c-d0f59ebaf38a"
      },
      "execution_count": 43,
      "outputs": [
        {
          "output_type": "execute_result",
          "data": {
            "text/html": [
              "<img src=\"https://git.io/JLdoa\" width=\"400\"/>"
            ],
            "text/plain": [
              "<IPython.core.display.Image object>"
            ]
          },
          "metadata": {},
          "execution_count": 43
        }
      ]
    },
    {
      "cell_type": "code",
      "source": [
        "Image(url='https://git.io/JLdoz', width=500) "
      ],
      "metadata": {
        "colab": {
          "base_uri": "https://localhost:8080/",
          "height": 404
        },
        "id": "UK15D3tTjZnE",
        "outputId": "10e8d0c5-49e9-4b56-f418-4adff5e1c6bc"
      },
      "execution_count": 44,
      "outputs": [
        {
          "output_type": "execute_result",
          "data": {
            "text/html": [
              "<img src=\"https://git.io/JLdoz\" width=\"500\"/>"
            ],
            "text/plain": [
              "<IPython.core.display.Image object>"
            ]
          },
          "metadata": {},
          "execution_count": 44
        }
      ]
    },
    {
      "cell_type": "code",
      "source": [
        "Image(url='https://git.io/JLdoK', width=500) "
      ],
      "metadata": {
        "id": "ybT2mb3mja9E"
      },
      "execution_count": null,
      "outputs": []
    }
  ]
}