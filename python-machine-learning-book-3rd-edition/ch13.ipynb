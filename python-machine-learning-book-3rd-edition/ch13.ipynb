{
  "nbformat": 4,
  "nbformat_minor": 0,
  "metadata": {
    "colab": {
      "provenance": [],
      "authorship_tag": "ABX9TyMyLWKCu9xXwvaDSLBIn+z+"
    },
    "kernelspec": {
      "name": "python3",
      "display_name": "Python 3"
    },
    "language_info": {
      "name": "python"
    }
  },
  "cells": [
    {
      "cell_type": "code",
      "execution_count": 1,
      "metadata": {
        "id": "e2R6nDF_Pz5W"
      },
      "outputs": [],
      "source": [
        "from IPython.display import Image"
      ]
    },
    {
      "cell_type": "code",
      "source": [
        "Image(url='https://git.io/JL5iw', width=800)"
      ],
      "metadata": {
        "id": "gPcgOo55SQZN",
        "colab": {
          "base_uri": "https://localhost:8080/",
          "height": 271
        },
        "outputId": "df6c5312-b59a-4b22-d708-0faec22e11b4"
      },
      "execution_count": 2,
      "outputs": [
        {
          "output_type": "execute_result",
          "data": {
            "text/html": [
              "<img src=\"https://git.io/JL5iw\" width=\"800\"/>"
            ],
            "text/plain": [
              "<IPython.core.display.Image object>"
            ]
          },
          "metadata": {},
          "execution_count": 2
        }
      ]
    },
    {
      "cell_type": "code",
      "source": [
        "Image(url='https://git.io/JL5io', width=500)"
      ],
      "metadata": {
        "id": "Cphj2ly2aEQN",
        "colab": {
          "base_uri": "https://localhost:8080/",
          "height": 327
        },
        "outputId": "45bf18ac-afdb-4e3d-fc03-c4489e15d85d"
      },
      "execution_count": 3,
      "outputs": [
        {
          "output_type": "execute_result",
          "data": {
            "text/html": [
              "<img src=\"https://git.io/JL5io\" width=\"500\"/>"
            ],
            "text/plain": [
              "<IPython.core.display.Image object>"
            ]
          },
          "metadata": {},
          "execution_count": 3
        }
      ]
    },
    {
      "cell_type": "code",
      "source": [
        "import tensorflow as tf\n",
        "print('텐서플로 버전:', tf.__version__)\n",
        "import numpy as np\n",
        "\n",
        "np.set_printoptions(precision=3)"
      ],
      "metadata": {
        "colab": {
          "base_uri": "https://localhost:8080/"
        },
        "id": "o68KYlzDPiq2",
        "outputId": "cf3f3612-7d95-43a2-e53c-f97aaaf5a177"
      },
      "execution_count": 4,
      "outputs": [
        {
          "output_type": "stream",
          "name": "stdout",
          "text": [
            "텐서플로 버전: 2.12.0\n"
          ]
        }
      ]
    },
    {
      "cell_type": "code",
      "source": [
        "! python -c 'import tensorflow as tf; print(tf.__version__)'"
      ],
      "metadata": {
        "colab": {
          "base_uri": "https://localhost:8080/"
        },
        "id": "wRJVfsxoPlfZ",
        "outputId": "0c2e1113-c14f-4198-f216-267d5ad6df6a"
      },
      "execution_count": 5,
      "outputs": [
        {
          "output_type": "stream",
          "name": "stdout",
          "text": [
            "2023-06-07 22:56:54.683734: W tensorflow/compiler/tf2tensorrt/utils/py_utils.cc:38] TF-TRT Warning: Could not find TensorRT\n",
            "2.12.0\n"
          ]
        }
      ]
    },
    {
      "cell_type": "code",
      "source": [
        "a = np.array([1, 2, 3], dtype=np.int32)\n",
        "b = [4, 5, 6]"
      ],
      "metadata": {
        "id": "JBPdVi0jPqRq"
      },
      "execution_count": 6,
      "outputs": []
    },
    {
      "cell_type": "code",
      "source": [
        "t_a = tf.convert_to_tensor(a)\n",
        "t_b = tf.convert_to_tensor(b)\n",
        "\n",
        "print(t_a)\n",
        "print(t_b)"
      ],
      "metadata": {
        "colab": {
          "base_uri": "https://localhost:8080/"
        },
        "id": "PcrEkzcZPwNM",
        "outputId": "4d8a35b6-3f8c-4194-d166-a37d6ac87a26"
      },
      "execution_count": 7,
      "outputs": [
        {
          "output_type": "stream",
          "name": "stdout",
          "text": [
            "tf.Tensor([1 2 3], shape=(3,), dtype=int32)\n",
            "tf.Tensor([4 5 6], shape=(3,), dtype=int32)\n"
          ]
        }
      ]
    },
    {
      "cell_type": "code",
      "source": [
        "tf.is_tensor(a), tf.is_tensor(t_a)"
      ],
      "metadata": {
        "colab": {
          "base_uri": "https://localhost:8080/"
        },
        "id": "7tWPFsgMP1U-",
        "outputId": "64f62992-ed9f-4912-b936-f7592fd662a9"
      },
      "execution_count": 8,
      "outputs": [
        {
          "output_type": "execute_result",
          "data": {
            "text/plain": [
              "(False, True)"
            ]
          },
          "metadata": {},
          "execution_count": 8
        }
      ]
    },
    {
      "cell_type": "code",
      "source": [
        "t_ones = tf.ones((2, 3))\n",
        "t_ones.shape"
      ],
      "metadata": {
        "colab": {
          "base_uri": "https://localhost:8080/"
        },
        "id": "U2z5tm3EP5YA",
        "outputId": "404f31db-de79-4751-ebfa-bb4650ee6ada"
      },
      "execution_count": 9,
      "outputs": [
        {
          "output_type": "execute_result",
          "data": {
            "text/plain": [
              "TensorShape([2, 3])"
            ]
          },
          "metadata": {},
          "execution_count": 9
        }
      ]
    },
    {
      "cell_type": "code",
      "source": [
        "t_ones.numpy()"
      ],
      "metadata": {
        "colab": {
          "base_uri": "https://localhost:8080/"
        },
        "id": "69AGXfedP9G2",
        "outputId": "8d565d3d-cf2f-45d8-c139-38f1c65b5dce"
      },
      "execution_count": 10,
      "outputs": [
        {
          "output_type": "execute_result",
          "data": {
            "text/plain": [
              "array([[1., 1., 1.],\n",
              "       [1., 1., 1.]], dtype=float32)"
            ]
          },
          "metadata": {},
          "execution_count": 10
        }
      ]
    },
    {
      "cell_type": "code",
      "source": [
        "const_tensor = tf.constant([1.2, 5, np.pi], dtype=tf.float32)\n",
        "print(const_tensor)"
      ],
      "metadata": {
        "colab": {
          "base_uri": "https://localhost:8080/"
        },
        "id": "6bx1u0AYQONP",
        "outputId": "37667f05-a003-492e-ae40-becd529a21a7"
      },
      "execution_count": 11,
      "outputs": [
        {
          "output_type": "stream",
          "name": "stdout",
          "text": [
            "tf.Tensor([1.2   5.    3.142], shape=(3,), dtype=float32)\n"
          ]
        }
      ]
    },
    {
      "cell_type": "code",
      "source": [
        "tf.fill((2, 3), 1)"
      ],
      "metadata": {
        "colab": {
          "base_uri": "https://localhost:8080/"
        },
        "id": "MpT1v7xZQXOg",
        "outputId": "792dac34-f6a6-462e-afd6-d8faa4693f84"
      },
      "execution_count": 12,
      "outputs": [
        {
          "output_type": "execute_result",
          "data": {
            "text/plain": [
              "<tf.Tensor: shape=(2, 3), dtype=int32, numpy=\n",
              "array([[1, 1, 1],\n",
              "       [1, 1, 1]], dtype=int32)>"
            ]
          },
          "metadata": {},
          "execution_count": 12
        }
      ]
    },
    {
      "cell_type": "code",
      "source": [
        "tf.one_hot([0, 1, 3], 5)"
      ],
      "metadata": {
        "colab": {
          "base_uri": "https://localhost:8080/"
        },
        "id": "N0M_zce8Qh7V",
        "outputId": "b993cf2a-0f76-4282-ceb9-65b49fddbda1"
      },
      "execution_count": 13,
      "outputs": [
        {
          "output_type": "execute_result",
          "data": {
            "text/plain": [
              "<tf.Tensor: shape=(3, 5), dtype=float32, numpy=\n",
              "array([[1., 0., 0., 0., 0.],\n",
              "       [0., 1., 0., 0., 0.],\n",
              "       [0., 0., 0., 1., 0.]], dtype=float32)>"
            ]
          },
          "metadata": {},
          "execution_count": 13
        }
      ]
    },
    {
      "cell_type": "code",
      "source": [
        "t_a_new = tf.cast(t_a, tf.int64)\n",
        "print(t_a)\n",
        "print(t_a_new)"
      ],
      "metadata": {
        "colab": {
          "base_uri": "https://localhost:8080/"
        },
        "id": "V7EHVLHWQm3r",
        "outputId": "7e0d2bab-54ac-4972-ffa5-3e432e454391"
      },
      "execution_count": 14,
      "outputs": [
        {
          "output_type": "stream",
          "name": "stdout",
          "text": [
            "tf.Tensor([1 2 3], shape=(3,), dtype=int32)\n",
            "tf.Tensor([1 2 3], shape=(3,), dtype=int64)\n"
          ]
        }
      ]
    },
    {
      "cell_type": "code",
      "source": [
        "t = tf.random.uniform(shape=(3, 5))\n",
        "t_tr = tf.transpose(t)\n",
        "print(f'{t.shape} --> {t_tr.shape}')"
      ],
      "metadata": {
        "colab": {
          "base_uri": "https://localhost:8080/"
        },
        "id": "VNmuxVn_QtBE",
        "outputId": "ef05cd77-956d-46d4-e11d-d83968d3ae74"
      },
      "execution_count": 15,
      "outputs": [
        {
          "output_type": "stream",
          "name": "stdout",
          "text": [
            "(3, 5) --> (5, 3)\n"
          ]
        }
      ]
    },
    {
      "cell_type": "code",
      "source": [
        "t = tf.zeros((30, ))\n",
        "t_reshape = tf.reshape(t, shape=(5, 6))\n",
        "print(f\"{t.shape} --> {t_reshape.shape}\")"
      ],
      "metadata": {
        "colab": {
          "base_uri": "https://localhost:8080/"
        },
        "id": "dnmGPQNaQ2w0",
        "outputId": "50b27d11-158e-4406-ab72-e7194401b8ec"
      },
      "execution_count": 16,
      "outputs": [
        {
          "output_type": "stream",
          "name": "stdout",
          "text": [
            "(30,) --> (5, 6)\n"
          ]
        }
      ]
    },
    {
      "cell_type": "code",
      "source": [
        "t = tf.zeros((1, 2, 1, 4, 1))\n",
        "t_sqz = tf.squeeze(t, axis=(2, 4))\n",
        "print(f\"{t.shape} --> {t_sqz.shape}\")"
      ],
      "metadata": {
        "colab": {
          "base_uri": "https://localhost:8080/"
        },
        "id": "uz36aRp_Q_v9",
        "outputId": "0a9eff2b-d7f3-4344-a375-2d8aaca57ab5"
      },
      "execution_count": 17,
      "outputs": [
        {
          "output_type": "stream",
          "name": "stdout",
          "text": [
            "(1, 2, 1, 4, 1) --> (1, 2, 4)\n"
          ]
        }
      ]
    },
    {
      "cell_type": "code",
      "source": [
        "t"
      ],
      "metadata": {
        "colab": {
          "base_uri": "https://localhost:8080/"
        },
        "id": "BCVHTtAPRIzL",
        "outputId": "455be135-49d2-4372-b024-7c8229e646f8"
      },
      "execution_count": 18,
      "outputs": [
        {
          "output_type": "execute_result",
          "data": {
            "text/plain": [
              "<tf.Tensor: shape=(1, 2, 1, 4, 1), dtype=float32, numpy=\n",
              "array([[[[[0.],\n",
              "          [0.],\n",
              "          [0.],\n",
              "          [0.]]],\n",
              "\n",
              "\n",
              "        [[[0.],\n",
              "          [0.],\n",
              "          [0.],\n",
              "          [0.]]]]], dtype=float32)>"
            ]
          },
          "metadata": {},
          "execution_count": 18
        }
      ]
    },
    {
      "cell_type": "code",
      "source": [
        "t_sqz"
      ],
      "metadata": {
        "colab": {
          "base_uri": "https://localhost:8080/"
        },
        "id": "J02mW8vNRKeB",
        "outputId": "098a5219-6b38-41a4-93be-e0cbe99afd6c"
      },
      "execution_count": 19,
      "outputs": [
        {
          "output_type": "execute_result",
          "data": {
            "text/plain": [
              "<tf.Tensor: shape=(1, 2, 4), dtype=float32, numpy=\n",
              "array([[[0., 0., 0., 0.],\n",
              "        [0., 0., 0., 0.]]], dtype=float32)>"
            ]
          },
          "metadata": {},
          "execution_count": 19
        }
      ]
    },
    {
      "cell_type": "code",
      "source": [
        "tf.random.set_seed(1)\n",
        "t1 = tf.random.uniform(shape=(5, 2),\n",
        "                       minval=-1.0,\n",
        "                       maxval=1.0)\n",
        "t2 = tf.random.normal(shape=(5, 2),\n",
        "                      mean=0.0,\n",
        "                      stddev=1.0)"
      ],
      "metadata": {
        "id": "jDKCnAFvRLkb"
      },
      "execution_count": 20,
      "outputs": []
    },
    {
      "cell_type": "code",
      "source": [
        "t3 = tf.multiply(t1, t2).numpy()\n",
        "print(t3)"
      ],
      "metadata": {
        "colab": {
          "base_uri": "https://localhost:8080/"
        },
        "id": "bnszsagTRoMs",
        "outputId": "cdcab7b2-eab3-4ada-ccb8-74a466ef2b6b"
      },
      "execution_count": 21,
      "outputs": [
        {
          "output_type": "stream",
          "name": "stdout",
          "text": [
            "[[-0.27  -0.874]\n",
            " [-0.017 -0.175]\n",
            " [-0.296 -0.139]\n",
            " [-0.727  0.135]\n",
            " [-0.401  0.004]]\n"
          ]
        }
      ]
    },
    {
      "cell_type": "code",
      "source": [
        "t4 = tf.math.reduce_mean(t1, axis=0)\n",
        "print(t4)"
      ],
      "metadata": {
        "colab": {
          "base_uri": "https://localhost:8080/"
        },
        "id": "YYGTQ5EORv2T",
        "outputId": "d5b75390-4fa4-467c-b9b3-1d9661bb4a3a"
      },
      "execution_count": 22,
      "outputs": [
        {
          "output_type": "stream",
          "name": "stdout",
          "text": [
            "tf.Tensor([0.09  0.207], shape=(2,), dtype=float32)\n"
          ]
        }
      ]
    },
    {
      "cell_type": "code",
      "source": [
        "t4 = tf.math.reduce_mean(t1, axis=1)\n",
        "print(t4)"
      ],
      "metadata": {
        "colab": {
          "base_uri": "https://localhost:8080/"
        },
        "id": "EjeGUhaPRzwj",
        "outputId": "0559aca1-dec9-481a-984f-e2117a1bdd2f"
      },
      "execution_count": 23,
      "outputs": [
        {
          "output_type": "stream",
          "name": "stdout",
          "text": [
            "tf.Tensor([ 0.067  0.066 -0.066  0.411  0.265], shape=(5,), dtype=float32)\n"
          ]
        }
      ]
    },
    {
      "cell_type": "code",
      "source": [
        "print(t1)"
      ],
      "metadata": {
        "colab": {
          "base_uri": "https://localhost:8080/"
        },
        "id": "z2nrhZDbR2S7",
        "outputId": "31f07e50-4d11-4f52-e392-52e67e018d1f"
      },
      "execution_count": 24,
      "outputs": [
        {
          "output_type": "stream",
          "name": "stdout",
          "text": [
            "tf.Tensor(\n",
            "[[-0.67   0.803]\n",
            " [ 0.262 -0.131]\n",
            " [-0.416  0.285]\n",
            " [ 0.952 -0.13 ]\n",
            " [ 0.32   0.21 ]], shape=(5, 2), dtype=float32)\n"
          ]
        }
      ]
    },
    {
      "cell_type": "code",
      "source": [
        "t5 = tf.linalg.matmul(t1, t2, transpose_b=True)\n",
        "print(t5.numpy())"
      ],
      "metadata": {
        "colab": {
          "base_uri": "https://localhost:8080/"
        },
        "id": "63le3376R9qd",
        "outputId": "c7e83fe2-b84b-44c6-d8e8-9fc55f554485"
      },
      "execution_count": 25,
      "outputs": [
        {
          "output_type": "stream",
          "name": "stdout",
          "text": [
            "[[-1.144  1.115 -0.87  -0.321  0.856]\n",
            " [ 0.248 -0.191  0.25  -0.064 -0.331]\n",
            " [-0.478  0.407 -0.436  0.022  0.527]\n",
            " [ 0.525 -0.234  0.741 -0.593 -1.194]\n",
            " [-0.099  0.26   0.125 -0.462 -0.396]]\n"
          ]
        }
      ]
    },
    {
      "cell_type": "code",
      "source": [
        "t6 = tf.linalg.matmul(t1, t2, transpose_a=True)\n",
        "\n",
        "print(t6.numpy())"
      ],
      "metadata": {
        "colab": {
          "base_uri": "https://localhost:8080/"
        },
        "id": "qy3dYyp0SI10",
        "outputId": "faadcaea-db12-49f1-cc6a-60463e331dd1"
      },
      "execution_count": 26,
      "outputs": [
        {
          "output_type": "stream",
          "name": "stdout",
          "text": [
            "[[-1.711  0.302]\n",
            " [ 0.371 -1.049]]\n"
          ]
        }
      ]
    },
    {
      "cell_type": "code",
      "source": [
        "norm_t1 = tf.norm(t1, ord=2, axis=1).numpy()\n",
        "print(norm_t1)"
      ],
      "metadata": {
        "colab": {
          "base_uri": "https://localhost:8080/"
        },
        "id": "V-u03T-USLQU",
        "outputId": "494e8230-d104-4af7-cd01-c84ffe32bec8"
      },
      "execution_count": 27,
      "outputs": [
        {
          "output_type": "stream",
          "name": "stdout",
          "text": [
            "[1.046 0.293 0.504 0.96  0.383]\n"
          ]
        }
      ]
    },
    {
      "cell_type": "code",
      "source": [
        "norm_t1 = tf.norm(t1, ord=2, axis=0).numpy()\n",
        "print(norm_t1)"
      ],
      "metadata": {
        "colab": {
          "base_uri": "https://localhost:8080/"
        },
        "id": "fh9drkdiSPyC",
        "outputId": "5ba63c4d-1b95-49a7-cd27-1618f157e8d8"
      },
      "execution_count": 28,
      "outputs": [
        {
          "output_type": "stream",
          "name": "stdout",
          "text": [
            "[1.303 0.897]\n"
          ]
        }
      ]
    },
    {
      "cell_type": "code",
      "source": [
        "np.sqrt(np.sum(np.square(t1), axis=1))"
      ],
      "metadata": {
        "colab": {
          "base_uri": "https://localhost:8080/"
        },
        "id": "CEE6mpVpSR4k",
        "outputId": "76fe4b8f-e3fb-4627-9496-9a536b204cce"
      },
      "execution_count": 29,
      "outputs": [
        {
          "output_type": "execute_result",
          "data": {
            "text/plain": [
              "array([1.046, 0.293, 0.504, 0.96 , 0.383], dtype=float32)"
            ]
          },
          "metadata": {},
          "execution_count": 29
        }
      ]
    },
    {
      "cell_type": "code",
      "source": [
        "t1 @ tf.transpose(t2)"
      ],
      "metadata": {
        "colab": {
          "base_uri": "https://localhost:8080/"
        },
        "id": "LyceThDeSWxt",
        "outputId": "3a743264-8aa1-4ca2-c8b7-256eb2e4c83f"
      },
      "execution_count": 30,
      "outputs": [
        {
          "output_type": "execute_result",
          "data": {
            "text/plain": [
              "<tf.Tensor: shape=(5, 5), dtype=float32, numpy=\n",
              "array([[-1.144,  1.115, -0.87 , -0.321,  0.856],\n",
              "       [ 0.248, -0.191,  0.25 , -0.064, -0.331],\n",
              "       [-0.478,  0.407, -0.436,  0.022,  0.527],\n",
              "       [ 0.525, -0.234,  0.741, -0.593, -1.194],\n",
              "       [-0.099,  0.26 ,  0.125, -0.462, -0.396]], dtype=float32)>"
            ]
          },
          "metadata": {},
          "execution_count": 30
        }
      ]
    },
    {
      "cell_type": "code",
      "source": [
        "import tensorflow.experimental.numpy as tnp\n",
        "tnp.experimental_enable_numpy_behavior()\n",
        "\n",
        "tn1 = tnp.array(t1)\n",
        "tn2 = tnp.array(t2)\n",
        "\n",
        "print(tnp.dot(tn1, tn2.T))"
      ],
      "metadata": {
        "colab": {
          "base_uri": "https://localhost:8080/"
        },
        "id": "_DmyqaN0SeoW",
        "outputId": "c6542f8a-c88c-4252-8388-3715a442eb6e"
      },
      "execution_count": 31,
      "outputs": [
        {
          "output_type": "stream",
          "name": "stdout",
          "text": [
            "tf.Tensor(\n",
            "[[-1.144  1.115 -0.87  -0.321  0.856]\n",
            " [ 0.248 -0.191  0.25  -0.064 -0.331]\n",
            " [-0.478  0.407 -0.436  0.022  0.527]\n",
            " [ 0.525 -0.234  0.741 -0.593 -1.194]\n",
            " [-0.099  0.26   0.125 -0.462 -0.396]], shape=(5, 5), dtype=float32)\n"
          ]
        }
      ]
    },
    {
      "cell_type": "code",
      "source": [
        "tf.random.set_seed(1)\n",
        "t = tf.random.uniform((6, ))\n",
        "print(t.numpy())"
      ],
      "metadata": {
        "colab": {
          "base_uri": "https://localhost:8080/"
        },
        "id": "RQx1yQ5WS0Ew",
        "outputId": "064f51b4-ec9f-4c81-8d6a-7e2332ed01d3"
      },
      "execution_count": 32,
      "outputs": [
        {
          "output_type": "stream",
          "name": "stdout",
          "text": [
            "[0.165 0.901 0.631 0.435 0.292 0.643]\n"
          ]
        }
      ]
    },
    {
      "cell_type": "code",
      "source": [
        "t_splits = tf.split(t, 3)\n",
        "[item.numpy() for item in t_splits]"
      ],
      "metadata": {
        "colab": {
          "base_uri": "https://localhost:8080/"
        },
        "id": "CIAHSNBFSrve",
        "outputId": "77328b3c-26ce-4acb-86c9-46b5dcc7666b"
      },
      "execution_count": 33,
      "outputs": [
        {
          "output_type": "execute_result",
          "data": {
            "text/plain": [
              "[array([0.165, 0.901], dtype=float32),\n",
              " array([0.631, 0.435], dtype=float32),\n",
              " array([0.292, 0.643], dtype=float32)]"
            ]
          },
          "metadata": {},
          "execution_count": 33
        }
      ]
    },
    {
      "cell_type": "code",
      "source": [
        "[item.numpy() for item in tf.split(t, 2)]"
      ],
      "metadata": {
        "colab": {
          "base_uri": "https://localhost:8080/"
        },
        "id": "Ff-m4j7wTLB4",
        "outputId": "3b772423-3ccb-4bec-a555-d385c608dcaa"
      },
      "execution_count": 34,
      "outputs": [
        {
          "output_type": "execute_result",
          "data": {
            "text/plain": [
              "[array([0.165, 0.901, 0.631], dtype=float32),\n",
              " array([0.435, 0.292, 0.643], dtype=float32)]"
            ]
          },
          "metadata": {},
          "execution_count": 34
        }
      ]
    },
    {
      "cell_type": "code",
      "source": [
        "A = tf.ones((3, ))\n",
        "B = tf.zeros((2, ))"
      ],
      "metadata": {
        "id": "QrQmZXM6TSIJ"
      },
      "execution_count": 40,
      "outputs": []
    },
    {
      "cell_type": "code",
      "source": [
        "C = tf.concat([A, B], axis=0)\n",
        "print(C.numpy())"
      ],
      "metadata": {
        "colab": {
          "base_uri": "https://localhost:8080/"
        },
        "id": "H53Hx_CiTg85",
        "outputId": "415b15c8-174e-4505-f3cb-ac3841dd78f1"
      },
      "execution_count": 41,
      "outputs": [
        {
          "output_type": "stream",
          "name": "stdout",
          "text": [
            "[1. 1. 1. 0. 0.]\n"
          ]
        }
      ]
    },
    {
      "cell_type": "code",
      "source": [
        "try:\n",
        "  D = tf.concat([A, B], axis=1)\n",
        "  print(D.numpy())\n",
        "except tf.errors.InvalidArgumentError as e:\n",
        "    print('잘못된 인덱스입니다.', e)"
      ],
      "metadata": {
        "id": "gHYDQ1x6JA7j",
        "outputId": "d564874f-e5fa-4561-b946-415b243900cf",
        "colab": {
          "base_uri": "https://localhost:8080/"
        }
      },
      "execution_count": 48,
      "outputs": [
        {
          "output_type": "stream",
          "name": "stdout",
          "text": [
            "잘못된 인덱스입니다. {{function_node __wrapped__ConcatV2_N_2_device_/job:localhost/replica:0/task:0/device:CPU:0}} ConcatOp : Expected concatenating dimensions in the range [-1, 1), but got 1 [Op:ConcatV2] name: concat\n"
          ]
        }
      ]
    },
    {
      "cell_type": "code",
      "source": [
        "A = tf.ones((3, ))\n",
        "B = tf.zeros((3, ))\n",
        "\n",
        "S = tf.stack([A, B], axis=1)\n",
        "print(S.numpy())"
      ],
      "metadata": {
        "colab": {
          "base_uri": "https://localhost:8080/"
        },
        "id": "ZmNE-LctTkbV",
        "outputId": "0068e5fb-46bc-4d9c-f0be-04c67da7b967"
      },
      "execution_count": 49,
      "outputs": [
        {
          "output_type": "stream",
          "name": "stdout",
          "text": [
            "[[1. 0.]\n",
            " [1. 0.]\n",
            " [1. 0.]]\n"
          ]
        }
      ]
    },
    {
      "cell_type": "code",
      "source": [
        "S = tf.stack([A, B], axis=0)\n",
        "print(S.numpy())"
      ],
      "metadata": {
        "colab": {
          "base_uri": "https://localhost:8080/"
        },
        "id": "pJwvs4I-Try3",
        "outputId": "06711c57-5b3c-45b8-c70e-620fa459bb8f"
      },
      "execution_count": 50,
      "outputs": [
        {
          "output_type": "stream",
          "name": "stdout",
          "text": [
            "[[1. 1. 1.]\n",
            " [0. 0. 0.]]\n"
          ]
        }
      ]
    },
    {
      "cell_type": "code",
      "source": [
        "print(A.numpy())"
      ],
      "metadata": {
        "colab": {
          "base_uri": "https://localhost:8080/"
        },
        "id": "GSk0Ln1KTwCI",
        "outputId": "272d8661-75b0-4ea5-bd03-552dc3b774f2"
      },
      "execution_count": 51,
      "outputs": [
        {
          "output_type": "stream",
          "name": "stdout",
          "text": [
            "[1. 1. 1.]\n"
          ]
        }
      ]
    },
    {
      "cell_type": "code",
      "source": [
        "a = [1.2, 3.4, 7.5, 4.1, 5.0, 1.0]\n",
        "ds = tf.data.Dataset.from_tensor_slices(a)\n",
        "print(ds)"
      ],
      "metadata": {
        "id": "Y1I6TTrvUAVj",
        "outputId": "23a16074-31b8-480b-8140-38b6a1004fcb",
        "colab": {
          "base_uri": "https://localhost:8080/"
        }
      },
      "execution_count": 52,
      "outputs": [
        {
          "output_type": "stream",
          "name": "stdout",
          "text": [
            "<_TensorSliceDataset element_spec=TensorSpec(shape=(), dtype=tf.float32, name=None)>\n"
          ]
        }
      ]
    },
    {
      "cell_type": "code",
      "source": [
        "for item in ds:\n",
        "  print(item)"
      ],
      "metadata": {
        "id": "_G_bSK4LKP5j",
        "outputId": "c22c3ace-8ffd-4ea2-a2d7-efab5496d8ef",
        "colab": {
          "base_uri": "https://localhost:8080/"
        }
      },
      "execution_count": 53,
      "outputs": [
        {
          "output_type": "stream",
          "name": "stdout",
          "text": [
            "tf.Tensor(1.2, shape=(), dtype=float32)\n",
            "tf.Tensor(3.4, shape=(), dtype=float32)\n",
            "tf.Tensor(7.5, shape=(), dtype=float32)\n",
            "tf.Tensor(4.1, shape=(), dtype=float32)\n",
            "tf.Tensor(5.0, shape=(), dtype=float32)\n",
            "tf.Tensor(1.0, shape=(), dtype=float32)\n"
          ]
        }
      ]
    },
    {
      "cell_type": "code",
      "source": [
        "ds_batch = ds.batch(3)\n",
        "\n",
        "for i, elem in enumerate(ds_batch, 100):\n",
        "  print(f\"batch {i}\", elem.numpy())"
      ],
      "metadata": {
        "id": "lymqD80hKTkh",
        "outputId": "e3f31675-9496-4d14-9d52-91c18018e3af",
        "colab": {
          "base_uri": "https://localhost:8080/"
        }
      },
      "execution_count": 54,
      "outputs": [
        {
          "output_type": "stream",
          "name": "stdout",
          "text": [
            "batch 100 [1.2 3.4 7.5]\n",
            "batch 101 [4.1 5.  1. ]\n"
          ]
        }
      ]
    },
    {
      "cell_type": "code",
      "source": [
        "tf.random.set_seed(1)\n",
        "\n",
        "t_x = tf.random.uniform([4, 3], dtype=tf.float32)\n",
        "t_y = tf.range(4)\n",
        "\n",
        "print(t_x.numpy())\n",
        "print(t_y.numpy())"
      ],
      "metadata": {
        "id": "o9QDkdq4Khge",
        "outputId": "5a5fe8a1-2e1b-4130-e488-ee96718f1e16",
        "colab": {
          "base_uri": "https://localhost:8080/"
        }
      },
      "execution_count": 55,
      "outputs": [
        {
          "output_type": "stream",
          "name": "stdout",
          "text": [
            "[[0.165 0.901 0.631]\n",
            " [0.435 0.292 0.643]\n",
            " [0.976 0.435 0.66 ]\n",
            " [0.605 0.637 0.614]]\n",
            "[0 1 2 3]\n"
          ]
        }
      ]
    },
    {
      "cell_type": "code",
      "source": [
        "ds_x = tf.data.Dataset.from_tensor_slices(t_x)\n",
        "ds_y = tf.data.Dataset.from_tensor_slices(t_y)\n",
        "\n",
        "ds_joint = tf.data.Dataset.zip((ds_x, ds_y))\n",
        "\n",
        "for example in ds_joint:\n",
        "  print(f\"  x: {example[0].numpy()}\", f\"  y: {example[1].numpy()}\")"
      ],
      "metadata": {
        "id": "FQ4bbDUUK_UN",
        "outputId": "86b738ef-177b-48df-b8ca-525e03a53b3c",
        "colab": {
          "base_uri": "https://localhost:8080/"
        }
      },
      "execution_count": 56,
      "outputs": [
        {
          "output_type": "stream",
          "name": "stdout",
          "text": [
            "  x: [0.165 0.901 0.631]   y: 0\n",
            "  x: [0.435 0.292 0.643]   y: 1\n",
            "  x: [0.976 0.435 0.66 ]   y: 2\n",
            "  x: [0.605 0.637 0.614]   y: 3\n"
          ]
        }
      ]
    },
    {
      "cell_type": "code",
      "source": [
        "ds_joint.element_spec"
      ],
      "metadata": {
        "id": "_I24jv9qLbFw",
        "outputId": "c2e52600-ba81-46ae-82c0-b758b68e2011",
        "colab": {
          "base_uri": "https://localhost:8080/"
        }
      },
      "execution_count": 68,
      "outputs": [
        {
          "output_type": "execute_result",
          "data": {
            "text/plain": [
              "(TensorSpec(shape=(3,), dtype=tf.float32, name=None),\n",
              " TensorSpec(shape=(), dtype=tf.int32, name=None))"
            ]
          },
          "metadata": {},
          "execution_count": 68
        }
      ]
    },
    {
      "cell_type": "code",
      "source": [
        "ds_trans = ds_joint.map(lambda x, y: (x*2-1., y))\n",
        "\n",
        "for example in ds_trans:\n",
        "  print(f\"  x: {example[0].numpy()}\", f\"  y: {example[1].numpy()}\")"
      ],
      "metadata": {
        "id": "uA3U9DV8LgGS",
        "outputId": "4912b817-5a9f-4cbe-ad1c-ba64a7f066cc",
        "colab": {
          "base_uri": "https://localhost:8080/"
        }
      },
      "execution_count": 69,
      "outputs": [
        {
          "output_type": "stream",
          "name": "stdout",
          "text": [
            "  x: [-0.67   0.803  0.262]   y: 0\n",
            "  x: [-0.131 -0.416  0.285]   y: 1\n",
            "  x: [ 0.952 -0.13   0.32 ]   y: 2\n",
            "  x: [0.21  0.273 0.229]   y: 3\n"
          ]
        }
      ]
    },
    {
      "cell_type": "code",
      "source": [
        "tf.random.set_seed(1)\n",
        "ds = ds_joint.shuffle(buffer_size=len(t_x))\n",
        "\n",
        "for example in ds:\n",
        "  print(f\"  x: {example[0].numpy()}\", f\"  y: {example[1].numpy()}\")"
      ],
      "metadata": {
        "id": "OQ8DOa8YMJq9",
        "outputId": "0e1a94c5-d133-4f01-88bd-33178c4121e5",
        "colab": {
          "base_uri": "https://localhost:8080/"
        }
      },
      "execution_count": 70,
      "outputs": [
        {
          "output_type": "stream",
          "name": "stdout",
          "text": [
            "  x: [0.976 0.435 0.66 ]   y: 2\n",
            "  x: [0.435 0.292 0.643]   y: 1\n",
            "  x: [0.165 0.901 0.631]   y: 0\n",
            "  x: [0.605 0.637 0.614]   y: 3\n"
          ]
        }
      ]
    },
    {
      "cell_type": "code",
      "source": [
        "ds = ds_joint.batch(batch_size=3,\n",
        "                    drop_remainder=False)\n",
        "\n",
        "batch_x, batch_y = next(iter(ds))\n",
        "\n",
        "print(f\"batch x: \\n {batch_x.numpy()}\")\n",
        "print(f\"batch y:    {batch_y.numpy()}\")"
      ],
      "metadata": {
        "id": "TrbWFP1ONT8V",
        "outputId": "c793a639-6b9e-4f3b-f169-b54f975b6f85",
        "colab": {
          "base_uri": "https://localhost:8080/"
        }
      },
      "execution_count": 71,
      "outputs": [
        {
          "output_type": "stream",
          "name": "stdout",
          "text": [
            "batch x: \n",
            " [[0.165 0.901 0.631]\n",
            " [0.435 0.292 0.643]\n",
            " [0.976 0.435 0.66 ]]\n",
            "batch y:    [0 1 2]\n"
          ]
        }
      ]
    },
    {
      "cell_type": "code",
      "source": [
        "ds = ds_joint.batch(3).repeat(count=2)\n",
        "for i, (batch_x, batch_y) in enumerate(ds):\n",
        "  print(i, batch_x.shape, batch_y.numpy())"
      ],
      "metadata": {
        "id": "FpLeF0JANmg_",
        "outputId": "a1ff9a5e-8832-4006-c787-9cf5d8b4be77",
        "colab": {
          "base_uri": "https://localhost:8080/"
        }
      },
      "execution_count": 73,
      "outputs": [
        {
          "output_type": "stream",
          "name": "stdout",
          "text": [
            "0 (3, 3) [0 1 2]\n",
            "1 (1, 3) [3]\n",
            "2 (3, 3) [0 1 2]\n",
            "3 (1, 3) [3]\n"
          ]
        }
      ]
    },
    {
      "cell_type": "code",
      "source": [
        "ds = ds_joint.repeat(count=2).batch(3)\n",
        "for i, (batch_x, batch_y) in enumerate(ds):\n",
        "  print(i, batch_x.shape, batch_y.numpy())"
      ],
      "metadata": {
        "id": "G6qjdY_YOSLh",
        "outputId": "11ac1965-984e-43e7-a6a9-9aec8e635c9e",
        "colab": {
          "base_uri": "https://localhost:8080/"
        }
      },
      "execution_count": 74,
      "outputs": [
        {
          "output_type": "stream",
          "name": "stdout",
          "text": [
            "0 (3, 3) [0 1 2]\n",
            "1 (3, 3) [3 0 1]\n",
            "2 (2, 3) [2 3]\n"
          ]
        }
      ]
    },
    {
      "cell_type": "code",
      "source": [
        "ds = ds_joint\n",
        "\n",
        "for i, (batch_x, batch_y) in enumerate(ds):\n",
        "  print(i, batch_x.shape, batch_y.numpy())"
      ],
      "metadata": {
        "id": "tIo3nAdkPyM0",
        "outputId": "05704298-0d59-413b-a440-4d66ed52bb72",
        "colab": {
          "base_uri": "https://localhost:8080/"
        }
      },
      "execution_count": 77,
      "outputs": [
        {
          "output_type": "stream",
          "name": "stdout",
          "text": [
            "0 (3,) 0\n",
            "1 (3,) 1\n",
            "2 (3,) 2\n",
            "3 (3,) 3\n"
          ]
        }
      ]
    },
    {
      "cell_type": "code",
      "source": [
        "tf.random.set_seed(1)\n",
        "\n",
        "ds = ds_joint.shuffle(4).batch(2).repeat(3)\n",
        "for i, (batch_x, batch_y) in enumerate(ds):\n",
        "  print(i, batch_x.shape, batch_y.numpy())"
      ],
      "metadata": {
        "id": "HgmLedg7OdeV",
        "outputId": "176d3ddb-61da-4efe-bf6b-ec9e27b143d5",
        "colab": {
          "base_uri": "https://localhost:8080/"
        }
      },
      "execution_count": 78,
      "outputs": [
        {
          "output_type": "stream",
          "name": "stdout",
          "text": [
            "0 (2, 3) [2 1]\n",
            "1 (2, 3) [0 3]\n",
            "2 (2, 3) [0 3]\n",
            "3 (2, 3) [1 2]\n",
            "4 (2, 3) [3 0]\n",
            "5 (2, 3) [1 2]\n"
          ]
        }
      ]
    },
    {
      "cell_type": "code",
      "source": [
        "tf.random.set_seed(1)\n",
        "ds = ds_joint.batch(2).shuffle(4).repeat(3)\n",
        "for i, (batch_x, batch_y) in enumerate(ds):\n",
        "  print(i, batch_x.shape, batch_y.numpy())"
      ],
      "metadata": {
        "id": "6WK2PiXtP6zr",
        "outputId": "781444e6-4fd4-482f-e54d-7e81067cafc3",
        "colab": {
          "base_uri": "https://localhost:8080/"
        }
      },
      "execution_count": 86,
      "outputs": [
        {
          "output_type": "stream",
          "name": "stdout",
          "text": [
            "0 (2, 3) [0 1]\n",
            "1 (2, 3) [2 3]\n",
            "2 (2, 3) [0 1]\n",
            "3 (2, 3) [2 3]\n",
            "4 (2, 3) [2 3]\n",
            "5 (2, 3) [0 1]\n"
          ]
        }
      ]
    },
    {
      "cell_type": "code",
      "source": [
        "ds = ds_joint.batch(2).repeat(3).shuffle(4)\n",
        "for i, (batch_x, batch_y) in enumerate(ds):\n",
        "  print(i, batch_x.shape, batch_y.numpy())"
      ],
      "metadata": {
        "id": "wD1cj5hGQYiK",
        "outputId": "a2050477-4f3f-4d34-cb16-2ddb1883976b",
        "colab": {
          "base_uri": "https://localhost:8080/"
        }
      },
      "execution_count": 88,
      "outputs": [
        {
          "output_type": "stream",
          "name": "stdout",
          "text": [
            "0 (2, 3) [0 1]\n",
            "1 (2, 3) [0 1]\n",
            "2 (2, 3) [0 1]\n",
            "3 (2, 3) [2 3]\n",
            "4 (2, 3) [2 3]\n",
            "5 (2, 3) [2 3]\n"
          ]
        }
      ]
    },
    {
      "cell_type": "code",
      "source": [],
      "metadata": {
        "id": "-MyYFVBLQeU0"
      },
      "execution_count": null,
      "outputs": []
    }
  ]
}