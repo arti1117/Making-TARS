{
  "nbformat": 4,
  "nbformat_minor": 0,
  "metadata": {
    "colab": {
      "provenance": [],
      "authorship_tag": "ABX9TyOhij7hpXmnb5f140Tljfta"
    },
    "kernelspec": {
      "name": "python3",
      "display_name": "Python 3"
    },
    "language_info": {
      "name": "python"
    }
  },
  "cells": [
    {
      "cell_type": "code",
      "execution_count": 1,
      "metadata": {
        "id": "e2R6nDF_Pz5W"
      },
      "outputs": [],
      "source": [
        "from IPython.display import Image"
      ]
    },
    {
      "cell_type": "code",
      "source": [
        "Image(url='https://git.io/JL5iw', width=800)"
      ],
      "metadata": {
        "id": "gPcgOo55SQZN",
        "colab": {
          "base_uri": "https://localhost:8080/",
          "height": 271
        },
        "outputId": "ee4ac0f4-16bc-4217-fb07-091b209f809c"
      },
      "execution_count": 2,
      "outputs": [
        {
          "output_type": "execute_result",
          "data": {
            "text/html": [
              "<img src=\"https://git.io/JL5iw\" width=\"800\"/>"
            ],
            "text/plain": [
              "<IPython.core.display.Image object>"
            ]
          },
          "metadata": {},
          "execution_count": 2
        }
      ]
    },
    {
      "cell_type": "code",
      "source": [
        "Image(url='https://git.io/JL5io', width=500)"
      ],
      "metadata": {
        "id": "Cphj2ly2aEQN",
        "colab": {
          "base_uri": "https://localhost:8080/",
          "height": 328
        },
        "outputId": "01418593-535f-40ef-ea61-fd0f40f4e8de"
      },
      "execution_count": 3,
      "outputs": [
        {
          "output_type": "execute_result",
          "data": {
            "text/html": [
              "<img src=\"https://git.io/JL5io\" width=\"500\"/>"
            ],
            "text/plain": [
              "<IPython.core.display.Image object>"
            ]
          },
          "metadata": {},
          "execution_count": 3
        }
      ]
    },
    {
      "cell_type": "code",
      "source": [
        "import tensorflow as tf\n",
        "print('텐서플로 버전:', tf.__version__)\n",
        "import numpy as np\n",
        "\n",
        "np.set_printoptions(precision=3)"
      ],
      "metadata": {
        "colab": {
          "base_uri": "https://localhost:8080/"
        },
        "id": "o68KYlzDPiq2",
        "outputId": "eafefe29-efb4-4a6a-c353-119a602f3900"
      },
      "execution_count": 4,
      "outputs": [
        {
          "output_type": "stream",
          "name": "stdout",
          "text": [
            "텐서플로 버전: 2.12.0\n"
          ]
        }
      ]
    },
    {
      "cell_type": "code",
      "source": [
        "! python -c 'import tensorflow as tf; print(tf.__version__)'"
      ],
      "metadata": {
        "colab": {
          "base_uri": "https://localhost:8080/"
        },
        "id": "wRJVfsxoPlfZ",
        "outputId": "1ca25d62-b3af-4e13-cf8b-cab5b7080b34"
      },
      "execution_count": 5,
      "outputs": [
        {
          "output_type": "stream",
          "name": "stdout",
          "text": [
            "2023-04-02 09:13:59.461249: W tensorflow/compiler/tf2tensorrt/utils/py_utils.cc:38] TF-TRT Warning: Could not find TensorRT\n",
            "2.12.0\n"
          ]
        }
      ]
    },
    {
      "cell_type": "code",
      "source": [
        "a = np.array([1, 2, 3], dtype=np.int32)\n",
        "b = [4, 5, 6]"
      ],
      "metadata": {
        "id": "JBPdVi0jPqRq"
      },
      "execution_count": 6,
      "outputs": []
    },
    {
      "cell_type": "code",
      "source": [
        "t_a = tf.convert_to_tensor(a)\n",
        "t_b = tf.convert_to_tensor(b)\n",
        "\n",
        "print(t_a)\n",
        "print(t_b)"
      ],
      "metadata": {
        "colab": {
          "base_uri": "https://localhost:8080/"
        },
        "id": "PcrEkzcZPwNM",
        "outputId": "d84e1dd3-30ef-4cc3-866a-ac4514cae9f4"
      },
      "execution_count": 7,
      "outputs": [
        {
          "output_type": "stream",
          "name": "stdout",
          "text": [
            "tf.Tensor([1 2 3], shape=(3,), dtype=int32)\n",
            "tf.Tensor([4 5 6], shape=(3,), dtype=int32)\n"
          ]
        }
      ]
    },
    {
      "cell_type": "code",
      "source": [
        "tf.is_tensor(a), tf.is_tensor(t_a)"
      ],
      "metadata": {
        "colab": {
          "base_uri": "https://localhost:8080/"
        },
        "id": "7tWPFsgMP1U-",
        "outputId": "a7b3b770-de6c-4cc7-f072-9e73e6f30f80"
      },
      "execution_count": 8,
      "outputs": [
        {
          "output_type": "execute_result",
          "data": {
            "text/plain": [
              "(False, True)"
            ]
          },
          "metadata": {},
          "execution_count": 8
        }
      ]
    },
    {
      "cell_type": "code",
      "source": [
        "t_ones = tf.ones((2, 3))\n",
        "t_ones.shape"
      ],
      "metadata": {
        "colab": {
          "base_uri": "https://localhost:8080/"
        },
        "id": "U2z5tm3EP5YA",
        "outputId": "8c8f8a31-a35f-4ee5-f27b-2b9f6d0cb8bd"
      },
      "execution_count": 9,
      "outputs": [
        {
          "output_type": "execute_result",
          "data": {
            "text/plain": [
              "TensorShape([2, 3])"
            ]
          },
          "metadata": {},
          "execution_count": 9
        }
      ]
    },
    {
      "cell_type": "code",
      "source": [
        "t_ones.numpy()"
      ],
      "metadata": {
        "colab": {
          "base_uri": "https://localhost:8080/"
        },
        "id": "69AGXfedP9G2",
        "outputId": "b63934fc-4bf5-48eb-daaa-ffa291244e08"
      },
      "execution_count": 10,
      "outputs": [
        {
          "output_type": "execute_result",
          "data": {
            "text/plain": [
              "array([[1., 1., 1.],\n",
              "       [1., 1., 1.]], dtype=float32)"
            ]
          },
          "metadata": {},
          "execution_count": 10
        }
      ]
    },
    {
      "cell_type": "code",
      "source": [
        "const_tensor = tf.constant([1.2, 5, np.pi], dtype=tf.float32)\n",
        "print(const_tensor)"
      ],
      "metadata": {
        "colab": {
          "base_uri": "https://localhost:8080/"
        },
        "id": "6bx1u0AYQONP",
        "outputId": "f1b9e913-1b83-46bb-f4da-fbc338a31640"
      },
      "execution_count": 11,
      "outputs": [
        {
          "output_type": "stream",
          "name": "stdout",
          "text": [
            "tf.Tensor([1.2   5.    3.142], shape=(3,), dtype=float32)\n"
          ]
        }
      ]
    },
    {
      "cell_type": "code",
      "source": [
        "tf.fill((2, 3), 1)"
      ],
      "metadata": {
        "colab": {
          "base_uri": "https://localhost:8080/"
        },
        "id": "MpT1v7xZQXOg",
        "outputId": "d769d73b-cc3f-4515-a9ca-acfa1c1c3ad4"
      },
      "execution_count": 12,
      "outputs": [
        {
          "output_type": "execute_result",
          "data": {
            "text/plain": [
              "<tf.Tensor: shape=(2, 3), dtype=int32, numpy=\n",
              "array([[1, 1, 1],\n",
              "       [1, 1, 1]], dtype=int32)>"
            ]
          },
          "metadata": {},
          "execution_count": 12
        }
      ]
    },
    {
      "cell_type": "code",
      "source": [
        "tf.one_hot([0, 1, 3], 5)"
      ],
      "metadata": {
        "colab": {
          "base_uri": "https://localhost:8080/"
        },
        "id": "N0M_zce8Qh7V",
        "outputId": "45434f12-696d-451c-d75d-81cc97ed18f6"
      },
      "execution_count": 13,
      "outputs": [
        {
          "output_type": "execute_result",
          "data": {
            "text/plain": [
              "<tf.Tensor: shape=(3, 5), dtype=float32, numpy=\n",
              "array([[1., 0., 0., 0., 0.],\n",
              "       [0., 1., 0., 0., 0.],\n",
              "       [0., 0., 0., 1., 0.]], dtype=float32)>"
            ]
          },
          "metadata": {},
          "execution_count": 13
        }
      ]
    },
    {
      "cell_type": "code",
      "source": [
        "t_a_new = tf.cast(t_a, tf.int64)\n",
        "print(t_a)\n",
        "print(t_a_new)"
      ],
      "metadata": {
        "colab": {
          "base_uri": "https://localhost:8080/"
        },
        "id": "V7EHVLHWQm3r",
        "outputId": "11795c2d-c8d0-4554-ab32-46c0e3c3e043"
      },
      "execution_count": 14,
      "outputs": [
        {
          "output_type": "stream",
          "name": "stdout",
          "text": [
            "tf.Tensor([1 2 3], shape=(3,), dtype=int32)\n",
            "tf.Tensor([1 2 3], shape=(3,), dtype=int64)\n"
          ]
        }
      ]
    },
    {
      "cell_type": "code",
      "source": [
        "t = tf.random.uniform(shape=(3, 5))\n",
        "t_tr = tf.transpose(t)\n",
        "print(f'{t.shape} --> {t_tr.shape}')"
      ],
      "metadata": {
        "colab": {
          "base_uri": "https://localhost:8080/"
        },
        "id": "VNmuxVn_QtBE",
        "outputId": "66df6ecd-e2c8-4f40-cd23-db2f643e9708"
      },
      "execution_count": 15,
      "outputs": [
        {
          "output_type": "stream",
          "name": "stdout",
          "text": [
            "(3, 5) --> (5, 3)\n"
          ]
        }
      ]
    },
    {
      "cell_type": "code",
      "source": [
        "t = tf.zeros((30, ))\n",
        "t_reshape = tf.reshape(t, shape=(5, 6))\n",
        "print(f\"{t.shape} --> {t_reshape.shape}\")"
      ],
      "metadata": {
        "colab": {
          "base_uri": "https://localhost:8080/"
        },
        "id": "dnmGPQNaQ2w0",
        "outputId": "a418e61e-15bd-4a68-f866-d80008cfa6fc"
      },
      "execution_count": 16,
      "outputs": [
        {
          "output_type": "stream",
          "name": "stdout",
          "text": [
            "(30,) --> (5, 6)\n"
          ]
        }
      ]
    },
    {
      "cell_type": "code",
      "source": [
        "t = tf.zeros((1, 2, 1, 4, 1))\n",
        "t_sqz = tf.squeeze(t, axis=(2, 4))\n",
        "print(f\"{t.shape} --> {t_sqz.shape}\")"
      ],
      "metadata": {
        "colab": {
          "base_uri": "https://localhost:8080/"
        },
        "id": "uz36aRp_Q_v9",
        "outputId": "f7b5cb19-44d4-4939-c7b9-1c05df014ea7"
      },
      "execution_count": 17,
      "outputs": [
        {
          "output_type": "stream",
          "name": "stdout",
          "text": [
            "(1, 2, 1, 4, 1) --> (1, 2, 4)\n"
          ]
        }
      ]
    },
    {
      "cell_type": "code",
      "source": [
        "t"
      ],
      "metadata": {
        "colab": {
          "base_uri": "https://localhost:8080/"
        },
        "id": "BCVHTtAPRIzL",
        "outputId": "7d5ce9fc-9255-4913-9ed9-d3efef28ce60"
      },
      "execution_count": 18,
      "outputs": [
        {
          "output_type": "execute_result",
          "data": {
            "text/plain": [
              "<tf.Tensor: shape=(1, 2, 1, 4, 1), dtype=float32, numpy=\n",
              "array([[[[[0.],\n",
              "          [0.],\n",
              "          [0.],\n",
              "          [0.]]],\n",
              "\n",
              "\n",
              "        [[[0.],\n",
              "          [0.],\n",
              "          [0.],\n",
              "          [0.]]]]], dtype=float32)>"
            ]
          },
          "metadata": {},
          "execution_count": 18
        }
      ]
    },
    {
      "cell_type": "code",
      "source": [
        "t_sqz"
      ],
      "metadata": {
        "colab": {
          "base_uri": "https://localhost:8080/"
        },
        "id": "J02mW8vNRKeB",
        "outputId": "050d4250-4473-415f-fd39-a0185b5ee23e"
      },
      "execution_count": 19,
      "outputs": [
        {
          "output_type": "execute_result",
          "data": {
            "text/plain": [
              "<tf.Tensor: shape=(1, 2, 4), dtype=float32, numpy=\n",
              "array([[[0., 0., 0., 0.],\n",
              "        [0., 0., 0., 0.]]], dtype=float32)>"
            ]
          },
          "metadata": {},
          "execution_count": 19
        }
      ]
    },
    {
      "cell_type": "code",
      "source": [
        "tf.random.set_seed(1)\n",
        "t1 = tf.random.uniform(shape=(5, 2),\n",
        "                       minval=-1.0,\n",
        "                       maxval=1.0)\n",
        "t2 = tf.random.normal(shape=(5, 2),\n",
        "                      mean=0.0,\n",
        "                      stddev=1.0)"
      ],
      "metadata": {
        "id": "jDKCnAFvRLkb"
      },
      "execution_count": 21,
      "outputs": []
    },
    {
      "cell_type": "code",
      "source": [
        "t3 = tf.multiply(t1, t2).numpy()\n",
        "print(t3)"
      ],
      "metadata": {
        "colab": {
          "base_uri": "https://localhost:8080/"
        },
        "id": "bnszsagTRoMs",
        "outputId": "cffe31d1-6685-43c7-c59d-5e4c1dbaa679"
      },
      "execution_count": 22,
      "outputs": [
        {
          "output_type": "stream",
          "name": "stdout",
          "text": [
            "[[-0.27  -0.874]\n",
            " [-0.017 -0.175]\n",
            " [-0.296 -0.139]\n",
            " [-0.727  0.135]\n",
            " [-0.401  0.004]]\n"
          ]
        }
      ]
    },
    {
      "cell_type": "code",
      "source": [
        "t4 = tf.math.reduce_mean(t1, axis=0)\n",
        "print(t4)"
      ],
      "metadata": {
        "colab": {
          "base_uri": "https://localhost:8080/"
        },
        "id": "YYGTQ5EORv2T",
        "outputId": "bedac34b-9b20-49b5-d6c1-582e4e8a7dd2"
      },
      "execution_count": 27,
      "outputs": [
        {
          "output_type": "stream",
          "name": "stdout",
          "text": [
            "tf.Tensor([0.09  0.207], shape=(2,), dtype=float32)\n"
          ]
        }
      ]
    },
    {
      "cell_type": "code",
      "source": [
        "t4 = tf.math.reduce_mean(t1, axis=1)\n",
        "print(t4)"
      ],
      "metadata": {
        "colab": {
          "base_uri": "https://localhost:8080/"
        },
        "id": "EjeGUhaPRzwj",
        "outputId": "fb0bcc6a-e308-43d0-a5ea-a2396e40070b"
      },
      "execution_count": 26,
      "outputs": [
        {
          "output_type": "stream",
          "name": "stdout",
          "text": [
            "tf.Tensor([ 0.067  0.066 -0.066  0.411  0.265], shape=(5,), dtype=float32)\n"
          ]
        }
      ]
    },
    {
      "cell_type": "code",
      "source": [
        "print(t1)"
      ],
      "metadata": {
        "colab": {
          "base_uri": "https://localhost:8080/"
        },
        "id": "z2nrhZDbR2S7",
        "outputId": "e1716e41-88bf-47fe-9cd1-46c9a849df45"
      },
      "execution_count": 28,
      "outputs": [
        {
          "output_type": "execute_result",
          "data": {
            "text/plain": [
              "<tf.Tensor: shape=(5, 2), dtype=float32, numpy=\n",
              "array([[-0.67 ,  0.803],\n",
              "       [ 0.262, -0.131],\n",
              "       [-0.416,  0.285],\n",
              "       [ 0.952, -0.13 ],\n",
              "       [ 0.32 ,  0.21 ]], dtype=float32)>"
            ]
          },
          "metadata": {},
          "execution_count": 28
        }
      ]
    },
    {
      "cell_type": "code",
      "source": [
        "t5 = tf.linalg.matmul(t1, t2, transpose_b=True)\n",
        "print(t5.numpy())"
      ],
      "metadata": {
        "colab": {
          "base_uri": "https://localhost:8080/"
        },
        "id": "63le3376R9qd",
        "outputId": "44dcce90-6a8f-4b2a-8a82-b6fb0b536727"
      },
      "execution_count": 29,
      "outputs": [
        {
          "output_type": "stream",
          "name": "stdout",
          "text": [
            "[[-1.144  1.115 -0.87  -0.321  0.856]\n",
            " [ 0.248 -0.191  0.25  -0.064 -0.331]\n",
            " [-0.478  0.407 -0.436  0.022  0.527]\n",
            " [ 0.525 -0.234  0.741 -0.593 -1.194]\n",
            " [-0.099  0.26   0.125 -0.462 -0.396]]\n"
          ]
        }
      ]
    },
    {
      "cell_type": "code",
      "source": [
        "t6 = tf.linalg.matmul(t1, t2, transpose_a=True)\n",
        "\n",
        "print(t6.numpy())"
      ],
      "metadata": {
        "colab": {
          "base_uri": "https://localhost:8080/"
        },
        "id": "qy3dYyp0SI10",
        "outputId": "ab0f8f91-c37d-4084-e83d-31e0c606a66b"
      },
      "execution_count": 30,
      "outputs": [
        {
          "output_type": "stream",
          "name": "stdout",
          "text": [
            "[[-1.711  0.302]\n",
            " [ 0.371 -1.049]]\n"
          ]
        }
      ]
    },
    {
      "cell_type": "code",
      "source": [
        "norm_t1 = tf.norm(t1, ord=2, axis=1).numpy()\n",
        "print(norm_t1)"
      ],
      "metadata": {
        "colab": {
          "base_uri": "https://localhost:8080/"
        },
        "id": "V-u03T-USLQU",
        "outputId": "832aa6e3-4dc7-46a2-d302-20c923aa5177"
      },
      "execution_count": 31,
      "outputs": [
        {
          "output_type": "stream",
          "name": "stdout",
          "text": [
            "[1.046 0.293 0.504 0.96  0.383]\n"
          ]
        }
      ]
    },
    {
      "cell_type": "code",
      "source": [
        "norm_t1 = tf.norm(t1, ord=2, axis=0).numpy()\n",
        "print(norm_t1)"
      ],
      "metadata": {
        "colab": {
          "base_uri": "https://localhost:8080/"
        },
        "id": "fh9drkdiSPyC",
        "outputId": "e486c884-1ab2-491c-adbf-0960b8db2462"
      },
      "execution_count": 32,
      "outputs": [
        {
          "output_type": "stream",
          "name": "stdout",
          "text": [
            "[1.303 0.897]\n"
          ]
        }
      ]
    },
    {
      "cell_type": "code",
      "source": [
        "np.sqrt(np.sum(np.square(t1), axis=1))"
      ],
      "metadata": {
        "colab": {
          "base_uri": "https://localhost:8080/"
        },
        "id": "CEE6mpVpSR4k",
        "outputId": "f54f625f-f734-4f94-bb94-f1d7107d14fc"
      },
      "execution_count": 33,
      "outputs": [
        {
          "output_type": "execute_result",
          "data": {
            "text/plain": [
              "array([1.046, 0.293, 0.504, 0.96 , 0.383], dtype=float32)"
            ]
          },
          "metadata": {},
          "execution_count": 33
        }
      ]
    },
    {
      "cell_type": "code",
      "source": [
        "t1 @ tf.transpose(t2)"
      ],
      "metadata": {
        "colab": {
          "base_uri": "https://localhost:8080/"
        },
        "id": "LyceThDeSWxt",
        "outputId": "3fd9440f-a6ec-4c05-8645-d3320c14366a"
      },
      "execution_count": 34,
      "outputs": [
        {
          "output_type": "execute_result",
          "data": {
            "text/plain": [
              "<tf.Tensor: shape=(5, 5), dtype=float32, numpy=\n",
              "array([[-1.144,  1.115, -0.87 , -0.321,  0.856],\n",
              "       [ 0.248, -0.191,  0.25 , -0.064, -0.331],\n",
              "       [-0.478,  0.407, -0.436,  0.022,  0.527],\n",
              "       [ 0.525, -0.234,  0.741, -0.593, -1.194],\n",
              "       [-0.099,  0.26 ,  0.125, -0.462, -0.396]], dtype=float32)>"
            ]
          },
          "metadata": {},
          "execution_count": 34
        }
      ]
    },
    {
      "cell_type": "code",
      "source": [
        "import tensorflow.experimental.numpy as tnp\n",
        "tnp.experimental_enable_numpy_behavior()\n",
        "\n",
        "tn1 = tnp.array(t1)\n",
        "tn2 = tnp.array(t2)\n",
        "\n",
        "print(tnp.dot(tn1, tn2.T))"
      ],
      "metadata": {
        "colab": {
          "base_uri": "https://localhost:8080/"
        },
        "id": "_DmyqaN0SeoW",
        "outputId": "bc2f6c8c-8b73-4e1f-f7f7-377639fa82b9"
      },
      "execution_count": 36,
      "outputs": [
        {
          "output_type": "stream",
          "name": "stdout",
          "text": [
            "tf.Tensor(\n",
            "[[-1.144  1.115 -0.87  -0.321  0.856]\n",
            " [ 0.248 -0.191  0.25  -0.064 -0.331]\n",
            " [-0.478  0.407 -0.436  0.022  0.527]\n",
            " [ 0.525 -0.234  0.741 -0.593 -1.194]\n",
            " [-0.099  0.26   0.125 -0.462 -0.396]], shape=(5, 5), dtype=float32)\n"
          ]
        }
      ]
    },
    {
      "cell_type": "code",
      "source": [
        "tf.random.set_seed(1)\n",
        "t = tf.random.uniform((6, ))\n",
        "print(t.numpy())"
      ],
      "metadata": {
        "colab": {
          "base_uri": "https://localhost:8080/"
        },
        "id": "RQx1yQ5WS0Ew",
        "outputId": "d98e53d1-4f70-497f-a9c7-36a8f8e0d92a"
      },
      "execution_count": 37,
      "outputs": [
        {
          "output_type": "stream",
          "name": "stdout",
          "text": [
            "[0.165 0.901 0.631 0.435 0.292 0.643]\n"
          ]
        }
      ]
    },
    {
      "cell_type": "code",
      "source": [
        "t_splits = tf.split(t, 3)\n",
        "[item.numpy() for item in t_splits]"
      ],
      "metadata": {
        "colab": {
          "base_uri": "https://localhost:8080/"
        },
        "id": "CIAHSNBFSrve",
        "outputId": "db9e3aa4-f321-47f3-80ba-aeafd8553310"
      },
      "execution_count": 38,
      "outputs": [
        {
          "output_type": "execute_result",
          "data": {
            "text/plain": [
              "[array([0.165, 0.901], dtype=float32),\n",
              " array([0.631, 0.435], dtype=float32),\n",
              " array([0.292, 0.643], dtype=float32)]"
            ]
          },
          "metadata": {},
          "execution_count": 38
        }
      ]
    },
    {
      "cell_type": "code",
      "source": [
        "[item.numpy() for item in tf.split(t, 2)]"
      ],
      "metadata": {
        "colab": {
          "base_uri": "https://localhost:8080/"
        },
        "id": "Ff-m4j7wTLB4",
        "outputId": "8a551ace-675a-44c7-cfa2-12c523a3f72a"
      },
      "execution_count": 39,
      "outputs": [
        {
          "output_type": "execute_result",
          "data": {
            "text/plain": [
              "[array([0.165, 0.901, 0.631], dtype=float32),\n",
              " array([0.435, 0.292, 0.643], dtype=float32)]"
            ]
          },
          "metadata": {},
          "execution_count": 39
        }
      ]
    },
    {
      "cell_type": "code",
      "source": [
        "A = tf.ones((3, ))\n",
        "B = tf.zeros((2, ))"
      ],
      "metadata": {
        "id": "QrQmZXM6TSIJ"
      },
      "execution_count": 49,
      "outputs": []
    },
    {
      "cell_type": "code",
      "source": [
        "C = tf.concat([A, B], axis=0)\n",
        "print(C.numpy())"
      ],
      "metadata": {
        "colab": {
          "base_uri": "https://localhost:8080/"
        },
        "id": "H53Hx_CiTg85",
        "outputId": "192a9cb1-b409-4581-c982-60472e0a3b78"
      },
      "execution_count": 50,
      "outputs": [
        {
          "output_type": "stream",
          "name": "stdout",
          "text": [
            "[1. 1. 1. 0. 0.]\n"
          ]
        }
      ]
    },
    {
      "cell_type": "code",
      "source": [
        "A = tf.ones((3, ))\n",
        "B = tf.zeros((3, ))\n",
        "\n",
        "S = tf.stack([A, B], axis=1)\n",
        "print(S.numpy())"
      ],
      "metadata": {
        "colab": {
          "base_uri": "https://localhost:8080/"
        },
        "id": "ZmNE-LctTkbV",
        "outputId": "649a65eb-e569-4d6f-becc-189914a8457b"
      },
      "execution_count": 52,
      "outputs": [
        {
          "output_type": "stream",
          "name": "stdout",
          "text": [
            "[[1. 0.]\n",
            " [1. 0.]\n",
            " [1. 0.]]\n"
          ]
        }
      ]
    },
    {
      "cell_type": "code",
      "source": [
        "S = tf.stack([A, B], axis=0)\n",
        "print(S.numpy())"
      ],
      "metadata": {
        "colab": {
          "base_uri": "https://localhost:8080/"
        },
        "id": "pJwvs4I-Try3",
        "outputId": "f39be632-bc87-4ae7-d73c-050e37a2ff35"
      },
      "execution_count": 53,
      "outputs": [
        {
          "output_type": "stream",
          "name": "stdout",
          "text": [
            "[[1. 1. 1.]\n",
            " [0. 0. 0.]]\n"
          ]
        }
      ]
    },
    {
      "cell_type": "code",
      "source": [
        "print(A.numpy())"
      ],
      "metadata": {
        "colab": {
          "base_uri": "https://localhost:8080/"
        },
        "id": "GSk0Ln1KTwCI",
        "outputId": "31962c3c-7db8-40f6-bb02-7b9b6a1fb61f"
      },
      "execution_count": 54,
      "outputs": [
        {
          "output_type": "stream",
          "name": "stdout",
          "text": [
            "[1. 1. 1.]\n"
          ]
        }
      ]
    },
    {
      "cell_type": "code",
      "source": [],
      "metadata": {
        "id": "Y1I6TTrvUAVj"
      },
      "execution_count": null,
      "outputs": []
    }
  ]
}