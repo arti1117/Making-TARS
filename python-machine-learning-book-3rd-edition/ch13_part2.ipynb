{
  "nbformat": 4,
  "nbformat_minor": 0,
  "metadata": {
    "colab": {
      "provenance": [],
      "authorship_tag": "ABX9TyOPZGlg9AMNXAsP8uQsDIiJ"
    },
    "kernelspec": {
      "name": "python3",
      "display_name": "Python 3"
    },
    "language_info": {
      "name": "python"
    },
    "widgets": {
      "application/vnd.jupyter.widget-state+json": {
        "e599744a1d264d94bd5ac5188b1ee726": {
          "model_module": "@jupyter-widgets/controls",
          "model_name": "HBoxModel",
          "model_module_version": "1.5.0",
          "state": {
            "_dom_classes": [],
            "_model_module": "@jupyter-widgets/controls",
            "_model_module_version": "1.5.0",
            "_model_name": "HBoxModel",
            "_view_count": null,
            "_view_module": "@jupyter-widgets/controls",
            "_view_module_version": "1.5.0",
            "_view_name": "HBoxView",
            "box_style": "",
            "children": [
              "IPY_MODEL_73fa35c2809d4f6abdce44b809e267e9",
              "IPY_MODEL_7bef3eecf55d4798b410b9b5ef0e0c21",
              "IPY_MODEL_01cc286ccac04ac98968509d23ce9d3d"
            ],
            "layout": "IPY_MODEL_61bb72e6fd1344d1b3c9e289a5ddb801"
          }
        },
        "73fa35c2809d4f6abdce44b809e267e9": {
          "model_module": "@jupyter-widgets/controls",
          "model_name": "HTMLModel",
          "model_module_version": "1.5.0",
          "state": {
            "_dom_classes": [],
            "_model_module": "@jupyter-widgets/controls",
            "_model_module_version": "1.5.0",
            "_model_name": "HTMLModel",
            "_view_count": null,
            "_view_module": "@jupyter-widgets/controls",
            "_view_module_version": "1.5.0",
            "_view_name": "HTMLView",
            "description": "",
            "description_tooltip": null,
            "layout": "IPY_MODEL_dc883735c8784e0a95d3ef390047e682",
            "placeholder": "​",
            "style": "IPY_MODEL_fd34dad228df4b66b6786d163b244b3c",
            "value": "Dl Completed...: 100%"
          }
        },
        "7bef3eecf55d4798b410b9b5ef0e0c21": {
          "model_module": "@jupyter-widgets/controls",
          "model_name": "FloatProgressModel",
          "model_module_version": "1.5.0",
          "state": {
            "_dom_classes": [],
            "_model_module": "@jupyter-widgets/controls",
            "_model_module_version": "1.5.0",
            "_model_name": "FloatProgressModel",
            "_view_count": null,
            "_view_module": "@jupyter-widgets/controls",
            "_view_module_version": "1.5.0",
            "_view_name": "ProgressView",
            "bar_style": "success",
            "description": "",
            "description_tooltip": null,
            "layout": "IPY_MODEL_089a380e3ee84ab19ddaba6fdc2a0886",
            "max": 1,
            "min": 0,
            "orientation": "horizontal",
            "style": "IPY_MODEL_d8db14a3f1484ead9ed30035cc0b1188",
            "value": 1
          }
        },
        "01cc286ccac04ac98968509d23ce9d3d": {
          "model_module": "@jupyter-widgets/controls",
          "model_name": "HTMLModel",
          "model_module_version": "1.5.0",
          "state": {
            "_dom_classes": [],
            "_model_module": "@jupyter-widgets/controls",
            "_model_module_version": "1.5.0",
            "_model_name": "HTMLModel",
            "_view_count": null,
            "_view_module": "@jupyter-widgets/controls",
            "_view_module_version": "1.5.0",
            "_view_name": "HTMLView",
            "description": "",
            "description_tooltip": null,
            "layout": "IPY_MODEL_bc60835feeed45f2bcd7e2e2521ba8f2",
            "placeholder": "​",
            "style": "IPY_MODEL_69704f8f4fb5419db7d8c54435b9003d",
            "value": " 1/1 [00:00&lt;00:00,  1.90 url/s]"
          }
        },
        "61bb72e6fd1344d1b3c9e289a5ddb801": {
          "model_module": "@jupyter-widgets/base",
          "model_name": "LayoutModel",
          "model_module_version": "1.2.0",
          "state": {
            "_model_module": "@jupyter-widgets/base",
            "_model_module_version": "1.2.0",
            "_model_name": "LayoutModel",
            "_view_count": null,
            "_view_module": "@jupyter-widgets/base",
            "_view_module_version": "1.2.0",
            "_view_name": "LayoutView",
            "align_content": null,
            "align_items": null,
            "align_self": null,
            "border": null,
            "bottom": null,
            "display": null,
            "flex": null,
            "flex_flow": null,
            "grid_area": null,
            "grid_auto_columns": null,
            "grid_auto_flow": null,
            "grid_auto_rows": null,
            "grid_column": null,
            "grid_gap": null,
            "grid_row": null,
            "grid_template_areas": null,
            "grid_template_columns": null,
            "grid_template_rows": null,
            "height": null,
            "justify_content": null,
            "justify_items": null,
            "left": null,
            "margin": null,
            "max_height": null,
            "max_width": null,
            "min_height": null,
            "min_width": null,
            "object_fit": null,
            "object_position": null,
            "order": null,
            "overflow": null,
            "overflow_x": null,
            "overflow_y": null,
            "padding": null,
            "right": null,
            "top": null,
            "visibility": null,
            "width": null
          }
        },
        "dc883735c8784e0a95d3ef390047e682": {
          "model_module": "@jupyter-widgets/base",
          "model_name": "LayoutModel",
          "model_module_version": "1.2.0",
          "state": {
            "_model_module": "@jupyter-widgets/base",
            "_model_module_version": "1.2.0",
            "_model_name": "LayoutModel",
            "_view_count": null,
            "_view_module": "@jupyter-widgets/base",
            "_view_module_version": "1.2.0",
            "_view_name": "LayoutView",
            "align_content": null,
            "align_items": null,
            "align_self": null,
            "border": null,
            "bottom": null,
            "display": null,
            "flex": null,
            "flex_flow": null,
            "grid_area": null,
            "grid_auto_columns": null,
            "grid_auto_flow": null,
            "grid_auto_rows": null,
            "grid_column": null,
            "grid_gap": null,
            "grid_row": null,
            "grid_template_areas": null,
            "grid_template_columns": null,
            "grid_template_rows": null,
            "height": null,
            "justify_content": null,
            "justify_items": null,
            "left": null,
            "margin": null,
            "max_height": null,
            "max_width": null,
            "min_height": null,
            "min_width": null,
            "object_fit": null,
            "object_position": null,
            "order": null,
            "overflow": null,
            "overflow_x": null,
            "overflow_y": null,
            "padding": null,
            "right": null,
            "top": null,
            "visibility": null,
            "width": null
          }
        },
        "fd34dad228df4b66b6786d163b244b3c": {
          "model_module": "@jupyter-widgets/controls",
          "model_name": "DescriptionStyleModel",
          "model_module_version": "1.5.0",
          "state": {
            "_model_module": "@jupyter-widgets/controls",
            "_model_module_version": "1.5.0",
            "_model_name": "DescriptionStyleModel",
            "_view_count": null,
            "_view_module": "@jupyter-widgets/base",
            "_view_module_version": "1.2.0",
            "_view_name": "StyleView",
            "description_width": ""
          }
        },
        "089a380e3ee84ab19ddaba6fdc2a0886": {
          "model_module": "@jupyter-widgets/base",
          "model_name": "LayoutModel",
          "model_module_version": "1.2.0",
          "state": {
            "_model_module": "@jupyter-widgets/base",
            "_model_module_version": "1.2.0",
            "_model_name": "LayoutModel",
            "_view_count": null,
            "_view_module": "@jupyter-widgets/base",
            "_view_module_version": "1.2.0",
            "_view_name": "LayoutView",
            "align_content": null,
            "align_items": null,
            "align_self": null,
            "border": null,
            "bottom": null,
            "display": null,
            "flex": null,
            "flex_flow": null,
            "grid_area": null,
            "grid_auto_columns": null,
            "grid_auto_flow": null,
            "grid_auto_rows": null,
            "grid_column": null,
            "grid_gap": null,
            "grid_row": null,
            "grid_template_areas": null,
            "grid_template_columns": null,
            "grid_template_rows": null,
            "height": null,
            "justify_content": null,
            "justify_items": null,
            "left": null,
            "margin": null,
            "max_height": null,
            "max_width": null,
            "min_height": null,
            "min_width": null,
            "object_fit": null,
            "object_position": null,
            "order": null,
            "overflow": null,
            "overflow_x": null,
            "overflow_y": null,
            "padding": null,
            "right": null,
            "top": null,
            "visibility": null,
            "width": "20px"
          }
        },
        "d8db14a3f1484ead9ed30035cc0b1188": {
          "model_module": "@jupyter-widgets/controls",
          "model_name": "ProgressStyleModel",
          "model_module_version": "1.5.0",
          "state": {
            "_model_module": "@jupyter-widgets/controls",
            "_model_module_version": "1.5.0",
            "_model_name": "ProgressStyleModel",
            "_view_count": null,
            "_view_module": "@jupyter-widgets/base",
            "_view_module_version": "1.2.0",
            "_view_name": "StyleView",
            "bar_color": null,
            "description_width": ""
          }
        },
        "bc60835feeed45f2bcd7e2e2521ba8f2": {
          "model_module": "@jupyter-widgets/base",
          "model_name": "LayoutModel",
          "model_module_version": "1.2.0",
          "state": {
            "_model_module": "@jupyter-widgets/base",
            "_model_module_version": "1.2.0",
            "_model_name": "LayoutModel",
            "_view_count": null,
            "_view_module": "@jupyter-widgets/base",
            "_view_module_version": "1.2.0",
            "_view_name": "LayoutView",
            "align_content": null,
            "align_items": null,
            "align_self": null,
            "border": null,
            "bottom": null,
            "display": null,
            "flex": null,
            "flex_flow": null,
            "grid_area": null,
            "grid_auto_columns": null,
            "grid_auto_flow": null,
            "grid_auto_rows": null,
            "grid_column": null,
            "grid_gap": null,
            "grid_row": null,
            "grid_template_areas": null,
            "grid_template_columns": null,
            "grid_template_rows": null,
            "height": null,
            "justify_content": null,
            "justify_items": null,
            "left": null,
            "margin": null,
            "max_height": null,
            "max_width": null,
            "min_height": null,
            "min_width": null,
            "object_fit": null,
            "object_position": null,
            "order": null,
            "overflow": null,
            "overflow_x": null,
            "overflow_y": null,
            "padding": null,
            "right": null,
            "top": null,
            "visibility": null,
            "width": null
          }
        },
        "69704f8f4fb5419db7d8c54435b9003d": {
          "model_module": "@jupyter-widgets/controls",
          "model_name": "DescriptionStyleModel",
          "model_module_version": "1.5.0",
          "state": {
            "_model_module": "@jupyter-widgets/controls",
            "_model_module_version": "1.5.0",
            "_model_name": "DescriptionStyleModel",
            "_view_count": null,
            "_view_module": "@jupyter-widgets/base",
            "_view_module_version": "1.2.0",
            "_view_name": "StyleView",
            "description_width": ""
          }
        },
        "f0114507b4b84b0ea60535626ea8c59e": {
          "model_module": "@jupyter-widgets/controls",
          "model_name": "HBoxModel",
          "model_module_version": "1.5.0",
          "state": {
            "_dom_classes": [],
            "_model_module": "@jupyter-widgets/controls",
            "_model_module_version": "1.5.0",
            "_model_name": "HBoxModel",
            "_view_count": null,
            "_view_module": "@jupyter-widgets/controls",
            "_view_module_version": "1.5.0",
            "_view_name": "HBoxView",
            "box_style": "",
            "children": [
              "IPY_MODEL_fb0bc1529f564508ab6d49632bdc51fc",
              "IPY_MODEL_30046a0e9b744e58b7bfaba266170742",
              "IPY_MODEL_089cf5021cc644afa2169cae5e123441"
            ],
            "layout": "IPY_MODEL_792c46e176ec415eb11eac743e46e9ff"
          }
        },
        "fb0bc1529f564508ab6d49632bdc51fc": {
          "model_module": "@jupyter-widgets/controls",
          "model_name": "HTMLModel",
          "model_module_version": "1.5.0",
          "state": {
            "_dom_classes": [],
            "_model_module": "@jupyter-widgets/controls",
            "_model_module_version": "1.5.0",
            "_model_name": "HTMLModel",
            "_view_count": null,
            "_view_module": "@jupyter-widgets/controls",
            "_view_module_version": "1.5.0",
            "_view_name": "HTMLView",
            "description": "",
            "description_tooltip": null,
            "layout": "IPY_MODEL_6501b3e4173e46ab8403403a35095a72",
            "placeholder": "​",
            "style": "IPY_MODEL_e642b03b25674743abb0585c610aa860",
            "value": "Dl Size...: "
          }
        },
        "30046a0e9b744e58b7bfaba266170742": {
          "model_module": "@jupyter-widgets/controls",
          "model_name": "FloatProgressModel",
          "model_module_version": "1.5.0",
          "state": {
            "_dom_classes": [],
            "_model_module": "@jupyter-widgets/controls",
            "_model_module_version": "1.5.0",
            "_model_name": "FloatProgressModel",
            "_view_count": null,
            "_view_module": "@jupyter-widgets/controls",
            "_view_module_version": "1.5.0",
            "_view_name": "ProgressView",
            "bar_style": "success",
            "description": "",
            "description_tooltip": null,
            "layout": "IPY_MODEL_e9f0c806768d47bc83bc4ebc394f3a49",
            "max": 1,
            "min": 0,
            "orientation": "horizontal",
            "style": "IPY_MODEL_3d626b8c46a043489f21bde62767b8e5",
            "value": 0
          }
        },
        "089cf5021cc644afa2169cae5e123441": {
          "model_module": "@jupyter-widgets/controls",
          "model_name": "HTMLModel",
          "model_module_version": "1.5.0",
          "state": {
            "_dom_classes": [],
            "_model_module": "@jupyter-widgets/controls",
            "_model_module_version": "1.5.0",
            "_model_name": "HTMLModel",
            "_view_count": null,
            "_view_module": "@jupyter-widgets/controls",
            "_view_module_version": "1.5.0",
            "_view_name": "HTMLView",
            "description": "",
            "description_tooltip": null,
            "layout": "IPY_MODEL_897c44f8859b40bbb9434a530e259d1f",
            "placeholder": "​",
            "style": "IPY_MODEL_661a135173e1431993c8f5a3dbe6bbb4",
            "value": " 0/0 [00:00&lt;?, ? MiB/s]"
          }
        },
        "792c46e176ec415eb11eac743e46e9ff": {
          "model_module": "@jupyter-widgets/base",
          "model_name": "LayoutModel",
          "model_module_version": "1.2.0",
          "state": {
            "_model_module": "@jupyter-widgets/base",
            "_model_module_version": "1.2.0",
            "_model_name": "LayoutModel",
            "_view_count": null,
            "_view_module": "@jupyter-widgets/base",
            "_view_module_version": "1.2.0",
            "_view_name": "LayoutView",
            "align_content": null,
            "align_items": null,
            "align_self": null,
            "border": null,
            "bottom": null,
            "display": null,
            "flex": null,
            "flex_flow": null,
            "grid_area": null,
            "grid_auto_columns": null,
            "grid_auto_flow": null,
            "grid_auto_rows": null,
            "grid_column": null,
            "grid_gap": null,
            "grid_row": null,
            "grid_template_areas": null,
            "grid_template_columns": null,
            "grid_template_rows": null,
            "height": null,
            "justify_content": null,
            "justify_items": null,
            "left": null,
            "margin": null,
            "max_height": null,
            "max_width": null,
            "min_height": null,
            "min_width": null,
            "object_fit": null,
            "object_position": null,
            "order": null,
            "overflow": null,
            "overflow_x": null,
            "overflow_y": null,
            "padding": null,
            "right": null,
            "top": null,
            "visibility": null,
            "width": null
          }
        },
        "6501b3e4173e46ab8403403a35095a72": {
          "model_module": "@jupyter-widgets/base",
          "model_name": "LayoutModel",
          "model_module_version": "1.2.0",
          "state": {
            "_model_module": "@jupyter-widgets/base",
            "_model_module_version": "1.2.0",
            "_model_name": "LayoutModel",
            "_view_count": null,
            "_view_module": "@jupyter-widgets/base",
            "_view_module_version": "1.2.0",
            "_view_name": "LayoutView",
            "align_content": null,
            "align_items": null,
            "align_self": null,
            "border": null,
            "bottom": null,
            "display": null,
            "flex": null,
            "flex_flow": null,
            "grid_area": null,
            "grid_auto_columns": null,
            "grid_auto_flow": null,
            "grid_auto_rows": null,
            "grid_column": null,
            "grid_gap": null,
            "grid_row": null,
            "grid_template_areas": null,
            "grid_template_columns": null,
            "grid_template_rows": null,
            "height": null,
            "justify_content": null,
            "justify_items": null,
            "left": null,
            "margin": null,
            "max_height": null,
            "max_width": null,
            "min_height": null,
            "min_width": null,
            "object_fit": null,
            "object_position": null,
            "order": null,
            "overflow": null,
            "overflow_x": null,
            "overflow_y": null,
            "padding": null,
            "right": null,
            "top": null,
            "visibility": null,
            "width": null
          }
        },
        "e642b03b25674743abb0585c610aa860": {
          "model_module": "@jupyter-widgets/controls",
          "model_name": "DescriptionStyleModel",
          "model_module_version": "1.5.0",
          "state": {
            "_model_module": "@jupyter-widgets/controls",
            "_model_module_version": "1.5.0",
            "_model_name": "DescriptionStyleModel",
            "_view_count": null,
            "_view_module": "@jupyter-widgets/base",
            "_view_module_version": "1.2.0",
            "_view_name": "StyleView",
            "description_width": ""
          }
        },
        "e9f0c806768d47bc83bc4ebc394f3a49": {
          "model_module": "@jupyter-widgets/base",
          "model_name": "LayoutModel",
          "model_module_version": "1.2.0",
          "state": {
            "_model_module": "@jupyter-widgets/base",
            "_model_module_version": "1.2.0",
            "_model_name": "LayoutModel",
            "_view_count": null,
            "_view_module": "@jupyter-widgets/base",
            "_view_module_version": "1.2.0",
            "_view_name": "LayoutView",
            "align_content": null,
            "align_items": null,
            "align_self": null,
            "border": null,
            "bottom": null,
            "display": null,
            "flex": null,
            "flex_flow": null,
            "grid_area": null,
            "grid_auto_columns": null,
            "grid_auto_flow": null,
            "grid_auto_rows": null,
            "grid_column": null,
            "grid_gap": null,
            "grid_row": null,
            "grid_template_areas": null,
            "grid_template_columns": null,
            "grid_template_rows": null,
            "height": null,
            "justify_content": null,
            "justify_items": null,
            "left": null,
            "margin": null,
            "max_height": null,
            "max_width": null,
            "min_height": null,
            "min_width": null,
            "object_fit": null,
            "object_position": null,
            "order": null,
            "overflow": null,
            "overflow_x": null,
            "overflow_y": null,
            "padding": null,
            "right": null,
            "top": null,
            "visibility": null,
            "width": "20px"
          }
        },
        "3d626b8c46a043489f21bde62767b8e5": {
          "model_module": "@jupyter-widgets/controls",
          "model_name": "ProgressStyleModel",
          "model_module_version": "1.5.0",
          "state": {
            "_model_module": "@jupyter-widgets/controls",
            "_model_module_version": "1.5.0",
            "_model_name": "ProgressStyleModel",
            "_view_count": null,
            "_view_module": "@jupyter-widgets/base",
            "_view_module_version": "1.2.0",
            "_view_name": "StyleView",
            "bar_color": null,
            "description_width": ""
          }
        },
        "897c44f8859b40bbb9434a530e259d1f": {
          "model_module": "@jupyter-widgets/base",
          "model_name": "LayoutModel",
          "model_module_version": "1.2.0",
          "state": {
            "_model_module": "@jupyter-widgets/base",
            "_model_module_version": "1.2.0",
            "_model_name": "LayoutModel",
            "_view_count": null,
            "_view_module": "@jupyter-widgets/base",
            "_view_module_version": "1.2.0",
            "_view_name": "LayoutView",
            "align_content": null,
            "align_items": null,
            "align_self": null,
            "border": null,
            "bottom": null,
            "display": null,
            "flex": null,
            "flex_flow": null,
            "grid_area": null,
            "grid_auto_columns": null,
            "grid_auto_flow": null,
            "grid_auto_rows": null,
            "grid_column": null,
            "grid_gap": null,
            "grid_row": null,
            "grid_template_areas": null,
            "grid_template_columns": null,
            "grid_template_rows": null,
            "height": null,
            "justify_content": null,
            "justify_items": null,
            "left": null,
            "margin": null,
            "max_height": null,
            "max_width": null,
            "min_height": null,
            "min_width": null,
            "object_fit": null,
            "object_position": null,
            "order": null,
            "overflow": null,
            "overflow_x": null,
            "overflow_y": null,
            "padding": null,
            "right": null,
            "top": null,
            "visibility": null,
            "width": null
          }
        },
        "661a135173e1431993c8f5a3dbe6bbb4": {
          "model_module": "@jupyter-widgets/controls",
          "model_name": "DescriptionStyleModel",
          "model_module_version": "1.5.0",
          "state": {
            "_model_module": "@jupyter-widgets/controls",
            "_model_module_version": "1.5.0",
            "_model_name": "DescriptionStyleModel",
            "_view_count": null,
            "_view_module": "@jupyter-widgets/base",
            "_view_module_version": "1.2.0",
            "_view_name": "StyleView",
            "description_width": ""
          }
        },
        "edf1cf5685114e12be029bcce73bbb73": {
          "model_module": "@jupyter-widgets/controls",
          "model_name": "HBoxModel",
          "model_module_version": "1.5.0",
          "state": {
            "_dom_classes": [],
            "_model_module": "@jupyter-widgets/controls",
            "_model_module_version": "1.5.0",
            "_model_name": "HBoxModel",
            "_view_count": null,
            "_view_module": "@jupyter-widgets/controls",
            "_view_module_version": "1.5.0",
            "_view_name": "HBoxView",
            "box_style": "",
            "children": [
              "IPY_MODEL_cb6762409b7f45e6b81486e64ccba705",
              "IPY_MODEL_b26a25a4be704c1fafb55fd38ed673fc",
              "IPY_MODEL_3ead62760c86446b9fce7a7d0a66af34"
            ],
            "layout": "IPY_MODEL_939d2aa7e5fa4f728a43078fa66a83c5"
          }
        },
        "cb6762409b7f45e6b81486e64ccba705": {
          "model_module": "@jupyter-widgets/controls",
          "model_name": "HTMLModel",
          "model_module_version": "1.5.0",
          "state": {
            "_dom_classes": [],
            "_model_module": "@jupyter-widgets/controls",
            "_model_module_version": "1.5.0",
            "_model_name": "HTMLModel",
            "_view_count": null,
            "_view_module": "@jupyter-widgets/controls",
            "_view_module_version": "1.5.0",
            "_view_name": "HTMLView",
            "description": "",
            "description_tooltip": null,
            "layout": "IPY_MODEL_a7ffad999d4945f48f5fe5867794bfa8",
            "placeholder": "​",
            "style": "IPY_MODEL_663a99c244ea4296ac24767538a2012e",
            "value": "Extraction completed...: 100%"
          }
        },
        "b26a25a4be704c1fafb55fd38ed673fc": {
          "model_module": "@jupyter-widgets/controls",
          "model_name": "FloatProgressModel",
          "model_module_version": "1.5.0",
          "state": {
            "_dom_classes": [],
            "_model_module": "@jupyter-widgets/controls",
            "_model_module_version": "1.5.0",
            "_model_name": "FloatProgressModel",
            "_view_count": null,
            "_view_module": "@jupyter-widgets/controls",
            "_view_module_version": "1.5.0",
            "_view_name": "ProgressView",
            "bar_style": "success",
            "description": "",
            "description_tooltip": null,
            "layout": "IPY_MODEL_4f4d70b9d0ae419baf94478dbfb8b07b",
            "max": 1,
            "min": 0,
            "orientation": "horizontal",
            "style": "IPY_MODEL_c9b0e847b8f94e3fbd614bfafd9fda20",
            "value": 1
          }
        },
        "3ead62760c86446b9fce7a7d0a66af34": {
          "model_module": "@jupyter-widgets/controls",
          "model_name": "HTMLModel",
          "model_module_version": "1.5.0",
          "state": {
            "_dom_classes": [],
            "_model_module": "@jupyter-widgets/controls",
            "_model_module_version": "1.5.0",
            "_model_name": "HTMLModel",
            "_view_count": null,
            "_view_module": "@jupyter-widgets/controls",
            "_view_module_version": "1.5.0",
            "_view_name": "HTMLView",
            "description": "",
            "description_tooltip": null,
            "layout": "IPY_MODEL_34a3c8c6fdca463e913ecd492ec535f4",
            "placeholder": "​",
            "style": "IPY_MODEL_7db2ac89d10546e2bff7e15d0dfc94d5",
            "value": " 4/4 [00:00&lt;00:00,  2.35 file/s]"
          }
        },
        "939d2aa7e5fa4f728a43078fa66a83c5": {
          "model_module": "@jupyter-widgets/base",
          "model_name": "LayoutModel",
          "model_module_version": "1.2.0",
          "state": {
            "_model_module": "@jupyter-widgets/base",
            "_model_module_version": "1.2.0",
            "_model_name": "LayoutModel",
            "_view_count": null,
            "_view_module": "@jupyter-widgets/base",
            "_view_module_version": "1.2.0",
            "_view_name": "LayoutView",
            "align_content": null,
            "align_items": null,
            "align_self": null,
            "border": null,
            "bottom": null,
            "display": null,
            "flex": null,
            "flex_flow": null,
            "grid_area": null,
            "grid_auto_columns": null,
            "grid_auto_flow": null,
            "grid_auto_rows": null,
            "grid_column": null,
            "grid_gap": null,
            "grid_row": null,
            "grid_template_areas": null,
            "grid_template_columns": null,
            "grid_template_rows": null,
            "height": null,
            "justify_content": null,
            "justify_items": null,
            "left": null,
            "margin": null,
            "max_height": null,
            "max_width": null,
            "min_height": null,
            "min_width": null,
            "object_fit": null,
            "object_position": null,
            "order": null,
            "overflow": null,
            "overflow_x": null,
            "overflow_y": null,
            "padding": null,
            "right": null,
            "top": null,
            "visibility": null,
            "width": null
          }
        },
        "a7ffad999d4945f48f5fe5867794bfa8": {
          "model_module": "@jupyter-widgets/base",
          "model_name": "LayoutModel",
          "model_module_version": "1.2.0",
          "state": {
            "_model_module": "@jupyter-widgets/base",
            "_model_module_version": "1.2.0",
            "_model_name": "LayoutModel",
            "_view_count": null,
            "_view_module": "@jupyter-widgets/base",
            "_view_module_version": "1.2.0",
            "_view_name": "LayoutView",
            "align_content": null,
            "align_items": null,
            "align_self": null,
            "border": null,
            "bottom": null,
            "display": null,
            "flex": null,
            "flex_flow": null,
            "grid_area": null,
            "grid_auto_columns": null,
            "grid_auto_flow": null,
            "grid_auto_rows": null,
            "grid_column": null,
            "grid_gap": null,
            "grid_row": null,
            "grid_template_areas": null,
            "grid_template_columns": null,
            "grid_template_rows": null,
            "height": null,
            "justify_content": null,
            "justify_items": null,
            "left": null,
            "margin": null,
            "max_height": null,
            "max_width": null,
            "min_height": null,
            "min_width": null,
            "object_fit": null,
            "object_position": null,
            "order": null,
            "overflow": null,
            "overflow_x": null,
            "overflow_y": null,
            "padding": null,
            "right": null,
            "top": null,
            "visibility": null,
            "width": null
          }
        },
        "663a99c244ea4296ac24767538a2012e": {
          "model_module": "@jupyter-widgets/controls",
          "model_name": "DescriptionStyleModel",
          "model_module_version": "1.5.0",
          "state": {
            "_model_module": "@jupyter-widgets/controls",
            "_model_module_version": "1.5.0",
            "_model_name": "DescriptionStyleModel",
            "_view_count": null,
            "_view_module": "@jupyter-widgets/base",
            "_view_module_version": "1.2.0",
            "_view_name": "StyleView",
            "description_width": ""
          }
        },
        "4f4d70b9d0ae419baf94478dbfb8b07b": {
          "model_module": "@jupyter-widgets/base",
          "model_name": "LayoutModel",
          "model_module_version": "1.2.0",
          "state": {
            "_model_module": "@jupyter-widgets/base",
            "_model_module_version": "1.2.0",
            "_model_name": "LayoutModel",
            "_view_count": null,
            "_view_module": "@jupyter-widgets/base",
            "_view_module_version": "1.2.0",
            "_view_name": "LayoutView",
            "align_content": null,
            "align_items": null,
            "align_self": null,
            "border": null,
            "bottom": null,
            "display": null,
            "flex": null,
            "flex_flow": null,
            "grid_area": null,
            "grid_auto_columns": null,
            "grid_auto_flow": null,
            "grid_auto_rows": null,
            "grid_column": null,
            "grid_gap": null,
            "grid_row": null,
            "grid_template_areas": null,
            "grid_template_columns": null,
            "grid_template_rows": null,
            "height": null,
            "justify_content": null,
            "justify_items": null,
            "left": null,
            "margin": null,
            "max_height": null,
            "max_width": null,
            "min_height": null,
            "min_width": null,
            "object_fit": null,
            "object_position": null,
            "order": null,
            "overflow": null,
            "overflow_x": null,
            "overflow_y": null,
            "padding": null,
            "right": null,
            "top": null,
            "visibility": null,
            "width": "20px"
          }
        },
        "c9b0e847b8f94e3fbd614bfafd9fda20": {
          "model_module": "@jupyter-widgets/controls",
          "model_name": "ProgressStyleModel",
          "model_module_version": "1.5.0",
          "state": {
            "_model_module": "@jupyter-widgets/controls",
            "_model_module_version": "1.5.0",
            "_model_name": "ProgressStyleModel",
            "_view_count": null,
            "_view_module": "@jupyter-widgets/base",
            "_view_module_version": "1.2.0",
            "_view_name": "StyleView",
            "bar_color": null,
            "description_width": ""
          }
        },
        "34a3c8c6fdca463e913ecd492ec535f4": {
          "model_module": "@jupyter-widgets/base",
          "model_name": "LayoutModel",
          "model_module_version": "1.2.0",
          "state": {
            "_model_module": "@jupyter-widgets/base",
            "_model_module_version": "1.2.0",
            "_model_name": "LayoutModel",
            "_view_count": null,
            "_view_module": "@jupyter-widgets/base",
            "_view_module_version": "1.2.0",
            "_view_name": "LayoutView",
            "align_content": null,
            "align_items": null,
            "align_self": null,
            "border": null,
            "bottom": null,
            "display": null,
            "flex": null,
            "flex_flow": null,
            "grid_area": null,
            "grid_auto_columns": null,
            "grid_auto_flow": null,
            "grid_auto_rows": null,
            "grid_column": null,
            "grid_gap": null,
            "grid_row": null,
            "grid_template_areas": null,
            "grid_template_columns": null,
            "grid_template_rows": null,
            "height": null,
            "justify_content": null,
            "justify_items": null,
            "left": null,
            "margin": null,
            "max_height": null,
            "max_width": null,
            "min_height": null,
            "min_width": null,
            "object_fit": null,
            "object_position": null,
            "order": null,
            "overflow": null,
            "overflow_x": null,
            "overflow_y": null,
            "padding": null,
            "right": null,
            "top": null,
            "visibility": null,
            "width": null
          }
        },
        "7db2ac89d10546e2bff7e15d0dfc94d5": {
          "model_module": "@jupyter-widgets/controls",
          "model_name": "DescriptionStyleModel",
          "model_module_version": "1.5.0",
          "state": {
            "_model_module": "@jupyter-widgets/controls",
            "_model_module_version": "1.5.0",
            "_model_name": "DescriptionStyleModel",
            "_view_count": null,
            "_view_module": "@jupyter-widgets/base",
            "_view_module_version": "1.2.0",
            "_view_name": "StyleView",
            "description_width": ""
          }
        },
        "16551763049e4f97b19bf0b5a7bd316c": {
          "model_module": "@jupyter-widgets/controls",
          "model_name": "HBoxModel",
          "model_module_version": "1.5.0",
          "state": {
            "_dom_classes": [],
            "_model_module": "@jupyter-widgets/controls",
            "_model_module_version": "1.5.0",
            "_model_name": "HBoxModel",
            "_view_count": null,
            "_view_module": "@jupyter-widgets/controls",
            "_view_module_version": "1.5.0",
            "_view_name": "HBoxView",
            "box_style": "",
            "children": [
              "IPY_MODEL_57de67c172be4945ab9ea7af4c6fb4df",
              "IPY_MODEL_814f198cdbbc4ef98c362a9759f04ee3",
              "IPY_MODEL_fd4c8913e09b43a0bc7c78cfebc5f742"
            ],
            "layout": "IPY_MODEL_c392e95ae21248e3b4db7b77909faae4"
          }
        },
        "57de67c172be4945ab9ea7af4c6fb4df": {
          "model_module": "@jupyter-widgets/controls",
          "model_name": "HTMLModel",
          "model_module_version": "1.5.0",
          "state": {
            "_dom_classes": [],
            "_model_module": "@jupyter-widgets/controls",
            "_model_module_version": "1.5.0",
            "_model_name": "HTMLModel",
            "_view_count": null,
            "_view_module": "@jupyter-widgets/controls",
            "_view_module_version": "1.5.0",
            "_view_name": "HTMLView",
            "description": "",
            "description_tooltip": null,
            "layout": "IPY_MODEL_86ed66ab14cc4585a7dfe7d731cc2c51",
            "placeholder": "​",
            "style": "IPY_MODEL_37fa751933844dcda3e3bad0466138b2",
            "value": "Generating splits...: 100%"
          }
        },
        "814f198cdbbc4ef98c362a9759f04ee3": {
          "model_module": "@jupyter-widgets/controls",
          "model_name": "FloatProgressModel",
          "model_module_version": "1.5.0",
          "state": {
            "_dom_classes": [],
            "_model_module": "@jupyter-widgets/controls",
            "_model_module_version": "1.5.0",
            "_model_name": "FloatProgressModel",
            "_view_count": null,
            "_view_module": "@jupyter-widgets/controls",
            "_view_module_version": "1.5.0",
            "_view_name": "ProgressView",
            "bar_style": "",
            "description": "",
            "description_tooltip": null,
            "layout": "IPY_MODEL_debb9daf8e104b4b8a1a83198e56254b",
            "max": 1,
            "min": 0,
            "orientation": "horizontal",
            "style": "IPY_MODEL_3b311bb2ad764d179b9845463b98fb92",
            "value": 1
          }
        },
        "fd4c8913e09b43a0bc7c78cfebc5f742": {
          "model_module": "@jupyter-widgets/controls",
          "model_name": "HTMLModel",
          "model_module_version": "1.5.0",
          "state": {
            "_dom_classes": [],
            "_model_module": "@jupyter-widgets/controls",
            "_model_module_version": "1.5.0",
            "_model_name": "HTMLModel",
            "_view_count": null,
            "_view_module": "@jupyter-widgets/controls",
            "_view_module_version": "1.5.0",
            "_view_name": "HTMLView",
            "description": "",
            "description_tooltip": null,
            "layout": "IPY_MODEL_55a117a170db41f3b2381ad33d01701c",
            "placeholder": "​",
            "style": "IPY_MODEL_f10e949c3d714fe9912e2fa13f3c421d",
            "value": " 1/1 [00:00&lt;00:00,  4.60 splits/s]"
          }
        },
        "c392e95ae21248e3b4db7b77909faae4": {
          "model_module": "@jupyter-widgets/base",
          "model_name": "LayoutModel",
          "model_module_version": "1.2.0",
          "state": {
            "_model_module": "@jupyter-widgets/base",
            "_model_module_version": "1.2.0",
            "_model_name": "LayoutModel",
            "_view_count": null,
            "_view_module": "@jupyter-widgets/base",
            "_view_module_version": "1.2.0",
            "_view_name": "LayoutView",
            "align_content": null,
            "align_items": null,
            "align_self": null,
            "border": null,
            "bottom": null,
            "display": null,
            "flex": null,
            "flex_flow": null,
            "grid_area": null,
            "grid_auto_columns": null,
            "grid_auto_flow": null,
            "grid_auto_rows": null,
            "grid_column": null,
            "grid_gap": null,
            "grid_row": null,
            "grid_template_areas": null,
            "grid_template_columns": null,
            "grid_template_rows": null,
            "height": null,
            "justify_content": null,
            "justify_items": null,
            "left": null,
            "margin": null,
            "max_height": null,
            "max_width": null,
            "min_height": null,
            "min_width": null,
            "object_fit": null,
            "object_position": null,
            "order": null,
            "overflow": null,
            "overflow_x": null,
            "overflow_y": null,
            "padding": null,
            "right": null,
            "top": null,
            "visibility": "hidden",
            "width": null
          }
        },
        "86ed66ab14cc4585a7dfe7d731cc2c51": {
          "model_module": "@jupyter-widgets/base",
          "model_name": "LayoutModel",
          "model_module_version": "1.2.0",
          "state": {
            "_model_module": "@jupyter-widgets/base",
            "_model_module_version": "1.2.0",
            "_model_name": "LayoutModel",
            "_view_count": null,
            "_view_module": "@jupyter-widgets/base",
            "_view_module_version": "1.2.0",
            "_view_name": "LayoutView",
            "align_content": null,
            "align_items": null,
            "align_self": null,
            "border": null,
            "bottom": null,
            "display": null,
            "flex": null,
            "flex_flow": null,
            "grid_area": null,
            "grid_auto_columns": null,
            "grid_auto_flow": null,
            "grid_auto_rows": null,
            "grid_column": null,
            "grid_gap": null,
            "grid_row": null,
            "grid_template_areas": null,
            "grid_template_columns": null,
            "grid_template_rows": null,
            "height": null,
            "justify_content": null,
            "justify_items": null,
            "left": null,
            "margin": null,
            "max_height": null,
            "max_width": null,
            "min_height": null,
            "min_width": null,
            "object_fit": null,
            "object_position": null,
            "order": null,
            "overflow": null,
            "overflow_x": null,
            "overflow_y": null,
            "padding": null,
            "right": null,
            "top": null,
            "visibility": null,
            "width": null
          }
        },
        "37fa751933844dcda3e3bad0466138b2": {
          "model_module": "@jupyter-widgets/controls",
          "model_name": "DescriptionStyleModel",
          "model_module_version": "1.5.0",
          "state": {
            "_model_module": "@jupyter-widgets/controls",
            "_model_module_version": "1.5.0",
            "_model_name": "DescriptionStyleModel",
            "_view_count": null,
            "_view_module": "@jupyter-widgets/base",
            "_view_module_version": "1.2.0",
            "_view_name": "StyleView",
            "description_width": ""
          }
        },
        "debb9daf8e104b4b8a1a83198e56254b": {
          "model_module": "@jupyter-widgets/base",
          "model_name": "LayoutModel",
          "model_module_version": "1.2.0",
          "state": {
            "_model_module": "@jupyter-widgets/base",
            "_model_module_version": "1.2.0",
            "_model_name": "LayoutModel",
            "_view_count": null,
            "_view_module": "@jupyter-widgets/base",
            "_view_module_version": "1.2.0",
            "_view_name": "LayoutView",
            "align_content": null,
            "align_items": null,
            "align_self": null,
            "border": null,
            "bottom": null,
            "display": null,
            "flex": null,
            "flex_flow": null,
            "grid_area": null,
            "grid_auto_columns": null,
            "grid_auto_flow": null,
            "grid_auto_rows": null,
            "grid_column": null,
            "grid_gap": null,
            "grid_row": null,
            "grid_template_areas": null,
            "grid_template_columns": null,
            "grid_template_rows": null,
            "height": null,
            "justify_content": null,
            "justify_items": null,
            "left": null,
            "margin": null,
            "max_height": null,
            "max_width": null,
            "min_height": null,
            "min_width": null,
            "object_fit": null,
            "object_position": null,
            "order": null,
            "overflow": null,
            "overflow_x": null,
            "overflow_y": null,
            "padding": null,
            "right": null,
            "top": null,
            "visibility": null,
            "width": null
          }
        },
        "3b311bb2ad764d179b9845463b98fb92": {
          "model_module": "@jupyter-widgets/controls",
          "model_name": "ProgressStyleModel",
          "model_module_version": "1.5.0",
          "state": {
            "_model_module": "@jupyter-widgets/controls",
            "_model_module_version": "1.5.0",
            "_model_name": "ProgressStyleModel",
            "_view_count": null,
            "_view_module": "@jupyter-widgets/base",
            "_view_module_version": "1.2.0",
            "_view_name": "StyleView",
            "bar_color": null,
            "description_width": ""
          }
        },
        "55a117a170db41f3b2381ad33d01701c": {
          "model_module": "@jupyter-widgets/base",
          "model_name": "LayoutModel",
          "model_module_version": "1.2.0",
          "state": {
            "_model_module": "@jupyter-widgets/base",
            "_model_module_version": "1.2.0",
            "_model_name": "LayoutModel",
            "_view_count": null,
            "_view_module": "@jupyter-widgets/base",
            "_view_module_version": "1.2.0",
            "_view_name": "LayoutView",
            "align_content": null,
            "align_items": null,
            "align_self": null,
            "border": null,
            "bottom": null,
            "display": null,
            "flex": null,
            "flex_flow": null,
            "grid_area": null,
            "grid_auto_columns": null,
            "grid_auto_flow": null,
            "grid_auto_rows": null,
            "grid_column": null,
            "grid_gap": null,
            "grid_row": null,
            "grid_template_areas": null,
            "grid_template_columns": null,
            "grid_template_rows": null,
            "height": null,
            "justify_content": null,
            "justify_items": null,
            "left": null,
            "margin": null,
            "max_height": null,
            "max_width": null,
            "min_height": null,
            "min_width": null,
            "object_fit": null,
            "object_position": null,
            "order": null,
            "overflow": null,
            "overflow_x": null,
            "overflow_y": null,
            "padding": null,
            "right": null,
            "top": null,
            "visibility": null,
            "width": null
          }
        },
        "f10e949c3d714fe9912e2fa13f3c421d": {
          "model_module": "@jupyter-widgets/controls",
          "model_name": "DescriptionStyleModel",
          "model_module_version": "1.5.0",
          "state": {
            "_model_module": "@jupyter-widgets/controls",
            "_model_module_version": "1.5.0",
            "_model_name": "DescriptionStyleModel",
            "_view_count": null,
            "_view_module": "@jupyter-widgets/base",
            "_view_module_version": "1.2.0",
            "_view_name": "StyleView",
            "description_width": ""
          }
        },
        "0d9472a8435e4a21824462379b6f1a54": {
          "model_module": "@jupyter-widgets/controls",
          "model_name": "HBoxModel",
          "model_module_version": "1.5.0",
          "state": {
            "_dom_classes": [],
            "_model_module": "@jupyter-widgets/controls",
            "_model_module_version": "1.5.0",
            "_model_name": "HBoxModel",
            "_view_count": null,
            "_view_module": "@jupyter-widgets/controls",
            "_view_module_version": "1.5.0",
            "_view_name": "HBoxView",
            "box_style": "",
            "children": [
              "IPY_MODEL_8db9243f6a234fe3a89c1d3361461b0e",
              "IPY_MODEL_3f2f1ac8135b4c839ec993d436f14d2b",
              "IPY_MODEL_e0e6474765c04da1875f7b1be6a86af0"
            ],
            "layout": "IPY_MODEL_e11c5944065e4cf99a6c7b3ac6592e62"
          }
        },
        "8db9243f6a234fe3a89c1d3361461b0e": {
          "model_module": "@jupyter-widgets/controls",
          "model_name": "HTMLModel",
          "model_module_version": "1.5.0",
          "state": {
            "_dom_classes": [],
            "_model_module": "@jupyter-widgets/controls",
            "_model_module_version": "1.5.0",
            "_model_name": "HTMLModel",
            "_view_count": null,
            "_view_module": "@jupyter-widgets/controls",
            "_view_module_version": "1.5.0",
            "_view_name": "HTMLView",
            "description": "",
            "description_tooltip": null,
            "layout": "IPY_MODEL_dd6c5228dded41cc86cca6962e5490b5",
            "placeholder": "​",
            "style": "IPY_MODEL_2b96b418fcfe4dc3816ae228c855032e",
            "value": "Generating train examples...:   0%"
          }
        },
        "3f2f1ac8135b4c839ec993d436f14d2b": {
          "model_module": "@jupyter-widgets/controls",
          "model_name": "FloatProgressModel",
          "model_module_version": "1.5.0",
          "state": {
            "_dom_classes": [],
            "_model_module": "@jupyter-widgets/controls",
            "_model_module_version": "1.5.0",
            "_model_name": "FloatProgressModel",
            "_view_count": null,
            "_view_module": "@jupyter-widgets/controls",
            "_view_module_version": "1.5.0",
            "_view_name": "ProgressView",
            "bar_style": "",
            "description": "",
            "description_tooltip": null,
            "layout": "IPY_MODEL_ccca47b86c8d4a54a7c3009eb2fb1a20",
            "max": 150,
            "min": 0,
            "orientation": "horizontal",
            "style": "IPY_MODEL_a0b07f3a296c4cf8b12112d602ceb387",
            "value": 150
          }
        },
        "e0e6474765c04da1875f7b1be6a86af0": {
          "model_module": "@jupyter-widgets/controls",
          "model_name": "HTMLModel",
          "model_module_version": "1.5.0",
          "state": {
            "_dom_classes": [],
            "_model_module": "@jupyter-widgets/controls",
            "_model_module_version": "1.5.0",
            "_model_name": "HTMLModel",
            "_view_count": null,
            "_view_module": "@jupyter-widgets/controls",
            "_view_module_version": "1.5.0",
            "_view_name": "HTMLView",
            "description": "",
            "description_tooltip": null,
            "layout": "IPY_MODEL_666597bf7ccb4cc2946b07836ec4aad7",
            "placeholder": "​",
            "style": "IPY_MODEL_98470543e3d9400c95cef76f4f51e8ad",
            "value": " 0/150 [00:00&lt;?, ? examples/s]"
          }
        },
        "e11c5944065e4cf99a6c7b3ac6592e62": {
          "model_module": "@jupyter-widgets/base",
          "model_name": "LayoutModel",
          "model_module_version": "1.2.0",
          "state": {
            "_model_module": "@jupyter-widgets/base",
            "_model_module_version": "1.2.0",
            "_model_name": "LayoutModel",
            "_view_count": null,
            "_view_module": "@jupyter-widgets/base",
            "_view_module_version": "1.2.0",
            "_view_name": "LayoutView",
            "align_content": null,
            "align_items": null,
            "align_self": null,
            "border": null,
            "bottom": null,
            "display": null,
            "flex": null,
            "flex_flow": null,
            "grid_area": null,
            "grid_auto_columns": null,
            "grid_auto_flow": null,
            "grid_auto_rows": null,
            "grid_column": null,
            "grid_gap": null,
            "grid_row": null,
            "grid_template_areas": null,
            "grid_template_columns": null,
            "grid_template_rows": null,
            "height": null,
            "justify_content": null,
            "justify_items": null,
            "left": null,
            "margin": null,
            "max_height": null,
            "max_width": null,
            "min_height": null,
            "min_width": null,
            "object_fit": null,
            "object_position": null,
            "order": null,
            "overflow": null,
            "overflow_x": null,
            "overflow_y": null,
            "padding": null,
            "right": null,
            "top": null,
            "visibility": "hidden",
            "width": null
          }
        },
        "dd6c5228dded41cc86cca6962e5490b5": {
          "model_module": "@jupyter-widgets/base",
          "model_name": "LayoutModel",
          "model_module_version": "1.2.0",
          "state": {
            "_model_module": "@jupyter-widgets/base",
            "_model_module_version": "1.2.0",
            "_model_name": "LayoutModel",
            "_view_count": null,
            "_view_module": "@jupyter-widgets/base",
            "_view_module_version": "1.2.0",
            "_view_name": "LayoutView",
            "align_content": null,
            "align_items": null,
            "align_self": null,
            "border": null,
            "bottom": null,
            "display": null,
            "flex": null,
            "flex_flow": null,
            "grid_area": null,
            "grid_auto_columns": null,
            "grid_auto_flow": null,
            "grid_auto_rows": null,
            "grid_column": null,
            "grid_gap": null,
            "grid_row": null,
            "grid_template_areas": null,
            "grid_template_columns": null,
            "grid_template_rows": null,
            "height": null,
            "justify_content": null,
            "justify_items": null,
            "left": null,
            "margin": null,
            "max_height": null,
            "max_width": null,
            "min_height": null,
            "min_width": null,
            "object_fit": null,
            "object_position": null,
            "order": null,
            "overflow": null,
            "overflow_x": null,
            "overflow_y": null,
            "padding": null,
            "right": null,
            "top": null,
            "visibility": null,
            "width": null
          }
        },
        "2b96b418fcfe4dc3816ae228c855032e": {
          "model_module": "@jupyter-widgets/controls",
          "model_name": "DescriptionStyleModel",
          "model_module_version": "1.5.0",
          "state": {
            "_model_module": "@jupyter-widgets/controls",
            "_model_module_version": "1.5.0",
            "_model_name": "DescriptionStyleModel",
            "_view_count": null,
            "_view_module": "@jupyter-widgets/base",
            "_view_module_version": "1.2.0",
            "_view_name": "StyleView",
            "description_width": ""
          }
        },
        "ccca47b86c8d4a54a7c3009eb2fb1a20": {
          "model_module": "@jupyter-widgets/base",
          "model_name": "LayoutModel",
          "model_module_version": "1.2.0",
          "state": {
            "_model_module": "@jupyter-widgets/base",
            "_model_module_version": "1.2.0",
            "_model_name": "LayoutModel",
            "_view_count": null,
            "_view_module": "@jupyter-widgets/base",
            "_view_module_version": "1.2.0",
            "_view_name": "LayoutView",
            "align_content": null,
            "align_items": null,
            "align_self": null,
            "border": null,
            "bottom": null,
            "display": null,
            "flex": null,
            "flex_flow": null,
            "grid_area": null,
            "grid_auto_columns": null,
            "grid_auto_flow": null,
            "grid_auto_rows": null,
            "grid_column": null,
            "grid_gap": null,
            "grid_row": null,
            "grid_template_areas": null,
            "grid_template_columns": null,
            "grid_template_rows": null,
            "height": null,
            "justify_content": null,
            "justify_items": null,
            "left": null,
            "margin": null,
            "max_height": null,
            "max_width": null,
            "min_height": null,
            "min_width": null,
            "object_fit": null,
            "object_position": null,
            "order": null,
            "overflow": null,
            "overflow_x": null,
            "overflow_y": null,
            "padding": null,
            "right": null,
            "top": null,
            "visibility": null,
            "width": null
          }
        },
        "a0b07f3a296c4cf8b12112d602ceb387": {
          "model_module": "@jupyter-widgets/controls",
          "model_name": "ProgressStyleModel",
          "model_module_version": "1.5.0",
          "state": {
            "_model_module": "@jupyter-widgets/controls",
            "_model_module_version": "1.5.0",
            "_model_name": "ProgressStyleModel",
            "_view_count": null,
            "_view_module": "@jupyter-widgets/base",
            "_view_module_version": "1.2.0",
            "_view_name": "StyleView",
            "bar_color": null,
            "description_width": ""
          }
        },
        "666597bf7ccb4cc2946b07836ec4aad7": {
          "model_module": "@jupyter-widgets/base",
          "model_name": "LayoutModel",
          "model_module_version": "1.2.0",
          "state": {
            "_model_module": "@jupyter-widgets/base",
            "_model_module_version": "1.2.0",
            "_model_name": "LayoutModel",
            "_view_count": null,
            "_view_module": "@jupyter-widgets/base",
            "_view_module_version": "1.2.0",
            "_view_name": "LayoutView",
            "align_content": null,
            "align_items": null,
            "align_self": null,
            "border": null,
            "bottom": null,
            "display": null,
            "flex": null,
            "flex_flow": null,
            "grid_area": null,
            "grid_auto_columns": null,
            "grid_auto_flow": null,
            "grid_auto_rows": null,
            "grid_column": null,
            "grid_gap": null,
            "grid_row": null,
            "grid_template_areas": null,
            "grid_template_columns": null,
            "grid_template_rows": null,
            "height": null,
            "justify_content": null,
            "justify_items": null,
            "left": null,
            "margin": null,
            "max_height": null,
            "max_width": null,
            "min_height": null,
            "min_width": null,
            "object_fit": null,
            "object_position": null,
            "order": null,
            "overflow": null,
            "overflow_x": null,
            "overflow_y": null,
            "padding": null,
            "right": null,
            "top": null,
            "visibility": null,
            "width": null
          }
        },
        "98470543e3d9400c95cef76f4f51e8ad": {
          "model_module": "@jupyter-widgets/controls",
          "model_name": "DescriptionStyleModel",
          "model_module_version": "1.5.0",
          "state": {
            "_model_module": "@jupyter-widgets/controls",
            "_model_module_version": "1.5.0",
            "_model_name": "DescriptionStyleModel",
            "_view_count": null,
            "_view_module": "@jupyter-widgets/base",
            "_view_module_version": "1.2.0",
            "_view_name": "StyleView",
            "description_width": ""
          }
        },
        "a91a461d9f83486cb5ba99bb090b1352": {
          "model_module": "@jupyter-widgets/controls",
          "model_name": "HBoxModel",
          "model_module_version": "1.5.0",
          "state": {
            "_dom_classes": [],
            "_model_module": "@jupyter-widgets/controls",
            "_model_module_version": "1.5.0",
            "_model_name": "HBoxModel",
            "_view_count": null,
            "_view_module": "@jupyter-widgets/controls",
            "_view_module_version": "1.5.0",
            "_view_name": "HBoxView",
            "box_style": "",
            "children": [
              "IPY_MODEL_642896d8a95b49a88fdb0bbb5383b9cc",
              "IPY_MODEL_0bd0b253a39f4655a1177789d629100b",
              "IPY_MODEL_27c7541584934a64b672dad53aad99fd"
            ],
            "layout": "IPY_MODEL_00004d09a6c1415d97e88279f699ad2d"
          }
        },
        "642896d8a95b49a88fdb0bbb5383b9cc": {
          "model_module": "@jupyter-widgets/controls",
          "model_name": "HTMLModel",
          "model_module_version": "1.5.0",
          "state": {
            "_dom_classes": [],
            "_model_module": "@jupyter-widgets/controls",
            "_model_module_version": "1.5.0",
            "_model_name": "HTMLModel",
            "_view_count": null,
            "_view_module": "@jupyter-widgets/controls",
            "_view_module_version": "1.5.0",
            "_view_name": "HTMLView",
            "description": "",
            "description_tooltip": null,
            "layout": "IPY_MODEL_f48822469b624d80a1cbb9d738f26af2",
            "placeholder": "​",
            "style": "IPY_MODEL_9c5dc45a994b41968ac93c29a285a967",
            "value": "Shuffling /root/tensorflow_datasets/iris/2.1.0.incomplete83YG7K/iris-train.tfrecord*...:   0%"
          }
        },
        "0bd0b253a39f4655a1177789d629100b": {
          "model_module": "@jupyter-widgets/controls",
          "model_name": "FloatProgressModel",
          "model_module_version": "1.5.0",
          "state": {
            "_dom_classes": [],
            "_model_module": "@jupyter-widgets/controls",
            "_model_module_version": "1.5.0",
            "_model_name": "FloatProgressModel",
            "_view_count": null,
            "_view_module": "@jupyter-widgets/controls",
            "_view_module_version": "1.5.0",
            "_view_name": "ProgressView",
            "bar_style": "",
            "description": "",
            "description_tooltip": null,
            "layout": "IPY_MODEL_e023460eacb54b319c9c5dd7bf031198",
            "max": 150,
            "min": 0,
            "orientation": "horizontal",
            "style": "IPY_MODEL_c891e56c561944b3a73d7ac1a8150508",
            "value": 150
          }
        },
        "27c7541584934a64b672dad53aad99fd": {
          "model_module": "@jupyter-widgets/controls",
          "model_name": "HTMLModel",
          "model_module_version": "1.5.0",
          "state": {
            "_dom_classes": [],
            "_model_module": "@jupyter-widgets/controls",
            "_model_module_version": "1.5.0",
            "_model_name": "HTMLModel",
            "_view_count": null,
            "_view_module": "@jupyter-widgets/controls",
            "_view_module_version": "1.5.0",
            "_view_name": "HTMLView",
            "description": "",
            "description_tooltip": null,
            "layout": "IPY_MODEL_1529aff63eea4a54960b9379b3cd2015",
            "placeholder": "​",
            "style": "IPY_MODEL_517707f0362c4724b00be3ef857e7d0d",
            "value": " 0/150 [00:00&lt;?, ? examples/s]"
          }
        },
        "00004d09a6c1415d97e88279f699ad2d": {
          "model_module": "@jupyter-widgets/base",
          "model_name": "LayoutModel",
          "model_module_version": "1.2.0",
          "state": {
            "_model_module": "@jupyter-widgets/base",
            "_model_module_version": "1.2.0",
            "_model_name": "LayoutModel",
            "_view_count": null,
            "_view_module": "@jupyter-widgets/base",
            "_view_module_version": "1.2.0",
            "_view_name": "LayoutView",
            "align_content": null,
            "align_items": null,
            "align_self": null,
            "border": null,
            "bottom": null,
            "display": null,
            "flex": null,
            "flex_flow": null,
            "grid_area": null,
            "grid_auto_columns": null,
            "grid_auto_flow": null,
            "grid_auto_rows": null,
            "grid_column": null,
            "grid_gap": null,
            "grid_row": null,
            "grid_template_areas": null,
            "grid_template_columns": null,
            "grid_template_rows": null,
            "height": null,
            "justify_content": null,
            "justify_items": null,
            "left": null,
            "margin": null,
            "max_height": null,
            "max_width": null,
            "min_height": null,
            "min_width": null,
            "object_fit": null,
            "object_position": null,
            "order": null,
            "overflow": null,
            "overflow_x": null,
            "overflow_y": null,
            "padding": null,
            "right": null,
            "top": null,
            "visibility": "hidden",
            "width": null
          }
        },
        "f48822469b624d80a1cbb9d738f26af2": {
          "model_module": "@jupyter-widgets/base",
          "model_name": "LayoutModel",
          "model_module_version": "1.2.0",
          "state": {
            "_model_module": "@jupyter-widgets/base",
            "_model_module_version": "1.2.0",
            "_model_name": "LayoutModel",
            "_view_count": null,
            "_view_module": "@jupyter-widgets/base",
            "_view_module_version": "1.2.0",
            "_view_name": "LayoutView",
            "align_content": null,
            "align_items": null,
            "align_self": null,
            "border": null,
            "bottom": null,
            "display": null,
            "flex": null,
            "flex_flow": null,
            "grid_area": null,
            "grid_auto_columns": null,
            "grid_auto_flow": null,
            "grid_auto_rows": null,
            "grid_column": null,
            "grid_gap": null,
            "grid_row": null,
            "grid_template_areas": null,
            "grid_template_columns": null,
            "grid_template_rows": null,
            "height": null,
            "justify_content": null,
            "justify_items": null,
            "left": null,
            "margin": null,
            "max_height": null,
            "max_width": null,
            "min_height": null,
            "min_width": null,
            "object_fit": null,
            "object_position": null,
            "order": null,
            "overflow": null,
            "overflow_x": null,
            "overflow_y": null,
            "padding": null,
            "right": null,
            "top": null,
            "visibility": null,
            "width": null
          }
        },
        "9c5dc45a994b41968ac93c29a285a967": {
          "model_module": "@jupyter-widgets/controls",
          "model_name": "DescriptionStyleModel",
          "model_module_version": "1.5.0",
          "state": {
            "_model_module": "@jupyter-widgets/controls",
            "_model_module_version": "1.5.0",
            "_model_name": "DescriptionStyleModel",
            "_view_count": null,
            "_view_module": "@jupyter-widgets/base",
            "_view_module_version": "1.2.0",
            "_view_name": "StyleView",
            "description_width": ""
          }
        },
        "e023460eacb54b319c9c5dd7bf031198": {
          "model_module": "@jupyter-widgets/base",
          "model_name": "LayoutModel",
          "model_module_version": "1.2.0",
          "state": {
            "_model_module": "@jupyter-widgets/base",
            "_model_module_version": "1.2.0",
            "_model_name": "LayoutModel",
            "_view_count": null,
            "_view_module": "@jupyter-widgets/base",
            "_view_module_version": "1.2.0",
            "_view_name": "LayoutView",
            "align_content": null,
            "align_items": null,
            "align_self": null,
            "border": null,
            "bottom": null,
            "display": null,
            "flex": null,
            "flex_flow": null,
            "grid_area": null,
            "grid_auto_columns": null,
            "grid_auto_flow": null,
            "grid_auto_rows": null,
            "grid_column": null,
            "grid_gap": null,
            "grid_row": null,
            "grid_template_areas": null,
            "grid_template_columns": null,
            "grid_template_rows": null,
            "height": null,
            "justify_content": null,
            "justify_items": null,
            "left": null,
            "margin": null,
            "max_height": null,
            "max_width": null,
            "min_height": null,
            "min_width": null,
            "object_fit": null,
            "object_position": null,
            "order": null,
            "overflow": null,
            "overflow_x": null,
            "overflow_y": null,
            "padding": null,
            "right": null,
            "top": null,
            "visibility": null,
            "width": null
          }
        },
        "c891e56c561944b3a73d7ac1a8150508": {
          "model_module": "@jupyter-widgets/controls",
          "model_name": "ProgressStyleModel",
          "model_module_version": "1.5.0",
          "state": {
            "_model_module": "@jupyter-widgets/controls",
            "_model_module_version": "1.5.0",
            "_model_name": "ProgressStyleModel",
            "_view_count": null,
            "_view_module": "@jupyter-widgets/base",
            "_view_module_version": "1.2.0",
            "_view_name": "StyleView",
            "bar_color": null,
            "description_width": ""
          }
        },
        "1529aff63eea4a54960b9379b3cd2015": {
          "model_module": "@jupyter-widgets/base",
          "model_name": "LayoutModel",
          "model_module_version": "1.2.0",
          "state": {
            "_model_module": "@jupyter-widgets/base",
            "_model_module_version": "1.2.0",
            "_model_name": "LayoutModel",
            "_view_count": null,
            "_view_module": "@jupyter-widgets/base",
            "_view_module_version": "1.2.0",
            "_view_name": "LayoutView",
            "align_content": null,
            "align_items": null,
            "align_self": null,
            "border": null,
            "bottom": null,
            "display": null,
            "flex": null,
            "flex_flow": null,
            "grid_area": null,
            "grid_auto_columns": null,
            "grid_auto_flow": null,
            "grid_auto_rows": null,
            "grid_column": null,
            "grid_gap": null,
            "grid_row": null,
            "grid_template_areas": null,
            "grid_template_columns": null,
            "grid_template_rows": null,
            "height": null,
            "justify_content": null,
            "justify_items": null,
            "left": null,
            "margin": null,
            "max_height": null,
            "max_width": null,
            "min_height": null,
            "min_width": null,
            "object_fit": null,
            "object_position": null,
            "order": null,
            "overflow": null,
            "overflow_x": null,
            "overflow_y": null,
            "padding": null,
            "right": null,
            "top": null,
            "visibility": null,
            "width": null
          }
        },
        "517707f0362c4724b00be3ef857e7d0d": {
          "model_module": "@jupyter-widgets/controls",
          "model_name": "DescriptionStyleModel",
          "model_module_version": "1.5.0",
          "state": {
            "_model_module": "@jupyter-widgets/controls",
            "_model_module_version": "1.5.0",
            "_model_name": "DescriptionStyleModel",
            "_view_count": null,
            "_view_module": "@jupyter-widgets/base",
            "_view_module_version": "1.2.0",
            "_view_name": "StyleView",
            "description_width": ""
          }
        }
      }
    }
  },
  "cells": [
    {
      "cell_type": "code",
      "execution_count": 1,
      "metadata": {
        "id": "DAhnqLNcPb1e"
      },
      "outputs": [],
      "source": [
        "import tensorflow as tf\n",
        "import numpy as np\n",
        "import matplotlib.pyplot as plt"
      ]
    },
    {
      "cell_type": "code",
      "source": [
        "X_train = np.arange(10).reshape((10, 1))\n",
        "y_train = np.array([1., 1.3, 3.1,\n",
        "                    2.0, 5.0, 6.3,\n",
        "                    6.6, 7.4, 8.0,\n",
        "                    9.0])\n",
        "\n",
        "plt.plot(X_train, y_train, 'o', markersize=10)\n",
        "plt.xlabel('x')\n",
        "plt.ylabel('y')\n",
        "plt.show()"
      ],
      "metadata": {
        "colab": {
          "base_uri": "https://localhost:8080/",
          "height": 449
        },
        "id": "w9Z1qSghQFUs",
        "outputId": "868d188a-ab19-48ec-b1e7-bfd93279d6c4"
      },
      "execution_count": 2,
      "outputs": [
        {
          "output_type": "display_data",
          "data": {
            "text/plain": [
              "<Figure size 640x480 with 1 Axes>"
            ],
            "image/png": "[encoded data removed]"
          },
          "metadata": {}
        }
      ]
    },
    {
      "cell_type": "code",
      "source": [
        "X_train_norm = (X_train - np.mean(X_train)) / np.std(X_train)\n",
        "\n",
        "ds_train_orig = tf.data.Dataset.from_tensor_slices(\n",
        "    (tf.cast(X_train_norm, tf.float32),\n",
        "     tf.cast(y_train, tf.float32))\n",
        ")"
      ],
      "metadata": {
        "id": "ApNzPj6-RKj1"
      },
      "execution_count": 3,
      "outputs": []
    },
    {
      "cell_type": "code",
      "source": [
        "class MyModel(tf.keras.Model):\n",
        "  def __init__(self):\n",
        "    super(MyModel, self).__init__()\n",
        "    self.w = tf.Variable(0.0, name='weight')\n",
        "    self.b = tf.Variable(0.0, name='bias')\n",
        "\n",
        "  def call(self, x):\n",
        "    return self.w * x + self.b"
      ],
      "metadata": {
        "id": "x_qG-P7URdbq"
      },
      "execution_count": 4,
      "outputs": []
    },
    {
      "cell_type": "code",
      "source": [
        "model = MyModel()\n",
        "model.build(input_shape=(None, 1))\n",
        "model.summary()"
      ],
      "metadata": {
        "colab": {
          "base_uri": "https://localhost:8080/"
        },
        "id": "lIs6Ew5nR2Op",
        "outputId": "093bdf2d-131f-48cd-dc5f-7cd325c90f43"
      },
      "execution_count": 5,
      "outputs": [
        {
          "output_type": "stream",
          "name": "stdout",
          "text": [
            "Model: \"my_model\"\n",
            "_________________________________________________________________\n",
            " Layer (type)                Output Shape              Param #   \n",
            "=================================================================\n",
            "=================================================================\n",
            "Total params: 2\n",
            "Trainable params: 2\n",
            "Non-trainable params: 0\n",
            "_________________________________________________________________\n"
          ]
        }
      ]
    },
    {
      "cell_type": "code",
      "source": [
        "def loss_fn(y_true, y_pred):\n",
        "  return tf.reduce_mean(tf.square(y_true - y_pred))\n",
        "\n",
        "yt = tf.convert_to_tensor([1.0])\n",
        "yp = tf.convert_to_tensor([1.5])\n",
        "\n",
        "loss_fn(yt, yp)"
      ],
      "metadata": {
        "colab": {
          "base_uri": "https://localhost:8080/"
        },
        "id": "16XD1j-cSAI5",
        "outputId": "4117032d-074d-487f-98ce-0a60ffdad652"
      },
      "execution_count": 6,
      "outputs": [
        {
          "output_type": "execute_result",
          "data": {
            "text/plain": [
              "<tf.Tensor: shape=(), dtype=float32, numpy=0.25>"
            ]
          },
          "metadata": {},
          "execution_count": 6
        }
      ]
    },
    {
      "cell_type": "code",
      "source": [
        "def train(model, inputs, outputs, learning_rate):\n",
        "  with tf.GradientTape() as tape:\n",
        "    current_loss = loss_fn(model(inputs), outputs)\n",
        "  dW, db = tape.gradient(current_loss, [model.w, model.b])\n",
        "  model.w.assign_sub(learning_rate * dW)\n",
        "  model.b.assign_sub(learning_rate * db)"
      ],
      "metadata": {
        "id": "9T8JdmDtTRzV"
      },
      "execution_count": 7,
      "outputs": []
    },
    {
      "cell_type": "code",
      "source": [
        "tf.random.set_seed(1)\n",
        "\n",
        "num_epochs = 200\n",
        "log_steps = 100\n",
        "learning_rate = 0.001\n",
        "batch_size = 1\n",
        "steps_per_epoch = int(np.ceil(len(y_train) / batch_size))\n",
        "\n",
        "ds_train = ds_train_orig.shuffle(buffer_size=len(y_train))\n",
        "ds_train = ds_train.repeat(count=None)\n",
        "ds_train = ds_train.batch(1)\n",
        "\n",
        "Ws, bs = [], []\n",
        "\n",
        "for i, batch in enumerate(ds_train):\n",
        "  if i >= steps_per_epoch * num_epochs:\n",
        "    break\n",
        "  Ws.append(model.w.numpy())\n",
        "  bs.append(model.b.numpy())\n",
        "\n",
        "  bx, by = batch\n",
        "  loss_val = loss_fn(model(bx), by)\n",
        "\n",
        "  train(model, bx, by, learning_rate=learning_rate)\n",
        "  if i%log_steps==0:\n",
        "    print(f\"Epoch: {int(i/steps_per_epoch):3d} Step: {i:4d} Loss: {loss_val}\")"
      ],
      "metadata": {
        "colab": {
          "base_uri": "https://localhost:8080/"
        },
        "id": "OEwBZHgKTmwX",
        "outputId": "4fcdcd8d-8662-41c2-99a2-61a39cda8174"
      },
      "execution_count": 8,
      "outputs": [
        {
          "output_type": "stream",
          "name": "stdout",
          "text": [
            "Epoch:   0 Step:    0 Loss: 43.55999755859375\n",
            "Epoch:  10 Step:  100 Loss: 0.7530134320259094\n",
            "Epoch:  20 Step:  200 Loss: 20.175859451293945\n",
            "Epoch:  30 Step:  300 Loss: 23.397605895996094\n",
            "Epoch:  40 Step:  400 Loss: 6.348119258880615\n",
            "Epoch:  50 Step:  500 Loss: 4.635603427886963\n",
            "Epoch:  60 Step:  600 Loss: 0.24105073511600494\n",
            "Epoch:  70 Step:  700 Loss: 0.20362770557403564\n",
            "Epoch:  80 Step:  800 Loss: 3.8176910877227783\n",
            "Epoch:  90 Step:  900 Loss: 0.9416388869285583\n",
            "Epoch: 100 Step: 1000 Loss: 0.7034985423088074\n",
            "Epoch: 110 Step: 1100 Loss: 0.034772761166095734\n",
            "Epoch: 120 Step: 1200 Loss: 0.5403661131858826\n",
            "Epoch: 130 Step: 1300 Loss: 0.11702598631381989\n",
            "Epoch: 140 Step: 1400 Loss: 0.11948295682668686\n",
            "Epoch: 150 Step: 1500 Loss: 0.09437620639801025\n",
            "Epoch: 160 Step: 1600 Loss: 0.4670370817184448\n",
            "Epoch: 170 Step: 1700 Loss: 2.0694775581359863\n",
            "Epoch: 180 Step: 1800 Loss: 0.001972649712115526\n",
            "Epoch: 190 Step: 1900 Loss: 0.3612426519393921\n"
          ]
        }
      ]
    },
    {
      "cell_type": "code",
      "source": [
        "print(f\"Parameters: {model.w.numpy(), model.b.numpy()}\")\n",
        "\n",
        "X_test = np.linspace(0, 9, num=100).reshape(-1, 1)\n",
        "X_test_norm = (X_test - np.mean(X_train)) / np.std(X_train)\n",
        "\n",
        "y_pred = model(tf.cast(X_test_norm, dtype=tf.float32))\n",
        "\n",
        "fig = plt.figure(figsize=(13, 5))\n",
        "ax = fig.add_subplot(1, 2, 1)\n",
        "plt.plot(X_train_norm, y_train, 'o', markersize=10)\n",
        "plt.plot(X_test_norm, y_pred, '--', lw=3)\n",
        "plt.legend(['Training examples', 'Linear Reg.'], fontsize=15)\n",
        "ax.set_xlabel('x', size=15)\n",
        "ax.set_ylabel('y', size=15)\n",
        "ax.tick_params(axis='both', which='major', labelsize=15)\n",
        "\n",
        "ax = fig.add_subplot(1, 2, 2)\n",
        "plt.plot(Ws, lw=3)\n",
        "plt.plot(bs, lw=3)\n",
        "plt.legend(['Weight w', 'Bias unit b'], fontsize=15)\n",
        "ax.set_xlabel('Iteration', size=15)\n",
        "ax.set_ylabel('Value', size=15)\n",
        "ax.tick_params(axis='both', which='major', labelsize=15)\n",
        "\n",
        "plt.show()"
      ],
      "metadata": {
        "colab": {
          "base_uri": "https://localhost:8080/",
          "height": 391
        },
        "id": "fjEgZbXBUdpZ",
        "outputId": "4dc1284a-351c-4619-93e3-b58115c3628e"
      },
      "execution_count": 9,
      "outputs": [
        {
          "output_type": "stream",
          "name": "stdout",
          "text": [
            "Parameters: (2.6576622, 4.8798566)\n"
          ]
        },
        {
          "output_type": "display_data",
          "data": {
            "text/plain": [
              "<Figure size 1300x500 with 2 Axes>"
            ],
            "image/png": "[encoded data removed]"
          },
          "metadata": {}
        }
      ]
    },
    {
      "cell_type": "code",
      "source": [
        "tf.random.set_seed(1)\n",
        "\n",
        "model = MyModel()\n",
        "\n",
        "model.compile(optimizer='sgd',\n",
        "              loss=loss_fn,\n",
        "              metrics=['mae', 'mse'])\n",
        "\n",
        "model.fit(X_train_norm, y_train,\n",
        "          epochs=num_epochs, batch_size=batch_size,\n",
        "          verbose=1)"
      ],
      "metadata": {
        "colab": {
          "base_uri": "https://localhost:8080/"
        },
        "id": "DrtRETkhWY9k",
        "outputId": "a8ac0f57-1a21-4c68-8ee9-a513d02f6f8c"
      },
      "execution_count": 10,
      "outputs": [
        {
          "output_type": "stream",
          "name": "stdout",
          "text": [
            "Epoch 1/200\n",
            "10/10 [==============================] - 1s 6ms/step - loss: 27.8723 - mae: 4.5654 - mse: 27.8723\n",
            "Epoch 2/200\n",
            "10/10 [==============================] - 0s 5ms/step - loss: 18.6586 - mae: 3.7446 - mse: 18.6586\n",
            "Epoch 3/200\n",
            "10/10 [==============================] - 0s 4ms/step - loss: 12.5239 - mae: 3.0454 - mse: 12.5239\n",
            "Epoch 4/200\n",
            "10/10 [==============================] - 0s 4ms/step - loss: 8.4670 - mae: 2.4907 - mse: 8.4670\n",
            "Epoch 5/200\n",
            "10/10 [==============================] - 0s 3ms/step - loss: 5.7632 - mae: 2.0567 - mse: 5.7632\n",
            "Epoch 6/200\n",
            "10/10 [==============================] - 0s 3ms/step - loss: 3.9697 - mae: 1.7232 - mse: 3.9697\n",
            "Epoch 7/200\n",
            "10/10 [==============================] - 0s 3ms/step - loss: 2.7766 - mae: 1.4752 - mse: 2.7766\n",
            "Epoch 8/200\n",
            "10/10 [==============================] - 0s 3ms/step - loss: 1.9861 - mae: 1.2578 - mse: 1.9861\n",
            "Epoch 9/200\n",
            "10/10 [==============================] - 0s 3ms/step - loss: 1.4572 - mae: 1.0978 - mse: 1.4572\n",
            "Epoch 10/200\n",
            "10/10 [==============================] - 0s 4ms/step - loss: 1.1055 - mae: 0.9674 - mse: 1.1055\n",
            "Epoch 11/200\n",
            "10/10 [==============================] - 0s 3ms/step - loss: 0.8719 - mae: 0.8633 - mse: 0.8719\n",
            "Epoch 12/200\n",
            "10/10 [==============================] - 0s 4ms/step - loss: 0.7171 - mae: 0.7713 - mse: 0.7171\n",
            "Epoch 13/200\n",
            "10/10 [==============================] - 0s 6ms/step - loss: 0.6147 - mae: 0.7012 - mse: 0.6147\n",
            "Epoch 14/200\n",
            "10/10 [==============================] - 0s 5ms/step - loss: 0.5476 - mae: 0.6474 - mse: 0.5476\n",
            "Epoch 15/200\n",
            "10/10 [==============================] - 0s 3ms/step - loss: 0.5024 - mae: 0.5972 - mse: 0.5024\n",
            "Epoch 16/200\n",
            "10/10 [==============================] - 0s 3ms/step - loss: 0.4736 - mae: 0.5529 - mse: 0.4736\n",
            "Epoch 17/200\n",
            "10/10 [==============================] - 0s 4ms/step - loss: 0.4543 - mae: 0.5322 - mse: 0.4543\n",
            "Epoch 18/200\n",
            "10/10 [==============================] - 0s 4ms/step - loss: 0.4403 - mae: 0.5131 - mse: 0.4403\n",
            "Epoch 19/200\n",
            "10/10 [==============================] - 0s 3ms/step - loss: 0.4309 - mae: 0.5015 - mse: 0.4309\n",
            "Epoch 20/200\n",
            "10/10 [==============================] - 0s 3ms/step - loss: 0.4254 - mae: 0.5001 - mse: 0.4254\n",
            "Epoch 21/200\n",
            "10/10 [==============================] - 0s 10ms/step - loss: 0.4213 - mae: 0.4908 - mse: 0.4213\n",
            "Epoch 22/200\n",
            "10/10 [==============================] - 0s 8ms/step - loss: 0.4189 - mae: 0.4919 - mse: 0.4189\n",
            "Epoch 23/200\n",
            "10/10 [==============================] - 0s 3ms/step - loss: 0.4172 - mae: 0.4942 - mse: 0.4172\n",
            "Epoch 24/200\n",
            "10/10 [==============================] - 0s 7ms/step - loss: 0.4158 - mae: 0.4921 - mse: 0.4158\n",
            "Epoch 25/200\n",
            "10/10 [==============================] - 0s 5ms/step - loss: 0.4151 - mae: 0.4872 - mse: 0.4151\n",
            "Epoch 26/200\n",
            "10/10 [==============================] - 0s 5ms/step - loss: 0.4149 - mae: 0.4950 - mse: 0.4149\n",
            "Epoch 27/200\n",
            "10/10 [==============================] - 0s 4ms/step - loss: 0.4144 - mae: 0.4949 - mse: 0.4144\n",
            "Epoch 28/200\n",
            "10/10 [==============================] - 0s 3ms/step - loss: 0.4139 - mae: 0.4838 - mse: 0.4139\n",
            "Epoch 29/200\n",
            "10/10 [==============================] - 0s 10ms/step - loss: 0.4140 - mae: 0.4913 - mse: 0.4140\n",
            "Epoch 30/200\n",
            "10/10 [==============================] - 0s 8ms/step - loss: 0.4132 - mae: 0.4968 - mse: 0.4132\n",
            "Epoch 31/200\n",
            "10/10 [==============================] - 0s 15ms/step - loss: 0.4139 - mae: 0.4894 - mse: 0.4139\n",
            "Epoch 32/200\n",
            "10/10 [==============================] - 0s 5ms/step - loss: 0.4136 - mae: 0.4894 - mse: 0.4136\n",
            "Epoch 33/200\n",
            "10/10 [==============================] - 0s 5ms/step - loss: 0.4137 - mae: 0.4928 - mse: 0.4137\n",
            "Epoch 34/200\n",
            "10/10 [==============================] - 0s 4ms/step - loss: 0.4132 - mae: 0.4834 - mse: 0.4132\n",
            "Epoch 35/200\n",
            "10/10 [==============================] - 0s 3ms/step - loss: 0.4137 - mae: 0.4939 - mse: 0.4137\n",
            "Epoch 36/200\n",
            "10/10 [==============================] - 0s 3ms/step - loss: 0.4136 - mae: 0.4947 - mse: 0.4136\n",
            "Epoch 37/200\n",
            "10/10 [==============================] - 0s 4ms/step - loss: 0.4131 - mae: 0.4855 - mse: 0.4131\n",
            "Epoch 38/200\n",
            "10/10 [==============================] - 0s 4ms/step - loss: 0.4133 - mae: 0.4940 - mse: 0.4133\n",
            "Epoch 39/200\n",
            "10/10 [==============================] - 0s 2ms/step - loss: 0.4134 - mae: 0.4822 - mse: 0.4134\n",
            "Epoch 40/200\n",
            "10/10 [==============================] - 0s 3ms/step - loss: 0.4137 - mae: 0.4979 - mse: 0.4137\n",
            "Epoch 41/200\n",
            "10/10 [==============================] - 0s 3ms/step - loss: 0.4138 - mae: 0.4903 - mse: 0.4138\n",
            "Epoch 42/200\n",
            "10/10 [==============================] - 0s 3ms/step - loss: 0.4135 - mae: 0.4932 - mse: 0.4135\n",
            "Epoch 43/200\n",
            "10/10 [==============================] - 0s 3ms/step - loss: 0.4136 - mae: 0.4886 - mse: 0.4136\n",
            "Epoch 44/200\n",
            "10/10 [==============================] - 0s 3ms/step - loss: 0.4129 - mae: 0.4800 - mse: 0.4129\n",
            "Epoch 45/200\n",
            "10/10 [==============================] - 0s 4ms/step - loss: 0.4140 - mae: 0.4886 - mse: 0.4140\n",
            "Epoch 46/200\n",
            "10/10 [==============================] - 0s 6ms/step - loss: 0.4138 - mae: 0.4888 - mse: 0.4138\n",
            "Epoch 47/200\n",
            "10/10 [==============================] - 0s 4ms/step - loss: 0.4137 - mae: 0.4879 - mse: 0.4137\n",
            "Epoch 48/200\n",
            "10/10 [==============================] - 0s 8ms/step - loss: 0.4135 - mae: 0.4925 - mse: 0.4135\n",
            "Epoch 49/200\n",
            "10/10 [==============================] - 0s 6ms/step - loss: 0.4136 - mae: 0.4933 - mse: 0.4136\n",
            "Epoch 50/200\n",
            "10/10 [==============================] - 0s 6ms/step - loss: 0.4137 - mae: 0.4816 - mse: 0.4137\n",
            "Epoch 51/200\n",
            "10/10 [==============================] - 0s 5ms/step - loss: 0.4137 - mae: 0.4901 - mse: 0.4137\n",
            "Epoch 52/200\n",
            "10/10 [==============================] - 0s 4ms/step - loss: 0.4136 - mae: 0.4935 - mse: 0.4136\n",
            "Epoch 53/200\n",
            "10/10 [==============================] - 0s 7ms/step - loss: 0.4133 - mae: 0.4881 - mse: 0.4133\n",
            "Epoch 54/200\n",
            "10/10 [==============================] - 0s 9ms/step - loss: 0.4138 - mae: 0.4831 - mse: 0.4138\n",
            "Epoch 55/200\n",
            "10/10 [==============================] - 0s 9ms/step - loss: 0.4139 - mae: 0.4845 - mse: 0.4139\n",
            "Epoch 56/200\n",
            "10/10 [==============================] - 0s 6ms/step - loss: 0.4139 - mae: 0.4868 - mse: 0.4139\n",
            "Epoch 57/200\n",
            "10/10 [==============================] - 0s 5ms/step - loss: 0.4139 - mae: 0.4903 - mse: 0.4139\n",
            "Epoch 58/200\n",
            "10/10 [==============================] - 0s 7ms/step - loss: 0.4138 - mae: 0.4827 - mse: 0.4138\n",
            "Epoch 59/200\n",
            "10/10 [==============================] - 0s 5ms/step - loss: 0.4138 - mae: 0.4849 - mse: 0.4138\n",
            "Epoch 60/200\n",
            "10/10 [==============================] - 0s 6ms/step - loss: 0.4136 - mae: 0.4989 - mse: 0.4136\n",
            "Epoch 61/200\n",
            "10/10 [==============================] - 0s 8ms/step - loss: 0.4138 - mae: 0.4854 - mse: 0.4138\n",
            "Epoch 62/200\n",
            "10/10 [==============================] - 0s 12ms/step - loss: 0.4133 - mae: 0.4913 - mse: 0.4133\n",
            "Epoch 63/200\n",
            "10/10 [==============================] - 0s 5ms/step - loss: 0.4136 - mae: 0.4915 - mse: 0.4136\n",
            "Epoch 64/200\n",
            "10/10 [==============================] - 0s 4ms/step - loss: 0.4138 - mae: 0.4882 - mse: 0.4138\n",
            "Epoch 65/200\n",
            "10/10 [==============================] - 0s 5ms/step - loss: 0.4139 - mae: 0.4881 - mse: 0.4139\n",
            "Epoch 66/200\n",
            "10/10 [==============================] - 0s 5ms/step - loss: 0.4135 - mae: 0.4882 - mse: 0.4135\n",
            "Epoch 67/200\n",
            "10/10 [==============================] - 0s 8ms/step - loss: 0.4140 - mae: 0.4888 - mse: 0.4140\n",
            "Epoch 68/200\n",
            "10/10 [==============================] - 0s 11ms/step - loss: 0.4138 - mae: 0.4890 - mse: 0.4138\n",
            "Epoch 69/200\n",
            "10/10 [==============================] - 0s 9ms/step - loss: 0.4137 - mae: 0.4823 - mse: 0.4137\n",
            "Epoch 70/200\n",
            "10/10 [==============================] - 0s 5ms/step - loss: 0.4135 - mae: 0.4800 - mse: 0.4135\n",
            "Epoch 71/200\n",
            "10/10 [==============================] - 0s 5ms/step - loss: 0.4136 - mae: 0.4938 - mse: 0.4136\n",
            "Epoch 72/200\n",
            "10/10 [==============================] - 0s 5ms/step - loss: 0.4135 - mae: 0.4915 - mse: 0.4135\n",
            "Epoch 73/200\n",
            "10/10 [==============================] - 0s 4ms/step - loss: 0.4139 - mae: 0.4901 - mse: 0.4139\n",
            "Epoch 74/200\n",
            "10/10 [==============================] - 0s 5ms/step - loss: 0.4139 - mae: 0.4915 - mse: 0.4139\n",
            "Epoch 75/200\n",
            "10/10 [==============================] - 0s 4ms/step - loss: 0.4133 - mae: 0.4894 - mse: 0.4133\n",
            "Epoch 76/200\n",
            "10/10 [==============================] - 0s 4ms/step - loss: 0.4136 - mae: 0.4939 - mse: 0.4136\n",
            "Epoch 77/200\n",
            "10/10 [==============================] - 0s 4ms/step - loss: 0.4139 - mae: 0.4824 - mse: 0.4139\n",
            "Epoch 78/200\n",
            "10/10 [==============================] - 0s 4ms/step - loss: 0.4136 - mae: 0.4811 - mse: 0.4136\n",
            "Epoch 79/200\n",
            "10/10 [==============================] - 0s 3ms/step - loss: 0.4137 - mae: 0.4854 - mse: 0.4137\n",
            "Epoch 80/200\n",
            "10/10 [==============================] - 0s 5ms/step - loss: 0.4136 - mae: 0.4842 - mse: 0.4136\n",
            "Epoch 81/200\n",
            "10/10 [==============================] - 0s 3ms/step - loss: 0.4139 - mae: 0.4923 - mse: 0.4139\n",
            "Epoch 82/200\n",
            "10/10 [==============================] - 0s 4ms/step - loss: 0.4137 - mae: 0.4861 - mse: 0.4137\n",
            "Epoch 83/200\n",
            "10/10 [==============================] - 0s 5ms/step - loss: 0.4135 - mae: 0.4913 - mse: 0.4135\n",
            "Epoch 84/200\n",
            "10/10 [==============================] - 0s 5ms/step - loss: 0.4139 - mae: 0.4861 - mse: 0.4139\n",
            "Epoch 85/200\n",
            "10/10 [==============================] - 0s 4ms/step - loss: 0.4135 - mae: 0.4814 - mse: 0.4135\n",
            "Epoch 86/200\n",
            "10/10 [==============================] - 0s 3ms/step - loss: 0.4137 - mae: 0.4928 - mse: 0.4137\n",
            "Epoch 87/200\n",
            "10/10 [==============================] - 0s 3ms/step - loss: 0.4137 - mae: 0.4861 - mse: 0.4137\n",
            "Epoch 88/200\n",
            "10/10 [==============================] - 0s 8ms/step - loss: 0.4138 - mae: 0.4916 - mse: 0.4138\n",
            "Epoch 89/200\n",
            "10/10 [==============================] - 0s 4ms/step - loss: 0.4138 - mae: 0.4940 - mse: 0.4138\n",
            "Epoch 90/200\n",
            "10/10 [==============================] - 0s 9ms/step - loss: 0.4135 - mae: 0.4943 - mse: 0.4135\n",
            "Epoch 91/200\n",
            "10/10 [==============================] - 0s 7ms/step - loss: 0.4139 - mae: 0.4923 - mse: 0.4139\n",
            "Epoch 92/200\n",
            "10/10 [==============================] - 0s 5ms/step - loss: 0.4138 - mae: 0.4877 - mse: 0.4138\n",
            "Epoch 93/200\n",
            "10/10 [==============================] - 0s 9ms/step - loss: 0.4137 - mae: 0.4862 - mse: 0.4137\n",
            "Epoch 94/200\n",
            "10/10 [==============================] - 0s 7ms/step - loss: 0.4138 - mae: 0.4867 - mse: 0.4138\n",
            "Epoch 95/200\n",
            "10/10 [==============================] - 0s 7ms/step - loss: 0.4134 - mae: 0.4790 - mse: 0.4134\n",
            "Epoch 96/200\n",
            "10/10 [==============================] - 0s 7ms/step - loss: 0.4139 - mae: 0.4913 - mse: 0.4139\n",
            "Epoch 97/200\n",
            "10/10 [==============================] - 0s 8ms/step - loss: 0.4133 - mae: 0.4977 - mse: 0.4133\n",
            "Epoch 98/200\n",
            "10/10 [==============================] - 0s 5ms/step - loss: 0.4136 - mae: 0.4962 - mse: 0.4136\n",
            "Epoch 99/200\n",
            "10/10 [==============================] - 0s 8ms/step - loss: 0.4135 - mae: 0.4962 - mse: 0.4135\n",
            "Epoch 100/200\n",
            "10/10 [==============================] - 0s 3ms/step - loss: 0.4133 - mae: 0.4837 - mse: 0.4133\n",
            "Epoch 101/200\n",
            "10/10 [==============================] - 0s 5ms/step - loss: 0.4138 - mae: 0.4840 - mse: 0.4138\n",
            "Epoch 102/200\n",
            "10/10 [==============================] - 0s 4ms/step - loss: 0.4136 - mae: 0.4862 - mse: 0.4136\n",
            "Epoch 103/200\n",
            "10/10 [==============================] - 0s 3ms/step - loss: 0.4139 - mae: 0.4905 - mse: 0.4139\n",
            "Epoch 104/200\n",
            "10/10 [==============================] - 0s 4ms/step - loss: 0.4137 - mae: 0.4974 - mse: 0.4137\n",
            "Epoch 105/200\n",
            "10/10 [==============================] - 0s 3ms/step - loss: 0.4130 - mae: 0.4923 - mse: 0.4130\n",
            "Epoch 106/200\n",
            "10/10 [==============================] - 0s 3ms/step - loss: 0.4138 - mae: 0.4851 - mse: 0.4138\n",
            "Epoch 107/200\n",
            "10/10 [==============================] - 0s 3ms/step - loss: 0.4138 - mae: 0.4849 - mse: 0.4138\n",
            "Epoch 108/200\n",
            "10/10 [==============================] - 0s 3ms/step - loss: 0.4134 - mae: 0.4929 - mse: 0.4134\n",
            "Epoch 109/200\n",
            "10/10 [==============================] - 0s 3ms/step - loss: 0.4137 - mae: 0.4944 - mse: 0.4137\n",
            "Epoch 110/200\n",
            "10/10 [==============================] - 0s 3ms/step - loss: 0.4135 - mae: 0.4793 - mse: 0.4135\n",
            "Epoch 111/200\n",
            "10/10 [==============================] - 0s 3ms/step - loss: 0.4133 - mae: 0.4822 - mse: 0.4133\n",
            "Epoch 112/200\n",
            "10/10 [==============================] - 0s 5ms/step - loss: 0.4130 - mae: 0.4855 - mse: 0.4130\n",
            "Epoch 113/200\n",
            "10/10 [==============================] - 0s 4ms/step - loss: 0.4139 - mae: 0.4918 - mse: 0.4139\n",
            "Epoch 114/200\n",
            "10/10 [==============================] - 0s 4ms/step - loss: 0.4136 - mae: 0.4870 - mse: 0.4136\n",
            "Epoch 115/200\n",
            "10/10 [==============================] - 0s 9ms/step - loss: 0.4137 - mae: 0.4855 - mse: 0.4137\n",
            "Epoch 116/200\n",
            "10/10 [==============================] - 0s 10ms/step - loss: 0.4136 - mae: 0.4838 - mse: 0.4136\n",
            "Epoch 117/200\n",
            "10/10 [==============================] - 0s 8ms/step - loss: 0.4139 - mae: 0.4898 - mse: 0.4139\n",
            "Epoch 118/200\n",
            "10/10 [==============================] - 0s 6ms/step - loss: 0.4139 - mae: 0.4861 - mse: 0.4139\n",
            "Epoch 119/200\n",
            "10/10 [==============================] - 0s 5ms/step - loss: 0.4140 - mae: 0.4889 - mse: 0.4140\n",
            "Epoch 120/200\n",
            "10/10 [==============================] - 0s 6ms/step - loss: 0.4140 - mae: 0.4920 - mse: 0.4140\n",
            "Epoch 121/200\n",
            "10/10 [==============================] - 0s 5ms/step - loss: 0.4138 - mae: 0.4944 - mse: 0.4138\n",
            "Epoch 122/200\n",
            "10/10 [==============================] - 0s 3ms/step - loss: 0.4139 - mae: 0.4941 - mse: 0.4139\n",
            "Epoch 123/200\n",
            "10/10 [==============================] - 0s 6ms/step - loss: 0.4132 - mae: 0.4822 - mse: 0.4132\n",
            "Epoch 124/200\n",
            "10/10 [==============================] - 0s 3ms/step - loss: 0.4135 - mae: 0.4840 - mse: 0.4135\n",
            "Epoch 125/200\n",
            "10/10 [==============================] - 0s 6ms/step - loss: 0.4137 - mae: 0.4908 - mse: 0.4137\n",
            "Epoch 126/200\n",
            "10/10 [==============================] - 0s 5ms/step - loss: 0.4140 - mae: 0.4927 - mse: 0.4140\n",
            "Epoch 127/200\n",
            "10/10 [==============================] - 0s 9ms/step - loss: 0.4139 - mae: 0.4918 - mse: 0.4139\n",
            "Epoch 128/200\n",
            "10/10 [==============================] - 0s 7ms/step - loss: 0.4139 - mae: 0.4882 - mse: 0.4139\n",
            "Epoch 129/200\n",
            "10/10 [==============================] - 0s 4ms/step - loss: 0.4139 - mae: 0.4905 - mse: 0.4139\n",
            "Epoch 130/200\n",
            "10/10 [==============================] - 0s 5ms/step - loss: 0.4139 - mae: 0.4882 - mse: 0.4139\n",
            "Epoch 131/200\n",
            "10/10 [==============================] - 0s 7ms/step - loss: 0.4140 - mae: 0.4897 - mse: 0.4140\n",
            "Epoch 132/200\n",
            "10/10 [==============================] - 0s 4ms/step - loss: 0.4138 - mae: 0.4872 - mse: 0.4138\n",
            "Epoch 133/200\n",
            "10/10 [==============================] - 0s 7ms/step - loss: 0.4139 - mae: 0.4868 - mse: 0.4139\n",
            "Epoch 134/200\n",
            "10/10 [==============================] - 0s 3ms/step - loss: 0.4136 - mae: 0.4867 - mse: 0.4136\n",
            "Epoch 135/200\n",
            "10/10 [==============================] - 0s 3ms/step - loss: 0.4137 - mae: 0.4939 - mse: 0.4137\n",
            "Epoch 136/200\n",
            "10/10 [==============================] - 0s 3ms/step - loss: 0.4136 - mae: 0.4872 - mse: 0.4136\n",
            "Epoch 137/200\n",
            "10/10 [==============================] - 0s 4ms/step - loss: 0.4140 - mae: 0.4886 - mse: 0.4140\n",
            "Epoch 138/200\n",
            "10/10 [==============================] - 0s 3ms/step - loss: 0.4136 - mae: 0.4973 - mse: 0.4136\n",
            "Epoch 139/200\n",
            "10/10 [==============================] - 0s 5ms/step - loss: 0.4132 - mae: 0.4847 - mse: 0.4132\n",
            "Epoch 140/200\n",
            "10/10 [==============================] - 0s 3ms/step - loss: 0.4139 - mae: 0.4943 - mse: 0.4139\n",
            "Epoch 141/200\n",
            "10/10 [==============================] - 0s 5ms/step - loss: 0.4139 - mae: 0.4879 - mse: 0.4139\n",
            "Epoch 142/200\n",
            "10/10 [==============================] - 0s 5ms/step - loss: 0.4138 - mae: 0.4847 - mse: 0.4138\n",
            "Epoch 143/200\n",
            "10/10 [==============================] - 0s 5ms/step - loss: 0.4137 - mae: 0.4857 - mse: 0.4137\n",
            "Epoch 144/200\n",
            "10/10 [==============================] - 0s 5ms/step - loss: 0.4138 - mae: 0.4900 - mse: 0.4138\n",
            "Epoch 145/200\n",
            "10/10 [==============================] - 0s 3ms/step - loss: 0.4132 - mae: 0.4884 - mse: 0.4132\n",
            "Epoch 146/200\n",
            "10/10 [==============================] - 0s 3ms/step - loss: 0.4139 - mae: 0.4925 - mse: 0.4139\n",
            "Epoch 147/200\n",
            "10/10 [==============================] - 0s 3ms/step - loss: 0.4134 - mae: 0.4866 - mse: 0.4134\n",
            "Epoch 148/200\n",
            "10/10 [==============================] - 0s 3ms/step - loss: 0.4139 - mae: 0.4887 - mse: 0.4139\n",
            "Epoch 149/200\n",
            "10/10 [==============================] - 0s 3ms/step - loss: 0.4132 - mae: 0.4858 - mse: 0.4132\n",
            "Epoch 150/200\n",
            "10/10 [==============================] - 0s 5ms/step - loss: 0.4140 - mae: 0.4936 - mse: 0.4140\n",
            "Epoch 151/200\n",
            "10/10 [==============================] - 0s 3ms/step - loss: 0.4139 - mae: 0.4885 - mse: 0.4139\n",
            "Epoch 152/200\n",
            "10/10 [==============================] - 0s 4ms/step - loss: 0.4139 - mae: 0.4876 - mse: 0.4139\n",
            "Epoch 153/200\n",
            "10/10 [==============================] - 0s 3ms/step - loss: 0.4133 - mae: 0.4937 - mse: 0.4133\n",
            "Epoch 154/200\n",
            "10/10 [==============================] - 0s 3ms/step - loss: 0.4140 - mae: 0.4925 - mse: 0.4140\n",
            "Epoch 155/200\n",
            "10/10 [==============================] - 0s 3ms/step - loss: 0.4135 - mae: 0.4933 - mse: 0.4135\n",
            "Epoch 156/200\n",
            "10/10 [==============================] - 0s 3ms/step - loss: 0.4139 - mae: 0.4902 - mse: 0.4139\n",
            "Epoch 157/200\n",
            "10/10 [==============================] - 0s 4ms/step - loss: 0.4136 - mae: 0.4907 - mse: 0.4136\n",
            "Epoch 158/200\n",
            "10/10 [==============================] - 0s 3ms/step - loss: 0.4130 - mae: 0.4830 - mse: 0.4130\n",
            "Epoch 159/200\n",
            "10/10 [==============================] - 0s 3ms/step - loss: 0.4139 - mae: 0.4870 - mse: 0.4139\n",
            "Epoch 160/200\n",
            "10/10 [==============================] - 0s 6ms/step - loss: 0.4138 - mae: 0.4829 - mse: 0.4138\n",
            "Epoch 161/200\n",
            "10/10 [==============================] - 0s 7ms/step - loss: 0.4132 - mae: 0.4864 - mse: 0.4132\n",
            "Epoch 162/200\n",
            "10/10 [==============================] - 0s 3ms/step - loss: 0.4140 - mae: 0.4928 - mse: 0.4140\n",
            "Epoch 163/200\n",
            "10/10 [==============================] - 0s 3ms/step - loss: 0.4140 - mae: 0.4906 - mse: 0.4140\n",
            "Epoch 164/200\n",
            "10/10 [==============================] - 0s 3ms/step - loss: 0.4135 - mae: 0.4831 - mse: 0.4135\n",
            "Epoch 165/200\n",
            "10/10 [==============================] - 0s 5ms/step - loss: 0.4139 - mae: 0.4874 - mse: 0.4139\n",
            "Epoch 166/200\n",
            "10/10 [==============================] - 0s 4ms/step - loss: 0.4133 - mae: 0.4942 - mse: 0.4133\n",
            "Epoch 167/200\n",
            "10/10 [==============================] - 0s 3ms/step - loss: 0.4140 - mae: 0.4919 - mse: 0.4140\n",
            "Epoch 168/200\n",
            "10/10 [==============================] - 0s 4ms/step - loss: 0.4139 - mae: 0.4889 - mse: 0.4139\n",
            "Epoch 169/200\n",
            "10/10 [==============================] - 0s 3ms/step - loss: 0.4133 - mae: 0.4986 - mse: 0.4133\n",
            "Epoch 170/200\n",
            "10/10 [==============================] - 0s 3ms/step - loss: 0.4132 - mae: 0.4820 - mse: 0.4132\n",
            "Epoch 171/200\n",
            "10/10 [==============================] - 0s 3ms/step - loss: 0.4139 - mae: 0.4880 - mse: 0.4139\n",
            "Epoch 172/200\n",
            "10/10 [==============================] - 0s 5ms/step - loss: 0.4138 - mae: 0.4936 - mse: 0.4138\n",
            "Epoch 173/200\n",
            "10/10 [==============================] - 0s 3ms/step - loss: 0.4138 - mae: 0.4858 - mse: 0.4138\n",
            "Epoch 174/200\n",
            "10/10 [==============================] - 0s 3ms/step - loss: 0.4138 - mae: 0.4872 - mse: 0.4138\n",
            "Epoch 175/200\n",
            "10/10 [==============================] - 0s 3ms/step - loss: 0.4134 - mae: 0.4953 - mse: 0.4134\n",
            "Epoch 176/200\n",
            "10/10 [==============================] - 0s 3ms/step - loss: 0.4135 - mae: 0.4950 - mse: 0.4135\n",
            "Epoch 177/200\n",
            "10/10 [==============================] - 0s 3ms/step - loss: 0.4139 - mae: 0.4918 - mse: 0.4139\n",
            "Epoch 178/200\n",
            "10/10 [==============================] - 0s 4ms/step - loss: 0.4137 - mae: 0.4893 - mse: 0.4137\n",
            "Epoch 179/200\n",
            "10/10 [==============================] - 0s 4ms/step - loss: 0.4138 - mae: 0.4829 - mse: 0.4138\n",
            "Epoch 180/200\n",
            "10/10 [==============================] - 0s 5ms/step - loss: 0.4135 - mae: 0.4956 - mse: 0.4135\n",
            "Epoch 181/200\n",
            "10/10 [==============================] - 0s 4ms/step - loss: 0.4137 - mae: 0.4864 - mse: 0.4137\n",
            "Epoch 182/200\n",
            "10/10 [==============================] - 0s 3ms/step - loss: 0.4137 - mae: 0.4838 - mse: 0.4137\n",
            "Epoch 183/200\n",
            "10/10 [==============================] - 0s 3ms/step - loss: 0.4138 - mae: 0.4886 - mse: 0.4138\n",
            "Epoch 184/200\n",
            "10/10 [==============================] - 0s 3ms/step - loss: 0.4130 - mae: 0.4909 - mse: 0.4130\n",
            "Epoch 185/200\n",
            "10/10 [==============================] - 0s 3ms/step - loss: 0.4133 - mae: 0.4766 - mse: 0.4133\n",
            "Epoch 186/200\n",
            "10/10 [==============================] - 0s 3ms/step - loss: 0.4139 - mae: 0.4859 - mse: 0.4139\n",
            "Epoch 187/200\n",
            "10/10 [==============================] - 0s 5ms/step - loss: 0.4138 - mae: 0.4941 - mse: 0.4138\n",
            "Epoch 188/200\n",
            "10/10 [==============================] - 0s 9ms/step - loss: 0.4134 - mae: 0.4823 - mse: 0.4134\n",
            "Epoch 189/200\n",
            "10/10 [==============================] - 0s 10ms/step - loss: 0.4138 - mae: 0.4837 - mse: 0.4138\n",
            "Epoch 190/200\n",
            "10/10 [==============================] - 0s 5ms/step - loss: 0.4138 - mae: 0.4937 - mse: 0.4138\n",
            "Epoch 191/200\n",
            "10/10 [==============================] - 0s 4ms/step - loss: 0.4138 - mae: 0.4944 - mse: 0.4138\n",
            "Epoch 192/200\n",
            "10/10 [==============================] - 0s 4ms/step - loss: 0.4140 - mae: 0.4927 - mse: 0.4140\n",
            "Epoch 193/200\n",
            "10/10 [==============================] - 0s 3ms/step - loss: 0.4140 - mae: 0.4893 - mse: 0.4140\n",
            "Epoch 194/200\n",
            "10/10 [==============================] - 0s 4ms/step - loss: 0.4135 - mae: 0.4846 - mse: 0.4135\n",
            "Epoch 195/200\n",
            "10/10 [==============================] - 0s 4ms/step - loss: 0.4138 - mae: 0.4844 - mse: 0.4138\n",
            "Epoch 196/200\n",
            "10/10 [==============================] - 0s 3ms/step - loss: 0.4139 - mae: 0.4936 - mse: 0.4139\n",
            "Epoch 197/200\n",
            "10/10 [==============================] - 0s 7ms/step - loss: 0.4135 - mae: 0.4964 - mse: 0.4135\n",
            "Epoch 198/200\n",
            "10/10 [==============================] - 0s 5ms/step - loss: 0.4138 - mae: 0.4873 - mse: 0.4138\n",
            "Epoch 199/200\n",
            "10/10 [==============================] - 0s 4ms/step - loss: 0.4139 - mae: 0.4846 - mse: 0.4139\n",
            "Epoch 200/200\n",
            "10/10 [==============================] - 0s 4ms/step - loss: 0.4138 - mae: 0.4868 - mse: 0.4138\n"
          ]
        },
        {
          "output_type": "execute_result",
          "data": {
            "text/plain": [
              "<keras.callbacks.History at 0x7f74d877e560>"
            ]
          },
          "metadata": {},
          "execution_count": 10
        }
      ]
    },
    {
      "cell_type": "code",
      "source": [
        "print(model.w.numpy(), model.b.numpy())\n",
        "\n",
        "\n",
        "X_test = np.linspace(0, 9, num=100).reshape(-1, 1)\n",
        "X_test_norm = (X_test - np.mean(X_train)) / np.std(X_train)\n",
        "\n",
        "y_pred = model(tf.cast(X_test_norm, dtype=tf.float32))\n",
        "\n",
        "\n",
        "fig = plt.figure(figsize=(13, 5))\n",
        "ax = fig.add_subplot(1, 2, 1)\n",
        "plt.plot(X_train_norm, y_train, 'o', markersize=10)\n",
        "plt.plot(X_test_norm, y_pred, '--', lw=3)\n",
        "plt.legend(['Training Samples', 'Linear Regression'], fontsize=15)\n",
        "\n",
        "ax = fig.add_subplot(1, 2, 2)\n",
        "plt.plot(Ws, lw=3)\n",
        "plt.plot(bs, lw=3)\n",
        "plt.legend(['W', 'bias'], fontsize=15)\n",
        "plt.show()"
      ],
      "metadata": {
        "colab": {
          "base_uri": "https://localhost:8080/",
          "height": 377
        },
        "id": "chouPKBiWqsF",
        "outputId": "5f94b56d-9d9a-4f88-bb98-72bb1d3796cd"
      },
      "execution_count": 11,
      "outputs": [
        {
          "output_type": "stream",
          "name": "stdout",
          "text": [
            "2.7067394 4.9657216\n"
          ]
        },
        {
          "output_type": "display_data",
          "data": {
            "text/plain": [
              "<Figure size 1300x500 with 2 Axes>"
            ],
            "image/png": "[encoded data removed]"
          },
          "metadata": {}
        }
      ]
    },
    {
      "cell_type": "code",
      "source": [
        "from sklearn.datasets import load_iris\n",
        "\n",
        "iris_data = load_iris()\n",
        "iris_data"
      ],
      "metadata": {
        "colab": {
          "base_uri": "https://localhost:8080/"
        },
        "id": "RuwBz0IGXq55",
        "outputId": "d10ddd25-d93d-450c-9361-2fa3f77b7b34"
      },
      "execution_count": 12,
      "outputs": [
        {
          "output_type": "execute_result",
          "data": {
            "text/plain": [
              "{'data': array([[5.1, 3.5, 1.4, 0.2],\n",
              "        [4.9, 3. , 1.4, 0.2],\n",
              "        [4.7, 3.2, 1.3, 0.2],\n",
              "        [4.6, 3.1, 1.5, 0.2],\n",
              "        [5. , 3.6, 1.4, 0.2],\n",
              "        [5.4, 3.9, 1.7, 0.4],\n",
              "        [4.6, 3.4, 1.4, 0.3],\n",
              "        [5. , 3.4, 1.5, 0.2],\n",
              "        [4.4, 2.9, 1.4, 0.2],\n",
              "        [4.9, 3.1, 1.5, 0.1],\n",
              "        [5.4, 3.7, 1.5, 0.2],\n",
              "        [4.8, 3.4, 1.6, 0.2],\n",
              "        [4.8, 3. , 1.4, 0.1],\n",
              "        [4.3, 3. , 1.1, 0.1],\n",
              "        [5.8, 4. , 1.2, 0.2],\n",
              "        [5.7, 4.4, 1.5, 0.4],\n",
              "        [5.4, 3.9, 1.3, 0.4],\n",
              "        [5.1, 3.5, 1.4, 0.3],\n",
              "        [5.7, 3.8, 1.7, 0.3],\n",
              "        [5.1, 3.8, 1.5, 0.3],\n",
              "        [5.4, 3.4, 1.7, 0.2],\n",
              "        [5.1, 3.7, 1.5, 0.4],\n",
              "        [4.6, 3.6, 1. , 0.2],\n",
              "        [5.1, 3.3, 1.7, 0.5],\n",
              "        [4.8, 3.4, 1.9, 0.2],\n",
              "        [5. , 3. , 1.6, 0.2],\n",
              "        [5. , 3.4, 1.6, 0.4],\n",
              "        [5.2, 3.5, 1.5, 0.2],\n",
              "        [5.2, 3.4, 1.4, 0.2],\n",
              "        [4.7, 3.2, 1.6, 0.2],\n",
              "        [4.8, 3.1, 1.6, 0.2],\n",
              "        [5.4, 3.4, 1.5, 0.4],\n",
              "        [5.2, 4.1, 1.5, 0.1],\n",
              "        [5.5, 4.2, 1.4, 0.2],\n",
              "        [4.9, 3.1, 1.5, 0.2],\n",
              "        [5. , 3.2, 1.2, 0.2],\n",
              "        [5.5, 3.5, 1.3, 0.2],\n",
              "        [4.9, 3.6, 1.4, 0.1],\n",
              "        [4.4, 3. , 1.3, 0.2],\n",
              "        [5.1, 3.4, 1.5, 0.2],\n",
              "        [5. , 3.5, 1.3, 0.3],\n",
              "        [4.5, 2.3, 1.3, 0.3],\n",
              "        [4.4, 3.2, 1.3, 0.2],\n",
              "        [5. , 3.5, 1.6, 0.6],\n",
              "        [5.1, 3.8, 1.9, 0.4],\n",
              "        [4.8, 3. , 1.4, 0.3],\n",
              "        [5.1, 3.8, 1.6, 0.2],\n",
              "        [4.6, 3.2, 1.4, 0.2],\n",
              "        [5.3, 3.7, 1.5, 0.2],\n",
              "        [5. , 3.3, 1.4, 0.2],\n",
              "        [7. , 3.2, 4.7, 1.4],\n",
              "        [6.4, 3.2, 4.5, 1.5],\n",
              "        [6.9, 3.1, 4.9, 1.5],\n",
              "        [5.5, 2.3, 4. , 1.3],\n",
              "        [6.5, 2.8, 4.6, 1.5],\n",
              "        [5.7, 2.8, 4.5, 1.3],\n",
              "        [6.3, 3.3, 4.7, 1.6],\n",
              "        [4.9, 2.4, 3.3, 1. ],\n",
              "        [6.6, 2.9, 4.6, 1.3],\n",
              "        [5.2, 2.7, 3.9, 1.4],\n",
              "        [5. , 2. , 3.5, 1. ],\n",
              "        [5.9, 3. , 4.2, 1.5],\n",
              "        [6. , 2.2, 4. , 1. ],\n",
              "        [6.1, 2.9, 4.7, 1.4],\n",
              "        [5.6, 2.9, 3.6, 1.3],\n",
              "        [6.7, 3.1, 4.4, 1.4],\n",
              "        [5.6, 3. , 4.5, 1.5],\n",
              "        [5.8, 2.7, 4.1, 1. ],\n",
              "        [6.2, 2.2, 4.5, 1.5],\n",
              "        [5.6, 2.5, 3.9, 1.1],\n",
              "        [5.9, 3.2, 4.8, 1.8],\n",
              "        [6.1, 2.8, 4. , 1.3],\n",
              "        [6.3, 2.5, 4.9, 1.5],\n",
              "        [6.1, 2.8, 4.7, 1.2],\n",
              "        [6.4, 2.9, 4.3, 1.3],\n",
              "        [6.6, 3. , 4.4, 1.4],\n",
              "        [6.8, 2.8, 4.8, 1.4],\n",
              "        [6.7, 3. , 5. , 1.7],\n",
              "        [6. , 2.9, 4.5, 1.5],\n",
              "        [5.7, 2.6, 3.5, 1. ],\n",
              "        [5.5, 2.4, 3.8, 1.1],\n",
              "        [5.5, 2.4, 3.7, 1. ],\n",
              "        [5.8, 2.7, 3.9, 1.2],\n",
              "        [6. , 2.7, 5.1, 1.6],\n",
              "        [5.4, 3. , 4.5, 1.5],\n",
              "        [6. , 3.4, 4.5, 1.6],\n",
              "        [6.7, 3.1, 4.7, 1.5],\n",
              "        [6.3, 2.3, 4.4, 1.3],\n",
              "        [5.6, 3. , 4.1, 1.3],\n",
              "        [5.5, 2.5, 4. , 1.3],\n",
              "        [5.5, 2.6, 4.4, 1.2],\n",
              "        [6.1, 3. , 4.6, 1.4],\n",
              "        [5.8, 2.6, 4. , 1.2],\n",
              "        [5. , 2.3, 3.3, 1. ],\n",
              "        [5.6, 2.7, 4.2, 1.3],\n",
              "        [5.7, 3. , 4.2, 1.2],\n",
              "        [5.7, 2.9, 4.2, 1.3],\n",
              "        [6.2, 2.9, 4.3, 1.3],\n",
              "        [5.1, 2.5, 3. , 1.1],\n",
              "        [5.7, 2.8, 4.1, 1.3],\n",
              "        [6.3, 3.3, 6. , 2.5],\n",
              "        [5.8, 2.7, 5.1, 1.9],\n",
              "        [7.1, 3. , 5.9, 2.1],\n",
              "        [6.3, 2.9, 5.6, 1.8],\n",
              "        [6.5, 3. , 5.8, 2.2],\n",
              "        [7.6, 3. , 6.6, 2.1],\n",
              "        [4.9, 2.5, 4.5, 1.7],\n",
              "        [7.3, 2.9, 6.3, 1.8],\n",
              "        [6.7, 2.5, 5.8, 1.8],\n",
              "        [7.2, 3.6, 6.1, 2.5],\n",
              "        [6.5, 3.2, 5.1, 2. ],\n",
              "        [6.4, 2.7, 5.3, 1.9],\n",
              "        [6.8, 3. , 5.5, 2.1],\n",
              "        [5.7, 2.5, 5. , 2. ],\n",
              "        [5.8, 2.8, 5.1, 2.4],\n",
              "        [6.4, 3.2, 5.3, 2.3],\n",
              "        [6.5, 3. , 5.5, 1.8],\n",
              "        [7.7, 3.8, 6.7, 2.2],\n",
              "        [7.7, 2.6, 6.9, 2.3],\n",
              "        [6. , 2.2, 5. , 1.5],\n",
              "        [6.9, 3.2, 5.7, 2.3],\n",
              "        [5.6, 2.8, 4.9, 2. ],\n",
              "        [7.7, 2.8, 6.7, 2. ],\n",
              "        [6.3, 2.7, 4.9, 1.8],\n",
              "        [6.7, 3.3, 5.7, 2.1],\n",
              "        [7.2, 3.2, 6. , 1.8],\n",
              "        [6.2, 2.8, 4.8, 1.8],\n",
              "        [6.1, 3. , 4.9, 1.8],\n",
              "        [6.4, 2.8, 5.6, 2.1],\n",
              "        [7.2, 3. , 5.8, 1.6],\n",
              "        [7.4, 2.8, 6.1, 1.9],\n",
              "        [7.9, 3.8, 6.4, 2. ],\n",
              "        [6.4, 2.8, 5.6, 2.2],\n",
              "        [6.3, 2.8, 5.1, 1.5],\n",
              "        [6.1, 2.6, 5.6, 1.4],\n",
              "        [7.7, 3. , 6.1, 2.3],\n",
              "        [6.3, 3.4, 5.6, 2.4],\n",
              "        [6.4, 3.1, 5.5, 1.8],\n",
              "        [6. , 3. , 4.8, 1.8],\n",
              "        [6.9, 3.1, 5.4, 2.1],\n",
              "        [6.7, 3.1, 5.6, 2.4],\n",
              "        [6.9, 3.1, 5.1, 2.3],\n",
              "        [5.8, 2.7, 5.1, 1.9],\n",
              "        [6.8, 3.2, 5.9, 2.3],\n",
              "        [6.7, 3.3, 5.7, 2.5],\n",
              "        [6.7, 3. , 5.2, 2.3],\n",
              "        [6.3, 2.5, 5. , 1.9],\n",
              "        [6.5, 3. , 5.2, 2. ],\n",
              "        [6.2, 3.4, 5.4, 2.3],\n",
              "        [5.9, 3. , 5.1, 1.8]]),\n",
              " 'target': array([0, 0, 0, 0, 0, 0, 0, 0, 0, 0, 0, 0, 0, 0, 0, 0, 0, 0, 0, 0, 0, 0,\n",
              "        0, 0, 0, 0, 0, 0, 0, 0, 0, 0, 0, 0, 0, 0, 0, 0, 0, 0, 0, 0, 0, 0,\n",
              "        0, 0, 0, 0, 0, 0, 1, 1, 1, 1, 1, 1, 1, 1, 1, 1, 1, 1, 1, 1, 1, 1,\n",
              "        1, 1, 1, 1, 1, 1, 1, 1, 1, 1, 1, 1, 1, 1, 1, 1, 1, 1, 1, 1, 1, 1,\n",
              "        1, 1, 1, 1, 1, 1, 1, 1, 1, 1, 1, 1, 2, 2, 2, 2, 2, 2, 2, 2, 2, 2,\n",
              "        2, 2, 2, 2, 2, 2, 2, 2, 2, 2, 2, 2, 2, 2, 2, 2, 2, 2, 2, 2, 2, 2,\n",
              "        2, 2, 2, 2, 2, 2, 2, 2, 2, 2, 2, 2, 2, 2, 2, 2, 2, 2]),\n",
              " 'frame': None,\n",
              " 'target_names': array(['setosa', 'versicolor', 'virginica'], dtype='<U10'),\n",
              " 'DESCR': '.. _iris_dataset:\\n\\nIris plants dataset\\n--------------------\\n\\n**Data Set Characteristics:**\\n\\n    :Number of Instances: 150 (50 in each of three classes)\\n    :Number of Attributes: 4 numeric, predictive attributes and the class\\n    :Attribute Information:\\n        - sepal length in cm\\n        - sepal width in cm\\n        - petal length in cm\\n        - petal width in cm\\n        - class:\\n                - Iris-Setosa\\n                - Iris-Versicolour\\n                - Iris-Virginica\\n                \\n    :Summary Statistics:\\n\\n    ============== ==== ==== ======= ===== ====================\\n                    Min  Max   Mean    SD   Class Correlation\\n    ============== ==== ==== ======= ===== ====================\\n    sepal length:   4.3  7.9   5.84   0.83    0.7826\\n    sepal width:    2.0  4.4   3.05   0.43   -0.4194\\n    petal length:   1.0  6.9   3.76   1.76    0.9490  (high!)\\n    petal width:    0.1  2.5   1.20   0.76    0.9565  (high!)\\n    ============== ==== ==== ======= ===== ====================\\n\\n    :Missing Attribute Values: None\\n    :Class Distribution: 33.3% for each of 3 classes.\\n    :Creator: R.A. Fisher\\n    :Donor: Michael Marshall (MARSHALL%PLU@io.arc.nasa.gov)\\n    :Date: July, 1988\\n\\nThe famous Iris database, first used by Sir R.A. Fisher. The dataset is taken\\nfrom Fisher\\'s paper. Note that it\\'s the same as in R, but not as in the UCI\\nMachine Learning Repository, which has two wrong data points.\\n\\nThis is perhaps the best known database to be found in the\\npattern recognition literature.  Fisher\\'s paper is a classic in the field and\\nis referenced frequently to this day.  (See Duda & Hart, for example.)  The\\ndata set contains 3 classes of 50 instances each, where each class refers to a\\ntype of iris plant.  One class is linearly separable from the other 2; the\\nlatter are NOT linearly separable from each other.\\n\\n.. topic:: References\\n\\n   - Fisher, R.A. \"The use of multiple measurements in taxonomic problems\"\\n     Annual Eugenics, 7, Part II, 179-188 (1936); also in \"Contributions to\\n     Mathematical Statistics\" (John Wiley, NY, 1950).\\n   - Duda, R.O., & Hart, P.E. (1973) Pattern Classification and Scene Analysis.\\n     (Q327.D83) John Wiley & Sons.  ISBN 0-471-22361-1.  See page 218.\\n   - Dasarathy, B.V. (1980) \"Nosing Around the Neighborhood: A New System\\n     Structure and Classification Rule for Recognition in Partially Exposed\\n     Environments\".  IEEE Transactions on Pattern Analysis and Machine\\n     Intelligence, Vol. PAMI-2, No. 1, 67-71.\\n   - Gates, G.W. (1972) \"The Reduced Nearest Neighbor Rule\".  IEEE Transactions\\n     on Information Theory, May 1972, 431-433.\\n   - See also: 1988 MLC Proceedings, 54-64.  Cheeseman et al\"s AUTOCLASS II\\n     conceptual clustering system finds 3 classes in the data.\\n   - Many, many more ...',\n",
              " 'feature_names': ['sepal length (cm)',\n",
              "  'sepal width (cm)',\n",
              "  'petal length (cm)',\n",
              "  'petal width (cm)'],\n",
              " 'filename': 'iris.csv',\n",
              " 'data_module': 'sklearn.datasets.data'}"
            ]
          },
          "metadata": {},
          "execution_count": 12
        }
      ]
    },
    {
      "cell_type": "code",
      "source": [
        "!pip install --upgrade tfds-nightly"
      ],
      "metadata": {
        "colab": {
          "base_uri": "https://localhost:8080/"
        },
        "id": "A0E5x0oDd22z",
        "outputId": "0d97b974-ac2d-4f6a-b49d-94c480454ae8"
      },
      "execution_count": 15,
      "outputs": [
        {
          "output_type": "stream",
          "name": "stdout",
          "text": [
            "Looking in indexes: https://pypi.org/simple, https://us-python.pkg.dev/colab-wheels/public/simple/\n",
            "Collecting tfds-nightly\n",
            "  Downloading tfds_nightly-4.9.2.dev202306110046-py3-none-any.whl (5.4 MB)\n",
            "\u001b[2K     \u001b[90m━━━━━━━━━━━━━━━━━━━━━━━━━━━━━━━━━━━━━━━━\u001b[0m \u001b[32m5.4/5.4 MB\u001b[0m \u001b[31m27.9 MB/s\u001b[0m eta \u001b[36m0:00:00\u001b[0m\n",
            "\u001b[?25hRequirement already satisfied: absl-py in /usr/local/lib/python3.10/dist-packages (from tfds-nightly) (1.4.0)\n",
            "Requirement already satisfied: array-record in /usr/local/lib/python3.10/dist-packages (from tfds-nightly) (0.2.0)\n",
            "Requirement already satisfied: click in /usr/local/lib/python3.10/dist-packages (from tfds-nightly) (8.1.3)\n",
            "Requirement already satisfied: dm-tree in /usr/local/lib/python3.10/dist-packages (from tfds-nightly) (0.1.8)\n",
            "Requirement already satisfied: etils[enp,epath,etree]>=0.9.0 in /usr/local/lib/python3.10/dist-packages (from tfds-nightly) (1.2.0)\n",
            "Requirement already satisfied: numpy in /usr/local/lib/python3.10/dist-packages (from tfds-nightly) (1.22.4)\n",
            "Requirement already satisfied: promise in /usr/local/lib/python3.10/dist-packages (from tfds-nightly) (2.3)\n",
            "Requirement already satisfied: protobuf>=3.20 in /usr/local/lib/python3.10/dist-packages (from tfds-nightly) (3.20.3)\n",
            "Requirement already satisfied: psutil in /usr/local/lib/python3.10/dist-packages (from tfds-nightly) (5.9.5)\n",
            "Requirement already satisfied: requests>=2.19.0 in /usr/local/lib/python3.10/dist-packages (from tfds-nightly) (2.27.1)\n",
            "Requirement already satisfied: tensorflow-metadata in /usr/local/lib/python3.10/dist-packages (from tfds-nightly) (1.13.1)\n",
            "Requirement already satisfied: termcolor in /usr/local/lib/python3.10/dist-packages (from tfds-nightly) (2.3.0)\n",
            "Requirement already satisfied: toml in /usr/local/lib/python3.10/dist-packages (from tfds-nightly) (0.10.2)\n",
            "Requirement already satisfied: tqdm in /usr/local/lib/python3.10/dist-packages (from tfds-nightly) (4.65.0)\n",
            "Requirement already satisfied: wrapt in /usr/local/lib/python3.10/dist-packages (from tfds-nightly) (1.14.1)\n",
            "Requirement already satisfied: importlib_resources in /usr/local/lib/python3.10/dist-packages (from etils[enp,epath,etree]>=0.9.0->tfds-nightly) (5.12.0)\n",
            "Requirement already satisfied: typing_extensions in /usr/local/lib/python3.10/dist-packages (from etils[enp,epath,etree]>=0.9.0->tfds-nightly) (4.5.0)\n",
            "Requirement already satisfied: zipp in /usr/local/lib/python3.10/dist-packages (from etils[enp,epath,etree]>=0.9.0->tfds-nightly) (3.15.0)\n",
            "Requirement already satisfied: urllib3<1.27,>=1.21.1 in /usr/local/lib/python3.10/dist-packages (from requests>=2.19.0->tfds-nightly) (1.26.15)\n",
            "Requirement already satisfied: certifi>=2017.4.17 in /usr/local/lib/python3.10/dist-packages (from requests>=2.19.0->tfds-nightly) (2022.12.7)\n",
            "Requirement already satisfied: charset-normalizer~=2.0.0 in /usr/local/lib/python3.10/dist-packages (from requests>=2.19.0->tfds-nightly) (2.0.12)\n",
            "Requirement already satisfied: idna<4,>=2.5 in /usr/local/lib/python3.10/dist-packages (from requests>=2.19.0->tfds-nightly) (3.4)\n",
            "Requirement already satisfied: six in /usr/local/lib/python3.10/dist-packages (from promise->tfds-nightly) (1.16.0)\n",
            "Requirement already satisfied: googleapis-common-protos<2,>=1.52.0 in /usr/local/lib/python3.10/dist-packages (from tensorflow-metadata->tfds-nightly) (1.59.0)\n",
            "Installing collected packages: tfds-nightly\n",
            "Successfully installed tfds-nightly-4.9.2.dev202306110046\n"
          ]
        }
      ]
    },
    {
      "cell_type": "code",
      "source": [
        "import tensorflow_datasets as tfds\n",
        "\n",
        "iris, iris_info = tfds.load('iris', with_info=True)\n",
        "\n",
        "print(iris_info)"
      ],
      "metadata": {
        "colab": {
          "base_uri": "https://localhost:8080/",
          "height": 776,
          "referenced_widgets": [
            "e599744a1d264d94bd5ac5188b1ee726",
            "73fa35c2809d4f6abdce44b809e267e9",
            "7bef3eecf55d4798b410b9b5ef0e0c21",
            "01cc286ccac04ac98968509d23ce9d3d",
            "61bb72e6fd1344d1b3c9e289a5ddb801",
            "dc883735c8784e0a95d3ef390047e682",
            "fd34dad228df4b66b6786d163b244b3c",
            "089a380e3ee84ab19ddaba6fdc2a0886",
            "d8db14a3f1484ead9ed30035cc0b1188",
            "bc60835feeed45f2bcd7e2e2521ba8f2",
            "69704f8f4fb5419db7d8c54435b9003d",
            "f0114507b4b84b0ea60535626ea8c59e",
            "fb0bc1529f564508ab6d49632bdc51fc",
            "30046a0e9b744e58b7bfaba266170742",
            "089cf5021cc644afa2169cae5e123441",
            "792c46e176ec415eb11eac743e46e9ff",
            "6501b3e4173e46ab8403403a35095a72",
            "e642b03b25674743abb0585c610aa860",
            "e9f0c806768d47bc83bc4ebc394f3a49",
            "3d626b8c46a043489f21bde62767b8e5",
            "897c44f8859b40bbb9434a530e259d1f",
            "661a135173e1431993c8f5a3dbe6bbb4",
            "edf1cf5685114e12be029bcce73bbb73",
            "cb6762409b7f45e6b81486e64ccba705",
            "b26a25a4be704c1fafb55fd38ed673fc",
            "3ead62760c86446b9fce7a7d0a66af34",
            "939d2aa7e5fa4f728a43078fa66a83c5",
            "a7ffad999d4945f48f5fe5867794bfa8",
            "663a99c244ea4296ac24767538a2012e",
            "4f4d70b9d0ae419baf94478dbfb8b07b",
            "c9b0e847b8f94e3fbd614bfafd9fda20",
            "34a3c8c6fdca463e913ecd492ec535f4",
            "7db2ac89d10546e2bff7e15d0dfc94d5",
            "16551763049e4f97b19bf0b5a7bd316c",
            "57de67c172be4945ab9ea7af4c6fb4df",
            "814f198cdbbc4ef98c362a9759f04ee3",
            "fd4c8913e09b43a0bc7c78cfebc5f742",
            "c392e95ae21248e3b4db7b77909faae4",
            "86ed66ab14cc4585a7dfe7d731cc2c51",
            "37fa751933844dcda3e3bad0466138b2",
            "debb9daf8e104b4b8a1a83198e56254b",
            "3b311bb2ad764d179b9845463b98fb92",
            "55a117a170db41f3b2381ad33d01701c",
            "f10e949c3d714fe9912e2fa13f3c421d",
            "0d9472a8435e4a21824462379b6f1a54",
            "8db9243f6a234fe3a89c1d3361461b0e",
            "3f2f1ac8135b4c839ec993d436f14d2b",
            "e0e6474765c04da1875f7b1be6a86af0",
            "e11c5944065e4cf99a6c7b3ac6592e62",
            "dd6c5228dded41cc86cca6962e5490b5",
            "2b96b418fcfe4dc3816ae228c855032e",
            "ccca47b86c8d4a54a7c3009eb2fb1a20",
            "a0b07f3a296c4cf8b12112d602ceb387",
            "666597bf7ccb4cc2946b07836ec4aad7",
            "98470543e3d9400c95cef76f4f51e8ad",
            "a91a461d9f83486cb5ba99bb090b1352",
            "642896d8a95b49a88fdb0bbb5383b9cc",
            "0bd0b253a39f4655a1177789d629100b",
            "27c7541584934a64b672dad53aad99fd",
            "00004d09a6c1415d97e88279f699ad2d",
            "f48822469b624d80a1cbb9d738f26af2",
            "9c5dc45a994b41968ac93c29a285a967",
            "e023460eacb54b319c9c5dd7bf031198",
            "c891e56c561944b3a73d7ac1a8150508",
            "1529aff63eea4a54960b9379b3cd2015",
            "517707f0362c4724b00be3ef857e7d0d"
          ]
        },
        "id": "BlwZiGuGXB9s",
        "outputId": "310d463d-531b-4ba0-f275-eb1a4fc86bf5"
      },
      "execution_count": 16,
      "outputs": [
        {
          "output_type": "stream",
          "name": "stdout",
          "text": [
            "Downloading and preparing dataset 3.65 KiB (download: 3.65 KiB, generated: 7.62 KiB, total: 11.27 KiB) to /root/tensorflow_datasets/iris/2.1.0...\n"
          ]
        },
        {
          "output_type": "display_data",
          "data": {
            "text/plain": [
              "Dl Completed...: 0 url [00:00, ? url/s]"
            ],
            "application/vnd.jupyter.widget-view+json": {
              "version_major": 2,
              "version_minor": 0,
              "model_id": "e599744a1d264d94bd5ac5188b1ee726"
            }
          },
          "metadata": {}
        },
        {
          "output_type": "display_data",
          "data": {
            "text/plain": [
              "Dl Size...: 0 MiB [00:00, ? MiB/s]"
            ],
            "application/vnd.jupyter.widget-view+json": {
              "version_major": 2,
              "version_minor": 0,
              "model_id": "f0114507b4b84b0ea60535626ea8c59e"
            }
          },
          "metadata": {}
        },
        {
          "output_type": "display_data",
          "data": {
            "text/plain": [
              "Extraction completed...: 0 file [00:00, ? file/s]"
            ],
            "application/vnd.jupyter.widget-view+json": {
              "version_major": 2,
              "version_minor": 0,
              "model_id": "edf1cf5685114e12be029bcce73bbb73"
            }
          },
          "metadata": {}
        },
        {
          "output_type": "display_data",
          "data": {
            "text/plain": [
              "Generating splits...:   0%|          | 0/1 [00:00<?, ? splits/s]"
            ],
            "application/vnd.jupyter.widget-view+json": {
              "version_major": 2,
              "version_minor": 0,
              "model_id": "16551763049e4f97b19bf0b5a7bd316c"
            }
          },
          "metadata": {}
        },
        {
          "output_type": "display_data",
          "data": {
            "text/plain": [
              "Generating train examples...:   0%|          | 0/150 [00:00<?, ? examples/s]"
            ],
            "application/vnd.jupyter.widget-view+json": {
              "version_major": 2,
              "version_minor": 0,
              "model_id": "0d9472a8435e4a21824462379b6f1a54"
            }
          },
          "metadata": {}
        },
        {
          "output_type": "display_data",
          "data": {
            "text/plain": [
              "Shuffling /root/tensorflow_datasets/iris/2.1.0.incomplete83YG7K/iris-train.tfrecord*...:   0%|          | 0/15…"
            ],
            "application/vnd.jupyter.widget-view+json": {
              "version_major": 2,
              "version_minor": 0,
              "model_id": "a91a461d9f83486cb5ba99bb090b1352"
            }
          },
          "metadata": {}
        },
        {
          "output_type": "stream",
          "name": "stdout",
          "text": [
            "Dataset iris downloaded and prepared to /root/tensorflow_datasets/iris/2.1.0. Subsequent calls will reuse this data.\n",
            "tfds.core.DatasetInfo(\n",
            "    name='iris',\n",
            "    full_name='iris/2.1.0',\n",
            "    description=\"\"\"\n",
            "    This is perhaps the best known database to be found in the pattern recognition\n",
            "    literature. Fisher's paper is a classic in the field and is referenced\n",
            "    frequently to this day. (See Duda & Hart, for example.) The data set contains\n",
            "    3 classes of 50 instances each, where each class refers to a type of iris\n",
            "    plant. One class is linearly separable from the other 2; the latter are NOT\n",
            "    linearly separable from each other.\n",
            "    \"\"\",\n",
            "    homepage='https://archive.ics.uci.edu/ml/datasets/iris',\n",
            "    data_dir=PosixGPath('/tmp/tmpw92zkdgvtfds'),\n",
            "    file_format=tfrecord,\n",
            "    download_size=3.65 KiB,\n",
            "    dataset_size=7.62 KiB,\n",
            "    features=FeaturesDict({\n",
            "        'features': Tensor(shape=(4,), dtype=float32),\n",
            "        'label': ClassLabel(shape=(), dtype=int64, num_classes=3),\n",
            "    }),\n",
            "    supervised_keys=('features', 'label'),\n",
            "    disable_shuffling=False,\n",
            "    splits={\n",
            "        'train': <SplitInfo num_examples=150, num_shards=1>,\n",
            "    },\n",
            "    citation=\"\"\"@misc{Dua:2019 ,\n",
            "    author = \"Dua, Dheeru and Graff, Casey\",\n",
            "    year = \"2017\",\n",
            "    title = \"{UCI} Machine Learning Repository\",\n",
            "    url = \"http://archive.ics.uci.edu/ml\",\n",
            "    institution = \"University of California, Irvine, School of Information and Computer Sciences\"\n",
            "    }\"\"\",\n",
            ")\n"
          ]
        }
      ]
    },
    {
      "cell_type": "code",
      "source": [
        "tf.random.set_seed(1)\n",
        "\n",
        "ds_orig = iris['train']\n",
        "ds_orig = ds_orig.shuffle(150, reshuffle_each_iteration=False)\n",
        "\n",
        "print(next(iter(ds_orig)))\n",
        "\n",
        "ds_train_orig = ds_orig.take(100)\n",
        "ds_test = ds_orig.skip(100)"
      ],
      "metadata": {
        "id": "_m18djyQXGD8",
        "colab": {
          "base_uri": "https://localhost:8080/"
        },
        "outputId": "933dd007-27f6-433d-95cf-1d9b720700f9"
      },
      "execution_count": 21,
      "outputs": [
        {
          "output_type": "stream",
          "name": "stdout",
          "text": [
            "{'features': <tf.Tensor: shape=(4,), dtype=float32, numpy=array([6.5, 3. , 5.2, 2. ], dtype=float32)>, 'label': <tf.Tensor: shape=(), dtype=int64, numpy=2>}\n"
          ]
        }
      ]
    },
    {
      "cell_type": "code",
      "source": [
        "n = 0\n",
        "for example in ds_train_orig:\n",
        "  n += 1\n",
        "print(n)\n",
        "\n",
        "n = 0\n",
        "for example in ds_test:\n",
        "  n += 1\n",
        "print(n)"
      ],
      "metadata": {
        "colab": {
          "base_uri": "https://localhost:8080/"
        },
        "id": "n6f7t1BBl_9R",
        "outputId": "ea78d473-8076-4253-a64c-07cebb64850f"
      },
      "execution_count": 22,
      "outputs": [
        {
          "output_type": "stream",
          "name": "stdout",
          "text": [
            "100\n",
            "50\n"
          ]
        }
      ]
    },
    {
      "cell_type": "code",
      "source": [
        "ds_train_orig = ds_train_orig.map(\n",
        "    lambda x: (x['features'], x['label'])\n",
        ")\n",
        "\n",
        "ds_test = ds_test.map(\n",
        "    lambda x: (x['features'], x['label'])\n",
        ")\n",
        "\n",
        "next(iter(ds_train_orig))"
      ],
      "metadata": {
        "colab": {
          "base_uri": "https://localhost:8080/"
        },
        "id": "kXeHBDLFmJ5B",
        "outputId": "c21c36bc-7b88-4075-b3de-319fc00362cc"
      },
      "execution_count": 23,
      "outputs": [
        {
          "output_type": "execute_result",
          "data": {
            "text/plain": [
              "(<tf.Tensor: shape=(4,), dtype=float32, numpy=array([6.5, 3. , 5.2, 2. ], dtype=float32)>,\n",
              " <tf.Tensor: shape=(), dtype=int64, numpy=2>)"
            ]
          },
          "metadata": {},
          "execution_count": 23
        }
      ]
    },
    {
      "cell_type": "code",
      "source": [
        "iris_model = tf.keras.Sequential([\n",
        "    tf.keras.layers.Dense(16, activation='sigmoid',\n",
        "                          name='fc1', input_shape=(4, )),\n",
        "    tf.keras.layers.Dense(3, name='fc2', activation='softmax')\n",
        "])\n",
        "iris_model.summary()"
      ],
      "metadata": {
        "colab": {
          "base_uri": "https://localhost:8080/"
        },
        "id": "2U8jDwdcmecD",
        "outputId": "11d212a9-173b-4d97-83a7-7986d0787ef0"
      },
      "execution_count": 24,
      "outputs": [
        {
          "output_type": "stream",
          "name": "stdout",
          "text": [
            "Model: \"sequential\"\n",
            "_________________________________________________________________\n",
            " Layer (type)                Output Shape              Param #   \n",
            "=================================================================\n",
            " fc1 (Dense)                 (None, 16)                80        \n",
            "                                                                 \n",
            " fc2 (Dense)                 (None, 3)                 51        \n",
            "                                                                 \n",
            "=================================================================\n",
            "Total params: 131\n",
            "Trainable params: 131\n",
            "Non-trainable params: 0\n",
            "_________________________________________________________________\n"
          ]
        }
      ]
    },
    {
      "cell_type": "code",
      "source": [
        "iris_model.compile(optimizer='adam',\n",
        "                   loss='sparse_categorical_crossentropy',\n",
        "                   metrics=['accuracy'])"
      ],
      "metadata": {
        "id": "tv-TH9PXndOB"
      },
      "execution_count": 25,
      "outputs": []
    },
    {
      "cell_type": "code",
      "source": [
        "num_epochs = 100\n",
        "training_size = 100\n",
        "batch_size = 2\n",
        "steps_per_epoch = np.ceil(training_size / batch_size)\n",
        "\n",
        "ds_train = ds_train_orig.shuffle(buffer_size=training_size)\n",
        "ds_train = ds_train.repeat()\n",
        "ds_train = ds_train.batch(batch_size=batch_size)\n",
        "ds_train = ds_train.prefetch(buffer_size=1000)\n",
        "\n",
        "history = iris_model.fit(ds_train, epochs=num_epochs,\n",
        "                         steps_per_epoch=steps_per_epoch,\n",
        "                         verbose=0)"
      ],
      "metadata": {
        "id": "rYGAA8zgn56R"
      },
      "execution_count": 26,
      "outputs": []
    },
    {
      "cell_type": "code",
      "source": [
        "hist = history.history\n",
        "\n",
        "fig = plt.figure(figsize=(12, 5))\n",
        "ax = fig.add_subplot(1, 2, 1)\n",
        "ax.plot(hist['loss'], lw=3)\n",
        "ax.set_title('Training loss', size=15)\n",
        "ax.set_xlabel('Epoch', size=15)\n",
        "ax.tick_params(axis='both', which='major', labelsize=15)\n",
        "\n",
        "ax = fig.add_subplot(1, 2, 2)\n",
        "ax.plot(hist['accuracy'], lw=3)\n",
        "ax.set_title('Training accuracy', size=15)\n",
        "ax.set_xlabel('Epoch', size=15)\n",
        "ax.tick_params(axis='both', which='major', labelsize=15)\n",
        "plt.tight_layout()\n",
        "plt.show()"
      ],
      "metadata": {
        "colab": {
          "base_uri": "https://localhost:8080/",
          "height": 362
        },
        "id": "qqYR4rueokxv",
        "outputId": "872991f1-08ba-4ab5-91d0-273715bd0de1"
      },
      "execution_count": 27,
      "outputs": [
        {
          "output_type": "display_data",
          "data": {
            "text/plain": [
              "<Figure size 1200x500 with 2 Axes>"
            ],
            "image/png": "[encoded data removed]"
          },
          "metadata": {}
        }
      ]
    },
    {
      "cell_type": "code",
      "source": [
        "results = iris_model.evaluate(ds_test.batch(50), verbose=0)\n",
        "print(f\"Test loss: {results[0]:.4f} Test accuracy: {results[1]:.4f}\")"
      ],
      "metadata": {
        "colab": {
          "base_uri": "https://localhost:8080/"
        },
        "id": "Nz97o7R9pb_1",
        "outputId": "2b7641e6-70f0-46e1-b05e-807467549245"
      },
      "execution_count": 28,
      "outputs": [
        {
          "output_type": "stream",
          "name": "stdout",
          "text": [
            "Test loss: 0.1648 Test accuracy: 0.9800\n"
          ]
        }
      ]
    },
    {
      "cell_type": "code",
      "source": [
        "iris_model.save('iris-classifier.h5',\n",
        "                overwrite=True,\n",
        "                include_optimizer=True,\n",
        "                save_format='h5')"
      ],
      "metadata": {
        "id": "F5ACCMMVp6rG"
      },
      "execution_count": 29,
      "outputs": []
    },
    {
      "cell_type": "code",
      "source": [
        "iris_model_new = tf.keras.models.load_model('iris-classifier.h5')\n",
        "iris_model_new.summary()"
      ],
      "metadata": {
        "colab": {
          "base_uri": "https://localhost:8080/"
        },
        "id": "7lxXQiLWqWXH",
        "outputId": "71cb7c3a-d862-4a86-80c5-cce0a630b5e9"
      },
      "execution_count": 30,
      "outputs": [
        {
          "output_type": "stream",
          "name": "stdout",
          "text": [
            "Model: \"sequential\"\n",
            "_________________________________________________________________\n",
            " Layer (type)                Output Shape              Param #   \n",
            "=================================================================\n",
            " fc1 (Dense)                 (None, 16)                80        \n",
            "                                                                 \n",
            " fc2 (Dense)                 (None, 3)                 51        \n",
            "                                                                 \n",
            "=================================================================\n",
            "Total params: 131\n",
            "Trainable params: 131\n",
            "Non-trainable params: 0\n",
            "_________________________________________________________________\n"
          ]
        }
      ]
    },
    {
      "cell_type": "code",
      "source": [
        "results = iris_model_new.evaluate(ds_test.batch(50), verbose=0)\n",
        "print(f\"Test loss: {results[0]:.4f} Test accuracy {results[1]:.4f}\")"
      ],
      "metadata": {
        "colab": {
          "base_uri": "https://localhost:8080/"
        },
        "id": "-1Y7QkK7qc-L",
        "outputId": "75191718-7a97-446c-ea60-2db6ce48118f"
      },
      "execution_count": 31,
      "outputs": [
        {
          "output_type": "stream",
          "name": "stdout",
          "text": [
            "Test loss: 0.1648 Test accuracy 0.9800\n"
          ]
        }
      ]
    },
    {
      "cell_type": "code",
      "source": [
        "labels_train = []\n",
        "for i, item in enumerate(ds_train_orig):\n",
        "  labels_train.append(item[1].numpy())\n",
        "\n",
        "labels_test = []\n",
        "for i, item in enumerate(ds_test):\n",
        "  labels_test.append(item[1].numpy())\n",
        "\n",
        "print(f\"Train dataset: {len(labels_train)}, Test dataset: {len(labels_test)}\")"
      ],
      "metadata": {
        "colab": {
          "base_uri": "https://localhost:8080/"
        },
        "id": "z44HqqLVqoz7",
        "outputId": "7b53c446-7e81-4548-86c8-50433de61798"
      },
      "execution_count": 33,
      "outputs": [
        {
          "output_type": "stream",
          "name": "stdout",
          "text": [
            "Train dataset: 100, Test dataset: 50\n"
          ]
        }
      ]
    },
    {
      "cell_type": "code",
      "source": [
        "iris_model_new.to_json()"
      ],
      "metadata": {
        "colab": {
          "base_uri": "https://localhost:8080/",
          "height": 182
        },
        "id": "yc128FaGrW4s",
        "outputId": "b11c10aa-9ad7-4a5d-bc3a-8246169e7d45"
      },
      "execution_count": 34,
      "outputs": [
        {
          "output_type": "execute_result",
          "data": {
            "text/plain": [
              "'{\"class_name\": \"Sequential\", \"config\": {\"name\": \"sequential\", \"layers\": [{\"class_name\": \"InputLayer\", \"config\": {\"batch_input_shape\": [null, 4], \"dtype\": \"float32\", \"sparse\": false, \"ragged\": false, \"name\": \"fc1_input\"}}, {\"class_name\": \"Dense\", \"config\": {\"name\": \"fc1\", \"trainable\": true, \"dtype\": \"float32\", \"batch_input_shape\": [null, 4], \"units\": 16, \"activation\": \"sigmoid\", \"use_bias\": true, \"kernel_initializer\": {\"class_name\": \"GlorotUniform\", \"config\": {\"seed\": null}}, \"bias_initializer\": {\"class_name\": \"Zeros\", \"config\": {}}, \"kernel_regularizer\": null, \"bias_regularizer\": null, \"activity_regularizer\": null, \"kernel_constraint\": null, \"bias_constraint\": null}}, {\"class_name\": \"Dense\", \"config\": {\"name\": \"fc2\", \"trainable\": true, \"dtype\": \"float32\", \"units\": 3, \"activation\": \"softmax\", \"use_bias\": true, \"kernel_initializer\": {\"class_name\": \"GlorotUniform\", \"config\": {\"seed\": null}}, \"bias_initializer\": {\"class_name\": \"Zeros\", \"config\": {}}, \"kernel_regularizer\": null, \"bias_regularizer\": null, \"activity_regularizer\": null, \"kernel_constraint\": null, \"bias_constraint\": null}}]}, \"keras_version\": \"2.12.0\", \"backend\": \"tensorflow\"}'"
            ],
            "application/vnd.google.colaboratory.intrinsic+json": {
              "type": "string"
            }
          },
          "metadata": {},
          "execution_count": 34
        }
      ]
    },
    {
      "cell_type": "code",
      "source": [
        "from tensorflow.keras.callbacks import ModelCheckpoint, EarlyStopping\n",
        "\n",
        "callback_list = [ModelCheckpoint(filepath='iris-earlystopping.h5',\n",
        "                                 monitor='val_loss'),\n",
        "                 EarlyStopping(patience=3, restore_best_weights=True)]"
      ],
      "metadata": {
        "id": "Qk2VPCD-riiW"
      },
      "execution_count": 35,
      "outputs": []
    },
    {
      "cell_type": "code",
      "source": [
        "tf.random.set_seed(1)\n",
        "\n",
        "model = tf.keras.models.model_from_json(iris_model.to_json())\n",
        "model.compile(optimizer='adam',\n",
        "              loss='sparse_categorical_crossentropy',\n",
        "              metrics=['accuracy'])\n",
        "history = model.fit(ds_train, epochs=500,\n",
        "                    steps_per_epoch=steps_per_epoch,\n",
        "                    validation_data=ds_test.batch(50),\n",
        "                    callbacks=callback_list,\n",
        "                    verbose=0)"
      ],
      "metadata": {
        "id": "X0zL8nsSsHGb"
      },
      "execution_count": 36,
      "outputs": []
    },
    {
      "cell_type": "code",
      "source": [
        "hist = history.history\n",
        "\n",
        "fig = plt.figure(figsize=(12, 5))\n",
        "ax = fig.add_subplot(1, 2, 1)\n",
        "ax.plot(hist['loss'], lw=3)\n",
        "ax.plot(hist['val_loss'], lw=3)\n",
        "ax.set_title('Loss', size=15)\n",
        "ax.set_xlabel('Epoch', size=15)\n",
        "ax.tick_params(axis='both', which='major', labelsize=15)\n",
        "\n",
        "ax = fig.add_subplot(1, 2, 2)\n",
        "ax.plot(hist['accuracy'], lw=3)\n",
        "ax.plot(hist['val_accuracy'], lw=3)\n",
        "ax.set_title('Accuracy', size=15)\n",
        "ax.set_xlabel('Epoch', size=15)\n",
        "ax.tick_params(axis='both', which='major', labelsize=15)\n",
        "plt.tight_layout()\n",
        "plt.show()"
      ],
      "metadata": {
        "colab": {
          "base_uri": "https://localhost:8080/",
          "height": 362
        },
        "id": "MPnOzcLksnZb",
        "outputId": "f6e2beba-2070-4805-9f98-27769d3cbd7c"
      },
      "execution_count": 37,
      "outputs": [
        {
          "output_type": "display_data",
          "data": {
            "text/plain": [
              "<Figure size 1200x500 with 2 Axes>"
            ],
            "image/png": "[encoded data removed]"
          },
          "metadata": {}
        }
      ]
    },
    {
      "cell_type": "code",
      "source": [
        "callback_list[1].stopped_epoch"
      ],
      "metadata": {
        "colab": {
          "base_uri": "https://localhost:8080/"
        },
        "id": "gnXWbebMswwK",
        "outputId": "c840e88f-59ae-4bb3-c39c-19bbb001125d"
      },
      "execution_count": 38,
      "outputs": [
        {
          "output_type": "execute_result",
          "data": {
            "text/plain": [
              "161"
            ]
          },
          "metadata": {},
          "execution_count": 38
        }
      ]
    },
    {
      "cell_type": "code",
      "source": [
        "from tensorflow.keras.callbacks import TensorBoard\n",
        "\n",
        "callback_list = [ModelCheckpoint(filepath='iris-earlystopping.h5',\n",
        "                                 monitor='val_loss'),\n",
        "                 EarlyStopping(patience=3, restore_best_weights=True),\n",
        "                 TensorBoard()]"
      ],
      "metadata": {
        "id": "Sglp_8wrs2r-"
      },
      "execution_count": 39,
      "outputs": []
    },
    {
      "cell_type": "code",
      "source": [
        "tf.random.set_seed(1)\n",
        "\n",
        "model = tf.keras.models.model_from_json(iris_model.to_json())\n",
        "model.compile(optimizer='adam',\n",
        "              loss='sparse_categorical_crossentropy',\n",
        "              metrics=['accuracy'])\n",
        "history = model.fit(ds_train, epochs=500,\n",
        "                    steps_per_epoch=steps_per_epoch,\n",
        "                    validation_data=ds_test.batch(50),\n",
        "                    callbacks=callback_list,\n",
        "                    verbose=0)"
      ],
      "metadata": {
        "id": "ZO-FVVfstPnp"
      },
      "execution_count": 40,
      "outputs": []
    },
    {
      "cell_type": "code",
      "source": [
        "!tensorboard --logdir=logs/"
      ],
      "metadata": {
        "colab": {
          "base_uri": "https://localhost:8080/"
        },
        "id": "0GjySoXAtrhJ",
        "outputId": "7cf8aa33-13b3-445d-aeda-1e2557c4a145"
      },
      "execution_count": 41,
      "outputs": [
        {
          "output_type": "stream",
          "name": "stdout",
          "text": [
            "2023-06-11 23:08:00.103127: W tensorflow/compiler/tf2tensorrt/utils/py_utils.cc:38] TF-TRT Warning: Could not find TensorRT\n",
            "/usr/local/lib/python3.10/dist-packages/tensorboard_data_server/bin/server: /lib/x86_64-linux-gnu/libc.so.6: version `GLIBC_2.33' not found (required by /usr/local/lib/python3.10/dist-packages/tensorboard_data_server/bin/server)\n",
            "/usr/local/lib/python3.10/dist-packages/tensorboard_data_server/bin/server: /lib/x86_64-linux-gnu/libc.so.6: version `GLIBC_2.34' not found (required by /usr/local/lib/python3.10/dist-packages/tensorboard_data_server/bin/server)\n",
            "/usr/local/lib/python3.10/dist-packages/tensorboard_data_server/bin/server: /lib/x86_64-linux-gnu/libc.so.6: version `GLIBC_2.32' not found (required by /usr/local/lib/python3.10/dist-packages/tensorboard_data_server/bin/server)\n",
            "Serving TensorBoard on localhost; to expose to the network, use a proxy or pass --bind_all\n",
            "TensorBoard 2.12.2 at http://localhost:6006/ (Press CTRL+C to quit)\n"
          ]
        }
      ]
    },
    {
      "cell_type": "code",
      "source": [
        "# Run at non-secret mode \n",
        "%load_ext tensorboard\n",
        "%tensorboard --logdir loss --port 6006"
      ],
      "metadata": {
        "colab": {
          "base_uri": "https://localhost:8080/",
          "height": 875
        },
        "id": "1nKoZ_Wttyhv",
        "outputId": "aafe3997-b8eb-4ac6-a49e-8dde0192639d"
      },
      "execution_count": 43,
      "outputs": [
        {
          "output_type": "stream",
          "name": "stdout",
          "text": [
            "The tensorboard extension is already loaded. To reload it, use:\n",
            "  %reload_ext tensorboard\n"
          ]
        },
        {
          "output_type": "display_data",
          "data": {
            "text/plain": [
              "Reusing TensorBoard on port 6006 (pid 12413), started 0:00:16 ago. (Use '!kill 12413' to kill it.)"
            ]
          },
          "metadata": {}
        },
        {
          "output_type": "display_data",
          "data": {
            "text/plain": [
              "<IPython.core.display.Javascript object>"
            ],
            "application/javascript": [
              "\n",
              "        (async () => {\n",
              "            const url = new URL(await google.colab.kernel.proxyPort(6006, {'cache': true}));\n",
              "            url.searchParams.set('tensorboardColab', 'true');\n",
              "            const iframe = document.createElement('iframe');\n",
              "            iframe.src = url;\n",
              "            iframe.setAttribute('width', '100%');\n",
              "            iframe.setAttribute('height', '800');\n",
              "            iframe.setAttribute('frameborder', 0);\n",
              "            document.body.appendChild(iframe);\n",
              "        })();\n",
              "    "
            ]
          },
          "metadata": {}
        }
      ]
    },
    {
      "cell_type": "code",
      "source": [
        "X = np.array([1, 1.4, 2.5])\n",
        "w = np.array([0.4, .3, .5])\n",
        "\n",
        "def net_input(X, w):\n",
        "  return np.dot(X, w)\n",
        "\n",
        "def logistic(z):\n",
        "  return 1./(1. + np.exp(-z))\n",
        "\n",
        "def logistic_activation(X, w):\n",
        "  z = net_input(X, w)\n",
        "  return logistic(z)\n",
        "\n",
        "print(f\"P(y=1|x) = {logistic_activation(X, w):.3f}\")"
      ],
      "metadata": {
        "colab": {
          "base_uri": "https://localhost:8080/"
        },
        "id": "90DOWtBUuEqi",
        "outputId": "b50be56b-b721-45f0-b26d-3cb90194ff88"
      },
      "execution_count": 50,
      "outputs": [
        {
          "output_type": "stream",
          "name": "stdout",
          "text": [
            "P(y=1|x) = 0.888\n"
          ]
        }
      ]
    },
    {
      "cell_type": "code",
      "source": [
        "# W : (n_output_units, n_hidden_units+1) 크기의 배열\n",
        "# 첫 번째 열은 절편 유닛입니다\n",
        "\n",
        "W = np.array([[1.1, 1.2, 0.8, 0.4],\n",
        "              [0.2, 0.4, 1.0, 0.2],\n",
        "              [0.6, 1.5, 1.2, 0.7]])\n",
        "\n",
        "# A : (n_hidden_units + 1, n_samples) 크기의 배열\n",
        "# 이 배열의 첫 번째 열은 1입니다\n",
        "\n",
        "A = np.array([[1, 0.1, 0.4, 0.6]])\n",
        "Z = np.dot(W, A[0])\n",
        "y_probas = logistic(Z)\n",
        "print(f\"Input: \\n {Z}\")\n",
        "print(f\"Output: \\n {y_probas}\")"
      ],
      "metadata": {
        "colab": {
          "base_uri": "https://localhost:8080/"
        },
        "id": "c3ARqiUav7Sm",
        "outputId": "16b344a0-341c-4d4c-8ab2-514dd0949953"
      },
      "execution_count": 51,
      "outputs": [
        {
          "output_type": "stream",
          "name": "stdout",
          "text": [
            "Input: \n",
            " [1.78 0.76 1.65]\n",
            "Output: \n",
            " [0.85569687 0.68135373 0.83889105]\n"
          ]
        }
      ]
    },
    {
      "cell_type": "code",
      "source": [
        "y_class = np.argmax(Z, axis=0)\n",
        "print(f\"Predict: {y_class:d}\")"
      ],
      "metadata": {
        "colab": {
          "base_uri": "https://localhost:8080/"
        },
        "id": "baxQbK-zw7Qy",
        "outputId": "decd3e5c-5214-4fa9-f1de-8645e8ad5f09"
      },
      "execution_count": 53,
      "outputs": [
        {
          "output_type": "stream",
          "name": "stdout",
          "text": [
            "Predict: 0\n"
          ]
        }
      ]
    },
    {
      "cell_type": "code",
      "source": [
        "def softmax(z):\n",
        "  return np.exp(z) / np.sum(np.exp(z))"
      ],
      "metadata": {
        "id": "YuOXZ6ozxEs3"
      },
      "execution_count": 54,
      "outputs": []
    },
    {
      "cell_type": "code",
      "source": [
        "y_probas = softmax(Z)\n",
        "print(f\"Probabilites: \\n{y_probas}\")"
      ],
      "metadata": {
        "colab": {
          "base_uri": "https://localhost:8080/"
        },
        "id": "4ZP1LrDrxVnI",
        "outputId": "e37bbe26-7f2b-4a08-e17a-02302dae0fb3"
      },
      "execution_count": 57,
      "outputs": [
        {
          "output_type": "stream",
          "name": "stdout",
          "text": [
            "Probabilites: \n",
            "[0.44668973 0.16107406 0.39223621]\n"
          ]
        }
      ]
    },
    {
      "cell_type": "code",
      "source": [
        "np.sum(y_probas)"
      ],
      "metadata": {
        "colab": {
          "base_uri": "https://localhost:8080/"
        },
        "id": "M8_YCEoMxeJk",
        "outputId": "fa43f36b-954e-48d8-aefc-4b2b6df3f156"
      },
      "execution_count": 58,
      "outputs": [
        {
          "output_type": "execute_result",
          "data": {
            "text/plain": [
              "1.0"
            ]
          },
          "metadata": {},
          "execution_count": 58
        }
      ]
    },
    {
      "cell_type": "code",
      "source": [
        "Z_tensor = tf.expand_dims(Z, axis=0)\n",
        "tf.keras.activations.softmax(Z_tensor)"
      ],
      "metadata": {
        "colab": {
          "base_uri": "https://localhost:8080/"
        },
        "id": "0xMpVwy4xlcO",
        "outputId": "2c7b7f02-6d79-41bb-b795-2a3961ff2008"
      },
      "execution_count": 60,
      "outputs": [
        {
          "output_type": "execute_result",
          "data": {
            "text/plain": [
              "<tf.Tensor: shape=(1, 3), dtype=float64, numpy=array([[0.44668973, 0.16107406, 0.39223621]])>"
            ]
          },
          "metadata": {},
          "execution_count": 60
        }
      ]
    },
    {
      "cell_type": "code",
      "source": [
        " import matplotlib.pyplot as plt\n",
        " %matplotlib inline\n",
        "\n",
        " def tanh(z):\n",
        "  e_p = np.exp(z)\n",
        "  e_m = np.exp(-z)\n",
        "\n",
        "  return(e_p - e_m) / (e_p + e_m)"
      ],
      "metadata": {
        "id": "Bysx7Sdexyv_"
      },
      "execution_count": 63,
      "outputs": []
    },
    {
      "cell_type": "code",
      "source": [
        "z = np.arange(-5, 5, .005)\n",
        "log_act = logistic(z)\n",
        "tanh_act = tanh(z)\n",
        "\n",
        "plt.ylim([-1.5, 1.5])\n",
        "plt.xlabel('Net input $z$')\n",
        "plt.ylabel('Activation $\\phi(z)$')\n",
        "plt.axhline(1, color='black', linestyle=':')\n",
        "plt.axhline(0.5, color='black', linestyle=':')\n",
        "plt.axhline(0, color='black', linestyle=':')\n",
        "plt.axhline(-0.5, color='black', linestyle=':')\n",
        "plt.axhline(-1, color='black', linestyle=':')\n",
        "\n",
        "plt.plot(z, tanh_act,\n",
        "         linewidth=3, linestyle='--',\n",
        "         label='Tanh')\n",
        "\n",
        "plt.plot(z, log_act,\n",
        "         linewidth=3,\n",
        "         label='Logisitc')\n",
        "\n",
        "plt.legend(loc='lower right')\n",
        "plt.tight_layout()\n",
        "plt.show()"
      ],
      "metadata": {
        "colab": {
          "base_uri": "https://localhost:8080/",
          "height": 487
        },
        "id": "FRv3ENhhz6S_",
        "outputId": "84c70124-c013-4e77-e0c3-4c2dbb87a1b1"
      },
      "execution_count": 65,
      "outputs": [
        {
          "output_type": "display_data",
          "data": {
            "text/plain": [
              "<Figure size 640x480 with 1 Axes>"
            ],
            "image/png": "[encoded data removed]"
          },
          "metadata": {}
        }
      ]
    },
    {
      "cell_type": "code",
      "source": [
        "np.tanh(z)"
      ],
      "metadata": {
        "colab": {
          "base_uri": "https://localhost:8080/"
        },
        "id": "7ZmGUJK606D1",
        "outputId": "5a749d61-a1ce-41e9-fce2-a1fd938567b8"
      },
      "execution_count": 66,
      "outputs": [
        {
          "output_type": "execute_result",
          "data": {
            "text/plain": [
              "array([-0.9999092 , -0.99990829, -0.99990737, ...,  0.99990644,\n",
              "        0.99990737,  0.99990829])"
            ]
          },
          "metadata": {},
          "execution_count": 66
        }
      ]
    },
    {
      "cell_type": "code",
      "source": [
        "import tensorflow as tf\n",
        "tf.keras.activations.tanh(z)"
      ],
      "metadata": {
        "colab": {
          "base_uri": "https://localhost:8080/"
        },
        "id": "w41vndpK1E_3",
        "outputId": "5696af20-737b-47b7-95d8-fcd167495541"
      },
      "execution_count": 67,
      "outputs": [
        {
          "output_type": "execute_result",
          "data": {
            "text/plain": [
              "<tf.Tensor: shape=(2000,), dtype=float64, numpy=\n",
              "array([-0.9999092 , -0.99990829, -0.99990737, ...,  0.99990644,\n",
              "        0.99990737,  0.99990829])>"
            ]
          },
          "metadata": {},
          "execution_count": 67
        }
      ]
    },
    {
      "cell_type": "code",
      "source": [
        "from scipy.special import expit\n",
        "expit(z)"
      ],
      "metadata": {
        "colab": {
          "base_uri": "https://localhost:8080/"
        },
        "id": "zMFiResF1GPr",
        "outputId": "2fe1b655-e1b1-438c-c921-8cc447e86b19"
      },
      "execution_count": 68,
      "outputs": [
        {
          "output_type": "execute_result",
          "data": {
            "text/plain": [
              "array([0.00669285, 0.00672617, 0.00675966, ..., 0.99320669, 0.99324034,\n",
              "       0.99327383])"
            ]
          },
          "metadata": {},
          "execution_count": 68
        }
      ]
    },
    {
      "cell_type": "code",
      "source": [
        "tf.keras.activations.sigmoid(z)"
      ],
      "metadata": {
        "colab": {
          "base_uri": "https://localhost:8080/"
        },
        "id": "cIjJ8THv1IQO",
        "outputId": "af1c2fd2-5bcb-4b86-af78-a685ce2e1ed9"
      },
      "execution_count": 69,
      "outputs": [
        {
          "output_type": "execute_result",
          "data": {
            "text/plain": [
              "<tf.Tensor: shape=(2000,), dtype=float64, numpy=\n",
              "array([0.00669285, 0.00672617, 0.00675966, ..., 0.99320669, 0.99324034,\n",
              "       0.99327383])>"
            ]
          },
          "metadata": {},
          "execution_count": 69
        }
      ]
    },
    {
      "cell_type": "code",
      "source": [
        "import tensorflow as tf\n",
        "tf.keras.activations.relu(z)"
      ],
      "metadata": {
        "colab": {
          "base_uri": "https://localhost:8080/"
        },
        "id": "r6msTAID1JSj",
        "outputId": "20630d67-f580-4d2a-fa39-4f159c2f90d9"
      },
      "execution_count": 70,
      "outputs": [
        {
          "output_type": "execute_result",
          "data": {
            "text/plain": [
              "<tf.Tensor: shape=(2000,), dtype=float64, numpy=array([0.   , 0.   , 0.   , ..., 4.985, 4.99 , 4.995])>"
            ]
          },
          "metadata": {},
          "execution_count": 70
        }
      ]
    },
    {
      "cell_type": "markdown",
      "source": [
        "https://www.tensorflow.org/api_docs/python/tf/keras/activations"
      ],
      "metadata": {
        "id": "NrIKUmfP1xsi"
      }
    },
    {
      "cell_type": "code",
      "source": [
        "ds = tf.data.Dataset.range(15)\n",
        "ds"
      ],
      "metadata": {
        "colab": {
          "base_uri": "https://localhost:8080/"
        },
        "id": "HvSbI9sB1xRf",
        "outputId": "0bd92e9d-f542-4bca-85e3-a1483dda9aa0"
      },
      "execution_count": 73,
      "outputs": [
        {
          "output_type": "execute_result",
          "data": {
            "text/plain": [
              "<_RangeDataset element_spec=TensorSpec(shape=(), dtype=tf.int64, name=None)>"
            ]
          },
          "metadata": {},
          "execution_count": 73
        }
      ]
    },
    {
      "cell_type": "code",
      "source": [
        "ds = ds.shuffle(15, reshuffle_each_iteration=False)\n",
        "\n",
        "ds_train = ds.take(10)\n",
        "ds_test = ds.skip(10)\n",
        "\n",
        "ds_train = ds_train.shuffle(10).repeat(10)\n",
        "ds_test = ds_test.shuffle(5)\n",
        "ds_test = ds_test.repeat(10)\n",
        "\n",
        "set_train = set()\n",
        "for i, item in enumerate(ds_train):\n",
        "  set_train.add(item.numpy())\n",
        "\n",
        "set_test = set()\n",
        "for i, item in enumerate(ds_test):\n",
        "  set_test.add(item.numpy())\n",
        "\n",
        "print(set_train, '\\n', set_test)"
      ],
      "metadata": {
        "colab": {
          "base_uri": "https://localhost:8080/"
        },
        "id": "2aDC6OXc1LRW",
        "outputId": "2998e28b-3ab4-47a3-f0d8-1264adb564f9"
      },
      "execution_count": 74,
      "outputs": [
        {
          "output_type": "stream",
          "name": "stdout",
          "text": [
            "{2, 3, 4, 5, 8, 9, 11, 12, 13, 14} \n",
            " {0, 1, 6, 7, 10}\n"
          ]
        }
      ]
    },
    {
      "cell_type": "code",
      "source": [
        "## 잘못된 방법:\n",
        "ds = tf.data.Dataset.range(15)\n",
        "ds = ds.shuffle(15, reshuffle_each_iteration=True)\n",
        "\n",
        "\n",
        "ds_train = ds.take(10)\n",
        "ds_test = ds.skip(10)\n",
        "\n",
        "ds_train = ds_train.shuffle(10).repeat(10)\n",
        "ds_test = ds_test.shuffle(5)\n",
        "ds_test = ds_test.repeat(10)\n",
        "\n",
        "set_train = set()\n",
        "for i,item in enumerate(ds_train):\n",
        "    set_train.add(item.numpy())\n",
        "\n",
        "set_test = set()\n",
        "for i,item in enumerate(ds_test):\n",
        "    set_test.add(item.numpy())\n",
        "\n",
        "print(set_train, '\\n', set_test)"
      ],
      "metadata": {
        "colab": {
          "base_uri": "https://localhost:8080/"
        },
        "id": "RA2JgUxD6t90",
        "outputId": "c20e6654-618c-4fb7-9cf3-33f51c800437"
      },
      "execution_count": 75,
      "outputs": [
        {
          "output_type": "stream",
          "name": "stdout",
          "text": [
            "{0, 1, 2, 3, 4, 5, 6, 7, 8, 9, 10, 11, 12, 13, 14} \n",
            " {0, 1, 2, 3, 4, 5, 6, 7, 8, 9, 10, 11, 12, 13, 14}\n"
          ]
        }
      ]
    },
    {
      "cell_type": "code",
      "source": [
        "ds_train_orig = tfds.load('iris', split='train[:67%]')\n",
        "ds_test = tfds.load('iris', split='train[67%:]')\n",
        "\n",
        "print(next(iter(ds_train_orig)))\n",
        "print()\n",
        "print(next(iter(ds_test)))"
      ],
      "metadata": {
        "colab": {
          "base_uri": "https://localhost:8080/"
        },
        "id": "fG0Uyl719npl",
        "outputId": "bdf06f61-6b38-4b20-d074-f217300cd9f1"
      },
      "execution_count": 79,
      "outputs": [
        {
          "output_type": "stream",
          "name": "stdout",
          "text": [
            "{'features': <tf.Tensor: shape=(4,), dtype=float32, numpy=array([5.1, 3.4, 1.5, 0.2], dtype=float32)>, 'label': <tf.Tensor: shape=(), dtype=int64, numpy=0>}\n",
            "\n",
            "{'features': <tf.Tensor: shape=(4,), dtype=float32, numpy=array([6.3, 3.4, 5.6, 2.4], dtype=float32)>, 'label': <tf.Tensor: shape=(), dtype=int64, numpy=2>}\n"
          ]
        }
      ]
    },
    {
      "cell_type": "code",
      "source": [
        "ds_train_orig = ds_train_orig.shuffle(100, reshuffle_each_iteration=True)\n",
        "ds_test  = ds_test.shuffle(50, reshuffle_each_iteration=False)\n",
        "\n",
        "ds_train_orig = ds_train_orig.map(\n",
        "    lambda x: (x['features'], x['label']))\n",
        "\n",
        "ds_test = ds_test.map(\n",
        "    lambda x: (x['features'], x['label']))\n",
        "\n",
        "print(next(iter(ds_train_orig)))\n",
        "print(next(iter(ds_test)))\n",
        "\n",
        "\n",
        "for j in range(5):\n",
        "    labels_train = []\n",
        "    for i,item in enumerate(ds_train_orig):\n",
        "        labels_train.append(item[1].numpy())\n",
        "\n",
        "    labels_test = []\n",
        "    for i,item in enumerate(ds_test):\n",
        "        labels_test.append(item[1].numpy())\n",
        "    print('훈련 데이터셋: ',len(labels_train), '테스트 데이터셋: ', len(labels_test))\n",
        "\n",
        "    labels_test = np.array(labels_test)\n",
        "\n",
        "    print(np.sum(labels_test == 0), np.sum(labels_test == 1), np.sum(labels_test == 2))"
      ],
      "metadata": {
        "colab": {
          "base_uri": "https://localhost:8080/"
        },
        "id": "xXQ-Tktx9vpx",
        "outputId": "d4e623a5-9f94-4610-aab4-3f864137c32c"
      },
      "execution_count": 80,
      "outputs": [
        {
          "output_type": "stream",
          "name": "stdout",
          "text": [
            "(<tf.Tensor: shape=(4,), dtype=float32, numpy=array([5.1, 3.5, 1.4, 0.2], dtype=float32)>, <tf.Tensor: shape=(), dtype=int64, numpy=0>)\n",
            "(<tf.Tensor: shape=(4,), dtype=float32, numpy=array([6.4, 2.7, 5.3, 1.9], dtype=float32)>, <tf.Tensor: shape=(), dtype=int64, numpy=2>)\n",
            "훈련 데이터셋:  100 테스트 데이터셋:  50\n",
            "15 16 19\n",
            "훈련 데이터셋:  100 테스트 데이터셋:  50\n",
            "15 16 19\n",
            "훈련 데이터셋:  100 테스트 데이터셋:  50\n",
            "15 16 19\n",
            "훈련 데이터셋:  100 테스트 데이터셋:  50\n",
            "15 16 19\n",
            "훈련 데이터셋:  100 테스트 데이터셋:  50\n",
            "15 16 19\n"
          ]
        }
      ]
    },
    {
      "cell_type": "code",
      "source": [],
      "metadata": {
        "id": "q1Py9EEN9y09"
      },
      "execution_count": null,
      "outputs": []
    }
  ]
}