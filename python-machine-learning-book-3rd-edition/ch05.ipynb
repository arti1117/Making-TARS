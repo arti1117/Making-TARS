{
  "nbformat": 4,
  "nbformat_minor": 0,
  "metadata": {
    "colab": {
      "provenance": [],
      "collapsed_sections": [],
      "authorship_tag": "ABX9TyMRW3Sa3ZpHj1dcpUx0Plvv"
    },
    "kernelspec": {
      "name": "python3",
      "display_name": "Python 3"
    },
    "language_info": {
      "name": "python"
    }
  },
  "cells": [
    {
      "cell_type": "code",
      "execution_count": null,
      "metadata": {
        "id": "tBsopysYIEkW",
        "colab": {
          "base_uri": "https://localhost:8080/"
        },
        "outputId": "b7acda13-e52a-4118-f0e4-15ffc93759be"
      },
      "outputs": [
        {
          "output_type": "stream",
          "name": "stdout",
          "text": [
            "Looking in indexes: https://pypi.org/simple, https://us-python.pkg.dev/colab-wheels/public/simple/\n",
            "Requirement already satisfied: scikit-learn in /usr/local/lib/python3.7/dist-packages (1.0.2)\n",
            "Requirement already satisfied: numpy>=1.14.6 in /usr/local/lib/python3.7/dist-packages (from scikit-learn) (1.21.6)\n",
            "Requirement already satisfied: scipy>=1.1.0 in /usr/local/lib/python3.7/dist-packages (from scikit-learn) (1.7.3)\n",
            "Requirement already satisfied: joblib>=0.11 in /usr/local/lib/python3.7/dist-packages (from scikit-learn) (1.1.0)\n",
            "Requirement already satisfied: threadpoolctl>=2.0.0 in /usr/local/lib/python3.7/dist-packages (from scikit-learn) (3.1.0)\n"
          ]
        }
      ],
      "source": [
        "# 코랩에서 실행할 경우 사이킷런 버전을 최신으로 업데이트하세요.\n",
        "!pip install --upgrade scikit-learn"
      ]
    },
    {
      "cell_type": "code",
      "source": [
        "from IPython.display import Image"
      ],
      "metadata": {
        "id": "aTVGVEM5KNAB"
      },
      "execution_count": null,
      "outputs": []
    },
    {
      "cell_type": "code",
      "source": [
        "Image(url='https://git.io/JtsvW', width=400)"
      ],
      "metadata": {
        "colab": {
          "base_uri": "https://localhost:8080/",
          "height": 385
        },
        "id": "oSD88DesKN4_",
        "outputId": "959df86c-faf4-4ad3-e280-9fc9561dc9e0"
      },
      "execution_count": null,
      "outputs": [
        {
          "output_type": "execute_result",
          "data": {
            "text/html": [
              "<img src=\"https://git.io/JtsvW\" width=\"400\"/>"
            ],
            "text/plain": [
              "<IPython.core.display.Image object>"
            ]
          },
          "metadata": {},
          "execution_count": 3
        }
      ]
    },
    {
      "cell_type": "code",
      "source": [
        "import pandas as pd\n",
        "\n",
        "df_wine = pd.read_csv(\"https://archive.ics.uci.edu/ml/machine-learning-databases/wine/wine.data\",\n",
        "                      header=None)\n",
        "\n",
        "df_wine.columns = [\n",
        "    'Class label', 'Alcohol', 'Malic acid', 'Ash',\n",
        "    'Alcalinity of ash', 'Magnesium', 'Total phenols',\n",
        "    'Flavanoids', 'Nonflavanoid phenols', 'Proanthocyanins',\n",
        "    'Color intensity', 'Hue',\n",
        "    'OD280/OD315 of diluted wines', 'Proline'\n",
        "]\n",
        "\n",
        "df_wine.head()"
      ],
      "metadata": {
        "colab": {
          "base_uri": "https://localhost:8080/",
          "height": 305
        },
        "id": "7TwK6b_nKPXV",
        "outputId": "dd78899a-6a37-495f-a393-3fb4382c1c3a"
      },
      "execution_count": null,
      "outputs": [
        {
          "output_type": "execute_result",
          "data": {
            "text/plain": [
              "   Class label  Alcohol  Malic acid   Ash  Alcalinity of ash  Magnesium  \\\n",
              "0            1    14.23        1.71  2.43               15.6        127   \n",
              "1            1    13.20        1.78  2.14               11.2        100   \n",
              "2            1    13.16        2.36  2.67               18.6        101   \n",
              "3            1    14.37        1.95  2.50               16.8        113   \n",
              "4            1    13.24        2.59  2.87               21.0        118   \n",
              "\n",
              "   Total phenols  Flavanoids  Nonflavanoid phenols  Proanthocyanins  \\\n",
              "0           2.80        3.06                  0.28             2.29   \n",
              "1           2.65        2.76                  0.26             1.28   \n",
              "2           2.80        3.24                  0.30             2.81   \n",
              "3           3.85        3.49                  0.24             2.18   \n",
              "4           2.80        2.69                  0.39             1.82   \n",
              "\n",
              "   Color intensity   Hue  OD280/OD315 of diluted wines  Proline  \n",
              "0             5.64  1.04                          3.92     1065  \n",
              "1             4.38  1.05                          3.40     1050  \n",
              "2             5.68  1.03                          3.17     1185  \n",
              "3             7.80  0.86                          3.45     1480  \n",
              "4             4.32  1.04                          2.93      735  "
            ],
            "text/html": [
              "\n",
              "  <div id=\"df-75b05315-80c0-484a-848c-758ac0bec4a7\">\n",
              "    <div class=\"colab-df-container\">\n",
              "      <div>\n",
              "<style scoped>\n",
              "    .dataframe tbody tr th:only-of-type {\n",
              "        vertical-align: middle;\n",
              "    }\n",
              "\n",
              "    .dataframe tbody tr th {\n",
              "        vertical-align: top;\n",
              "    }\n",
              "\n",
              "    .dataframe thead th {\n",
              "        text-align: right;\n",
              "    }\n",
              "</style>\n",
              "<table border=\"1\" class=\"dataframe\">\n",
              "  <thead>\n",
              "    <tr style=\"text-align: right;\">\n",
              "      <th></th>\n",
              "      <th>Class label</th>\n",
              "      <th>Alcohol</th>\n",
              "      <th>Malic acid</th>\n",
              "      <th>Ash</th>\n",
              "      <th>Alcalinity of ash</th>\n",
              "      <th>Magnesium</th>\n",
              "      <th>Total phenols</th>\n",
              "      <th>Flavanoids</th>\n",
              "      <th>Nonflavanoid phenols</th>\n",
              "      <th>Proanthocyanins</th>\n",
              "      <th>Color intensity</th>\n",
              "      <th>Hue</th>\n",
              "      <th>OD280/OD315 of diluted wines</th>\n",
              "      <th>Proline</th>\n",
              "    </tr>\n",
              "  </thead>\n",
              "  <tbody>\n",
              "    <tr>\n",
              "      <th>0</th>\n",
              "      <td>1</td>\n",
              "      <td>14.23</td>\n",
              "      <td>1.71</td>\n",
              "      <td>2.43</td>\n",
              "      <td>15.6</td>\n",
              "      <td>127</td>\n",
              "      <td>2.80</td>\n",
              "      <td>3.06</td>\n",
              "      <td>0.28</td>\n",
              "      <td>2.29</td>\n",
              "      <td>5.64</td>\n",
              "      <td>1.04</td>\n",
              "      <td>3.92</td>\n",
              "      <td>1065</td>\n",
              "    </tr>\n",
              "    <tr>\n",
              "      <th>1</th>\n",
              "      <td>1</td>\n",
              "      <td>13.20</td>\n",
              "      <td>1.78</td>\n",
              "      <td>2.14</td>\n",
              "      <td>11.2</td>\n",
              "      <td>100</td>\n",
              "      <td>2.65</td>\n",
              "      <td>2.76</td>\n",
              "      <td>0.26</td>\n",
              "      <td>1.28</td>\n",
              "      <td>4.38</td>\n",
              "      <td>1.05</td>\n",
              "      <td>3.40</td>\n",
              "      <td>1050</td>\n",
              "    </tr>\n",
              "    <tr>\n",
              "      <th>2</th>\n",
              "      <td>1</td>\n",
              "      <td>13.16</td>\n",
              "      <td>2.36</td>\n",
              "      <td>2.67</td>\n",
              "      <td>18.6</td>\n",
              "      <td>101</td>\n",
              "      <td>2.80</td>\n",
              "      <td>3.24</td>\n",
              "      <td>0.30</td>\n",
              "      <td>2.81</td>\n",
              "      <td>5.68</td>\n",
              "      <td>1.03</td>\n",
              "      <td>3.17</td>\n",
              "      <td>1185</td>\n",
              "    </tr>\n",
              "    <tr>\n",
              "      <th>3</th>\n",
              "      <td>1</td>\n",
              "      <td>14.37</td>\n",
              "      <td>1.95</td>\n",
              "      <td>2.50</td>\n",
              "      <td>16.8</td>\n",
              "      <td>113</td>\n",
              "      <td>3.85</td>\n",
              "      <td>3.49</td>\n",
              "      <td>0.24</td>\n",
              "      <td>2.18</td>\n",
              "      <td>7.80</td>\n",
              "      <td>0.86</td>\n",
              "      <td>3.45</td>\n",
              "      <td>1480</td>\n",
              "    </tr>\n",
              "    <tr>\n",
              "      <th>4</th>\n",
              "      <td>1</td>\n",
              "      <td>13.24</td>\n",
              "      <td>2.59</td>\n",
              "      <td>2.87</td>\n",
              "      <td>21.0</td>\n",
              "      <td>118</td>\n",
              "      <td>2.80</td>\n",
              "      <td>2.69</td>\n",
              "      <td>0.39</td>\n",
              "      <td>1.82</td>\n",
              "      <td>4.32</td>\n",
              "      <td>1.04</td>\n",
              "      <td>2.93</td>\n",
              "      <td>735</td>\n",
              "    </tr>\n",
              "  </tbody>\n",
              "</table>\n",
              "</div>\n",
              "      <button class=\"colab-df-convert\" onclick=\"convertToInteractive('df-75b05315-80c0-484a-848c-758ac0bec4a7')\"\n",
              "              title=\"Convert this dataframe to an interactive table.\"\n",
              "              style=\"display:none;\">\n",
              "        \n",
              "  <svg xmlns=\"http://www.w3.org/2000/svg\" height=\"24px\"viewBox=\"0 0 24 24\"\n",
              "       width=\"24px\">\n",
              "    <path d=\"M0 0h24v24H0V0z\" fill=\"none\"/>\n",
              "    <path d=\"M18.56 5.44l.94 2.06.94-2.06 2.06-.94-2.06-.94-.94-2.06-.94 2.06-2.06.94zm-11 1L8.5 8.5l.94-2.06 2.06-.94-2.06-.94L8.5 2.5l-.94 2.06-2.06.94zm10 10l.94 2.06.94-2.06 2.06-.94-2.06-.94-.94-2.06-.94 2.06-2.06.94z\"/><path d=\"M17.41 7.96l-1.37-1.37c-.4-.4-.92-.59-1.43-.59-.52 0-1.04.2-1.43.59L10.3 9.45l-7.72 7.72c-.78.78-.78 2.05 0 2.83L4 21.41c.39.39.9.59 1.41.59.51 0 1.02-.2 1.41-.59l7.78-7.78 2.81-2.81c.8-.78.8-2.07 0-2.86zM5.41 20L4 18.59l7.72-7.72 1.47 1.35L5.41 20z\"/>\n",
              "  </svg>\n",
              "      </button>\n",
              "      \n",
              "  <style>\n",
              "    .colab-df-container {\n",
              "      display:flex;\n",
              "      flex-wrap:wrap;\n",
              "      gap: 12px;\n",
              "    }\n",
              "\n",
              "    .colab-df-convert {\n",
              "      background-color: #E8F0FE;\n",
              "      border: none;\n",
              "      border-radius: 50%;\n",
              "      cursor: pointer;\n",
              "      display: none;\n",
              "      fill: #1967D2;\n",
              "      height: 32px;\n",
              "      padding: 0 0 0 0;\n",
              "      width: 32px;\n",
              "    }\n",
              "\n",
              "    .colab-df-convert:hover {\n",
              "      background-color: #E2EBFA;\n",
              "      box-shadow: 0px 1px 2px rgba(60, 64, 67, 0.3), 0px 1px 3px 1px rgba(60, 64, 67, 0.15);\n",
              "      fill: #174EA6;\n",
              "    }\n",
              "\n",
              "    [theme=dark] .colab-df-convert {\n",
              "      background-color: #3B4455;\n",
              "      fill: #D2E3FC;\n",
              "    }\n",
              "\n",
              "    [theme=dark] .colab-df-convert:hover {\n",
              "      background-color: #434B5C;\n",
              "      box-shadow: 0px 1px 3px 1px rgba(0, 0, 0, 0.15);\n",
              "      filter: drop-shadow(0px 1px 2px rgba(0, 0, 0, 0.3));\n",
              "      fill: #FFFFFF;\n",
              "    }\n",
              "  </style>\n",
              "\n",
              "      <script>\n",
              "        const buttonEl =\n",
              "          document.querySelector('#df-75b05315-80c0-484a-848c-758ac0bec4a7 button.colab-df-convert');\n",
              "        buttonEl.style.display =\n",
              "          google.colab.kernel.accessAllowed ? 'block' : 'none';\n",
              "\n",
              "        async function convertToInteractive(key) {\n",
              "          const element = document.querySelector('#df-75b05315-80c0-484a-848c-758ac0bec4a7');\n",
              "          const dataTable =\n",
              "            await google.colab.kernel.invokeFunction('convertToInteractive',\n",
              "                                                     [key], {});\n",
              "          if (!dataTable) return;\n",
              "\n",
              "          const docLinkHtml = 'Like what you see? Visit the ' +\n",
              "            '<a target=\"_blank\" href=https://colab.research.google.com/notebooks/data_table.ipynb>data table notebook</a>'\n",
              "            + ' to learn more about interactive tables.';\n",
              "          element.innerHTML = '';\n",
              "          dataTable['output_type'] = 'display_data';\n",
              "          await google.colab.output.renderOutput(dataTable, element);\n",
              "          const docLink = document.createElement('div');\n",
              "          docLink.innerHTML = docLinkHtml;\n",
              "          element.appendChild(docLink);\n",
              "        }\n",
              "      </script>\n",
              "    </div>\n",
              "  </div>\n",
              "  "
            ]
          },
          "metadata": {},
          "execution_count": 4
        }
      ]
    },
    {
      "cell_type": "code",
      "source": [
        "from sklearn.model_selection import train_test_split\n",
        "\n",
        "X, y = df_wine.iloc[:, 1:].values, df_wine.iloc[:, 0].values\n",
        "\n",
        "X_train, X_test, y_train, y_test = train_test_split(X, y, test_size=0.3,\n",
        "                                                    stratify=y, random_state=0)"
      ],
      "metadata": {
        "id": "SqfPffgZKlQm"
      },
      "execution_count": null,
      "outputs": []
    },
    {
      "cell_type": "code",
      "source": [
        "from sklearn.preprocessing import StandardScaler\n",
        "\n",
        "sc = StandardScaler()\n",
        "X_train_std = sc.fit_transform(X_train)\n",
        "X_test_std = sc.transform(X_test)"
      ],
      "metadata": {
        "id": "aXVZeq89K6EO"
      },
      "execution_count": null,
      "outputs": []
    },
    {
      "cell_type": "code",
      "source": [
        "import numpy as np\n",
        "\n",
        "cov_mat = np.cov(X_train_std.T)\n",
        "eigen_vals, eigen_vecs = np.linalg.eig(cov_mat)\n",
        "\n",
        "print(\"\\n고윳값 \\n%s\" % eigen_vals)"
      ],
      "metadata": {
        "colab": {
          "base_uri": "https://localhost:8080/"
        },
        "id": "RdljfxEMLCiM",
        "outputId": "9df4587a-1306-44d4-e470-6b48bf761d71"
      },
      "execution_count": null,
      "outputs": [
        {
          "output_type": "stream",
          "name": "stdout",
          "text": [
            "\n",
            "고윳값 \n",
            "[4.84274532 2.41602459 1.54845825 0.96120438 0.84166161 0.6620634\n",
            " 0.51828472 0.34650377 0.3131368  0.10754642 0.21357215 0.15362835\n",
            " 0.1808613 ]\n"
          ]
        }
      ]
    },
    {
      "cell_type": "code",
      "source": [
        "eigenh_vals, eigenh_vecs = np.linalg.eigh(cov_mat)\n",
        "\n",
        "print(\"\\n고윳값 \\n%s\" % eigenh_vals)"
      ],
      "metadata": {
        "colab": {
          "base_uri": "https://localhost:8080/"
        },
        "id": "eBGEVK5VN12F",
        "outputId": "3bbdaba5-6e03-40ab-cc42-7104087f4ff9"
      },
      "execution_count": null,
      "outputs": [
        {
          "output_type": "stream",
          "name": "stdout",
          "text": [
            "\n",
            "고윳값 \n",
            "[0.10754642 0.15362835 0.1808613  0.21357215 0.3131368  0.34650377\n",
            " 0.51828472 0.6620634  0.84166161 0.96120438 1.54845825 2.41602459\n",
            " 4.84274532]\n"
          ]
        }
      ]
    },
    {
      "cell_type": "code",
      "source": [
        "tot = sum(eigen_vals)\n",
        "var_exp = [(i / tot) for i in sorted(eigen_vals, reverse=True)]\n",
        "cum_var_exp = np.cumsum(var_exp)"
      ],
      "metadata": {
        "id": "yZqYU9qzOAty"
      },
      "execution_count": null,
      "outputs": []
    },
    {
      "cell_type": "code",
      "source": [
        "import matplotlib.pyplot as plt\n",
        "\n",
        "plt.bar(range(1, 14), var_exp, alpha=0.5, align='center',\n",
        "        label=\"Individual explained variance\")\n",
        "plt.step(range(1, 14), cum_var_exp, where=\"mid\",\n",
        "         label=\"Cumulative explained variance\")\n",
        "plt.ylabel(\"Explained vaiance ratio\")\n",
        "plt.xlabel(\"Principal component index\")\n",
        "plt.legend(loc=\"best\")\n",
        "plt.tight_layout()\n",
        "plt.show()"
      ],
      "metadata": {
        "colab": {
          "base_uri": "https://localhost:8080/",
          "height": 297
        },
        "id": "G9lWMX2XpCLH",
        "outputId": "f724b7c0-0db3-44c3-d7d5-5161ec219cec"
      },
      "execution_count": null,
      "outputs": [
        {
          "output_type": "display_data",
          "data": {
            "text/plain": [
              "<Figure size 432x288 with 1 Axes>"
            ],
            "image/png": "[encoded data removed]"
          },
          "metadata": {
            "needs_background": "light"
          }
        }
      ]
    },
    {
      "cell_type": "code",
      "source": [
        "eigen_pairs = [(np.abs(eigen_vals[i]), eigen_vecs[:, i])\n",
        "                for i in range(len(eigen_vals))]\n",
        "\n",
        "eigen_pairs.sort(key=lambda k: k[0], reverse=True)"
      ],
      "metadata": {
        "id": "hNV7zYUfpqye"
      },
      "execution_count": null,
      "outputs": []
    },
    {
      "cell_type": "code",
      "source": [
        "w = np.hstack((eigen_pairs[0][1][:, np.newaxis],\n",
        "               eigen_pairs[1][1][:, np.newaxis]))\n",
        "print(\"투영 행렬 W:\\n\", w)"
      ],
      "metadata": {
        "colab": {
          "base_uri": "https://localhost:8080/"
        },
        "id": "5R9LDSWGp-aG",
        "outputId": "43366f64-385d-4948-977b-87f31312e805"
      },
      "execution_count": null,
      "outputs": [
        {
          "output_type": "stream",
          "name": "stdout",
          "text": [
            "투영 행렬 W:\n",
            " [[-0.13724218  0.50303478]\n",
            " [ 0.24724326  0.16487119]\n",
            " [-0.02545159  0.24456476]\n",
            " [ 0.20694508 -0.11352904]\n",
            " [-0.15436582  0.28974518]\n",
            " [-0.39376952  0.05080104]\n",
            " [-0.41735106 -0.02287338]\n",
            " [ 0.30572896  0.09048885]\n",
            " [-0.30668347  0.00835233]\n",
            " [ 0.07554066  0.54977581]\n",
            " [-0.32613263 -0.20716433]\n",
            " [-0.36861022 -0.24902536]\n",
            " [-0.29669651  0.38022942]]\n"
          ]
        }
      ]
    },
    {
      "cell_type": "code",
      "source": [
        "X_train_std[0].dot(w)"
      ],
      "metadata": {
        "colab": {
          "base_uri": "https://localhost:8080/"
        },
        "id": "ValA0GYYqJCl",
        "outputId": "b1807590-6dab-4c5c-c731-626dd56de0ee"
      },
      "execution_count": null,
      "outputs": [
        {
          "output_type": "execute_result",
          "data": {
            "text/plain": [
              "array([2.38299011, 0.45458499])"
            ]
          },
          "metadata": {},
          "execution_count": 13
        }
      ]
    },
    {
      "cell_type": "code",
      "source": [
        "X_train_pca = X_train_std.dot(w)\n",
        "colors = ['r', 'b', 'g']\n",
        "markers = ['s', 'x', 'o']\n",
        "\n",
        "for l, c, m in zip(np.unique(y_train), colors, markers):\n",
        "  plt.scatter(X_train_pca[y_train == l, 0],\n",
        "              X_train_pca[y_train == l, 1],\n",
        "              c=c, label=l, marker=m)\n",
        "\n",
        "plt.xlabel(\"PC 1\")\n",
        "plt.ylabel(\"PC 2\")\n",
        "plt.legend(loc=\"lower left\")\n",
        "plt.tight_layout()\n",
        "plt.show()"
      ],
      "metadata": {
        "colab": {
          "base_uri": "https://localhost:8080/",
          "height": 297
        },
        "id": "oBLuznvCqTaO",
        "outputId": "354452a7-6b13-48bb-a370-32ff3fca320f"
      },
      "execution_count": null,
      "outputs": [
        {
          "output_type": "display_data",
          "data": {
            "text/plain": [
              "<Figure size 432x288 with 1 Axes>"
            ],
            "image/png": "[encoded data removed]"
          },
          "metadata": {
            "needs_background": "light"
          }
        }
      ]
    },
    {
      "cell_type": "code",
      "source": [
        "from sklearn.decomposition import PCA\n",
        "\n",
        "pca = PCA()\n",
        "X_train_pca = pca.fit_transform(X_train_std)\n",
        "pca.explained_variance_ratio_"
      ],
      "metadata": {
        "colab": {
          "base_uri": "https://localhost:8080/"
        },
        "id": "4QHUZqwqqv_u",
        "outputId": "653b13ed-2519-4a80-c887-88834607a1ac"
      },
      "execution_count": null,
      "outputs": [
        {
          "output_type": "execute_result",
          "data": {
            "text/plain": [
              "array([0.36951469, 0.18434927, 0.11815159, 0.07334252, 0.06422108,\n",
              "       0.05051724, 0.03954654, 0.02643918, 0.02389319, 0.01629614,\n",
              "       0.01380021, 0.01172226, 0.00820609])"
            ]
          },
          "metadata": {},
          "execution_count": 15
        }
      ]
    },
    {
      "cell_type": "code",
      "source": [
        "plt.bar(range(1, 14), pca.explained_variance_ratio_, alpha=0.5, align=\"center\")\n",
        "plt.step(range(1, 14), np.cumsum(pca.explained_variance_ratio_), where=\"mid\")\n",
        "plt.ylabel(\"Explained variance ratio\")\n",
        "plt.xlabel(\"Principal components\")\n",
        "plt.show()"
      ],
      "metadata": {
        "colab": {
          "base_uri": "https://localhost:8080/",
          "height": 279
        },
        "id": "SopHnC2NrEtE",
        "outputId": "5ff02a14-6d44-4799-db8b-082e63c25dc3"
      },
      "execution_count": null,
      "outputs": [
        {
          "output_type": "display_data",
          "data": {
            "text/plain": [
              "<Figure size 432x288 with 1 Axes>"
            ],
            "image/png": "[encoded data removed]"
          },
          "metadata": {
            "needs_background": "light"
          }
        }
      ]
    },
    {
      "cell_type": "code",
      "source": [
        "pca = PCA(n_components=2)\n",
        "X_train_pca = pca.fit_transform(X_train_std)\n",
        "X_test_pca = pca.transform(X_test_std)"
      ],
      "metadata": {
        "id": "1T6qtHTjrbV9"
      },
      "execution_count": null,
      "outputs": []
    },
    {
      "cell_type": "code",
      "source": [
        "plt.scatter(X_train_pca[:, 0], X_train_pca[:, 1])\n",
        "plt.xlabel(\"PC 1\")\n",
        "plt.ylabel(\"PC 2\")\n",
        "plt.show()"
      ],
      "metadata": {
        "colab": {
          "base_uri": "https://localhost:8080/",
          "height": 279
        },
        "id": "VH7tOEMlri2M",
        "outputId": "1a5dc5c5-4c8f-4399-bbba-a62de8332769"
      },
      "execution_count": null,
      "outputs": [
        {
          "output_type": "display_data",
          "data": {
            "text/plain": [
              "<Figure size 432x288 with 1 Axes>"
            ],
            "image/png": "[encoded data removed]"
          },
          "metadata": {
            "needs_background": "light"
          }
        }
      ]
    },
    {
      "cell_type": "code",
      "source": [
        "from matplotlib.colors import ListedColormap\n",
        "\n",
        "def plot_decision_regions(X, y, classifier, resolution=0.02):\n",
        "\n",
        "    # 마커와 컬러맵을 준비합니다\n",
        "    markers = ('s', 'x', 'o', '^', 'v')\n",
        "    colors = ('red', 'blue', 'lightgreen', 'gray', 'cyan')\n",
        "    cmap = ListedColormap(colors[:len(np.unique(y))])\n",
        "\n",
        "    # 결정 경계를 그립니다\n",
        "    x1_min, x1_max = X[:, 0].min() - 1, X[:, 0].max() + 1\n",
        "    x2_min, x2_max = X[:, 1].min() - 1, X[:, 1].max() + 1\n",
        "    xx1, xx2 = np.meshgrid(np.arange(x1_min, x1_max, resolution),\n",
        "                           np.arange(x2_min, x2_max, resolution))\n",
        "    Z = classifier.predict(np.array([xx1.ravel(), xx2.ravel()]).T)\n",
        "    Z = Z.reshape(xx1.shape)\n",
        "    plt.contourf(xx1, xx2, Z, alpha=0.4, cmap=cmap)\n",
        "    plt.xlim(xx1.min(), xx1.max())\n",
        "    plt.ylim(xx2.min(), xx2.max())\n",
        "\n",
        "    # 클래스별로 샘플을 그립니다\n",
        "    for idx, cl in enumerate(np.unique(y)):\n",
        "        plt.scatter(x=X[y == cl, 0], \n",
        "                    y=X[y == cl, 1],\n",
        "                    alpha=0.6, \n",
        "                    color=cmap(idx),\n",
        "                    edgecolor=None if idx==1 else 'black',\n",
        "                    marker=markers[idx], \n",
        "                    label=cl)"
      ],
      "metadata": {
        "id": "06i9JhPyr2qk"
      },
      "execution_count": null,
      "outputs": []
    },
    {
      "cell_type": "code",
      "source": [
        "from sklearn.linear_model import LogisticRegression\n",
        "\n",
        "pca = PCA(n_components=2)\n",
        "X_train_pca = pca.fit_transform(X_train_std)\n",
        "X_test_pca = pca.transform(X_test_std)\n",
        "\n",
        "lr = LogisticRegression(random_state=1)\n",
        "lr = lr.fit(X_train_pca, y_train)"
      ],
      "metadata": {
        "id": "imlF-5Nms4w_"
      },
      "execution_count": null,
      "outputs": []
    },
    {
      "cell_type": "code",
      "source": [
        "plot_decision_regions(X_train_pca, y_train, classifier=lr)\n",
        "plt.xlabel('PC 1')\n",
        "plt.ylabel('PC 2')\n",
        "plt.legend(loc='lower left')\n",
        "plt.tight_layout()\n",
        "# plt.savefig('images/05_04.png', dpi=300)\n",
        "plt.show()"
      ],
      "metadata": {
        "colab": {
          "base_uri": "https://localhost:8080/",
          "height": 297
        },
        "id": "BbxNFV-Js548",
        "outputId": "be0fce9d-6434-4d99-c0a8-df36cd175ffc"
      },
      "execution_count": null,
      "outputs": [
        {
          "output_type": "display_data",
          "data": {
            "text/plain": [
              "<Figure size 432x288 with 1 Axes>"
            ],
            "image/png": "[encoded data removed]"
          },
          "metadata": {
            "needs_background": "light"
          }
        }
      ]
    },
    {
      "cell_type": "code",
      "source": [
        "plot_decision_regions(X_test_pca, y_test, classifier=lr)\n",
        "plt.xlabel('PC 1')\n",
        "plt.ylabel('PC 2')\n",
        "plt.legend(loc='lower left')\n",
        "plt.tight_layout()\n",
        "# plt.savefig('images/05_05.png', dpi=300)\n",
        "plt.show()"
      ],
      "metadata": {
        "colab": {
          "base_uri": "https://localhost:8080/",
          "height": 297
        },
        "id": "BF3ccsQgs7Ku",
        "outputId": "0d9942ee-486c-44fe-ebd6-34faac0bb749"
      },
      "execution_count": null,
      "outputs": [
        {
          "output_type": "display_data",
          "data": {
            "text/plain": [
              "<Figure size 432x288 with 1 Axes>"
            ],
            "image/png": "[encoded data removed]"
          },
          "metadata": {
            "needs_background": "light"
          }
        }
      ]
    },
    {
      "cell_type": "code",
      "source": [
        "pca = PCA(n_components=None)\n",
        "X_train_pca = pca.fit_transform(X_train_std)\n",
        "pca.explained_variance_ratio_"
      ],
      "metadata": {
        "colab": {
          "base_uri": "https://localhost:8080/"
        },
        "id": "KMTuDfc7s9Nc",
        "outputId": "03859de9-9e94-479e-bcce-e2d668dc2d3b"
      },
      "execution_count": null,
      "outputs": [
        {
          "output_type": "execute_result",
          "data": {
            "text/plain": [
              "array([0.36951469, 0.18434927, 0.11815159, 0.07334252, 0.06422108,\n",
              "       0.05051724, 0.03954654, 0.02643918, 0.02389319, 0.01629614,\n",
              "       0.01380021, 0.01172226, 0.00820609])"
            ]
          },
          "metadata": {},
          "execution_count": 23
        }
      ]
    },
    {
      "cell_type": "code",
      "source": [
        "pca = PCA(n_components=0.95)\n",
        "pca.fit(X_train_std)\n",
        "print('주성분 개수:', pca.n_components_)\n",
        "print('설명된 분산 비율:', np.sum(pca.explained_variance_ratio_))"
      ],
      "metadata": {
        "colab": {
          "base_uri": "https://localhost:8080/"
        },
        "id": "Yoat5NIss-gD",
        "outputId": "1ae44551-7d9f-4225-b577-cb8fa3a22286"
      },
      "execution_count": null,
      "outputs": [
        {
          "output_type": "stream",
          "name": "stdout",
          "text": [
            "주성분 개수: 10\n",
            "설명된 분산 비율: 0.9662714406558743\n"
          ]
        }
      ]
    },
    {
      "cell_type": "code",
      "source": [
        "pca = PCA(n_components='mle')\n",
        "pca.fit(X_train_std)\n",
        "print('주성분 개수:', pca.n_components_)\n",
        "print('설명된 분산 비율:', np.sum(pca.explained_variance_ratio_))"
      ],
      "metadata": {
        "colab": {
          "base_uri": "https://localhost:8080/"
        },
        "id": "SaK2jpZls_nG",
        "outputId": "0e3c8ab8-0a87-42f6-bae8-277c016e2740"
      },
      "execution_count": null,
      "outputs": [
        {
          "output_type": "stream",
          "name": "stdout",
          "text": [
            "주성분 개수: 9\n",
            "설명된 분산 비율: 0.9499753029186233\n"
          ]
        }
      ]
    },
    {
      "cell_type": "code",
      "source": [
        "from sklearn.decomposition import IncrementalPCA\n",
        "\n",
        "ipca = IncrementalPCA(n_components=9)\n",
        "for batch in range(len(X_train_std)//25+1):\n",
        "    X_batch = X_train_std[batch*25:(batch+1)*25]\n",
        "    ipca.partial_fit(X_batch)\n",
        "\n",
        "print('주성분 개수:', ipca.n_components_)\n",
        "print('설명된 분산 비율:', np.sum(ipca.explained_variance_ratio_))"
      ],
      "metadata": {
        "colab": {
          "base_uri": "https://localhost:8080/"
        },
        "id": "0AKQVmwStA8r",
        "outputId": "6c8130b2-089f-4179-9c28-c3870e5e1faa"
      },
      "execution_count": null,
      "outputs": [
        {
          "output_type": "stream",
          "name": "stdout",
          "text": [
            "주성분 개수: 9\n",
            "설명된 분산 비율: 0.9478392700446656\n"
          ]
        }
      ]
    },
    {
      "cell_type": "code",
      "source": [
        "Image(url='https://git.io/Jtsv8', width=400) "
      ],
      "metadata": {
        "id": "cgNbvIKbtCaq",
        "colab": {
          "base_uri": "https://localhost:8080/",
          "height": 365
        },
        "outputId": "edf75be4-0376-4cc1-e12f-a59a12ba3977"
      },
      "execution_count": null,
      "outputs": [
        {
          "output_type": "execute_result",
          "data": {
            "text/html": [
              "<img src=\"https://git.io/Jtsv8\" width=\"400\"/>"
            ],
            "text/plain": [
              "<IPython.core.display.Image object>"
            ]
          },
          "metadata": {},
          "execution_count": 27
        }
      ]
    },
    {
      "cell_type": "code",
      "source": [
        "np.set_printoptions(precision=4)\n",
        "\n",
        "mean_vecs = []\n",
        "for label in range(1, 4):\n",
        "  mean_vecs.append(np.mean(X_train_std[y_train == label], axis=0))\n",
        "  print(\"MV %s: %s\\n\" % (label, mean_vecs[label-1]))"
      ],
      "metadata": {
        "colab": {
          "base_uri": "https://localhost:8080/"
        },
        "id": "qVXgQy4RVVdf",
        "outputId": "92f6c20c-014a-479f-d0a8-3a93fb47c988"
      },
      "execution_count": null,
      "outputs": [
        {
          "output_type": "stream",
          "name": "stdout",
          "text": [
            "MV 1: [ 0.9066 -0.3497  0.3201 -0.7189  0.5056  0.8807  0.9589 -0.5516  0.5416\n",
            "  0.2338  0.5897  0.6563  1.2075]\n",
            "\n",
            "MV 2: [-0.8749 -0.2848 -0.3735  0.3157 -0.3848 -0.0433  0.0635 -0.0946  0.0703\n",
            " -0.8286  0.3144  0.3608 -0.7253]\n",
            "\n",
            "MV 3: [ 0.1992  0.866   0.1682  0.4148 -0.0451 -1.0286 -1.2876  0.8287 -0.7795\n",
            "  0.9649 -1.209  -1.3622 -0.4013]\n",
            "\n"
          ]
        }
      ]
    },
    {
      "cell_type": "code",
      "source": [
        "d = 13 # 특성의 수\n",
        "S_W = np.zeros((d, d))\n",
        "for label, mv in zip(range(1, 4), mean_vecs):\n",
        "    class_scatter = np.zeros((d, d))  # 각 클래스에 대한 산포 행렬\n",
        "    for row in X_train_std[y_train == label]:\n",
        "        row, mv = row.reshape(d, 1), mv.reshape(d, 1)  # 열 벡터를 만듭니다\n",
        "        class_scatter += (row - mv).dot((row - mv).T)\n",
        "    S_W += class_scatter                          # 클래스 산포 행렬을 더합니다\n",
        "\n",
        "print('클래스 내의 산포 행렬: %sx%s' % (S_W.shape[0], S_W.shape[1]))"
      ],
      "metadata": {
        "colab": {
          "base_uri": "https://localhost:8080/"
        },
        "id": "Da1qM3LiVnJB",
        "outputId": "7da6ff9a-7e8b-4f86-bc82-87747bcb5113"
      },
      "execution_count": null,
      "outputs": [
        {
          "output_type": "stream",
          "name": "stdout",
          "text": [
            "클래스 내의 산포 행렬: 13x13\n"
          ]
        }
      ]
    },
    {
      "cell_type": "code",
      "source": [
        "print(\"클래스 레이블 분포: %s\"% np.bincount(y_train)[1:])"
      ],
      "metadata": {
        "colab": {
          "base_uri": "https://localhost:8080/"
        },
        "id": "NvzfXiDoWYJf",
        "outputId": "d05b5c7a-0173-41f2-ca5b-a161366e1e58"
      },
      "execution_count": null,
      "outputs": [
        {
          "output_type": "stream",
          "name": "stdout",
          "text": [
            "클래스 레이블 분포: [41 50 33]\n"
          ]
        }
      ]
    },
    {
      "cell_type": "code",
      "source": [
        "d = 13  # 특성의 수\n",
        "S_W = np.zeros((d, d))\n",
        "for label, mv in zip(range(1, 4), mean_vecs):\n",
        "    class_scatter = np.cov(X_train_std[y_train == label].T)\n",
        "    S_W += class_scatter\n",
        "print('스케일 조정된 클래스 내의 산포 행렬: %sx%s' % \n",
        "      (S_W.shape[0], S_W.shape[1]))"
      ],
      "metadata": {
        "colab": {
          "base_uri": "https://localhost:8080/"
        },
        "id": "nzeMoqReWu8U",
        "outputId": "f5a076a8-f897-4a9b-a4ff-83b2ff77510f"
      },
      "execution_count": null,
      "outputs": [
        {
          "output_type": "stream",
          "name": "stdout",
          "text": [
            "스케일 조정된 클래스 내의 산포 행렬: 13x13\n"
          ]
        }
      ]
    },
    {
      "cell_type": "code",
      "source": [
        "mean_overall = np.mean(X_train_std, axis=0)\n",
        "mean_overall = mean_overall.reshape(d, 1)  # 열 벡터로 만들기\n",
        "d = 13  # 특성 개수\n",
        "S_B = np.zeros((d, d))\n",
        "for i, mean_vec in enumerate(mean_vecs):\n",
        "    n = X_train_std[y_train == i + 1, :].shape[0]\n",
        "    mean_vec = mean_vec.reshape(d, 1)  # 열 벡터로 만들기\n",
        "    S_B += n * (mean_vec - mean_overall).dot((mean_vec - mean_overall).T)\n",
        "\n",
        "print('클래스 간의 산포 행렬: %sx%s' % (S_B.shape[0], S_B.shape[1]))"
      ],
      "metadata": {
        "colab": {
          "base_uri": "https://localhost:8080/"
        },
        "id": "7HutmXRvXGxN",
        "outputId": "2d263ca2-59c6-403e-b372-5f461fc9a706"
      },
      "execution_count": null,
      "outputs": [
        {
          "output_type": "stream",
          "name": "stdout",
          "text": [
            "클래스 간의 산포 행렬: 13x13\n"
          ]
        }
      ]
    },
    {
      "cell_type": "code",
      "source": [
        "eigen_vals, eigen_vecs = np.linalg.eig(np.linalg.inv(S_W).dot(S_B))"
      ],
      "metadata": {
        "id": "x18DDlFmXJBv"
      },
      "execution_count": null,
      "outputs": []
    },
    {
      "cell_type": "code",
      "source": [
        "eigen_pairs = [(np.abs(eigen_vals[i]), eigen_vecs[:, i])\n",
        "for i in range(len(eigen_vals))]"
      ],
      "metadata": {
        "id": "gthobXQTX0os"
      },
      "execution_count": null,
      "outputs": []
    },
    {
      "cell_type": "code",
      "source": [
        "eigen_pairs = sorted(eigen_pairs, key=lambda k: k[0], reverse=True)\n",
        "\n",
        "print(\"내림차순의 고윳값:\\n\")\n",
        "for eigen_val in eigen_pairs:\n",
        "  print(eigen_val[0])"
      ],
      "metadata": {
        "colab": {
          "base_uri": "https://localhost:8080/"
        },
        "id": "uNm9mCoKX8Zo",
        "outputId": "d55b139b-fd71-495c-b268-8dfafd9657d4"
      },
      "execution_count": null,
      "outputs": [
        {
          "output_type": "stream",
          "name": "stdout",
          "text": [
            "내림차순의 고윳값:\n",
            "\n",
            "349.61780890599397\n",
            "172.7615221897938\n",
            "3.3428382148413644e-14\n",
            "2.842170943040401e-14\n",
            "2.5545786180111397e-14\n",
            "1.753393918073425e-14\n",
            "1.753393918073425e-14\n",
            "1.657919399596089e-14\n",
            "1.657919399596089e-14\n",
            "8.242524002707208e-15\n",
            "8.242524002707208e-15\n",
            "6.36835506006027e-15\n",
            "2.97463437554573e-15\n"
          ]
        }
      ]
    },
    {
      "cell_type": "code",
      "source": [
        "tot = sum(eigen_vals.real)\n",
        "discr = [(i / tot) for i in sorted(eigen_vals.real, reverse=True)]\n",
        "cum_discr = np.cumsum(discr)\n",
        "\n",
        "plt.bar(range(1, 14), discr, alpha=0.5, align='center',\n",
        "        label='Individual \"discriminability\"')\n",
        "plt.step(range(1, 14), cum_discr, where='mid',\n",
        "         label='Cumulative \"discriminability\"')\n",
        "plt.ylabel('\"Discriminability\" ratio')\n",
        "plt.xlabel('Linear discriminants')\n",
        "plt.ylim([-0.1, 1.1])\n",
        "plt.legend(loc='best')\n",
        "plt.tight_layout()\n",
        "# plt.savefig('images/05_07.png', dpi=300)\n",
        "plt.show()"
      ],
      "metadata": {
        "colab": {
          "base_uri": "https://localhost:8080/",
          "height": 297
        },
        "id": "T0wzXpjuYJ18",
        "outputId": "a398477b-36dc-4743-8de5-18f598ca1613"
      },
      "execution_count": null,
      "outputs": [
        {
          "output_type": "display_data",
          "data": {
            "text/plain": [
              "<Figure size 432x288 with 1 Axes>"
            ],
            "image/png": "[encoded data removed]"
          },
          "metadata": {
            "needs_background": "light"
          }
        }
      ]
    },
    {
      "cell_type": "code",
      "source": [
        "w = np.hstack((eigen_pairs[0][1][:, np.newaxis].real,\n",
        "              eigen_pairs[1][1][:, np.newaxis].real))\n",
        "print('행렬 W:\\n', w)"
      ],
      "metadata": {
        "colab": {
          "base_uri": "https://localhost:8080/"
        },
        "id": "HOTA47b5YmlL",
        "outputId": "6c09ee5a-28c7-431c-d291-dbb726adb4ac"
      },
      "execution_count": null,
      "outputs": [
        {
          "output_type": "stream",
          "name": "stdout",
          "text": [
            "행렬 W:\n",
            " [[-0.1481 -0.4092]\n",
            " [ 0.0908 -0.1577]\n",
            " [-0.0168 -0.3537]\n",
            " [ 0.1484  0.3223]\n",
            " [-0.0163 -0.0817]\n",
            " [ 0.1913  0.0842]\n",
            " [-0.7338  0.2823]\n",
            " [-0.075  -0.0102]\n",
            " [ 0.0018  0.0907]\n",
            " [ 0.294  -0.2152]\n",
            " [-0.0328  0.2747]\n",
            " [-0.3547 -0.0124]\n",
            " [-0.3915 -0.5958]]\n"
          ]
        }
      ]
    },
    {
      "cell_type": "code",
      "source": [
        "X_train_lda = X_train_std.dot(w)\n",
        "colors = ['r', 'b', 'g']\n",
        "markers = ['s', 'x', 'o']\n",
        "\n",
        "for l, c, m in zip(np.unique(y_train), colors, markers):\n",
        "  plt.scatter(X_train_lda[y_train == l, 0],\n",
        "              X_train_lda[y_train == l, 1] * (-1),\n",
        "              c=c, label=l, marker=m)\n",
        "\n",
        "plt.xlabel(\"LD 1\")\n",
        "plt.ylabel(\"LD 2\")\n",
        "plt.legend(loc=\"lower right\")\n",
        "plt.tight_layout()\n",
        "plt.show()"
      ],
      "metadata": {
        "id": "b_DxaBUyYpWL",
        "colab": {
          "base_uri": "https://localhost:8080/",
          "height": 297
        },
        "outputId": "052b68a4-2cf6-4050-a930-0353d29de00b"
      },
      "execution_count": null,
      "outputs": [
        {
          "output_type": "display_data",
          "data": {
            "text/plain": [
              "<Figure size 432x288 with 1 Axes>"
            ],
            "image/png": "[encoded data removed]"
          },
          "metadata": {
            "needs_background": "light"
          }
        }
      ]
    },
    {
      "cell_type": "code",
      "source": [
        "from sklearn.discriminant_analysis import LinearDiscriminantAnalysis as LDA\n",
        "lda = LDA(n_components=2)\n",
        "X_train_lda = lda.fit_transform(X_train_std, y_train)"
      ],
      "metadata": {
        "id": "qzNNhDTZsI4A"
      },
      "execution_count": null,
      "outputs": []
    },
    {
      "cell_type": "code",
      "source": [
        "from sklearn.linear_model import LogisticRegression\n",
        "\n",
        "lr = LogisticRegression(random_state=1)\n",
        "lr = lr.fit(X_train_lda, y_train)\n",
        "\n",
        "plot_decision_regions(X_train_lda, y_train, classifier=lr)\n",
        "plt.xlabel(\"LD 1\")\n",
        "plt.ylabel(\"LD 2\")\n",
        "plt.legend(loc=\"lower left\")\n",
        "plt.tight_layout()\n",
        "plt.show()"
      ],
      "metadata": {
        "colab": {
          "base_uri": "https://localhost:8080/",
          "height": 297
        },
        "id": "uRv69SMMslQm",
        "outputId": "706678ef-a574-4421-d8d6-2ff3d528cce0"
      },
      "execution_count": null,
      "outputs": [
        {
          "output_type": "display_data",
          "data": {
            "text/plain": [
              "<Figure size 432x288 with 1 Axes>"
            ],
            "image/png": "[encoded data removed]"
          },
          "metadata": {
            "needs_background": "light"
          }
        }
      ]
    },
    {
      "cell_type": "code",
      "source": [
        "X_test_lda = lda.transform(X_test_std)\n",
        "\n",
        "plot_decision_regions(X_test_lda, y_test, classifier=lr)\n",
        "plt.xlabel('LD 1')\n",
        "plt.ylabel('LD 2')\n",
        "plt.legend(loc='lower left')\n",
        "plt.tight_layout()\n",
        "plt.show()"
      ],
      "metadata": {
        "colab": {
          "base_uri": "https://localhost:8080/",
          "height": 297
        },
        "id": "kLutafzVtcRE",
        "outputId": "3b0ae4b5-15fc-470d-f39e-966754c3eda1"
      },
      "execution_count": null,
      "outputs": [
        {
          "output_type": "display_data",
          "data": {
            "text/plain": [
              "<Figure size 432x288 with 1 Axes>"
            ],
            "image/png": "[encoded data removed]"
          },
          "metadata": {
            "needs_background": "light"
          }
        }
      ]
    },
    {
      "cell_type": "code",
      "source": [
        "y_uniq, y_count = np.unique(y_train, return_counts=True)\n",
        "priors = y_count / X_train_std.shape[0]\n",
        "priors"
      ],
      "metadata": {
        "colab": {
          "base_uri": "https://localhost:8080/"
        },
        "id": "FiwMdeEgt-3R",
        "outputId": "e82acdd6-2d39-4562-81b6-6490c56e1d16"
      },
      "execution_count": null,
      "outputs": [
        {
          "output_type": "execute_result",
          "data": {
            "text/plain": [
              "array([0.3306, 0.4032, 0.2661])"
            ]
          },
          "metadata": {},
          "execution_count": 45
        }
      ]
    },
    {
      "cell_type": "code",
      "source": [
        "s_w = np.zeros((X_train_std.shape[1], X_train_std.shape[1]))\n",
        "for i, label in enumerate(y_uniq):\n",
        "  s_w += priors[i] * np.cov(X_train_std[y_train == label].T, bias=True)"
      ],
      "metadata": {
        "id": "ODwXbMLIuJrM"
      },
      "execution_count": null,
      "outputs": []
    },
    {
      "cell_type": "code",
      "source": [
        "s_b = np.zeros((X_train_std.shape[1], X_train_std.shape[1]))\n",
        "for i, mean_vec in enumerate(mean_vecs):\n",
        "  n = X_train_std[y_train == i + 1].shape[0]\n",
        "  mean_vec = mean_vec.reshape(-1, 1)\n",
        "  s_b += priors[i] * (mean_vec - mean_overall).dot((mean_vec - mean_overall).T)"
      ],
      "metadata": {
        "id": "aMSnOwjNv8Vh"
      },
      "execution_count": null,
      "outputs": []
    },
    {
      "cell_type": "code",
      "source": [
        "import scipy\n",
        "ei_val, ei_vec = scipy.linalg.eigh(s_b, s_w)\n",
        "ei_vec = ei_vec[:, np.argsort(ei_val)[::-1]]"
      ],
      "metadata": {
        "id": "4WHxrvrdwPWf"
      },
      "execution_count": null,
      "outputs": []
    },
    {
      "cell_type": "code",
      "source": [
        "lda_eigen = LDA(solver=\"eigen\")\n",
        "lda_eigen.fit(X_train_std, y_train)"
      ],
      "metadata": {
        "colab": {
          "base_uri": "https://localhost:8080/"
        },
        "id": "CSdfiFh-wj50",
        "outputId": "b834abb9-d6f7-4bfa-feea-95a2a54fc2b2"
      },
      "execution_count": null,
      "outputs": [
        {
          "output_type": "execute_result",
          "data": {
            "text/plain": [
              "LinearDiscriminantAnalysis(solver='eigen')"
            ]
          },
          "metadata": {},
          "execution_count": 49
        }
      ]
    },
    {
      "cell_type": "code",
      "source": [
        "np.allclose(s_w, lda_eigen.covariance_)"
      ],
      "metadata": {
        "colab": {
          "base_uri": "https://localhost:8080/"
        },
        "id": "WAF9bvMrwpfp",
        "outputId": "71b600b1-ca93-4bb9-d942-ba33d15ed874"
      },
      "execution_count": null,
      "outputs": [
        {
          "output_type": "execute_result",
          "data": {
            "text/plain": [
              "True"
            ]
          },
          "metadata": {},
          "execution_count": 52
        }
      ]
    },
    {
      "cell_type": "code",
      "source": [
        "Sb = np.cov(X_train_std.T, bias=True) - lda_eigen.covariance_\n",
        "np.allclose(Sb, s_b)"
      ],
      "metadata": {
        "colab": {
          "base_uri": "https://localhost:8080/"
        },
        "id": "mR5fl8Lkwr5K",
        "outputId": "72875452-ef54-41ea-c458-0e4bdb5e96c9"
      },
      "execution_count": null,
      "outputs": [
        {
          "output_type": "execute_result",
          "data": {
            "text/plain": [
              "True"
            ]
          },
          "metadata": {},
          "execution_count": 53
        }
      ]
    },
    {
      "cell_type": "code",
      "source": [
        "np.allclose(lda_eigen.scalings_[:, :2], ei_vec[:, :2])"
      ],
      "metadata": {
        "colab": {
          "base_uri": "https://localhost:8080/"
        },
        "id": "D5qiU0arxlBQ",
        "outputId": "fa094e08-5063-4e8c-e0c6-16e96e847685"
      },
      "execution_count": null,
      "outputs": [
        {
          "output_type": "execute_result",
          "data": {
            "text/plain": [
              "True"
            ]
          },
          "metadata": {},
          "execution_count": 54
        }
      ]
    },
    {
      "cell_type": "code",
      "source": [
        "np.allclose(lda_eigen.transform(X_test_std), np.dot(X_test_std, ei_vec[:, :2]))"
      ],
      "metadata": {
        "colab": {
          "base_uri": "https://localhost:8080/"
        },
        "id": "9M5o8b_Cxqda",
        "outputId": "887ab6ca-abfe-4a05-ca5c-78d714922426"
      },
      "execution_count": null,
      "outputs": [
        {
          "output_type": "execute_result",
          "data": {
            "text/plain": [
              "True"
            ]
          },
          "metadata": {},
          "execution_count": 55
        }
      ]
    },
    {
      "cell_type": "code",
      "source": [
        "Image(url='https://git.io/JtsvB', width=500) "
      ],
      "metadata": {
        "colab": {
          "base_uri": "https://localhost:8080/",
          "height": 229
        },
        "id": "ahO2AZrixxgh",
        "outputId": "b2e3a120-a439-4309-d467-21d2fb1fa844"
      },
      "execution_count": null,
      "outputs": [
        {
          "output_type": "execute_result",
          "data": {
            "text/html": [
              "<img src=\"https://git.io/JtsvB\" width=\"500\"/>"
            ],
            "text/plain": [
              "<IPython.core.display.Image object>"
            ]
          },
          "metadata": {},
          "execution_count": 56
        }
      ]
    },
    {
      "cell_type": "code",
      "source": [],
      "metadata": {
        "id": "2KIDOlM2x16J"
      },
      "execution_count": null,
      "outputs": []
    }
  ]
}