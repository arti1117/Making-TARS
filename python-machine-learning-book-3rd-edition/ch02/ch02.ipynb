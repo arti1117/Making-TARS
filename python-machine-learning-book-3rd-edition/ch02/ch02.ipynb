{
  "nbformat": 4,
  "nbformat_minor": 0,
  "metadata": {
    "colab": {
      "name": "ch02.ipynb",
      "provenance": [],
      "authorship_tag": "ABX9TyOghRE6jMLuw/SdWioFjVsd"
    },
    "kernelspec": {
      "name": "python3",
      "display_name": "Python 3"
    },
    "language_info": {
      "name": "python"
    }
  },
  "cells": [
    {
      "cell_type": "code",
      "execution_count": null,
      "metadata": {
        "id": "XF5N1IwKFQJI"
      },
      "outputs": [],
      "source": [
        ""
      ]
    }
  ]
}