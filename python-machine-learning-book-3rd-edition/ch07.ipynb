{
  "nbformat": 4,
  "nbformat_minor": 0,
  "metadata": {
    "colab": {
      "provenance": [],
      "authorship_tag": "ABX9TyNT4RLNkyM0CwdKTrSk/DYe"
    },
    "kernelspec": {
      "name": "python3",
      "display_name": "Python 3"
    },
    "language_info": {
      "name": "python"
    }
  },
  "cells": [
    {
      "cell_type": "code",
      "execution_count": 2,
      "metadata": {
        "colab": {
          "base_uri": "https://localhost:8080/",
          "height": 383
        },
        "id": "nEaB96Py5x1N",
        "outputId": "441a9983-91c9-439d-94ff-940304712fa6"
      },
      "outputs": [
        {
          "output_type": "stream",
          "name": "stdout",
          "text": [
            "Looking in indexes: https://pypi.org/simple, https://us-python.pkg.dev/colab-wheels/public/simple/\n",
            "Requirement already satisfied: scikit-learn in /usr/local/lib/python3.8/dist-packages (1.0.2)\n",
            "Collecting scikit-learn\n",
            "  Downloading scikit_learn-1.2.0-cp38-cp38-manylinux_2_17_x86_64.manylinux2014_x86_64.whl (9.7 MB)\n",
            "\u001b[2K     \u001b[90m━━━━━━━━━━━━━━━━━━━━━━━━━━━━━━━━━━━━━━━━\u001b[0m \u001b[32m9.7/9.7 MB\u001b[0m \u001b[31m44.3 MB/s\u001b[0m eta \u001b[36m0:00:00\u001b[0m\n",
            "\u001b[?25hRequirement already satisfied: joblib>=1.1.1 in /usr/local/lib/python3.8/dist-packages (from scikit-learn) (1.2.0)\n",
            "Requirement already satisfied: scipy>=1.3.2 in /usr/local/lib/python3.8/dist-packages (from scikit-learn) (1.7.3)\n",
            "Requirement already satisfied: numpy>=1.17.3 in /usr/local/lib/python3.8/dist-packages (from scikit-learn) (1.21.6)\n",
            "Requirement already satisfied: threadpoolctl>=2.0.0 in /usr/local/lib/python3.8/dist-packages (from scikit-learn) (3.1.0)\n",
            "Installing collected packages: scikit-learn\n",
            "  Attempting uninstall: scikit-learn\n",
            "    Found existing installation: scikit-learn 1.0.2\n",
            "    Uninstalling scikit-learn-1.0.2:\n",
            "      Successfully uninstalled scikit-learn-1.0.2\n",
            "Successfully installed scikit-learn-1.2.0\n"
          ]
        },
        {
          "output_type": "display_data",
          "data": {
            "application/vnd.colab-display-data+json": {
              "pip_warning": {
                "packages": [
                  "sklearn"
                ]
              }
            }
          },
          "metadata": {}
        }
      ],
      "source": [
        "# 코랩에서 실행할 경우 최신 버전의 사이킷런을 설치합니다.\n",
        "!pip install --upgrade scikit-learn"
      ]
    },
    {
      "cell_type": "code",
      "source": [
        "from IPython.display import Image"
      ],
      "metadata": {
        "id": "yfjYgRFA95U-"
      },
      "execution_count": 3,
      "outputs": []
    },
    {
      "cell_type": "code",
      "source": [
        "Image(url='https://git.io/JtskW', width=500) "
      ],
      "metadata": {
        "colab": {
          "base_uri": "https://localhost:8080/",
          "height": 202
        },
        "id": "NStXmCxH96Fy",
        "outputId": "c0957e90-8c5e-42eb-f89a-bd6a9cfcd7b7"
      },
      "execution_count": 4,
      "outputs": [
        {
          "output_type": "execute_result",
          "data": {
            "text/html": [
              "<img src=\"https://git.io/JtskW\" width=\"500\"/>"
            ],
            "text/plain": [
              "<IPython.core.display.Image object>"
            ]
          },
          "metadata": {},
          "execution_count": 4
        }
      ]
    },
    {
      "cell_type": "code",
      "source": [
        "Image(url='https://git.io/Jtskl', width=500)"
      ],
      "metadata": {
        "colab": {
          "base_uri": "https://localhost:8080/",
          "height": 445
        },
        "id": "UEqsNOR7967L",
        "outputId": "c27c509d-2d7a-4bce-8ae1-f241a5fc84b8"
      },
      "execution_count": 5,
      "outputs": [
        {
          "output_type": "execute_result",
          "data": {
            "text/html": [
              "<img src=\"https://git.io/Jtskl\" width=\"500\"/>"
            ],
            "text/plain": [
              "<IPython.core.display.Image object>"
            ]
          },
          "metadata": {},
          "execution_count": 5
        }
      ]
    },
    {
      "cell_type": "code",
      "source": [
        "from scipy.special import comb\n",
        "import math"
      ],
      "metadata": {
        "id": "o-53x9hI98b1"
      },
      "execution_count": 6,
      "outputs": []
    },
    {
      "cell_type": "code",
      "source": [
        "def ensemble_error(n_classifier, error):\n",
        "  k_start = int(math.ceil(n_classifier/2.))\n",
        "  probs = [comb(n_classifier, k) *\n",
        "           error**k *\n",
        "           (1-error)**(n_classifier-k)\n",
        "           for k in range(k_start, n_classifier+1)]\n",
        "  return sum(probs)"
      ],
      "metadata": {
        "id": "bbGpFt-2-HT2"
      },
      "execution_count": 7,
      "outputs": []
    },
    {
      "cell_type": "code",
      "source": [
        "ensemble_error(n_classifier=11, error=0.25)"
      ],
      "metadata": {
        "colab": {
          "base_uri": "https://localhost:8080/"
        },
        "id": "Z3gaydna-aq8",
        "outputId": "df7fe920-3df0-4fbc-a6a5-d7bf3d7d55ca"
      },
      "execution_count": 8,
      "outputs": [
        {
          "output_type": "execute_result",
          "data": {
            "text/plain": [
              "0.03432750701904297"
            ]
          },
          "metadata": {},
          "execution_count": 8
        }
      ]
    },
    {
      "cell_type": "code",
      "source": [
        "import numpy as np\n",
        "import matplotlib.pyplot as plt"
      ],
      "metadata": {
        "id": "f--nRAL5-dyi"
      },
      "execution_count": 9,
      "outputs": []
    },
    {
      "cell_type": "code",
      "source": [
        "error_range = np.arange(0.0, 1.01, 0.01)\n",
        "ens_errors = [ensemble_error(n_classifier=11, error=error)\n",
        "              for error in error_range]\n",
        "plt.plot(error_range, ens_errors,\n",
        "         label='Ensemble error',\n",
        "         linewidth=2)\n",
        "plt.plot(error_range, error_range,\n",
        "         linestyle='--', label='Base error',\n",
        "         linewidth=2)\n",
        "plt.xlabel('Base error')\n",
        "plt.ylabel('Base/Ensemble error')\n",
        "plt.legend(loc='upper left')\n",
        "plt.grid(alpha=0.5)\n",
        "plt.show()"
      ],
      "metadata": {
        "colab": {
          "base_uri": "https://localhost:8080/",
          "height": 279
        },
        "id": "cVA3nCoA-jXd",
        "outputId": "a39e0e64-d5b4-45f3-e683-b3fe3c1d0f54"
      },
      "execution_count": 10,
      "outputs": [
        {
          "output_type": "display_data",
          "data": {
            "text/plain": [
              "<Figure size 432x288 with 1 Axes>"
            ],
            "image/png": "[encoded data removed]"
          },
          "metadata": {
            "needs_background": "light"
          }
        }
      ]
    },
    {
      "cell_type": "code",
      "source": [
        "np.argmax(np.bincount([0,0,1],\n",
        "                      weights=[0.2, 0.2, 0.6]))"
      ],
      "metadata": {
        "colab": {
          "base_uri": "https://localhost:8080/"
        },
        "id": "myWG04vx_I3P",
        "outputId": "2e3f6e48-0eed-4b95-b6f5-016b13e4b78b"
      },
      "execution_count": 11,
      "outputs": [
        {
          "output_type": "execute_result",
          "data": {
            "text/plain": [
              "1"
            ]
          },
          "metadata": {},
          "execution_count": 11
        }
      ]
    },
    {
      "cell_type": "code",
      "source": [
        "np.bincount([0,0,1])"
      ],
      "metadata": {
        "colab": {
          "base_uri": "https://localhost:8080/"
        },
        "id": "wibEaY3f_bPZ",
        "outputId": "6178ade2-74b6-4d18-fd7f-a4f2bcd26057"
      },
      "execution_count": 12,
      "outputs": [
        {
          "output_type": "execute_result",
          "data": {
            "text/plain": [
              "array([2, 1])"
            ]
          },
          "metadata": {},
          "execution_count": 12
        }
      ]
    },
    {
      "cell_type": "code",
      "source": [
        "np.bincount([0,0,1], weights=[0.2, 0.2, 0.6])"
      ],
      "metadata": {
        "colab": {
          "base_uri": "https://localhost:8080/"
        },
        "id": "irECkBgRBohq",
        "outputId": "fba3f424-2434-4a7a-ada6-0761b361149b"
      },
      "execution_count": 13,
      "outputs": [
        {
          "output_type": "execute_result",
          "data": {
            "text/plain": [
              "array([0.4, 0.6])"
            ]
          },
          "metadata": {},
          "execution_count": 13
        }
      ]
    },
    {
      "cell_type": "code",
      "source": [
        "ex = np.array([[0.9, 0.1],\n",
        "               [0.8, 0.2],\n",
        "               [0.4, 0.6]])\n",
        "\n",
        "p = np.average(ex,\n",
        "               axis=0,\n",
        "               weights=[0.2, 0.2, 0.6])\n",
        "\n",
        "p"
      ],
      "metadata": {
        "colab": {
          "base_uri": "https://localhost:8080/"
        },
        "id": "_yyHjSIgBsCc",
        "outputId": "a6d58e30-a155-4bf1-e9e3-8581bc345e5e"
      },
      "execution_count": 14,
      "outputs": [
        {
          "output_type": "execute_result",
          "data": {
            "text/plain": [
              "array([0.58, 0.42])"
            ]
          },
          "metadata": {},
          "execution_count": 14
        }
      ]
    },
    {
      "cell_type": "code",
      "source": [
        "np.argmax(p)"
      ],
      "metadata": {
        "colab": {
          "base_uri": "https://localhost:8080/"
        },
        "id": "AWotA8HaCUJ6",
        "outputId": "6791ceba-96dc-4bd1-87eb-7e51242a3a87"
      },
      "execution_count": 15,
      "outputs": [
        {
          "output_type": "execute_result",
          "data": {
            "text/plain": [
              "0"
            ]
          },
          "metadata": {},
          "execution_count": 15
        }
      ]
    },
    {
      "cell_type": "code",
      "source": [
        "ex = np.array([[0.4, 0.4, 0.2],\n",
        "               [0.1, 0.8, 0.1],\n",
        "               [0.1, 0.6, 0.3]])\n",
        "\n",
        "q = np.average(ex,\n",
        "               axis=1,\n",
        "               weights=[0.2, 0.2, 0.6])\n",
        "\n",
        "q"
      ],
      "metadata": {
        "colab": {
          "base_uri": "https://localhost:8080/"
        },
        "id": "Thab4RRyCWZL",
        "outputId": "573de63d-0d3f-458a-e766-f982fc41311c"
      },
      "execution_count": 16,
      "outputs": [
        {
          "output_type": "execute_result",
          "data": {
            "text/plain": [
              "array([0.28, 0.24, 0.32])"
            ]
          },
          "metadata": {},
          "execution_count": 16
        }
      ]
    },
    {
      "cell_type": "code",
      "source": [
        "from sklearn.base import BaseEstimator\n",
        "from sklearn.base import ClassifierMixin\n",
        "from sklearn.preprocessing import LabelEncoder\n",
        "from sklearn.base import clone\n",
        "from sklearn.pipeline import _name_estimators\n",
        "import numpy as np\n",
        "import operator"
      ],
      "metadata": {
        "id": "TFYGe0tGCeq7"
      },
      "execution_count": 17,
      "outputs": []
    },
    {
      "cell_type": "code",
      "source": [
        "class MajorityVoteClassifier(BaseEstimator,\n",
        "                             ClassifierMixin):\n",
        "  \"\"\"다수결 투표 앙상블 분류기\n",
        "\n",
        "  매개변수\n",
        "  ----------\n",
        "  classifiers : 배열 타입, 크기 = [n_classifiers]\n",
        "    앙상블에 사용할 분류기\n",
        "  \n",
        "  vote : str, {'classlabel', 'probability'}\n",
        "    기본값: 'classlabel'\n",
        "    'classlabel'이면 예측은 다수인 클래스 레이블의 인덱스가 됩니다\n",
        "    'probability'면 확률 합이 가장 큰 인덱스로\n",
        "    클래스 레이블을 예측합니다(보정된 분류기에 추천합니다)\n",
        "\n",
        "  weights : 배열 타입, 크기 = [n_classifiers]\n",
        "    선택 사항, 기본값: None\n",
        "    'int' 또는 'float' 값의 리스트가 주어지면 분류기가 이 중요도로 가중치됩니다\n",
        "    'weights=None'이면 동일하게 취급합니다\n",
        "\n",
        "  \"\"\"\n",
        "  def __init__(self, classifiers, vote='classlabel', weights=None):\n",
        "    self.classifiers = classifiers\n",
        "    self.named_classifiers = {\n",
        "        key: value for key, value\n",
        "        in _name_estimators(classifiers)\n",
        "    }\n",
        "    self.vote = vote\n",
        "    self.weights = weights\n",
        "\n",
        "  def fit(self, X, y):\n",
        "    \"\"\"분류기를 학습합니다\n",
        "\n",
        "    매개변수\n",
        "    ----------\n",
        "    X : {배열 타입, 희소 행렬},\n",
        "      크기 = [n_samples, n_features]\n",
        "      훈련 샘플 행렬\n",
        "\n",
        "    y : 배열 타입, 크기 = [n_samples]\n",
        "      타깃 클래스 레이블 벡터\n",
        "\n",
        "    반환값\n",
        "    ----------\n",
        "    self : 객체\n",
        "\n",
        "    \"\"\"\n",
        "    if self.vote not in ('probability', 'classlabel'):\n",
        "      raise ValueError(\"vote는 'probability' 또는 'classlabel'이어야 합니다\"\n",
        "                      f\"; (vote={self.vote})이 입력되었습니다.\")\n",
        "    if self.vote and len(self.weights) != len(self.classifiers):\n",
        "      raise ValueError('분류기와 가중치 갯수는 같아야 합니다'\n",
        "                      f'; 가중치 {len(self.weights)} 개, 분류기 {len(self.classifiers)} 개')\n",
        "      \n",
        "    # self.predict 메서드에서 np.argmax를 호출할 때\n",
        "    # 클래스 레이블이 0부터 시작되어야 하므로 LabelEncoder를 사용합니다\n",
        "    self.labelenc_ = LabelEncoder()\n",
        "    self.labelenc_.fit(y)\n",
        "    self.classes_ = self.labelenc_.classes_\n",
        "    self.classifiers_ = []\n",
        "    for clf in self.classifiers:\n",
        "      fitted_clf = clone(clf).fit(X, self.labelenc_.transform(y))\n",
        "      self.classifiers_.append(fitted_clf)\n",
        "    return self\n",
        "\n",
        "  def predict(self, X):\n",
        "    \"\"\"X에 대한 클래스 레이블을 예측합니다\n",
        "\n",
        "    매개변수\n",
        "    ----------\n",
        "    X : {배열 타입, 희소 행렬},\n",
        "      크기 = [n_samples, n_features]\n",
        "      샘플 데이터 행렬\n",
        "\n",
        "    반환값\n",
        "    ----------\n",
        "    maj_vote : 배열 타입, 크기 = [n_samples]\n",
        "      예측된 클래스 레이블\n",
        "\n",
        "    \"\"\"\n",
        "    if self.vote == 'probability':\n",
        "      maj_vote = np.argmax(self.predict_proba(X), axis=1)\n",
        "    else: # 'classlabel' 투표\n",
        "      # clf.predict 메서드를 사용하여 결과를 모읍니다\n",
        "      predictions = np.asarray([\n",
        "          clf.predict(X) for clf in self.classifiers_\n",
        "      ]).T\n",
        "\n",
        "      maj_vote = np.apply_along_axis(\n",
        "          lambda x:\n",
        "          np.argmax(np.bincount(x,\n",
        "                                weights=self.weights)),\n",
        "          axis=1,\n",
        "          arr=predictions\n",
        "      )\n",
        "\n",
        "      maj_vote = self.labelenc_.inverse_transform(maj_vote)\n",
        "      return maj_vote\n",
        "    \n",
        "    def predict_proba(self, X):\n",
        "      \"\"\"X에 대한 클래스 확률을 예측합니다\n",
        "      \n",
        "      매개변수\n",
        "      ----------\n",
        "      X : {배열 타입, 희소 행렬},\n",
        "        크기 = [n_samples, n_features]\n",
        "        n_samples는 샘플의 갯수이고 n_features는 특성의 갯수인\n",
        "        샘플 데이터 행렬\n",
        "\n",
        "      반환값\n",
        "      ----------\n",
        "      avg_proba : 배열 타입,\n",
        "        크기 = [n_samples, n_classes]\n",
        "        샘플마다 가중치가 적용된 클래스의 평균 확률\n",
        "      \n",
        "      \"\"\"\n",
        "      probas = np.asarray([\n",
        "          clf.predict_proba(X) for clf in self.classifiers_\n",
        "      ])\n",
        "      avg_proba = np.average(probas, axis=0, weights=self.weights)\n",
        "      return avg_proba\n",
        "\n",
        "    def get_params(self, deep=True):\n",
        "      \"\"\"GridSearch를 위해 분류기의 매개변수 이름을 반환합니다\"\"\"\n",
        "      if not deep:\n",
        "        return super(MajorityVoteClassifier, self).get_params(deep=False)\n",
        "      else:\n",
        "        out = self.named_classifiers.copy()\n",
        "        for name, step in self.named_classifiers.items():\n",
        "          for key, value in step.get_params(deep=True).items():\n",
        "            out[f'{name:%s}__{key:%s}'] = value\n",
        "        return out"
      ],
      "metadata": {
        "id": "luYsQoXhhbno"
      },
      "execution_count": 18,
      "outputs": []
    }
  ]
}