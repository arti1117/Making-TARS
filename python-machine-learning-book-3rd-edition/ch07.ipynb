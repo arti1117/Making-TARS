{
  "nbformat": 4,
  "nbformat_minor": 0,
  "metadata": {
    "colab": {
      "provenance": [],
      "authorship_tag": "ABX9TyPTlga0Vo8EVdulPRvu5fqT"
    },
    "kernelspec": {
      "name": "python3",
      "display_name": "Python 3"
    },
    "language_info": {
      "name": "python"
    }
  },
  "cells": [
    {
      "cell_type": "code",
      "execution_count": 1,
      "metadata": {
        "colab": {
          "base_uri": "https://localhost:8080/"
        },
        "id": "nEaB96Py5x1N",
        "outputId": "b45b4037-de35-4e94-80a9-1851b2f8cbc0"
      },
      "outputs": [
        {
          "output_type": "stream",
          "name": "stdout",
          "text": [
            "Looking in indexes: https://pypi.org/simple, https://us-python.pkg.dev/colab-wheels/public/simple/\n",
            "Requirement already satisfied: scikit-learn in /usr/local/lib/python3.8/dist-packages (1.0.2)\n",
            "Collecting scikit-learn\n",
            "  Downloading scikit_learn-1.2.0-cp38-cp38-manylinux_2_17_x86_64.manylinux2014_x86_64.whl (9.7 MB)\n",
            "\u001b[2K     \u001b[90m━━━━━━━━━━━━━━━━━━━━━━━━━━━━━━━━━━━━━━━━\u001b[0m \u001b[32m9.7/9.7 MB\u001b[0m \u001b[31m54.8 MB/s\u001b[0m eta \u001b[36m0:00:00\u001b[0m\n",
            "\u001b[?25hRequirement already satisfied: joblib>=1.1.1 in /usr/local/lib/python3.8/dist-packages (from scikit-learn) (1.2.0)\n",
            "Requirement already satisfied: scipy>=1.3.2 in /usr/local/lib/python3.8/dist-packages (from scikit-learn) (1.7.3)\n",
            "Requirement already satisfied: threadpoolctl>=2.0.0 in /usr/local/lib/python3.8/dist-packages (from scikit-learn) (3.1.0)\n",
            "Requirement already satisfied: numpy>=1.17.3 in /usr/local/lib/python3.8/dist-packages (from scikit-learn) (1.21.6)\n",
            "Installing collected packages: scikit-learn\n",
            "  Attempting uninstall: scikit-learn\n",
            "    Found existing installation: scikit-learn 1.0.2\n",
            "    Uninstalling scikit-learn-1.0.2:\n",
            "      Successfully uninstalled scikit-learn-1.0.2\n",
            "Successfully installed scikit-learn-1.2.0\n"
          ]
        }
      ],
      "source": [
        "# 코랩에서 실행할 경우 최신 버전의 사이킷런을 설치합니다.\n",
        "!pip install --upgrade scikit-learn"
      ]
    },
    {
      "cell_type": "code",
      "source": [
        "from IPython.display import Image"
      ],
      "metadata": {
        "id": "yfjYgRFA95U-"
      },
      "execution_count": 2,
      "outputs": []
    },
    {
      "cell_type": "code",
      "source": [
        "Image(url='https://git.io/JtskW', width=500) "
      ],
      "metadata": {
        "colab": {
          "base_uri": "https://localhost:8080/",
          "height": 202
        },
        "id": "NStXmCxH96Fy",
        "outputId": "14710af7-5dc7-4d9c-ca7f-ca3649eec8d2"
      },
      "execution_count": 3,
      "outputs": [
        {
          "output_type": "execute_result",
          "data": {
            "text/html": [
              "<img src=\"https://git.io/JtskW\" width=\"500\"/>"
            ],
            "text/plain": [
              "<IPython.core.display.Image object>"
            ]
          },
          "metadata": {},
          "execution_count": 3
        }
      ]
    },
    {
      "cell_type": "code",
      "source": [
        "Image(url='https://git.io/Jtskl', width=500)"
      ],
      "metadata": {
        "colab": {
          "base_uri": "https://localhost:8080/",
          "height": 445
        },
        "id": "UEqsNOR7967L",
        "outputId": "a5241fb6-fe4c-4d4d-bf6a-40eda7db3a68"
      },
      "execution_count": 4,
      "outputs": [
        {
          "output_type": "execute_result",
          "data": {
            "text/html": [
              "<img src=\"https://git.io/Jtskl\" width=\"500\"/>"
            ],
            "text/plain": [
              "<IPython.core.display.Image object>"
            ]
          },
          "metadata": {},
          "execution_count": 4
        }
      ]
    },
    {
      "cell_type": "code",
      "source": [
        "from scipy.special import comb\n",
        "import math"
      ],
      "metadata": {
        "id": "o-53x9hI98b1"
      },
      "execution_count": 5,
      "outputs": []
    },
    {
      "cell_type": "code",
      "source": [
        "def ensemble_error(n_classifier, error):\n",
        "  k_start = int(math.ceil(n_classifier/2.))\n",
        "  probs = [comb(n_classifier, k) *\n",
        "           error**k *\n",
        "           (1-error)**(n_classifier-k)\n",
        "           for k in range(k_start, n_classifier+1)]\n",
        "  return sum(probs)"
      ],
      "metadata": {
        "id": "bbGpFt-2-HT2"
      },
      "execution_count": 6,
      "outputs": []
    },
    {
      "cell_type": "code",
      "source": [
        "ensemble_error(n_classifier=11, error=0.25)"
      ],
      "metadata": {
        "colab": {
          "base_uri": "https://localhost:8080/"
        },
        "id": "Z3gaydna-aq8",
        "outputId": "2d392e5e-782f-4f4f-b490-68a0a87d9bed"
      },
      "execution_count": 7,
      "outputs": [
        {
          "output_type": "execute_result",
          "data": {
            "text/plain": [
              "0.03432750701904297"
            ]
          },
          "metadata": {},
          "execution_count": 7
        }
      ]
    },
    {
      "cell_type": "code",
      "source": [
        "import numpy as np\n",
        "import matplotlib.pyplot as plt"
      ],
      "metadata": {
        "id": "f--nRAL5-dyi"
      },
      "execution_count": 8,
      "outputs": []
    },
    {
      "cell_type": "code",
      "source": [
        "error_range = np.arange(0.0, 1.01, 0.01)\n",
        "ens_errors = [ensemble_error(n_classifier=11, error=error)\n",
        "              for error in error_range]\n",
        "plt.plot(error_range, ens_errors,\n",
        "         label='Ensemble error',\n",
        "         linewidth=2)\n",
        "plt.plot(error_range, error_range,\n",
        "         linestyle='--', label='Base error',\n",
        "         linewidth=2)\n",
        "plt.xlabel('Base error')\n",
        "plt.ylabel('Base/Ensemble error')\n",
        "plt.legend(loc='upper left')\n",
        "plt.grid(alpha=0.5)\n",
        "plt.show()"
      ],
      "metadata": {
        "colab": {
          "base_uri": "https://localhost:8080/",
          "height": 279
        },
        "id": "cVA3nCoA-jXd",
        "outputId": "5bb90198-bd36-4bf0-e7e9-125c740a7825"
      },
      "execution_count": 9,
      "outputs": [
        {
          "output_type": "display_data",
          "data": {
            "text/plain": [
              "<Figure size 432x288 with 1 Axes>"
            ],
            "image/png": "[encoded data removed]"
          },
          "metadata": {
            "needs_background": "light"
          }
        }
      ]
    },
    {
      "cell_type": "code",
      "source": [
        "np.argmax(np.bincount([0,0,1],\n",
        "                      weights=[0.2, 0.2, 0.6]))"
      ],
      "metadata": {
        "colab": {
          "base_uri": "https://localhost:8080/"
        },
        "id": "myWG04vx_I3P",
        "outputId": "bdc498da-257f-46b4-d827-81ec7ab6a270"
      },
      "execution_count": 10,
      "outputs": [
        {
          "output_type": "execute_result",
          "data": {
            "text/plain": [
              "1"
            ]
          },
          "metadata": {},
          "execution_count": 10
        }
      ]
    },
    {
      "cell_type": "code",
      "source": [
        "np.bincount([0,0,1])"
      ],
      "metadata": {
        "colab": {
          "base_uri": "https://localhost:8080/"
        },
        "id": "wibEaY3f_bPZ",
        "outputId": "380aee97-bdac-4c71-afbe-fc702299fdb7"
      },
      "execution_count": 11,
      "outputs": [
        {
          "output_type": "execute_result",
          "data": {
            "text/plain": [
              "array([2, 1])"
            ]
          },
          "metadata": {},
          "execution_count": 11
        }
      ]
    },
    {
      "cell_type": "code",
      "source": [
        "np.bincount([0,0,1], weights=[0.2, 0.2, 0.6])"
      ],
      "metadata": {
        "colab": {
          "base_uri": "https://localhost:8080/"
        },
        "id": "irECkBgRBohq",
        "outputId": "56cede82-f090-4532-dfb5-7c62d4edd75d"
      },
      "execution_count": 12,
      "outputs": [
        {
          "output_type": "execute_result",
          "data": {
            "text/plain": [
              "array([0.4, 0.6])"
            ]
          },
          "metadata": {},
          "execution_count": 12
        }
      ]
    },
    {
      "cell_type": "code",
      "source": [
        "ex = np.array([[0.9, 0.1],\n",
        "               [0.8, 0.2],\n",
        "               [0.4, 0.6]])\n",
        "\n",
        "p = np.average(ex,\n",
        "               axis=0,\n",
        "               weights=[0.2, 0.2, 0.6])\n",
        "\n",
        "p"
      ],
      "metadata": {
        "colab": {
          "base_uri": "https://localhost:8080/"
        },
        "id": "_yyHjSIgBsCc",
        "outputId": "dd734387-863b-4a6d-e306-36c14021b418"
      },
      "execution_count": 13,
      "outputs": [
        {
          "output_type": "execute_result",
          "data": {
            "text/plain": [
              "array([0.58, 0.42])"
            ]
          },
          "metadata": {},
          "execution_count": 13
        }
      ]
    },
    {
      "cell_type": "code",
      "source": [
        "np.argmax(p)"
      ],
      "metadata": {
        "colab": {
          "base_uri": "https://localhost:8080/"
        },
        "id": "AWotA8HaCUJ6",
        "outputId": "c77c13ab-2f63-42ab-f1ee-3e558c25c7ee"
      },
      "execution_count": 14,
      "outputs": [
        {
          "output_type": "execute_result",
          "data": {
            "text/plain": [
              "0"
            ]
          },
          "metadata": {},
          "execution_count": 14
        }
      ]
    },
    {
      "cell_type": "code",
      "source": [
        "ex = np.array([[0.4, 0.4, 0.2],\n",
        "               [0.1, 0.8, 0.1],\n",
        "               [0.1, 0.6, 0.3]])\n",
        "\n",
        "q = np.average(ex,\n",
        "               axis=1,\n",
        "               weights=[0.2, 0.2, 0.6])\n",
        "\n",
        "q"
      ],
      "metadata": {
        "colab": {
          "base_uri": "https://localhost:8080/"
        },
        "id": "Thab4RRyCWZL",
        "outputId": "1856d862-08c5-4d38-d6b0-f452fb193201"
      },
      "execution_count": 15,
      "outputs": [
        {
          "output_type": "execute_result",
          "data": {
            "text/plain": [
              "array([0.28, 0.24, 0.32])"
            ]
          },
          "metadata": {},
          "execution_count": 15
        }
      ]
    },
    {
      "cell_type": "code",
      "source": [
        "from sklearn.base import BaseEstimator\n",
        "from sklearn.base import ClassifierMixin\n",
        "from sklearn.preprocessing import LabelEncoder\n",
        "from sklearn.base import clone\n",
        "from sklearn.pipeline import _name_estimators\n",
        "import numpy as np\n",
        "import operator"
      ],
      "metadata": {
        "id": "TFYGe0tGCeq7"
      },
      "execution_count": 16,
      "outputs": []
    },
    {
      "cell_type": "code",
      "source": [
        "class MajorityVoteClassifier(BaseEstimator,\n",
        "                             ClassifierMixin):\n",
        "  \"\"\"다수결 투표 앙상블 분류기\n",
        "\n",
        "  매개변수\n",
        "  ----------\n",
        "  classifiers : 배열 타입, 크기 = [n_classifiers]\n",
        "    앙상블에 사용할 분류기\n",
        "  \n",
        "  vote : str, {'classlabel', 'probability'}\n",
        "    기본값: 'classlabel'\n",
        "    'classlabel'이면 예측은 다수인 클래스 레이블의 인덱스가 됩니다\n",
        "    'probability'면 확률 합이 가장 큰 인덱스로\n",
        "    클래스 레이블을 예측합니다(보정된 분류기에 추천합니다)\n",
        "\n",
        "  weights : 배열 타입, 크기 = [n_classifiers]\n",
        "    선택 사항, 기본값: None\n",
        "    'int' 또는 'float' 값의 리스트가 주어지면 분류기가 이 중요도로 가중치됩니다\n",
        "    'weights=None'이면 동일하게 취급합니다\n",
        "\n",
        "  \"\"\"\n",
        "  def __init__(self, classifiers, vote='classlabel', weights=None):\n",
        "    self.classifiers = classifiers\n",
        "    self.named_classifiers = {\n",
        "        key: value for key, value\n",
        "        in _name_estimators(classifiers)\n",
        "    }\n",
        "    self.vote = vote\n",
        "    self.weights = weights\n",
        "\n",
        "  def fit(self, X, y):\n",
        "    \"\"\"분류기를 학습합니다\n",
        "\n",
        "    매개변수\n",
        "    ----------\n",
        "    X : {배열 타입, 희소 행렬},\n",
        "      크기 = [n_samples, n_features]\n",
        "      훈련 샘플 행렬\n",
        "\n",
        "    y : 배열 타입, 크기 = [n_samples]\n",
        "      타깃 클래스 레이블 벡터\n",
        "\n",
        "    반환값\n",
        "    ----------\n",
        "    self : 객체\n",
        "\n",
        "    \"\"\"\n",
        "    if self.vote not in ('probability', 'classlabel'):\n",
        "      raise ValueError(\"vote는 'probability' 또는 'classlabel'이어야 합니다\"\n",
        "                      f\"; (vote={self.vote})이 입력되었습니다.\")\n",
        "    if self.weights and len(self.weights) != len(self.classifiers):\n",
        "      raise ValueError('분류기와 가중치 갯수는 같아야 합니다'\n",
        "                      f'; 가중치 {len(self.weights)} 개, 분류기 {len(self.classifiers)} 개')\n",
        "      \n",
        "    # self.predict 메서드에서 np.argmax를 호출할 때\n",
        "    # 클래스 레이블이 0부터 시작되어야 하므로 LabelEncoder를 사용합니다\n",
        "    self.labelenc_ = LabelEncoder()\n",
        "    self.labelenc_.fit(y)\n",
        "    self.classes_ = self.labelenc_.classes_\n",
        "    self.classifiers_ = []\n",
        "    for clf in self.classifiers:\n",
        "      fitted_clf = clone(clf).fit(X, self.labelenc_.transform(y))\n",
        "      self.classifiers_.append(fitted_clf)\n",
        "    return self\n",
        "\n",
        "  def predict(self, X):\n",
        "    \"\"\"X에 대한 클래스 레이블을 예측합니다\n",
        "\n",
        "    매개변수\n",
        "    ----------\n",
        "    X : {배열 타입, 희소 행렬},\n",
        "      크기 = [n_samples, n_features]\n",
        "      샘플 데이터 행렬\n",
        "\n",
        "    반환값\n",
        "    ----------\n",
        "    maj_vote : 배열 타입, 크기 = [n_samples]\n",
        "      예측된 클래스 레이블\n",
        "\n",
        "    \"\"\"\n",
        "    if self.vote == 'probability':\n",
        "      maj_vote = np.argmax(self.predict_proba(X), axis=1)\n",
        "    else: # 'classlabel' 투표\n",
        "      # clf.predict 메서드를 사용하여 결과를 모읍니다\n",
        "      predictions = np.asarray([\n",
        "          clf.predict(X) for clf in self.classifiers_\n",
        "      ]).T\n",
        "\n",
        "      maj_vote = np.apply_along_axis(\n",
        "          lambda x:\n",
        "          np.argmax(np.bincount(x,\n",
        "                                weights=self.weights)),\n",
        "          axis=1,\n",
        "          arr=predictions\n",
        "      )\n",
        "\n",
        "    maj_vote = self.labelenc_.inverse_transform(maj_vote)\n",
        "    return maj_vote\n",
        "    \n",
        "  def predict_proba(self, X):\n",
        "    \"\"\"X에 대한 클래스 확률을 예측합니다\n",
        "    \n",
        "    매개변수\n",
        "    ----------\n",
        "    X : {배열 타입, 희소 행렬},\n",
        "      크기 = [n_samples, n_features]\n",
        "      n_samples는 샘플의 갯수이고 n_features는 특성의 갯수인\n",
        "      샘플 데이터 행렬\n",
        "\n",
        "    반환값\n",
        "    ----------\n",
        "    avg_proba : 배열 타입,\n",
        "      크기 = [n_samples, n_classes]\n",
        "      샘플마다 가중치가 적용된 클래스의 평균 확률\n",
        "    \n",
        "    \"\"\"\n",
        "    probas = np.asarray([\n",
        "        clf.predict_proba(X) for clf in self.classifiers_\n",
        "    ])\n",
        "    avg_proba = np.average(probas, axis=0, weights=self.weights)\n",
        "    return avg_proba\n",
        "\n",
        "  def get_params(self, deep=True):\n",
        "    \"\"\"GridSearch를 위해 분류기의 매개변수 이름을 반환합니다\"\"\"\n",
        "    if not deep:\n",
        "      return super(MajorityVoteClassifier, self).get_params(deep=False)\n",
        "    else:\n",
        "      out = self.named_classifiers.copy()\n",
        "      for name, step in self.named_classifiers.items():\n",
        "        for key, value in step.get_params(deep=True).items():\n",
        "          out[f'{name}__{key}'] = value\n",
        "      return out"
      ],
      "metadata": {
        "id": "luYsQoXhhbno"
      },
      "execution_count": 41,
      "outputs": []
    },
    {
      "cell_type": "code",
      "source": [
        "from sklearn import datasets\n",
        "from sklearn.preprocessing import StandardScaler\n",
        "from sklearn.preprocessing import LabelEncoder\n",
        "from sklearn.model_selection import train_test_split\n",
        "\n",
        "iris = datasets.load_iris()\n",
        "X, y = iris.data[50:, [1, 2]], iris.target[50:]\n",
        "le = LabelEncoder()\n",
        "y = le.fit_transform(y)\n",
        "\n",
        "X_train, X_test, y_train, y_test = \\\n",
        "  train_test_split(X,y,\n",
        "                   test_size=0.5,\n",
        "                   random_state=1,\n",
        "                   stratify=y)"
      ],
      "metadata": {
        "id": "kuGqrtXBv49D"
      },
      "execution_count": 42,
      "outputs": []
    },
    {
      "cell_type": "code",
      "source": [
        "from sklearn.model_selection import cross_val_score\n",
        "from sklearn.linear_model import LogisticRegression\n",
        "from sklearn.tree import DecisionTreeClassifier\n",
        "from sklearn.neighbors import KNeighborsClassifier\n",
        "from sklearn.pipeline import Pipeline\n",
        "import numpy as np\n",
        "\n",
        "clf1 = LogisticRegression(penalty='l2',\n",
        "                          C=0.001,\n",
        "                          random_state=1)\n",
        "\n",
        "clf2 = DecisionTreeClassifier(max_depth=1,\n",
        "                              criterion='entropy',\n",
        "                              random_state=0)\n",
        "\n",
        "clf3 = KNeighborsClassifier(n_neighbors=1,\n",
        "                            p=2,\n",
        "                            metric='minkowski')\n",
        "\n",
        "pipe1 = Pipeline([['sc', StandardScaler()],\n",
        "                  ['clf', clf1]])\n",
        "pipe3 = Pipeline([['sc', StandardScaler()],\n",
        "                  ['clf', clf3]])\n",
        "\n",
        "clf_labels = ['Logistic regression', 'Decision tree', 'KNN']\n",
        "\n",
        "print('10-겹 교차 검증:\\n')\n",
        "\n",
        "for clf, label in zip([pipe1, clf2, pipe3], clf_labels):\n",
        "  scores = cross_val_score(estimator=clf,\n",
        "                           X=X_train,\n",
        "                           y=y_train,\n",
        "                           cv=10,\n",
        "                           scoring='roc_auc')\n",
        "  print(f\"ROC AUC:{scores.mean():0.2f}, (+/- {scores.std():0.2f} [{label}]\")"
      ],
      "metadata": {
        "colab": {
          "base_uri": "https://localhost:8080/"
        },
        "id": "teSYe4Qtxhn6",
        "outputId": "2bc9f9e1-d8d3-4241-85a0-b5ff0d713e4b"
      },
      "execution_count": 43,
      "outputs": [
        {
          "output_type": "stream",
          "name": "stdout",
          "text": [
            "10-겹 교차 검증:\n",
            "\n",
            "ROC AUC:0.92, (+/- 0.15 [Logistic regression]\n",
            "ROC AUC:0.87, (+/- 0.18 [Decision tree]\n",
            "ROC AUC:0.85, (+/- 0.13 [KNN]\n"
          ]
        }
      ]
    },
    {
      "cell_type": "code",
      "source": [
        "# 다수결 (하드) 투표\n",
        "\n",
        "mv_clf = MajorityVoteClassifier(classifiers=[pipe1, clf2, pipe3])\n",
        "\n",
        "clf_labels += ['Majority voting']\n",
        "all_clf = [pipe1, clf2, pipe3, mv_clf]\n",
        "\n",
        "for clf, label in zip(all_clf, clf_labels):\n",
        "  scores = cross_val_score(estimator=clf,\n",
        "                           X=X_train,\n",
        "                           y=y_train,\n",
        "                           cv=10,\n",
        "                           scoring='roc_auc')\n",
        "  print(f\"ROC AUC: {scores.mean():0.2f} (+/- {scores.std():0.2f} [{label}]\")"
      ],
      "metadata": {
        "id": "LaKw5NzqyYkn",
        "colab": {
          "base_uri": "https://localhost:8080/"
        },
        "outputId": "7240f615-8feb-4153-b50b-51821ac4d76a"
      },
      "execution_count": 44,
      "outputs": [
        {
          "output_type": "stream",
          "name": "stdout",
          "text": [
            "ROC AUC: 0.92 (+/- 0.15 [Logistic regression]\n",
            "ROC AUC: 0.87 (+/- 0.18 [Decision tree]\n",
            "ROC AUC: 0.85 (+/- 0.13 [KNN]\n",
            "ROC AUC: 0.98 (+/- 0.05 [Majority voting]\n"
          ]
        }
      ]
    },
    {
      "cell_type": "code",
      "source": [
        "from sklearn.model_selection import cross_validate\n",
        "from sklearn.ensemble import VotingClassifier\n",
        "\n",
        "vc = VotingClassifier(estimators=[\n",
        "    ('lr', pipe1), ('dt', clf2), ('knn', pipe3)\n",
        "], voting='soft')\n",
        "\n",
        "scores = cross_validate(estimator=vc, X=X_train, y=y_train,\n",
        "                        cv=10, scoring='roc_auc')\n",
        "\n",
        "print(f\"ROC AUC: {scores['test_score'].mean():.2f} (+/- {scores['test_score'].std():.2f} [VotingClassifier]\")"
      ],
      "metadata": {
        "colab": {
          "base_uri": "https://localhost:8080/"
        },
        "id": "M-m4iJsiEnIi",
        "outputId": "fc744cc1-5fa2-4efd-a35a-ab4a30d997e6"
      },
      "execution_count": 45,
      "outputs": [
        {
          "output_type": "stream",
          "name": "stdout",
          "text": [
            "ROC AUC: 0.98 (+/- 0.05 [VotingClassifier]\n"
          ]
        }
      ]
    },
    {
      "cell_type": "code",
      "source": [
        "vc.set_params(verbose=True)\n",
        "\n",
        "vc = vc.fit(X_train, y_train)"
      ],
      "metadata": {
        "id": "t-jP8IEMyVs4",
        "colab": {
          "base_uri": "https://localhost:8080/"
        },
        "outputId": "19bc4351-2a3d-4773-97f6-531eaf3cdf41"
      },
      "execution_count": 46,
      "outputs": [
        {
          "output_type": "stream",
          "name": "stdout",
          "text": [
            "[Voting] ....................... (1 of 3) Processing lr, total=   0.0s\n",
            "[Voting] ....................... (2 of 3) Processing dt, total=   0.0s\n",
            "[Voting] ...................... (3 of 3) Processing knn, total=   0.0s\n"
          ]
        }
      ]
    },
    {
      "cell_type": "code",
      "source": [
        "vc.predict_proba(X_test[:10])"
      ],
      "metadata": {
        "colab": {
          "base_uri": "https://localhost:8080/"
        },
        "id": "W8Lptcj6JQh4",
        "outputId": "f72a3810-a074-48d6-e67c-a854d6cd7709"
      },
      "execution_count": 47,
      "outputs": [
        {
          "output_type": "execute_result",
          "data": {
            "text/plain": [
              "array([[0.80858947, 0.19141053],\n",
              "       [0.80798659, 0.19201341],\n",
              "       [0.80742142, 0.19257858],\n",
              "       [0.81176637, 0.18823363],\n",
              "       [0.81195778, 0.18804222],\n",
              "       [0.17701319, 0.82298681],\n",
              "       [0.17670572, 0.82329428],\n",
              "       [0.17845724, 0.82154276],\n",
              "       [0.1796252 , 0.8203748 ],\n",
              "       [0.81076201, 0.18923799]])"
            ]
          },
          "metadata": {},
          "execution_count": 47
        }
      ]
    },
    {
      "cell_type": "code",
      "source": [
        "from sklearn.metrics import roc_curve\n",
        "from sklearn.metrics import auc\n",
        "\n",
        "colors = ['black', 'orange', 'blue', 'green']\n",
        "linestyles = [':', '--', '-.', '-']\n",
        "for clf, label, clr, ls in zip(all_clf, clf_labels, colors, linestyles):\n",
        "  y_pred = clf.fit(X_train, y_train).predict_proba(X_test)[:, 1]\n",
        "  fpr, tpr, thresholds = roc_curve(y_true=y_test,\n",
        "                                   y_score=y_pred)\n",
        "  roc_auc = auc(x=fpr, y=tpr)\n",
        "  plt.plot(fpr, tpr,\n",
        "           color=clr,\n",
        "           linestyle=ls,\n",
        "           label=f\"{label} (auc = {roc_auc:.2f}\")\n",
        "  \n",
        "plt.legend(loc='lower right')\n",
        "plt.plot([0, 1], [0, 1],\n",
        "         linestyle='--',\n",
        "         color='gray',\n",
        "         linewidth=2)\n",
        "\n",
        "plt.xlim([-0.1, 1.1])\n",
        "plt.ylim([-0.1, 1.1])\n",
        "plt.grid(alpha=0.5)\n",
        "plt.xlabel(\"False positive rate (FPR)\")\n",
        "plt.ylabel(\"True positive rate (TPR)\")\n",
        "\n",
        "plt.show()"
      ],
      "metadata": {
        "id": "Eq0tr1PnJWe_",
        "colab": {
          "base_uri": "https://localhost:8080/",
          "height": 279
        },
        "outputId": "a643db8d-1e40-4920-9384-8bb213d5ffec"
      },
      "execution_count": 48,
      "outputs": [
        {
          "output_type": "display_data",
          "data": {
            "text/plain": [
              "<Figure size 432x288 with 1 Axes>"
            ],
            "image/png": "[encoded data removed]"
          },
          "metadata": {
            "needs_background": "light"
          }
        }
      ]
    },
    {
      "cell_type": "code",
      "source": [
        "sc = StandardScaler()\n",
        "X_train_std = sc.fit_transform(X_train)"
      ],
      "metadata": {
        "id": "HBS-m2Ft6C0C"
      },
      "execution_count": 49,
      "outputs": []
    },
    {
      "cell_type": "code",
      "source": [
        "from itertools import product\n",
        "\n",
        "all_clf = [pipe1, clf2, pipe3, mv_clf]\n",
        "\n",
        "x_min = X_train_std[:, 0].min() - 1\n",
        "x_max = X_train_std[:, 0].max() + 1\n",
        "y_min = X_train_std[:, 1].min() - 1\n",
        "y_max = X_train_std[:, 1].max() + 1\n",
        "\n",
        "xx, yy = np.meshgrid(np.arange(x_min, x_max, 0.1),\n",
        "                     np.arange(y_min, y_max, 0.1))\n",
        "\n",
        "f, axarr = plt.subplots(nrows=2, ncols=2,\n",
        "                        sharex='col',\n",
        "                        sharey='row',\n",
        "                        figsize=(7,5))\n",
        "\n",
        "for idx, clf, tt in zip(product([0, 1], [0, 1]),\n",
        "                        all_clf, clf_labels):\n",
        "  clf.fit(X_train_std, y_train)\n",
        "\n",
        "  Z = clf.predict(np.c_[xx.ravel(), yy.ravel()])\n",
        "  Z = Z.reshape(xx.shape)\n",
        "\n",
        "  axarr[idx[0], idx[1]].contourf(xx,yy,Z,alpha=.3)\n",
        "\n",
        "  axarr[idx[0], idx[1]].scatter(X_train_std[y_train==0, 0],\n",
        "                                X_train_std[y_train==0, 1],\n",
        "                                c='blue',\n",
        "                                marker='^',\n",
        "                                s=50)\n",
        "  \n",
        "  axarr[idx[0], idx[1]].scatter(X_train_std[y_train==1, 0],\n",
        "                                X_train_std[y_train==1, 1],\n",
        "                                c='green',\n",
        "                                marker='o',\n",
        "                                s=50)\n",
        "  \n",
        "  axarr[idx[0], idx[1]].set_title(tt)\n",
        "\n",
        "plt.text(-3.5, -5.,\n",
        "         s='Sepal width [standardized]',\n",
        "         ha='center', va='center', fontsize=12)\n",
        "plt.text(-12.5, 4.5,\n",
        "         s='Petal length [standardized]',\n",
        "         ha='center', va='center',\n",
        "         fontsize=12, rotation=90)\n",
        "\n",
        "plt.show()"
      ],
      "metadata": {
        "colab": {
          "base_uri": "https://localhost:8080/",
          "height": 356
        },
        "id": "sC2eSqZa6LXg",
        "outputId": "55ccb9b1-1efc-44ac-cea7-5f7d8be9aeb3"
      },
      "execution_count": 50,
      "outputs": [
        {
          "output_type": "display_data",
          "data": {
            "text/plain": [
              "<Figure size 504x360 with 4 Axes>"
            ],
            "image/png": "[encoded data removed]"
          },
          "metadata": {
            "needs_background": "light"
          }
        }
      ]
    },
    {
      "cell_type": "code",
      "source": [
        "mv_clf.get_params()"
      ],
      "metadata": {
        "colab": {
          "base_uri": "https://localhost:8080/"
        },
        "id": "mS3FOqoO8Yb1",
        "outputId": "81bcd81a-c07b-4b6c-dd12-458ee74af26f"
      },
      "execution_count": 51,
      "outputs": [
        {
          "output_type": "execute_result",
          "data": {
            "text/plain": [
              "{'pipeline-1': Pipeline(steps=[('sc', StandardScaler()),\n",
              "                 ['clf', LogisticRegression(C=0.001, random_state=1)]]),\n",
              " 'decisiontreeclassifier': DecisionTreeClassifier(criterion='entropy', max_depth=1, random_state=0),\n",
              " 'pipeline-2': Pipeline(steps=[('sc', StandardScaler()),\n",
              "                 ['clf', KNeighborsClassifier(n_neighbors=1)]]),\n",
              " 'pipeline-1__memory': None,\n",
              " 'pipeline-1__steps': [('sc', StandardScaler()),\n",
              "  ['clf', LogisticRegression(C=0.001, random_state=1)]],\n",
              " 'pipeline-1__verbose': False,\n",
              " 'pipeline-1__sc': StandardScaler(),\n",
              " 'pipeline-1__clf': LogisticRegression(C=0.001, random_state=1),\n",
              " 'pipeline-1__sc__copy': True,\n",
              " 'pipeline-1__sc__with_mean': True,\n",
              " 'pipeline-1__sc__with_std': True,\n",
              " 'pipeline-1__clf__C': 0.001,\n",
              " 'pipeline-1__clf__class_weight': None,\n",
              " 'pipeline-1__clf__dual': False,\n",
              " 'pipeline-1__clf__fit_intercept': True,\n",
              " 'pipeline-1__clf__intercept_scaling': 1,\n",
              " 'pipeline-1__clf__l1_ratio': None,\n",
              " 'pipeline-1__clf__max_iter': 100,\n",
              " 'pipeline-1__clf__multi_class': 'auto',\n",
              " 'pipeline-1__clf__n_jobs': None,\n",
              " 'pipeline-1__clf__penalty': 'l2',\n",
              " 'pipeline-1__clf__random_state': 1,\n",
              " 'pipeline-1__clf__solver': 'lbfgs',\n",
              " 'pipeline-1__clf__tol': 0.0001,\n",
              " 'pipeline-1__clf__verbose': 0,\n",
              " 'pipeline-1__clf__warm_start': False,\n",
              " 'decisiontreeclassifier__ccp_alpha': 0.0,\n",
              " 'decisiontreeclassifier__class_weight': None,\n",
              " 'decisiontreeclassifier__criterion': 'entropy',\n",
              " 'decisiontreeclassifier__max_depth': 1,\n",
              " 'decisiontreeclassifier__max_features': None,\n",
              " 'decisiontreeclassifier__max_leaf_nodes': None,\n",
              " 'decisiontreeclassifier__min_impurity_decrease': 0.0,\n",
              " 'decisiontreeclassifier__min_samples_leaf': 1,\n",
              " 'decisiontreeclassifier__min_samples_split': 2,\n",
              " 'decisiontreeclassifier__min_weight_fraction_leaf': 0.0,\n",
              " 'decisiontreeclassifier__random_state': 0,\n",
              " 'decisiontreeclassifier__splitter': 'best',\n",
              " 'pipeline-2__memory': None,\n",
              " 'pipeline-2__steps': [('sc', StandardScaler()),\n",
              "  ['clf', KNeighborsClassifier(n_neighbors=1)]],\n",
              " 'pipeline-2__verbose': False,\n",
              " 'pipeline-2__sc': StandardScaler(),\n",
              " 'pipeline-2__clf': KNeighborsClassifier(n_neighbors=1),\n",
              " 'pipeline-2__sc__copy': True,\n",
              " 'pipeline-2__sc__with_mean': True,\n",
              " 'pipeline-2__sc__with_std': True,\n",
              " 'pipeline-2__clf__algorithm': 'auto',\n",
              " 'pipeline-2__clf__leaf_size': 30,\n",
              " 'pipeline-2__clf__metric': 'minkowski',\n",
              " 'pipeline-2__clf__metric_params': None,\n",
              " 'pipeline-2__clf__n_jobs': None,\n",
              " 'pipeline-2__clf__n_neighbors': 1,\n",
              " 'pipeline-2__clf__p': 2,\n",
              " 'pipeline-2__clf__weights': 'uniform'}"
            ]
          },
          "metadata": {},
          "execution_count": 51
        }
      ]
    },
    {
      "cell_type": "code",
      "source": [
        "from sklearn.model_selection import GridSearchCV\n",
        "\n",
        "params = {'decisiontreeclassifier__max_depth': [1,2],\n",
        "          'pipeline-1__clf__C': [.001, .1, 100.]}\n",
        "\n",
        "grid = GridSearchCV(estimator=mv_clf,\n",
        "                    param_grid=params,\n",
        "                    cv=10,\n",
        "                    scoring='roc_auc')\n",
        "grid.fit(X_train, y_train)\n",
        "\n",
        "for r, _ in enumerate(grid.cv_results_['mean_test_score']):\n",
        "  print(f\"{grid.cv_results_['mean_test_score'][r]:.3f} +/- \\\n",
        "          {grid.cv_results_['std_test_score'][r]/2.0:.2f} \\\n",
        "          {grid.cv_results_['params'][r]}\")"
      ],
      "metadata": {
        "colab": {
          "base_uri": "https://localhost:8080/"
        },
        "id": "m6jsxOnb9MLj",
        "outputId": "9a644360-ea7f-4672-d72e-a3f43a1bf92a"
      },
      "execution_count": 63,
      "outputs": [
        {
          "output_type": "stream",
          "name": "stdout",
          "text": [
            "0.983 +/-           0.02           {'decisiontreeclassifier__max_depth': 1, 'pipeline-1__clf__C': 0.001}\n",
            "0.983 +/-           0.02           {'decisiontreeclassifier__max_depth': 1, 'pipeline-1__clf__C': 0.1}\n",
            "0.967 +/-           0.05           {'decisiontreeclassifier__max_depth': 1, 'pipeline-1__clf__C': 100.0}\n",
            "0.983 +/-           0.02           {'decisiontreeclassifier__max_depth': 2, 'pipeline-1__clf__C': 0.001}\n",
            "0.983 +/-           0.02           {'decisiontreeclassifier__max_depth': 2, 'pipeline-1__clf__C': 0.1}\n",
            "0.967 +/-           0.05           {'decisiontreeclassifier__max_depth': 2, 'pipeline-1__clf__C': 100.0}\n"
          ]
        }
      ]
    },
    {
      "cell_type": "code",
      "source": [
        "print(f\"최적의 매개변수: {grid.best_params_}\")\n",
        "print(f\"정확도: {grid.best_score_:}\")"
      ],
      "metadata": {
        "colab": {
          "base_uri": "https://localhost:8080/"
        },
        "id": "vre_pNaX_KY1",
        "outputId": "f79a184e-4f35-4251-ec61-5cbd9052f8c9"
      },
      "execution_count": 64,
      "outputs": [
        {
          "output_type": "stream",
          "name": "stdout",
          "text": [
            "최적의 매개변수: {'decisiontreeclassifier__max_depth': 1, 'pipeline-1__clf__C': 0.001}\n",
            "정확도: 0.9833333333333334\n"
          ]
        }
      ]
    },
    {
      "cell_type": "code",
      "source": [
        "grid.best_estimator_.classifiers"
      ],
      "metadata": {
        "colab": {
          "base_uri": "https://localhost:8080/"
        },
        "id": "1w9FNmm1Aje0",
        "outputId": "8b67d27d-cc8d-4aae-c602-50734ae55555"
      },
      "execution_count": 56,
      "outputs": [
        {
          "output_type": "execute_result",
          "data": {
            "text/plain": [
              "[Pipeline(steps=[('sc', StandardScaler()),\n",
              "                 ['clf', LogisticRegression(C=0.001, random_state=1)]]),\n",
              " DecisionTreeClassifier(criterion='entropy', max_depth=1, random_state=0),\n",
              " Pipeline(steps=[('sc', StandardScaler()),\n",
              "                 ['clf', KNeighborsClassifier(n_neighbors=1)]])]"
            ]
          },
          "metadata": {},
          "execution_count": 56
        }
      ]
    },
    {
      "cell_type": "code",
      "source": [
        "mv_clf = grid.best_estimator_"
      ],
      "metadata": {
        "id": "hIq6adgqAvTV"
      },
      "execution_count": 57,
      "outputs": []
    },
    {
      "cell_type": "code",
      "source": [
        "mv_clf.set_params(**grid.best_estimator_.get_params())"
      ],
      "metadata": {
        "colab": {
          "base_uri": "https://localhost:8080/",
          "height": 231
        },
        "id": "-dRTXr6VAznZ",
        "outputId": "d0a45fa9-ddef-4d43-a13e-06eaa15b9a6d"
      },
      "execution_count": 58,
      "outputs": [
        {
          "output_type": "execute_result",
          "data": {
            "text/plain": [
              "MajorityVoteClassifier(classifiers=[Pipeline(steps=[('sc', StandardScaler()),\n",
              "                                                    ('clf',\n",
              "                                                     LogisticRegression(C=0.001,\n",
              "                                                                        random_state=1))]),\n",
              "                                    DecisionTreeClassifier(criterion='entropy',\n",
              "                                                           max_depth=1,\n",
              "                                                           random_state=0),\n",
              "                                    Pipeline(steps=[('sc', StandardScaler()),\n",
              "                                                    ('clf',\n",
              "                                                     KNeighborsClassifier(n_neighbors=1))])])"
            ],
            "text/html": [
              "<style>#sk-container-id-1 {color: black;background-color: white;}#sk-container-id-1 pre{padding: 0;}#sk-container-id-1 div.sk-toggleable {background-color: white;}#sk-container-id-1 label.sk-toggleable__label {cursor: pointer;display: block;width: 100%;margin-bottom: 0;padding: 0.3em;box-sizing: border-box;text-align: center;}#sk-container-id-1 label.sk-toggleable__label-arrow:before {content: \"▸\";float: left;margin-right: 0.25em;color: #696969;}#sk-container-id-1 label.sk-toggleable__label-arrow:hover:before {color: black;}#sk-container-id-1 div.sk-estimator:hover label.sk-toggleable__label-arrow:before {color: black;}#sk-container-id-1 div.sk-toggleable__content {max-height: 0;max-width: 0;overflow: hidden;text-align: left;background-color: #f0f8ff;}#sk-container-id-1 div.sk-toggleable__content pre {margin: 0.2em;color: black;border-radius: 0.25em;background-color: #f0f8ff;}#sk-container-id-1 input.sk-toggleable__control:checked~div.sk-toggleable__content {max-height: 200px;max-width: 100%;overflow: auto;}#sk-container-id-1 input.sk-toggleable__control:checked~label.sk-toggleable__label-arrow:before {content: \"▾\";}#sk-container-id-1 div.sk-estimator input.sk-toggleable__control:checked~label.sk-toggleable__label {background-color: #d4ebff;}#sk-container-id-1 div.sk-label input.sk-toggleable__control:checked~label.sk-toggleable__label {background-color: #d4ebff;}#sk-container-id-1 input.sk-hidden--visually {border: 0;clip: rect(1px 1px 1px 1px);clip: rect(1px, 1px, 1px, 1px);height: 1px;margin: -1px;overflow: hidden;padding: 0;position: absolute;width: 1px;}#sk-container-id-1 div.sk-estimator {font-family: monospace;background-color: #f0f8ff;border: 1px dotted black;border-radius: 0.25em;box-sizing: border-box;margin-bottom: 0.5em;}#sk-container-id-1 div.sk-estimator:hover {background-color: #d4ebff;}#sk-container-id-1 div.sk-parallel-item::after {content: \"\";width: 100%;border-bottom: 1px solid gray;flex-grow: 1;}#sk-container-id-1 div.sk-label:hover label.sk-toggleable__label {background-color: #d4ebff;}#sk-container-id-1 div.sk-serial::before {content: \"\";position: absolute;border-left: 1px solid gray;box-sizing: border-box;top: 0;bottom: 0;left: 50%;z-index: 0;}#sk-container-id-1 div.sk-serial {display: flex;flex-direction: column;align-items: center;background-color: white;padding-right: 0.2em;padding-left: 0.2em;position: relative;}#sk-container-id-1 div.sk-item {position: relative;z-index: 1;}#sk-container-id-1 div.sk-parallel {display: flex;align-items: stretch;justify-content: center;background-color: white;position: relative;}#sk-container-id-1 div.sk-item::before, #sk-container-id-1 div.sk-parallel-item::before {content: \"\";position: absolute;border-left: 1px solid gray;box-sizing: border-box;top: 0;bottom: 0;left: 50%;z-index: -1;}#sk-container-id-1 div.sk-parallel-item {display: flex;flex-direction: column;z-index: 1;position: relative;background-color: white;}#sk-container-id-1 div.sk-parallel-item:first-child::after {align-self: flex-end;width: 50%;}#sk-container-id-1 div.sk-parallel-item:last-child::after {align-self: flex-start;width: 50%;}#sk-container-id-1 div.sk-parallel-item:only-child::after {width: 0;}#sk-container-id-1 div.sk-dashed-wrapped {border: 1px dashed gray;margin: 0 0.4em 0.5em 0.4em;box-sizing: border-box;padding-bottom: 0.4em;background-color: white;}#sk-container-id-1 div.sk-label label {font-family: monospace;font-weight: bold;display: inline-block;line-height: 1.2em;}#sk-container-id-1 div.sk-label-container {text-align: center;}#sk-container-id-1 div.sk-container {/* jupyter's `normalize.less` sets `[hidden] { display: none; }` but bootstrap.min.css set `[hidden] { display: none !important; }` so we also need the `!important` here to be able to override the default hidden behavior on the sphinx rendered scikit-learn.org. See: https://github.com/scikit-learn/scikit-learn/issues/21755 */display: inline-block !important;position: relative;}#sk-container-id-1 div.sk-text-repr-fallback {display: none;}</style><div id=\"sk-container-id-1\" class=\"sk-top-container\"><div class=\"sk-text-repr-fallback\"><pre>MajorityVoteClassifier(classifiers=[Pipeline(steps=[(&#x27;sc&#x27;, StandardScaler()),\n",
              "                                                    (&#x27;clf&#x27;,\n",
              "                                                     LogisticRegression(C=0.001,\n",
              "                                                                        random_state=1))]),\n",
              "                                    DecisionTreeClassifier(criterion=&#x27;entropy&#x27;,\n",
              "                                                           max_depth=1,\n",
              "                                                           random_state=0),\n",
              "                                    Pipeline(steps=[(&#x27;sc&#x27;, StandardScaler()),\n",
              "                                                    (&#x27;clf&#x27;,\n",
              "                                                     KNeighborsClassifier(n_neighbors=1))])])</pre><b>In a Jupyter environment, please rerun this cell to show the HTML representation or trust the notebook. <br />On GitHub, the HTML representation is unable to render, please try loading this page with nbviewer.org.</b></div><div class=\"sk-container\" hidden><div class=\"sk-item\"><div class=\"sk-estimator sk-toggleable\"><input class=\"sk-toggleable__control sk-hidden--visually\" id=\"sk-estimator-id-1\" type=\"checkbox\" checked><label for=\"sk-estimator-id-1\" class=\"sk-toggleable__label sk-toggleable__label-arrow\">MajorityVoteClassifier</label><div class=\"sk-toggleable__content\"><pre>MajorityVoteClassifier(classifiers=[Pipeline(steps=[(&#x27;sc&#x27;, StandardScaler()),\n",
              "                                                    (&#x27;clf&#x27;,\n",
              "                                                     LogisticRegression(C=0.001,\n",
              "                                                                        random_state=1))]),\n",
              "                                    DecisionTreeClassifier(criterion=&#x27;entropy&#x27;,\n",
              "                                                           max_depth=1,\n",
              "                                                           random_state=0),\n",
              "                                    Pipeline(steps=[(&#x27;sc&#x27;, StandardScaler()),\n",
              "                                                    (&#x27;clf&#x27;,\n",
              "                                                     KNeighborsClassifier(n_neighbors=1))])])</pre></div></div></div></div></div>"
            ]
          },
          "metadata": {},
          "execution_count": 58
        }
      ]
    },
    {
      "cell_type": "code",
      "source": [
        "mv_clf"
      ],
      "metadata": {
        "colab": {
          "base_uri": "https://localhost:8080/",
          "height": 231
        },
        "id": "OpsGGZWvA4FY",
        "outputId": "68466ff4-664e-43f5-ea9f-18f1528eb4ce"
      },
      "execution_count": 59,
      "outputs": [
        {
          "output_type": "execute_result",
          "data": {
            "text/plain": [
              "MajorityVoteClassifier(classifiers=[Pipeline(steps=[('sc', StandardScaler()),\n",
              "                                                    ('clf',\n",
              "                                                     LogisticRegression(C=0.001,\n",
              "                                                                        random_state=1))]),\n",
              "                                    DecisionTreeClassifier(criterion='entropy',\n",
              "                                                           max_depth=1,\n",
              "                                                           random_state=0),\n",
              "                                    Pipeline(steps=[('sc', StandardScaler()),\n",
              "                                                    ('clf',\n",
              "                                                     KNeighborsClassifier(n_neighbors=1))])])"
            ],
            "text/html": [
              "<style>#sk-container-id-2 {color: black;background-color: white;}#sk-container-id-2 pre{padding: 0;}#sk-container-id-2 div.sk-toggleable {background-color: white;}#sk-container-id-2 label.sk-toggleable__label {cursor: pointer;display: block;width: 100%;margin-bottom: 0;padding: 0.3em;box-sizing: border-box;text-align: center;}#sk-container-id-2 label.sk-toggleable__label-arrow:before {content: \"▸\";float: left;margin-right: 0.25em;color: #696969;}#sk-container-id-2 label.sk-toggleable__label-arrow:hover:before {color: black;}#sk-container-id-2 div.sk-estimator:hover label.sk-toggleable__label-arrow:before {color: black;}#sk-container-id-2 div.sk-toggleable__content {max-height: 0;max-width: 0;overflow: hidden;text-align: left;background-color: #f0f8ff;}#sk-container-id-2 div.sk-toggleable__content pre {margin: 0.2em;color: black;border-radius: 0.25em;background-color: #f0f8ff;}#sk-container-id-2 input.sk-toggleable__control:checked~div.sk-toggleable__content {max-height: 200px;max-width: 100%;overflow: auto;}#sk-container-id-2 input.sk-toggleable__control:checked~label.sk-toggleable__label-arrow:before {content: \"▾\";}#sk-container-id-2 div.sk-estimator input.sk-toggleable__control:checked~label.sk-toggleable__label {background-color: #d4ebff;}#sk-container-id-2 div.sk-label input.sk-toggleable__control:checked~label.sk-toggleable__label {background-color: #d4ebff;}#sk-container-id-2 input.sk-hidden--visually {border: 0;clip: rect(1px 1px 1px 1px);clip: rect(1px, 1px, 1px, 1px);height: 1px;margin: -1px;overflow: hidden;padding: 0;position: absolute;width: 1px;}#sk-container-id-2 div.sk-estimator {font-family: monospace;background-color: #f0f8ff;border: 1px dotted black;border-radius: 0.25em;box-sizing: border-box;margin-bottom: 0.5em;}#sk-container-id-2 div.sk-estimator:hover {background-color: #d4ebff;}#sk-container-id-2 div.sk-parallel-item::after {content: \"\";width: 100%;border-bottom: 1px solid gray;flex-grow: 1;}#sk-container-id-2 div.sk-label:hover label.sk-toggleable__label {background-color: #d4ebff;}#sk-container-id-2 div.sk-serial::before {content: \"\";position: absolute;border-left: 1px solid gray;box-sizing: border-box;top: 0;bottom: 0;left: 50%;z-index: 0;}#sk-container-id-2 div.sk-serial {display: flex;flex-direction: column;align-items: center;background-color: white;padding-right: 0.2em;padding-left: 0.2em;position: relative;}#sk-container-id-2 div.sk-item {position: relative;z-index: 1;}#sk-container-id-2 div.sk-parallel {display: flex;align-items: stretch;justify-content: center;background-color: white;position: relative;}#sk-container-id-2 div.sk-item::before, #sk-container-id-2 div.sk-parallel-item::before {content: \"\";position: absolute;border-left: 1px solid gray;box-sizing: border-box;top: 0;bottom: 0;left: 50%;z-index: -1;}#sk-container-id-2 div.sk-parallel-item {display: flex;flex-direction: column;z-index: 1;position: relative;background-color: white;}#sk-container-id-2 div.sk-parallel-item:first-child::after {align-self: flex-end;width: 50%;}#sk-container-id-2 div.sk-parallel-item:last-child::after {align-self: flex-start;width: 50%;}#sk-container-id-2 div.sk-parallel-item:only-child::after {width: 0;}#sk-container-id-2 div.sk-dashed-wrapped {border: 1px dashed gray;margin: 0 0.4em 0.5em 0.4em;box-sizing: border-box;padding-bottom: 0.4em;background-color: white;}#sk-container-id-2 div.sk-label label {font-family: monospace;font-weight: bold;display: inline-block;line-height: 1.2em;}#sk-container-id-2 div.sk-label-container {text-align: center;}#sk-container-id-2 div.sk-container {/* jupyter's `normalize.less` sets `[hidden] { display: none; }` but bootstrap.min.css set `[hidden] { display: none !important; }` so we also need the `!important` here to be able to override the default hidden behavior on the sphinx rendered scikit-learn.org. See: https://github.com/scikit-learn/scikit-learn/issues/21755 */display: inline-block !important;position: relative;}#sk-container-id-2 div.sk-text-repr-fallback {display: none;}</style><div id=\"sk-container-id-2\" class=\"sk-top-container\"><div class=\"sk-text-repr-fallback\"><pre>MajorityVoteClassifier(classifiers=[Pipeline(steps=[(&#x27;sc&#x27;, StandardScaler()),\n",
              "                                                    (&#x27;clf&#x27;,\n",
              "                                                     LogisticRegression(C=0.001,\n",
              "                                                                        random_state=1))]),\n",
              "                                    DecisionTreeClassifier(criterion=&#x27;entropy&#x27;,\n",
              "                                                           max_depth=1,\n",
              "                                                           random_state=0),\n",
              "                                    Pipeline(steps=[(&#x27;sc&#x27;, StandardScaler()),\n",
              "                                                    (&#x27;clf&#x27;,\n",
              "                                                     KNeighborsClassifier(n_neighbors=1))])])</pre><b>In a Jupyter environment, please rerun this cell to show the HTML representation or trust the notebook. <br />On GitHub, the HTML representation is unable to render, please try loading this page with nbviewer.org.</b></div><div class=\"sk-container\" hidden><div class=\"sk-item\"><div class=\"sk-estimator sk-toggleable\"><input class=\"sk-toggleable__control sk-hidden--visually\" id=\"sk-estimator-id-2\" type=\"checkbox\" checked><label for=\"sk-estimator-id-2\" class=\"sk-toggleable__label sk-toggleable__label-arrow\">MajorityVoteClassifier</label><div class=\"sk-toggleable__content\"><pre>MajorityVoteClassifier(classifiers=[Pipeline(steps=[(&#x27;sc&#x27;, StandardScaler()),\n",
              "                                                    (&#x27;clf&#x27;,\n",
              "                                                     LogisticRegression(C=0.001,\n",
              "                                                                        random_state=1))]),\n",
              "                                    DecisionTreeClassifier(criterion=&#x27;entropy&#x27;,\n",
              "                                                           max_depth=1,\n",
              "                                                           random_state=0),\n",
              "                                    Pipeline(steps=[(&#x27;sc&#x27;, StandardScaler()),\n",
              "                                                    (&#x27;clf&#x27;,\n",
              "                                                     KNeighborsClassifier(n_neighbors=1))])])</pre></div></div></div></div></div>"
            ]
          },
          "metadata": {},
          "execution_count": 59
        }
      ]
    },
    {
      "cell_type": "code",
      "source": [
        "from sklearn.ensemble import StackingClassifier\n",
        "\n",
        "stack = StackingClassifier(estimators=[\n",
        "    ('lr', pipe1), ('dt', clf2), ('knn', pipe3)],\n",
        "    final_estimator=LogisticRegression())\n",
        "\n",
        "params = {'dt__max_depth': [1, 2],\n",
        "          'lr__clf__C': [.001, .1, 100.]}\n",
        "\n",
        "grid = GridSearchCV(estimator=stack,\n",
        "                    param_grid=params,\n",
        "                    cv=10,\n",
        "                    scoring='roc_auc')\n",
        "grid.fit(X_train, y_train)\n",
        "\n",
        "for r, _ in enumerate(grid.cv_results_['mean_test_score']):\n",
        "  print(f\"{grid.cv_results_['mean_test_score'][r]:.3f} +/- \\\n",
        "          {grid.cv_results_['std_test_score'][r]/2.0:.2f} \\\n",
        "          {grid.cv_results_['params'][r]}\")"
      ],
      "metadata": {
        "colab": {
          "base_uri": "https://localhost:8080/"
        },
        "id": "tpqtujchA5OE",
        "outputId": "bff4f61e-819b-44b1-84dd-f432f08274c0"
      },
      "execution_count": 61,
      "outputs": [
        {
          "output_type": "stream",
          "name": "stdout",
          "text": [
            "0.950 +/-           0.07           {'dt__max_depth': 1, 'lr__clf__C': 0.001}\n",
            "0.983 +/-           0.02           {'dt__max_depth': 1, 'lr__clf__C': 0.1}\n",
            "0.967 +/-           0.05           {'dt__max_depth': 1, 'lr__clf__C': 100.0}\n",
            "0.950 +/-           0.07           {'dt__max_depth': 2, 'lr__clf__C': 0.001}\n",
            "0.983 +/-           0.02           {'dt__max_depth': 2, 'lr__clf__C': 0.1}\n",
            "0.967 +/-           0.05           {'dt__max_depth': 2, 'lr__clf__C': 100.0}\n"
          ]
        }
      ]
    },
    {
      "cell_type": "code",
      "source": [
        "print(f\"최적의 매개변수: {grid.best_params_}\")\n",
        "print(f\"정확도: {grid.best_score_}\")"
      ],
      "metadata": {
        "colab": {
          "base_uri": "https://localhost:8080/"
        },
        "id": "HbBtCzlQB-Qv",
        "outputId": "62d31812-faf0-422e-965e-3489f5d6c882"
      },
      "execution_count": 62,
      "outputs": [
        {
          "output_type": "stream",
          "name": "stdout",
          "text": [
            "최적의 매개변수: {'dt__max_depth': 1, 'lr__clf__C': 0.1}\n",
            "정확도: 0.9833333333333334\n"
          ]
        }
      ]
    },
    {
      "cell_type": "code",
      "source": [],
      "metadata": {
        "id": "9q37s3l9CNHK"
      },
      "execution_count": null,
      "outputs": []
    }
  ]
}