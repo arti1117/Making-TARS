{
  "nbformat": 4,
  "nbformat_minor": 0,
  "metadata": {
    "colab": {
      "provenance": [],
      "collapsed_sections": [],
      "authorship_tag": "ABX9TyMLw0/sc6zstIKxx/Uqy+OH"
    },
    "kernelspec": {
      "name": "python3",
      "display_name": "Python 3"
    },
    "language_info": {
      "name": "python"
    }
  },
  "cells": [
    {
      "cell_type": "code",
      "execution_count": 1,
      "metadata": {
        "id": "txZDrdoYH9JD",
        "colab": {
          "base_uri": "https://localhost:8080/"
        },
        "outputId": "b4f32d33-c769-4560-fbef-f7fbbe201983"
      },
      "outputs": [
        {
          "output_type": "stream",
          "name": "stdout",
          "text": [
            "Looking in indexes: https://pypi.org/simple, https://us-python.pkg.dev/colab-wheels/public/simple/\n",
            "Requirement already satisfied: scikit-learn in /usr/local/lib/python3.7/dist-packages (1.0.2)\n",
            "Requirement already satisfied: numpy>=1.14.6 in /usr/local/lib/python3.7/dist-packages (from scikit-learn) (1.21.6)\n",
            "Requirement already satisfied: threadpoolctl>=2.0.0 in /usr/local/lib/python3.7/dist-packages (from scikit-learn) (3.1.0)\n",
            "Requirement already satisfied: scipy>=1.1.0 in /usr/local/lib/python3.7/dist-packages (from scikit-learn) (1.7.3)\n",
            "Requirement already satisfied: joblib>=0.11 in /usr/local/lib/python3.7/dist-packages (from scikit-learn) (1.1.0)\n"
          ]
        }
      ],
      "source": [
        "!pip install --upgrade scikit-learn"
      ]
    },
    {
      "cell_type": "code",
      "source": [
        "from IPython.display import Image"
      ],
      "metadata": {
        "id": "xAXLPlxkQTAS"
      },
      "execution_count": 2,
      "outputs": []
    },
    {
      "cell_type": "code",
      "source": [
        "from sklearn import datasets\n",
        "import numpy as np"
      ],
      "metadata": {
        "id": "xd_TbVPzQ56c"
      },
      "execution_count": 3,
      "outputs": []
    },
    {
      "cell_type": "code",
      "source": [
        "iris = datasets.load_iris()\n",
        "X = iris.data[:, [2, 3]]\n",
        "y = iris.target\n",
        "print(\"Class Label: \", np.unique(y))"
      ],
      "metadata": {
        "colab": {
          "base_uri": "https://localhost:8080/"
        },
        "id": "MA6pd1lUW0oJ",
        "outputId": "5a48f8b9-1e68-4fc8-d959-9b75b82007b2"
      },
      "execution_count": 4,
      "outputs": [
        {
          "output_type": "stream",
          "name": "stdout",
          "text": [
            "Class Label:  [0 1 2]\n"
          ]
        }
      ]
    },
    {
      "cell_type": "code",
      "source": [
        "from sklearn.model_selection import train_test_split\n",
        "X_train, X_test, y_train, y_test = train_test_split(\n",
        "    X, y, test_size=0.3, random_state=1, stratify=y\n",
        ")"
      ],
      "metadata": {
        "id": "KBj5GdKxW-lo"
      },
      "execution_count": 5,
      "outputs": []
    },
    {
      "cell_type": "code",
      "source": [
        "print('y의 레이블 카운트:', np.bincount(y))\n",
        "print('y_train의 레이블 카운트:', np.bincount(y_train))\n",
        "print('y_test의 레이블 카운트:', np.bincount(y_test))"
      ],
      "metadata": {
        "colab": {
          "base_uri": "https://localhost:8080/"
        },
        "id": "KPlNx9KlYhgY",
        "outputId": "96954af0-ff4a-4260-96bd-9dacd52d02a0"
      },
      "execution_count": 6,
      "outputs": [
        {
          "output_type": "stream",
          "name": "stdout",
          "text": [
            "y의 레이블 카운트: [50 50 50]\n",
            "y_train의 레이블 카운트: [35 35 35]\n",
            "y_test의 레이블 카운트: [15 15 15]\n"
          ]
        }
      ]
    },
    {
      "cell_type": "code",
      "source": [
        "from sklearn.preprocessing import StandardScaler\n",
        "sc = StandardScaler()\n",
        "sc.fit(X_train)\n",
        "\n",
        "X_train_std = sc.transform(X_train)\n",
        "X_test_std = sc.transform(X_test)"
      ],
      "metadata": {
        "id": "UHORSkGcY46t"
      },
      "execution_count": 7,
      "outputs": []
    },
    {
      "cell_type": "code",
      "source": [
        "from sklearn.linear_model import Perceptron\n",
        "\n",
        "ppn = Perceptron(eta0=0.1, random_state=1)\n",
        "ppn.fit(X_train_std, y_train)"
      ],
      "metadata": {
        "colab": {
          "base_uri": "https://localhost:8080/"
        },
        "id": "jAct-cqKZJDl",
        "outputId": "4554f23a-30a0-48bd-8a1a-5617b4b45be4"
      },
      "execution_count": 8,
      "outputs": [
        {
          "output_type": "execute_result",
          "data": {
            "text/plain": [
              "Perceptron(eta0=0.1, random_state=1)"
            ]
          },
          "metadata": {},
          "execution_count": 8
        }
      ]
    },
    {
      "cell_type": "code",
      "source": [
        "y_pred = ppn.predict(X_test_std)\n",
        "print(\"잘못 분류된 샘플 개수: %d\" % (y_test != y_pred).sum())"
      ],
      "metadata": {
        "colab": {
          "base_uri": "https://localhost:8080/"
        },
        "id": "7Rt_2YgCaSSW",
        "outputId": "29413b96-d773-4eb9-b35f-6adbaaea688b"
      },
      "execution_count": 9,
      "outputs": [
        {
          "output_type": "stream",
          "name": "stdout",
          "text": [
            "잘못 분류된 샘플 개수: 1\n"
          ]
        }
      ]
    },
    {
      "cell_type": "code",
      "source": [
        "from sklearn.metrics import accuracy_score\n",
        "\n",
        "print(\"정확도 %.3f\" % accuracy_score(y_test, y_pred))"
      ],
      "metadata": {
        "colab": {
          "base_uri": "https://localhost:8080/"
        },
        "id": "f6VQ3TL2bMSO",
        "outputId": "5656bac5-f4b0-4d7b-97f7-0c0d92478c7c"
      },
      "execution_count": 10,
      "outputs": [
        {
          "output_type": "stream",
          "name": "stdout",
          "text": [
            "정확도 0.978\n"
          ]
        }
      ]
    },
    {
      "cell_type": "code",
      "source": [
        "print(\"정확도 %.3f\" % ppn.score(X_test_std, y_test))"
      ],
      "metadata": {
        "colab": {
          "base_uri": "https://localhost:8080/"
        },
        "id": "sXH2wOYpbiMO",
        "outputId": "46ec21cf-c727-4069-e97f-1fbee3346a19"
      },
      "execution_count": 11,
      "outputs": [
        {
          "output_type": "stream",
          "name": "stdout",
          "text": [
            "정확도 0.978\n"
          ]
        }
      ]
    },
    {
      "cell_type": "code",
      "source": [
        "from matplotlib.colors import ListedColormap\n",
        "import matplotlib.pyplot as plt\n",
        "\n",
        "\n",
        "def plot_decision_regions(X, y, classifier, test_idx=None, resolution=0.02):\n",
        "\n",
        "    # 마커와 컬러맵을 설정합니다.\n",
        "    markers = ('s', 'x', 'o', '^', 'v')\n",
        "    colors = ('red', 'blue', 'lightgreen', 'gray', 'cyan')\n",
        "    cmap = ListedColormap(colors[:len(np.unique(y))])\n",
        "\n",
        "    # 결정 경계를 그립니다.\n",
        "    x1_min, x1_max = X[:, 0].min() - 1, X[:, 0].max() + 1\n",
        "    x2_min, x2_max = X[:, 1].min() - 1, X[:, 1].max() + 1\n",
        "    xx1, xx2 = np.meshgrid(np.arange(x1_min, x1_max, resolution),\n",
        "                           np.arange(x2_min, x2_max, resolution))\n",
        "    Z = classifier.predict(np.array([xx1.ravel(), xx2.ravel()]).T)\n",
        "    Z = Z.reshape(xx1.shape)\n",
        "    plt.contourf(xx1, xx2, Z, alpha=0.3, cmap=cmap)\n",
        "    plt.xlim(xx1.min(), xx1.max())\n",
        "    plt.ylim(xx2.min(), xx2.max())\n",
        "\n",
        "    for idx, cl in enumerate(np.unique(y)):\n",
        "        plt.scatter(x=X[y == cl, 0], \n",
        "                    y=X[y == cl, 1],\n",
        "                    alpha=0.8, \n",
        "                    c=colors[idx],\n",
        "                    marker=markers[idx], \n",
        "                    label=cl, \n",
        "                    edgecolor=None if idx==1 else 'black')\n",
        "\n",
        "    # 테스트 샘플을 부각하여 그립니다.\n",
        "    if test_idx:\n",
        "        # 모든 샘플을 그립니다.\n",
        "        X_test, y_test = X[test_idx, :], y[test_idx]\n",
        "\n",
        "        plt.scatter(X_test[:, 0],\n",
        "                    X_test[:, 1],\n",
        "                    facecolor='none',\n",
        "                    edgecolor='black',\n",
        "                    alpha=1.0,\n",
        "                    linewidth=1,\n",
        "                    marker='o',\n",
        "                    s=100, \n",
        "                    label='test set')"
      ],
      "metadata": {
        "id": "b0D1c11ObtKG"
      },
      "execution_count": 12,
      "outputs": []
    },
    {
      "cell_type": "code",
      "source": [
        "help(Perceptron)"
      ],
      "metadata": {
        "colab": {
          "base_uri": "https://localhost:8080/"
        },
        "id": "Z85K5a-yb4vt",
        "outputId": "456ce886-0932-475f-d19b-2ff1b8941858"
      },
      "execution_count": 13,
      "outputs": [
        {
          "output_type": "stream",
          "name": "stdout",
          "text": [
            "Help on class Perceptron in module sklearn.linear_model._perceptron:\n",
            "\n",
            "class Perceptron(sklearn.linear_model._stochastic_gradient.BaseSGDClassifier)\n",
            " |  Perceptron(*, penalty=None, alpha=0.0001, l1_ratio=0.15, fit_intercept=True, max_iter=1000, tol=0.001, shuffle=True, verbose=0, eta0=1.0, n_jobs=None, random_state=0, early_stopping=False, validation_fraction=0.1, n_iter_no_change=5, class_weight=None, warm_start=False)\n",
            " |  \n",
            " |  Linear perceptron classifier.\n",
            " |  \n",
            " |  Read more in the :ref:`User Guide <perceptron>`.\n",
            " |  \n",
            " |  Parameters\n",
            " |  ----------\n",
            " |  \n",
            " |  penalty : {'l2','l1','elasticnet'}, default=None\n",
            " |      The penalty (aka regularization term) to be used.\n",
            " |  \n",
            " |  alpha : float, default=0.0001\n",
            " |      Constant that multiplies the regularization term if regularization is\n",
            " |      used.\n",
            " |  \n",
            " |  l1_ratio : float, default=0.15\n",
            " |      The Elastic Net mixing parameter, with `0 <= l1_ratio <= 1`.\n",
            " |      `l1_ratio=0` corresponds to L2 penalty, `l1_ratio=1` to L1.\n",
            " |      Only used if `penalty='elasticnet'`.\n",
            " |  \n",
            " |      .. versionadded:: 0.24\n",
            " |  \n",
            " |  fit_intercept : bool, default=True\n",
            " |      Whether the intercept should be estimated or not. If False, the\n",
            " |      data is assumed to be already centered.\n",
            " |  \n",
            " |  max_iter : int, default=1000\n",
            " |      The maximum number of passes over the training data (aka epochs).\n",
            " |      It only impacts the behavior in the ``fit`` method, and not the\n",
            " |      :meth:`partial_fit` method.\n",
            " |  \n",
            " |      .. versionadded:: 0.19\n",
            " |  \n",
            " |  tol : float, default=1e-3\n",
            " |      The stopping criterion. If it is not None, the iterations will stop\n",
            " |      when (loss > previous_loss - tol).\n",
            " |  \n",
            " |      .. versionadded:: 0.19\n",
            " |  \n",
            " |  shuffle : bool, default=True\n",
            " |      Whether or not the training data should be shuffled after each epoch.\n",
            " |  \n",
            " |  verbose : int, default=0\n",
            " |      The verbosity level.\n",
            " |  \n",
            " |  eta0 : float, default=1\n",
            " |      Constant by which the updates are multiplied.\n",
            " |  \n",
            " |  n_jobs : int, default=None\n",
            " |      The number of CPUs to use to do the OVA (One Versus All, for\n",
            " |      multi-class problems) computation.\n",
            " |      ``None`` means 1 unless in a :obj:`joblib.parallel_backend` context.\n",
            " |      ``-1`` means using all processors. See :term:`Glossary <n_jobs>`\n",
            " |      for more details.\n",
            " |  \n",
            " |  random_state : int, RandomState instance, default=None\n",
            " |      Used to shuffle the training data, when ``shuffle`` is set to\n",
            " |      ``True``. Pass an int for reproducible output across multiple\n",
            " |      function calls.\n",
            " |      See :term:`Glossary <random_state>`.\n",
            " |  \n",
            " |  early_stopping : bool, default=False\n",
            " |      Whether to use early stopping to terminate training when validation.\n",
            " |      score is not improving. If set to True, it will automatically set aside\n",
            " |      a stratified fraction of training data as validation and terminate\n",
            " |      training when validation score is not improving by at least tol for\n",
            " |      n_iter_no_change consecutive epochs.\n",
            " |  \n",
            " |      .. versionadded:: 0.20\n",
            " |  \n",
            " |  validation_fraction : float, default=0.1\n",
            " |      The proportion of training data to set aside as validation set for\n",
            " |      early stopping. Must be between 0 and 1.\n",
            " |      Only used if early_stopping is True.\n",
            " |  \n",
            " |      .. versionadded:: 0.20\n",
            " |  \n",
            " |  n_iter_no_change : int, default=5\n",
            " |      Number of iterations with no improvement to wait before early stopping.\n",
            " |  \n",
            " |      .. versionadded:: 0.20\n",
            " |  \n",
            " |  class_weight : dict, {class_label: weight} or \"balanced\", default=None\n",
            " |      Preset for the class_weight fit parameter.\n",
            " |  \n",
            " |      Weights associated with classes. If not given, all classes\n",
            " |      are supposed to have weight one.\n",
            " |  \n",
            " |      The \"balanced\" mode uses the values of y to automatically adjust\n",
            " |      weights inversely proportional to class frequencies in the input data\n",
            " |      as ``n_samples / (n_classes * np.bincount(y))``.\n",
            " |  \n",
            " |  warm_start : bool, default=False\n",
            " |      When set to True, reuse the solution of the previous call to fit as\n",
            " |      initialization, otherwise, just erase the previous solution. See\n",
            " |      :term:`the Glossary <warm_start>`.\n",
            " |  \n",
            " |  Attributes\n",
            " |  ----------\n",
            " |  classes_ : ndarray of shape (n_classes,)\n",
            " |      The unique classes labels.\n",
            " |  \n",
            " |  coef_ : ndarray of shape (1, n_features) if n_classes == 2 else             (n_classes, n_features)\n",
            " |      Weights assigned to the features.\n",
            " |  \n",
            " |  intercept_ : ndarray of shape (1,) if n_classes == 2 else (n_classes,)\n",
            " |      Constants in decision function.\n",
            " |  \n",
            " |  loss_function_ : concrete LossFunction\n",
            " |      The function that determines the loss, or difference between the\n",
            " |      output of the algorithm and the target values.\n",
            " |  \n",
            " |  n_features_in_ : int\n",
            " |      Number of features seen during :term:`fit`.\n",
            " |  \n",
            " |      .. versionadded:: 0.24\n",
            " |  \n",
            " |  feature_names_in_ : ndarray of shape (`n_features_in_`,)\n",
            " |      Names of features seen during :term:`fit`. Defined only when `X`\n",
            " |      has feature names that are all strings.\n",
            " |  \n",
            " |      .. versionadded:: 1.0\n",
            " |  \n",
            " |  n_iter_ : int\n",
            " |      The actual number of iterations to reach the stopping criterion.\n",
            " |      For multiclass fits, it is the maximum over every binary fit.\n",
            " |  \n",
            " |  t_ : int\n",
            " |      Number of weight updates performed during training.\n",
            " |      Same as ``(n_iter_ * n_samples)``.\n",
            " |  \n",
            " |  See Also\n",
            " |  --------\n",
            " |  sklearn.linear_model.SGDClassifier : Linear classifiers\n",
            " |      (SVM, logistic regression, etc.) with SGD training.\n",
            " |  \n",
            " |  Notes\n",
            " |  -----\n",
            " |  ``Perceptron`` is a classification algorithm which shares the same\n",
            " |  underlying implementation with ``SGDClassifier``. In fact,\n",
            " |  ``Perceptron()`` is equivalent to `SGDClassifier(loss=\"perceptron\",\n",
            " |  eta0=1, learning_rate=\"constant\", penalty=None)`.\n",
            " |  \n",
            " |  References\n",
            " |  ----------\n",
            " |  https://en.wikipedia.org/wiki/Perceptron and references therein.\n",
            " |  \n",
            " |  Examples\n",
            " |  --------\n",
            " |  >>> from sklearn.datasets import load_digits\n",
            " |  >>> from sklearn.linear_model import Perceptron\n",
            " |  >>> X, y = load_digits(return_X_y=True)\n",
            " |  >>> clf = Perceptron(tol=1e-3, random_state=0)\n",
            " |  >>> clf.fit(X, y)\n",
            " |  Perceptron()\n",
            " |  >>> clf.score(X, y)\n",
            " |  0.939...\n",
            " |  \n",
            " |  Method resolution order:\n",
            " |      Perceptron\n",
            " |      sklearn.linear_model._stochastic_gradient.BaseSGDClassifier\n",
            " |      sklearn.linear_model._base.LinearClassifierMixin\n",
            " |      sklearn.base.ClassifierMixin\n",
            " |      sklearn.linear_model._stochastic_gradient.BaseSGD\n",
            " |      sklearn.linear_model._base.SparseCoefMixin\n",
            " |      sklearn.base.BaseEstimator\n",
            " |      builtins.object\n",
            " |  \n",
            " |  Methods defined here:\n",
            " |  \n",
            " |  __init__(self, *, penalty=None, alpha=0.0001, l1_ratio=0.15, fit_intercept=True, max_iter=1000, tol=0.001, shuffle=True, verbose=0, eta0=1.0, n_jobs=None, random_state=0, early_stopping=False, validation_fraction=0.1, n_iter_no_change=5, class_weight=None, warm_start=False)\n",
            " |      Initialize self.  See help(type(self)) for accurate signature.\n",
            " |  \n",
            " |  ----------------------------------------------------------------------\n",
            " |  Data and other attributes defined here:\n",
            " |  \n",
            " |  __abstractmethods__ = frozenset()\n",
            " |  \n",
            " |  ----------------------------------------------------------------------\n",
            " |  Methods inherited from sklearn.linear_model._stochastic_gradient.BaseSGDClassifier:\n",
            " |  \n",
            " |  fit(self, X, y, coef_init=None, intercept_init=None, sample_weight=None)\n",
            " |      Fit linear model with Stochastic Gradient Descent.\n",
            " |      \n",
            " |      Parameters\n",
            " |      ----------\n",
            " |      X : {array-like, sparse matrix}, shape (n_samples, n_features)\n",
            " |          Training data.\n",
            " |      \n",
            " |      y : ndarray of shape (n_samples,)\n",
            " |          Target values.\n",
            " |      \n",
            " |      coef_init : ndarray of shape (n_classes, n_features), default=None\n",
            " |          The initial coefficients to warm-start the optimization.\n",
            " |      \n",
            " |      intercept_init : ndarray of shape (n_classes,), default=None\n",
            " |          The initial intercept to warm-start the optimization.\n",
            " |      \n",
            " |      sample_weight : array-like, shape (n_samples,), default=None\n",
            " |          Weights applied to individual samples.\n",
            " |          If not provided, uniform weights are assumed. These weights will\n",
            " |          be multiplied with class_weight (passed through the\n",
            " |          constructor) if class_weight is specified.\n",
            " |      \n",
            " |      Returns\n",
            " |      -------\n",
            " |      self : object\n",
            " |          Returns an instance of self.\n",
            " |  \n",
            " |  partial_fit(self, X, y, classes=None, sample_weight=None)\n",
            " |      Perform one epoch of stochastic gradient descent on given samples.\n",
            " |      \n",
            " |      Internally, this method uses ``max_iter = 1``. Therefore, it is not\n",
            " |      guaranteed that a minimum of the cost function is reached after calling\n",
            " |      it once. Matters such as objective convergence, early stopping, and\n",
            " |      learning rate adjustments should be handled by the user.\n",
            " |      \n",
            " |      Parameters\n",
            " |      ----------\n",
            " |      X : {array-like, sparse matrix}, shape (n_samples, n_features)\n",
            " |          Subset of the training data.\n",
            " |      \n",
            " |      y : ndarray of shape (n_samples,)\n",
            " |          Subset of the target values.\n",
            " |      \n",
            " |      classes : ndarray of shape (n_classes,), default=None\n",
            " |          Classes across all calls to partial_fit.\n",
            " |          Can be obtained by via `np.unique(y_all)`, where y_all is the\n",
            " |          target vector of the entire dataset.\n",
            " |          This argument is required for the first call to partial_fit\n",
            " |          and can be omitted in the subsequent calls.\n",
            " |          Note that y doesn't need to contain all labels in `classes`.\n",
            " |      \n",
            " |      sample_weight : array-like, shape (n_samples,), default=None\n",
            " |          Weights applied to individual samples.\n",
            " |          If not provided, uniform weights are assumed.\n",
            " |      \n",
            " |      Returns\n",
            " |      -------\n",
            " |      self : object\n",
            " |          Returns an instance of self.\n",
            " |  \n",
            " |  ----------------------------------------------------------------------\n",
            " |  Data and other attributes inherited from sklearn.linear_model._stochastic_gradient.BaseSGDClassifier:\n",
            " |  \n",
            " |  loss_functions = {'epsilon_insensitive': (<class 'sklearn.linear_model...\n",
            " |  \n",
            " |  ----------------------------------------------------------------------\n",
            " |  Methods inherited from sklearn.linear_model._base.LinearClassifierMixin:\n",
            " |  \n",
            " |  decision_function(self, X)\n",
            " |      Predict confidence scores for samples.\n",
            " |      \n",
            " |      The confidence score for a sample is proportional to the signed\n",
            " |      distance of that sample to the hyperplane.\n",
            " |      \n",
            " |      Parameters\n",
            " |      ----------\n",
            " |      X : {array-like, sparse matrix} of shape (n_samples, n_features)\n",
            " |          The data matrix for which we want to get the confidence scores.\n",
            " |      \n",
            " |      Returns\n",
            " |      -------\n",
            " |      scores : ndarray of shape (n_samples,) or (n_samples, n_classes)\n",
            " |          Confidence scores per `(n_samples, n_classes)` combination. In the\n",
            " |          binary case, confidence score for `self.classes_[1]` where >0 means\n",
            " |          this class would be predicted.\n",
            " |  \n",
            " |  predict(self, X)\n",
            " |      Predict class labels for samples in X.\n",
            " |      \n",
            " |      Parameters\n",
            " |      ----------\n",
            " |      X : {array-like, sparse matrix} of shape (n_samples, n_features)\n",
            " |          The data matrix for which we want to get the predictions.\n",
            " |      \n",
            " |      Returns\n",
            " |      -------\n",
            " |      y_pred : ndarray of shape (n_samples,)\n",
            " |          Vector containing the class labels for each sample.\n",
            " |  \n",
            " |  ----------------------------------------------------------------------\n",
            " |  Methods inherited from sklearn.base.ClassifierMixin:\n",
            " |  \n",
            " |  score(self, X, y, sample_weight=None)\n",
            " |      Return the mean accuracy on the given test data and labels.\n",
            " |      \n",
            " |      In multi-label classification, this is the subset accuracy\n",
            " |      which is a harsh metric since you require for each sample that\n",
            " |      each label set be correctly predicted.\n",
            " |      \n",
            " |      Parameters\n",
            " |      ----------\n",
            " |      X : array-like of shape (n_samples, n_features)\n",
            " |          Test samples.\n",
            " |      \n",
            " |      y : array-like of shape (n_samples,) or (n_samples, n_outputs)\n",
            " |          True labels for `X`.\n",
            " |      \n",
            " |      sample_weight : array-like of shape (n_samples,), default=None\n",
            " |          Sample weights.\n",
            " |      \n",
            " |      Returns\n",
            " |      -------\n",
            " |      score : float\n",
            " |          Mean accuracy of ``self.predict(X)`` wrt. `y`.\n",
            " |  \n",
            " |  ----------------------------------------------------------------------\n",
            " |  Data descriptors inherited from sklearn.base.ClassifierMixin:\n",
            " |  \n",
            " |  __dict__\n",
            " |      dictionary for instance variables (if defined)\n",
            " |  \n",
            " |  __weakref__\n",
            " |      list of weak references to the object (if defined)\n",
            " |  \n",
            " |  ----------------------------------------------------------------------\n",
            " |  Methods inherited from sklearn.linear_model._base.SparseCoefMixin:\n",
            " |  \n",
            " |  densify(self)\n",
            " |      Convert coefficient matrix to dense array format.\n",
            " |      \n",
            " |      Converts the ``coef_`` member (back) to a numpy.ndarray. This is the\n",
            " |      default format of ``coef_`` and is required for fitting, so calling\n",
            " |      this method is only required on models that have previously been\n",
            " |      sparsified; otherwise, it is a no-op.\n",
            " |      \n",
            " |      Returns\n",
            " |      -------\n",
            " |      self\n",
            " |          Fitted estimator.\n",
            " |  \n",
            " |  sparsify(self)\n",
            " |      Convert coefficient matrix to sparse format.\n",
            " |      \n",
            " |      Converts the ``coef_`` member to a scipy.sparse matrix, which for\n",
            " |      L1-regularized models can be much more memory- and storage-efficient\n",
            " |      than the usual numpy.ndarray representation.\n",
            " |      \n",
            " |      The ``intercept_`` member is not converted.\n",
            " |      \n",
            " |      Returns\n",
            " |      -------\n",
            " |      self\n",
            " |          Fitted estimator.\n",
            " |      \n",
            " |      Notes\n",
            " |      -----\n",
            " |      For non-sparse models, i.e. when there are not many zeros in ``coef_``,\n",
            " |      this may actually *increase* memory usage, so use this method with\n",
            " |      care. A rule of thumb is that the number of zero elements, which can\n",
            " |      be computed with ``(coef_ == 0).sum()``, must be more than 50% for this\n",
            " |      to provide significant benefits.\n",
            " |      \n",
            " |      After calling this method, further fitting with the partial_fit\n",
            " |      method (if any) will not work until you call densify.\n",
            " |  \n",
            " |  ----------------------------------------------------------------------\n",
            " |  Methods inherited from sklearn.base.BaseEstimator:\n",
            " |  \n",
            " |  __getstate__(self)\n",
            " |  \n",
            " |  __repr__(self, N_CHAR_MAX=700)\n",
            " |      Return repr(self).\n",
            " |  \n",
            " |  __setstate__(self, state)\n",
            " |  \n",
            " |  get_params(self, deep=True)\n",
            " |      Get parameters for this estimator.\n",
            " |      \n",
            " |      Parameters\n",
            " |      ----------\n",
            " |      deep : bool, default=True\n",
            " |          If True, will return the parameters for this estimator and\n",
            " |          contained subobjects that are estimators.\n",
            " |      \n",
            " |      Returns\n",
            " |      -------\n",
            " |      params : dict\n",
            " |          Parameter names mapped to their values.\n",
            " |  \n",
            " |  set_params(self, **params)\n",
            " |      Set the parameters of this estimator.\n",
            " |      \n",
            " |      The method works on simple estimators as well as on nested objects\n",
            " |      (such as :class:`~sklearn.pipeline.Pipeline`). The latter have\n",
            " |      parameters of the form ``<component>__<parameter>`` so that it's\n",
            " |      possible to update each component of a nested object.\n",
            " |      \n",
            " |      Parameters\n",
            " |      ----------\n",
            " |      **params : dict\n",
            " |          Estimator parameters.\n",
            " |      \n",
            " |      Returns\n",
            " |      -------\n",
            " |      self : estimator instance\n",
            " |          Estimator instance.\n",
            "\n"
          ]
        }
      ]
    },
    {
      "cell_type": "code",
      "source": [
        "X_combined_std = np.vstack((X_train_std, X_test_std))\n",
        "y_combined = np.hstack((y_train, y_test))\n",
        "\n",
        "plot_decision_regions(X=X_combined_std, y=y_combined,\n",
        "                      classifier=ppn, test_idx=range(105, 150))\n",
        "plt.xlabel(\"petal length [standardized]\")\n",
        "plt.ylabel(\"petal width [standardized]\")\n",
        "plt.legend(loc=\"upper left\")\n",
        "\n",
        "plt.tight_layout()\n",
        "plt.show()"
      ],
      "metadata": {
        "colab": {
          "base_uri": "https://localhost:8080/",
          "height": 297
        },
        "id": "f3aptRbjcDju",
        "outputId": "538d4233-480f-4ef3-8d7a-5f0d8ddeaa53"
      },
      "execution_count": 14,
      "outputs": [
        {
          "output_type": "display_data",
          "data": {
            "text/plain": [
              "<Figure size 432x288 with 1 Axes>"
            ],
            "image/png": "[encoded data removed]"
          },
          "metadata": {
            "needs_background": "light"
          }
        }
      ]
    },
    {
      "cell_type": "code",
      "source": [
        "import matplotlib.pyplot as plt\n",
        "import numpy as np\n",
        "\n",
        "def sigmoid(z):\n",
        "  return 1.0 / (1.0 + np.exp(-z))\n",
        "\n",
        "z = np.arange(-7, 7, 0.1)\n",
        "phi_z = sigmoid(z)\n",
        "\n",
        "plt.plot(z, phi_z)\n",
        "plt.axvline(0.0, color='k')\n",
        "plt.ylim(-0.1, 1.1)\n",
        "plt.xlabel(\"z\")\n",
        "plt.ylabel(\"$\\phi (z)$\")\n",
        "\n",
        "plt.yticks([0.0, 0.5, 1.0])\n",
        "ax = plt.gca()\n",
        "ax.yaxis.grid(True)\n",
        "\n",
        "plt.tight_layout()\n",
        "plt.show()"
      ],
      "metadata": {
        "id": "0FFJ5sMCcxn_",
        "colab": {
          "base_uri": "https://localhost:8080/",
          "height": 297
        },
        "outputId": "77c27eaa-bab5-4dd9-bd37-f13cf65fba5a"
      },
      "execution_count": 15,
      "outputs": [
        {
          "output_type": "display_data",
          "data": {
            "text/plain": [
              "<Figure size 432x288 with 1 Axes>"
            ],
            "image/png": "[encoded data removed]"
          },
          "metadata": {
            "needs_background": "light"
          }
        }
      ]
    },
    {
      "cell_type": "code",
      "source": [
        "Image(url='https://git.io/Jtm22', width=500) "
      ],
      "metadata": {
        "colab": {
          "base_uri": "https://localhost:8080/",
          "height": 373
        },
        "id": "Zu6dwHwk21mi",
        "outputId": "ad4a7f57-4c6e-4a07-d520-9d5f85c84a4b"
      },
      "execution_count": 16,
      "outputs": [
        {
          "output_type": "execute_result",
          "data": {
            "text/html": [
              "<img src=\"https://git.io/Jtm22\" width=\"500\"/>"
            ],
            "text/plain": [
              "<IPython.core.display.Image object>"
            ]
          },
          "metadata": {},
          "execution_count": 16
        }
      ]
    },
    {
      "cell_type": "code",
      "source": [
        "def cost_1(z):\n",
        "  return -np.log(sigmoid(z))\n",
        "\n",
        "def cost_0(z):\n",
        "  return -np.log(1 - sigmoid(z))\n",
        "\n",
        "z = np.arange(-10, 10, 0.1)\n",
        "phi_z = sigmoid(z)\n",
        "\n",
        "c1 = [cost_1(x) for x in z]\n",
        "plt.plot(phi_z, c1, label=\"J(w) if y=1\")\n",
        "\n",
        "c0 = [cost_0(x) for x in z]\n",
        "plt.plot(phi_z, c0, linestyle=\"--\", label=\"J(w) if y=0\")\n",
        "\n",
        "plt.ylim(0.0, 5.1)\n",
        "plt.xlim([0, 1])\n",
        "plt.xlabel(\"$\\phi$(z)\")\n",
        "plt.ylabel(\"J(w)\")\n",
        "plt.legend(loc=\"best\")\n",
        "plt.tight_layout()\n",
        "plt.show()"
      ],
      "metadata": {
        "colab": {
          "base_uri": "https://localhost:8080/",
          "height": 297
        },
        "id": "KQcw0nZw25Bf",
        "outputId": "37399090-81fd-4c48-fcb4-1118fc10f507"
      },
      "execution_count": 17,
      "outputs": [
        {
          "output_type": "display_data",
          "data": {
            "text/plain": [
              "<Figure size 432x288 with 1 Axes>"
            ],
            "image/png": "[encoded data removed]"
          },
          "metadata": {
            "needs_background": "light"
          }
        }
      ]
    },
    {
      "cell_type": "code",
      "source": [
        "class LogisticRegressionGD(object):\n",
        "  \"\"\"경사 하가업을 사용한 로지스틱 회귀 분류기\n",
        "\n",
        "  매개변수\n",
        "  ----------\n",
        "  eta : float\n",
        "    학습률 (0.0과 1.0 사이)\n",
        "  n_iter : int\n",
        "    훈련 데이터셋 반복 횟수\n",
        "  random_state : int\n",
        "    가중치 무작위 초기화를 위한 난수 생성기 시드\n",
        "\n",
        "  속성\n",
        "  ----------\n",
        "  w_ : 1d-array\n",
        "    학습된 가중치\n",
        "  cost_ : list\n",
        "    에포크마다 누적된 로지스틱 비용 함수 값\n",
        "  \"\"\"\n",
        "  def __init__(self, eta=0.05, n_iter=100, random_state=1):\n",
        "    self.eta = eta\n",
        "    self.n_iter = n_iter\n",
        "    self.random_state = random_state\n",
        "\n",
        "  def fit(self, X, y):\n",
        "    \"\"\"훈련 데이터 학습\n",
        "\n",
        "    매개변수\n",
        "    ----------\n",
        "    X : {array-like}, shape = [n_samples, n_features]\n",
        "      n_samples 개의 샘플과 n_features 개의 특성으로 이루어진 훈련 데이터\n",
        "    y : array-like, shape = [n_samples]\n",
        "      타깃값\n",
        "\n",
        "    반환값\n",
        "    ----------\n",
        "    self : object\n",
        "    \"\"\"\n",
        "    rgen = np.random.RandomState(self.random_state)\n",
        "    self.w_ = rgen.normal(loc=0.0, scale=0.01, size=1 + X.shape[1])\n",
        "    self.cost_ = []\n",
        "\n",
        "    for i in range(self.n_iter):\n",
        "      net_input = self.net_input(X)\n",
        "      output = self.activation(net_input)\n",
        "      errors = (y - output)\n",
        "      self.w_[1:] += self.eta * X.T.dot(errors)\n",
        "      self.w_[0] += self.eta * errors.sum()\n",
        "\n",
        "      cost = -y.dot(np.log(output)) - ((1 - y).dot(np.log(1 - output)))\n",
        "      self.cost_.append(cost)\n",
        "    return self\n",
        "\n",
        "  def net_input(self, X):\n",
        "    \"\"\"최종 입력 계산\"\"\"\n",
        "    return np.dot(X, self.w_[1:]) + self.w_[0]\n",
        "  \n",
        "  def activation(self, z):\n",
        "    \"\"\"로지스틱 시그모이드 활성화 계산\"\"\"\n",
        "    return 1. / (1. + np.exp(-np.clip(z, -250, 250)))\n",
        "\n",
        "  def predict(self, X):\n",
        "    \"\"\"단위 계단 함수를 사용하여 클래스 레이블을 반환합니다\"\"\"\n",
        "    return np.where(self.net_input(X) >= 0.0, 1, 0)\n"
      ],
      "metadata": {
        "id": "XQSYYnSk4cg6"
      },
      "execution_count": 18,
      "outputs": []
    },
    {
      "cell_type": "code",
      "source": [
        "X_train_01_subset = X_train_std[(y_train == 0) | (y_train == 1)]\n",
        "y_train_01_subset = y_train[(y_train == 0) | (y_train == 1)]\n",
        "\n",
        "lrgd = LogisticRegressionGD(eta=0.05, n_iter=1000, random_state=1)\n",
        "lrgd.fit(X_train_01_subset, y_train_01_subset)\n",
        "\n",
        "plot_decision_regions(X=X_train_01_subset, y=y_train_01_subset, classifier=lrgd)\n",
        "\n",
        "plt.xlabel(\"petal length [standardized]\")\n",
        "plt.ylabel(\"petal width [standardized]\")\n",
        "plt.legend(loc=\"upper left\")\n",
        "\n",
        "plt.tight_layout()\n",
        "plt.show()"
      ],
      "metadata": {
        "colab": {
          "base_uri": "https://localhost:8080/",
          "height": 297
        },
        "id": "icQ2g6hb85lp",
        "outputId": "1d224edc-a812-49d3-cbf4-a3349ef02d88"
      },
      "execution_count": 19,
      "outputs": [
        {
          "output_type": "display_data",
          "data": {
            "text/plain": [
              "<Figure size 432x288 with 1 Axes>"
            ],
            "image/png": "[encoded data removed]"
          },
          "metadata": {
            "needs_background": "light"
          }
        }
      ]
    },
    {
      "cell_type": "code",
      "source": [
        "from sklearn.linear_model import LogisticRegression\n",
        "\n",
        "lr = LogisticRegression(C=100.0, random_state=1)\n",
        "lr.fit(X_train_std, y_train)\n",
        "\n",
        "plot_decision_regions(X_combined_std, y_combined,\n",
        "                      classifier=lr, test_idx=range(105, 150))\n",
        "plt.xlabel(\"petal length [standardized]\")\n",
        "plt.ylabel(\"petal width [standardized]\")\n",
        "plt.legend(loc=\"upper left\")\n",
        "plt.tight_layout()\n",
        "plt.show()"
      ],
      "metadata": {
        "colab": {
          "base_uri": "https://localhost:8080/",
          "height": 297
        },
        "id": "Dz_v3CHh98Fg",
        "outputId": "95f6722c-184b-46ef-cf52-c2ef3d7a9287"
      },
      "execution_count": 20,
      "outputs": [
        {
          "output_type": "display_data",
          "data": {
            "text/plain": [
              "<Figure size 432x288 with 1 Axes>"
            ],
            "image/png": "[encoded data removed]"
          },
          "metadata": {
            "needs_background": "light"
          }
        }
      ]
    },
    {
      "cell_type": "code",
      "source": [
        "lr.predict_proba(X_test_std[:3, :])"
      ],
      "metadata": {
        "colab": {
          "base_uri": "https://localhost:8080/"
        },
        "id": "KCrGwIQ1DDSf",
        "outputId": "bcdff358-2cce-4ad1-fa14-cfc4f90bc7e5"
      },
      "execution_count": 21,
      "outputs": [
        {
          "output_type": "execute_result",
          "data": {
            "text/plain": [
              "array([[1.52213484e-12, 3.85303417e-04, 9.99614697e-01],\n",
              "       [9.93560717e-01, 6.43928295e-03, 1.14112016e-15],\n",
              "       [9.98655228e-01, 1.34477208e-03, 1.76178271e-17]])"
            ]
          },
          "metadata": {},
          "execution_count": 21
        }
      ]
    },
    {
      "cell_type": "code",
      "source": [
        "lr.predict_proba(X_test_std[:3, :]).sum(axis=1)"
      ],
      "metadata": {
        "colab": {
          "base_uri": "https://localhost:8080/"
        },
        "id": "Avp7utIWDHMn",
        "outputId": "29ace60a-d2a1-422e-8281-ec2f10d8ecdd"
      },
      "execution_count": 22,
      "outputs": [
        {
          "output_type": "execute_result",
          "data": {
            "text/plain": [
              "array([1., 1., 1.])"
            ]
          },
          "metadata": {},
          "execution_count": 22
        }
      ]
    },
    {
      "cell_type": "code",
      "source": [
        "lr.predict_proba(X_test_std[:3, :]).argmax(axis=1)"
      ],
      "metadata": {
        "colab": {
          "base_uri": "https://localhost:8080/"
        },
        "id": "M4ykLvdCDLco",
        "outputId": "42c656b7-5622-45df-ac3d-0499707c89b6"
      },
      "execution_count": 23,
      "outputs": [
        {
          "output_type": "execute_result",
          "data": {
            "text/plain": [
              "array([2, 0, 0])"
            ]
          },
          "metadata": {},
          "execution_count": 23
        }
      ]
    },
    {
      "cell_type": "code",
      "source": [
        "lr.predict(X_test_std[:3, :])"
      ],
      "metadata": {
        "colab": {
          "base_uri": "https://localhost:8080/"
        },
        "id": "1AsDUEV5DQZm",
        "outputId": "f7141440-117a-4ed6-eef5-6c430862fd62"
      },
      "execution_count": 24,
      "outputs": [
        {
          "output_type": "execute_result",
          "data": {
            "text/plain": [
              "array([2, 0, 0])"
            ]
          },
          "metadata": {},
          "execution_count": 24
        }
      ]
    },
    {
      "cell_type": "code",
      "source": [
        "lr.predict(X_test_std[0, :].reshape(1, -1))"
      ],
      "metadata": {
        "colab": {
          "base_uri": "https://localhost:8080/"
        },
        "id": "R1BsS7gGDVBI",
        "outputId": "627bae04-0572-49af-cd65-193fb61372b6"
      },
      "execution_count": 25,
      "outputs": [
        {
          "output_type": "execute_result",
          "data": {
            "text/plain": [
              "array([2])"
            ]
          },
          "metadata": {},
          "execution_count": 25
        }
      ]
    },
    {
      "cell_type": "code",
      "source": [
        "Image(url='https://git.io/Jtm2V', width=700) "
      ],
      "metadata": {
        "colab": {
          "base_uri": "https://localhost:8080/",
          "height": 273
        },
        "id": "95HGFQk1DYzI",
        "outputId": "bed31a7b-4422-47e8-8d00-40d9f331d3eb"
      },
      "execution_count": 26,
      "outputs": [
        {
          "output_type": "execute_result",
          "data": {
            "text/html": [
              "<img src=\"https://git.io/Jtm2V\" width=\"700\"/>"
            ],
            "text/plain": [
              "<IPython.core.display.Image object>"
            ]
          },
          "metadata": {},
          "execution_count": 26
        }
      ]
    },
    {
      "cell_type": "code",
      "source": [
        "weights, params = [], []\n",
        "for c in np.arange(-5, 5):\n",
        "  lr = LogisticRegression(C=10.**c, random_state=1, multi_class=\"ovr\")\n",
        "  lr.fit(X_train_std, y_train)\n",
        "  weights.append(lr.coef_[1])\n",
        "  params.append(10.**c)\n",
        "\n",
        "weights = np.array(weights)\n",
        "plt.plot(params, weights[:, 0],\n",
        "         label=\"petal length\")\n",
        "plt.plot(params, weights[:, 1], linestyle=\"--\",\n",
        "         label=\"petal width\")\n",
        "plt.ylabel(\"weight coefficient\")\n",
        "plt.xlabel(\"C\")\n",
        "plt.legend(loc=\"upper left\")\n",
        "plt.xscale(\"log\")\n",
        "plt.show()"
      ],
      "metadata": {
        "colab": {
          "base_uri": "https://localhost:8080/",
          "height": 283
        },
        "id": "7jFaFyH5Di4n",
        "outputId": "1c8604f9-0cc0-4b77-ffbf-7b7971aaf46c"
      },
      "execution_count": 27,
      "outputs": [
        {
          "output_type": "display_data",
          "data": {
            "text/plain": [
              "<Figure size 432x288 with 1 Axes>"
            ],
            "image/png": "[encoded data removed]"
          },
          "metadata": {
            "needs_background": "light"
          }
        }
      ]
    },
    {
      "cell_type": "code",
      "source": [
        "Image(url='https://git.io/Jtm2r', width=700) "
      ],
      "metadata": {
        "id": "LJVvCrZZEcKT",
        "colab": {
          "base_uri": "https://localhost:8080/",
          "height": 319
        },
        "outputId": "878ba5fe-bf56-4b16-dcbd-fee18cdf5130"
      },
      "execution_count": 28,
      "outputs": [
        {
          "output_type": "execute_result",
          "data": {
            "text/html": [
              "<img src=\"https://git.io/Jtm2r\" width=\"700\"/>"
            ],
            "text/plain": [
              "<IPython.core.display.Image object>"
            ]
          },
          "metadata": {},
          "execution_count": 28
        }
      ]
    },
    {
      "cell_type": "code",
      "source": [
        "Image(url='https://git.io/Jtm26', width=600) "
      ],
      "metadata": {
        "colab": {
          "base_uri": "https://localhost:8080/",
          "height": 295
        },
        "id": "QixKvFHV-mYz",
        "outputId": "0b0cd4f3-da45-48e6-b5bd-5c184f6daacc"
      },
      "execution_count": 29,
      "outputs": [
        {
          "output_type": "execute_result",
          "data": {
            "text/html": [
              "<img src=\"https://git.io/Jtm26\" width=\"600\"/>"
            ],
            "text/plain": [
              "<IPython.core.display.Image object>"
            ]
          },
          "metadata": {},
          "execution_count": 29
        }
      ]
    },
    {
      "cell_type": "code",
      "source": [
        "from sklearn.svm import SVC\n",
        "\n",
        "svm = SVC(kernel=\"linear\", C=1.0, random_state=1)\n",
        "svm.fit(X_train_std, y_train)\n",
        "\n",
        "plot_decision_regions(X_combined_std,\n",
        "                      y_combined,\n",
        "                      classifier=svm,\n",
        "                      test_idx=range(105, 150))\n",
        "plt.xlabel(\"petal lentgh [standardized]\")\n",
        "plt.ylabel(\"petal width [standardized]\")\n",
        "plt.legend(loc=\"upper left\")\n",
        "plt.tight_layout()\n",
        "plt.show()"
      ],
      "metadata": {
        "colab": {
          "base_uri": "https://localhost:8080/",
          "height": 297
        },
        "id": "FZ0fFIlkAqe6",
        "outputId": "74562916-662d-4d9b-a4d3-5d302fc85dd4"
      },
      "execution_count": 30,
      "outputs": [
        {
          "output_type": "display_data",
          "data": {
            "text/plain": [
              "<Figure size 432x288 with 1 Axes>"
            ],
            "image/png": "[encoded data removed]"
          },
          "metadata": {
            "needs_background": "light"
          }
        }
      ]
    },
    {
      "cell_type": "code",
      "source": [
        "from sklearn.linear_model import SGDClassifier\n",
        "\n",
        "ppn = SGDClassifier(loss=\"perceptron\")\n",
        "lr = SGDClassifier(loss=\"log\")\n",
        "svm = SGDClassifier(loss=\"hinge\")"
      ],
      "metadata": {
        "id": "HPv2iOWjBL7G"
      },
      "execution_count": 31,
      "outputs": []
    },
    {
      "cell_type": "code",
      "source": [
        "import matplotlib.pyplot as plt\n",
        "import numpy as np\n",
        "\n",
        "np.random.seed(1)\n",
        "X_xor = np.random.randn(200, 2)\n",
        "y_xor = np.logical_xor(X_xor[:, 0] > 0,\n",
        "                       X_xor[:, 1] > 0)\n",
        "\n",
        "y_xor = np.where(y_xor, 1, -1)\n",
        "plt.scatter(X_xor[y_xor == 1, 0],\n",
        "            X_xor[y_xor == 1, 1],\n",
        "            c='b', marker='x',\n",
        "            label='1')\n",
        "plt.scatter(X_xor[y_xor == -1, 0],\n",
        "            X_xor[y_xor == -1, 1],\n",
        "            c='r',\n",
        "            marker='s',\n",
        "            label='-1')\n",
        "\n",
        "plt.xlim([-3, 3])\n",
        "plt.ylim([-3, 3])\n",
        "plt.legend(loc='best')\n",
        "plt.tight_layout()\n",
        "plt.show()"
      ],
      "metadata": {
        "colab": {
          "base_uri": "https://localhost:8080/",
          "height": 297
        },
        "id": "gv7LdaUwBp1S",
        "outputId": "4c6c9f00-2aca-4e12-bf70-ecd6f2226418"
      },
      "execution_count": 32,
      "outputs": [
        {
          "output_type": "display_data",
          "data": {
            "text/plain": [
              "<Figure size 432x288 with 1 Axes>"
            ],
            "image/png": "[encoded data removed]"
          },
          "metadata": {
            "needs_background": "light"
          }
        }
      ]
    },
    {
      "cell_type": "code",
      "source": [
        "Image(url='https://git.io/Jtm2X', width=700)"
      ],
      "metadata": {
        "id": "XyCoaRPQMENq",
        "colab": {
          "base_uri": "https://localhost:8080/",
          "height": 542
        },
        "outputId": "366c06d7-d62c-4cf5-bb87-46e41f33a433"
      },
      "execution_count": 33,
      "outputs": [
        {
          "output_type": "execute_result",
          "data": {
            "text/html": [
              "<img src=\"https://git.io/Jtm2X\" width=\"700\"/>"
            ],
            "text/plain": [
              "<IPython.core.display.Image object>"
            ]
          },
          "metadata": {},
          "execution_count": 33
        }
      ]
    },
    {
      "cell_type": "code",
      "source": [
        "svm = SVC(kernel=\"rbf\", random_state=1, gamma=0.10, C=10.0)\n",
        "svm.fit(X_xor, y_xor)\n",
        "plot_decision_regions(X_xor, y_xor,\n",
        "                      classifier=svm)\n",
        "plt.legend(loc='upper left')\n",
        "plt.tight_layout()\n",
        "plt.show()"
      ],
      "metadata": {
        "colab": {
          "base_uri": "https://localhost:8080/",
          "height": 297
        },
        "id": "X8E0NPjgK51U",
        "outputId": "29d19cec-ac0c-4c94-cb8c-8b7bc201286f"
      },
      "execution_count": 34,
      "outputs": [
        {
          "output_type": "display_data",
          "data": {
            "text/plain": [
              "<Figure size 432x288 with 1 Axes>"
            ],
            "image/png": "[encoded data removed]"
          },
          "metadata": {
            "needs_background": "light"
          }
        }
      ]
    },
    {
      "cell_type": "code",
      "source": [
        "svm = SVC(kernel=\"rbf\", random_state=1, gamma=0.2, C=1.0)\n",
        "svm.fit(X_train_std, y_train)\n",
        "\n",
        "plot_decision_regions(X_combined_std, y_combined,\n",
        "                      classifier=svm, test_idx=range(105, 150))\n",
        "\n",
        "plt.xlabel(\"petal length [standardized]\")\n",
        "plt.ylabel(\"petal width [standardized]\")\n",
        "plt.legend(loc=\"upper left\")\n",
        "plt.show()"
      ],
      "metadata": {
        "colab": {
          "base_uri": "https://localhost:8080/",
          "height": 279
        },
        "id": "j7pikpinMIEK",
        "outputId": "0c7b712d-1680-49f4-b480-1495a924b696"
      },
      "execution_count": 35,
      "outputs": [
        {
          "output_type": "display_data",
          "data": {
            "text/plain": [
              "<Figure size 432x288 with 1 Axes>"
            ],
            "image/png": "[encoded data removed]"
          },
          "metadata": {
            "needs_background": "light"
          }
        }
      ]
    },
    {
      "cell_type": "code",
      "source": [
        "svm = SVC(kernel=\"rbf\", random_state=1, gamma=100, C=1.0)\n",
        "svm.fit(X_train_std, y_train)\n",
        "\n",
        "plot_decision_regions(X_combined_std, y_combined,\n",
        "                      classifier=svm, test_idx=range(105, 150))\n",
        "\n",
        "plt.xlabel(\"petal length [standardized]\")\n",
        "plt.ylabel(\"petal width [standardized]\")\n",
        "plt.legend(loc=\"upper left\")\n",
        "plt.show()"
      ],
      "metadata": {
        "colab": {
          "base_uri": "https://localhost:8080/",
          "height": 279
        },
        "id": "xTirY4qbMnQJ",
        "outputId": "60849b1d-b55f-49a3-e93a-918c8b1a05eb"
      },
      "execution_count": 36,
      "outputs": [
        {
          "output_type": "display_data",
          "data": {
            "text/plain": [
              "<Figure size 432x288 with 1 Axes>"
            ],
            "image/png": "[encoded data removed]"
          },
          "metadata": {
            "needs_background": "light"
          }
        }
      ]
    },
    {
      "cell_type": "code",
      "source": [
        "Image(url='https://git.io/Jtm21', width=500) "
      ],
      "metadata": {
        "colab": {
          "base_uri": "https://localhost:8080/",
          "height": 333
        },
        "id": "jWPoujvMMtKg",
        "outputId": "e2157784-fdd3-46a4-f86e-39c9717b1189"
      },
      "execution_count": 37,
      "outputs": [
        {
          "output_type": "execute_result",
          "data": {
            "text/html": [
              "<img src=\"https://git.io/Jtm21\" width=\"500\"/>"
            ],
            "text/plain": [
              "<IPython.core.display.Image object>"
            ]
          },
          "metadata": {},
          "execution_count": 37
        }
      ]
    },
    {
      "cell_type": "code",
      "source": [
        "import matplotlib.pyplot as plt\n",
        "import numpy as np\n",
        "\n",
        "def gini(p):\n",
        "  return p * (1-p) + (1-p) * (1-(1-p))\n",
        "\n",
        "def entropy(p):\n",
        "  return -p * np.log2(p) - (1-p) * np.log2(1-p)\n",
        "\n",
        "def error(p):\n",
        "  return 1 - np.max([p, 1-p])\n",
        "\n",
        "x = np.arange(0.0,1.0, 0.01)\n",
        "\n",
        "ent = [entropy(p) if p != 0 else None for p in x]\n",
        "sc_ent = [e * 0.5 if e else None for e in ent]\n",
        "err = [error(i) for i in x]\n",
        "\n",
        "fig = plt.figure()\n",
        "ax = plt.subplot(111)\n",
        "for i, lab, ls, c, in zip([ent, sc_ent, gini(x), err], \n",
        "                          ['Entropy', 'Entropy (scaled)', \n",
        "                           'Gini impurity', 'Misclassification error'],\n",
        "                          ['-', '-', '--', '-.'],\n",
        "                          ['black', 'lightgray', 'red', 'green', 'cyan']):\n",
        "    line = ax.plot(x, i, label=lab, linestyle=ls, lw=2, color=c)\n",
        "\n",
        "ax.legend(loc='upper center', bbox_to_anchor=(0.5, 1.15),\n",
        "          ncol=5, fancybox=True, shadow=False)\n",
        "\n",
        "ax.axhline(y=0.5, linewidth=1, color='k', linestyle='--')\n",
        "ax.axhline(y=1.0, linewidth=1, color='k', linestyle='--')\n",
        "plt.ylim([0, 1.1])\n",
        "plt.xlabel('p(i=1)')\n",
        "plt.ylabel('impurity index')\n",
        "# plt.savefig('images/03_19.png', dpi=300, bbox_inches='tight')\n",
        "plt.show()"
      ],
      "metadata": {
        "id": "NgHqN3DHM0O7"
      },
      "execution_count": null,
      "outputs": []
    }
  ]
}