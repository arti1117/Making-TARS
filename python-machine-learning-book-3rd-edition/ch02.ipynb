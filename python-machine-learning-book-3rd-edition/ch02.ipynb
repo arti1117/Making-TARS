{
  "nbformat": 4,
  "nbformat_minor": 0,
  "metadata": {
    "colab": {
      "name": "ch02.ipynb",
      "provenance": [],
      "collapsed_sections": [],
      "authorship_tag": "ABX9TyOTIQFyDXoUcPUjmqOKeMng"
    },
    "kernelspec": {
      "name": "python3",
      "display_name": "Python 3"
    },
    "language_info": {
      "name": "python"
    }
  },
  "cells": [
    {
      "cell_type": "code",
      "execution_count": 1,
      "metadata": {
        "id": "XF5N1IwKFQJI"
      },
      "outputs": [],
      "source": [
        "from IPython.display import Image"
      ]
    },
    {
      "cell_type": "code",
      "source": [
        "Image(url='https://git.io/JtIbf', width=500) "
      ],
      "metadata": {
        "colab": {
          "base_uri": "https://localhost:8080/",
          "height": 234
        },
        "id": "NCcQuQzDnddF",
        "outputId": "d26aeb68-db8e-4c53-fe99-4e1c397abab4"
      },
      "execution_count": 2,
      "outputs": [
        {
          "output_type": "execute_result",
          "data": {
            "text/plain": [
              "<IPython.core.display.Image object>"
            ],
            "text/html": [
              "<img src=\"https://git.io/JtIbf\" width=\"500\"/>"
            ]
          },
          "metadata": {},
          "execution_count": 2
        }
      ]
    },
    {
      "cell_type": "code",
      "source": [
        "# 퍼셉트론 결정 함수(단위 계단 함수)와 결정 경계\n",
        "Image(url='https://git.io/JtIbL', width=500) "
      ],
      "metadata": {
        "colab": {
          "base_uri": "https://localhost:8080/",
          "height": 300
        },
        "id": "gnRHOikkoNj0",
        "outputId": "88231ef3-afca-46ee-90ed-9f9fae250542"
      },
      "execution_count": 3,
      "outputs": [
        {
          "output_type": "execute_result",
          "data": {
            "text/plain": [
              "<IPython.core.display.Image object>"
            ],
            "text/html": [
              "<img src=\"https://git.io/JtIbL\" width=\"500\"/>"
            ]
          },
          "metadata": {},
          "execution_count": 3
        }
      ]
    },
    {
      "cell_type": "code",
      "source": [
        "Image(url='https://git.io/JtIbq', width=600) "
      ],
      "metadata": {
        "colab": {
          "base_uri": "https://localhost:8080/",
          "height": 190
        },
        "id": "jOoND9MaoPNr",
        "outputId": "5cf92759-8e75-46b4-d5d3-9986dea3a3b5"
      },
      "execution_count": 4,
      "outputs": [
        {
          "output_type": "execute_result",
          "data": {
            "text/plain": [
              "<IPython.core.display.Image object>"
            ],
            "text/html": [
              "<img src=\"https://git.io/JtIbq\" width=\"600\"/>"
            ]
          },
          "metadata": {},
          "execution_count": 4
        }
      ]
    },
    {
      "cell_type": "code",
      "source": [
        "# 퍼셉트론 알고리즘\n",
        "Image(url='https://git.io/JtIbO', width=600)"
      ],
      "metadata": {
        "colab": {
          "base_uri": "https://localhost:8080/",
          "height": 258
        },
        "id": "Or6vdhg2o6X5",
        "outputId": "5e224310-ab2e-4bbf-fc69-3ccfd7353fd4"
      },
      "execution_count": 5,
      "outputs": [
        {
          "output_type": "execute_result",
          "data": {
            "text/plain": [
              "<IPython.core.display.Image object>"
            ],
            "text/html": [
              "<img src=\"https://git.io/JtIbO\" width=\"600\"/>"
            ]
          },
          "metadata": {},
          "execution_count": 5
        }
      ]
    },
    {
      "cell_type": "code",
      "source": [
        "import numpy as np"
      ],
      "metadata": {
        "id": "EIYKILt8pypi"
      },
      "execution_count": 6,
      "outputs": []
    },
    {
      "cell_type": "code",
      "source": [
        "class Perceptron(object):\n",
        "  \"\"\"퍼셉트론 분류기\n",
        "\n",
        "  매개변수\n",
        "  ----------\n",
        "  eta : float\n",
        "    학습률 (0.0과 1.0 사이)\n",
        "  n_iter : int\n",
        "    훈련 데이터셋 반복 횟수\n",
        "  random_state : int\n",
        "    가중치 무작위 초기화를 위한 난수 생성기 시드\n",
        "\n",
        "  속성\n",
        "  ----------\n",
        "  w_ : 1d-array\n",
        "    학습된 가중치\n",
        "  errors_ : list\n",
        "    에포크마다 누적된 분류 오류\n",
        "\n",
        "  \"\"\"\n",
        "  def __init__(self, eta=0.01, n_iter=50, random_state=1):\n",
        "    self.eta = eta\n",
        "    self.n_iter = n_iter\n",
        "    self.random_state = random_state\n",
        "\n",
        "  def fit(self, X, y):\n",
        "    \"\"\"훈련 데이터 학습\n",
        "\n",
        "    매개변수\n",
        "    ----------\n",
        "    X : array-like, shape = [n_samples, n_features]\n",
        "      n_samples개의 샘플과 n_features개의 특성으로 이루어진 훈련 데이터\n",
        "    y : array-like, shape = [n_samples]\n",
        "      타깃값\n",
        "\n",
        "    반환값\n",
        "    ----------\n",
        "    self : object\n",
        "\n",
        "    \"\"\"\n",
        "    rgen = np.random.RandomState(self.random_state)\n",
        "    self.w_ = rgen.normal(loc=0.0, scale=0.01, size=1 + X.shape[1])\n",
        "    self.errors_ = []\n",
        "\n",
        "    for _ in range(self.n_iter):\n",
        "      errors = 0\n",
        "      for xi, target in zip(X, y):\n",
        "        update = self.eta * (target - self.predict(xi))\n",
        "        self.w_[1:] += update * xi\n",
        "        self.w_[0] += update\n",
        "        errors += int(update != 0.0)\n",
        "      self.errors_.append(errors)\n",
        "    return self\n",
        "\n",
        "  def net_input(self, X):\n",
        "    \"\"\"입력 계산\"\"\"\n",
        "    return np.dot(X, self.w_[1:]) + self.w_[0]\n",
        "\n",
        "  def predict(self, X):\n",
        "    \"\"\"단위 계단 함수를 사용하여 클래스 레이블을 반환합니다\"\"\"\n",
        "    return np.where(self.net_input(X) >= 0.0, 1, -1)"
      ],
      "metadata": {
        "id": "HN02tZ0cw2hq"
      },
      "execution_count": 7,
      "outputs": []
    },
    {
      "cell_type": "code",
      "source": [
        "v1 = np.array([1, 2, 3])\n",
        "v2 = 0.5 * v1\n",
        "np.arccos(v1.dot(v2) / (np.linalg.norm(v1) * np.linalg.norm(v2)))"
      ],
      "metadata": {
        "id": "sMN2VZ3P13wq",
        "colab": {
          "base_uri": "https://localhost:8080/"
        },
        "outputId": "c4b04cb9-576c-41eb-abf0-0a93a25ee4a8"
      },
      "execution_count": 8,
      "outputs": [
        {
          "output_type": "execute_result",
          "data": {
            "text/plain": [
              "0.0"
            ]
          },
          "metadata": {},
          "execution_count": 8
        }
      ]
    },
    {
      "cell_type": "code",
      "source": [
        "import os\n",
        "import pandas as pd\n",
        "\n",
        "s = \"https://archive.ics.uci.edu/ml/machine-learning-databases/iris/iris.data\"\n",
        "print(\"URL: \", s)\n",
        "\n",
        "df = pd.read_csv(s, header=None, encoding='utf-8')\n",
        "df.tail()"
      ],
      "metadata": {
        "colab": {
          "base_uri": "https://localhost:8080/",
          "height": 225
        },
        "id": "pO65AHMgw7TV",
        "outputId": "c9e66a2f-4d48-41a2-afd8-576a079d0f94"
      },
      "execution_count": 9,
      "outputs": [
        {
          "output_type": "stream",
          "name": "stdout",
          "text": [
            "URL:  https://archive.ics.uci.edu/ml/machine-learning-databases/iris/iris.data\n"
          ]
        },
        {
          "output_type": "execute_result",
          "data": {
            "text/plain": [
              "       0    1    2    3               4\n",
              "145  6.7  3.0  5.2  2.3  Iris-virginica\n",
              "146  6.3  2.5  5.0  1.9  Iris-virginica\n",
              "147  6.5  3.0  5.2  2.0  Iris-virginica\n",
              "148  6.2  3.4  5.4  2.3  Iris-virginica\n",
              "149  5.9  3.0  5.1  1.8  Iris-virginica"
            ],
            "text/html": [
              "\n",
              "  <div id=\"df-d034028f-7ce0-4e55-8694-94adbc0a65eb\">\n",
              "    <div class=\"colab-df-container\">\n",
              "      <div>\n",
              "<style scoped>\n",
              "    .dataframe tbody tr th:only-of-type {\n",
              "        vertical-align: middle;\n",
              "    }\n",
              "\n",
              "    .dataframe tbody tr th {\n",
              "        vertical-align: top;\n",
              "    }\n",
              "\n",
              "    .dataframe thead th {\n",
              "        text-align: right;\n",
              "    }\n",
              "</style>\n",
              "<table border=\"1\" class=\"dataframe\">\n",
              "  <thead>\n",
              "    <tr style=\"text-align: right;\">\n",
              "      <th></th>\n",
              "      <th>0</th>\n",
              "      <th>1</th>\n",
              "      <th>2</th>\n",
              "      <th>3</th>\n",
              "      <th>4</th>\n",
              "    </tr>\n",
              "  </thead>\n",
              "  <tbody>\n",
              "    <tr>\n",
              "      <th>145</th>\n",
              "      <td>6.7</td>\n",
              "      <td>3.0</td>\n",
              "      <td>5.2</td>\n",
              "      <td>2.3</td>\n",
              "      <td>Iris-virginica</td>\n",
              "    </tr>\n",
              "    <tr>\n",
              "      <th>146</th>\n",
              "      <td>6.3</td>\n",
              "      <td>2.5</td>\n",
              "      <td>5.0</td>\n",
              "      <td>1.9</td>\n",
              "      <td>Iris-virginica</td>\n",
              "    </tr>\n",
              "    <tr>\n",
              "      <th>147</th>\n",
              "      <td>6.5</td>\n",
              "      <td>3.0</td>\n",
              "      <td>5.2</td>\n",
              "      <td>2.0</td>\n",
              "      <td>Iris-virginica</td>\n",
              "    </tr>\n",
              "    <tr>\n",
              "      <th>148</th>\n",
              "      <td>6.2</td>\n",
              "      <td>3.4</td>\n",
              "      <td>5.4</td>\n",
              "      <td>2.3</td>\n",
              "      <td>Iris-virginica</td>\n",
              "    </tr>\n",
              "    <tr>\n",
              "      <th>149</th>\n",
              "      <td>5.9</td>\n",
              "      <td>3.0</td>\n",
              "      <td>5.1</td>\n",
              "      <td>1.8</td>\n",
              "      <td>Iris-virginica</td>\n",
              "    </tr>\n",
              "  </tbody>\n",
              "</table>\n",
              "</div>\n",
              "      <button class=\"colab-df-convert\" onclick=\"convertToInteractive('df-d034028f-7ce0-4e55-8694-94adbc0a65eb')\"\n",
              "              title=\"Convert this dataframe to an interactive table.\"\n",
              "              style=\"display:none;\">\n",
              "        \n",
              "  <svg xmlns=\"http://www.w3.org/2000/svg\" height=\"24px\"viewBox=\"0 0 24 24\"\n",
              "       width=\"24px\">\n",
              "    <path d=\"M0 0h24v24H0V0z\" fill=\"none\"/>\n",
              "    <path d=\"M18.56 5.44l.94 2.06.94-2.06 2.06-.94-2.06-.94-.94-2.06-.94 2.06-2.06.94zm-11 1L8.5 8.5l.94-2.06 2.06-.94-2.06-.94L8.5 2.5l-.94 2.06-2.06.94zm10 10l.94 2.06.94-2.06 2.06-.94-2.06-.94-.94-2.06-.94 2.06-2.06.94z\"/><path d=\"M17.41 7.96l-1.37-1.37c-.4-.4-.92-.59-1.43-.59-.52 0-1.04.2-1.43.59L10.3 9.45l-7.72 7.72c-.78.78-.78 2.05 0 2.83L4 21.41c.39.39.9.59 1.41.59.51 0 1.02-.2 1.41-.59l7.78-7.78 2.81-2.81c.8-.78.8-2.07 0-2.86zM5.41 20L4 18.59l7.72-7.72 1.47 1.35L5.41 20z\"/>\n",
              "  </svg>\n",
              "      </button>\n",
              "      \n",
              "  <style>\n",
              "    .colab-df-container {\n",
              "      display:flex;\n",
              "      flex-wrap:wrap;\n",
              "      gap: 12px;\n",
              "    }\n",
              "\n",
              "    .colab-df-convert {\n",
              "      background-color: #E8F0FE;\n",
              "      border: none;\n",
              "      border-radius: 50%;\n",
              "      cursor: pointer;\n",
              "      display: none;\n",
              "      fill: #1967D2;\n",
              "      height: 32px;\n",
              "      padding: 0 0 0 0;\n",
              "      width: 32px;\n",
              "    }\n",
              "\n",
              "    .colab-df-convert:hover {\n",
              "      background-color: #E2EBFA;\n",
              "      box-shadow: 0px 1px 2px rgba(60, 64, 67, 0.3), 0px 1px 3px 1px rgba(60, 64, 67, 0.15);\n",
              "      fill: #174EA6;\n",
              "    }\n",
              "\n",
              "    [theme=dark] .colab-df-convert {\n",
              "      background-color: #3B4455;\n",
              "      fill: #D2E3FC;\n",
              "    }\n",
              "\n",
              "    [theme=dark] .colab-df-convert:hover {\n",
              "      background-color: #434B5C;\n",
              "      box-shadow: 0px 1px 3px 1px rgba(0, 0, 0, 0.15);\n",
              "      filter: drop-shadow(0px 1px 2px rgba(0, 0, 0, 0.3));\n",
              "      fill: #FFFFFF;\n",
              "    }\n",
              "  </style>\n",
              "\n",
              "      <script>\n",
              "        const buttonEl =\n",
              "          document.querySelector('#df-d034028f-7ce0-4e55-8694-94adbc0a65eb button.colab-df-convert');\n",
              "        buttonEl.style.display =\n",
              "          google.colab.kernel.accessAllowed ? 'block' : 'none';\n",
              "\n",
              "        async function convertToInteractive(key) {\n",
              "          const element = document.querySelector('#df-d034028f-7ce0-4e55-8694-94adbc0a65eb');\n",
              "          const dataTable =\n",
              "            await google.colab.kernel.invokeFunction('convertToInteractive',\n",
              "                                                     [key], {});\n",
              "          if (!dataTable) return;\n",
              "\n",
              "          const docLinkHtml = 'Like what you see? Visit the ' +\n",
              "            '<a target=\"_blank\" href=https://colab.research.google.com/notebooks/data_table.ipynb>data table notebook</a>'\n",
              "            + ' to learn more about interactive tables.';\n",
              "          element.innerHTML = '';\n",
              "          dataTable['output_type'] = 'display_data';\n",
              "          await google.colab.output.renderOutput(dataTable, element);\n",
              "          const docLink = document.createElement('div');\n",
              "          docLink.innerHTML = docLinkHtml;\n",
              "          element.appendChild(docLink);\n",
              "        }\n",
              "      </script>\n",
              "    </div>\n",
              "  </div>\n",
              "  "
            ]
          },
          "metadata": {},
          "execution_count": 9
        }
      ]
    },
    {
      "cell_type": "code",
      "source": [
        "%matplotlib inline\n",
        "import matplotlib.pyplot as plt\n",
        "import numpy as np\n",
        "\n",
        "y = df.iloc[0:100, 4].values\n",
        "y = np.where(y == 'Iris-setosa', -1, 1)\n",
        "\n",
        "X = df.iloc[0:100, [0, 2]].values\n",
        "\n",
        "plt.scatter(X[:50, 0], X[:50, 1],\n",
        "            color='red', marker='o', label='setosa')\n",
        "plt.scatter(X[50:100, 0], X[50:100, 1],\n",
        "            color='blue', marker='x', label='versicolor')\n",
        "\n",
        "plt.xlabel('sepal length [cm]')\n",
        "plt.ylabel('petal length [cm]')\n",
        "plt.legend(loc='upper left')\n",
        "\n",
        "plt.show()"
      ],
      "metadata": {
        "colab": {
          "base_uri": "https://localhost:8080/",
          "height": 279
        },
        "id": "r3QhicMnw9IC",
        "outputId": "5e765fe5-37a9-490a-fd9c-6bd861477cf2"
      },
      "execution_count": 10,
      "outputs": [
        {
          "output_type": "display_data",
          "data": {
            "text/plain": [
              "<Figure size 432x288 with 1 Axes>"
            ],
            "image/png": "[encoded data removed]"
          },
          "metadata": {
            "needs_background": "light"
          }
        }
      ]
    },
    {
      "cell_type": "code",
      "source": [
        "ppn = Perceptron(eta=0.1, n_iter=10)\n",
        "ppn.fit(X, y)\n",
        "\n",
        "plt.plot(range(1, len(ppn.errors_) + 1), ppn.errors_, marker='o')\n",
        "plt.xlabel('Epochs')\n",
        "plt.ylabel('Number of updates')\n",
        "\n",
        "plt.show()"
      ],
      "metadata": {
        "colab": {
          "base_uri": "https://localhost:8080/",
          "height": 279
        },
        "id": "FUPQD4gFygGd",
        "outputId": "cee15354-eeca-4396-bf0e-bce1a8b16a60"
      },
      "execution_count": 11,
      "outputs": [
        {
          "output_type": "display_data",
          "data": {
            "text/plain": [
              "<Figure size 432x288 with 1 Axes>"
            ],
            "image/png": "[encoded data removed]"
          },
          "metadata": {
            "needs_background": "light"
          }
        }
      ]
    },
    {
      "cell_type": "code",
      "source": [
        "from matplotlib.colors import ListedColormap\n",
        "\n",
        "def plot_decision_regions(X, y, classifier, resolution=0.02):\n",
        "  markers = ('s', 'x', 'o', '^', 'v')\n",
        "  colors = ('red', 'blue', 'lightgreen', 'gray', 'cyan')\n",
        "  cmap = ListedColormap(colors[:len(np.unique(y))])\n",
        "\n",
        "  x1_min, x1_max = X[:, 0].min() - 1, X[:, 0].max() + 1\n",
        "  x2_min, x2_max = X[:, 1].min() - 1, X[:, 1].max() + 1\n",
        "  xx1, xx2 = np.meshgrid(np.arange(x1_min, x1_max, resolution),\n",
        "                         np.arange(x2_min, x2_max, resolution))\n",
        "  Z = classifier.predict(np.array([xx1.ravel(), xx2.ravel()]).T)\n",
        "  Z = Z.reshape(xx1.shape)\n",
        "\n",
        "  plt.contourf(xx1, xx2, Z, alpha=0.3, cmap=cmap)\n",
        "  plt.xlim(xx1.min(), xx1.max())\n",
        "  plt.ylim(xx2.min(), xx2.max())\n",
        "\n",
        "  for idx, cl in enumerate(np.unique(y)):\n",
        "    plt.scatter(x=X[y==cl, 0],\n",
        "                y=X[y==cl, 1],\n",
        "                alpha=0.8,\n",
        "                c=colors[idx],\n",
        "                marker=markers[idx],\n",
        "                label=cl,\n",
        "                edgecolor=None if idx==1 else 'black')"
      ],
      "metadata": {
        "id": "5h41Ihsly3HD"
      },
      "execution_count": 12,
      "outputs": []
    },
    {
      "cell_type": "code",
      "source": [
        "plot_decision_regions(X, y, classifier=ppn)\n",
        "plt.xlabel(\"sepal length [cm]\")\n",
        "plt.ylabel(\"petal length [cm]\")\n",
        "plt.legend(loc='upper left')\n",
        "\n",
        "plt.show()"
      ],
      "metadata": {
        "colab": {
          "base_uri": "https://localhost:8080/",
          "height": 280
        },
        "id": "GySXvXY90SJG",
        "outputId": "ff3a1a21-d5c2-4ffc-fdcb-0f1e165d312b"
      },
      "execution_count": 13,
      "outputs": [
        {
          "output_type": "display_data",
          "data": {
            "text/plain": [
              "<Figure size 432x288 with 1 Axes>"
            ],
            "image/png": "[encoded data removed]"
          },
          "metadata": {
            "needs_background": "light"
          }
        }
      ]
    },
    {
      "cell_type": "code",
      "source": [
        "Image(url='https://git.io/JtIbn', width=600)"
      ],
      "metadata": {
        "id": "bBQmHKPQ0ccC",
        "colab": {
          "base_uri": "https://localhost:8080/",
          "height": 450
        },
        "outputId": "8cf866fe-7f3e-4aeb-d054-a1c5f40a1190"
      },
      "execution_count": 14,
      "outputs": [
        {
          "output_type": "execute_result",
          "data": {
            "text/plain": [
              "<IPython.core.display.Image object>"
            ],
            "text/html": [
              "<img src=\"https://git.io/JtIbn\" width=\"600\"/>"
            ]
          },
          "metadata": {},
          "execution_count": 14
        }
      ]
    },
    {
      "cell_type": "code",
      "source": [
        "Image(url='https://git.io/JtIbc', width=500)"
      ],
      "metadata": {
        "colab": {
          "base_uri": "https://localhost:8080/",
          "height": 274
        },
        "id": "MCMsMI11BHUN",
        "outputId": "ec6a6d68-a491-411f-dfd0-6bebc5bed266"
      },
      "execution_count": 15,
      "outputs": [
        {
          "output_type": "execute_result",
          "data": {
            "text/plain": [
              "<IPython.core.display.Image object>"
            ],
            "text/html": [
              "<img src=\"https://git.io/JtIbc\" width=\"500\"/>"
            ]
          },
          "metadata": {},
          "execution_count": 15
        }
      ]
    },
    {
      "cell_type": "code",
      "source": [
        "class AdalineGD(object):\n",
        "  \"\"\"적응형 선형 뉴런 분류기\n",
        "\n",
        "  매개변수\n",
        "  ----------\n",
        "  eta : float\n",
        "    학습률 (0.0과 1.0 사이)\n",
        "  n_iter : int\n",
        "    훈련 데이터셋 반복 횟수\n",
        "  random_state : int\n",
        "    가중치 무작위 초기화를 위한 난수 생성기 시드\n",
        "\n",
        "  속성\n",
        "  ----------\n",
        "  w_ : 1d-array\n",
        "    학습된 가중치\n",
        "  cost_ : list\n",
        "    에포크마다 누적된 비용 합수의 제곱합\n",
        "\n",
        "  \"\"\"\n",
        "  def __init__(self, eta=0.01, n_iter=50, random_state=42):\n",
        "    self.eta = eta\n",
        "    self.n_iter = n_iter\n",
        "    self.random_state = random_state\n",
        "  \n",
        "  def fit(self, X, y):\n",
        "    \"\"\"훈련 데이터 학습\n",
        "\n",
        "    매개변수\n",
        "    ----------\n",
        "    X : array-like, shape = [n_samples, n_features]\n",
        "      n_samples 개의 샘플과 n_features 개의 특성으로 이루어진 훈련 데이터\n",
        "    y : array-like, shape = [n_samples]\n",
        "      타깃값\n",
        "\n",
        "    반환값\n",
        "    ----------\n",
        "    self : object\n",
        "\n",
        "    \"\"\"\n",
        "    rgen = np.random.RandomState(self.random_state)\n",
        "    self.w_ = rgen.normal(loc=0.0, scale=0.01, size=1 + X.shape[1])\n",
        "    self.cost_ = []\n",
        "\n",
        "    for i in range(self.n_iter):\n",
        "      net_input = self.net_input(X)\n",
        "      # 이 코드의 활성화 함수는 항등 함수(Identity function)이기 때문에\n",
        "      # 아무런 효과가 없습니다.\n",
        "      # 이 대신 'output = self.net_input(X)'로 바로 쓸 수 있습니다.\n",
        "      # 이 활성화 함수는 개념적인 목적을 위해 만들었습니다\n",
        "      # (잠시 후에 보게 될) 로지스틱 회귀의 경우 이 함수를 시그모이드 함수로\n",
        "      # 바꾸어 로지스틱 회귀 분류기를 구현합니다\n",
        "      output = self.activation(net_input)\n",
        "      errors = (y - output)\n",
        "      self.w_[1:] += self.eta * X.T.dot(errors)\n",
        "      self.w_[0] += self.eta * errors.sum()\n",
        "      cost = (errors**2).sum() / 2.0\n",
        "      self.cost_.append(cost)\n",
        "    return self\n",
        "\n",
        "  def net_input(self, X):\n",
        "    \"\"\"최종 입력 계산\"\"\"\n",
        "    return np.dot(X, self.w_[1:]) + self.w_[0]\n",
        "\n",
        "  def activation(self, X):\n",
        "    \"\"\"선형 활성화 계산\"\"\"\n",
        "    return X\n",
        "  \n",
        "  def predict(self, X):\n",
        "    \"\"\"단위 계단 함수를 사용하여 클래스 레이블을 반환합니다\"\"\"\n",
        "    return np.where(self.activation(self.net_input(X)) >= 0.0, 1, -1)"
      ],
      "metadata": {
        "id": "9U8WPdk1BNed"
      },
      "execution_count": 22,
      "outputs": []
    },
    {
      "cell_type": "code",
      "source": [
        "fig, ax = plt.subplots(nrows=1, ncols=2, figsize=(10, 4))\n",
        "\n",
        "ada1 = AdalineGD(n_iter=10, eta=0.01).fit(X, y)\n",
        "ax[0].plot(range(1, len(ada1.cost_) + 1), np.log10(ada1.cost_), marker='o')\n",
        "ax[0].set_xlabel(\"Epochs\")\n",
        "ax[0].set_ylabel(\"log(Sum-squared-error)\")\n",
        "ax[0].set_title(\"Adaline - Learning rate 0.01\")\n",
        "\n",
        "ada2 = AdalineGD(n_iter=10, eta=0.0001).fit(X, y)\n",
        "ax[1].plot(range(1, len(ada2.cost_) + 1), np.log10(ada2.cost_), marker='o')\n",
        "ax[1].set_xlabel(\"Epochs\")\n",
        "ax[1].set_ylabel(\"log(Sum-squared-error)\")\n",
        "ax[1].set_title(\"Adaline - Learning rate 0.0001\")\n",
        "\n",
        "plt.savefig(\"02_11.png\", dpi=300)\n",
        "plt.show()"
      ],
      "metadata": {
        "colab": {
          "base_uri": "https://localhost:8080/",
          "height": 295
        },
        "id": "0hOJlffnDguW",
        "outputId": "dd46bd66-1cbe-48b7-ed88-b73d9a95144e"
      },
      "execution_count": 17,
      "outputs": [
        {
          "output_type": "display_data",
          "data": {
            "text/plain": [
              "<Figure size 720x288 with 2 Axes>"
            ],
            "image/png": "[encoded data removed]"
          },
          "metadata": {
            "needs_background": "light"
          }
        }
      ]
    },
    {
      "cell_type": "code",
      "source": [
        "Image(url='https://git.io/JtIb4', width=700)"
      ],
      "metadata": {
        "colab": {
          "base_uri": "https://localhost:8080/",
          "height": 260
        },
        "id": "2i1b-cC5Ejq-",
        "outputId": "aa420dd5-ec79-4b70-b1a2-adb5f7eefc17"
      },
      "execution_count": 18,
      "outputs": [
        {
          "output_type": "execute_result",
          "data": {
            "text/plain": [
              "<IPython.core.display.Image object>"
            ],
            "text/html": [
              "<img src=\"https://git.io/JtIb4\" width=\"700\"/>"
            ]
          },
          "metadata": {},
          "execution_count": 18
        }
      ]
    },
    {
      "cell_type": "code",
      "source": [
        "Image(url='https://git.io/JtIbB', width=700) "
      ],
      "metadata": {
        "colab": {
          "base_uri": "https://localhost:8080/",
          "height": 345
        },
        "id": "ie00ftmdEmAr",
        "outputId": "152f6fff-a49e-49a9-f9e9-e1a035b29714"
      },
      "execution_count": 19,
      "outputs": [
        {
          "output_type": "execute_result",
          "data": {
            "text/plain": [
              "<IPython.core.display.Image object>"
            ],
            "text/html": [
              "<img src=\"https://git.io/JtIbB\" width=\"700\"/>"
            ]
          },
          "metadata": {},
          "execution_count": 19
        }
      ]
    },
    {
      "cell_type": "code",
      "source": [
        "# 특성을 표준화합니다.\n",
        "X_std = np.copy(X)\n",
        "X_std[:, 0] = (X[:, 0] - X[:, 0].mean()) / X[:, 0].std()\n",
        "X_std[:, 1] = (X[:, 1] - X[:, 1].mean()) / X[:, 1].std()"
      ],
      "metadata": {
        "id": "WcaUjsbIEw1_"
      },
      "execution_count": 20,
      "outputs": []
    },
    {
      "cell_type": "code",
      "source": [
        "ada_gd = AdalineGD(n_iter=15, eta=0.01)\n",
        "ada_gd.fit(X_std, y)\n",
        "\n",
        "plot_decision_regions(X_std, y, classifier=ada_gd)\n",
        "plt.title('Adaline - Gradient Descent')\n",
        "plt.xlabel('sepal length [standardized]')\n",
        "plt.ylabel('petal length [standardized]')\n",
        "plt.legend(loc='upper left')\n",
        "plt.tight_layout()\n",
        "plt.savefig('02_14_1.png', dpi=300)\n",
        "plt.show()\n",
        "\n",
        "plt.plot(range(1, len(ada_gd.cost_) + 1), ada_gd.cost_, marker='o')\n",
        "plt.xlabel('Epochs')\n",
        "plt.ylabel('Sum-squared-error')\n",
        "\n",
        "plt.tight_layout()\n",
        "plt.savefig('02_14_2.png', dpi=300)\n",
        "plt.show()"
      ],
      "metadata": {
        "colab": {
          "base_uri": "https://localhost:8080/",
          "height": 577
        },
        "id": "-ZaDSfzbEzHk",
        "outputId": "e71c01f2-75b0-412f-fa8b-88c81a389441"
      },
      "execution_count": 23,
      "outputs": [
        {
          "output_type": "display_data",
          "data": {
            "text/plain": [
              "<Figure size 432x288 with 1 Axes>"
            ],
            "image/png": "[encoded data removed]"
          },
          "metadata": {
            "needs_background": "light"
          }
        },
        {
          "output_type": "display_data",
          "data": {
            "text/plain": [
              "<Figure size 432x288 with 1 Axes>"
            ],
            "image/png": "[encoded data removed]"
          },
          "metadata": {
            "needs_background": "light"
          }
        }
      ]
    },
    {
      "cell_type": "code",
      "source": [
        "class AdalineSGD(object):\n",
        "    \"\"\"ADAptive LInear NEuron 분류기\n",
        "\n",
        "    Parameters\n",
        "    ------------\n",
        "    eta : float\n",
        "      학습률 (0.0과 1.0 사이)\n",
        "    n_iter : int\n",
        "      훈련 데이터셋 반복 횟수\n",
        "    shuffle : bool (default: True)\n",
        "      True로 설정하면 같은 반복이 되지 않도록 에포크마다 훈련 데이터를 섞습니다\n",
        "    random_state : int\n",
        "      가중치 무작위 초기화를 위한 난수 생성기 시드\n",
        "\n",
        "    Attributes\n",
        "    -----------\n",
        "    w_ : 1d-array\n",
        "      학습된 가중치\n",
        "    cost_ : list\n",
        "      모든 훈련 샘플에 대해 에포크마다 누적된 평균 비용 함수의 제곱합\n",
        "\n",
        "    \"\"\"\n",
        "    def __init__(self, eta=0.01, n_iter=10, shuffle=True, random_state=None):\n",
        "        self.eta = eta\n",
        "        self.n_iter = n_iter\n",
        "        self.w_initialized = False\n",
        "        self.shuffle = shuffle\n",
        "        self.random_state = random_state\n",
        "        \n",
        "    def fit(self, X, y):\n",
        "        \"\"\"훈련 데이터 학습\n",
        "\n",
        "        Parameters\n",
        "        ----------\n",
        "        X : {array-like}, shape = [n_samples, n_features]\n",
        "          n_samples 개의 샘플과 n_features 개의 특성으로 이루어진 훈련 데이터\n",
        "        y : array-like, shape = [n_samples]\n",
        "          타깃 벡터\n",
        "\n",
        "        반환값\n",
        "        -------\n",
        "        self : object\n",
        "\n",
        "        \"\"\"\n",
        "        self._initialize_weights(X.shape[1])\n",
        "        self.cost_ = []\n",
        "        for i in range(self.n_iter):\n",
        "            if self.shuffle:\n",
        "                X, y = self._shuffle(X, y)\n",
        "            cost = []\n",
        "            for xi, target in zip(X, y):\n",
        "                cost.append(self._update_weights(xi, target))\n",
        "            avg_cost = sum(cost) / len(y)\n",
        "            self.cost_.append(avg_cost)\n",
        "        return self\n",
        "\n",
        "    def partial_fit(self, X, y):\n",
        "        \"\"\"가중치를 다시 초기화하지 않고 훈련 데이터를 학습합니다\"\"\"\n",
        "        if not self.w_initialized:\n",
        "            self._initialize_weights(X.shape[1])\n",
        "        if y.ravel().shape[0] > 1:\n",
        "            for xi, target in zip(X, y):\n",
        "                self._update_weights(xi, target)\n",
        "        else:\n",
        "            self._update_weights(X, y)\n",
        "        return self\n",
        "\n",
        "    def _shuffle(self, X, y):\n",
        "        \"\"\"훈련 데이터를 섞습니다\"\"\"\n",
        "        r = self.rgen.permutation(len(y))\n",
        "        return X[r], y[r]\n",
        "    \n",
        "    def _initialize_weights(self, m):\n",
        "        \"\"\"랜덤한 작은 수로 가중치를 초기화합니다\"\"\"\n",
        "        self.rgen = np.random.RandomState(self.random_state)\n",
        "        self.w_ = self.rgen.normal(loc=0.0, scale=0.01, size=1 + m)\n",
        "        self.w_initialized = True\n",
        "        \n",
        "    def _update_weights(self, xi, target):\n",
        "        \"\"\"아달린 학습 규칙을 적용하여 가중치를 업데이트합니다\"\"\"\n",
        "        output = self.activation(self.net_input(xi))\n",
        "        error = (target - output)\n",
        "        self.w_[1:] += self.eta * xi.dot(error)\n",
        "        self.w_[0] += self.eta * error\n",
        "        cost = 0.5 * error**2\n",
        "        return cost\n",
        "    \n",
        "    def net_input(self, X):\n",
        "        \"\"\"입력 계산\"\"\"\n",
        "        return np.dot(X, self.w_[1:]) + self.w_[0]\n",
        "\n",
        "    def activation(self, X):\n",
        "        \"\"\"선형 활성화 계산\"\"\"\n",
        "        return X\n",
        "\n",
        "    def predict(self, X):\n",
        "        \"\"\"단위 계단 함수를 사용하여 클래스 레이블을 반환합니다\"\"\"\n",
        "        return np.where(self.activation(self.net_input(X)) >= 0.0, 1, -1)"
      ],
      "metadata": {
        "id": "zSCF4ICCE4-M"
      },
      "execution_count": 24,
      "outputs": []
    },
    {
      "cell_type": "code",
      "source": [
        "ada_sgd = AdalineSGD(n_iter=15, eta=0.01, random_state=1)\n",
        "ada_sgd.fit(X_std, y)\n",
        "\n",
        "plot_decision_regions(X_std, y, classifier=ada_sgd)\n",
        "plt.title('Adaline - Stochastic Gradient Descent')\n",
        "plt.xlabel('sepal length [standardized]')\n",
        "plt.ylabel('petal length [standardized]')\n",
        "plt.legend(loc='upper left')\n",
        "\n",
        "plt.tight_layout()\n",
        "plt.savefig('02_15_1.png', dpi=300)\n",
        "plt.show()\n",
        "\n",
        "plt.plot(range(1, len(ada_sgd.cost_) + 1), ada_sgd.cost_, marker='o')\n",
        "plt.xlabel('Epochs')\n",
        "plt.ylabel('Average Cost')\n",
        "\n",
        "plt.tight_layout()\n",
        "plt.savefig('02_15_2.png', dpi=300)\n",
        "plt.show()"
      ],
      "metadata": {
        "colab": {
          "base_uri": "https://localhost:8080/",
          "height": 577
        },
        "id": "spXSZpzJFcVH",
        "outputId": "90e46144-ef99-4a28-83ee-ec37548d05c4"
      },
      "execution_count": 25,
      "outputs": [
        {
          "output_type": "display_data",
          "data": {
            "text/plain": [
              "<Figure size 432x288 with 1 Axes>"
            ],
            "image/png": "[encoded data removed]"
          },
          "metadata": {
            "needs_background": "light"
          }
        },
        {
          "output_type": "display_data",
          "data": {
            "text/plain": [
              "<Figure size 432x288 with 1 Axes>"
            ],
            "image/png": "[encoded data removed]"
          },
          "metadata": {
            "needs_background": "light"
          }
        }
      ]
    },
    {
      "cell_type": "code",
      "source": [
        "ada_sgd.partial_fit(X_std[0, :], y[0])"
      ],
      "metadata": {
        "colab": {
          "base_uri": "https://localhost:8080/"
        },
        "id": "k7R-vWQIFfZM",
        "outputId": "bd0a742d-df5b-483c-b597-1253c314c7c9"
      },
      "execution_count": 26,
      "outputs": [
        {
          "output_type": "execute_result",
          "data": {
            "text/plain": [
              "<__main__.AdalineSGD at 0x7fc6b714ea90>"
            ]
          },
          "metadata": {},
          "execution_count": 26
        }
      ]
    },
    {
      "cell_type": "code",
      "source": [
        "ada_sgd.cost_"
      ],
      "metadata": {
        "colab": {
          "base_uri": "https://localhost:8080/"
        },
        "id": "Rv1H5T-vFgqd",
        "outputId": "2f50ae1e-982e-40c1-a73e-02d785eef463"
      },
      "execution_count": 27,
      "outputs": [
        {
          "output_type": "execute_result",
          "data": {
            "text/plain": [
              "[0.20394456166031524,\n",
              " 0.07361591599497305,\n",
              " 0.05595915980120137,\n",
              " 0.04616048513652026,\n",
              " 0.039384514777334234,\n",
              " 0.03477977825838303,\n",
              " 0.031657219041863846,\n",
              " 0.029612965517701775,\n",
              " 0.02811985114187205,\n",
              " 0.027075165024754613,\n",
              " 0.026343115030327834,\n",
              " 0.025908993480534163,\n",
              " 0.025690816663739714,\n",
              " 0.025388179942035075,\n",
              " 0.025269618641442088]"
            ]
          },
          "metadata": {},
          "execution_count": 27
        }
      ]
    },
    {
      "cell_type": "code",
      "source": [
        "ada_sgd.w_"
      ],
      "metadata": {
        "colab": {
          "base_uri": "https://localhost:8080/"
        },
        "id": "ZUugcQU8FmXt",
        "outputId": "fec10607-1f63-4956-daa7-1b2a627a3499"
      },
      "execution_count": 28,
      "outputs": [
        {
          "output_type": "execute_result",
          "data": {
            "text/plain": [
              "array([ 3.00240727e-04, -1.38587196e-01,  1.07255807e+00])"
            ]
          },
          "metadata": {},
          "execution_count": 28
        }
      ]
    },
    {
      "cell_type": "code",
      "source": [
        ""
      ],
      "metadata": {
        "id": "na-ofIpRFx-t"
      },
      "execution_count": null,
      "outputs": []
    }
  ]
}