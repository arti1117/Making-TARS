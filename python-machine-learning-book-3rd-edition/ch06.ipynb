{
  "nbformat": 4,
  "nbformat_minor": 0,
  "metadata": {
    "colab": {
      "provenance": [],
      "authorship_tag": "ABX9TyPtJGefcqz7HRaYd68K4j7V"
    },
    "kernelspec": {
      "name": "python3",
      "display_name": "Python 3"
    },
    "language_info": {
      "name": "python"
    }
  },
  "cells": [
    {
      "cell_type": "code",
      "execution_count": 1,
      "metadata": {
        "id": "0Rq2_KU-0H2c"
      },
      "outputs": [],
      "source": [
        "import pandas as pd\n",
        "df = pd.read_csv(\"https://archive.ics.uci.edu/ml/machine-learning-databases/breast-cancer-wisconsin/wdbc.data\", header=None)"
      ]
    },
    {
      "cell_type": "code",
      "source": [
        "from sklearn.preprocessing import LabelEncoder\n",
        "\n",
        "X = df.loc[:, 2:].values\n",
        "y = df.loc[:, 1].values\n",
        "\n",
        "le = LabelEncoder()\n",
        "y = le.fit_transform(y)\n",
        "\n",
        "le.classes_"
      ],
      "metadata": {
        "id": "bUn0HXNd09Hw",
        "colab": {
          "base_uri": "https://localhost:8080/"
        },
        "outputId": "3c4d5b7c-50d6-4887-8225-458948a36631"
      },
      "execution_count": 2,
      "outputs": [
        {
          "output_type": "execute_result",
          "data": {
            "text/plain": [
              "array(['B', 'M'], dtype=object)"
            ]
          },
          "metadata": {},
          "execution_count": 2
        }
      ]
    },
    {
      "cell_type": "code",
      "source": [
        "le.transform([\"B\", \"M\"])"
      ],
      "metadata": {
        "colab": {
          "base_uri": "https://localhost:8080/"
        },
        "id": "KLrJPLB01ug8",
        "outputId": "e921fcae-7f39-4208-908e-3801abfc7171"
      },
      "execution_count": 3,
      "outputs": [
        {
          "output_type": "execute_result",
          "data": {
            "text/plain": [
              "array([0, 1])"
            ]
          },
          "metadata": {},
          "execution_count": 3
        }
      ]
    },
    {
      "cell_type": "code",
      "source": [
        "from sklearn.model_selection import train_test_split\n",
        "\n",
        "X_train, X_test, y_train, y_test = train_test_split(\n",
        "    X, y, test_size=0.2, stratify=y, random_state=1\n",
        ")"
      ],
      "metadata": {
        "id": "jPulfrlt11UH"
      },
      "execution_count": 4,
      "outputs": []
    },
    {
      "cell_type": "code",
      "source": [
        "from sklearn.preprocessing import StandardScaler\n",
        "from sklearn.decomposition import PCA\n",
        "from sklearn.linear_model import LogisticRegression\n",
        "from sklearn.pipeline import make_pipeline\n",
        "\n",
        "pipe_lr = make_pipeline(StandardScaler(),\n",
        "                        PCA(n_components=2),\n",
        "                        LogisticRegression(random_state=1))\n",
        "pipe_lr.fit(X_train, y_train)\n",
        "y_pred = pipe_lr.predict(X_test)\n",
        "\n",
        "print(\"Test Accuracy: %.3f\" % pipe_lr.score(X_test, y_test))"
      ],
      "metadata": {
        "colab": {
          "base_uri": "https://localhost:8080/"
        },
        "id": "7QZ-fOX42KC8",
        "outputId": "36762e5e-537d-4247-ff1a-11925c1e0451"
      },
      "execution_count": 5,
      "outputs": [
        {
          "output_type": "stream",
          "name": "stdout",
          "text": [
            "Test Accuracy: 0.956\n"
          ]
        }
      ]
    },
    {
      "cell_type": "code",
      "source": [
        "from sklearn import set_config\n",
        "\n",
        "set_config(display='diagram')"
      ],
      "metadata": {
        "id": "SeWv4KvF3Q8y"
      },
      "execution_count": 6,
      "outputs": []
    },
    {
      "cell_type": "code",
      "source": [
        "pipe_lr"
      ],
      "metadata": {
        "colab": {
          "base_uri": "https://localhost:8080/",
          "height": 161
        },
        "id": "a5z9JY954NBo",
        "outputId": "0b11a89e-680e-479e-d00b-c0547af8f780"
      },
      "execution_count": 7,
      "outputs": [
        {
          "output_type": "execute_result",
          "data": {
            "text/plain": [
              "Pipeline(steps=[('standardscaler', StandardScaler()),\n",
              "                ('pca', PCA(n_components=2)),\n",
              "                ('logisticregression', LogisticRegression(random_state=1))])"
            ],
            "text/html": [
              "<style>#sk-7536bfa1-133a-4d01-a691-117974810392 {color: black;background-color: white;}#sk-7536bfa1-133a-4d01-a691-117974810392 pre{padding: 0;}#sk-7536bfa1-133a-4d01-a691-117974810392 div.sk-toggleable {background-color: white;}#sk-7536bfa1-133a-4d01-a691-117974810392 label.sk-toggleable__label {cursor: pointer;display: block;width: 100%;margin-bottom: 0;padding: 0.3em;box-sizing: border-box;text-align: center;}#sk-7536bfa1-133a-4d01-a691-117974810392 label.sk-toggleable__label-arrow:before {content: \"▸\";float: left;margin-right: 0.25em;color: #696969;}#sk-7536bfa1-133a-4d01-a691-117974810392 label.sk-toggleable__label-arrow:hover:before {color: black;}#sk-7536bfa1-133a-4d01-a691-117974810392 div.sk-estimator:hover label.sk-toggleable__label-arrow:before {color: black;}#sk-7536bfa1-133a-4d01-a691-117974810392 div.sk-toggleable__content {max-height: 0;max-width: 0;overflow: hidden;text-align: left;background-color: #f0f8ff;}#sk-7536bfa1-133a-4d01-a691-117974810392 div.sk-toggleable__content pre {margin: 0.2em;color: black;border-radius: 0.25em;background-color: #f0f8ff;}#sk-7536bfa1-133a-4d01-a691-117974810392 input.sk-toggleable__control:checked~div.sk-toggleable__content {max-height: 200px;max-width: 100%;overflow: auto;}#sk-7536bfa1-133a-4d01-a691-117974810392 input.sk-toggleable__control:checked~label.sk-toggleable__label-arrow:before {content: \"▾\";}#sk-7536bfa1-133a-4d01-a691-117974810392 div.sk-estimator input.sk-toggleable__control:checked~label.sk-toggleable__label {background-color: #d4ebff;}#sk-7536bfa1-133a-4d01-a691-117974810392 div.sk-label input.sk-toggleable__control:checked~label.sk-toggleable__label {background-color: #d4ebff;}#sk-7536bfa1-133a-4d01-a691-117974810392 input.sk-hidden--visually {border: 0;clip: rect(1px 1px 1px 1px);clip: rect(1px, 1px, 1px, 1px);height: 1px;margin: -1px;overflow: hidden;padding: 0;position: absolute;width: 1px;}#sk-7536bfa1-133a-4d01-a691-117974810392 div.sk-estimator {font-family: monospace;background-color: #f0f8ff;border: 1px dotted black;border-radius: 0.25em;box-sizing: border-box;margin-bottom: 0.5em;}#sk-7536bfa1-133a-4d01-a691-117974810392 div.sk-estimator:hover {background-color: #d4ebff;}#sk-7536bfa1-133a-4d01-a691-117974810392 div.sk-parallel-item::after {content: \"\";width: 100%;border-bottom: 1px solid gray;flex-grow: 1;}#sk-7536bfa1-133a-4d01-a691-117974810392 div.sk-label:hover label.sk-toggleable__label {background-color: #d4ebff;}#sk-7536bfa1-133a-4d01-a691-117974810392 div.sk-serial::before {content: \"\";position: absolute;border-left: 1px solid gray;box-sizing: border-box;top: 2em;bottom: 0;left: 50%;}#sk-7536bfa1-133a-4d01-a691-117974810392 div.sk-serial {display: flex;flex-direction: column;align-items: center;background-color: white;padding-right: 0.2em;padding-left: 0.2em;}#sk-7536bfa1-133a-4d01-a691-117974810392 div.sk-item {z-index: 1;}#sk-7536bfa1-133a-4d01-a691-117974810392 div.sk-parallel {display: flex;align-items: stretch;justify-content: center;background-color: white;}#sk-7536bfa1-133a-4d01-a691-117974810392 div.sk-parallel::before {content: \"\";position: absolute;border-left: 1px solid gray;box-sizing: border-box;top: 2em;bottom: 0;left: 50%;}#sk-7536bfa1-133a-4d01-a691-117974810392 div.sk-parallel-item {display: flex;flex-direction: column;position: relative;background-color: white;}#sk-7536bfa1-133a-4d01-a691-117974810392 div.sk-parallel-item:first-child::after {align-self: flex-end;width: 50%;}#sk-7536bfa1-133a-4d01-a691-117974810392 div.sk-parallel-item:last-child::after {align-self: flex-start;width: 50%;}#sk-7536bfa1-133a-4d01-a691-117974810392 div.sk-parallel-item:only-child::after {width: 0;}#sk-7536bfa1-133a-4d01-a691-117974810392 div.sk-dashed-wrapped {border: 1px dashed gray;margin: 0 0.4em 0.5em 0.4em;box-sizing: border-box;padding-bottom: 0.4em;background-color: white;position: relative;}#sk-7536bfa1-133a-4d01-a691-117974810392 div.sk-label label {font-family: monospace;font-weight: bold;background-color: white;display: inline-block;line-height: 1.2em;}#sk-7536bfa1-133a-4d01-a691-117974810392 div.sk-label-container {position: relative;z-index: 2;text-align: center;}#sk-7536bfa1-133a-4d01-a691-117974810392 div.sk-container {/* jupyter's `normalize.less` sets `[hidden] { display: none; }` but bootstrap.min.css set `[hidden] { display: none !important; }` so we also need the `!important` here to be able to override the default hidden behavior on the sphinx rendered scikit-learn.org. See: https://github.com/scikit-learn/scikit-learn/issues/21755 */display: inline-block !important;position: relative;}#sk-7536bfa1-133a-4d01-a691-117974810392 div.sk-text-repr-fallback {display: none;}</style><div id=\"sk-7536bfa1-133a-4d01-a691-117974810392\" class=\"sk-top-container\"><div class=\"sk-text-repr-fallback\"><pre>Pipeline(steps=[(&#x27;standardscaler&#x27;, StandardScaler()),\n",
              "                (&#x27;pca&#x27;, PCA(n_components=2)),\n",
              "                (&#x27;logisticregression&#x27;, LogisticRegression(random_state=1))])</pre><b>Please rerun this cell to show the HTML repr or trust the notebook.</b></div><div class=\"sk-container\" hidden><div class=\"sk-item sk-dashed-wrapped\"><div class=\"sk-label-container\"><div class=\"sk-label sk-toggleable\"><input class=\"sk-toggleable__control sk-hidden--visually\" id=\"9e0e9351-1667-4db2-b5d1-95eec2f71585\" type=\"checkbox\" ><label for=\"9e0e9351-1667-4db2-b5d1-95eec2f71585\" class=\"sk-toggleable__label sk-toggleable__label-arrow\">Pipeline</label><div class=\"sk-toggleable__content\"><pre>Pipeline(steps=[(&#x27;standardscaler&#x27;, StandardScaler()),\n",
              "                (&#x27;pca&#x27;, PCA(n_components=2)),\n",
              "                (&#x27;logisticregression&#x27;, LogisticRegression(random_state=1))])</pre></div></div></div><div class=\"sk-serial\"><div class=\"sk-item\"><div class=\"sk-estimator sk-toggleable\"><input class=\"sk-toggleable__control sk-hidden--visually\" id=\"9e9a4858-6bfb-4c9f-a4ec-a2148a7f1ef1\" type=\"checkbox\" ><label for=\"9e9a4858-6bfb-4c9f-a4ec-a2148a7f1ef1\" class=\"sk-toggleable__label sk-toggleable__label-arrow\">StandardScaler</label><div class=\"sk-toggleable__content\"><pre>StandardScaler()</pre></div></div></div><div class=\"sk-item\"><div class=\"sk-estimator sk-toggleable\"><input class=\"sk-toggleable__control sk-hidden--visually\" id=\"2a7c9410-adcd-47fe-8fec-8fd99b4ca8ab\" type=\"checkbox\" ><label for=\"2a7c9410-adcd-47fe-8fec-8fd99b4ca8ab\" class=\"sk-toggleable__label sk-toggleable__label-arrow\">PCA</label><div class=\"sk-toggleable__content\"><pre>PCA(n_components=2)</pre></div></div></div><div class=\"sk-item\"><div class=\"sk-estimator sk-toggleable\"><input class=\"sk-toggleable__control sk-hidden--visually\" id=\"a39db766-c5f3-4cb1-833c-e13c9d9ac221\" type=\"checkbox\" ><label for=\"a39db766-c5f3-4cb1-833c-e13c9d9ac221\" class=\"sk-toggleable__label sk-toggleable__label-arrow\">LogisticRegression</label><div class=\"sk-toggleable__content\"><pre>LogisticRegression(random_state=1)</pre></div></div></div></div></div></div></div>"
            ]
          },
          "metadata": {},
          "execution_count": 7
        }
      ]
    },
    {
      "cell_type": "code",
      "source": [],
      "metadata": {
        "id": "yUMh_neX4PCu"
      },
      "execution_count": null,
      "outputs": []
    }
  ]
}