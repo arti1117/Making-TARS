{
  "nbformat": 4,
  "nbformat_minor": 0,
  "metadata": {
    "colab": {
      "provenance": [],
      "authorship_tag": "ABX9TyNInl78yOQNtmXoSGI39xgK"
    },
    "kernelspec": {
      "name": "python3",
      "display_name": "Python 3"
    },
    "language_info": {
      "name": "python"
    }
  },
  "cells": [
    {
      "cell_type": "code",
      "execution_count": 1,
      "metadata": {
        "id": "0Rq2_KU-0H2c"
      },
      "outputs": [],
      "source": [
        "import pandas as pd\n",
        "df = pd.read_csv(\"https://archive.ics.uci.edu/ml/machine-learning-databases/breast-cancer-wisconsin/wdbc.data\", header=None)"
      ]
    },
    {
      "cell_type": "code",
      "source": [
        "from sklearn.preprocessing import LabelEncoder\n",
        "\n",
        "X = df.loc[:, 2:].values\n",
        "y = df.loc[:, 1].values\n",
        "\n",
        "le = LabelEncoder()\n",
        "y = le.fit_transform(y)\n",
        "\n",
        "le.classes_"
      ],
      "metadata": {
        "id": "bUn0HXNd09Hw",
        "colab": {
          "base_uri": "https://localhost:8080/"
        },
        "outputId": "266ca0d4-55a7-4ebe-a0e2-c89011bbc650"
      },
      "execution_count": 2,
      "outputs": [
        {
          "output_type": "execute_result",
          "data": {
            "text/plain": [
              "array(['B', 'M'], dtype=object)"
            ]
          },
          "metadata": {},
          "execution_count": 2
        }
      ]
    },
    {
      "cell_type": "code",
      "source": [
        "le.transform([\"B\", \"M\"])"
      ],
      "metadata": {
        "colab": {
          "base_uri": "https://localhost:8080/"
        },
        "id": "KLrJPLB01ug8",
        "outputId": "9f730553-18ce-4876-9d54-a0efd5a86305"
      },
      "execution_count": 3,
      "outputs": [
        {
          "output_type": "execute_result",
          "data": {
            "text/plain": [
              "array([0, 1])"
            ]
          },
          "metadata": {},
          "execution_count": 3
        }
      ]
    },
    {
      "cell_type": "code",
      "source": [
        "from sklearn.model_selection import train_test_split\n",
        "\n",
        "X_train, X_test, y_train, y_test = train_test_split(\n",
        "    X, y, test_size=0.2, stratify=y, random_state=1\n",
        ")"
      ],
      "metadata": {
        "id": "jPulfrlt11UH"
      },
      "execution_count": 4,
      "outputs": []
    },
    {
      "cell_type": "code",
      "source": [
        "from sklearn.preprocessing import StandardScaler\n",
        "from sklearn.decomposition import PCA\n",
        "from sklearn.linear_model import LogisticRegression\n",
        "from sklearn.pipeline import make_pipeline\n",
        "\n",
        "pipe_lr = make_pipeline(StandardScaler(),\n",
        "                        PCA(n_components=2),\n",
        "                        LogisticRegression(random_state=1))\n",
        "pipe_lr.fit(X_train, y_train)\n",
        "y_pred = pipe_lr.predict(X_test)\n",
        "\n",
        "print(\"Test Accuracy: %.3f\" % pipe_lr.score(X_test, y_test))"
      ],
      "metadata": {
        "colab": {
          "base_uri": "https://localhost:8080/"
        },
        "id": "7QZ-fOX42KC8",
        "outputId": "b14ed6e9-fe9f-4f68-a2e7-936f0aab163d"
      },
      "execution_count": 5,
      "outputs": [
        {
          "output_type": "stream",
          "name": "stdout",
          "text": [
            "Test Accuracy: 0.956\n"
          ]
        }
      ]
    },
    {
      "cell_type": "code",
      "source": [
        "from sklearn import set_config\n",
        "\n",
        "set_config(display='diagram')"
      ],
      "metadata": {
        "id": "SeWv4KvF3Q8y"
      },
      "execution_count": 6,
      "outputs": []
    },
    {
      "cell_type": "code",
      "source": [
        "pipe_lr"
      ],
      "metadata": {
        "id": "a5z9JY954NBo",
        "outputId": "e10f6853-2f1a-4ddd-fb92-3327ca194d31",
        "colab": {
          "base_uri": "https://localhost:8080/",
          "height": 161
        }
      },
      "execution_count": 7,
      "outputs": [
        {
          "output_type": "execute_result",
          "data": {
            "text/plain": [
              "Pipeline(steps=[('standardscaler', StandardScaler()),\n",
              "                ('pca', PCA(n_components=2)),\n",
              "                ('logisticregression', LogisticRegression(random_state=1))])"
            ],
            "text/html": [
              "<style>#sk-ec6d1b1f-38eb-4e44-a203-4ca50621c943 {color: black;background-color: white;}#sk-ec6d1b1f-38eb-4e44-a203-4ca50621c943 pre{padding: 0;}#sk-ec6d1b1f-38eb-4e44-a203-4ca50621c943 div.sk-toggleable {background-color: white;}#sk-ec6d1b1f-38eb-4e44-a203-4ca50621c943 label.sk-toggleable__label {cursor: pointer;display: block;width: 100%;margin-bottom: 0;padding: 0.3em;box-sizing: border-box;text-align: center;}#sk-ec6d1b1f-38eb-4e44-a203-4ca50621c943 label.sk-toggleable__label-arrow:before {content: \"▸\";float: left;margin-right: 0.25em;color: #696969;}#sk-ec6d1b1f-38eb-4e44-a203-4ca50621c943 label.sk-toggleable__label-arrow:hover:before {color: black;}#sk-ec6d1b1f-38eb-4e44-a203-4ca50621c943 div.sk-estimator:hover label.sk-toggleable__label-arrow:before {color: black;}#sk-ec6d1b1f-38eb-4e44-a203-4ca50621c943 div.sk-toggleable__content {max-height: 0;max-width: 0;overflow: hidden;text-align: left;background-color: #f0f8ff;}#sk-ec6d1b1f-38eb-4e44-a203-4ca50621c943 div.sk-toggleable__content pre {margin: 0.2em;color: black;border-radius: 0.25em;background-color: #f0f8ff;}#sk-ec6d1b1f-38eb-4e44-a203-4ca50621c943 input.sk-toggleable__control:checked~div.sk-toggleable__content {max-height: 200px;max-width: 100%;overflow: auto;}#sk-ec6d1b1f-38eb-4e44-a203-4ca50621c943 input.sk-toggleable__control:checked~label.sk-toggleable__label-arrow:before {content: \"▾\";}#sk-ec6d1b1f-38eb-4e44-a203-4ca50621c943 div.sk-estimator input.sk-toggleable__control:checked~label.sk-toggleable__label {background-color: #d4ebff;}#sk-ec6d1b1f-38eb-4e44-a203-4ca50621c943 div.sk-label input.sk-toggleable__control:checked~label.sk-toggleable__label {background-color: #d4ebff;}#sk-ec6d1b1f-38eb-4e44-a203-4ca50621c943 input.sk-hidden--visually {border: 0;clip: rect(1px 1px 1px 1px);clip: rect(1px, 1px, 1px, 1px);height: 1px;margin: -1px;overflow: hidden;padding: 0;position: absolute;width: 1px;}#sk-ec6d1b1f-38eb-4e44-a203-4ca50621c943 div.sk-estimator {font-family: monospace;background-color: #f0f8ff;border: 1px dotted black;border-radius: 0.25em;box-sizing: border-box;margin-bottom: 0.5em;}#sk-ec6d1b1f-38eb-4e44-a203-4ca50621c943 div.sk-estimator:hover {background-color: #d4ebff;}#sk-ec6d1b1f-38eb-4e44-a203-4ca50621c943 div.sk-parallel-item::after {content: \"\";width: 100%;border-bottom: 1px solid gray;flex-grow: 1;}#sk-ec6d1b1f-38eb-4e44-a203-4ca50621c943 div.sk-label:hover label.sk-toggleable__label {background-color: #d4ebff;}#sk-ec6d1b1f-38eb-4e44-a203-4ca50621c943 div.sk-serial::before {content: \"\";position: absolute;border-left: 1px solid gray;box-sizing: border-box;top: 2em;bottom: 0;left: 50%;}#sk-ec6d1b1f-38eb-4e44-a203-4ca50621c943 div.sk-serial {display: flex;flex-direction: column;align-items: center;background-color: white;padding-right: 0.2em;padding-left: 0.2em;}#sk-ec6d1b1f-38eb-4e44-a203-4ca50621c943 div.sk-item {z-index: 1;}#sk-ec6d1b1f-38eb-4e44-a203-4ca50621c943 div.sk-parallel {display: flex;align-items: stretch;justify-content: center;background-color: white;}#sk-ec6d1b1f-38eb-4e44-a203-4ca50621c943 div.sk-parallel::before {content: \"\";position: absolute;border-left: 1px solid gray;box-sizing: border-box;top: 2em;bottom: 0;left: 50%;}#sk-ec6d1b1f-38eb-4e44-a203-4ca50621c943 div.sk-parallel-item {display: flex;flex-direction: column;position: relative;background-color: white;}#sk-ec6d1b1f-38eb-4e44-a203-4ca50621c943 div.sk-parallel-item:first-child::after {align-self: flex-end;width: 50%;}#sk-ec6d1b1f-38eb-4e44-a203-4ca50621c943 div.sk-parallel-item:last-child::after {align-self: flex-start;width: 50%;}#sk-ec6d1b1f-38eb-4e44-a203-4ca50621c943 div.sk-parallel-item:only-child::after {width: 0;}#sk-ec6d1b1f-38eb-4e44-a203-4ca50621c943 div.sk-dashed-wrapped {border: 1px dashed gray;margin: 0 0.4em 0.5em 0.4em;box-sizing: border-box;padding-bottom: 0.4em;background-color: white;position: relative;}#sk-ec6d1b1f-38eb-4e44-a203-4ca50621c943 div.sk-label label {font-family: monospace;font-weight: bold;background-color: white;display: inline-block;line-height: 1.2em;}#sk-ec6d1b1f-38eb-4e44-a203-4ca50621c943 div.sk-label-container {position: relative;z-index: 2;text-align: center;}#sk-ec6d1b1f-38eb-4e44-a203-4ca50621c943 div.sk-container {/* jupyter's `normalize.less` sets `[hidden] { display: none; }` but bootstrap.min.css set `[hidden] { display: none !important; }` so we also need the `!important` here to be able to override the default hidden behavior on the sphinx rendered scikit-learn.org. See: https://github.com/scikit-learn/scikit-learn/issues/21755 */display: inline-block !important;position: relative;}#sk-ec6d1b1f-38eb-4e44-a203-4ca50621c943 div.sk-text-repr-fallback {display: none;}</style><div id=\"sk-ec6d1b1f-38eb-4e44-a203-4ca50621c943\" class=\"sk-top-container\"><div class=\"sk-text-repr-fallback\"><pre>Pipeline(steps=[(&#x27;standardscaler&#x27;, StandardScaler()),\n",
              "                (&#x27;pca&#x27;, PCA(n_components=2)),\n",
              "                (&#x27;logisticregression&#x27;, LogisticRegression(random_state=1))])</pre><b>Please rerun this cell to show the HTML repr or trust the notebook.</b></div><div class=\"sk-container\" hidden><div class=\"sk-item sk-dashed-wrapped\"><div class=\"sk-label-container\"><div class=\"sk-label sk-toggleable\"><input class=\"sk-toggleable__control sk-hidden--visually\" id=\"a71986f3-5329-418d-af48-78b822e0f6f0\" type=\"checkbox\" ><label for=\"a71986f3-5329-418d-af48-78b822e0f6f0\" class=\"sk-toggleable__label sk-toggleable__label-arrow\">Pipeline</label><div class=\"sk-toggleable__content\"><pre>Pipeline(steps=[(&#x27;standardscaler&#x27;, StandardScaler()),\n",
              "                (&#x27;pca&#x27;, PCA(n_components=2)),\n",
              "                (&#x27;logisticregression&#x27;, LogisticRegression(random_state=1))])</pre></div></div></div><div class=\"sk-serial\"><div class=\"sk-item\"><div class=\"sk-estimator sk-toggleable\"><input class=\"sk-toggleable__control sk-hidden--visually\" id=\"cd259940-55f4-475a-b86c-7660fb45fff3\" type=\"checkbox\" ><label for=\"cd259940-55f4-475a-b86c-7660fb45fff3\" class=\"sk-toggleable__label sk-toggleable__label-arrow\">StandardScaler</label><div class=\"sk-toggleable__content\"><pre>StandardScaler()</pre></div></div></div><div class=\"sk-item\"><div class=\"sk-estimator sk-toggleable\"><input class=\"sk-toggleable__control sk-hidden--visually\" id=\"02555233-5a5a-4452-a0b9-29034be67b45\" type=\"checkbox\" ><label for=\"02555233-5a5a-4452-a0b9-29034be67b45\" class=\"sk-toggleable__label sk-toggleable__label-arrow\">PCA</label><div class=\"sk-toggleable__content\"><pre>PCA(n_components=2)</pre></div></div></div><div class=\"sk-item\"><div class=\"sk-estimator sk-toggleable\"><input class=\"sk-toggleable__control sk-hidden--visually\" id=\"a351b180-79b6-4867-a5f9-e198f3f817e6\" type=\"checkbox\" ><label for=\"a351b180-79b6-4867-a5f9-e198f3f817e6\" class=\"sk-toggleable__label sk-toggleable__label-arrow\">LogisticRegression</label><div class=\"sk-toggleable__content\"><pre>LogisticRegression(random_state=1)</pre></div></div></div></div></div></div></div>"
            ]
          },
          "metadata": {},
          "execution_count": 7
        }
      ]
    },
    {
      "cell_type": "code",
      "source": [
        "import numpy as np\n",
        "from sklearn.model_selection import StratifiedKFold"
      ],
      "metadata": {
        "id": "yUMh_neX4PCu"
      },
      "execution_count": 8,
      "outputs": []
    },
    {
      "cell_type": "code",
      "source": [
        "kfold = StratifiedKFold(n_splits=10).split(X_train, y_train)\n",
        "scores = []\n",
        "\n",
        "for k, (train, test) in enumerate(kfold):\n",
        "  pipe_lr.fit(X_train[train], y_train[train])\n",
        "  score = pipe_lr.score(X_train[test], y_train[test])\n",
        "  scores.append(score)\n",
        "  print(f\"Fold: {k+1}, Class Distribution: {np.bincount(y_train[train])}, Accuracy: {score}\")"
      ],
      "metadata": {
        "colab": {
          "base_uri": "https://localhost:8080/"
        },
        "id": "uVhwZYjiDvaf",
        "outputId": "0f0aee5a-0b90-4f5a-e25e-00ad7334e710"
      },
      "execution_count": 9,
      "outputs": [
        {
          "output_type": "stream",
          "name": "stdout",
          "text": [
            "Fold: 1, Class Distribution: [256 153], Accuracy: 0.9347826086956522\n",
            "Fold: 2, Class Distribution: [256 153], Accuracy: 0.9347826086956522\n",
            "Fold: 3, Class Distribution: [256 153], Accuracy: 0.9565217391304348\n",
            "Fold: 4, Class Distribution: [256 153], Accuracy: 0.9565217391304348\n",
            "Fold: 5, Class Distribution: [256 153], Accuracy: 0.9347826086956522\n",
            "Fold: 6, Class Distribution: [257 153], Accuracy: 0.9555555555555556\n",
            "Fold: 7, Class Distribution: [257 153], Accuracy: 0.9777777777777777\n",
            "Fold: 8, Class Distribution: [257 153], Accuracy: 0.9333333333333333\n",
            "Fold: 9, Class Distribution: [257 153], Accuracy: 0.9555555555555556\n",
            "Fold: 10, Class Distribution: [257 153], Accuracy: 0.9555555555555556\n"
          ]
        }
      ]
    },
    {
      "cell_type": "code",
      "source": [
        "print(f\"CV Accuracy: {np.mean(scores)} +/- {np.std(scores)}\")"
      ],
      "metadata": {
        "colab": {
          "base_uri": "https://localhost:8080/"
        },
        "id": "-eb7X4JAEVk2",
        "outputId": "6cae6f78-b6df-40ca-a8a4-210bc7ffee38"
      },
      "execution_count": 10,
      "outputs": [
        {
          "output_type": "stream",
          "name": "stdout",
          "text": [
            "CV Accuracy: 0.9495169082125603 +/- 0.013854294239660376\n"
          ]
        }
      ]
    },
    {
      "cell_type": "code",
      "source": [],
      "metadata": {
        "id": "He6YB4A6EeN8"
      },
      "execution_count": null,
      "outputs": []
    }
  ]
}