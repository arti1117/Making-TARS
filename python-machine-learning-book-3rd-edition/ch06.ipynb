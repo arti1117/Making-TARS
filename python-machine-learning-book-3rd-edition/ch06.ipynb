{
  "nbformat": 4,
  "nbformat_minor": 0,
  "metadata": {
    "colab": {
      "provenance": [],
      "authorship_tag": "ABX9TyO9XiOzCFNSNFXvSYqM/3Xy"
    },
    "kernelspec": {
      "name": "python3",
      "display_name": "Python 3"
    },
    "language_info": {
      "name": "python"
    }
  },
  "cells": [
    {
      "cell_type": "code",
      "execution_count": 1,
      "metadata": {
        "id": "0Rq2_KU-0H2c"
      },
      "outputs": [],
      "source": [
        "import pandas as pd\n",
        "df = pd.read_csv(\"https://archive.ics.uci.edu/ml/machine-learning-databases/breast-cancer-wisconsin/wdbc.data\", header=None)"
      ]
    },
    {
      "cell_type": "code",
      "source": [
        "from sklearn.preprocessing import LabelEncoder\n",
        "\n",
        "X = df.loc[:, 2:].values\n",
        "y = df.loc[:, 1].values\n",
        "\n",
        "le = LabelEncoder()\n",
        "y = le.fit_transform(y)\n",
        "\n",
        "le.classes_"
      ],
      "metadata": {
        "id": "bUn0HXNd09Hw",
        "colab": {
          "base_uri": "https://localhost:8080/"
        },
        "outputId": "3dd5b79c-8d8f-4271-f25c-830e8310bb27"
      },
      "execution_count": 2,
      "outputs": [
        {
          "output_type": "execute_result",
          "data": {
            "text/plain": [
              "array(['B', 'M'], dtype=object)"
            ]
          },
          "metadata": {},
          "execution_count": 2
        }
      ]
    },
    {
      "cell_type": "code",
      "source": [
        "le.transform([\"B\", \"M\"])"
      ],
      "metadata": {
        "colab": {
          "base_uri": "https://localhost:8080/"
        },
        "id": "KLrJPLB01ug8",
        "outputId": "a839707a-fd68-4d6f-fb56-260691e81030"
      },
      "execution_count": 3,
      "outputs": [
        {
          "output_type": "execute_result",
          "data": {
            "text/plain": [
              "array([0, 1])"
            ]
          },
          "metadata": {},
          "execution_count": 3
        }
      ]
    },
    {
      "cell_type": "code",
      "source": [
        "from sklearn.model_selection import train_test_split\n",
        "\n",
        "X_train, X_test, y_train, y_test = train_test_split(\n",
        "    X, y, test_size=0.2, stratify=y, random_state=1\n",
        ")"
      ],
      "metadata": {
        "id": "jPulfrlt11UH"
      },
      "execution_count": 4,
      "outputs": []
    },
    {
      "cell_type": "code",
      "source": [
        "from sklearn.preprocessing import StandardScaler\n",
        "from sklearn.decomposition import PCA\n",
        "from sklearn.linear_model import LogisticRegression\n",
        "from sklearn.pipeline import make_pipeline\n",
        "\n",
        "pipe_lr = make_pipeline(StandardScaler(),\n",
        "                        PCA(n_components=2),\n",
        "                        LogisticRegression(random_state=1))\n",
        "pipe_lr.fit(X_train, y_train)\n",
        "y_pred = pipe_lr.predict(X_test)\n",
        "\n",
        "print(\"Test Accuracy: %.3f\" % pipe_lr.score(X_test, y_test))"
      ],
      "metadata": {
        "colab": {
          "base_uri": "https://localhost:8080/"
        },
        "id": "7QZ-fOX42KC8",
        "outputId": "c2e6a498-4122-40a9-c429-34f69223fa24"
      },
      "execution_count": 5,
      "outputs": [
        {
          "output_type": "stream",
          "name": "stdout",
          "text": [
            "Test Accuracy: 0.956\n"
          ]
        }
      ]
    },
    {
      "cell_type": "code",
      "source": [
        "from sklearn import set_config\n",
        "\n",
        "set_config(display='diagram')"
      ],
      "metadata": {
        "id": "SeWv4KvF3Q8y"
      },
      "execution_count": 6,
      "outputs": []
    },
    {
      "cell_type": "code",
      "source": [
        "pipe_lr"
      ],
      "metadata": {
        "id": "a5z9JY954NBo",
        "outputId": "928a7d7a-5649-431c-d0c0-01448ce3f7ab",
        "colab": {
          "base_uri": "https://localhost:8080/",
          "height": 161
        }
      },
      "execution_count": 7,
      "outputs": [
        {
          "output_type": "execute_result",
          "data": {
            "text/plain": [
              "Pipeline(steps=[('standardscaler', StandardScaler()),\n",
              "                ('pca', PCA(n_components=2)),\n",
              "                ('logisticregression', LogisticRegression(random_state=1))])"
            ],
            "text/html": [
              "<style>#sk-2dbf26ba-3b3c-48a1-b15f-a4c2f18a65e4 {color: black;background-color: white;}#sk-2dbf26ba-3b3c-48a1-b15f-a4c2f18a65e4 pre{padding: 0;}#sk-2dbf26ba-3b3c-48a1-b15f-a4c2f18a65e4 div.sk-toggleable {background-color: white;}#sk-2dbf26ba-3b3c-48a1-b15f-a4c2f18a65e4 label.sk-toggleable__label {cursor: pointer;display: block;width: 100%;margin-bottom: 0;padding: 0.3em;box-sizing: border-box;text-align: center;}#sk-2dbf26ba-3b3c-48a1-b15f-a4c2f18a65e4 label.sk-toggleable__label-arrow:before {content: \"▸\";float: left;margin-right: 0.25em;color: #696969;}#sk-2dbf26ba-3b3c-48a1-b15f-a4c2f18a65e4 label.sk-toggleable__label-arrow:hover:before {color: black;}#sk-2dbf26ba-3b3c-48a1-b15f-a4c2f18a65e4 div.sk-estimator:hover label.sk-toggleable__label-arrow:before {color: black;}#sk-2dbf26ba-3b3c-48a1-b15f-a4c2f18a65e4 div.sk-toggleable__content {max-height: 0;max-width: 0;overflow: hidden;text-align: left;background-color: #f0f8ff;}#sk-2dbf26ba-3b3c-48a1-b15f-a4c2f18a65e4 div.sk-toggleable__content pre {margin: 0.2em;color: black;border-radius: 0.25em;background-color: #f0f8ff;}#sk-2dbf26ba-3b3c-48a1-b15f-a4c2f18a65e4 input.sk-toggleable__control:checked~div.sk-toggleable__content {max-height: 200px;max-width: 100%;overflow: auto;}#sk-2dbf26ba-3b3c-48a1-b15f-a4c2f18a65e4 input.sk-toggleable__control:checked~label.sk-toggleable__label-arrow:before {content: \"▾\";}#sk-2dbf26ba-3b3c-48a1-b15f-a4c2f18a65e4 div.sk-estimator input.sk-toggleable__control:checked~label.sk-toggleable__label {background-color: #d4ebff;}#sk-2dbf26ba-3b3c-48a1-b15f-a4c2f18a65e4 div.sk-label input.sk-toggleable__control:checked~label.sk-toggleable__label {background-color: #d4ebff;}#sk-2dbf26ba-3b3c-48a1-b15f-a4c2f18a65e4 input.sk-hidden--visually {border: 0;clip: rect(1px 1px 1px 1px);clip: rect(1px, 1px, 1px, 1px);height: 1px;margin: -1px;overflow: hidden;padding: 0;position: absolute;width: 1px;}#sk-2dbf26ba-3b3c-48a1-b15f-a4c2f18a65e4 div.sk-estimator {font-family: monospace;background-color: #f0f8ff;border: 1px dotted black;border-radius: 0.25em;box-sizing: border-box;margin-bottom: 0.5em;}#sk-2dbf26ba-3b3c-48a1-b15f-a4c2f18a65e4 div.sk-estimator:hover {background-color: #d4ebff;}#sk-2dbf26ba-3b3c-48a1-b15f-a4c2f18a65e4 div.sk-parallel-item::after {content: \"\";width: 100%;border-bottom: 1px solid gray;flex-grow: 1;}#sk-2dbf26ba-3b3c-48a1-b15f-a4c2f18a65e4 div.sk-label:hover label.sk-toggleable__label {background-color: #d4ebff;}#sk-2dbf26ba-3b3c-48a1-b15f-a4c2f18a65e4 div.sk-serial::before {content: \"\";position: absolute;border-left: 1px solid gray;box-sizing: border-box;top: 2em;bottom: 0;left: 50%;}#sk-2dbf26ba-3b3c-48a1-b15f-a4c2f18a65e4 div.sk-serial {display: flex;flex-direction: column;align-items: center;background-color: white;padding-right: 0.2em;padding-left: 0.2em;}#sk-2dbf26ba-3b3c-48a1-b15f-a4c2f18a65e4 div.sk-item {z-index: 1;}#sk-2dbf26ba-3b3c-48a1-b15f-a4c2f18a65e4 div.sk-parallel {display: flex;align-items: stretch;justify-content: center;background-color: white;}#sk-2dbf26ba-3b3c-48a1-b15f-a4c2f18a65e4 div.sk-parallel::before {content: \"\";position: absolute;border-left: 1px solid gray;box-sizing: border-box;top: 2em;bottom: 0;left: 50%;}#sk-2dbf26ba-3b3c-48a1-b15f-a4c2f18a65e4 div.sk-parallel-item {display: flex;flex-direction: column;position: relative;background-color: white;}#sk-2dbf26ba-3b3c-48a1-b15f-a4c2f18a65e4 div.sk-parallel-item:first-child::after {align-self: flex-end;width: 50%;}#sk-2dbf26ba-3b3c-48a1-b15f-a4c2f18a65e4 div.sk-parallel-item:last-child::after {align-self: flex-start;width: 50%;}#sk-2dbf26ba-3b3c-48a1-b15f-a4c2f18a65e4 div.sk-parallel-item:only-child::after {width: 0;}#sk-2dbf26ba-3b3c-48a1-b15f-a4c2f18a65e4 div.sk-dashed-wrapped {border: 1px dashed gray;margin: 0 0.4em 0.5em 0.4em;box-sizing: border-box;padding-bottom: 0.4em;background-color: white;position: relative;}#sk-2dbf26ba-3b3c-48a1-b15f-a4c2f18a65e4 div.sk-label label {font-family: monospace;font-weight: bold;background-color: white;display: inline-block;line-height: 1.2em;}#sk-2dbf26ba-3b3c-48a1-b15f-a4c2f18a65e4 div.sk-label-container {position: relative;z-index: 2;text-align: center;}#sk-2dbf26ba-3b3c-48a1-b15f-a4c2f18a65e4 div.sk-container {/* jupyter's `normalize.less` sets `[hidden] { display: none; }` but bootstrap.min.css set `[hidden] { display: none !important; }` so we also need the `!important` here to be able to override the default hidden behavior on the sphinx rendered scikit-learn.org. See: https://github.com/scikit-learn/scikit-learn/issues/21755 */display: inline-block !important;position: relative;}#sk-2dbf26ba-3b3c-48a1-b15f-a4c2f18a65e4 div.sk-text-repr-fallback {display: none;}</style><div id=\"sk-2dbf26ba-3b3c-48a1-b15f-a4c2f18a65e4\" class=\"sk-top-container\"><div class=\"sk-text-repr-fallback\"><pre>Pipeline(steps=[(&#x27;standardscaler&#x27;, StandardScaler()),\n",
              "                (&#x27;pca&#x27;, PCA(n_components=2)),\n",
              "                (&#x27;logisticregression&#x27;, LogisticRegression(random_state=1))])</pre><b>Please rerun this cell to show the HTML repr or trust the notebook.</b></div><div class=\"sk-container\" hidden><div class=\"sk-item sk-dashed-wrapped\"><div class=\"sk-label-container\"><div class=\"sk-label sk-toggleable\"><input class=\"sk-toggleable__control sk-hidden--visually\" id=\"e21ddf7e-667a-4af7-b5c3-1e42ee241cb1\" type=\"checkbox\" ><label for=\"e21ddf7e-667a-4af7-b5c3-1e42ee241cb1\" class=\"sk-toggleable__label sk-toggleable__label-arrow\">Pipeline</label><div class=\"sk-toggleable__content\"><pre>Pipeline(steps=[(&#x27;standardscaler&#x27;, StandardScaler()),\n",
              "                (&#x27;pca&#x27;, PCA(n_components=2)),\n",
              "                (&#x27;logisticregression&#x27;, LogisticRegression(random_state=1))])</pre></div></div></div><div class=\"sk-serial\"><div class=\"sk-item\"><div class=\"sk-estimator sk-toggleable\"><input class=\"sk-toggleable__control sk-hidden--visually\" id=\"ab523894-ec0e-4283-9907-46b99bd8e890\" type=\"checkbox\" ><label for=\"ab523894-ec0e-4283-9907-46b99bd8e890\" class=\"sk-toggleable__label sk-toggleable__label-arrow\">StandardScaler</label><div class=\"sk-toggleable__content\"><pre>StandardScaler()</pre></div></div></div><div class=\"sk-item\"><div class=\"sk-estimator sk-toggleable\"><input class=\"sk-toggleable__control sk-hidden--visually\" id=\"edab38f5-49b3-4228-836f-fc478a4b1974\" type=\"checkbox\" ><label for=\"edab38f5-49b3-4228-836f-fc478a4b1974\" class=\"sk-toggleable__label sk-toggleable__label-arrow\">PCA</label><div class=\"sk-toggleable__content\"><pre>PCA(n_components=2)</pre></div></div></div><div class=\"sk-item\"><div class=\"sk-estimator sk-toggleable\"><input class=\"sk-toggleable__control sk-hidden--visually\" id=\"17f8a4ac-ac4d-4014-b9dd-f3b356e61739\" type=\"checkbox\" ><label for=\"17f8a4ac-ac4d-4014-b9dd-f3b356e61739\" class=\"sk-toggleable__label sk-toggleable__label-arrow\">LogisticRegression</label><div class=\"sk-toggleable__content\"><pre>LogisticRegression(random_state=1)</pre></div></div></div></div></div></div></div>"
            ]
          },
          "metadata": {},
          "execution_count": 7
        }
      ]
    },
    {
      "cell_type": "code",
      "source": [
        "import numpy as np\n",
        "from sklearn.model_selection import StratifiedKFold"
      ],
      "metadata": {
        "id": "yUMh_neX4PCu"
      },
      "execution_count": 8,
      "outputs": []
    },
    {
      "cell_type": "code",
      "source": [
        "kfold = StratifiedKFold(n_splits=10).split(X_train, y_train)\n",
        "scores = []\n",
        "\n",
        "for k, (train, test) in enumerate(kfold):\n",
        "  pipe_lr.fit(X_train[train], y_train[train])\n",
        "  score = pipe_lr.score(X_train[test], y_train[test])\n",
        "  scores.append(score)\n",
        "  print(f\"Fold: {k+1}, Class Distribution: {np.bincount(y_train[train])}, Accuracy: {score}\")"
      ],
      "metadata": {
        "colab": {
          "base_uri": "https://localhost:8080/"
        },
        "id": "uVhwZYjiDvaf",
        "outputId": "a739b4bc-5311-4481-f5ad-22ba3b65eb9d"
      },
      "execution_count": 9,
      "outputs": [
        {
          "output_type": "stream",
          "name": "stdout",
          "text": [
            "Fold: 1, Class Distribution: [256 153], Accuracy: 0.9347826086956522\n",
            "Fold: 2, Class Distribution: [256 153], Accuracy: 0.9347826086956522\n",
            "Fold: 3, Class Distribution: [256 153], Accuracy: 0.9565217391304348\n",
            "Fold: 4, Class Distribution: [256 153], Accuracy: 0.9565217391304348\n",
            "Fold: 5, Class Distribution: [256 153], Accuracy: 0.9347826086956522\n",
            "Fold: 6, Class Distribution: [257 153], Accuracy: 0.9555555555555556\n",
            "Fold: 7, Class Distribution: [257 153], Accuracy: 0.9777777777777777\n",
            "Fold: 8, Class Distribution: [257 153], Accuracy: 0.9333333333333333\n",
            "Fold: 9, Class Distribution: [257 153], Accuracy: 0.9555555555555556\n",
            "Fold: 10, Class Distribution: [257 153], Accuracy: 0.9555555555555556\n"
          ]
        }
      ]
    },
    {
      "cell_type": "code",
      "source": [
        "print(f\"CV Accuracy: {np.mean(scores)} +/- {np.std(scores)}\")"
      ],
      "metadata": {
        "colab": {
          "base_uri": "https://localhost:8080/"
        },
        "id": "-eb7X4JAEVk2",
        "outputId": "f3121c5f-23a8-4c6b-a1f7-e4b09a1ea72d"
      },
      "execution_count": 10,
      "outputs": [
        {
          "output_type": "stream",
          "name": "stdout",
          "text": [
            "CV Accuracy: 0.9495169082125603 +/- 0.013854294239660376\n"
          ]
        }
      ]
    },
    {
      "cell_type": "code",
      "source": [
        "from sklearn.model_selection import cross_val_score"
      ],
      "metadata": {
        "id": "He6YB4A6EeN8"
      },
      "execution_count": 11,
      "outputs": []
    },
    {
      "cell_type": "code",
      "source": [
        "scores = cross_val_score(\n",
        "    estimator=pipe_lr,\n",
        "    X=X_train,\n",
        "    y=y_train,\n",
        "    cv=10,\n",
        "    n_jobs=-1\n",
        ")\n",
        "\n",
        "print(f\"CV Score: {scores}\")\n",
        "print(f\"CV Accuracy: {np.mean(scores):.2f} +/- {np.std(scores):.3f}\")"
      ],
      "metadata": {
        "colab": {
          "base_uri": "https://localhost:8080/"
        },
        "id": "QEupLSf_JmHk",
        "outputId": "57b67049-b16c-4502-e828-bcb715b20276"
      },
      "execution_count": 13,
      "outputs": [
        {
          "output_type": "stream",
          "name": "stdout",
          "text": [
            "CV Score: [0.93478261 0.93478261 0.95652174 0.95652174 0.93478261 0.95555556\n",
            " 0.97777778 0.93333333 0.95555556 0.95555556]\n",
            "CV Accuracy: 0.95 +/- 0.014\n"
          ]
        }
      ]
    },
    {
      "cell_type": "code",
      "source": [
        "from sklearn.model_selection import cross_validate\n",
        "\n",
        "scores = cross_validate(\n",
        "    estimator=pipe_lr,\n",
        "    X=X_train,\n",
        "    y=y_train,\n",
        "    scoring=['accuracy'],\n",
        "    cv=10,\n",
        "    n_jobs=-1,\n",
        ")\n",
        "\n",
        "print(f\"CV Score: {scores}\")\n",
        "print(f\"CV Accuracy: {np.mean(scores['test_accuracy']):.2f} +/- {np.std(scores['test_accuracy']):.3f}\")"
      ],
      "metadata": {
        "colab": {
          "base_uri": "https://localhost:8080/"
        },
        "id": "jNdyflvNJ6ZZ",
        "outputId": "cdbd4408-029c-4ef5-baee-25bb9f3cd322"
      },
      "execution_count": 15,
      "outputs": [
        {
          "output_type": "stream",
          "name": "stdout",
          "text": [
            "CV Score: {'fit_time': array([0.04315567, 0.02490711, 0.02122855, 0.01124072, 0.02552676,\n",
            "       0.01099467, 0.01310682, 0.01034784, 0.01091671, 0.00810504]), 'score_time': array([0.00816035, 0.00824571, 0.00103569, 0.0009563 , 0.00095463,\n",
            "       0.00091529, 0.00114274, 0.00084734, 0.00088143, 0.00057817]), 'test_accuracy': array([0.93478261, 0.93478261, 0.95652174, 0.95652174, 0.93478261,\n",
            "       0.95555556, 0.97777778, 0.93333333, 0.95555556, 0.95555556])}\n",
            "CV Accuracy: 0.95 +/- 0.014\n"
          ]
        }
      ]
    },
    {
      "cell_type": "code",
      "source": [
        "from sklearn.model_selection import cross_val_predict\n",
        "\n",
        "preds = cross_val_predict(\n",
        "    estimator=pipe_lr,\n",
        "    X=X_train,\n",
        "    y=y_train,\n",
        "    cv=10,\n",
        "    n_jobs=-1,\n",
        ")\n",
        "\n",
        "preds[:10]"
      ],
      "metadata": {
        "colab": {
          "base_uri": "https://localhost:8080/"
        },
        "id": "uRw_Xq9GKno3",
        "outputId": "e343c86a-d05e-42b9-d4b6-dd3870424c5a"
      },
      "execution_count": 16,
      "outputs": [
        {
          "output_type": "execute_result",
          "data": {
            "text/plain": [
              "array([0, 0, 0, 0, 0, 0, 0, 1, 1, 1])"
            ]
          },
          "metadata": {},
          "execution_count": 16
        }
      ]
    },
    {
      "cell_type": "code",
      "source": [
        "preds = cross_val_predict(\n",
        "    estimator=pipe_lr,\n",
        "    X=X_train,\n",
        "    y=y_train,\n",
        "    cv=10,\n",
        "    method='predict_proba',\n",
        "    n_jobs=-1,\n",
        ")\n",
        "\n",
        "preds[:10]"
      ],
      "metadata": {
        "colab": {
          "base_uri": "https://localhost:8080/"
        },
        "id": "Z1y-P8HZK_bb",
        "outputId": "08beba2a-9b50-44cd-981e-bcb1a481b3f1"
      },
      "execution_count": 18,
      "outputs": [
        {
          "output_type": "execute_result",
          "data": {
            "text/plain": [
              "array([[9.93982352e-01, 6.01764759e-03],\n",
              "       [7.64328337e-01, 2.35671663e-01],\n",
              "       [9.72683946e-01, 2.73160539e-02],\n",
              "       [8.41658121e-01, 1.58341879e-01],\n",
              "       [9.97144940e-01, 2.85506043e-03],\n",
              "       [9.99803660e-01, 1.96339882e-04],\n",
              "       [9.99324159e-01, 6.75840609e-04],\n",
              "       [2.12145074e-06, 9.99997879e-01],\n",
              "       [1.28668437e-01, 8.71331563e-01],\n",
              "       [7.76260670e-04, 9.99223739e-01]])"
            ]
          },
          "metadata": {},
          "execution_count": 18
        }
      ]
    },
    {
      "cell_type": "code",
      "source": [
        "import matplotlib.pyplot as plt\n",
        "from sklearn.model_selection import learning_curve\n",
        "\n",
        "pipe_lr = make_pipeline(\n",
        "    StandardScaler(),\n",
        "    LogisticRegression(penalty='l2',\n",
        "                       random_state=1,\n",
        "                       max_iter=10000)\n",
        ")\n",
        "\n",
        "train_sizes, train_scores, test_scores = learning_curve(\n",
        "    estimator=pipe_lr,\n",
        "    X=X_train,\n",
        "    y=y_train,\n",
        "    train_sizes=np.linspace(0.1, 1.0, 10),\n",
        "    cv=10,\n",
        "    n_jobs=-1\n",
        ")\n",
        "\n",
        "train_mean = np.mean(train_scores, axis=1)\n",
        "train_std = np.std(train_scores, axis=1)\n",
        "test_mean = np.mean(test_scores, axis=1)\n",
        "test_std = np.std(test_scores, axis=1)\n",
        "\n",
        "plt.plot(\n",
        "    train_sizes, train_mean,\n",
        "    color='blue', marker='o',\n",
        "    markersize=5, label='Training accuracy'\n",
        ")\n",
        "\n",
        "plt.fill_between(\n",
        "    train_sizes,\n",
        "    train_mean + train_std,\n",
        "    train_mean - train_std,\n",
        "    alpha=0.15, color='blue'\n",
        ")\n",
        "\n",
        "plt.plot(\n",
        "    train_sizes, test_mean,\n",
        "    color='green', linestyle='--', marker='s',\n",
        "    markersize=5, label='Validation accuracy'\n",
        ")\n",
        "\n",
        "plt.fill_between(\n",
        "    train_sizes,\n",
        "    test_mean + test_std,\n",
        "    test_mean - test_std,\n",
        "    alpha=0.15, color='green'\n",
        ")\n",
        "\n",
        "plt.grid()\n",
        "plt.xlabel(\"Number of training examples\")\n",
        "plt.ylabel(\"Accuracy\")\n",
        "plt.legend(loc='lower right')\n",
        "plt.ylim([0.8, 1.03])\n",
        "plt.tight_layout()\n",
        "plt.show()"
      ],
      "metadata": {
        "colab": {
          "base_uri": "https://localhost:8080/",
          "height": 297
        },
        "id": "Lv7rzMGMLNKJ",
        "outputId": "4dcb3db3-6953-4034-f031-348fba7026fb"
      },
      "execution_count": 21,
      "outputs": [
        {
          "output_type": "display_data",
          "data": {
            "text/plain": [
              "<Figure size 432x288 with 1 Axes>"
            ],
            "image/png": "[encoded data removed]"
          },
          "metadata": {
            "needs_background": "light"
          }
        }
      ]
    },
    {
      "cell_type": "code",
      "source": [],
      "metadata": {
        "id": "AQyaH1JMNlvd"
      },
      "execution_count": null,
      "outputs": []
    }
  ]
}