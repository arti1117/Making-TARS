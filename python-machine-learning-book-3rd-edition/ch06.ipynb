{
  "nbformat": 4,
  "nbformat_minor": 0,
  "metadata": {
    "colab": {
      "provenance": [],
      "authorship_tag": "ABX9TyNyEotBrS127kxLyo/S96lr"
    },
    "kernelspec": {
      "name": "python3",
      "display_name": "Python 3"
    },
    "language_info": {
      "name": "python"
    }
  },
  "cells": [
    {
      "cell_type": "code",
      "execution_count": 1,
      "metadata": {
        "id": "0Rq2_KU-0H2c"
      },
      "outputs": [],
      "source": [
        "import pandas as pd\n",
        "df = pd.read_csv(\"https://archive.ics.uci.edu/ml/machine-learning-databases/breast-cancer-wisconsin/wdbc.data\", header=None)"
      ]
    },
    {
      "cell_type": "code",
      "source": [
        "from sklearn.preprocessing import LabelEncoder\n",
        "\n",
        "X = df.loc[:, 2:].values\n",
        "y = df.loc[:, 1].values\n",
        "\n",
        "le = LabelEncoder()\n",
        "y = le.fit_transform(y)\n",
        "\n",
        "le.classes_"
      ],
      "metadata": {
        "id": "bUn0HXNd09Hw",
        "colab": {
          "base_uri": "https://localhost:8080/"
        },
        "outputId": "e3a724e8-d755-4f72-c3ec-2444b46756da"
      },
      "execution_count": 2,
      "outputs": [
        {
          "output_type": "execute_result",
          "data": {
            "text/plain": [
              "array(['B', 'M'], dtype=object)"
            ]
          },
          "metadata": {},
          "execution_count": 2
        }
      ]
    },
    {
      "cell_type": "code",
      "source": [
        "le.transform([\"B\", \"M\"])"
      ],
      "metadata": {
        "colab": {
          "base_uri": "https://localhost:8080/"
        },
        "id": "KLrJPLB01ug8",
        "outputId": "b45dd6f7-5143-4ecd-bcaf-b23118178724"
      },
      "execution_count": 3,
      "outputs": [
        {
          "output_type": "execute_result",
          "data": {
            "text/plain": [
              "array([0, 1])"
            ]
          },
          "metadata": {},
          "execution_count": 3
        }
      ]
    },
    {
      "cell_type": "code",
      "source": [
        "from sklearn.model_selection import train_test_split\n",
        "\n",
        "X_train, X_test, y_train, y_test = train_test_split(\n",
        "    X, y, test_size=0.2, stratify=y, random_state=1\n",
        ")"
      ],
      "metadata": {
        "id": "jPulfrlt11UH"
      },
      "execution_count": 4,
      "outputs": []
    },
    {
      "cell_type": "code",
      "source": [
        "from sklearn.preprocessing import StandardScaler\n",
        "from sklearn.decomposition import PCA\n",
        "from sklearn.linear_model import LogisticRegression\n",
        "from sklearn.pipeline import make_pipeline\n",
        "\n",
        "pipe_lr = make_pipeline(StandardScaler(),\n",
        "                        PCA(n_components=2),\n",
        "                        LogisticRegression(random_state=1))\n",
        "pipe_lr.fit(X_train, y_train)\n",
        "y_pred = pipe_lr.predict(X_test)\n",
        "\n",
        "print(\"Test Accuracy: %.3f\" % pipe_lr.score(X_test, y_test))"
      ],
      "metadata": {
        "colab": {
          "base_uri": "https://localhost:8080/"
        },
        "id": "7QZ-fOX42KC8",
        "outputId": "6882ef84-a65b-431a-f7f8-3f8b5838d6f5"
      },
      "execution_count": 5,
      "outputs": [
        {
          "output_type": "stream",
          "name": "stdout",
          "text": [
            "Test Accuracy: 0.956\n"
          ]
        }
      ]
    },
    {
      "cell_type": "code",
      "source": [
        "from sklearn import set_config\n",
        "\n",
        "set_config(display='diagram')"
      ],
      "metadata": {
        "id": "SeWv4KvF3Q8y"
      },
      "execution_count": 6,
      "outputs": []
    },
    {
      "cell_type": "code",
      "source": [
        "pipe_lr"
      ],
      "metadata": {
        "id": "a5z9JY954NBo",
        "outputId": "f5872ca6-cb68-497d-9cb9-9cf9bc2238dd",
        "colab": {
          "base_uri": "https://localhost:8080/",
          "height": 161
        }
      },
      "execution_count": 7,
      "outputs": [
        {
          "output_type": "execute_result",
          "data": {
            "text/plain": [
              "Pipeline(steps=[('standardscaler', StandardScaler()),\n",
              "                ('pca', PCA(n_components=2)),\n",
              "                ('logisticregression', LogisticRegression(random_state=1))])"
            ],
            "text/html": [
              "<style>#sk-96045c66-0876-4c5f-8f25-c0ee7d17f007 {color: black;background-color: white;}#sk-96045c66-0876-4c5f-8f25-c0ee7d17f007 pre{padding: 0;}#sk-96045c66-0876-4c5f-8f25-c0ee7d17f007 div.sk-toggleable {background-color: white;}#sk-96045c66-0876-4c5f-8f25-c0ee7d17f007 label.sk-toggleable__label {cursor: pointer;display: block;width: 100%;margin-bottom: 0;padding: 0.3em;box-sizing: border-box;text-align: center;}#sk-96045c66-0876-4c5f-8f25-c0ee7d17f007 label.sk-toggleable__label-arrow:before {content: \"▸\";float: left;margin-right: 0.25em;color: #696969;}#sk-96045c66-0876-4c5f-8f25-c0ee7d17f007 label.sk-toggleable__label-arrow:hover:before {color: black;}#sk-96045c66-0876-4c5f-8f25-c0ee7d17f007 div.sk-estimator:hover label.sk-toggleable__label-arrow:before {color: black;}#sk-96045c66-0876-4c5f-8f25-c0ee7d17f007 div.sk-toggleable__content {max-height: 0;max-width: 0;overflow: hidden;text-align: left;background-color: #f0f8ff;}#sk-96045c66-0876-4c5f-8f25-c0ee7d17f007 div.sk-toggleable__content pre {margin: 0.2em;color: black;border-radius: 0.25em;background-color: #f0f8ff;}#sk-96045c66-0876-4c5f-8f25-c0ee7d17f007 input.sk-toggleable__control:checked~div.sk-toggleable__content {max-height: 200px;max-width: 100%;overflow: auto;}#sk-96045c66-0876-4c5f-8f25-c0ee7d17f007 input.sk-toggleable__control:checked~label.sk-toggleable__label-arrow:before {content: \"▾\";}#sk-96045c66-0876-4c5f-8f25-c0ee7d17f007 div.sk-estimator input.sk-toggleable__control:checked~label.sk-toggleable__label {background-color: #d4ebff;}#sk-96045c66-0876-4c5f-8f25-c0ee7d17f007 div.sk-label input.sk-toggleable__control:checked~label.sk-toggleable__label {background-color: #d4ebff;}#sk-96045c66-0876-4c5f-8f25-c0ee7d17f007 input.sk-hidden--visually {border: 0;clip: rect(1px 1px 1px 1px);clip: rect(1px, 1px, 1px, 1px);height: 1px;margin: -1px;overflow: hidden;padding: 0;position: absolute;width: 1px;}#sk-96045c66-0876-4c5f-8f25-c0ee7d17f007 div.sk-estimator {font-family: monospace;background-color: #f0f8ff;border: 1px dotted black;border-radius: 0.25em;box-sizing: border-box;margin-bottom: 0.5em;}#sk-96045c66-0876-4c5f-8f25-c0ee7d17f007 div.sk-estimator:hover {background-color: #d4ebff;}#sk-96045c66-0876-4c5f-8f25-c0ee7d17f007 div.sk-parallel-item::after {content: \"\";width: 100%;border-bottom: 1px solid gray;flex-grow: 1;}#sk-96045c66-0876-4c5f-8f25-c0ee7d17f007 div.sk-label:hover label.sk-toggleable__label {background-color: #d4ebff;}#sk-96045c66-0876-4c5f-8f25-c0ee7d17f007 div.sk-serial::before {content: \"\";position: absolute;border-left: 1px solid gray;box-sizing: border-box;top: 2em;bottom: 0;left: 50%;}#sk-96045c66-0876-4c5f-8f25-c0ee7d17f007 div.sk-serial {display: flex;flex-direction: column;align-items: center;background-color: white;padding-right: 0.2em;padding-left: 0.2em;}#sk-96045c66-0876-4c5f-8f25-c0ee7d17f007 div.sk-item {z-index: 1;}#sk-96045c66-0876-4c5f-8f25-c0ee7d17f007 div.sk-parallel {display: flex;align-items: stretch;justify-content: center;background-color: white;}#sk-96045c66-0876-4c5f-8f25-c0ee7d17f007 div.sk-parallel::before {content: \"\";position: absolute;border-left: 1px solid gray;box-sizing: border-box;top: 2em;bottom: 0;left: 50%;}#sk-96045c66-0876-4c5f-8f25-c0ee7d17f007 div.sk-parallel-item {display: flex;flex-direction: column;position: relative;background-color: white;}#sk-96045c66-0876-4c5f-8f25-c0ee7d17f007 div.sk-parallel-item:first-child::after {align-self: flex-end;width: 50%;}#sk-96045c66-0876-4c5f-8f25-c0ee7d17f007 div.sk-parallel-item:last-child::after {align-self: flex-start;width: 50%;}#sk-96045c66-0876-4c5f-8f25-c0ee7d17f007 div.sk-parallel-item:only-child::after {width: 0;}#sk-96045c66-0876-4c5f-8f25-c0ee7d17f007 div.sk-dashed-wrapped {border: 1px dashed gray;margin: 0 0.4em 0.5em 0.4em;box-sizing: border-box;padding-bottom: 0.4em;background-color: white;position: relative;}#sk-96045c66-0876-4c5f-8f25-c0ee7d17f007 div.sk-label label {font-family: monospace;font-weight: bold;background-color: white;display: inline-block;line-height: 1.2em;}#sk-96045c66-0876-4c5f-8f25-c0ee7d17f007 div.sk-label-container {position: relative;z-index: 2;text-align: center;}#sk-96045c66-0876-4c5f-8f25-c0ee7d17f007 div.sk-container {/* jupyter's `normalize.less` sets `[hidden] { display: none; }` but bootstrap.min.css set `[hidden] { display: none !important; }` so we also need the `!important` here to be able to override the default hidden behavior on the sphinx rendered scikit-learn.org. See: https://github.com/scikit-learn/scikit-learn/issues/21755 */display: inline-block !important;position: relative;}#sk-96045c66-0876-4c5f-8f25-c0ee7d17f007 div.sk-text-repr-fallback {display: none;}</style><div id=\"sk-96045c66-0876-4c5f-8f25-c0ee7d17f007\" class=\"sk-top-container\"><div class=\"sk-text-repr-fallback\"><pre>Pipeline(steps=[(&#x27;standardscaler&#x27;, StandardScaler()),\n",
              "                (&#x27;pca&#x27;, PCA(n_components=2)),\n",
              "                (&#x27;logisticregression&#x27;, LogisticRegression(random_state=1))])</pre><b>Please rerun this cell to show the HTML repr or trust the notebook.</b></div><div class=\"sk-container\" hidden><div class=\"sk-item sk-dashed-wrapped\"><div class=\"sk-label-container\"><div class=\"sk-label sk-toggleable\"><input class=\"sk-toggleable__control sk-hidden--visually\" id=\"9af26d59-e9be-4ad4-862b-289d3129bf36\" type=\"checkbox\" ><label for=\"9af26d59-e9be-4ad4-862b-289d3129bf36\" class=\"sk-toggleable__label sk-toggleable__label-arrow\">Pipeline</label><div class=\"sk-toggleable__content\"><pre>Pipeline(steps=[(&#x27;standardscaler&#x27;, StandardScaler()),\n",
              "                (&#x27;pca&#x27;, PCA(n_components=2)),\n",
              "                (&#x27;logisticregression&#x27;, LogisticRegression(random_state=1))])</pre></div></div></div><div class=\"sk-serial\"><div class=\"sk-item\"><div class=\"sk-estimator sk-toggleable\"><input class=\"sk-toggleable__control sk-hidden--visually\" id=\"5dfda070-30d4-4611-b558-60b311b4429c\" type=\"checkbox\" ><label for=\"5dfda070-30d4-4611-b558-60b311b4429c\" class=\"sk-toggleable__label sk-toggleable__label-arrow\">StandardScaler</label><div class=\"sk-toggleable__content\"><pre>StandardScaler()</pre></div></div></div><div class=\"sk-item\"><div class=\"sk-estimator sk-toggleable\"><input class=\"sk-toggleable__control sk-hidden--visually\" id=\"6d020995-94cf-4e95-b20b-9d0b0f70058b\" type=\"checkbox\" ><label for=\"6d020995-94cf-4e95-b20b-9d0b0f70058b\" class=\"sk-toggleable__label sk-toggleable__label-arrow\">PCA</label><div class=\"sk-toggleable__content\"><pre>PCA(n_components=2)</pre></div></div></div><div class=\"sk-item\"><div class=\"sk-estimator sk-toggleable\"><input class=\"sk-toggleable__control sk-hidden--visually\" id=\"bf8f581a-ae79-47ad-a508-cb1e0bbddcda\" type=\"checkbox\" ><label for=\"bf8f581a-ae79-47ad-a508-cb1e0bbddcda\" class=\"sk-toggleable__label sk-toggleable__label-arrow\">LogisticRegression</label><div class=\"sk-toggleable__content\"><pre>LogisticRegression(random_state=1)</pre></div></div></div></div></div></div></div>"
            ]
          },
          "metadata": {},
          "execution_count": 7
        }
      ]
    },
    {
      "cell_type": "code",
      "source": [
        "import numpy as np\n",
        "from sklearn.model_selection import StratifiedKFold"
      ],
      "metadata": {
        "id": "yUMh_neX4PCu"
      },
      "execution_count": 8,
      "outputs": []
    },
    {
      "cell_type": "code",
      "source": [
        "kfold = StratifiedKFold(n_splits=10).split(X_train, y_train)\n",
        "scores = []\n",
        "\n",
        "for k, (train, test) in enumerate(kfold):\n",
        "  pipe_lr.fit(X_train[train], y_train[train])\n",
        "  score = pipe_lr.score(X_train[test], y_train[test])\n",
        "  scores.append(score)\n",
        "  print(f\"Fold: {k+1}, Class Distribution: {np.bincount(y_train[train])}, Accuracy: {score}\")"
      ],
      "metadata": {
        "colab": {
          "base_uri": "https://localhost:8080/"
        },
        "id": "uVhwZYjiDvaf",
        "outputId": "dfb0bbfa-d796-4301-9eec-bb0c8e99fff9"
      },
      "execution_count": 9,
      "outputs": [
        {
          "output_type": "stream",
          "name": "stdout",
          "text": [
            "Fold: 1, Class Distribution: [256 153], Accuracy: 0.9347826086956522\n",
            "Fold: 2, Class Distribution: [256 153], Accuracy: 0.9347826086956522\n",
            "Fold: 3, Class Distribution: [256 153], Accuracy: 0.9565217391304348\n",
            "Fold: 4, Class Distribution: [256 153], Accuracy: 0.9565217391304348\n",
            "Fold: 5, Class Distribution: [256 153], Accuracy: 0.9347826086956522\n",
            "Fold: 6, Class Distribution: [257 153], Accuracy: 0.9555555555555556\n",
            "Fold: 7, Class Distribution: [257 153], Accuracy: 0.9777777777777777\n",
            "Fold: 8, Class Distribution: [257 153], Accuracy: 0.9333333333333333\n",
            "Fold: 9, Class Distribution: [257 153], Accuracy: 0.9555555555555556\n",
            "Fold: 10, Class Distribution: [257 153], Accuracy: 0.9555555555555556\n"
          ]
        }
      ]
    },
    {
      "cell_type": "code",
      "source": [
        "print(f\"CV Accuracy: {np.mean(scores)} +/- {np.std(scores)}\")"
      ],
      "metadata": {
        "colab": {
          "base_uri": "https://localhost:8080/"
        },
        "id": "-eb7X4JAEVk2",
        "outputId": "d2f31ea6-fb5b-42de-c786-351934641b06"
      },
      "execution_count": 10,
      "outputs": [
        {
          "output_type": "stream",
          "name": "stdout",
          "text": [
            "CV Accuracy: 0.9495169082125603 +/- 0.013854294239660376\n"
          ]
        }
      ]
    },
    {
      "cell_type": "code",
      "source": [
        "from sklearn.model_selection import cross_val_score"
      ],
      "metadata": {
        "id": "He6YB4A6EeN8"
      },
      "execution_count": 11,
      "outputs": []
    },
    {
      "cell_type": "code",
      "source": [
        "scores = cross_val_score(\n",
        "    estimator=pipe_lr,\n",
        "    X=X_train,\n",
        "    y=y_train,\n",
        "    cv=10,\n",
        "    n_jobs=-1\n",
        ")\n",
        "\n",
        "print(f\"CV Score: {scores}\")\n",
        "print(f\"CV Accuracy: {np.mean(scores):.2f} +/- {np.std(scores):.3f}\")"
      ],
      "metadata": {
        "colab": {
          "base_uri": "https://localhost:8080/"
        },
        "id": "QEupLSf_JmHk",
        "outputId": "808adeb2-bf0d-477c-d77c-cca715a93ae1"
      },
      "execution_count": 12,
      "outputs": [
        {
          "output_type": "stream",
          "name": "stdout",
          "text": [
            "CV Score: [0.93478261 0.93478261 0.95652174 0.95652174 0.93478261 0.95555556\n",
            " 0.97777778 0.93333333 0.95555556 0.95555556]\n",
            "CV Accuracy: 0.95 +/- 0.014\n"
          ]
        }
      ]
    },
    {
      "cell_type": "code",
      "source": [
        "from sklearn.model_selection import cross_validate\n",
        "\n",
        "scores = cross_validate(\n",
        "    estimator=pipe_lr,\n",
        "    X=X_train,\n",
        "    y=y_train,\n",
        "    scoring=['accuracy'],\n",
        "    cv=10,\n",
        "    n_jobs=-1,\n",
        ")\n",
        "\n",
        "print(f\"CV Score: {scores}\")\n",
        "print(f\"CV Accuracy: {np.mean(scores['test_accuracy']):.2f} +/- {np.std(scores['test_accuracy']):.3f}\")"
      ],
      "metadata": {
        "colab": {
          "base_uri": "https://localhost:8080/"
        },
        "id": "jNdyflvNJ6ZZ",
        "outputId": "babec825-cdcf-4b4b-d60d-ac3c706af60c"
      },
      "execution_count": 13,
      "outputs": [
        {
          "output_type": "stream",
          "name": "stdout",
          "text": [
            "CV Score: {'fit_time': array([0.0086484 , 0.00727487, 0.00644922, 0.00633955, 0.01123905,\n",
            "       0.00740409, 0.00869703, 0.00669456, 0.00759697, 0.00673819]), 'score_time': array([0.00056744, 0.00058436, 0.0005517 , 0.00051928, 0.0006783 ,\n",
            "       0.00062799, 0.00061846, 0.00059724, 0.00061488, 0.00059509]), 'test_accuracy': array([0.93478261, 0.93478261, 0.95652174, 0.95652174, 0.93478261,\n",
            "       0.95555556, 0.97777778, 0.93333333, 0.95555556, 0.95555556])}\n",
            "CV Accuracy: 0.95 +/- 0.014\n"
          ]
        }
      ]
    },
    {
      "cell_type": "code",
      "source": [
        "from sklearn.model_selection import cross_val_predict\n",
        "\n",
        "preds = cross_val_predict(\n",
        "    estimator=pipe_lr,\n",
        "    X=X_train,\n",
        "    y=y_train,\n",
        "    cv=10,\n",
        "    n_jobs=-1,\n",
        ")\n",
        "\n",
        "preds[:10]"
      ],
      "metadata": {
        "colab": {
          "base_uri": "https://localhost:8080/"
        },
        "id": "uRw_Xq9GKno3",
        "outputId": "f1d24dcd-6412-4367-e1ea-aa465e151702"
      },
      "execution_count": 14,
      "outputs": [
        {
          "output_type": "execute_result",
          "data": {
            "text/plain": [
              "array([0, 0, 0, 0, 0, 0, 0, 1, 1, 1])"
            ]
          },
          "metadata": {},
          "execution_count": 14
        }
      ]
    },
    {
      "cell_type": "code",
      "source": [
        "preds = cross_val_predict(\n",
        "    estimator=pipe_lr,\n",
        "    X=X_train,\n",
        "    y=y_train,\n",
        "    cv=10,\n",
        "    method='predict_proba',\n",
        "    n_jobs=-1,\n",
        ")\n",
        "\n",
        "preds[:10]"
      ],
      "metadata": {
        "colab": {
          "base_uri": "https://localhost:8080/"
        },
        "id": "Z1y-P8HZK_bb",
        "outputId": "daf1e08c-fbe3-4f03-a28e-25ea341613b7"
      },
      "execution_count": 15,
      "outputs": [
        {
          "output_type": "execute_result",
          "data": {
            "text/plain": [
              "array([[9.93982352e-01, 6.01764759e-03],\n",
              "       [7.64328337e-01, 2.35671663e-01],\n",
              "       [9.72683946e-01, 2.73160539e-02],\n",
              "       [8.41658121e-01, 1.58341879e-01],\n",
              "       [9.97144940e-01, 2.85506043e-03],\n",
              "       [9.99803660e-01, 1.96339882e-04],\n",
              "       [9.99324159e-01, 6.75840609e-04],\n",
              "       [2.12145074e-06, 9.99997879e-01],\n",
              "       [1.28668437e-01, 8.71331563e-01],\n",
              "       [7.76260670e-04, 9.99223739e-01]])"
            ]
          },
          "metadata": {},
          "execution_count": 15
        }
      ]
    },
    {
      "cell_type": "code",
      "source": [
        "import matplotlib.pyplot as plt\n",
        "from sklearn.model_selection import learning_curve\n",
        "\n",
        "pipe_lr = make_pipeline(\n",
        "    StandardScaler(),\n",
        "    LogisticRegression(penalty='l2',\n",
        "                       random_state=1,\n",
        "                       max_iter=10000)\n",
        ")\n",
        "\n",
        "train_sizes, train_scores, test_scores = learning_curve(\n",
        "    estimator=pipe_lr,\n",
        "    X=X_train,\n",
        "    y=y_train,\n",
        "    train_sizes=np.linspace(0.1, 1.0, 10),\n",
        "    cv=10,\n",
        "    n_jobs=-1\n",
        ")\n",
        "\n",
        "train_mean = np.mean(train_scores, axis=1)\n",
        "train_std = np.std(train_scores, axis=1)\n",
        "test_mean = np.mean(test_scores, axis=1)\n",
        "test_std = np.std(test_scores, axis=1)\n",
        "\n",
        "plt.plot(\n",
        "    train_sizes, train_mean,\n",
        "    color='blue', marker='o',\n",
        "    markersize=5, label='Training accuracy'\n",
        ")\n",
        "\n",
        "plt.fill_between(\n",
        "    train_sizes,\n",
        "    train_mean + train_std,\n",
        "    train_mean - train_std,\n",
        "    alpha=0.15, color='blue'\n",
        ")\n",
        "\n",
        "plt.plot(\n",
        "    train_sizes, test_mean,\n",
        "    color='green', linestyle='--', marker='s',\n",
        "    markersize=5, label='Validation accuracy'\n",
        ")\n",
        "\n",
        "plt.fill_between(\n",
        "    train_sizes,\n",
        "    test_mean + test_std,\n",
        "    test_mean - test_std,\n",
        "    alpha=0.15, color='green'\n",
        ")\n",
        "\n",
        "plt.grid()\n",
        "plt.xlabel(\"Number of training examples\")\n",
        "plt.ylabel(\"Accuracy\")\n",
        "plt.legend(loc='lower right')\n",
        "plt.ylim([0.8, 1.03])\n",
        "plt.tight_layout()\n",
        "plt.show()"
      ],
      "metadata": {
        "colab": {
          "base_uri": "https://localhost:8080/",
          "height": 297
        },
        "id": "Lv7rzMGMLNKJ",
        "outputId": "489dcc9e-a1d7-4f24-faff-762028ac5954"
      },
      "execution_count": 16,
      "outputs": [
        {
          "output_type": "display_data",
          "data": {
            "text/plain": [
              "<Figure size 432x288 with 1 Axes>"
            ],
            "image/png": "[encoded data removed]"
          },
          "metadata": {
            "needs_background": "light"
          }
        }
      ]
    },
    {
      "cell_type": "code",
      "source": [
        "from sklearn.model_selection import validation_curve\n",
        "\n",
        "param_range = [0.001, 0.01, 0.1, 1.0, 10.0, 100.0]\n",
        "train_scores, test_scores = validation_curve(\n",
        "    estimator=pipe_lr,\n",
        "    X=X_train,\n",
        "    y=y_train,\n",
        "    param_name='logisticregression__C',\n",
        "    param_range=param_range,\n",
        "    cv=10\n",
        ")\n",
        "\n",
        "train_mean = np.mean(train_scores, axis=1)\n",
        "train_std = np.std(train_scores, axis=1)\n",
        "test_mean = np.mean(test_scores, axis=1)\n",
        "test_std = np.std(test_scores, axis=1)\n",
        "\n",
        "plt.plot(param_range, train_mean,\n",
        "         color='blue', marker='o',\n",
        "         markersize=5, label='Training accuracy')\n",
        "\n",
        "plt.fill_between(param_range, train_mean + train_std,\n",
        "                 train_mean - train_std, alpha=0.15,\n",
        "                 color='blue')\n",
        "\n",
        "plt.plot(param_range, test_mean,\n",
        "         color='green', linestyle='--',\n",
        "         marker='s', markersize=5,\n",
        "         label='Validation accuracy')\n",
        "\n",
        "plt.fill_between(param_range,\n",
        "                 test_mean + test_std,\n",
        "                 test_mean - test_std,\n",
        "                 alpha=0.15, color='green')\n",
        "\n",
        "plt.grid()\n",
        "plt.xscale('log')\n",
        "plt.legend(loc='lower right')\n",
        "plt.xlabel('Parameter C')\n",
        "plt.ylabel('Accuracy')\n",
        "plt.ylim([0.8, 1.0])\n",
        "plt.tight_layout()\n",
        "plt.show()"
      ],
      "metadata": {
        "id": "AQyaH1JMNlvd",
        "colab": {
          "base_uri": "https://localhost:8080/",
          "height": 297
        },
        "outputId": "f256be07-e555-434c-93e4-33eb08bf69b2"
      },
      "execution_count": 17,
      "outputs": [
        {
          "output_type": "display_data",
          "data": {
            "text/plain": [
              "<Figure size 432x288 with 1 Axes>"
            ],
            "image/png": "[encoded data removed]"
          },
          "metadata": {
            "needs_background": "light"
          }
        }
      ]
    },
    {
      "cell_type": "code",
      "source": [
        "from sklearn.model_selection import GridSearchCV\n",
        "from sklearn.svm import SVC\n",
        "\n",
        "pipe_svc = make_pipeline(\n",
        "    StandardScaler(),\n",
        "    SVC(random_state=1)\n",
        ")\n",
        "\n",
        "param_range = [.0001, .001, .01, .1, 1., 10., 100., 1000.]\n",
        "\n",
        "param_grid = [\n",
        "    {\n",
        "        'svc__C': param_range,\n",
        "        'svc__kernel': ['linear']\n",
        "     },\n",
        "     {\n",
        "        'svc__C': param_range,\n",
        "        'svc__gamma': param_range,\n",
        "        'svc__kernel': ['rbf']\n",
        "     }\n",
        "]\n",
        "\n",
        "gs = GridSearchCV(\n",
        "    estimator=pipe_svc,\n",
        "    param_grid=param_grid,\n",
        "    scoring='accuracy',\n",
        "    refit=True,\n",
        "    cv=10,\n",
        "    n_jobs=-1\n",
        ")\n",
        "\n",
        "gs = gs.fit(X_train, y_train)\n",
        "\n",
        "print(gs.best_score_)\n",
        "print(gs.best_params_)"
      ],
      "metadata": {
        "colab": {
          "base_uri": "https://localhost:8080/"
        },
        "id": "fYgsgdqmtRjs",
        "outputId": "013ab779-1de8-45c5-a92e-083a5ef40c9d"
      },
      "execution_count": 18,
      "outputs": [
        {
          "output_type": "stream",
          "name": "stdout",
          "text": [
            "0.9846859903381642\n",
            "{'svc__C': 100.0, 'svc__gamma': 0.001, 'svc__kernel': 'rbf'}\n"
          ]
        }
      ]
    },
    {
      "cell_type": "code",
      "source": [
        "clf = gs.best_estimator_\n",
        "\n",
        "print(f\"Test Accuracy: {clf.score(X_test, y_test):.3f}\")"
      ],
      "metadata": {
        "colab": {
          "base_uri": "https://localhost:8080/"
        },
        "id": "HRaxfS2qzLLi",
        "outputId": "eebd8ffe-8bea-4de4-a896-8ffcffe79201"
      },
      "execution_count": 19,
      "outputs": [
        {
          "output_type": "stream",
          "name": "stdout",
          "text": [
            "Test Accuracy: 0.974\n"
          ]
        }
      ]
    },
    {
      "cell_type": "code",
      "source": [
        "gs = GridSearchCV(\n",
        "    estimator=pipe_svc,\n",
        "    param_grid=param_grid,\n",
        "    scoring='accuracy',\n",
        "    cv=10,\n",
        "    return_train_score=True,\n",
        "    n_jobs=-1\n",
        ")\n",
        "\n",
        "gs = gs.fit(X_train, y_train)"
      ],
      "metadata": {
        "id": "gvd0YdNu0_lC"
      },
      "execution_count": 20,
      "outputs": []
    },
    {
      "cell_type": "code",
      "source": [
        "gs.cv_results_[\"split0_train_score\"]"
      ],
      "metadata": {
        "colab": {
          "base_uri": "https://localhost:8080/"
        },
        "id": "JoQ8BXU51RnF",
        "outputId": "d52d232f-7a99-4e1f-83d7-20c230af03ca"
      },
      "execution_count": 21,
      "outputs": [
        {
          "output_type": "execute_result",
          "data": {
            "text/plain": [
              "array([0.6405868 , 0.93643032, 0.97555012, 0.98777506, 0.98533007,\n",
              "       0.99266504, 0.99755501, 1.        , 0.62591687, 0.62591687,\n",
              "       0.62591687, 0.62591687, 0.62591687, 0.62591687, 0.62591687,\n",
              "       0.62591687, 0.62591687, 0.62591687, 0.62591687, 0.62591687,\n",
              "       0.62591687, 0.62591687, 0.62591687, 0.62591687, 0.62591687,\n",
              "       0.62591687, 0.62591687, 0.62591687, 0.62591687, 0.62591687,\n",
              "       0.62591687, 0.62591687, 0.62591687, 0.7799511 , 0.94621027,\n",
              "       0.96577017, 0.62591687, 0.62591687, 0.62591687, 0.62591687,\n",
              "       0.78484108, 0.94621027, 0.9804401 , 0.99266504, 1.        ,\n",
              "       1.        , 1.        , 1.        , 0.94621027, 0.97799511,\n",
              "       0.99266504, 1.        , 1.        , 1.        , 1.        ,\n",
              "       1.        , 0.97799511, 0.98777506, 0.99511002, 1.        ,\n",
              "       1.        , 1.        , 1.        , 1.        , 0.98533007,\n",
              "       0.99266504, 1.        , 1.        , 1.        , 1.        ,\n",
              "       1.        , 1.        ])"
            ]
          },
          "metadata": {},
          "execution_count": 21
        }
      ]
    },
    {
      "cell_type": "code",
      "source": [
        "gs.cv_results_[\"mean_train_score\"]"
      ],
      "metadata": {
        "colab": {
          "base_uri": "https://localhost:8080/"
        },
        "id": "YSqPPTix1VP4",
        "outputId": "8991c1dc-973b-4093-de97-6b425a1d6db9"
      },
      "execution_count": 22,
      "outputs": [
        {
          "output_type": "execute_result",
          "data": {
            "text/plain": [
              "array([0.6402928 , 0.93724074, 0.97240801, 0.98510406, 0.98803447,\n",
              "       0.99145447, 0.99707019, 0.9992677 , 0.62637307, 0.62637307,\n",
              "       0.62637307, 0.62637307, 0.62637307, 0.62637307, 0.62637307,\n",
              "       0.62637307, 0.62637307, 0.62637307, 0.62637307, 0.62637307,\n",
              "       0.62637307, 0.62637307, 0.62637307, 0.62637307, 0.62637307,\n",
              "       0.62637307, 0.62637307, 0.62637307, 0.62637307, 0.62637307,\n",
              "       0.62637307, 0.62637307, 0.62637307, 0.77070249, 0.94700817,\n",
              "       0.97167094, 0.62637307, 0.62637307, 0.62637307, 0.62637307,\n",
              "       0.77949371, 0.94725326, 0.97704753, 0.99291848, 1.        ,\n",
              "       1.        , 1.        , 1.        , 0.94652096, 0.97753354,\n",
              "       0.99023257, 1.        , 1.        , 1.        , 1.        ,\n",
              "       1.        , 0.97680064, 0.98852287, 0.99755799, 1.        ,\n",
              "       1.        , 1.        , 1.        , 1.        , 0.98803387,\n",
              "       0.99291848, 1.        , 1.        , 1.        , 1.        ,\n",
              "       1.        , 1.        ])"
            ]
          },
          "metadata": {},
          "execution_count": 22
        }
      ]
    },
    {
      "cell_type": "code",
      "source": [
        "gs.cv_results_[\"split0_test_score\"]"
      ],
      "metadata": {
        "colab": {
          "base_uri": "https://localhost:8080/"
        },
        "id": "rTzjPQFu1ZM6",
        "outputId": "617ff2ed-0839-4487-9ee9-439353bdc81d"
      },
      "execution_count": 23,
      "outputs": [
        {
          "output_type": "execute_result",
          "data": {
            "text/plain": [
              "array([0.63043478, 0.89130435, 0.95652174, 0.97826087, 0.95652174,\n",
              "       0.93478261, 0.95652174, 0.93478261, 0.63043478, 0.63043478,\n",
              "       0.63043478, 0.63043478, 0.63043478, 0.63043478, 0.63043478,\n",
              "       0.63043478, 0.63043478, 0.63043478, 0.63043478, 0.63043478,\n",
              "       0.63043478, 0.63043478, 0.63043478, 0.63043478, 0.63043478,\n",
              "       0.63043478, 0.63043478, 0.63043478, 0.63043478, 0.63043478,\n",
              "       0.63043478, 0.63043478, 0.63043478, 0.69565217, 0.93478261,\n",
              "       0.95652174, 0.63043478, 0.63043478, 0.63043478, 0.63043478,\n",
              "       0.69565217, 0.93478261, 0.93478261, 1.        , 0.63043478,\n",
              "       0.63043478, 0.63043478, 0.63043478, 0.93478261, 0.97826087,\n",
              "       1.        , 1.        , 0.63043478, 0.63043478, 0.63043478,\n",
              "       0.63043478, 0.97826087, 0.97826087, 0.97826087, 1.        ,\n",
              "       0.63043478, 0.63043478, 0.63043478, 0.63043478, 0.97826087,\n",
              "       0.95652174, 0.95652174, 1.        , 0.63043478, 0.63043478,\n",
              "       0.63043478, 0.63043478])"
            ]
          },
          "metadata": {},
          "execution_count": 23
        }
      ]
    },
    {
      "cell_type": "code",
      "source": [
        "print(f\"Test Accuracy: {gs.score(X_test, y_test):.3f}\")"
      ],
      "metadata": {
        "colab": {
          "base_uri": "https://localhost:8080/"
        },
        "id": "UvVA6aHD1myj",
        "outputId": "bbc3b8bc-c5f5-4f0e-c907-498552c6a47b"
      },
      "execution_count": 24,
      "outputs": [
        {
          "output_type": "stream",
          "name": "stdout",
          "text": [
            "Test Accuracy: 0.974\n"
          ]
        }
      ]
    },
    {
      "cell_type": "code",
      "source": [
        "from sklearn.model_selection import RandomizedSearchCV\n",
        "from sklearn.utils.fixes import loguniform\n",
        "\n",
        "distribution = loguniform(.0001, 1000.)\n",
        "\n",
        "param_dist = [\n",
        "    {\n",
        "        'svc__C': distribution,\n",
        "        'svc__kernel': ['linear'],\n",
        "    },\n",
        "    {\n",
        "        'svc__C': distribution,\n",
        "        'svc__gamma': distribution,\n",
        "        'svc__kernel': ['rbf'],\n",
        "    }\n",
        "]\n",
        "\n",
        "rs = RandomizedSearchCV(\n",
        "    estimator=pipe_svc,\n",
        "    param_distributions=param_dist,\n",
        "    n_iter=30,\n",
        "    cv=10,\n",
        "    random_state=1,\n",
        "    n_jobs=-1,\n",
        ")\n",
        "\n",
        "rs = rs.fit(X_train, y_train)\n",
        "print(rs.best_score_)\n",
        "print(rs.best_params_)"
      ],
      "metadata": {
        "colab": {
          "base_uri": "https://localhost:8080/"
        },
        "id": "XqTBiqo91u30",
        "outputId": "482ebd33-1f6f-4561-a80e-df602a6d8680"
      },
      "execution_count": 25,
      "outputs": [
        {
          "output_type": "stream",
          "name": "stdout",
          "text": [
            "0.9824637681159419\n",
            "{'svc__C': 210.6644070836221, 'svc__gamma': 0.0006861724481510375, 'svc__kernel': 'rbf'}\n"
          ]
        }
      ]
    },
    {
      "cell_type": "code",
      "source": [
        "from IPython.display import Image\n",
        "\n",
        "Image(url=\"https://git.io/JtsTP\", width=500)"
      ],
      "metadata": {
        "colab": {
          "base_uri": "https://localhost:8080/",
          "height": 454
        },
        "id": "oaOK5_6T2nva",
        "outputId": "5636c67b-d714-46bf-9a1b-e824646ab057"
      },
      "execution_count": 26,
      "outputs": [
        {
          "output_type": "execute_result",
          "data": {
            "text/html": [
              "<img src=\"https://git.io/JtsTP\" width=\"500\"/>"
            ],
            "text/plain": [
              "<IPython.core.display.Image object>"
            ]
          },
          "metadata": {},
          "execution_count": 26
        }
      ]
    },
    {
      "cell_type": "code",
      "source": [
        "from sklearn.experimental import enable_halving_search_cv\n",
        "from sklearn.model_selection import HalvingGridSearchCV\n",
        "\n",
        "hgs = HalvingGridSearchCV(\n",
        "    estimator=pipe_svc,\n",
        "    param_grid=param_grid,\n",
        "    cv=10,\n",
        "    n_jobs=-1,\n",
        "    verbose=1\n",
        ")\n",
        "\n",
        "hgs = hgs.fit(X_train, y_train)\n",
        "\n",
        "print(hgs.best_score_)\n",
        "print(hgs.best_params_)"
      ],
      "metadata": {
        "colab": {
          "base_uri": "https://localhost:8080/"
        },
        "id": "J1aZVq8l2wZG",
        "outputId": "1728f6eb-6694-44aa-e13b-a5a84fc7bf23"
      },
      "execution_count": 27,
      "outputs": [
        {
          "output_type": "stream",
          "name": "stdout",
          "text": [
            "n_iterations: 3\n",
            "n_required_iterations: 4\n",
            "n_possible_iterations: 3\n",
            "min_resources_: 40\n",
            "max_resources_: 455\n",
            "aggressive_elimination: False\n",
            "factor: 3\n",
            "----------\n",
            "iter: 0\n",
            "n_candidates: 72\n",
            "n_resources: 40\n",
            "Fitting 10 folds for each of 72 candidates, totalling 720 fits\n",
            "----------\n",
            "iter: 1\n",
            "n_candidates: 24\n",
            "n_resources: 120\n",
            "Fitting 10 folds for each of 24 candidates, totalling 240 fits\n",
            "----------\n",
            "iter: 2\n",
            "n_candidates: 8\n",
            "n_resources: 360\n",
            "Fitting 10 folds for each of 8 candidates, totalling 80 fits\n",
            "0.9775396825396825\n",
            "{'svc__C': 1000.0, 'svc__gamma': 0.0001, 'svc__kernel': 'rbf'}\n"
          ]
        }
      ]
    },
    {
      "cell_type": "code",
      "source": [
        "print(np.sum(hgs.cv_results_[\"mean_fit_time\"]))"
      ],
      "metadata": {
        "colab": {
          "base_uri": "https://localhost:8080/"
        },
        "id": "omdOLHni4YsR",
        "outputId": "409c9016-6f72-41b8-ab97-ad2782567173"
      },
      "execution_count": 28,
      "outputs": [
        {
          "output_type": "stream",
          "name": "stdout",
          "text": [
            "0.21599011421203612\n"
          ]
        }
      ]
    },
    {
      "cell_type": "code",
      "source": [
        "print(f\"자원 리스트: {hgs.n_resources_}\")\n",
        "print(f\"후보 리스트: {hgs.n_candidates_}\")"
      ],
      "metadata": {
        "colab": {
          "base_uri": "https://localhost:8080/"
        },
        "id": "HqZBrF364pCf",
        "outputId": "f8a84bd9-c3ff-4933-831b-202a8ea1d9a9"
      },
      "execution_count": 29,
      "outputs": [
        {
          "output_type": "stream",
          "name": "stdout",
          "text": [
            "자원 리스트: [40, 120, 360]\n",
            "후보 리스트: [72, 24, 8]\n"
          ]
        }
      ]
    },
    {
      "cell_type": "code",
      "source": [
        "gs = GridSearchCV(\n",
        "    estimator=pipe_svc,\n",
        "    param_grid=param_grid,\n",
        "    scoring='accuracy',\n",
        "    cv=2\n",
        ")\n",
        "\n",
        "scores = cross_val_score(\n",
        "    gs, X_train, y_train,\n",
        "    scoring='accuracy', cv=5\n",
        ")\n",
        "\n",
        "print(f\"CV Accuracy: {np.mean(scores): .3f} +/- {np.std(scores):.3f}\")"
      ],
      "metadata": {
        "colab": {
          "base_uri": "https://localhost:8080/"
        },
        "id": "NqR0Z7uI40hJ",
        "outputId": "80638c8f-78ec-413a-c8db-3a9fdc31b955"
      },
      "execution_count": 30,
      "outputs": [
        {
          "output_type": "stream",
          "name": "stdout",
          "text": [
            "CV Accuracy:  0.974 +/- 0.015\n"
          ]
        }
      ]
    },
    {
      "cell_type": "code",
      "source": [
        "from sklearn.tree import DecisionTreeClassifier\n",
        "\n",
        "gs = GridSearchCV(\n",
        "    estimator=DecisionTreeClassifier(random_state=0),\n",
        "    param_grid=[\n",
        "        {\n",
        "            \"max_depth\": [1, 2, 3, 4, 5, 6, 7, None]\n",
        "        }\n",
        "    ],\n",
        "    scoring='accuracy',\n",
        "    cv=2\n",
        ")\n",
        "\n",
        "scores = cross_val_score(\n",
        "    gs, X_train, y_train,\n",
        "    scoring='accuracy', cv=5\n",
        ")\n",
        "\n",
        "print(f\"CV Accuracy: {np.mean(scores): .3f} +/- {np.std(scores):.3f}\")"
      ],
      "metadata": {
        "colab": {
          "base_uri": "https://localhost:8080/"
        },
        "id": "7Euntqqx8UD7",
        "outputId": "35aaa1c2-4a27-44e2-b420-8c472b541caf"
      },
      "execution_count": 31,
      "outputs": [
        {
          "output_type": "stream",
          "name": "stdout",
          "text": [
            "CV Accuracy:  0.934 +/- 0.016\n"
          ]
        }
      ]
    },
    {
      "cell_type": "code",
      "source": [
        "Image(url=\"https://git.io/JtsT1\", width=300)"
      ],
      "metadata": {
        "colab": {
          "base_uri": "https://localhost:8080/",
          "height": 319
        },
        "id": "uziTVnm5DUvs",
        "outputId": "d7bed984-1328-442c-a4d6-6736ab0c2f6b"
      },
      "execution_count": 32,
      "outputs": [
        {
          "output_type": "execute_result",
          "data": {
            "text/html": [
              "<img src=\"https://git.io/JtsT1\" width=\"300\"/>"
            ],
            "text/plain": [
              "<IPython.core.display.Image object>"
            ]
          },
          "metadata": {},
          "execution_count": 32
        }
      ]
    },
    {
      "cell_type": "code",
      "source": [
        "from sklearn.metrics import confusion_matrix\n",
        "\n",
        "pipe_svc.fit(X_train, y_train)\n",
        "y_pred = pipe_svc.predict(X_test)\n",
        "confmat = confusion_matrix(y_true=y_test, y_pred=y_pred)\n",
        "\n",
        "print(confmat)"
      ],
      "metadata": {
        "colab": {
          "base_uri": "https://localhost:8080/"
        },
        "id": "AhCBNobFD5wq",
        "outputId": "e223e5d6-ea78-44e5-c8ed-98849b562290"
      },
      "execution_count": 33,
      "outputs": [
        {
          "output_type": "stream",
          "name": "stdout",
          "text": [
            "[[71  1]\n",
            " [ 2 40]]\n"
          ]
        }
      ]
    },
    {
      "cell_type": "code",
      "source": [
        "fig, ax = plt.subplots(figsize=(2.5, 2.5))\n",
        "ax.matshow(confmat, cmap=plt.cm.Blues, alpha=0.3)\n",
        "\n",
        "for i in range(confmat.shape[0]):\n",
        "  for j in range(confmat.shape[1]):\n",
        "    ax.text(x=j, y=i, s=confmat[i, j], va='center', ha='center')\n",
        "\n",
        "plt.xlabel(\"Predicted label\")\n",
        "plt.ylabel(\"True label\")\n",
        "\n",
        "plt.tight_layout()\n",
        "plt.show()"
      ],
      "metadata": {
        "colab": {
          "base_uri": "https://localhost:8080/",
          "height": 189
        },
        "id": "5BsUwoHREHKD",
        "outputId": "1a225d39-dbfe-49c4-b6c4-a78dd5b2c9fd"
      },
      "execution_count": 34,
      "outputs": [
        {
          "output_type": "display_data",
          "data": {
            "text/plain": [
              "<Figure size 180x180 with 1 Axes>"
            ],
            "image/png": "[encoded data removed]"
          },
          "metadata": {
            "needs_background": "light"
          }
        }
      ]
    },
    {
      "cell_type": "code",
      "source": [
        "from sklearn.metrics import ConfusionMatrixDisplay\n",
        "\n",
        "ConfusionMatrixDisplay.from_estimator(pipe_svc, X_test, y_test)\n",
        "\n",
        "plt.show()"
      ],
      "metadata": {
        "colab": {
          "base_uri": "https://localhost:8080/",
          "height": 280
        },
        "id": "czhU96RHElVr",
        "outputId": "aea370ad-e015-4404-ed65-568611a61101"
      },
      "execution_count": 35,
      "outputs": [
        {
          "output_type": "display_data",
          "data": {
            "text/plain": [
              "<Figure size 432x288 with 2 Axes>"
            ],
            "image/png": "[encoded data removed]"
          },
          "metadata": {
            "needs_background": "light"
          }
        }
      ]
    },
    {
      "cell_type": "code",
      "source": [
        "ConfusionMatrixDisplay.from_predictions(y_test, y_pred)\n",
        "plt.show()"
      ],
      "metadata": {
        "colab": {
          "base_uri": "https://localhost:8080/",
          "height": 280
        },
        "id": "jbVDI9-7EwsA",
        "outputId": "780853f6-2f1d-4ba7-c9ab-f62d0f839e3d"
      },
      "execution_count": 36,
      "outputs": [
        {
          "output_type": "display_data",
          "data": {
            "text/plain": [
              "<Figure size 432x288 with 2 Axes>"
            ],
            "image/png": "[encoded data removed]"
          },
          "metadata": {
            "needs_background": "light"
          }
        }
      ]
    },
    {
      "cell_type": "code",
      "source": [
        "ConfusionMatrixDisplay.from_estimator(pipe_svc, X_test, y_test, normalize='all')\n",
        "plt.show()"
      ],
      "metadata": {
        "colab": {
          "base_uri": "https://localhost:8080/",
          "height": 279
        },
        "id": "MD-5ykZ0E2Rv",
        "outputId": "ed3ecaae-4de4-445b-ad3c-4dcae4c1cbd1"
      },
      "execution_count": 37,
      "outputs": [
        {
          "output_type": "display_data",
          "data": {
            "text/plain": [
              "<Figure size 432x288 with 2 Axes>"
            ],
            "image/png": "[encoded data removed]"
          },
          "metadata": {
            "needs_background": "light"
          }
        }
      ]
    },
    {
      "cell_type": "code",
      "source": [
        "le.transform([\"M\", \"B\"])"
      ],
      "metadata": {
        "colab": {
          "base_uri": "https://localhost:8080/"
        },
        "id": "MDSx7BsDE7m-",
        "outputId": "a6b80412-ad3a-4069-d25c-393e0d85c78b"
      },
      "execution_count": 38,
      "outputs": [
        {
          "output_type": "execute_result",
          "data": {
            "text/plain": [
              "array([1, 0])"
            ]
          },
          "metadata": {},
          "execution_count": 38
        }
      ]
    },
    {
      "cell_type": "code",
      "source": [
        "confmat = confusion_matrix(y_true=y_test, y_pred=y_pred)\n",
        "print(confmat)"
      ],
      "metadata": {
        "colab": {
          "base_uri": "https://localhost:8080/"
        },
        "id": "-ARw6ONVFAtn",
        "outputId": "68c399a6-ae28-4323-d326-5582d3dca6cb"
      },
      "execution_count": 39,
      "outputs": [
        {
          "output_type": "stream",
          "name": "stdout",
          "text": [
            "[[71  1]\n",
            " [ 2 40]]\n"
          ]
        }
      ]
    },
    {
      "cell_type": "code",
      "source": [
        "confmat = confusion_matrix(y_true=y_test, y_pred=y_pred, labels=[1, 0])\n",
        "print(confmat)"
      ],
      "metadata": {
        "colab": {
          "base_uri": "https://localhost:8080/"
        },
        "id": "H5w5JaMnFH2_",
        "outputId": "e818d8ae-0ab3-4df0-a75c-7ad93b3a96ae"
      },
      "execution_count": 40,
      "outputs": [
        {
          "output_type": "stream",
          "name": "stdout",
          "text": [
            "[[40  2]\n",
            " [ 1 71]]\n"
          ]
        }
      ]
    },
    {
      "cell_type": "code",
      "source": [
        "from sklearn.metrics import precision_score, recall_score, f1_score\n",
        "\n",
        "print(f\"Precision: {precision_score(y_true=y_test, y_pred=y_pred):.3f}\")\n",
        "print(f\"Recall: {recall_score(y_true=y_test, y_pred=y_pred):.3f}\")\n",
        "print(f\"F1: {f1_score(y_true=y_test, y_pred=y_pred):.3f}\")"
      ],
      "metadata": {
        "colab": {
          "base_uri": "https://localhost:8080/"
        },
        "id": "PI4fkYG4FTw_",
        "outputId": "1c311da8-786f-48e9-ed93-60ea3aee6ef3"
      },
      "execution_count": 41,
      "outputs": [
        {
          "output_type": "stream",
          "name": "stdout",
          "text": [
            "Precision: 0.976\n",
            "Recall: 0.952\n",
            "F1: 0.964\n"
          ]
        }
      ]
    },
    {
      "cell_type": "code",
      "source": [
        "from sklearn.metrics import make_scorer\n",
        "\n",
        "scorer = make_scorer(f1_score, pos_label=0)\n",
        "\n",
        "c_gamma_range = [.01, .1, 1., 10.]\n",
        "\n",
        "prarm_grid = [\n",
        "    {\n",
        "        'svc__C': c_gamma_range,\n",
        "        'svc__kernel': ['linear'],\n",
        "    },\n",
        "    {\n",
        "        'svc__C': c_gamma_range,\n",
        "        'svc__gamma': c_gamma_range,\n",
        "        'svc__kernel': ['rbf'],\n",
        "    }\n",
        "]\n",
        "\n",
        "gs = GridSearchCV(\n",
        "    estimator=pipe_svc,\n",
        "    param_grid=param_grid,\n",
        "    scoring=scorer,\n",
        "    cv=10,\n",
        "    n_jobs=-1\n",
        ")\n",
        "\n",
        "gs = gs.fit(X_train, y_train)\n",
        "print(gs.best_score_)\n",
        "print(gs.best_params_)"
      ],
      "metadata": {
        "colab": {
          "base_uri": "https://localhost:8080/"
        },
        "id": "qTfkJVM3G47U",
        "outputId": "354ef6fc-e796-452e-fd16-2061d6001bb7"
      },
      "execution_count": 42,
      "outputs": [
        {
          "output_type": "stream",
          "name": "stdout",
          "text": [
            "0.9880771478667446\n",
            "{'svc__C': 100.0, 'svc__gamma': 0.001, 'svc__kernel': 'rbf'}\n"
          ]
        }
      ]
    },
    {
      "cell_type": "code",
      "source": [
        "from sklearn.metrics import roc_curve, auc\n",
        "from distutils.version import LooseVersion as Version\n",
        "from scipy import __version__ as scipy_version\n",
        "\n",
        "if scipy_version >= Version('1.4.1'):\n",
        "    from numpy import interp\n",
        "else:\n",
        "    from scipy import interp\n",
        "\n",
        "pipe_lr = make_pipeline(StandardScaler(),\n",
        "                        PCA(n_components=2),\n",
        "                        LogisticRegression(penalty='l2', \n",
        "                                           random_state=1,\n",
        "                                           C=100.0))\n",
        "\n",
        "X_train2 = X_train[:, [4, 14]]\n",
        "    \n",
        "cv = list(StratifiedKFold(n_splits=3).split(X_train, y_train))\n",
        "\n",
        "fig = plt.figure(figsize=(7, 5))\n",
        "\n",
        "mean_tpr = 0.0\n",
        "mean_fpr = np.linspace(0, 1, 100)\n",
        "\n",
        "for i, (train, test) in enumerate(cv):\n",
        "  probas = pipe_lr.fit(\n",
        "      X_train2[train],\n",
        "      y_train[train]\n",
        "  ).predict_proba(X_train2[test])\n",
        "\n",
        "  fpr, tpr, thresholds = roc_curve(\n",
        "      y_train[test],\n",
        "      probas[:, 1],\n",
        "      pos_label=1\n",
        "  )\n",
        "\n",
        "  mean_tpr += interp(mean_fpr, fpr, tpr)\n",
        "  mean_tpr[0] = 0.0\n",
        "  roc_auc = auc(fpr, tpr)\n",
        "  plt.plot(\n",
        "      fpr, tpr, label=f\"ROC fold {i+1} (area = {roc_auc:.2f})\"\n",
        "  )\n",
        "\n",
        "plt.plot(\n",
        "    [0, 1],\n",
        "    [0, 1],\n",
        "    linestyle='--',\n",
        "    color=(.6, .6, .6),\n",
        "    label='Random guessing'\n",
        ")\n",
        "\n",
        "mean_tpr /= len(cv)\n",
        "mean_tpr[-1] = 1.\n",
        "mean_auc = auc (mean_fpr, mean_tpr)\n",
        "plt.plot(mean_fpr, mean_tpr, 'k--',\n",
        "         label=f\"Mean ROC (area = {mean_auc:.2f})\", lw=2)\n",
        "plt.plot(\n",
        "    [0, 0, 1],\n",
        "    [0, 1, 1],\n",
        "    linestyle=':',\n",
        "    color='black',\n",
        "    label=\"Perfect performance\"\n",
        ")\n",
        "\n",
        "plt.xlim([-0.05, 1.05])\n",
        "plt.ylim([-0.05, 1.05])\n",
        "plt.xlabel(\"False positive rate\")\n",
        "plt.ylabel(\"True positive rate\")\n",
        "plt.legend(loc=\"lower right\")\n",
        "\n",
        "plt.tight_layout()\n",
        "plt.show()"
      ],
      "metadata": {
        "id": "1E3navBHflBw",
        "colab": {
          "base_uri": "https://localhost:8080/",
          "height": 369
        },
        "outputId": "a2eb530c-d359-43f2-f7bb-9915c5b2047e"
      },
      "execution_count": 43,
      "outputs": [
        {
          "output_type": "display_data",
          "data": {
            "text/plain": [
              "<Figure size 504x360 with 1 Axes>"
            ],
            "image/png": "[encoded data removed]"
          },
          "metadata": {
            "needs_background": "light"
          }
        }
      ]
    },
    {
      "cell_type": "code",
      "source": [
        "from sklearn.metrics import RocCurveDisplay\n",
        "\n",
        "fig, ax = plt.subplots(figsize=(7, 5))\n",
        "\n",
        "mean_tpr = 0.0\n",
        "mean_fpr = np.linspace(0, 1, 100)\n",
        "\n",
        "for i, (train, test) in enumerate(cv):\n",
        "  pipe_lr.fit(X_train2[train], y_train[train])\n",
        "  roc_disp = RocCurveDisplay.from_estimator(pipe_lr,\n",
        "                                            X_train2[test], y_train[test],\n",
        "                                            name=f\"Fold {i}\", ax=ax)\n",
        "  mean_tpr += interp(mean_fpr, roc_disp.fpr, roc_disp.tpr)\n",
        "  mean_tpr[0] = .0\n",
        "\n",
        "plt.plot(\n",
        "    [0,1],\n",
        "    [0,1],\n",
        "    linestyle='--',\n",
        "    color=(.6, .6, .6),\n",
        "    label='Random guessing'\n",
        ")\n",
        "mean_tpr /= len(cv)\n",
        "mean_tpr[-1] = 1.0\n",
        "mean_auc = auc(mean_fpr, mean_tpr)\n",
        "plt.plot(mean_fpr, mean_tpr, 'k--',\n",
        "         label=f\"Mean ROC (area = {mean_auc:.2f})\", lw=2)\n",
        "\n",
        "plt.plot(\n",
        "    [0,0,1],\n",
        "    [0,1,1],\n",
        "    linestyle=':', color=\"black\",\n",
        "    label=\"Perfect performance\"\n",
        ")\n",
        "\n",
        "plt.xlim([-0.05, 1.05])\n",
        "plt.ylim([-0.05, 1.05])\n",
        "plt.xlabel(\"False positive rate\")\n",
        "plt.ylabel(\"True positive rate\")\n",
        "plt.legend(loc=\"lower right\")\n",
        "plt.show()"
      ],
      "metadata": {
        "colab": {
          "base_uri": "https://localhost:8080/",
          "height": 334
        },
        "id": "DtvnfO4WtXJ4",
        "outputId": "180c160f-4b3c-4277-efe9-f6383952d6ae"
      },
      "execution_count": 44,
      "outputs": [
        {
          "output_type": "display_data",
          "data": {
            "text/plain": [
              "<Figure size 504x360 with 1 Axes>"
            ],
            "image/png": "[encoded data removed]"
          },
          "metadata": {
            "needs_background": "light"
          }
        }
      ]
    },
    {
      "cell_type": "code",
      "source": [
        "from sklearn.metrics import PrecisionRecallDisplay\n",
        "\n",
        "fig, ax = plt.subplots(figsize=(7,5))\n",
        "\n",
        "mean_precision = 0.0\n",
        "mean_recall = np.linspace(0, 1, 100)\n",
        "\n",
        "for i, (train, test) in enumerate(cv):\n",
        "  pipe_lr.fit(X_train2[train], y_train[train])\n",
        "  pr_disp = PrecisionRecallDisplay.from_estimator(\n",
        "      pipe_lr, X_train2[test], y_train[test],\n",
        "      name=f\"Fold {i}\", ax=ax\n",
        "  )\n",
        "  mean_precision += interp(mean_recall, pr_disp.recall[::-1],\n",
        "                           pr_disp.precision[::-1])\n",
        "\n",
        "plt.plot([0,1], [0,1],\n",
        "         linestyle=\"--\", color=(.6, .6, .6),\n",
        "         label=\"Random guessing\")\n",
        "\n",
        "mean_precision /= len(cv)\n",
        "mean_auc = auc(mean_recall, mean_precision)\n",
        "plt.plot(mean_recall, mean_precision, 'k--',\n",
        "         label=f\"Mean ROC (area = {mean_auc:.2f})\", lw=2)\n",
        "plt.plot([0,1,1], [1,1,0],\n",
        "         linestyle=\":\", color=\"black\",\n",
        "         label=\"Perfect performance\")\n",
        "\n",
        "plt.xlim([-0.05, 1.05])\n",
        "plt.ylim([-0.05, 1.05])\n",
        "plt.xlabel(\"Recall\")\n",
        "plt.ylabel(\"Precision\")\n",
        "plt.legend(loc=\"lower left\")\n",
        "plt.show()"
      ],
      "metadata": {
        "colab": {
          "base_uri": "https://localhost:8080/",
          "height": 334
        },
        "id": "Zh26JmKQw1tg",
        "outputId": "0a18458e-24d2-46be-fe97-0637483d46bc"
      },
      "execution_count": 45,
      "outputs": [
        {
          "output_type": "display_data",
          "data": {
            "text/plain": [
              "<Figure size 504x360 with 1 Axes>"
            ],
            "image/png": "[encoded data removed]"
          },
          "metadata": {
            "needs_background": "light"
          }
        }
      ]
    },
    {
      "cell_type": "code",
      "source": [
        "pre_scorer = make_scorer(\n",
        "    score_func=precision_score,\n",
        "    pos_label=1,\n",
        "    greater_is_better=True,\n",
        "    average='micro'\n",
        ")\n",
        "\n",
        "pre_scorer"
      ],
      "metadata": {
        "colab": {
          "base_uri": "https://localhost:8080/"
        },
        "id": "eS90zlvI2ORx",
        "outputId": "34f2bc89-5d65-49eb-a213-3271bee13f18"
      },
      "execution_count": 46,
      "outputs": [
        {
          "output_type": "execute_result",
          "data": {
            "text/plain": [
              "make_scorer(precision_score, pos_label=1, average=micro)"
            ]
          },
          "metadata": {},
          "execution_count": 46
        }
      ]
    },
    {
      "cell_type": "code",
      "source": [
        "X_imb = np.vstack((X[y==0], X[y==1][:40]))\n",
        "y_imb = np.hstack((y[y==0], y[y==1][:40]))"
      ],
      "metadata": {
        "id": "rv0_JdCj2nfg"
      },
      "execution_count": 47,
      "outputs": []
    },
    {
      "cell_type": "code",
      "source": [
        "y_pred = np.zeros(y_imb.shape[0])\n",
        "np.mean(y_pred==y_imb) * 100"
      ],
      "metadata": {
        "colab": {
          "base_uri": "https://localhost:8080/"
        },
        "id": "6uQWvblf338y",
        "outputId": "6a5601bc-a920-459e-c20d-39c18858bc89"
      },
      "execution_count": 48,
      "outputs": [
        {
          "output_type": "execute_result",
          "data": {
            "text/plain": [
              "89.92443324937027"
            ]
          },
          "metadata": {},
          "execution_count": 48
        }
      ]
    },
    {
      "cell_type": "code",
      "source": [
        "from sklearn.utils import resample\n",
        "\n",
        "print(f\"샘플링하기 전 클래스 1의 샘플 갯수: {X_imb[y_imb==1].shape[0]}\")\n",
        "\n",
        "X_upsampled, y_upsampled = resample(\n",
        "    X_imb[y_imb==1],\n",
        "    y_imb[y_imb==1],\n",
        "    replace=True,\n",
        "    n_samples=X_imb[y_imb==0].shape[0],\n",
        "    random_state=123\n",
        ")\n",
        "\n",
        "print(f\"샘플링한 후 클래스 1의 샘플 갯수: {X_upsampled.shape[0]}\")"
      ],
      "metadata": {
        "colab": {
          "base_uri": "https://localhost:8080/"
        },
        "id": "7BR8QcbB39kU",
        "outputId": "e820f73f-bdfc-4e62-efb6-e674607d8fb9"
      },
      "execution_count": 49,
      "outputs": [
        {
          "output_type": "stream",
          "name": "stdout",
          "text": [
            "샘플링하기 전 클래스 1의 샘플 갯수: 40\n",
            "샘플링한 후 클래스 1의 샘플 갯수: 357\n"
          ]
        }
      ]
    },
    {
      "cell_type": "code",
      "source": [
        "X_bal = np.vstack((X[y==0], X_upsampled))\n",
        "y_bal = np.hstack((y[y==0], y_upsampled))"
      ],
      "metadata": {
        "id": "-apONbRm5uW8"
      },
      "execution_count": 50,
      "outputs": []
    },
    {
      "cell_type": "code",
      "source": [
        "y_pred = np.zeros(y_bal.shape[0])\n",
        "np.mean(y_pred == y_bal) * 100"
      ],
      "metadata": {
        "colab": {
          "base_uri": "https://localhost:8080/"
        },
        "id": "_HTRKU1D52aD",
        "outputId": "fff8a27a-6671-4934-8d4c-9b1c7c9d7c72"
      },
      "execution_count": 51,
      "outputs": [
        {
          "output_type": "execute_result",
          "data": {
            "text/plain": [
              "50.0"
            ]
          },
          "metadata": {},
          "execution_count": 51
        }
      ]
    },
    {
      "cell_type": "code",
      "source": [],
      "metadata": {
        "id": "sHX2G7Gg57gz"
      },
      "execution_count": null,
      "outputs": []
    }
  ]
}